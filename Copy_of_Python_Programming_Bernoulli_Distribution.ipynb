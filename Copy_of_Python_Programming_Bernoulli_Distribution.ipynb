{
  "nbformat": 4,
  "nbformat_minor": 0,
  "metadata": {
    "colab": {
      "name": "Copy of Python Programming: Bernoulli Distribution",
      "provenance": [],
      "collapsed_sections": [
        "6QCv76lXcqNL",
        "6efjYE3FVAT8",
        "gehY6OctU53T"
      ],
      "toc_visible": true,
      "include_colab_link": true
    },
    "kernelspec": {
      "name": "python3",
      "display_name": "Python 3"
    }
  },
  "cells": [
    {
      "cell_type": "markdown",
      "metadata": {
        "id": "view-in-github",
        "colab_type": "text"
      },
      "source": [
        "<a href=\"https://colab.research.google.com/github/hazrakeruboO/DS-Colabs/blob/main/Copy_of_Python_Programming_Bernoulli_Distribution.ipynb\" target=\"_parent\"><img src=\"https://colab.research.google.com/assets/colab-badge.svg\" alt=\"Open In Colab\"/></a>"
      ]
    },
    {
      "cell_type": "markdown",
      "metadata": {
        "id": "Smx00_nCqkDP"
      },
      "source": [
        "<font color=\"green\">*To start working on this notebook, or any other notebook that we will use in the Moringa Data Science Course, we will need to save our own copy of it. We can do this by clicking File > Save a Copy in Drive. We will then be able to make edits to our own copy of this notebook.*</font>"
      ]
    },
    {
      "cell_type": "markdown",
      "metadata": {
        "id": "r0XKiS-KU9tp"
      },
      "source": [
        "# Python Programming: Bernoulli Distribution"
      ]
    },
    {
      "cell_type": "markdown",
      "metadata": {
        "id": "6QCv76lXcqNL"
      },
      "source": [
        "## Loading Our Libraries"
      ]
    },
    {
      "cell_type": "code",
      "metadata": {
        "id": "zQ_tAs-vcr_2"
      },
      "source": [
        "# Importing binom from stats module in scipy\n",
        "# \n",
        "from scipy.stats import binom"
      ],
      "execution_count": null,
      "outputs": []
    },
    {
      "cell_type": "markdown",
      "metadata": {
        "id": "6efjYE3FVAT8"
      },
      "source": [
        "## Examples"
      ]
    },
    {
      "cell_type": "code",
      "metadata": {
        "id": "G7Iv8d5MU45f",
        "colab": {
          "base_uri": "https://localhost:8080/"
        },
        "outputId": "d4f93e4c-d00e-4cc3-a3e0-a5ace39132af"
      },
      "source": [
        "# Example 1\n",
        "# ---\n",
        "# Question: 10 coins are tossed simultaneously where the probability of getting head for each coin is 0.6. \n",
        "# 1. Find the probability of getting 1 head. \n",
        "# 2. Find the probability of not getting a head. \n",
        "# 3. Find the probability of getting 4 heads.\n",
        "# ---\n",
        "# \n",
        "\n",
        "# 1. Probability of getting 1 head\n",
        "prob_head = 0.6\n",
        "print(\"Probability of getting 1 head: \", prob_head)\n",
        "\n",
        "# 2. Probability of not getting a head\n",
        "print(\"Probability of not getting head: \", 1 - prob_head)\n",
        "\n",
        "\n",
        "# 3. Find the probability of getting 4 heads.\n",
        "prob_four_heads = binom.pmf(4, 10, 0.6)\n",
        "print(\"Probability of not getting head: \", prob_four_heads)"
      ],
      "execution_count": null,
      "outputs": [
        {
          "output_type": "stream",
          "name": "stdout",
          "text": [
            "Probability of getting 1 head:  0.6\n",
            "Probability of not getting head:  0.4\n",
            "Probability of not getting head:  0.11147673600000013\n"
          ]
        }
      ]
    },
    {
      "cell_type": "markdown",
      "metadata": {
        "id": "gehY6OctU53T"
      },
      "source": [
        "## <font color=\"green\">Challenges</font>"
      ]
    },
    {
      "cell_type": "code",
      "metadata": {
        "id": "ogOyDHOLVDe9",
        "colab": {
          "base_uri": "https://localhost:8080/"
        },
        "outputId": "13f54247-7b5a-4182-b9d2-6eb8a9a5623f"
      },
      "source": [
        "# Challenge 1 \n",
        "# ---\n",
        "# Question: If the probability of a bulb being defective is 0.8, then what is the probability of the bulb not being defective.\n",
        "# ---\n",
        "# \n",
        "prob_defect = 0.8\n",
        "print(1 - prob_defect)"
      ],
      "execution_count": null,
      "outputs": [
        {
          "output_type": "stream",
          "name": "stdout",
          "text": [
            "0.19999999999999996\n"
          ]
        }
      ]
    },
    {
      "cell_type": "code",
      "metadata": {
        "id": "6aC_iwk2VJnk",
        "colab": {
          "base_uri": "https://localhost:8080/"
        },
        "outputId": "c1e1b7f5-b28e-4936-e585-d43b4eca813e"
      },
      "source": [
        "# Challenge 2\n",
        "# ---\n",
        "# Question: In an exam, 10 multiple choice questions are asked where only one out of four answers is correct. \n",
        "# 1. Probability of getting an answer correct.\n",
        "# 2. Probability of not getting an answer correct.\n",
        "# 3. Find the probability of getting 5 out of 10 questions correct in an answer sheet.\n",
        "# ---\n",
        "# # 1. Probability of getting an answer correct\n",
        "\n",
        "prob_correct = 1/4\n",
        "print(prob_correct)\n",
        "\n",
        "# 2. Probability of not getting an answer correct\n",
        "print( 1 - prob_correct)\n",
        "\n",
        "\n",
        "#3. Find the probability of getting 5 out of 10 questions correct in an answer sheet\n",
        "five_out_of_ten = binom.pmf(5, 10, 0.25)\n",
        "print(five_out_of_ten)"
      ],
      "execution_count": null,
      "outputs": [
        {
          "output_type": "stream",
          "name": "stdout",
          "text": [
            "0.25\n",
            "0.75\n",
            "0.058399200439453194\n"
          ]
        }
      ]
    },
    {
      "cell_type": "code",
      "metadata": {
        "id": "rEtswHfOVLGB"
      },
      "source": [
        "# Challenge 3\n",
        "# ---\n",
        "# Question: Find the probability, that within 10 flips of a coin tails will result in 3 times.\n",
        "# ---\n",
        "# \n",
        "OUR CODE GOES HERE"
      ],
      "execution_count": null,
      "outputs": []
    },
    {
      "cell_type": "code",
      "metadata": {
        "id": "vpOtsGYBVMhx",
        "colab": {
          "base_uri": "https://localhost:8080/"
        },
        "outputId": "bd9a5e0f-881a-4df5-a10b-ab984cc306fa"
      },
      "source": [
        "# Challenge 4\n",
        "# ---\n",
        "# Question: The chances of a team winning a match is 0.7.  \n",
        "# 1. Probability of winning a match.\n",
        "# 2. Probability of not winning a match.\n",
        "# 3. Probability of winning zero matches.\n",
        "# 4. Find the probability that the team will win at least one match out of three.\n",
        "# ---\n",
        "# # 1. Probability of winning a match.\n",
        "winning = 0.7\n",
        "print(winning)\n",
        "\n",
        "# 2. Probability of not winning a match.\n",
        "print( 1 - winning)\n",
        "\n",
        "#4. Find the probability that the team will win at least one match out of three.\n",
        "one_out_of_three = binom.pmf(1, 3, 0.7)\n",
        "print(one_out_of_three)\n"
      ],
      "execution_count": null,
      "outputs": [
        {
          "output_type": "stream",
          "name": "stdout",
          "text": [
            "0.7\n",
            "0.30000000000000004\n",
            "0.189\n"
          ]
        }
      ]
    },
    {
      "cell_type": "code",
      "metadata": {
        "id": "J6niSM8sVOmr",
        "colab": {
          "base_uri": "https://localhost:8080/"
        },
        "outputId": "a224d588-64ff-4f1e-b175-a0ec120f3664"
      },
      "source": [
        "# Challenge 5\n",
        "# ---\n",
        "# Question: The probability a basketball player makes a free throw is 0.72. \n",
        "# If he shoots 12 free throws in a game, what is the probability he will make exactly 7 of them?\n",
        "# ---\n",
        "# \n",
        "throws = binom.pmf(7, 12, 0.72)\n",
        "print(throws)\n"
      ],
      "execution_count": null,
      "outputs": [
        {
          "output_type": "stream",
          "name": "stdout",
          "text": [
            "0.13672338852695048\n"
          ]
        }
      ]
    },
    {
      "cell_type": "code",
      "metadata": {
        "id": "6dZR0IAdVPp4",
        "colab": {
          "base_uri": "https://localhost:8080/"
        },
        "outputId": "a95589de-d569-4af0-cd8e-ab49a84bb83a"
      },
      "source": [
        "# Challenge 6\n",
        "# ---\n",
        "# Question: A quiz consists of 10 multiple choice questions. Each question has five possible answers. \n",
        "# In order to the quiz, a student must get at least 6 correct. \n",
        "# If a student guesses at each question, what is theprobability that they will pass the quiz?\n",
        "# 1. \n",
        "# ---\n",
        "# \n",
        "multiple_choices = binom.pmf(6, 10, 5/10)\n",
        "print(multiple_choices)\n"
      ],
      "execution_count": null,
      "outputs": [
        {
          "output_type": "stream",
          "name": "stdout",
          "text": [
            "0.20507812500000022\n"
          ]
        }
      ]
    },
    {
      "cell_type": "code",
      "metadata": {
        "id": "KphAbwTMVQ-5",
        "colab": {
          "base_uri": "https://localhost:8080/"
        },
        "outputId": "97854e8d-0f10-4ed2-ac59-2d543f0000c1"
      },
      "source": [
        "# Challenge 7\n",
        "# ---\n",
        "# Question: Calculate the probability of rolling 4 on a dice exactly 5 times in 30 trials.\n",
        "# ---\n",
        "# \n",
        "rolling_dice = binom.pmf(4, 5, 5/30)\n",
        "print(rolling_dice)"
      ],
      "execution_count": null,
      "outputs": [
        {
          "output_type": "stream",
          "name": "stdout",
          "text": [
            "0.0032150205761316843\n"
          ]
        }
      ]
    },
    {
      "cell_type": "code",
      "metadata": {
        "id": "cFww5Av1VSEf",
        "colab": {
          "base_uri": "https://localhost:8080/"
        },
        "outputId": "fe96ac9e-e195-4e87-f857-f0021bf846d0"
      },
      "source": [
        "# Challenge 8\n",
        "# ---\n",
        "# Question:  Suppose that 30% of the restaurants in a certain part of a town are open past 10pm. \n",
        "# If 5 restaurants are randomly selected, what is the probability that;\n",
        "# 1. None or all of the restaurants are open past 10pm?\n",
        "# 2. No more than 3 of the restaurants are open past 10pm?\n",
        "# ---\n",
        "# \n",
        "past_ten_pm = binom.pmf(5, 10, 0.30)\n",
        "print(1-past_ten_pm)\n"
      ],
      "execution_count": null,
      "outputs": [
        {
          "output_type": "stream",
          "name": "stdout",
          "text": [
            "0.8970806547999999\n"
          ]
        }
      ]
    },
    {
      "cell_type": "code",
      "metadata": {
        "id": "6TVElL0QVTY9",
        "colab": {
          "base_uri": "https://localhost:8080/"
        },
        "outputId": "89c2a22d-f161-4add-9d11-5d1a7f5d364a"
      },
      "source": [
        "# Challenge 9\n",
        "# ---\n",
        "# Question: Ten percent of computer parts produced by a certain supplier are defective. \n",
        "# What is the probability that a sample of 10 parts contains more than 3 defective ones?\n",
        "# ---\n",
        "# \n",
        "computer_parts= binom.pmf(3, 10, 0.10)\n",
        "print(computer_parts)\n"
      ],
      "execution_count": null,
      "outputs": [
        {
          "output_type": "stream",
          "name": "stdout",
          "text": [
            "0.05739562800000007\n"
          ]
        }
      ]
    },
    {
      "cell_type": "code",
      "metadata": {
        "id": "hzlMfw76VU9t"
      },
      "source": [
        "# Challenge 10\n",
        "# ---\n",
        "# Question: The probability that a DVD player produced by a company is defective is estimated to be 0.09. \n",
        "# If a sample of 14 DVD players is selected at random, what is the probability that the sample contains\n",
        "# between 2 and 10 defectives inclusive, that is, at least two but no more than 10.\n",
        "# ---\n",
        "# \n",
        "OUR CODE GOES HERE"
      ],
      "execution_count": null,
      "outputs": []
    }
  ]
}