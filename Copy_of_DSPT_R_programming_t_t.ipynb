{
  "nbformat": 4,
  "nbformat_minor": 0,
  "metadata": {
    "colab": {
      "name": "Copy of  DSPT- R_programming_t t.ipynb",
      "provenance": [],
      "include_colab_link": true
    },
    "kernelspec": {
      "name": "ir",
      "display_name": "R"
    },
    "language_info": {
      "name": "R"
    }
  },
  "cells": [
    {
      "cell_type": "markdown",
      "metadata": {
        "id": "view-in-github",
        "colab_type": "text"
      },
      "source": [
        "<a href=\"https://colab.research.google.com/github/hazrakeruboO/DS-Colabs/blob/main/Copy_of_DSPT_R_programming_t_t.ipynb\" target=\"_parent\"><img src=\"https://colab.research.google.com/assets/colab-badge.svg\" alt=\"Open In Colab\"/></a>"
      ]
    },
    {
      "cell_type": "markdown",
      "source": [
        "## How to use R in Colab\n",
        "\n",
        "Go to this URL: https://colab.research.google.com/#create=true&language=r, or this short URL https://colab.to/r\n",
        "\n"
      ],
      "metadata": {
        "id": "tXZS-WMqtalm"
      }
    },
    {
      "cell_type": "markdown",
      "source": [
        ""
      ],
      "metadata": {
        "id": "UgbhuOfRtajj"
      }
    },
    {
      "cell_type": "code",
      "source": [
        "# To check the R version \n",
        "R.version.string"
      ],
      "metadata": {
        "colab": {
          "base_uri": "https://localhost:8080/",
          "height": 34
        },
        "id": "UJ8hcHGjtaMK",
        "outputId": "13c200f7-b226-4c9d-8223-e8c78ac5b721"
      },
      "execution_count": null,
      "outputs": [
        {
          "output_type": "display_data",
          "data": {
            "text/plain": [
              "[1] \"R version 4.1.2 (2021-11-01)\""
            ],
            "text/latex": "'R version 4.1.2 (2021-11-01)'",
            "text/markdown": "'R version 4.1.2 (2021-11-01)'",
            "text/html": [
              "'R version 4.1.2 (2021-11-01)'"
            ]
          },
          "metadata": {}
        }
      ]
    },
    {
      "cell_type": "code",
      "execution_count": null,
      "metadata": {
        "id": "t9--I3rutOCe"
      },
      "outputs": [],
      "source": [
        "# To check installed packages \n",
        "print(installed.packages())"
      ]
    },
    {
      "cell_type": "code",
      "source": [
        "x <- 5 \n",
        "y <- 16"
      ],
      "metadata": {
        "id": "k5rtUM9n3xR0"
      },
      "execution_count": null,
      "outputs": []
    },
    {
      "cell_type": "code",
      "source": [
        "x != y"
      ],
      "metadata": {
        "colab": {
          "base_uri": "https://localhost:8080/",
          "height": 34
        },
        "id": "lTemN--F3zDl",
        "outputId": "6715cc99-9c1c-43be-922d-2a1690000b1f"
      },
      "execution_count": null,
      "outputs": [
        {
          "output_type": "display_data",
          "data": {
            "text/plain": [
              "[1] TRUE"
            ],
            "text/latex": "TRUE",
            "text/markdown": "TRUE",
            "text/html": [
              "TRUE"
            ]
          },
          "metadata": {}
        }
      ]
    },
    {
      "cell_type": "code",
      "source": [
        "x > y"
      ],
      "metadata": {
        "colab": {
          "base_uri": "https://localhost:8080/",
          "height": 34
        },
        "id": "nDR47jSkMRz-",
        "outputId": "ea76fa8a-0857-4efb-f55f-6f3331f24942"
      },
      "execution_count": null,
      "outputs": [
        {
          "output_type": "display_data",
          "data": {
            "text/plain": [
              "[1] FALSE"
            ],
            "text/latex": "FALSE",
            "text/markdown": "FALSE",
            "text/html": [
              "FALSE"
            ]
          },
          "metadata": {}
        }
      ]
    },
    {
      "cell_type": "markdown",
      "source": [
        "## List"
      ],
      "metadata": {
        "id": "eFW_Irac5vqa"
      }
    },
    {
      "cell_type": "code",
      "source": [
        "# Create a list containing a vector, a matrix and a list.\n",
        "list_data <- list(c(\"Jan\",\"Feb\",\"Mar\"), matrix(c(3,9,5,1,-2,8), nrow = 2),\n",
        "   list(\"green\",12.3))\n",
        "\n",
        "# Give names to the elements in the list.\n",
        "names(list_data) <- c(\"1st Quarter\", \"A_Matrix\", \"A Inner list\")\n",
        "\n",
        "# Show the list.\n",
        "print(list_data)"
      ],
      "metadata": {
        "colab": {
          "base_uri": "https://localhost:8080/"
        },
        "id": "wIfnVxDC5t5k",
        "outputId": "2c712f80-31f0-426f-aa54-b53fb4fe192b"
      },
      "execution_count": null,
      "outputs": [
        {
          "output_type": "stream",
          "name": "stdout",
          "text": [
            "$`1st Quarter`\n",
            "[1] \"Jan\" \"Feb\" \"Mar\"\n",
            "\n",
            "$A_Matrix\n",
            "     [,1] [,2] [,3]\n",
            "[1,]    3    5   -2\n",
            "[2,]    9    1    8\n",
            "\n",
            "$`A Inner list`\n",
            "$`A Inner list`[[1]]\n",
            "[1] \"green\"\n",
            "\n",
            "$`A Inner list`[[2]]\n",
            "[1] 12.3\n",
            "\n",
            "\n"
          ]
        }
      ]
    },
    {
      "cell_type": "markdown",
      "source": [
        "# Vector"
      ],
      "metadata": {
        "id": "7iQUeg046Ye4"
      }
    },
    {
      "cell_type": "code",
      "source": [
        "x <- c(1, 5, 4, 9, 0)\n",
        "typeof(x)"
      ],
      "metadata": {
        "colab": {
          "base_uri": "https://localhost:8080/",
          "height": 34
        },
        "id": "WomYU3rx6bkP",
        "outputId": "a4cd4910-aba9-415a-904c-a3ccc86a6c28"
      },
      "execution_count": null,
      "outputs": [
        {
          "output_type": "display_data",
          "data": {
            "text/plain": [
              "[1] \"double\""
            ],
            "text/latex": "'double'",
            "text/markdown": "'double'",
            "text/html": [
              "'double'"
            ]
          },
          "metadata": {}
        }
      ]
    },
    {
      "cell_type": "markdown",
      "source": [
        "Example 1: Creating a vector using : operator"
      ],
      "metadata": {
        "id": "bjoerGAx88cc"
      }
    },
    {
      "cell_type": "code",
      "source": [
        "x <- 1:7; x\n",
        "\n",
        "y <- 2:-2; y\n"
      ],
      "metadata": {
        "colab": {
          "base_uri": "https://localhost:8080/",
          "height": 52
        },
        "id": "ZR9LipK_8_6g",
        "outputId": "9d8c7049-9245-44e6-cdcf-abc36d0ad8db"
      },
      "execution_count": null,
      "outputs": [
        {
          "output_type": "display_data",
          "data": {
            "text/plain": [
              "[1] 1 2 3 4 5 6 7"
            ],
            "text/latex": "\\begin{enumerate*}\n\\item 1\n\\item 2\n\\item 3\n\\item 4\n\\item 5\n\\item 6\n\\item 7\n\\end{enumerate*}\n",
            "text/markdown": "1. 1\n2. 2\n3. 3\n4. 4\n5. 5\n6. 6\n7. 7\n\n\n",
            "text/html": [
              "<style>\n",
              ".list-inline {list-style: none; margin:0; padding: 0}\n",
              ".list-inline>li {display: inline-block}\n",
              ".list-inline>li:not(:last-child)::after {content: \"\\00b7\"; padding: 0 .5ex}\n",
              "</style>\n",
              "<ol class=list-inline><li>1</li><li>2</li><li>3</li><li>4</li><li>5</li><li>6</li><li>7</li></ol>\n"
            ]
          },
          "metadata": {}
        },
        {
          "output_type": "display_data",
          "data": {
            "text/plain": [
              "[1]  2  1  0 -1 -2"
            ],
            "text/latex": "\\begin{enumerate*}\n\\item 2\n\\item 1\n\\item 0\n\\item -1\n\\item -2\n\\end{enumerate*}\n",
            "text/markdown": "1. 2\n2. 1\n3. 0\n4. -1\n5. -2\n\n\n",
            "text/html": [
              "<style>\n",
              ".list-inline {list-style: none; margin:0; padding: 0}\n",
              ".list-inline>li {display: inline-block}\n",
              ".list-inline>li:not(:last-child)::after {content: \"\\00b7\"; padding: 0 .5ex}\n",
              "</style>\n",
              "<ol class=list-inline><li>2</li><li>1</li><li>0</li><li>-1</li><li>-2</li></ol>\n"
            ]
          },
          "metadata": {}
        }
      ]
    },
    {
      "cell_type": "markdown",
      "source": [
        "Example 2: Creating a vector using seq() function"
      ],
      "metadata": {
        "id": "isXIqE4-9UXv"
      }
    },
    {
      "cell_type": "code",
      "source": [
        "seq(1, 3, by=0.4)          # specify step size\n",
        "\n",
        "seq(1, 7, length.out=3) "
      ],
      "metadata": {
        "colab": {
          "base_uri": "https://localhost:8080/",
          "height": 52
        },
        "id": "HjHq8oiU9Omm",
        "outputId": "2fe340a7-b8f6-431d-a092-c0059f7472b0"
      },
      "execution_count": null,
      "outputs": [
        {
          "output_type": "display_data",
          "data": {
            "text/plain": [
              "[1] 1.0 1.4 1.8 2.2 2.6 3.0"
            ],
            "text/latex": "\\begin{enumerate*}\n\\item 1\n\\item 1.4\n\\item 1.8\n\\item 2.2\n\\item 2.6\n\\item 3\n\\end{enumerate*}\n",
            "text/markdown": "1. 1\n2. 1.4\n3. 1.8\n4. 2.2\n5. 2.6\n6. 3\n\n\n",
            "text/html": [
              "<style>\n",
              ".list-inline {list-style: none; margin:0; padding: 0}\n",
              ".list-inline>li {display: inline-block}\n",
              ".list-inline>li:not(:last-child)::after {content: \"\\00b7\"; padding: 0 .5ex}\n",
              "</style>\n",
              "<ol class=list-inline><li>1</li><li>1.4</li><li>1.8</li><li>2.2</li><li>2.6</li><li>3</li></ol>\n"
            ]
          },
          "metadata": {}
        },
        {
          "output_type": "display_data",
          "data": {
            "text/plain": [
              "[1] 1 4 7"
            ],
            "text/latex": "\\begin{enumerate*}\n\\item 1\n\\item 4\n\\item 7\n\\end{enumerate*}\n",
            "text/markdown": "1. 1\n2. 4\n3. 7\n\n\n",
            "text/html": [
              "<style>\n",
              ".list-inline {list-style: none; margin:0; padding: 0}\n",
              ".list-inline>li {display: inline-block}\n",
              ".list-inline>li:not(:last-child)::after {content: \"\\00b7\"; padding: 0 .5ex}\n",
              "</style>\n",
              "<ol class=list-inline><li>1</li><li>4</li><li>7</li></ol>\n"
            ]
          },
          "metadata": {}
        }
      ]
    },
    {
      "cell_type": "markdown",
      "source": [
        "Using integer vector as index"
      ],
      "metadata": {
        "id": "hrH6jPGo96B3"
      }
    },
    {
      "cell_type": "code",
      "source": [
        "y[2] # the the 4th index on y is -1"
      ],
      "metadata": {
        "colab": {
          "base_uri": "https://localhost:8080/",
          "height": 34
        },
        "id": "w9QqGjnD97k0",
        "outputId": "68751f30-a56e-4a83-bd05-77f3a6d204dc"
      },
      "execution_count": null,
      "outputs": [
        {
          "output_type": "display_data",
          "data": {
            "text/plain": [
              "[1] 1"
            ],
            "text/latex": "1",
            "text/markdown": "1",
            "text/html": [
              "1"
            ]
          },
          "metadata": {}
        }
      ]
    },
    {
      "cell_type": "markdown",
      "source": [
        "Using logical vector as index"
      ],
      "metadata": {
        "id": "eCzKvw9--icO"
      }
    },
    {
      "cell_type": "code",
      "source": [
        "y <- 2:-2; y\n",
        "y[c(TRUE, FALSE, TRUE, TRUE)]"
      ],
      "metadata": {
        "colab": {
          "base_uri": "https://localhost:8080/",
          "height": 52
        },
        "id": "9tt61A-i-dnY",
        "outputId": "bda8270b-1be8-45d0-e4df-70f04784d85e"
      },
      "execution_count": null,
      "outputs": [
        {
          "output_type": "display_data",
          "data": {
            "text/plain": [
              "[1]  2  1  0 -1 -2"
            ],
            "text/latex": "\\begin{enumerate*}\n\\item 2\n\\item 1\n\\item 0\n\\item -1\n\\item -2\n\\end{enumerate*}\n",
            "text/markdown": "1. 2\n2. 1\n3. 0\n4. -1\n5. -2\n\n\n",
            "text/html": [
              "<style>\n",
              ".list-inline {list-style: none; margin:0; padding: 0}\n",
              ".list-inline>li {display: inline-block}\n",
              ".list-inline>li:not(:last-child)::after {content: \"\\00b7\"; padding: 0 .5ex}\n",
              "</style>\n",
              "<ol class=list-inline><li>2</li><li>1</li><li>0</li><li>-1</li><li>-2</li></ol>\n"
            ]
          },
          "metadata": {}
        },
        {
          "output_type": "display_data",
          "data": {
            "text/plain": [
              "[1]  2  0 -1 -2"
            ],
            "text/latex": "\\begin{enumerate*}\n\\item 2\n\\item 0\n\\item -1\n\\item -2\n\\end{enumerate*}\n",
            "text/markdown": "1. 2\n2. 0\n3. -1\n4. -2\n\n\n",
            "text/html": [
              "<style>\n",
              ".list-inline {list-style: none; margin:0; padding: 0}\n",
              ".list-inline>li {display: inline-block}\n",
              ".list-inline>li:not(:last-child)::after {content: \"\\00b7\"; padding: 0 .5ex}\n",
              "</style>\n",
              "<ol class=list-inline><li>2</li><li>0</li><li>-1</li><li>-2</li></ol>\n"
            ]
          },
          "metadata": {}
        }
      ]
    },
    {
      "cell_type": "markdown",
      "source": [
        "# Matrices"
      ],
      "metadata": {
        "id": "vn0SmH52B11z"
      }
    },
    {
      "cell_type": "code",
      "source": [
        "# R program to create a matrix\n",
        "\n",
        "A = matrix(\n",
        "\t\n",
        "# Taking sequence of elements\n",
        "c(1, 2, 3, 4, 5, 6, 7, 8, 9),\n",
        "\n",
        "# No of rows\n",
        "nrow = 3,\n",
        "\n",
        "# No of columns\n",
        "ncol = 3,\t\t\n",
        "\n",
        "# By default matrices are in column-wise order\n",
        "# So this parameter decides how to arrange the matrix\n",
        "byrow = TRUE\t\t\n",
        ")\n",
        "\n",
        "# Naming rows\n",
        "rownames(A) = c(\"a\", \"b\", \"c\")\n",
        "\n",
        "# Naming columns\n",
        "colnames(A) = c(\"c\", \"d\", \"e\")\n",
        "\n",
        "cat(\"The 3x3 matrix:\\n\")\n",
        "print(A)\n"
      ],
      "metadata": {
        "colab": {
          "base_uri": "https://localhost:8080/"
        },
        "id": "dnk1TFjR-2Vx",
        "outputId": "15cd7739-4da3-454a-fd1d-fc4ff1445b8c"
      },
      "execution_count": null,
      "outputs": [
        {
          "output_type": "stream",
          "name": "stdout",
          "text": [
            "The 3x3 matrix:\n",
            "  c d e\n",
            "a 1 2 3\n",
            "b 4 5 6\n",
            "c 7 8 9\n"
          ]
        }
      ]
    },
    {
      "cell_type": "markdown",
      "source": [
        "# Factors, Data Frames, Data Tables and Tibbles"
      ],
      "metadata": {
        "id": "EfSt4dQnHCQI"
      }
    },
    {
      "cell_type": "markdown",
      "source": [
        "# Factors"
      ],
      "metadata": {
        "id": "LBBTDuzEWdy9"
      }
    },
    {
      "cell_type": "code",
      "source": [
        "# Creating factor from a vector\n",
        "data <- c(\"East\",\"West\",\"East\",\"North\",\"North\",\"East\",\"West\",\"West\",\"West\",\"East\",\"North\")\n",
        "\n",
        "# Now, check whether this is a factor\n",
        "is.factor(data)"
      ],
      "metadata": {
        "colab": {
          "base_uri": "https://localhost:8080/",
          "height": 34
        },
        "id": "s5Jhd4VmHB9j",
        "outputId": "df0766fa-a735-451d-a7ac-cf0ada88eba1"
      },
      "execution_count": null,
      "outputs": [
        {
          "output_type": "display_data",
          "data": {
            "text/plain": [
              "[1] FALSE"
            ],
            "text/latex": "FALSE",
            "text/markdown": "FALSE",
            "text/html": [
              "FALSE"
            ]
          },
          "metadata": {}
        }
      ]
    },
    {
      "cell_type": "code",
      "source": [
        "factor(data)"
      ],
      "metadata": {
        "colab": {
          "base_uri": "https://localhost:8080/",
          "height": 52
        },
        "id": "q7ZRGyWZXE4c",
        "outputId": "3756d0b9-b3e2-4662-d346-d2f8042087bf"
      },
      "execution_count": null,
      "outputs": [
        {
          "output_type": "display_data",
          "data": {
            "text/plain": [
              " [1] East  West  East  North North East  West  West  West  East  North\n",
              "Levels: East North West"
            ],
            "text/latex": "\\begin{enumerate*}\n\\item East\n\\item West\n\\item East\n\\item North\n\\item North\n\\item East\n\\item West\n\\item West\n\\item West\n\\item East\n\\item North\n\\end{enumerate*}\n\n\\emph{Levels}: \\begin{enumerate*}\n\\item 'East'\n\\item 'North'\n\\item 'West'\n\\end{enumerate*}\n",
            "text/markdown": "1. East\n2. West\n3. East\n4. North\n5. North\n6. East\n7. West\n8. West\n9. West\n10. East\n11. North\n\n\n\n**Levels**: 1. 'East'\n2. 'North'\n3. 'West'\n\n\n",
            "text/html": [
              "<style>\n",
              ".list-inline {list-style: none; margin:0; padding: 0}\n",
              ".list-inline>li {display: inline-block}\n",
              ".list-inline>li:not(:last-child)::after {content: \"\\00b7\"; padding: 0 .5ex}\n",
              "</style>\n",
              "<ol class=list-inline><li>East</li><li>West</li><li>East</li><li>North</li><li>North</li><li>East</li><li>West</li><li>West</li><li>West</li><li>East</li><li>North</li></ol>\n",
              "\n",
              "<details>\n",
              "\t<summary style=display:list-item;cursor:pointer>\n",
              "\t\t<strong>Levels</strong>:\n",
              "\t</summary>\n",
              "\t<style>\n",
              "\t.list-inline {list-style: none; margin:0; padding: 0}\n",
              "\t.list-inline>li {display: inline-block}\n",
              "\t.list-inline>li:not(:last-child)::after {content: \"\\00b7\"; padding: 0 .5ex}\n",
              "\t</style>\n",
              "\t<ol class=list-inline><li>'East'</li><li>'North'</li><li>'West'</li></ol>\n",
              "</details>"
            ]
          },
          "metadata": {}
        }
      ]
    },
    {
      "cell_type": "code",
      "source": [
        "sex <- factor(c(\"male\", \"female\", \"female\", \"male\",\"Other\"))\n"
      ],
      "metadata": {
        "id": "1PtFGcb7XJqm"
      },
      "execution_count": null,
      "outputs": []
    },
    {
      "cell_type": "code",
      "source": [
        "sex[3]"
      ],
      "metadata": {
        "colab": {
          "base_uri": "https://localhost:8080/",
          "height": 52
        },
        "id": "luiGg3oDaePN",
        "outputId": "07a8eda9-743a-406b-f1cc-c848b73ac578"
      },
      "execution_count": null,
      "outputs": [
        {
          "output_type": "display_data",
          "data": {
            "text/plain": [
              "[1] female\n",
              "Levels: female male"
            ],
            "text/latex": "female\n\\emph{Levels}: \\begin{enumerate*}\n\\item 'female'\n\\item 'male'\n\\end{enumerate*}\n",
            "text/markdown": "female\n**Levels**: 1. 'female'\n2. 'male'\n\n\n",
            "text/html": [
              "female\n",
              "<details>\n",
              "\t<summary style=display:list-item;cursor:pointer>\n",
              "\t\t<strong>Levels</strong>:\n",
              "\t</summary>\n",
              "\t<style>\n",
              "\t.list-inline {list-style: none; margin:0; padding: 0}\n",
              "\t.list-inline>li {display: inline-block}\n",
              "\t.list-inline>li:not(:last-child)::after {content: \"\\00b7\"; padding: 0 .5ex}\n",
              "\t</style>\n",
              "\t<ol class=list-inline><li>'female'</li><li>'male'</li></ol>\n",
              "</details>"
            ]
          },
          "metadata": {}
        }
      ]
    },
    {
      "cell_type": "code",
      "source": [
        ""
      ],
      "metadata": {
        "id": "ELKDyDN4a_qa"
      },
      "execution_count": null,
      "outputs": []
    },
    {
      "cell_type": "code",
      "source": [
        "#check the number of levels\n",
        "nlevels(sex)"
      ],
      "metadata": {
        "colab": {
          "base_uri": "https://localhost:8080/",
          "height": 34
        },
        "id": "k9WqqR2bamQb",
        "outputId": "da2520b3-c4c4-48d3-86de-e84c81d69100"
      },
      "execution_count": null,
      "outputs": [
        {
          "output_type": "display_data",
          "data": {
            "text/plain": [
              "[1] 3"
            ],
            "text/latex": "3",
            "text/markdown": "3",
            "text/html": [
              "3"
            ]
          },
          "metadata": {}
        }
      ]
    },
    {
      "cell_type": "code",
      "source": [
        "#"
      ],
      "metadata": {
        "id": "oilg5nLha-kF"
      },
      "execution_count": null,
      "outputs": []
    },
    {
      "cell_type": "markdown",
      "source": [
        "# Data Frames\n",
        "\n",
        "\n",
        "\n",
        "A data frame is used for storing data tables. Unlike a matrix in data frame each column can contain different modes of data.\n"
      ],
      "metadata": {
        "id": "TG-brTyvWg4a"
      }
    },
    {
      "cell_type": "code",
      "source": [
        "# Creating a Dataframe \n",
        "BMI <- data.frame( \n",
        "    gender  = c(\"Male\", \"Male\",\"Female\"), \n",
        "    height  = c(152, 171.5, 165), \n",
        "    weight  = c(81,93, 78), \n",
        "    Age     = c(42,38,26)\n",
        ") \n",
        "BMI"
      ],
      "metadata": {
        "colab": {
          "base_uri": "https://localhost:8080/",
          "height": 192
        },
        "id": "GvlIsVm0WQl5",
        "outputId": "474b9509-a4bc-4b88-9e37-366ba88d575e"
      },
      "execution_count": null,
      "outputs": [
        {
          "output_type": "display_data",
          "data": {
            "text/plain": [
              "  gender height weight Age\n",
              "1 Male   152.0  81     42 \n",
              "2 Male   171.5  93     38 \n",
              "3 Female 165.0  78     26 "
            ],
            "text/latex": "A data.frame: 3 × 4\n\\begin{tabular}{llll}\n gender & height & weight & Age\\\\\n <chr> & <dbl> & <dbl> & <dbl>\\\\\n\\hline\n\t Male   & 152.0 & 81 & 42\\\\\n\t Male   & 171.5 & 93 & 38\\\\\n\t Female & 165.0 & 78 & 26\\\\\n\\end{tabular}\n",
            "text/markdown": "\nA data.frame: 3 × 4\n\n| gender &lt;chr&gt; | height &lt;dbl&gt; | weight &lt;dbl&gt; | Age &lt;dbl&gt; |\n|---|---|---|---|\n| Male   | 152.0 | 81 | 42 |\n| Male   | 171.5 | 93 | 38 |\n| Female | 165.0 | 78 | 26 |\n\n",
            "text/html": [
              "<table class=\"dataframe\">\n",
              "<caption>A data.frame: 3 × 4</caption>\n",
              "<thead>\n",
              "\t<tr><th scope=col>gender</th><th scope=col>height</th><th scope=col>weight</th><th scope=col>Age</th></tr>\n",
              "\t<tr><th scope=col>&lt;chr&gt;</th><th scope=col>&lt;dbl&gt;</th><th scope=col>&lt;dbl&gt;</th><th scope=col>&lt;dbl&gt;</th></tr>\n",
              "</thead>\n",
              "<tbody>\n",
              "\t<tr><td>Male  </td><td>152.0</td><td>81</td><td>42</td></tr>\n",
              "\t<tr><td>Male  </td><td>171.5</td><td>93</td><td>38</td></tr>\n",
              "\t<tr><td>Female</td><td>165.0</td><td>78</td><td>26</td></tr>\n",
              "</tbody>\n",
              "</table>\n"
            ]
          },
          "metadata": {}
        }
      ]
    },
    {
      "cell_type": "code",
      "source": [
        "# Selecting specific elements from the dataframe\n",
        "BMI[2:1]"
      ],
      "metadata": {
        "colab": {
          "base_uri": "https://localhost:8080/",
          "height": 192
        },
        "id": "G7vySm76c4RD",
        "outputId": "fcaa002d-accc-4e67-e8d8-53d3fd9e440f"
      },
      "execution_count": null,
      "outputs": [
        {
          "output_type": "display_data",
          "data": {
            "text/plain": [
              "  height gender\n",
              "1 152.0  Male  \n",
              "2 171.5  Male  \n",
              "3 165.0  Female"
            ],
            "text/latex": "A data.frame: 3 × 2\n\\begin{tabular}{ll}\n height & gender\\\\\n <dbl> & <chr>\\\\\n\\hline\n\t 152.0 & Male  \\\\\n\t 171.5 & Male  \\\\\n\t 165.0 & Female\\\\\n\\end{tabular}\n",
            "text/markdown": "\nA data.frame: 3 × 2\n\n| height &lt;dbl&gt; | gender &lt;chr&gt; |\n|---|---|\n| 152.0 | Male   |\n| 171.5 | Male   |\n| 165.0 | Female |\n\n",
            "text/html": [
              "<table class=\"dataframe\">\n",
              "<caption>A data.frame: 3 × 2</caption>\n",
              "<thead>\n",
              "\t<tr><th scope=col>height</th><th scope=col>gender</th></tr>\n",
              "\t<tr><th scope=col>&lt;dbl&gt;</th><th scope=col>&lt;chr&gt;</th></tr>\n",
              "</thead>\n",
              "<tbody>\n",
              "\t<tr><td>152.0</td><td>Male  </td></tr>\n",
              "\t<tr><td>171.5</td><td>Male  </td></tr>\n",
              "\t<tr><td>165.0</td><td>Female</td></tr>\n",
              "</tbody>\n",
              "</table>\n"
            ]
          },
          "metadata": {}
        }
      ]
    },
    {
      "cell_type": "code",
      "source": [
        "BMI[1,]"
      ],
      "metadata": {
        "colab": {
          "base_uri": "https://localhost:8080/",
          "height": 129
        },
        "id": "wMhWl-3sfHmU",
        "outputId": "42ce6c2b-8451-4337-ab1d-c7ae8cbb493e"
      },
      "execution_count": null,
      "outputs": [
        {
          "output_type": "display_data",
          "data": {
            "text/plain": [
              "  gender height weight Age\n",
              "1 Male   152    81     42 "
            ],
            "text/latex": "A data.frame: 1 × 4\n\\begin{tabular}{r|llll}\n  & gender & height & weight & Age\\\\\n  & <chr> & <dbl> & <dbl> & <dbl>\\\\\n\\hline\n\t1 & Male & 152 & 81 & 42\\\\\n\\end{tabular}\n",
            "text/markdown": "\nA data.frame: 1 × 4\n\n| <!--/--> | gender &lt;chr&gt; | height &lt;dbl&gt; | weight &lt;dbl&gt; | Age &lt;dbl&gt; |\n|---|---|---|---|---|\n| 1 | Male | 152 | 81 | 42 |\n\n",
            "text/html": [
              "<table class=\"dataframe\">\n",
              "<caption>A data.frame: 1 × 4</caption>\n",
              "<thead>\n",
              "\t<tr><th></th><th scope=col>gender</th><th scope=col>height</th><th scope=col>weight</th><th scope=col>Age</th></tr>\n",
              "\t<tr><th></th><th scope=col>&lt;chr&gt;</th><th scope=col>&lt;dbl&gt;</th><th scope=col>&lt;dbl&gt;</th><th scope=col>&lt;dbl&gt;</th></tr>\n",
              "</thead>\n",
              "<tbody>\n",
              "\t<tr><th scope=row>1</th><td>Male</td><td>152</td><td>81</td><td>42</td></tr>\n",
              "</tbody>\n",
              "</table>\n"
            ]
          },
          "metadata": {}
        }
      ]
    },
    {
      "cell_type": "code",
      "source": [
        "sorted_by_gender <- BMI[order(BMI$gender),]\n",
        "sorted_by_gender"
      ],
      "metadata": {
        "colab": {
          "base_uri": "https://localhost:8080/",
          "height": 192
        },
        "id": "0Cm7JZalfeWq",
        "outputId": "1f101040-d619-4224-d552-6cecee7e99f4"
      },
      "execution_count": null,
      "outputs": [
        {
          "output_type": "display_data",
          "data": {
            "text/plain": [
              "  gender height weight Age\n",
              "3 Female 165.0  78     26 \n",
              "1 Male   152.0  81     42 \n",
              "2 Male   171.5  93     38 "
            ],
            "text/latex": "A data.frame: 3 × 4\n\\begin{tabular}{r|llll}\n  & gender & height & weight & Age\\\\\n  & <chr> & <dbl> & <dbl> & <dbl>\\\\\n\\hline\n\t3 & Female & 165.0 & 78 & 26\\\\\n\t1 & Male   & 152.0 & 81 & 42\\\\\n\t2 & Male   & 171.5 & 93 & 38\\\\\n\\end{tabular}\n",
            "text/markdown": "\nA data.frame: 3 × 4\n\n| <!--/--> | gender &lt;chr&gt; | height &lt;dbl&gt; | weight &lt;dbl&gt; | Age &lt;dbl&gt; |\n|---|---|---|---|---|\n| 3 | Female | 165.0 | 78 | 26 |\n| 1 | Male   | 152.0 | 81 | 42 |\n| 2 | Male   | 171.5 | 93 | 38 |\n\n",
            "text/html": [
              "<table class=\"dataframe\">\n",
              "<caption>A data.frame: 3 × 4</caption>\n",
              "<thead>\n",
              "\t<tr><th></th><th scope=col>gender</th><th scope=col>height</th><th scope=col>weight</th><th scope=col>Age</th></tr>\n",
              "\t<tr><th></th><th scope=col>&lt;chr&gt;</th><th scope=col>&lt;dbl&gt;</th><th scope=col>&lt;dbl&gt;</th><th scope=col>&lt;dbl&gt;</th></tr>\n",
              "</thead>\n",
              "<tbody>\n",
              "\t<tr><th scope=row>3</th><td>Female</td><td>165.0</td><td>78</td><td>26</td></tr>\n",
              "\t<tr><th scope=row>1</th><td>Male  </td><td>152.0</td><td>81</td><td>42</td></tr>\n",
              "\t<tr><th scope=row>2</th><td>Male  </td><td>171.5</td><td>93</td><td>38</td></tr>\n",
              "</tbody>\n",
              "</table>\n"
            ]
          },
          "metadata": {}
        }
      ]
    },
    {
      "cell_type": "markdown",
      "source": [
        "# Data Tables"
      ],
      "metadata": {
        "id": "cf39oxj0WlW3"
      }
    },
    {
      "cell_type": "code",
      "source": [
        "library(data.table)"
      ],
      "metadata": {
        "id": "mG0XhORCgR6h"
      },
      "execution_count": null,
      "outputs": []
    },
    {
      "cell_type": "code",
      "source": [
        "DT = data.table(\n",
        "  ID = c(\"b\",\"b\",\"b\",\"a\",\"a\",\"c\"),\n",
        "  a = 1:6,\n",
        "  b = 7:12,\n",
        "  c = 13:18\n",
        ")\n",
        "DT"
      ],
      "metadata": {
        "colab": {
          "base_uri": "https://localhost:8080/",
          "height": 286
        },
        "id": "uBHtHwLwgOOi",
        "outputId": "75cda20e-87e3-4b18-d72e-966288e5b8be"
      },
      "execution_count": null,
      "outputs": [
        {
          "output_type": "display_data",
          "data": {
            "text/plain": [
              "  ID a b  c \n",
              "1 b  1  7 13\n",
              "2 b  2  8 14\n",
              "3 b  3  9 15\n",
              "4 a  4 10 16\n",
              "5 a  5 11 17\n",
              "6 c  6 12 18"
            ],
            "text/latex": "A data.table: 6 × 4\n\\begin{tabular}{llll}\n ID & a & b & c\\\\\n <chr> & <int> & <int> & <int>\\\\\n\\hline\n\t b & 1 &  7 & 13\\\\\n\t b & 2 &  8 & 14\\\\\n\t b & 3 &  9 & 15\\\\\n\t a & 4 & 10 & 16\\\\\n\t a & 5 & 11 & 17\\\\\n\t c & 6 & 12 & 18\\\\\n\\end{tabular}\n",
            "text/markdown": "\nA data.table: 6 × 4\n\n| ID &lt;chr&gt; | a &lt;int&gt; | b &lt;int&gt; | c &lt;int&gt; |\n|---|---|---|---|\n| b | 1 |  7 | 13 |\n| b | 2 |  8 | 14 |\n| b | 3 |  9 | 15 |\n| a | 4 | 10 | 16 |\n| a | 5 | 11 | 17 |\n| c | 6 | 12 | 18 |\n\n",
            "text/html": [
              "<table class=\"dataframe\">\n",
              "<caption>A data.table: 6 × 4</caption>\n",
              "<thead>\n",
              "\t<tr><th scope=col>ID</th><th scope=col>a</th><th scope=col>b</th><th scope=col>c</th></tr>\n",
              "\t<tr><th scope=col>&lt;chr&gt;</th><th scope=col>&lt;int&gt;</th><th scope=col>&lt;int&gt;</th><th scope=col>&lt;int&gt;</th></tr>\n",
              "</thead>\n",
              "<tbody>\n",
              "\t<tr><td>b</td><td>1</td><td> 7</td><td>13</td></tr>\n",
              "\t<tr><td>b</td><td>2</td><td> 8</td><td>14</td></tr>\n",
              "\t<tr><td>b</td><td>3</td><td> 9</td><td>15</td></tr>\n",
              "\t<tr><td>a</td><td>4</td><td>10</td><td>16</td></tr>\n",
              "\t<tr><td>a</td><td>5</td><td>11</td><td>17</td></tr>\n",
              "\t<tr><td>c</td><td>6</td><td>12</td><td>18</td></tr>\n",
              "</tbody>\n",
              "</table>\n"
            ]
          },
          "metadata": {}
        }
      ]
    },
    {
      "cell_type": "code",
      "source": [
        ""
      ],
      "metadata": {
        "id": "MOKisut7WQi0"
      },
      "execution_count": null,
      "outputs": []
    },
    {
      "cell_type": "code",
      "source": [
        ""
      ],
      "metadata": {
        "id": "WVLea7XCWQfn"
      },
      "execution_count": null,
      "outputs": []
    },
    {
      "cell_type": "code",
      "source": [
        ""
      ],
      "metadata": {
        "id": "u3vfzVEnWQcU"
      },
      "execution_count": null,
      "outputs": []
    },
    {
      "cell_type": "code",
      "source": [
        ""
      ],
      "metadata": {
        "id": "kp8l13D6WQWp"
      },
      "execution_count": null,
      "outputs": []
    },
    {
      "cell_type": "code",
      "source": [
        ""
      ],
      "metadata": {
        "id": "jzbZ4AtNWQUb"
      },
      "execution_count": null,
      "outputs": []
    },
    {
      "cell_type": "code",
      "source": [
        ""
      ],
      "metadata": {
        "id": "xpbiZ21TWQRc"
      },
      "execution_count": null,
      "outputs": []
    },
    {
      "cell_type": "code",
      "source": [
        ""
      ],
      "metadata": {
        "id": "8pjd3rCUWQOi"
      },
      "execution_count": null,
      "outputs": []
    }
  ]
}