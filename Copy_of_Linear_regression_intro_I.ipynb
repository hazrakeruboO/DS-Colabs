{
  "nbformat": 4,
  "nbformat_minor": 0,
  "metadata": {
    "colab": {
      "name": "Copy of Linear regression intro I.ipynb",
      "provenance": [],
      "collapsed_sections": [],
      "include_colab_link": true
    },
    "kernelspec": {
      "name": "python3",
      "display_name": "Python 3"
    }
  },
  "cells": [
    {
      "cell_type": "markdown",
      "metadata": {
        "id": "view-in-github",
        "colab_type": "text"
      },
      "source": [
        "<a href=\"https://colab.research.google.com/github/hazrakeruboO/DS-Colabs/blob/main/Copy_of_Linear_regression_intro_I.ipynb\" target=\"_parent\"><img src=\"https://colab.research.google.com/assets/colab-badge.svg\" alt=\"Open In Colab\"/></a>"
      ]
    },
    {
      "cell_type": "markdown",
      "metadata": {
        "id": "KBZ6gDzJnhsr"
      },
      "source": [
        "# Examples\n",
        "We will now perform our first predictions. Consider [this data set](https://drive.google.com/file/d/13HPgfc4HP9UP-gHM2lutJ7MXSt-dAL1d/view?usp=sharing) which tracks various information about grad school applicants, as well as their percentage chance of admission to grad school.\n",
        "\n",
        "Our aim will be to predict one's chance of getting into grad school. Let's begin by taking a look at the data\n"
      ]
    },
    {
      "cell_type": "code",
      "metadata": {
        "id": "xXWDOqQ5nesd",
        "colab": {
          "base_uri": "https://localhost:8080/"
        },
        "outputId": "4dcb8388-8276-470a-eb80-3d7106c8ab10"
      },
      "source": [
        "import numpy as np\n",
        "import pandas as pd\n",
        "\n",
        "#load the data\n",
        "data = pd.read_csv('/content/uni_admission.csv')\n",
        "print (data)\n",
        "\n",
        "#displaying the dataset\n",
        "data.shape"
      ],
      "execution_count": null,
      "outputs": [
        {
          "output_type": "stream",
          "name": "stdout",
          "text": [
            "     Serial No.  GRE  TOEFL  uni_rating  ...  LOR  CGPA  publications  admit_chance\n",
            "0             1  337    118           4  ...  4.5  9.65             1          0.92\n",
            "1             2  324    107           4  ...  4.5  8.87             1          0.76\n",
            "2             3  316    104           3  ...  3.5  8.00             1          0.72\n",
            "3             4  322    110           3  ...  2.5  8.67             1          0.80\n",
            "4             5  314    103           2  ...  3.0  8.21             0          0.65\n",
            "..          ...  ...    ...         ...  ...  ...   ...           ...           ...\n",
            "495         496  332    108           5  ...  4.0  9.02             1          0.87\n",
            "496         497  337    117           5  ...  5.0  9.87             1          0.96\n",
            "497         498  330    120           5  ...  5.0  9.56             1          0.93\n",
            "498         499  312    103           4  ...  5.0  8.43             0          0.73\n",
            "499         500  327    113           4  ...  4.5  9.04             0          0.84\n",
            "\n",
            "[500 rows x 9 columns]\n"
          ]
        },
        {
          "output_type": "execute_result",
          "data": {
            "text/plain": [
              "(500, 9)"
            ]
          },
          "metadata": {},
          "execution_count": 2
        }
      ]
    },
    {
      "cell_type": "markdown",
      "metadata": {
        "id": "JYrtTrgiqai1"
      },
      "source": [
        "You should see 500 entries, and 9 columns. Let's also get a description of the data"
      ]
    },
    {
      "cell_type": "code",
      "metadata": {
        "id": "IG6jgowUqgY0",
        "colab": {
          "base_uri": "https://localhost:8080/",
          "height": 297
        },
        "outputId": "604e2279-602d-4277-8600-fe5e8b41f480"
      },
      "source": [
        "data.describe()"
      ],
      "execution_count": null,
      "outputs": [
        {
          "output_type": "execute_result",
          "data": {
            "text/html": [
              "<div>\n",
              "<style scoped>\n",
              "    .dataframe tbody tr th:only-of-type {\n",
              "        vertical-align: middle;\n",
              "    }\n",
              "\n",
              "    .dataframe tbody tr th {\n",
              "        vertical-align: top;\n",
              "    }\n",
              "\n",
              "    .dataframe thead th {\n",
              "        text-align: right;\n",
              "    }\n",
              "</style>\n",
              "<table border=\"1\" class=\"dataframe\">\n",
              "  <thead>\n",
              "    <tr style=\"text-align: right;\">\n",
              "      <th></th>\n",
              "      <th>Serial No.</th>\n",
              "      <th>GRE</th>\n",
              "      <th>TOEFL</th>\n",
              "      <th>uni_rating</th>\n",
              "      <th>SOP</th>\n",
              "      <th>LOR</th>\n",
              "      <th>CGPA</th>\n",
              "      <th>publications</th>\n",
              "      <th>admit_chance</th>\n",
              "    </tr>\n",
              "  </thead>\n",
              "  <tbody>\n",
              "    <tr>\n",
              "      <th>count</th>\n",
              "      <td>500.000000</td>\n",
              "      <td>500.000000</td>\n",
              "      <td>500.000000</td>\n",
              "      <td>500.000000</td>\n",
              "      <td>500.000000</td>\n",
              "      <td>500.00000</td>\n",
              "      <td>500.000000</td>\n",
              "      <td>500.000000</td>\n",
              "      <td>500.00000</td>\n",
              "    </tr>\n",
              "    <tr>\n",
              "      <th>mean</th>\n",
              "      <td>250.500000</td>\n",
              "      <td>316.472000</td>\n",
              "      <td>107.192000</td>\n",
              "      <td>3.114000</td>\n",
              "      <td>3.374000</td>\n",
              "      <td>3.48400</td>\n",
              "      <td>8.576440</td>\n",
              "      <td>0.560000</td>\n",
              "      <td>0.72174</td>\n",
              "    </tr>\n",
              "    <tr>\n",
              "      <th>std</th>\n",
              "      <td>144.481833</td>\n",
              "      <td>11.295148</td>\n",
              "      <td>6.081868</td>\n",
              "      <td>1.143512</td>\n",
              "      <td>0.991004</td>\n",
              "      <td>0.92545</td>\n",
              "      <td>0.604813</td>\n",
              "      <td>0.496884</td>\n",
              "      <td>0.14114</td>\n",
              "    </tr>\n",
              "    <tr>\n",
              "      <th>min</th>\n",
              "      <td>1.000000</td>\n",
              "      <td>290.000000</td>\n",
              "      <td>92.000000</td>\n",
              "      <td>1.000000</td>\n",
              "      <td>1.000000</td>\n",
              "      <td>1.00000</td>\n",
              "      <td>6.800000</td>\n",
              "      <td>0.000000</td>\n",
              "      <td>0.34000</td>\n",
              "    </tr>\n",
              "    <tr>\n",
              "      <th>25%</th>\n",
              "      <td>125.750000</td>\n",
              "      <td>308.000000</td>\n",
              "      <td>103.000000</td>\n",
              "      <td>2.000000</td>\n",
              "      <td>2.500000</td>\n",
              "      <td>3.00000</td>\n",
              "      <td>8.127500</td>\n",
              "      <td>0.000000</td>\n",
              "      <td>0.63000</td>\n",
              "    </tr>\n",
              "    <tr>\n",
              "      <th>50%</th>\n",
              "      <td>250.500000</td>\n",
              "      <td>317.000000</td>\n",
              "      <td>107.000000</td>\n",
              "      <td>3.000000</td>\n",
              "      <td>3.500000</td>\n",
              "      <td>3.50000</td>\n",
              "      <td>8.560000</td>\n",
              "      <td>1.000000</td>\n",
              "      <td>0.72000</td>\n",
              "    </tr>\n",
              "    <tr>\n",
              "      <th>75%</th>\n",
              "      <td>375.250000</td>\n",
              "      <td>325.000000</td>\n",
              "      <td>112.000000</td>\n",
              "      <td>4.000000</td>\n",
              "      <td>4.000000</td>\n",
              "      <td>4.00000</td>\n",
              "      <td>9.040000</td>\n",
              "      <td>1.000000</td>\n",
              "      <td>0.82000</td>\n",
              "    </tr>\n",
              "    <tr>\n",
              "      <th>max</th>\n",
              "      <td>500.000000</td>\n",
              "      <td>340.000000</td>\n",
              "      <td>120.000000</td>\n",
              "      <td>5.000000</td>\n",
              "      <td>5.000000</td>\n",
              "      <td>5.00000</td>\n",
              "      <td>9.920000</td>\n",
              "      <td>1.000000</td>\n",
              "      <td>0.97000</td>\n",
              "    </tr>\n",
              "  </tbody>\n",
              "</table>\n",
              "</div>"
            ],
            "text/plain": [
              "       Serial No.         GRE  ...  publications  admit_chance\n",
              "count  500.000000  500.000000  ...    500.000000     500.00000\n",
              "mean   250.500000  316.472000  ...      0.560000       0.72174\n",
              "std    144.481833   11.295148  ...      0.496884       0.14114\n",
              "min      1.000000  290.000000  ...      0.000000       0.34000\n",
              "25%    125.750000  308.000000  ...      0.000000       0.63000\n",
              "50%    250.500000  317.000000  ...      1.000000       0.72000\n",
              "75%    375.250000  325.000000  ...      1.000000       0.82000\n",
              "max    500.000000  340.000000  ...      1.000000       0.97000\n",
              "\n",
              "[8 rows x 9 columns]"
            ]
          },
          "metadata": {},
          "execution_count": 3
        }
      ]
    },
    {
      "cell_type": "markdown",
      "metadata": {
        "id": "ep0G7T0lqqIL"
      },
      "source": [
        "Let's start by focusing on a single variable: the GRE score "
      ]
    },
    {
      "cell_type": "code",
      "metadata": {
        "id": "ahImJveoq71L",
        "colab": {
          "base_uri": "https://localhost:8080/",
          "height": 295
        },
        "outputId": "70b05d46-8460-4e09-baa5-c0c0e2eed5ea"
      },
      "source": [
        "import matplotlib.pyplot as plt\n",
        "\n",
        "data.plot(x='GRE', y='admit_chance', style='o')\n",
        "plt.title('GRE Score VS Chance of admission')\n",
        "plt.xlabel('GRE score')\n",
        "plt.ylabel('chance of admission')\n",
        "plt.show()\n",
        "\n"
      ],
      "execution_count": null,
      "outputs": [
        {
          "output_type": "display_data",
          "data": {
            "image/png": "[encoded data removed]",
            "text/plain": [
              "<Figure size 432x288 with 1 Axes>"
            ]
          },
          "metadata": {
            "needs_background": "light"
          }
        }
      ]
    },
    {
      "cell_type": "markdown",
      "metadata": {
        "id": "oRXHOZUKtdup"
      },
      "source": [
        "We can clearly see that there is a relationship between GRE scores and chances of admission. While there are some outliers, we will now build a linear regression model to predict admission chance based on GRE results. First, we set up our train and test datasets"
      ]
    },
    {
      "cell_type": "code",
      "metadata": {
        "id": "mvoObvLatwKz"
      },
      "source": [
        "from sklearn.model_selection import train_test_split\n",
        "\n",
        "X = data['GRE'].values.reshape(-1, 1)\n",
        "y = data['admit_chance'].values#.reshape(-1, 1)\n",
        "\n",
        "# Use 20% of the data as test\n",
        "# The rest will be our training set\n",
        "GRE_train, GRE_test, admit_train, admit_test = train_test_split(X, y, test_size=0.2, random_state=0)\n",
        "\n"
      ],
      "execution_count": null,
      "outputs": []
    },
    {
      "cell_type": "markdown",
      "metadata": {
        "id": "etuGnzXivAvZ"
      },
      "source": [
        "This should be familiar so far, time to actually create the model. We will create a regressor object, and train it using our train data"
      ]
    },
    {
      "cell_type": "code",
      "metadata": {
        "id": "zfMGlFRJvKRs",
        "colab": {
          "base_uri": "https://localhost:8080/"
        },
        "outputId": "9d6be602-ac29-487a-caad-d56f1030c626"
      },
      "source": [
        "from sklearn.linear_model import LinearRegression\n",
        "\n",
        "regressor = LinearRegression()\n",
        "\n",
        "regressor.fit(GRE_train, admit_train)\n",
        "\n",
        "#The fit method will look for our optimal line. More info on this method and others\n",
        "# at the official documentation https://scikit-learn.org/stable/modules/generated/sklearn.linear_model.LinearRegression.html#sklearn.linear_model.LinearRegression.fit\n",
        "\n",
        "#display the intercept / bias\n",
        "print(regressor.intercept_)\n",
        "\n",
        "#display the coefficient\n",
        "print(regressor.coef_)"
      ],
      "execution_count": null,
      "outputs": [
        {
          "output_type": "stream",
          "name": "stdout",
          "text": [
            "-2.5488126924084584\n",
            "[0.01033718]\n"
          ]
        }
      ]
    },
    {
      "cell_type": "markdown",
      "metadata": {
        "id": "xB6v_bDowz5-"
      },
      "source": [
        "How good is our newly fitted model? Let's feed it the data we saved for testing. We will have the model predict chances of admission based on those GRE scores we set aside, then compare that to the actual chances from the original dataset."
      ]
    },
    {
      "cell_type": "code",
      "metadata": {
        "id": "v8WebJOuxH0M",
        "colab": {
          "base_uri": "https://localhost:8080/",
          "height": 297
        },
        "outputId": "c965b8f8-e57c-46d5-8609-f23c848a7f20"
      },
      "source": [
        "admit_predict = regressor.predict(GRE_test)\n",
        "\n",
        "comparison_frame = pd.DataFrame({'Actual': admit_test.flatten(), 'Predicted': admit_predict.flatten()})\n",
        "\n",
        "comparison_frame.describe()\n",
        "  "
      ],
      "execution_count": null,
      "outputs": [
        {
          "output_type": "execute_result",
          "data": {
            "text/html": [
              "<div>\n",
              "<style scoped>\n",
              "    .dataframe tbody tr th:only-of-type {\n",
              "        vertical-align: middle;\n",
              "    }\n",
              "\n",
              "    .dataframe tbody tr th {\n",
              "        vertical-align: top;\n",
              "    }\n",
              "\n",
              "    .dataframe thead th {\n",
              "        text-align: right;\n",
              "    }\n",
              "</style>\n",
              "<table border=\"1\" class=\"dataframe\">\n",
              "  <thead>\n",
              "    <tr style=\"text-align: right;\">\n",
              "      <th></th>\n",
              "      <th>Actual</th>\n",
              "      <th>Predicted</th>\n",
              "    </tr>\n",
              "  </thead>\n",
              "  <tbody>\n",
              "    <tr>\n",
              "      <th>count</th>\n",
              "      <td>100.00000</td>\n",
              "      <td>100.000000</td>\n",
              "    </tr>\n",
              "    <tr>\n",
              "      <th>mean</th>\n",
              "      <td>0.70250</td>\n",
              "      <td>0.706884</td>\n",
              "    </tr>\n",
              "    <tr>\n",
              "      <th>std</th>\n",
              "      <td>0.13282</td>\n",
              "      <td>0.115189</td>\n",
              "    </tr>\n",
              "    <tr>\n",
              "      <th>min</th>\n",
              "      <td>0.39000</td>\n",
              "      <td>0.500657</td>\n",
              "    </tr>\n",
              "    <tr>\n",
              "      <th>25%</th>\n",
              "      <td>0.60000</td>\n",
              "      <td>0.614366</td>\n",
              "    </tr>\n",
              "    <tr>\n",
              "      <th>50%</th>\n",
              "      <td>0.70500</td>\n",
              "      <td>0.717738</td>\n",
              "    </tr>\n",
              "    <tr>\n",
              "      <th>75%</th>\n",
              "      <td>0.80000</td>\n",
              "      <td>0.800435</td>\n",
              "    </tr>\n",
              "    <tr>\n",
              "      <th>max</th>\n",
              "      <td>0.96000</td>\n",
              "      <td>0.945156</td>\n",
              "    </tr>\n",
              "  </tbody>\n",
              "</table>\n",
              "</div>"
            ],
            "text/plain": [
              "          Actual   Predicted\n",
              "count  100.00000  100.000000\n",
              "mean     0.70250    0.706884\n",
              "std      0.13282    0.115189\n",
              "min      0.39000    0.500657\n",
              "25%      0.60000    0.614366\n",
              "50%      0.70500    0.717738\n",
              "75%      0.80000    0.800435\n",
              "max      0.96000    0.945156"
            ]
          },
          "metadata": {},
          "execution_count": 8
        }
      ]
    },
    {
      "cell_type": "markdown",
      "metadata": {
        "id": "stGyM9xxx4ET"
      },
      "source": [
        "Our model is not too bad, although you can see that it can be off, as with the min value. Let's visualize it for a better intuition"
      ]
    },
    {
      "cell_type": "code",
      "metadata": {
        "id": "z8PfFME6yK51",
        "colab": {
          "base_uri": "https://localhost:8080/",
          "height": 265
        },
        "outputId": "5a8d0e51-7890-4c0f-d62d-f118f3518fb4"
      },
      "source": [
        "plt.scatter(GRE_test, admit_test, color='black')\n",
        "plt.plot(GRE_test, admit_predict, color='red', linewidth=2)\n",
        "plt.show()"
      ],
      "execution_count": null,
      "outputs": [
        {
          "output_type": "display_data",
          "data": {
            "image/png": "[encoded data removed]",
            "text/plain": [
              "<Figure size 432x288 with 1 Axes>"
            ]
          },
          "metadata": {
            "needs_background": "light"
          }
        }
      ]
    },
    {
      "cell_type": "markdown",
      "metadata": {
        "id": "xGm6EgXNyuTd"
      },
      "source": [
        "We have some outliers, but our line is nicely centered. While visualizations like this are helpful in assessing our line of best fit, sklearn comes with some crucial metrics for linear regressions"
      ]
    },
    {
      "cell_type": "code",
      "metadata": {
        "id": "_DAEo_J2zPD7",
        "colab": {
          "base_uri": "https://localhost:8080/"
        },
        "outputId": "42510c32-62cf-43a8-cfc5-08af8b320ba4"
      },
      "source": [
        "from sklearn import metrics\n",
        "\n",
        "# Our first metric is MAE - Mean absolute error\n",
        "print('Mean Absolute Error:', metrics.mean_absolute_error(admit_test, admit_predict))\n",
        "\n",
        "# We can also use MSE - Mean squared error\n",
        "print('Mean Squared Error:', metrics.mean_squared_error(admit_test, admit_predict))  \n",
        "\n",
        "# Finally, the most popular metric: RMSE - Root mean squared error\n",
        "print('Root Mean Squared Error:', np.sqrt(metrics.mean_squared_error(admit_test, admit_predict)))  \n"
      ],
      "execution_count": null,
      "outputs": [
        {
          "output_type": "stream",
          "name": "stdout",
          "text": [
            "Mean Absolute Error: 0.0636984910033071\n",
            "Mean Squared Error: 0.00726745943092683\n",
            "Root Mean Squared Error: 0.0852493954871636\n"
          ]
        }
      ]
    },
    {
      "cell_type": "markdown",
      "metadata": {
        "id": "X-tKHtao036U"
      },
      "source": [
        "How do we make sense of the numbers above? You shoud read through [this article](https://medium.com/human-in-a-machine-world/mae-and-rmse-which-metric-is-better-e60ac3bde13d) for formal definitions of the metrics above, but bear in mind the following:\n",
        "\n",
        "\n",
        "\n",
        "*   We will use these metrics (particularly RMSE) to compare models to each other. The lower the value the better.\n",
        "*   These values are relative to our dependent variable, i.e our dependent variable ranges from 0.39 to 0.96, with a mean of 0.7 and standard deviation of 0.13. This makes an RMSE of 0.085 somewhat acceptable. If our data ranged from 0 to 10, an RMSE of 0.085 would be incredible!\n",
        "\n",
        "Let's see if we can improve our model by bringing in new independent variables. Let's start by plotting TOEFL scores against admission chance\n",
        "\n"
      ]
    },
    {
      "cell_type": "code",
      "metadata": {
        "id": "VuYx5_7l1I-j",
        "colab": {
          "base_uri": "https://localhost:8080/",
          "height": 295
        },
        "outputId": "6b81900a-2c51-482a-f3a1-adfa816a8921"
      },
      "source": [
        "import matplotlib.pyplot as plt\n",
        "\n",
        "data.plot(x='TOEFL', y='admit_chance', style='o')\n",
        "plt.title('TOEFL Score VS Chance of admission')\n",
        "plt.xlabel('TOEFL score')\n",
        "plt.ylabel('chance of admission')\n",
        "plt.show()\n"
      ],
      "execution_count": null,
      "outputs": [
        {
          "output_type": "display_data",
          "data": {
            "image/png": "[encoded data removed]",
            "text/plain": [
              "<Figure size 432x288 with 1 Axes>"
            ]
          },
          "metadata": {
            "needs_background": "light"
          }
        }
      ]
    },
    {
      "cell_type": "markdown",
      "metadata": {
        "id": "P9EZDGNG4xwo"
      },
      "source": [
        "Once again, we can see that there is a relationship between TOEFL score and chance of admission. Let's perform a multivariate linear regression using both GRE and TOEFL scores as independent variables."
      ]
    },
    {
      "cell_type": "code",
      "metadata": {
        "id": "OpZNLpS80uCg",
        "colab": {
          "base_uri": "https://localhost:8080/"
        },
        "outputId": "d5b9e9ed-6c67-4ad8-f07b-76cb4bde660c"
      },
      "source": [
        "X = data[['GRE', 'TOEFL']].values\n",
        "y = data['admit_chance'].values\n",
        "\n",
        "\n",
        "from sklearn.model_selection import train_test_split\n",
        "from sklearn.linear_model import LinearRegression\n",
        "\n",
        "# Train using 80% of the data.\n",
        "X_train, X_test, y_train, y_test = train_test_split(X, y, test_size=0.2, random_state=0)\n",
        "\n",
        "# find optimal coefficients and intercept\n",
        "regressor = LinearRegression()  \n",
        "regressor.fit(X_train, y_train)\n"
      ],
      "execution_count": null,
      "outputs": [
        {
          "output_type": "execute_result",
          "data": {
            "text/plain": [
              "LinearRegression(copy_X=True, fit_intercept=True, n_jobs=None, normalize=False)"
            ]
          },
          "metadata": {},
          "execution_count": 6
        }
      ]
    },
    {
      "cell_type": "markdown",
      "metadata": {
        "id": "ReWYBvB65ndt"
      },
      "source": [
        "It is interesting at this point to check the coefficients used by our model, as they indicate how heavily each independent variable contributes to the dependent variable"
      ]
    },
    {
      "cell_type": "code",
      "metadata": {
        "id": "Ei3mNi-Q5_fj",
        "colab": {
          "base_uri": "https://localhost:8080/"
        },
        "outputId": "404eb13a-f1d4-4c15-efbe-01927ac0bb38"
      },
      "source": [
        "regressor.coef_\n"
      ],
      "execution_count": null,
      "outputs": [
        {
          "output_type": "execute_result",
          "data": {
            "text/plain": [
              "array([0.00641501, 0.00867603])"
            ]
          },
          "metadata": {},
          "execution_count": 7
        }
      ]
    },
    {
      "cell_type": "markdown",
      "metadata": {
        "id": "fTGtl0Dx6Byd"
      },
      "source": [
        "In this case, we can see that a single point change in your Toefl score would influence your chances slightly more than a similar 1 point change in GRE scores. \n",
        "\n",
        "At this point, let's compare our predicted results to the actual data from the test set:\n"
      ]
    },
    {
      "cell_type": "code",
      "metadata": {
        "id": "glAxJvoR7Nw0",
        "colab": {
          "base_uri": "https://localhost:8080/",
          "height": 231
        },
        "outputId": "268c54a8-5add-405a-83fc-d4244fa90b6a"
      },
      "source": [
        "comparison_frame = pd.DataFrame({'Actual': y_test.flatten(), 'Predicted': y_pred.flatten()})\n",
        "\n",
        "comparison_frame.describe()\n",
        "\n",
        "from sklearn.model_selection import train_test_split"
      ],
      "execution_count": null,
      "outputs": [
        {
          "output_type": "error",
          "ename": "NameError",
          "evalue": "ignored",
          "traceback": [
            "\u001b[0;31m---------------------------------------------------------------------------\u001b[0m",
            "\u001b[0;31mNameError\u001b[0m                                 Traceback (most recent call last)",
            "\u001b[0;32m<ipython-input-9-788ea19ca813>\u001b[0m in \u001b[0;36m<module>\u001b[0;34m()\u001b[0m\n\u001b[0;32m----> 1\u001b[0;31m \u001b[0mcomparison_frame\u001b[0m \u001b[0;34m=\u001b[0m \u001b[0mpd\u001b[0m\u001b[0;34m.\u001b[0m\u001b[0mDataFrame\u001b[0m\u001b[0;34m(\u001b[0m\u001b[0;34m{\u001b[0m\u001b[0;34m'Actual'\u001b[0m\u001b[0;34m:\u001b[0m \u001b[0my_test\u001b[0m\u001b[0;34m.\u001b[0m\u001b[0mflatten\u001b[0m\u001b[0;34m(\u001b[0m\u001b[0;34m)\u001b[0m\u001b[0;34m,\u001b[0m \u001b[0;34m'Predicted'\u001b[0m\u001b[0;34m:\u001b[0m \u001b[0my_pred\u001b[0m\u001b[0;34m.\u001b[0m\u001b[0mflatten\u001b[0m\u001b[0;34m(\u001b[0m\u001b[0;34m)\u001b[0m\u001b[0;34m}\u001b[0m\u001b[0;34m)\u001b[0m\u001b[0;34m\u001b[0m\u001b[0;34m\u001b[0m\u001b[0m\n\u001b[0m\u001b[1;32m      2\u001b[0m \u001b[0;34m\u001b[0m\u001b[0m\n\u001b[1;32m      3\u001b[0m \u001b[0mcomparison_frame\u001b[0m\u001b[0;34m.\u001b[0m\u001b[0mdescribe\u001b[0m\u001b[0;34m(\u001b[0m\u001b[0;34m)\u001b[0m\u001b[0;34m\u001b[0m\u001b[0;34m\u001b[0m\u001b[0m\n\u001b[1;32m      4\u001b[0m \u001b[0;34m\u001b[0m\u001b[0m\n\u001b[1;32m      5\u001b[0m \u001b[0;32mfrom\u001b[0m \u001b[0msklearn\u001b[0m\u001b[0;34m.\u001b[0m\u001b[0mmodel_selection\u001b[0m \u001b[0;32mimport\u001b[0m \u001b[0mtrain_test_split\u001b[0m\u001b[0;34m\u001b[0m\u001b[0;34m\u001b[0m\u001b[0m\n",
            "\u001b[0;31mNameError\u001b[0m: name 'y_pred' is not defined"
          ]
        }
      ]
    },
    {
      "cell_type": "markdown",
      "metadata": {
        "id": "9_5XgSj27GA9"
      },
      "source": [
        "Slight improvements! This should be echoed in our key metrics being smaller than our single variable linear model"
      ]
    },
    {
      "cell_type": "code",
      "metadata": {
        "id": "y65oIbO36V2I"
      },
      "source": [
        "y_pred = regressor.predict(X_test)\n",
        "\n",
        "print('Mean Absolute Error:', metrics.mean_absolute_error(y_test, y_pred))  \n",
        "print('Mean Squared Error:', metrics.mean_squared_error(y_test, y_pred))  \n",
        "print('Root Mean Squared Error:', np.sqrt(metrics.mean_squared_error(y_test, y_pred)))\n"
      ],
      "execution_count": null,
      "outputs": []
    },
    {
      "cell_type": "markdown",
      "metadata": {
        "id": "R-Mn8eIc7cYt"
      },
      "source": [
        "It is now time for some challenges!"
      ]
    },
    {
      "cell_type": "markdown",
      "metadata": {
        "id": "HJno-sha7fL0"
      },
      "source": [
        "# Challenge 1\n",
        "\n",
        "Using the same dataset, find out which of the available variables has the largest **weight** in predicting acceptance into university.\n",
        "\n"
      ]
    },
    {
      "cell_type": "code",
      "metadata": {
        "id": "OpEoLRvY8pRv"
      },
      "source": [
        ""
      ],
      "execution_count": null,
      "outputs": []
    },
    {
      "cell_type": "markdown",
      "metadata": {
        "id": "-erZrimA8qNm"
      },
      "source": [
        "# Challenge 2\n",
        "\n",
        "Take a look at this [dataset](https://drive.google.com/file/d/1cctsp46KVzNKGAK0kLl3mY6wRTDlUBp4/view?usp=sharing) on wine quality. You will have to build a multivariate model that predicts the **quality** of the wine, but with a key constraint: you may only use 4 variables from the 11 independent variables available to you. \n",
        "\n",
        "How can you pick the 4 most relevant independent variables? recall your learnings from module 1.\n",
        "\n",
        "Compute your metrics, and compare with your peers. How did each of you achieve their results? \n",
        "\n",
        "Hint: recall reduction techniques, you want to pick independent variables that are as unrelated to each other as possible"
      ]
    },
    {
      "cell_type": "code",
      "metadata": {
        "id": "dEADFT8A_arz"
      },
      "source": [
        "wine = pd.read_csv('winequality.csv')\n",
        "wine.describe()"
      ],
      "execution_count": null,
      "outputs": []
    }
  ]
}