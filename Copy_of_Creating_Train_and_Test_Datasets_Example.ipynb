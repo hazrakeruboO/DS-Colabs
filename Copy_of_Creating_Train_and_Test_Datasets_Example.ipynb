{
  "nbformat": 4,
  "nbformat_minor": 0,
  "metadata": {
    "colab": {
      "name": "Copy of Creating Train and Test Datasets Example.ipynb",
      "provenance": [],
      "toc_visible": true,
      "include_colab_link": true
    },
    "kernelspec": {
      "name": "python3",
      "display_name": "Python 3"
    }
  },
  "cells": [
    {
      "cell_type": "markdown",
      "metadata": {
        "id": "view-in-github",
        "colab_type": "text"
      },
      "source": [
        "<a href=\"https://colab.research.google.com/github/hazrakeruboO/DS-Colabs/blob/main/Copy_of_Creating_Train_and_Test_Datasets_Example.ipynb\" target=\"_parent\"><img src=\"https://colab.research.google.com/assets/colab-badge.svg\" alt=\"Open In Colab\"/></a>"
      ]
    },
    {
      "cell_type": "markdown",
      "metadata": {
        "id": "hV51dSte7Bxb"
      },
      "source": [
        "# **Creating Train and Test Datasets Example**"
      ]
    },
    {
      "cell_type": "markdown",
      "metadata": {
        "id": "yZKrJC5QLkje"
      },
      "source": [
        "# Example\n"
      ]
    },
    {
      "cell_type": "markdown",
      "metadata": {
        "id": "rpfcuXFjLxAX"
      },
      "source": [
        "Our major goal here, is to predict how a student will perform in the national exam by using their mock exam scores.There's a few steps we need to do to achieve this.\n",
        "\n",
        "First, we need split the dataset into training and test datasets so that we can train the model to predict our desired outcome\n",
        "\n",
        "After splitting the dataset , we are going to employ a method for training the datasets.\n",
        "\n",
        "The following example will be split into two parts; the first being how to split the dataset into train and test datasets. The second part is how to train the data using linear regression.\n",
        "\n",
        "\n",
        "In this example, we are going to learn how to split a dataset into train and test sets so that we can start training our model. We will first show a naive way of splitting a dataset then continue to show different ways of efficiently splitting the dataset.\n",
        "\n",
        "The dataset we are going to use will comprise of 1000 students exam data from both public and private schools in Kenya. 50% of this data is from public school and the other 50% is from private schools. We need to maintain this proportion when creating our sample dataset.\n",
        "\n",
        "[Download dataset](https://drive.google.com/file/d/12OGVlkFkLwycegmG5zkdDfzoxCJ3qU_k/view?usp=sharing)"
      ]
    },
    {
      "cell_type": "markdown",
      "metadata": {
        "id": "lX2hGBv7Gr_m"
      },
      "source": [
        "**Naive splitting:**\n",
        "\n",
        "- Show a simple 3 column table, with 1 dependent 1 independent variable. The independent variable is the Mock exam column and the dependent variable is National exam column.\n",
        "- use simple splits to create 2 datasets, one for train, one for test"
      ]
    },
    {
      "cell_type": "markdown",
      "metadata": {
        "id": "g4gP2CXbamL8"
      },
      "source": [
        "**Import the Relevant Libraries**"
      ]
    },
    {
      "cell_type": "code",
      "metadata": {
        "id": "4uuTY3-1av98"
      },
      "source": [
        "import numpy as np\n",
        "import pandas as pd\n",
        "from sklearn.model_selection import train_test_split\n"
      ],
      "execution_count": null,
      "outputs": []
    },
    {
      "cell_type": "markdown",
      "metadata": {
        "id": "Z8coNT0Lbgh-"
      },
      "source": [
        "**Load the data**\n",
        "\n"
      ]
    },
    {
      "cell_type": "code",
      "metadata": {
        "id": "KW9mi-ZSQb2x",
        "colab": {
          "base_uri": "https://localhost:8080/",
          "height": 419
        },
        "outputId": "7b3a9d03-10fa-4c3e-bb69-202161b57b24"
      },
      "source": [
        "#Load the dataset\n",
        "data = pd.read_csv('/content/student_exam_data.csv')\n",
        "\n",
        "#displaying the dataset\n",
        "data\n"
      ],
      "execution_count": null,
      "outputs": [
        {
          "output_type": "execute_result",
          "data": {
            "text/html": [
              "<div>\n",
              "<style scoped>\n",
              "    .dataframe tbody tr th:only-of-type {\n",
              "        vertical-align: middle;\n",
              "    }\n",
              "\n",
              "    .dataframe tbody tr th {\n",
              "        vertical-align: top;\n",
              "    }\n",
              "\n",
              "    .dataframe thead th {\n",
              "        text-align: right;\n",
              "    }\n",
              "</style>\n",
              "<table border=\"1\" class=\"dataframe\">\n",
              "  <thead>\n",
              "    <tr style=\"text-align: right;\">\n",
              "      <th></th>\n",
              "      <th>mock_result</th>\n",
              "      <th>school_type</th>\n",
              "      <th>national_result</th>\n",
              "    </tr>\n",
              "  </thead>\n",
              "  <tbody>\n",
              "    <tr>\n",
              "      <th>0</th>\n",
              "      <td>27</td>\n",
              "      <td>PUBLIC</td>\n",
              "      <td>55</td>\n",
              "    </tr>\n",
              "    <tr>\n",
              "      <th>1</th>\n",
              "      <td>60</td>\n",
              "      <td>PRIVATE</td>\n",
              "      <td>35</td>\n",
              "    </tr>\n",
              "    <tr>\n",
              "      <th>2</th>\n",
              "      <td>57</td>\n",
              "      <td>PUBLIC</td>\n",
              "      <td>39</td>\n",
              "    </tr>\n",
              "    <tr>\n",
              "      <th>3</th>\n",
              "      <td>52</td>\n",
              "      <td>PUBLIC</td>\n",
              "      <td>39</td>\n",
              "    </tr>\n",
              "    <tr>\n",
              "      <th>4</th>\n",
              "      <td>44</td>\n",
              "      <td>PUBLIC</td>\n",
              "      <td>63</td>\n",
              "    </tr>\n",
              "    <tr>\n",
              "      <th>...</th>\n",
              "      <td>...</td>\n",
              "      <td>...</td>\n",
              "      <td>...</td>\n",
              "    </tr>\n",
              "    <tr>\n",
              "      <th>995</th>\n",
              "      <td>30</td>\n",
              "      <td>PRIVATE</td>\n",
              "      <td>59</td>\n",
              "    </tr>\n",
              "    <tr>\n",
              "      <th>996</th>\n",
              "      <td>51</td>\n",
              "      <td>PRIVATE</td>\n",
              "      <td>64</td>\n",
              "    </tr>\n",
              "    <tr>\n",
              "      <th>997</th>\n",
              "      <td>30</td>\n",
              "      <td>PRIVATE</td>\n",
              "      <td>41</td>\n",
              "    </tr>\n",
              "    <tr>\n",
              "      <th>998</th>\n",
              "      <td>66</td>\n",
              "      <td>PRIVATE</td>\n",
              "      <td>63</td>\n",
              "    </tr>\n",
              "    <tr>\n",
              "      <th>999</th>\n",
              "      <td>40</td>\n",
              "      <td>PUBLIC</td>\n",
              "      <td>22</td>\n",
              "    </tr>\n",
              "  </tbody>\n",
              "</table>\n",
              "<p>1000 rows × 3 columns</p>\n",
              "</div>"
            ],
            "text/plain": [
              "     mock_result school_type  national_result\n",
              "0             27      PUBLIC               55\n",
              "1             60     PRIVATE               35\n",
              "2             57      PUBLIC               39\n",
              "3             52      PUBLIC               39\n",
              "4             44      PUBLIC               63\n",
              "..           ...         ...              ...\n",
              "995           30     PRIVATE               59\n",
              "996           51     PRIVATE               64\n",
              "997           30     PRIVATE               41\n",
              "998           66     PRIVATE               63\n",
              "999           40      PUBLIC               22\n",
              "\n",
              "[1000 rows x 3 columns]"
            ]
          },
          "metadata": {},
          "execution_count": 4
        }
      ]
    },
    {
      "cell_type": "code",
      "metadata": {
        "id": "CHMbEFpkWT4X",
        "colab": {
          "base_uri": "https://localhost:8080/"
        },
        "outputId": "f55b8cb6-8e40-4e77-cecc-84d8d58214ae"
      },
      "source": [
        "#Split the dataset into train and test sets.\n",
        "# we will split the dataset such that we have the first 700 entries of our dataset as train and the rest 300 entries as test\n",
        "\n",
        "train = data[:700] \n",
        "\n",
        "# Drop all the indexes of the train data we created above from the main data set then store the remaining data in a variable called test\n",
        "test = data.drop(train.index)\n",
        "\n",
        "# Confirm that the train and test dataset have out desired length\n",
        "print(\"train:\" + str(len(train)))\n",
        "print(\"test:\"+ str(len(test)))\n"
      ],
      "execution_count": null,
      "outputs": [
        {
          "output_type": "stream",
          "name": "stdout",
          "text": [
            "train:700\n",
            "test:300\n"
          ]
        }
      ]
    },
    {
      "cell_type": "markdown",
      "metadata": {
        "id": "hw6QWkjKMA6e"
      },
      "source": [
        "**Analyzing the sets**:\n",
        "\n",
        "\n",
        "How similar are the training and test datasets?\n"
      ]
    },
    {
      "cell_type": "code",
      "metadata": {
        "id": "wU4hiPUdQ7l1",
        "colab": {
          "base_uri": "https://localhost:8080/"
        },
        "outputId": "8e70f4ba-29c5-42fe-e27c-895e738fd740"
      },
      "source": [
        "# Let's analyse the training and the test dataset and see if the right proportions. \n",
        "# Ideally, we want both of our training and test datasets to have a 50-50 apportionment of private and public schools\n",
        "\n",
        "# Check the apportionment of Private and Public schools in the train data set\n",
        "train_count=train['school_type'].value_counts()\n",
        "\n",
        "# Check the apportionment of Private and Public in the test data set\n",
        "test_count=test['school_type'].value_counts()\n",
        "\n",
        "# Print out the apportionment of private and public schools in both train and test dataset\n",
        "print(train_count)\n",
        "print('*************************')\n",
        "print(test_count)"
      ],
      "execution_count": null,
      "outputs": [
        {
          "output_type": "stream",
          "name": "stdout",
          "text": [
            "PUBLIC     450\n",
            "PRIVATE    250\n",
            "Name: school_type, dtype: int64\n",
            "*************************\n",
            "PRIVATE    250\n",
            "PUBLIC      50\n",
            "Name: school_type, dtype: int64\n"
          ]
        }
      ]
    },
    {
      "cell_type": "markdown",
      "metadata": {
        "id": "CX_ZCLc_eNBJ"
      },
      "source": [
        "As you can see,  the number of public schools in the train dataset is 450 while that of private schools is 250.This translates to 65% and 35%  respectively, which is not the proportion we are aiming for.\n",
        "\n",
        "Similarly, in the test dataset there are 250 public schools and 50 private schools. This in turn translates to 84% and 16% respectively. Again, this is not quite the proportion we were aiming for.\n",
        "\n",
        "In conclusion this differs greatly from what we are aiming for, which is to have an equal proportion of private schools and public school in both the train/test dataset.That is, to have 50% of public school and 50% of private school in both the train and test dataset.\n",
        "\n",
        "This is why we termed this as a naive way of splitting the dataset because it does not reflect the populations initial proportion.\n",
        "\n",
        "To achieve the proportion we want, we will employ one of the sampling techniques we covered in module 1"
      ]
    },
    {
      "cell_type": "markdown",
      "metadata": {
        "id": "wO_NJ1d_Q8kk"
      },
      "source": [
        "**Sampling**:\n",
        "\n",
        "Remember module 1 stuff, let's do some stratified sampling, and see that our test / train are now similar to each other (public VS private student representation)"
      ]
    },
    {
      "cell_type": "code",
      "metadata": {
        "id": "CRAKHxiJRGZe",
        "colab": {
          "base_uri": "https://localhost:8080/"
        },
        "outputId": "afa72208-1e27-49e9-93e7-970b6a4872fb"
      },
      "source": [
        "# Using the Stratified technique we want to split the dataset in such a way that 70% of our dataset will be train set and 30% will be test set. Furthermore, the proportion of public and private schools should be equal in both the train and test dataset. For example, in train dataset we should have 350 public schools and 350 private schools represented. The same goes for the test dataset, we expect to have 150 private schools and 150 private schools.\n",
        "\n",
        "# Stratified train sample\n",
        "train_strat_datset = data.groupby('school_type', group_keys=False).apply(lambda grouped_subset : grouped_subset.sample(frac=0.7))\n",
        "\n",
        "# preview the stratified train dataset\n",
        "train_strat_datset\n",
        "\n",
        "# Stratified test sample\n",
        "test_strat_dataset = data.drop(train_strat_datset.index)\n",
        "\n",
        "# Preview the stratified test dataset\n",
        "test_strat_dataset\n",
        "\n",
        "# Print out the proprortion of private vs public schools in both train and test dataset\n",
        "test_strat_count=test_strat_dataset['school_type'].value_counts()\n",
        "train_strat_count=train_strat_datset['school_type'].value_counts()\n",
        "\n",
        "print(train_strat_count)\n",
        "print('*************************************************')\n",
        "print(test_strat_count)\n"
      ],
      "execution_count": null,
      "outputs": [
        {
          "output_type": "stream",
          "name": "stdout",
          "text": [
            "PUBLIC     350\n",
            "PRIVATE    350\n",
            "Name: school_type, dtype: int64\n",
            "*************************************************\n",
            "PUBLIC     150\n",
            "PRIVATE    150\n",
            "Name: school_type, dtype: int64\n"
          ]
        }
      ]
    },
    {
      "cell_type": "markdown",
      "metadata": {
        "id": "CCha1fX_RHbO"
      },
      "source": [
        "**train_test_split and it options**\n",
        "\n",
        "Next, we are going to demonstrate another way you can achieve similar results using sklearn library"
      ]
    },
    {
      "cell_type": "code",
      "metadata": {
        "id": "NCkXyvKgSSq3",
        "colab": {
          "base_uri": "https://localhost:8080/"
        },
        "outputId": "1779544a-0868-4535-ac1c-b79f1430cfc2"
      },
      "source": [
        "# Now we will use sklearn library to split the data set into train and test datasets.Additionally, We will make use of the train_test_split method\n",
        "# The method takes in an dataframe, test_size or train_size as arguments. The dataframe signifies the dataframe we want to split and the test_size/train_size indicates the size of either the train or test dataset we want to have\n",
        "# We'll also use a third argument called stratify which will help us stratifiy the data once we split it.\n",
        "# You can read more on this method through this link https://scikit-learn.org/stable/modules/generated/sklearn.model_selection.train_test_split.html\n",
        "\n",
        "# Split our datset into train_data and test_data using sklearn's train_test_split method\n",
        "train_data, test_data = train_test_split(data, test_size=0.3,stratify=data['school_type'])\n",
        "\n",
        "# Preview the train dataset\n",
        "print(train_data)\n",
        "\n",
        "# Preview the test dataset\n",
        "print(test_data)\n",
        "\n",
        "# Print out the proprortion of private vs public schools in both train and test dataset\n",
        "train_data['school_type'].value_counts()\n",
        "\n",
        "test_data['school_type'].value_counts()\n",
        "\n",
        "print(train_strat_count)\n",
        "print('*************************************************')\n",
        "print(test_strat_count)"
      ],
      "execution_count": null,
      "outputs": [
        {
          "output_type": "stream",
          "name": "stdout",
          "text": [
            "     mock_result school_type  national_result\n",
            "723            5     PRIVATE               45\n",
            "644           96     PRIVATE               33\n",
            "925           41     PRIVATE               61\n",
            "868           88     PRIVATE               45\n",
            "22            50      PUBLIC               50\n",
            "..           ...         ...              ...\n",
            "734            2     PRIVATE               42\n",
            "509           65     PRIVATE               22\n",
            "555           18      PUBLIC               71\n",
            "361           77      PUBLIC               27\n",
            "687           40     PRIVATE               95\n",
            "\n",
            "[700 rows x 3 columns]\n",
            "     mock_result school_type  national_result\n",
            "289           61      PUBLIC               38\n",
            "981           29      PUBLIC               63\n",
            "85            46     PRIVATE               48\n",
            "458           82     PRIVATE               82\n",
            "706           69     PRIVATE               29\n",
            "..           ...         ...              ...\n",
            "984           58      PUBLIC               58\n",
            "540           56      PUBLIC               82\n",
            "964           46      PUBLIC               67\n",
            "721           54     PRIVATE               71\n",
            "377           29      PUBLIC               50\n",
            "\n",
            "[300 rows x 3 columns]\n",
            "PUBLIC     350\n",
            "PRIVATE    350\n",
            "Name: school_type, dtype: int64\n",
            "*************************************************\n",
            "PUBLIC     150\n",
            "PRIVATE    150\n",
            "Name: school_type, dtype: int64\n"
          ]
        }
      ]
    }
  ]
}