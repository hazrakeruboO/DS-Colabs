{
  "nbformat": 4,
  "nbformat_minor": 0,
  "metadata": {
    "colab": {
      "name": "Copy of Boosting practice.ipynb",
      "provenance": [],
      "include_colab_link": true
    },
    "kernelspec": {
      "name": "python3",
      "display_name": "Python 3"
    }
  },
  "cells": [
    {
      "cell_type": "markdown",
      "metadata": {
        "id": "view-in-github",
        "colab_type": "text"
      },
      "source": [
        "<a href=\"https://colab.research.google.com/github/hazrakeruboO/DS-Colabs/blob/main/Copy_of_Boosting_practice.ipynb\" target=\"_parent\"><img src=\"https://colab.research.google.com/assets/colab-badge.svg\" alt=\"Open In Colab\"/></a>"
      ]
    },
    {
      "cell_type": "markdown",
      "metadata": {
        "id": "udO7upu-VtJ0"
      },
      "source": [
        "# Examples\n",
        "\n",
        "In this tutorial, you will use both adaboost and gradient boosted trees to make a prediction, and learn how to display how your error rate evolves as you train your model.\n",
        "\n",
        "For these practice examples, we will use both algorithms for regression, and for a change of pace, we will create a random dataset rather than use one. Don't worry, the challenges will use real datasets."
      ]
    },
    {
      "cell_type": "code",
      "metadata": {
        "id": "NLPrGaOUVooj",
        "colab": {
          "base_uri": "https://localhost:8080/",
          "height": 295
        },
        "outputId": "3eddb042-7c12-4bfc-f616-94ddb8ccb41e"
      },
      "source": [
        "# Create the dataset\n",
        "\n",
        "import numpy as np\n",
        "import matplotlib.pyplot as plt\n",
        "\n",
        "# Create the dataset\n",
        "rng = np.random.RandomState(1)\n",
        "X = np.linspace(0, 10, 400)[:, np.newaxis] # This will be our independent variable\n",
        "y = np.sin(X).ravel() + np.sin(10 * X).ravel() + rng.normal(0, 0.1, X.shape[0]) # This will be our dependent variable, as you can see X is part of the equation, but we add some randomness to it\n",
        "\n",
        "# Let's visualize what the data looks like\n",
        "# Plot the results\n",
        "plt.figure()\n",
        "plt.scatter(X, y, c=\"k\", label=\"training samples\")\n",
        "plt.xlabel(\"data\")\n",
        "plt.ylabel(\"target\")\n",
        "plt.title(\"Basic data\")\n",
        "plt.legend()\n",
        "plt.show()\n"
      ],
      "execution_count": null,
      "outputs": [
        {
          "output_type": "display_data",
          "data": {
            "image/png": "[encoded data removed]",
            "text/plain": [
              "<Figure size 432x288 with 1 Axes>"
            ]
          },
          "metadata": {
            "tags": [],
            "needs_background": "light"
          }
        }
      ]
    },
    {
      "cell_type": "code",
      "metadata": {
        "id": "fzYflBpzxli2",
        "colab": {
          "base_uri": "https://localhost:8080/",
          "height": 402
        },
        "outputId": "9edc6152-21a1-441f-edf3-74ff6a1d9358"
      },
      "source": [
        "import pandas as pd\n",
        "\n",
        "pd.DataFrame(X)"
      ],
      "execution_count": null,
      "outputs": [
        {
          "output_type": "execute_result",
          "data": {
            "text/html": [
              "<div>\n",
              "<style scoped>\n",
              "    .dataframe tbody tr th:only-of-type {\n",
              "        vertical-align: middle;\n",
              "    }\n",
              "\n",
              "    .dataframe tbody tr th {\n",
              "        vertical-align: top;\n",
              "    }\n",
              "\n",
              "    .dataframe thead th {\n",
              "        text-align: right;\n",
              "    }\n",
              "</style>\n",
              "<table border=\"1\" class=\"dataframe\">\n",
              "  <thead>\n",
              "    <tr style=\"text-align: right;\">\n",
              "      <th></th>\n",
              "      <th>0</th>\n",
              "    </tr>\n",
              "  </thead>\n",
              "  <tbody>\n",
              "    <tr>\n",
              "      <th>0</th>\n",
              "      <td>0.000000</td>\n",
              "    </tr>\n",
              "    <tr>\n",
              "      <th>1</th>\n",
              "      <td>0.025063</td>\n",
              "    </tr>\n",
              "    <tr>\n",
              "      <th>2</th>\n",
              "      <td>0.050125</td>\n",
              "    </tr>\n",
              "    <tr>\n",
              "      <th>3</th>\n",
              "      <td>0.075188</td>\n",
              "    </tr>\n",
              "    <tr>\n",
              "      <th>4</th>\n",
              "      <td>0.100251</td>\n",
              "    </tr>\n",
              "    <tr>\n",
              "      <th>...</th>\n",
              "      <td>...</td>\n",
              "    </tr>\n",
              "    <tr>\n",
              "      <th>395</th>\n",
              "      <td>9.899749</td>\n",
              "    </tr>\n",
              "    <tr>\n",
              "      <th>396</th>\n",
              "      <td>9.924812</td>\n",
              "    </tr>\n",
              "    <tr>\n",
              "      <th>397</th>\n",
              "      <td>9.949875</td>\n",
              "    </tr>\n",
              "    <tr>\n",
              "      <th>398</th>\n",
              "      <td>9.974937</td>\n",
              "    </tr>\n",
              "    <tr>\n",
              "      <th>399</th>\n",
              "      <td>10.000000</td>\n",
              "    </tr>\n",
              "  </tbody>\n",
              "</table>\n",
              "<p>400 rows × 1 columns</p>\n",
              "</div>"
            ],
            "text/plain": [
              "             0\n",
              "0     0.000000\n",
              "1     0.025063\n",
              "2     0.050125\n",
              "3     0.075188\n",
              "4     0.100251\n",
              "..         ...\n",
              "395   9.899749\n",
              "396   9.924812\n",
              "397   9.949875\n",
              "398   9.974937\n",
              "399  10.000000\n",
              "\n",
              "[400 rows x 1 columns]"
            ]
          },
          "metadata": {
            "tags": []
          },
          "execution_count": 2
        }
      ]
    },
    {
      "cell_type": "markdown",
      "metadata": {
        "id": "HWz1JIjGWG58"
      },
      "source": [
        "Let's create a simple tree to predict our target first, we are hoping that the adaboost and gradient boost approaches will be better than a single tree."
      ]
    },
    {
      "cell_type": "code",
      "metadata": {
        "id": "Sco73AgNWLw-"
      },
      "source": [
        "from sklearn.tree import DecisionTreeRegressor\n",
        "from sklearn.model_selection import train_test_split\n",
        "\n",
        "\n",
        "# Train using 80% of the data.\n",
        "X_train, X_test, y_train, y_test = train_test_split(X, y, test_size=0.2, random_state=0)\n",
        "\n",
        "# Create a decision tree classifier, we will set its max_depth to 4\n",
        "# What happens if you decrease this parameter? if you increase it? \n",
        "# What happens if you remove it altogether?\n",
        "tree = DecisionTreeRegressor(max_depth=4)\n",
        "\n",
        "# Train it on our training set.\n",
        "tree = tree.fit(X_train, y_train)\n",
        "\n",
        "# Predict based on the model we've trained, note that we apply it to the whole data set this time\n",
        "y_pred_tree = tree.predict(X)"
      ],
      "execution_count": null,
      "outputs": []
    },
    {
      "cell_type": "markdown",
      "metadata": {
        "id": "0JITwGG4Ydeb"
      },
      "source": [
        "Let's show the results of our tree's predictions on the plt"
      ]
    },
    {
      "cell_type": "code",
      "metadata": {
        "id": "JfRsSpTSYhLB"
      },
      "source": [
        "# Let's visualize what the data looks like\n",
        "# Plot the results\n",
        "plt.figure()\n",
        "plt.scatter(X, y, c=\"k\", label=\"training samples\")\n",
        "plt.plot(X, y_pred_tree, c=\"r\", label=\"single tree\")\n",
        "plt.xlabel(\"data\")\n",
        "plt.ylabel(\"target\")\n",
        "plt.title(\"Basic data\")\n",
        "plt.legend()\n",
        "plt.show()\n"
      ],
      "execution_count": null,
      "outputs": []
    },
    {
      "cell_type": "markdown",
      "metadata": {
        "id": "QuIvsEyTlrrO"
      },
      "source": [
        "As expected, the tree is not a particularly great fit. See how changing the depth of the tree affects the graph above. \n",
        "\n",
        "Let's transition to Adaboost. Below we create an adaboost regressor, fit it, then plot its prediction on a similar graph as above"
      ]
    },
    {
      "cell_type": "code",
      "metadata": {
        "id": "_5MKSW3LY914",
        "colab": {
          "base_uri": "https://localhost:8080/",
          "height": 295
        },
        "outputId": "c40a4c49-814e-485c-d742-8efc099ac635"
      },
      "source": [
        "from sklearn.ensemble import AdaBoostRegressor\n",
        "\n",
        "# Note that adaboost needs a simple decision tree in its constructor. Again, tweak the max_depth and see how it influences the process\n",
        "ada_boost = AdaBoostRegressor(DecisionTreeRegressor(max_depth=4),\n",
        "                          n_estimators=300, random_state=rng)\n",
        "\n",
        "ada_boost = ada_boost.fit(X_train, y_train)\n",
        "y_pred_ada = ada_boost.predict(X)\n",
        "\n",
        "# \n",
        "plt.figure()\n",
        "plt.scatter(X, y, c=\"k\", label=\"training samples\")\n",
        "plt.plot(X, y_pred_tree, c=\"r\", label=\"single tree\", linewidth=2)\n",
        "plt.plot(X, y_pred_ada, c=\"g\", label=\"ada 300\", linewidth=2)\n",
        "\n",
        "plt.xlabel(\"data\")\n",
        "plt.ylabel(\"target\")\n",
        "plt.title(\"Basic data\")\n",
        "plt.legend()\n",
        "plt.show()\n",
        "\n",
        "\n"
      ],
      "execution_count": null,
      "outputs": [
        {
          "output_type": "display_data",
          "data": {
            "image/png": "[encoded data removed]",
            "text/plain": [
              "<Figure size 432x288 with 1 Axes>"
            ]
          },
          "metadata": {
            "tags": []
          }
        }
      ]
    },
    {
      "cell_type": "markdown",
      "metadata": {
        "id": "I-TX1XQGaMeI"
      },
      "source": [
        "Ada boost gives us a better fit in some cases, but not all. Tweak the depth and number of trees and observe how it influences our graph.\n",
        "\n",
        "Let's now transition to gradient boosting. Similarly we create \n"
      ]
    },
    {
      "cell_type": "code",
      "metadata": {
        "id": "B1_r99-GaT0_"
      },
      "source": [
        "from sklearn.ensemble import GradientBoostingRegressor\n",
        "target_number_of_trees = 300\n",
        "\n",
        "gbr = GradientBoostingRegressor(n_estimators=target_number_of_trees, learning_rate=0.1, max_depth=2)\n",
        "gbr = gbr.fit(X_train, y_train)\n",
        "\n",
        "y_pred_gbr = gbr.predict(X)\n",
        "\n",
        "plt.figure()\n",
        "plt.scatter(X, y, c=\"k\", label=\"training samples\")\n",
        "plt.plot(X, y_pred_tree, c=\"r\", label=\"single tree\", linewidth=4)\n",
        "plt.plot(X, y_pred_ada, c=\"g\", label=\"ada 300\", linewidth=4)\n",
        "plt.plot(X, y_pred_gbr, c=\"b\", label=\"gbr 300\")\n",
        "plt.xlabel(\"data\")\n",
        "plt.ylabel(\"target\")\n",
        "plt.title(\"Basic data\")\n",
        "plt.legend()\n",
        "plt.show()\n"
      ],
      "execution_count": null,
      "outputs": []
    },
    {
      "cell_type": "markdown",
      "metadata": {
        "id": "sy7ZjWO5aSTm"
      },
      "source": [
        "Before you move forward, **pause!**\n",
        "\n",
        "Play around with the parameters to the various models we've created. Modify a parameter, make a prediction on its impact on the graph, then see if it is correct.\n",
        "\n",
        "For example: \n",
        "- What happens if I change the learning rate from 0.1 to 0.7?\n",
        "- I think the blue graph will be a closer fit to the data\n",
        "- Re run and see if it is the case.\n",
        "\n",
        "Do this for the various models, tweaking as many of the parameters as you can. If your predictions don't pan out, involve your peers or your TMs and get support.\n",
        "\n",
        "Let's plot another important graph: The error progression as we train our gradient boosted trees."
      ]
    },
    {
      "cell_type": "code",
      "metadata": {
        "id": "q_jr7i6_bZsW",
        "colab": {
          "base_uri": "https://localhost:8080/",
          "height": 404
        },
        "outputId": "8263fad5-2e5e-484b-ad5f-05c8cc885e84"
      },
      "source": [
        "# Credit to this example from sklearn: https://scikit-learn.org/stable/auto_examples/ensemble/plot_gradient_boosting_regression.html#sphx-glr-auto-examples-ensemble-plot-gradient-boosting-regression-py\n",
        "\n",
        "\n",
        "\n",
        "plt.figure(figsize=(12, 6))\n",
        "plt.subplot(1, 2, 1)\n",
        "plt.title('Deviance')\n",
        "# the train_score_ variable is a list that records the deviance of the model for any given number of trees. gbr.train_score_[0] is the deviance when we only had the initial tree, whereas\n",
        "# gbr.train_score_[100] is the deviance by the time we have created 100 trees.\n",
        "# This is plotted against a simple list that goes from 1 to our target number of trees.\n",
        "plt.plot(np.arange(target_number_of_trees) + 1, gbr.train_score_, 'b-',\n",
        "         label='Training Set Deviance')\n",
        "\n",
        "# We also want to see how well we could handle the test set each time. \n",
        "# The staged_predict function takes an X, and returns a list of the predictions for X at various stages of the training: What did we pick when we had 1 tree, 2 trees, 3 trees, etc.\n",
        "# We will compare our predictions at each stage against the test data, and compute the deviance\n",
        "test_score = np.zeros((target_number_of_trees,), dtype=np.float64) # this is just a list of 0s\n",
        "\n",
        "for i, y_pred in enumerate(gbr.staged_predict(X_test)):\n",
        "    # For each prediction, compute the loss function comparing the actual data with your prediction at a given stage of training\n",
        "    test_score[i] = gbr.loss_(y_test, y_pred)\n",
        "    \n",
        "plt.plot(np.arange(target_number_of_trees) + 1, test_score, 'r-',\n",
        "         label='Test Set Deviance')\n",
        "\n",
        "plt.legend(loc='upper right')\n",
        "plt.xlabel('Boosting Iterations')\n",
        "plt.ylabel('Deviance')\n",
        "plt.show()\n"
      ],
      "execution_count": null,
      "outputs": [
        {
          "output_type": "display_data",
          "data": {
            "image/png": "[encoded data removed]",
            "text/plain": [
              "<Figure size 864x432 with 1 Axes>"
            ]
          },
          "metadata": {
            "tags": []
          }
        }
      ]
    },
    {
      "cell_type": "markdown",
      "metadata": {
        "id": "VfR8LiYpf94k"
      },
      "source": [
        "Again, play with the various parameters to our gradient boosted tree and see how it impacts this graph: How does the depth of the tree influence it? the number of trees? the learning rate? \n",
        "\n",
        "Time for some challenges!\n",
        "\n",
        "# Challenge\n",
        "\n",
        "The following [dataset](https://docs.google.com/spreadsheets/d/1a-hCKt0KrtP4CjUfhsIMJRkbiT9LyzhiF9xSLFie5XE/edit?usp=sharing) contains information on contraceptive use by women in Indonesia. The variable we are trying to predict is the *contraceptive_used* variable which is categorical (1 indicates no use, 2 indicates long-term methods, 3 indicates short term methods)\n",
        "\n",
        "The *age* and *number_of_children_born* variables are continuous, all other variables in the dataset are categorical.\n",
        "\n",
        "This time, you will have to use a [gradient boosted classifier](https://scikit-learn.org/stable/modules/generated/sklearn.ensemble.GradientBoostingClassifier.html#sklearn.ensemble.GradientBoostingClassifier). \n",
        "\n",
        "Tips:\n",
        "\n",
        "*   Set up your plot for deviance, and use it as a guideline for tweaking your model. What learning rate did you try? What tree depth? What number of trees?\n",
        "*   Display the most relevant variables that influence prediction. The approach for this is similar to what we've shown in the random forest example.\n",
        "*   Talking about random forests, train a random forest model to make the same prediction. Compare and contrast both models: Which one do you trust more?\n",
        "*   Train an [adaboost classifier](https://scikit-learn.org/stable/modules/generated/sklearn.ensemble.AdaBoostClassifier.html#sklearn.ensemble.AdaBoostClassifier), and compare it to the above 2 models.\n"
      ]
    },
    {
      "cell_type": "code",
      "metadata": {
        "id": "tI9AYxhRlUHh"
      },
      "source": [
        "import pandas as pd\n",
        "\n",
        "# make sure to download the dataset and add it to your collab first!\n",
        "data = pd.read_csv('cmc.csv')\n",
        "data.describe()"
      ],
      "execution_count": null,
      "outputs": []
    },
    {
      "cell_type": "code",
      "metadata": {
        "id": "oJmIGkxU0v8Y"
      },
      "source": [
        "import numpy as np\n",
        "import matplotlib.pyplot as plt\n",
        "\n",
        "from sklearn import ensemble\n",
        "from sklearn import datasets\n",
        "from sklearn.utils import shuffle\n",
        "from sklearn.metrics import mean_squared_error\n",
        "\n",
        "boston = datasets.load_boston()\n",
        "X, y = shuffle(boston.data, boston.target, random_state=13)\n",
        "X = X.astype(np.float32)\n",
        "offset = int(X.shape[0] * 0.9)\n",
        "X_train, y_train = X[:offset], y[:offset]\n",
        "X_test, y_test = X[offset:], y[offset:]"
      ],
      "execution_count": null,
      "outputs": []
    },
    {
      "cell_type": "code",
      "metadata": {
        "id": "6VlLGOzL06Jb"
      },
      "source": [
        "pd.DataFrame(X)"
      ],
      "execution_count": null,
      "outputs": []
    },
    {
      "cell_type": "code",
      "metadata": {
        "id": "AXnqSLhX1Bkn"
      },
      "source": [
        ""
      ],
      "execution_count": null,
      "outputs": []
    }
  ]
}