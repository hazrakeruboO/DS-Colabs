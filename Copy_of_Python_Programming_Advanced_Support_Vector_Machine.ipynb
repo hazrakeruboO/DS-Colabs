{
  "nbformat": 4,
  "nbformat_minor": 0,
  "metadata": {
    "colab": {
      "name": "Copy of Python Programming: Advanced Support Vector Machine.ipynb",
      "provenance": [],
      "toc_visible": true,
      "include_colab_link": true
    },
    "kernelspec": {
      "name": "python3",
      "display_name": "Python 3"
    }
  },
  "cells": [
    {
      "cell_type": "markdown",
      "metadata": {
        "id": "view-in-github",
        "colab_type": "text"
      },
      "source": [
        "<a href=\"https://colab.research.google.com/github/hazrakeruboO/DS-Colabs/blob/main/Copy_of_Python_Programming_Advanced_Support_Vector_Machine.ipynb\" target=\"_parent\"><img src=\"https://colab.research.google.com/assets/colab-badge.svg\" alt=\"Open In Colab\"/></a>"
      ]
    },
    {
      "cell_type": "markdown",
      "metadata": {
        "id": "Zx5FNayGz-yF"
      },
      "source": [
        "<font color=green>To start working on this notebook, or any other notebook that we will use in the Moringa Data Science Course, we will need to save our own copy of it. We can do this by clicking File > Save a Copy in Drive. We will then be able to make edits to our own copy of this notebook.</font>"
      ]
    },
    {
      "cell_type": "markdown",
      "metadata": {
        "id": "O-E6klLe7hnf"
      },
      "source": [
        "# Python Programming: Advanced SVM "
      ]
    },
    {
      "cell_type": "markdown",
      "metadata": {
        "id": "8iR3uYfB83ME"
      },
      "source": [
        "## Importing Libraries"
      ]
    },
    {
      "cell_type": "code",
      "metadata": {
        "id": "q_VJNdYE9BqU"
      },
      "source": [
        "import numpy as np\n",
        "import pandas as pd\n",
        "import matplotlib.pyplot as plt\n",
        "import seaborn as sns; sns.set(font_scale=1.2)\n",
        "from sklearn.svm import SVC\n",
        "from sklearn.decomposition import PCA\n",
        "from sklearn.model_selection import train_test_split\n",
        "from sklearn.metrics import confusion_matrix,accuracy_score"
      ],
      "execution_count": null,
      "outputs": []
    },
    {
      "cell_type": "markdown",
      "metadata": {
        "id": "KZtYrsBp8A9V"
      },
      "source": [
        "## Example: Recipe Classification (with multiple classes: 3 classes) "
      ]
    },
    {
      "cell_type": "markdown",
      "metadata": {
        "id": "2g8wF_y_9avg"
      },
      "source": [
        "Let's revisit the recipe classification example we had in the previous session. Instead of classifying two classes, we are going to classify 3 classes, which are muffins, cupcakes and scones."
      ]
    },
    {
      "cell_type": "code",
      "metadata": {
        "id": "BUasWoVH_6iJ"
      },
      "source": [
        "# Loading data\n",
        "recipes = pd.read_csv('http://bit.ly/muffins_cupcakes_scone')\n",
        "recipes"
      ],
      "execution_count": null,
      "outputs": []
    },
    {
      "cell_type": "code",
      "metadata": {
        "id": "RVJJvofgAj91"
      },
      "source": [
        "# Plotting our desired features\n",
        "sns.lmplot('Flour','Butter', data=recipes, hue='Type', palette='Set1', fit_reg=False, scatter_kws={\"s\": 70})\n"
      ],
      "execution_count": null,
      "outputs": []
    },
    {
      "cell_type": "markdown",
      "metadata": {
        "id": "JYnX-BqTA9V7"
      },
      "source": [
        "**Fitting the Model**"
      ]
    },
    {
      "cell_type": "code",
      "metadata": {
        "id": "BsdhcPzMBVLa"
      },
      "source": [
        "# Specify the input for the model\n",
        "sugar_butter = recipes[['Flour', 'Butter']].as_matrix()\n",
        "\n",
        "# Convert the data type for 'Type' column from object to category\n",
        "recipes['Type'] = recipes['Type'].astype('category')\n",
        "\n",
        "# Convert each value in the 'Type' column into a number. This will be our target column\n",
        "type_label =recipes['Type'].cat.codes\n",
        "print(type_label)\n",
        "\n",
        "# Fit the model\n",
        "model = SVC(kernel= 'linear')\n",
        "clf_model = model.fit(sugar_butter,type_label)\n",
        "\n"
      ],
      "execution_count": null,
      "outputs": []
    },
    {
      "cell_type": "markdown",
      "metadata": {
        "id": "RlYt9gpAFSQu"
      },
      "source": [
        "**Visualization**"
      ]
    },
    {
      "cell_type": "code",
      "metadata": {
        "id": "bpR5wFkaSdk2"
      },
      "source": [
        "\n",
        "\n",
        "\n",
        "\n",
        "\n",
        "# Create a mesh grid for our graph\n",
        "def make_meshgrid(x, y, h=.02):\n",
        "    x_min, x_max = x.min() - 1, x.max() + 1\n",
        "    y_min, y_max = y.min() - 1, y.max() + 1\n",
        "    xx, yy = np.meshgrid(np.arange(x_min, x_max, h), np.arange(y_min, y_max, h))\n",
        "    return xx, yy\n",
        "\n",
        "# A function that creates the hyperplanes from our model\n",
        "def plot_contours(ax, clf, xx, yy, **params):\n",
        "    Z = clf_model.predict(np.c_[xx.ravel(), yy.ravel()])\n",
        "    Z = Z.reshape(xx.shape)\n",
        "    out = ax.contourf(xx, yy, Z, **params)\n",
        "    return out\n",
        "\n",
        "fig, ax = plt.subplots()\n",
        "# title for the plots\n",
        "title = ('Recipe Classification with linear SVC')\n",
        "# Set-up grid for plotting.\n",
        "X0, X1 = sugar_butter[:, 0], sugar_butter[:, 1]\n",
        "xx, yy = make_meshgrid(X0, X1)\n",
        "\n",
        "plot_contours(ax, clf_model, xx, yy, cmap=plt.cm.coolwarm, alpha=0.8)\n",
        "ax.scatter(X0, X1, c=type_label, cmap=plt.cm.coolwarm, s=20, edgecolors='k')\n",
        "ax.set_ylabel('Butter')\n",
        "ax.set_xlabel('Flour')\n",
        "ax.set_xticks(())\n",
        "ax.set_yticks(())\n",
        "ax.set_title(title)\n",
        "plt.show()"
      ],
      "execution_count": null,
      "outputs": []
    },
    {
      "cell_type": "markdown",
      "metadata": {
        "id": "C1lWBN6tMkqB"
      },
      "source": [
        "**Prediction**"
      ]
    },
    {
      "cell_type": "code",
      "metadata": {
        "id": "Cb7xeB51NfXW"
      },
      "source": [
        "# FUnction that predict whether a recipe is a muffin, cupcake or a scone\n",
        "def muffin_or_cupcake(flour, sugar):\n",
        "    if(model.predict([[flour, sugar]]))==0:\n",
        "        print('You\\'re looking at a cupcake recipe!')\n",
        "    elif(model.predict([[flour,sugar]]))==1:\n",
        "        print('You\\'re looking at a muffin recipe!')\n",
        "    else:\n",
        "      print('You\\'re looking at a scone recipe!')\n",
        "\n",
        "# Predict if 60 parts flour and 30 parts butter\n",
        "muffin_or_cupcake(60, 30)"
      ],
      "execution_count": null,
      "outputs": []
    },
    {
      "cell_type": "markdown",
      "metadata": {
        "id": "cgSmMeTQQuDI"
      },
      "source": [
        "## Example 2: Flower Classification (with multiple classes and Kernel trick)"
      ]
    },
    {
      "cell_type": "markdown",
      "metadata": {
        "id": "nyF3r02HS2bW"
      },
      "source": [
        "In this example we are use the all ffamous Iris dataset to classify flowers into 3 classes; Setosa, Versicolor and Virginica. We are also going to implement SVM using 3 kernel functions; polynomial, radial basis function (rbf) and sigmoid. Finally, we are going to do a comparison of the kernel performance.\n",
        "Well,let's get into it!!"
      ]
    },
    {
      "cell_type": "code",
      "metadata": {
        "id": "sW_KvDM_avjW"
      },
      "source": [
        "# Loading data\n",
        "iris_data = pd.read_csv('http://bit.ly/Iris_flower_data')\n",
        "iris_data.head()"
      ],
      "execution_count": null,
      "outputs": []
    },
    {
      "cell_type": "markdown",
      "metadata": {
        "id": "VLzFQcVddHxO"
      },
      "source": [
        "**Data Exploration**"
      ]
    },
    {
      "cell_type": "code",
      "metadata": {
        "id": "bJUsyWU2dO-L",
        "colab": {
          "base_uri": "https://localhost:8080/",
          "height": 34
        },
        "outputId": "a31ec151-5237-4f62-f07e-23ed4003d139"
      },
      "source": [
        "# The way the dataset is right now, it would be difficult to plot the graph on a 2-Dimencional plane because the dataset has 4 features. \n",
        "# Therefore we need to reduce the feature by applying a reduction algorithm.\n",
        "\n",
        "# Removing the target column\n",
        "iris = iris_data.drop('Class', axis=1)\n",
        "y = iris_data['Class']\n",
        "\n",
        "# Applying the reduction algorithm: PCA\n",
        "pca = PCA(n_components=2).fit(iris)\n",
        "X = pca.transform(iris)\n",
        "X.shape"
      ],
      "execution_count": null,
      "outputs": [
        {
          "output_type": "execute_result",
          "data": {
            "text/plain": [
              "(150, 2)"
            ]
          },
          "metadata": {
            "tags": []
          },
          "execution_count": 4
        }
      ]
    },
    {
      "cell_type": "markdown",
      "metadata": {
        "id": "oUV-NNvEh4sk"
      },
      "source": [
        "**Split the data into train and test sets**"
      ]
    },
    {
      "cell_type": "code",
      "metadata": {
        "id": "eyO1aDgQh1CG"
      },
      "source": [
        "# Convert the data type for 'Class' column from object to category\n",
        "y = y.astype('category')\n",
        "\n",
        "# Convert each value in the 'Type' column into a number. This will be our target column\n",
        "y =y.cat.codes\n",
        "\n",
        "#  Split the data into train and test set\n",
        "X_train, X_test, y_train, y_test = train_test_split(X, y, test_size = 0.2, random_state = 0)\n"
      ],
      "execution_count": null,
      "outputs": []
    },
    {
      "cell_type": "markdown",
      "metadata": {
        "id": "L06N7DeEid1n"
      },
      "source": [
        "### Fitting the model: Polymomial function"
      ]
    },
    {
      "cell_type": "code",
      "metadata": {
        "id": "kuv3e4Y2inrh"
      },
      "source": [
        "# Building the model \n",
        "polyclassifier = SVC(kernel='poly',degree=3,gamma='auto_derecated')\n",
        "# Training the model using the training set\n",
        "polyclassifier.fit(X_train, y_train)"
      ],
      "execution_count": null,
      "outputs": []
    },
    {
      "cell_type": "markdown",
      "metadata": {
        "id": "I9Ku42Dejkp7"
      },
      "source": [
        "**Visualization**"
      ]
    },
    {
      "cell_type": "code",
      "metadata": {
        "id": "B_gWkASGjrRo"
      },
      "source": [
        "# Create a mesh grid for our graph\n",
        "def make_meshgrid(x, y, h=.02):\n",
        "    x_min, x_max = x.min() - 1, x.max() + 1\n",
        "    y_min, y_max = y.min() - 1, y.max() + 1\n",
        "    xx, yy = np.meshgrid(np.arange(x_min, x_max, h), np.arange(y_min, y_max, h))\n",
        "    return xx, yy\n",
        "\n",
        "# A function that creates the hyperplanes from our model\n",
        "def plot_contours(ax, clf, xx, yy, **params):\n",
        "    Z = polyclassifier.predict(np.c_[xx.ravel(), yy.ravel()])\n",
        "    Z = Z.reshape(xx.shape)\n",
        "    out = ax.contourf(xx, yy, Z, **params)\n",
        "    return out\n",
        "\n",
        "fig, ax = plt.subplots()\n",
        "# title for the plots\n",
        "title = ('Flower Classification with polynomial SVC')\n",
        "# Set-up grid for plotting.\n",
        "X0, X1 = X[:, 0], X[:, 1]\n",
        "xx, yy = make_meshgrid(X0, X1)\n",
        "\n",
        "plot_contours(ax, polyclassifier, xx, yy, cmap=plt.cm.Paired, alpha=0.8)\n",
        "ax.scatter(X0, X1, c=y, cmap=plt.cm.Paired, s=20, edgecolors='k')\n",
        "# ax.set_ylabel()\n",
        "# ax.set_xlabel()\n",
        "ax.set_xticks(())\n",
        "ax.set_yticks(())\n",
        "ax.set_title(title)\n",
        "plt.show()"
      ],
      "execution_count": null,
      "outputs": []
    },
    {
      "cell_type": "markdown",
      "metadata": {
        "id": "yhBG2nmNq199"
      },
      "source": [
        "**Optimization: Parameter tuning**\n",
        "\n",
        "For non-linear kernel, we use the gamma parameter to improve the perfomance.A lower value of Gamma will loosely fit the training dataset, whereas a higher value of gamma will exactly fit the training dataset, which causes over-fitting.\n",
        "Try playing around with the value of gamma and notice what happens"
      ]
    },
    {
      "cell_type": "markdown",
      "metadata": {
        "id": "wvlg0PF4sDkG"
      },
      "source": [
        "**Making Predictions**"
      ]
    },
    {
      "cell_type": "code",
      "metadata": {
        "id": "3GaEDnPisLml"
      },
      "source": [
        "# making prediction\n",
        "y_pred = polyclassifier.predict(X_test)"
      ],
      "execution_count": null,
      "outputs": []
    },
    {
      "cell_type": "code",
      "metadata": {
        "id": "P_zsel7-spIU"
      },
      "source": [
        "# Model Evaluation\n",
        "print( accuracy_score(y_test, y_pred))\n",
        "print(confusion_matrix(y_test, y_pred))"
      ],
      "execution_count": null,
      "outputs": []
    },
    {
      "cell_type": "markdown",
      "metadata": {
        "id": "ltdUiWGivA6a"
      },
      "source": [
        "### Fitting the model: Radial basis function (rbf)"
      ]
    },
    {
      "cell_type": "code",
      "metadata": {
        "id": "KtraOVokvID5"
      },
      "source": [
        "# Building the model \n",
        "rbfclassifier = SVC(kernel='rbf')\n",
        "# Training the model using the training set\n",
        "rbfclassifier.fit(X_train, y_train)"
      ],
      "execution_count": null,
      "outputs": []
    },
    {
      "cell_type": "markdown",
      "metadata": {
        "id": "4YlvYqfJvZjq"
      },
      "source": [
        "**Visualization**"
      ]
    },
    {
      "cell_type": "code",
      "metadata": {
        "id": "77bpiZ4pveiZ"
      },
      "source": [
        "# Create a mesh grid for our graph\n",
        "def make_meshgrid(x, y, h=.02):\n",
        "    x_min, x_max = x.min() - 1, x.max() + 1\n",
        "    y_min, y_max = y.min() - 1, y.max() + 1\n",
        "    xx, yy = np.meshgrid(np.arange(x_min, x_max, h), np.arange(y_min, y_max, h))\n",
        "    return xx, yy\n",
        "\n",
        "# A function that creates the hyperplanes from our model\n",
        "def plot_contours(ax, clf, xx, yy, **params):\n",
        "    Z = rbfclassifier.predict(np.c_[xx.ravel(), yy.ravel()])\n",
        "    Z = Z.reshape(xx.shape)\n",
        "    out = ax.contourf(xx, yy, Z, **params)\n",
        "    return out\n",
        "\n",
        "fig, ax = plt.subplots()\n",
        "# title for the plots\n",
        "title = ('Flower Classification with rbf SVC')\n",
        "# Set-up grid for plotting.\n",
        "X0, X1 = X[:, 0], X[:, 1]\n",
        "xx, yy = make_meshgrid(X0, X1)\n",
        "\n",
        "plot_contours(ax, rbfclassifier, xx, yy, cmap=plt.cm.autumn, alpha=0.8)\n",
        "ax.scatter(X0, X1, c=y, cmap=plt.cm.autumn, s=20, edgecolors='k')\n",
        "\n",
        "ax.set_xticks(())\n",
        "ax.set_yticks(())\n",
        "ax.set_title(title)\n",
        "plt.show()"
      ],
      "execution_count": null,
      "outputs": []
    },
    {
      "cell_type": "markdown",
      "metadata": {
        "id": "yqyvZTm3wIIz"
      },
      "source": [
        "**Optimization: Parameter tuning**\n",
        "\n",
        "Just like with polynomial, play around with the gamma parameter to get a feel of how it works"
      ]
    },
    {
      "cell_type": "code",
      "metadata": {
        "id": "GPpmLI3lwVvz"
      },
      "source": [
        "# making prediction\n",
        "y_pred = rbfclassifier.predict(X_test)"
      ],
      "execution_count": null,
      "outputs": []
    },
    {
      "cell_type": "code",
      "metadata": {
        "id": "3UkvpTeZwclr"
      },
      "source": [
        "# Model Evaluation\n",
        "print( accuracy_score(y_test, y_pred))\n",
        "print(confusion_matrix(y_test, y_pred))"
      ],
      "execution_count": null,
      "outputs": []
    },
    {
      "cell_type": "markdown",
      "metadata": {
        "id": "jA-gzWNCw19o"
      },
      "source": [
        "### Fitting the model: Sigmoid function"
      ]
    },
    {
      "cell_type": "code",
      "metadata": {
        "id": "UUOnK1Zbw_aY"
      },
      "source": [
        "# Building the model \n",
        "sigclassifier = SVC(kernel='sigmoid')\n",
        "# Training the model using the training set\n",
        "sigclassifier.fit(X_train, y_train)"
      ],
      "execution_count": null,
      "outputs": []
    },
    {
      "cell_type": "markdown",
      "metadata": {
        "id": "0U9zPMPTxmKB"
      },
      "source": [
        "**Visualization**"
      ]
    },
    {
      "cell_type": "code",
      "metadata": {
        "id": "EREl4Klbxqe1",
        "colab": {
          "base_uri": "https://localhost:8080/",
          "height": 271
        },
        "outputId": "1612ccd9-3ea1-4610-8016-aad0a85dc3d5"
      },
      "source": [
        "# Create a mesh grid for our graph\n",
        "def make_meshgrid(x, y, h=.02):\n",
        "    x_min, x_max = x.min() - 1, x.max() + 1\n",
        "    y_min, y_max = y.min() - 1, y.max() + 1\n",
        "    xx, yy = np.meshgrid(np.arange(x_min, x_max, h), np.arange(y_min, y_max, h))\n",
        "    return xx, yy\n",
        "\n",
        "# A function that creates the hyperplanes from our model\n",
        "def plot_contours(ax, clf, xx, yy, **params):\n",
        "    Z = sigclassifier.predict(np.c_[xx.ravel(), yy.ravel()])\n",
        "    Z = Z.reshape(xx.shape)\n",
        "    out = ax.contourf(xx, yy, Z, **params)\n",
        "    return out\n",
        "\n",
        "fig, ax = plt.subplots()\n",
        "# title for the plots\n",
        "title = ('Flower Classification with sigmoid SVC')\n",
        "# Set-up grid for plotting.\n",
        "X0, X1 = X[:, 0], X[:, 1]\n",
        "xx, yy = make_meshgrid(X0, X1)\n",
        "\n",
        "plot_contours(ax, sigclassifier, xx, yy, cmap=plt.cm.cool, alpha=0.8)\n",
        "ax.scatter(X0, X1, c=y, cmap=plt.cm.cool, s=20, edgecolors='k')\n",
        "ax.set_xticks(())\n",
        "ax.set_yticks(())\n",
        "ax.set_title(title)\n",
        "plt.show()"
      ],
      "execution_count": null,
      "outputs": [
        {
          "output_type": "display_data",
          "data": {
            "image/png": "[encoded data removed]",
            "text/plain": [
              "<Figure size 432x288 with 1 Axes>"
            ]
          },
          "metadata": {
            "tags": []
          }
        }
      ]
    },
    {
      "cell_type": "code",
      "metadata": {
        "id": "RaAgBDW2yMPO"
      },
      "source": [
        "# making prediction\n",
        "y_pred = sigclassifier.predict(X_test)"
      ],
      "execution_count": null,
      "outputs": []
    },
    {
      "cell_type": "code",
      "metadata": {
        "id": "I4cwm_wQyRjg",
        "colab": {
          "base_uri": "https://localhost:8080/",
          "height": 85
        },
        "outputId": "7c40047e-d106-4d6c-cc36-87047e498e4a"
      },
      "source": [
        "# Model Evaluation\n",
        "print( accuracy_score(y_test, y_pred))\n",
        "print(confusion_matrix(y_test, y_pred))"
      ],
      "execution_count": null,
      "outputs": [
        {
          "output_type": "stream",
          "text": [
            "0.5333333333333333\n",
            "[[11  0  0]\n",
            " [ 1  1 11]\n",
            " [ 0  2  4]]\n"
          ],
          "name": "stdout"
        }
      ]
    },
    {
      "cell_type": "markdown",
      "metadata": {
        "id": "ulWIXAZb0UQR"
      },
      "source": [
        "**Comparison of the Kernel Performance**\n",
        "\n",
        "When we compare the performance of the three kernel, it clear that sigmoid performs the worst. This is because the sigmoid function returns two values, 0 and 1 hence its more suited to binary classification problems.\n",
        "\n",
        "On the other hand, we can see that the rbf kernel also know as **Gaussian Kernel** achieved a 100% prediction rate. However, there is no set rule as to which kernel to use for which scenario. the rule of thumb is that you should test all kernels and select the one that performs the best on your dataset"
      ]
    },
    {
      "cell_type": "markdown",
      "metadata": {
        "id": "TU_4mYEb2k75"
      },
      "source": [
        "## <font color=green> Challenge 1</font>"
      ]
    },
    {
      "cell_type": "code",
      "metadata": {
        "id": "upheSbjN2vGH"
      },
      "source": [
        "# You are given a glass dataset, use svm to classify the glasses into the following classes; 1 building_windows_float_processed -- 2 building_windows_non_float_processed -- 3 vehicle_windows_float_processed -- 4 vehicle_windows_non_float_processed (none in this database) -- 5 containers -- 6 tableware -- 7 headlamps\n",
        "# ----------------- \n",
        "# Dataset url -------> http://bit.ly/glass_classification\n",
        "# ------------------\n",
        "Your code goes here"
      ],
      "execution_count": null,
      "outputs": []
    },
    {
      "cell_type": "markdown",
      "metadata": {
        "id": "UOp_DedzI0eb"
      },
      "source": [
        "## <font color=green>Challenge 2</font>"
      ]
    },
    {
      "cell_type": "code",
      "metadata": {
        "id": "P3EKa-0aI-Go"
      },
      "source": [
        "# Given the following dataset, classify the wine into either of the three categories\n",
        "# ---------\n",
        "# Dataset ------> http://bit.ly/wine_varieties\n",
        "# --------\n",
        "Your code goes here"
      ],
      "execution_count": null,
      "outputs": []
    },
    {
      "cell_type": "markdown",
      "metadata": {
        "id": "LlqoNFzoJYrp"
      },
      "source": [
        "## <font color=green>Challenge 3</font>"
      ]
    },
    {
      "cell_type": "code",
      "metadata": {
        "id": "Z2UH97lWJa6Y"
      },
      "source": [
        "# Given the following dataset, use svm to classify the seed into the three categories\n",
        "# ---------------\n",
        "# Dataset url --------> http://bit.ly/seeds_dataset\n",
        "# -----------------"
      ],
      "execution_count": null,
      "outputs": []
    }
  ]
}