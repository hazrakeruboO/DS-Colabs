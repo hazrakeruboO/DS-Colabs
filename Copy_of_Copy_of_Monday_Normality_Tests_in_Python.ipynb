{
  "nbformat": 4,
  "nbformat_minor": 0,
  "metadata": {
    "colab": {
      "name": "Copy of Copy of Monday: Normality Tests in Python",
      "provenance": [],
      "collapsed_sections": [],
      "toc_visible": true,
      "include_colab_link": true
    },
    "kernelspec": {
      "display_name": "Python 3",
      "name": "python3"
    }
  },
  "cells": [
    {
      "cell_type": "markdown",
      "metadata": {
        "id": "view-in-github",
        "colab_type": "text"
      },
      "source": [
        "<a href=\"https://colab.research.google.com/github/hazrakeruboO/DS-Colabs/blob/main/Copy_of_Copy_of_Monday_Normality_Tests_in_Python.ipynb\" target=\"_parent\"><img src=\"https://colab.research.google.com/assets/colab-badge.svg\" alt=\"Open In Colab\"/></a>"
      ]
    },
    {
      "cell_type": "markdown",
      "metadata": {
        "id": "Nipq9BTtJozR"
      },
      "source": [
        "<font color=\"green\">*To start working on this notebook, or any other notebook that we will use in the Moringa Data Science Course, we will need to save our own copy of it. We can do this by clicking File > Save a Copy in Drive. We will then be able to make edits to our own copy of this notebook.*</font>"
      ]
    },
    {
      "cell_type": "markdown",
      "metadata": {
        "id": "KoNHMHC9GK3b"
      },
      "source": [
        "# Monday: Normality Tests with Python"
      ]
    },
    {
      "cell_type": "markdown",
      "metadata": {
        "id": "ghkmT_RKGOnf"
      },
      "source": [
        "When we work with a dataset as a data scientist, it can be very helpful to test the data for normality. The normality tests are statistical processes used to determine if a sample or any group of data fits a standard normal distribution. Normality tests are used to influence the decision when working with a sample of data on whether to use specific kinds of statistical methods during analysis i.e. parametric or nonparametric methods.\n",
        "\n"
      ]
    },
    {
      "cell_type": "markdown",
      "metadata": {
        "id": "e1f8QJ4ARaD8"
      },
      "source": [
        "## Importing our Libraries"
      ]
    },
    {
      "cell_type": "code",
      "metadata": {
        "id": "QOluu3PVRdYZ"
      },
      "source": [
        "# Importing matplotlib\n",
        "from matplotlib import pyplot\n",
        "import pandas as pd\n",
        "import seaborn as sns\n",
        "\n",
        "\n",
        "\n",
        "# Importing functions from numpy\n",
        "from numpy.random import seed\n",
        "from numpy.random import randn"
      ],
      "execution_count": null,
      "outputs": []
    },
    {
      "cell_type": "markdown",
      "metadata": {
        "id": "3JS_Y2SCHA8-"
      },
      "source": [
        "## 1.0 Histogram Plot\n"
      ]
    },
    {
      "cell_type": "code",
      "metadata": {
        "colab": {
          "base_uri": "https://localhost:8080/",
          "height": 265
        },
        "id": "xo7KQIWwGJQl",
        "outputId": "64879e05-55ff-4fa7-cd2f-53620d22deec"
      },
      "source": [
        "# Example 1\n",
        "# ---\n",
        "# A histogram can be used to test whether data is normally distributed. \n",
        "# This test simply consists of looking at the histogram and discerning \n",
        "# whether it approximates the bell curve of a normal distribution.\n",
        "# ---\n",
        "#\n",
        "\n",
        "# generate univariate observations\n",
        "data = 5 * randn(100) + 50\n",
        "\n",
        "# histogram plot\n",
        "pyplot.hist(data)\n",
        "pyplot.show()\n",
        "\n",
        "# From the resulting histogram, we can see a Gaussian-like shape to the data, \n",
        "# that although is not strongly the familiar bell-shape, is a rough approximation."
      ],
      "execution_count": null,
      "outputs": [
        {
          "output_type": "display_data",
          "data": {
            "image/png": "[encoded data removed]",
            "text/plain": [
              "<Figure size 432x288 with 1 Axes>"
            ]
          },
          "metadata": {
            "needs_background": "light"
          }
        }
      ]
    },
    {
      "cell_type": "markdown",
      "metadata": {
        "id": "s3hbig-2IdtH"
      },
      "source": [
        "### <font color=\"green\">1.0 Challenges</font>"
      ]
    },
    {
      "cell_type": "code",
      "metadata": {
        "id": "3F2wvadV4KTl",
        "colab": {
          "base_uri": "https://localhost:8080/",
          "height": 419
        },
        "outputId": "228f9017-29f6-49f4-d714-74445ed889eb"
      },
      "source": [
        "# Challenge 1\n",
        "# ---\n",
        "# Question: Determine whether the given data follows a normal distribution using the histogram plot\n",
        "# ---\n",
        "# Dataset url = http://bit.ly/GaussianDistributionDataset1\n",
        "# this a text file https://raw.githubusercontent.com/ManasHardas/shapiro-wilk-tests/master/test_datasets/normal1.txt\n",
        "#mport requests\n",
        "#\n",
        "dataset1 = pd.read_csv('http://bit.ly/GaussianDistributionDataset1',names=['column1'])\n",
        "dataset1\n"
      ],
      "execution_count": null,
      "outputs": [
        {
          "output_type": "execute_result",
          "data": {
            "text/html": [
              "<div>\n",
              "<style scoped>\n",
              "    .dataframe tbody tr th:only-of-type {\n",
              "        vertical-align: middle;\n",
              "    }\n",
              "\n",
              "    .dataframe tbody tr th {\n",
              "        vertical-align: top;\n",
              "    }\n",
              "\n",
              "    .dataframe thead th {\n",
              "        text-align: right;\n",
              "    }\n",
              "</style>\n",
              "<table border=\"1\" class=\"dataframe\">\n",
              "  <thead>\n",
              "    <tr style=\"text-align: right;\">\n",
              "      <th></th>\n",
              "      <th>column1</th>\n",
              "    </tr>\n",
              "  </thead>\n",
              "  <tbody>\n",
              "    <tr>\n",
              "      <th>0</th>\n",
              "      <td>116.665861</td>\n",
              "    </tr>\n",
              "    <tr>\n",
              "      <th>1</th>\n",
              "      <td>107.741260</td>\n",
              "    </tr>\n",
              "    <tr>\n",
              "      <th>2</th>\n",
              "      <td>92.701130</td>\n",
              "    </tr>\n",
              "    <tr>\n",
              "      <th>3</th>\n",
              "      <td>90.084331</td>\n",
              "    </tr>\n",
              "    <tr>\n",
              "      <th>4</th>\n",
              "      <td>94.824923</td>\n",
              "    </tr>\n",
              "    <tr>\n",
              "      <th>...</th>\n",
              "      <td>...</td>\n",
              "    </tr>\n",
              "    <tr>\n",
              "      <th>995</th>\n",
              "      <td>115.806996</td>\n",
              "    </tr>\n",
              "    <tr>\n",
              "      <th>996</th>\n",
              "      <td>108.465966</td>\n",
              "    </tr>\n",
              "    <tr>\n",
              "      <th>997</th>\n",
              "      <td>146.022948</td>\n",
              "    </tr>\n",
              "    <tr>\n",
              "      <th>998</th>\n",
              "      <td>113.980023</td>\n",
              "    </tr>\n",
              "    <tr>\n",
              "      <th>999</th>\n",
              "      <td>65.883428</td>\n",
              "    </tr>\n",
              "  </tbody>\n",
              "</table>\n",
              "<p>1000 rows × 1 columns</p>\n",
              "</div>"
            ],
            "text/plain": [
              "        column1\n",
              "0    116.665861\n",
              "1    107.741260\n",
              "2     92.701130\n",
              "3     90.084331\n",
              "4     94.824923\n",
              "..          ...\n",
              "995  115.806996\n",
              "996  108.465966\n",
              "997  146.022948\n",
              "998  113.980023\n",
              "999   65.883428\n",
              "\n",
              "[1000 rows x 1 columns]"
            ]
          },
          "metadata": {},
          "execution_count": 5
        }
      ]
    },
    {
      "cell_type": "code",
      "metadata": {
        "colab": {
          "base_uri": "https://localhost:8080/",
          "height": 350
        },
        "id": "sDrPGnsBS234",
        "outputId": "f5c35b70-b942-47bf-82e2-491284cc7781"
      },
      "source": [
        "pyplot.hist(dataset1['column1'])\n",
        "\n"
      ],
      "execution_count": null,
      "outputs": [
        {
          "output_type": "execute_result",
          "data": {
            "text/plain": [
              "(array([  4.,  18.,  57., 133., 242., 274., 169.,  84.,  16.,   3.]),\n",
              " array([ 30.73127898,  44.27992748,  57.82857598,  71.37722448,\n",
              "         84.92587298,  98.47452148, 112.02316998, 125.57181848,\n",
              "        139.12046698, 152.66911548, 166.21776398]),\n",
              " <a list of 10 Patch objects>)"
            ]
          },
          "metadata": {},
          "execution_count": 7
        },
        {
          "output_type": "display_data",
          "data": {
            "image/png": "[encoded data removed]",
            "text/plain": [
              "<Figure size 432x288 with 1 Axes>"
            ]
          },
          "metadata": {
            "needs_background": "light"
          }
        }
      ]
    },
    {
      "cell_type": "code",
      "metadata": {
        "colab": {
          "base_uri": "https://localhost:8080/",
          "height": 419
        },
        "id": "5_NJrZ9dIiTA",
        "outputId": "74028ece-0372-4526-e91b-0ddb8d2238a1"
      },
      "source": [
        "# Challenge 2\n",
        "# ---\n",
        "# Question: Does the prices data follow a normal distribution? \n",
        "# If your sample follows a normal distribution, does this makes sense to you? Explain why.\n",
        "# If your sample does not follow a normal distribution (e.g., it could be skewed left or right, \n",
        "# have a uniform distribution, or have some other shape), then why might this be the reason?\n",
        "# ---\n",
        "# Dataset url = http://bit.ly/NormalisationPricesDataset\n",
        "\n",
        "# loading dataset\n",
        "dataset = pd.read_csv('http://bit.ly/NormalisationPricesDataset')\n",
        "dataset\n",
        "\n",
        "\n"
      ],
      "execution_count": null,
      "outputs": [
        {
          "output_type": "execute_result",
          "data": {
            "text/html": [
              "<div>\n",
              "<style scoped>\n",
              "    .dataframe tbody tr th:only-of-type {\n",
              "        vertical-align: middle;\n",
              "    }\n",
              "\n",
              "    .dataframe tbody tr th {\n",
              "        vertical-align: top;\n",
              "    }\n",
              "\n",
              "    .dataframe thead th {\n",
              "        text-align: right;\n",
              "    }\n",
              "</style>\n",
              "<table border=\"1\" class=\"dataframe\">\n",
              "  <thead>\n",
              "    <tr style=\"text-align: right;\">\n",
              "      <th></th>\n",
              "      <th>Unnamed: 0</th>\n",
              "      <th>price</th>\n",
              "      <th>speed</th>\n",
              "      <th>hd</th>\n",
              "      <th>ram</th>\n",
              "      <th>screen</th>\n",
              "      <th>cd</th>\n",
              "      <th>multi</th>\n",
              "      <th>premium</th>\n",
              "      <th>ads</th>\n",
              "      <th>trend</th>\n",
              "    </tr>\n",
              "  </thead>\n",
              "  <tbody>\n",
              "    <tr>\n",
              "      <th>0</th>\n",
              "      <td>1</td>\n",
              "      <td>1499</td>\n",
              "      <td>25</td>\n",
              "      <td>80</td>\n",
              "      <td>4</td>\n",
              "      <td>14</td>\n",
              "      <td>no</td>\n",
              "      <td>no</td>\n",
              "      <td>yes</td>\n",
              "      <td>94</td>\n",
              "      <td>1</td>\n",
              "    </tr>\n",
              "    <tr>\n",
              "      <th>1</th>\n",
              "      <td>2</td>\n",
              "      <td>1795</td>\n",
              "      <td>33</td>\n",
              "      <td>85</td>\n",
              "      <td>2</td>\n",
              "      <td>14</td>\n",
              "      <td>no</td>\n",
              "      <td>no</td>\n",
              "      <td>yes</td>\n",
              "      <td>94</td>\n",
              "      <td>1</td>\n",
              "    </tr>\n",
              "    <tr>\n",
              "      <th>2</th>\n",
              "      <td>3</td>\n",
              "      <td>1595</td>\n",
              "      <td>25</td>\n",
              "      <td>170</td>\n",
              "      <td>4</td>\n",
              "      <td>15</td>\n",
              "      <td>no</td>\n",
              "      <td>no</td>\n",
              "      <td>yes</td>\n",
              "      <td>94</td>\n",
              "      <td>1</td>\n",
              "    </tr>\n",
              "    <tr>\n",
              "      <th>3</th>\n",
              "      <td>4</td>\n",
              "      <td>1849</td>\n",
              "      <td>25</td>\n",
              "      <td>170</td>\n",
              "      <td>8</td>\n",
              "      <td>14</td>\n",
              "      <td>no</td>\n",
              "      <td>no</td>\n",
              "      <td>no</td>\n",
              "      <td>94</td>\n",
              "      <td>1</td>\n",
              "    </tr>\n",
              "    <tr>\n",
              "      <th>4</th>\n",
              "      <td>5</td>\n",
              "      <td>3295</td>\n",
              "      <td>33</td>\n",
              "      <td>340</td>\n",
              "      <td>16</td>\n",
              "      <td>14</td>\n",
              "      <td>no</td>\n",
              "      <td>no</td>\n",
              "      <td>yes</td>\n",
              "      <td>94</td>\n",
              "      <td>1</td>\n",
              "    </tr>\n",
              "    <tr>\n",
              "      <th>...</th>\n",
              "      <td>...</td>\n",
              "      <td>...</td>\n",
              "      <td>...</td>\n",
              "      <td>...</td>\n",
              "      <td>...</td>\n",
              "      <td>...</td>\n",
              "      <td>...</td>\n",
              "      <td>...</td>\n",
              "      <td>...</td>\n",
              "      <td>...</td>\n",
              "      <td>...</td>\n",
              "    </tr>\n",
              "    <tr>\n",
              "      <th>6254</th>\n",
              "      <td>6255</td>\n",
              "      <td>1690</td>\n",
              "      <td>100</td>\n",
              "      <td>528</td>\n",
              "      <td>8</td>\n",
              "      <td>15</td>\n",
              "      <td>no</td>\n",
              "      <td>no</td>\n",
              "      <td>yes</td>\n",
              "      <td>39</td>\n",
              "      <td>35</td>\n",
              "    </tr>\n",
              "    <tr>\n",
              "      <th>6255</th>\n",
              "      <td>6256</td>\n",
              "      <td>2223</td>\n",
              "      <td>66</td>\n",
              "      <td>850</td>\n",
              "      <td>16</td>\n",
              "      <td>15</td>\n",
              "      <td>yes</td>\n",
              "      <td>yes</td>\n",
              "      <td>yes</td>\n",
              "      <td>39</td>\n",
              "      <td>35</td>\n",
              "    </tr>\n",
              "    <tr>\n",
              "      <th>6256</th>\n",
              "      <td>6257</td>\n",
              "      <td>2654</td>\n",
              "      <td>100</td>\n",
              "      <td>1200</td>\n",
              "      <td>24</td>\n",
              "      <td>15</td>\n",
              "      <td>yes</td>\n",
              "      <td>no</td>\n",
              "      <td>yes</td>\n",
              "      <td>39</td>\n",
              "      <td>35</td>\n",
              "    </tr>\n",
              "    <tr>\n",
              "      <th>6257</th>\n",
              "      <td>6258</td>\n",
              "      <td>2195</td>\n",
              "      <td>100</td>\n",
              "      <td>850</td>\n",
              "      <td>16</td>\n",
              "      <td>15</td>\n",
              "      <td>yes</td>\n",
              "      <td>no</td>\n",
              "      <td>yes</td>\n",
              "      <td>39</td>\n",
              "      <td>35</td>\n",
              "    </tr>\n",
              "    <tr>\n",
              "      <th>6258</th>\n",
              "      <td>6259</td>\n",
              "      <td>2490</td>\n",
              "      <td>100</td>\n",
              "      <td>850</td>\n",
              "      <td>16</td>\n",
              "      <td>17</td>\n",
              "      <td>yes</td>\n",
              "      <td>no</td>\n",
              "      <td>yes</td>\n",
              "      <td>39</td>\n",
              "      <td>35</td>\n",
              "    </tr>\n",
              "  </tbody>\n",
              "</table>\n",
              "<p>6259 rows × 11 columns</p>\n",
              "</div>"
            ],
            "text/plain": [
              "      Unnamed: 0  price  speed    hd  ram  ...   cd multi premium ads  trend\n",
              "0              1   1499     25    80    4  ...   no    no     yes  94      1\n",
              "1              2   1795     33    85    2  ...   no    no     yes  94      1\n",
              "2              3   1595     25   170    4  ...   no    no     yes  94      1\n",
              "3              4   1849     25   170    8  ...   no    no      no  94      1\n",
              "4              5   3295     33   340   16  ...   no    no     yes  94      1\n",
              "...          ...    ...    ...   ...  ...  ...  ...   ...     ...  ..    ...\n",
              "6254        6255   1690    100   528    8  ...   no    no     yes  39     35\n",
              "6255        6256   2223     66   850   16  ...  yes   yes     yes  39     35\n",
              "6256        6257   2654    100  1200   24  ...  yes    no     yes  39     35\n",
              "6257        6258   2195    100   850   16  ...  yes    no     yes  39     35\n",
              "6258        6259   2490    100   850   16  ...  yes    no     yes  39     35\n",
              "\n",
              "[6259 rows x 11 columns]"
            ]
          },
          "metadata": {},
          "execution_count": 8
        }
      ]
    },
    {
      "cell_type": "code",
      "metadata": {
        "colab": {
          "base_uri": "https://localhost:8080/",
          "height": 350
        },
        "id": "qOYZVx6WyZZC",
        "outputId": "8feecbaf-0614-4ac7-b22e-3fc17bfd73f9"
      },
      "source": [
        "pyplot.hist(dataset['price'])"
      ],
      "execution_count": null,
      "outputs": [
        {
          "output_type": "execute_result",
          "data": {
            "text/plain": [
              "(array([ 237., 1554., 1803., 1459.,  850.,  238.,   92.,   18.,    3.,\n",
              "           5.]),\n",
              " array([ 949., 1394., 1839., 2284., 2729., 3174., 3619., 4064., 4509.,\n",
              "        4954., 5399.]),\n",
              " <a list of 10 Patch objects>)"
            ]
          },
          "metadata": {},
          "execution_count": 9
        },
        {
          "output_type": "display_data",
          "data": {
            "image/png": "[encoded data removed]",
            "text/plain": [
              "<Figure size 432x288 with 1 Axes>"
            ]
          },
          "metadata": {
            "needs_background": "light"
          }
        }
      ]
    },
    {
      "cell_type": "code",
      "metadata": {
        "id": "QiCIcS8yQnTK",
        "colab": {
          "base_uri": "https://localhost:8080/",
          "height": 296
        },
        "outputId": "5cc43178-63c8-48bf-ab0f-520e48c6d4c0"
      },
      "source": [
        "import seaborn as sns\n",
        "sns.histplot(dataset['price'],bins=10)\n"
      ],
      "execution_count": null,
      "outputs": [
        {
          "output_type": "execute_result",
          "data": {
            "text/plain": [
              "<matplotlib.axes._subplots.AxesSubplot at 0x7f5f1593e1d0>"
            ]
          },
          "metadata": {},
          "execution_count": 16
        },
        {
          "output_type": "display_data",
          "data": {
            "image/png": "[encoded data removed]",
            "text/plain": [
              "<Figure size 432x288 with 1 Axes>"
            ]
          },
          "metadata": {
            "needs_background": "light"
          }
        }
      ]
    },
    {
      "cell_type": "markdown",
      "metadata": {
        "id": "pmX6aGACHQAX"
      },
      "source": [
        "## 2.0 Quantile-Quantile (Q-Q) Plot\n"
      ]
    },
    {
      "cell_type": "code",
      "metadata": {
        "id": "LEfBjhplHYGz",
        "colab": {
          "base_uri": "https://localhost:8080/",
          "height": 333
        },
        "outputId": "836b0295-40c8-4e3c-ca5b-26595511f3c6"
      },
      "source": [
        "# Example 1\n",
        "# ---\n",
        "# The Q-Q plot generates its own sample of the idealized distribution that we are comparing with, \n",
        "# in this case the Gaussian distribution. The idealized samples are divided into groups (e.g. 5), called quantiles. \n",
        "# Each data point in the sample is paired with a similar member from the idealized distribution at the same cumulative distribution.\n",
        "# The resulting points are plotted as a scatter plot with the idealized value on the x-axis and the data sample on the y-axis.\n",
        "# A perfect match for the distribution will be shown by a line of dots on a 45-degree angle from the bottom left of the plot to the top right. \n",
        "# Often a line is drawn on the plot to help make this expectation clear. Deviations by the dots from the line \n",
        "# would show a deviation from the expected distribution.\n",
        "# ---\n",
        "#\n",
        "\n",
        "# Importing libraries to plot our Q-Q plot\n",
        "from statsmodels.graphics.gofplots import qqplot\n",
        "from matplotlib import pyplot\n",
        "\n",
        "# seed the random number generator\n",
        "seed(1)\n",
        "\n",
        "# generate univariate observations\n",
        "data = 5 * randn(100) + 50\n",
        "\n",
        "# q-q plot\n",
        "qqplot(data, line='s')\n",
        "pyplot.show()\n",
        "\n",
        "# The resulting QQ plot shows the scatter plot of points in a diagonal line, \n",
        "# closely fitting the expected diagonal pattern for a sample from a Gaussian distribution.\n",
        "# There are a few small deviations, especially at the bottom of the plot, \n",
        "# which is to be expected given the small data sample."
      ],
      "execution_count": null,
      "outputs": [
        {
          "output_type": "stream",
          "name": "stderr",
          "text": [
            "/usr/local/lib/python3.7/dist-packages/statsmodels/tools/_testing.py:19: FutureWarning: pandas.util.testing is deprecated. Use the functions in the public API at pandas.testing instead.\n",
            "  import pandas.util.testing as tm\n"
          ]
        },
        {
          "output_type": "display_data",
          "data": {
            "image/png": "[encoded data removed]",
            "text/plain": [
              "<Figure size 432x288 with 1 Axes>"
            ]
          },
          "metadata": {
            "needs_background": "light"
          }
        }
      ]
    },
    {
      "cell_type": "markdown",
      "metadata": {
        "id": "BYTvjelSIk_A"
      },
      "source": [
        "### <font color=\"green\">2.0 Challenges</font>"
      ]
    },
    {
      "cell_type": "code",
      "metadata": {
        "id": "v1mg93rBIpY9",
        "colab": {
          "base_uri": "https://localhost:8080/",
          "height": 419
        },
        "outputId": "2a4eb541-0202-4f34-e4b1-f9508bf861a1"
      },
      "source": [
        "# Challenge 1\n",
        "# ---\n",
        "# Question: Determine whether the given data follows a normal distribution using the Q-Q plot\n",
        "# ---\n",
        "# Dataset url = http://bit.ly/GaussianDistributionDataset2\n",
        "# seed the random number generator\n",
        "seed(50)\n",
        "# \n",
        "dataset2 = pd.read_csv('http://bit.ly/GaussianDistributionDataset2',names=['column2'])\n",
        "dataset2\n"
      ],
      "execution_count": null,
      "outputs": [
        {
          "output_type": "execute_result",
          "data": {
            "text/html": [
              "<div>\n",
              "<style scoped>\n",
              "    .dataframe tbody tr th:only-of-type {\n",
              "        vertical-align: middle;\n",
              "    }\n",
              "\n",
              "    .dataframe tbody tr th {\n",
              "        vertical-align: top;\n",
              "    }\n",
              "\n",
              "    .dataframe thead th {\n",
              "        text-align: right;\n",
              "    }\n",
              "</style>\n",
              "<table border=\"1\" class=\"dataframe\">\n",
              "  <thead>\n",
              "    <tr style=\"text-align: right;\">\n",
              "      <th></th>\n",
              "      <th>column2</th>\n",
              "    </tr>\n",
              "  </thead>\n",
              "  <tbody>\n",
              "    <tr>\n",
              "      <th>0</th>\n",
              "      <td>107.931822</td>\n",
              "    </tr>\n",
              "    <tr>\n",
              "      <th>1</th>\n",
              "      <td>69.449831</td>\n",
              "    </tr>\n",
              "    <tr>\n",
              "      <th>2</th>\n",
              "      <td>124.283718</td>\n",
              "    </tr>\n",
              "    <tr>\n",
              "      <th>3</th>\n",
              "      <td>100.110009</td>\n",
              "    </tr>\n",
              "    <tr>\n",
              "      <th>4</th>\n",
              "      <td>148.816515</td>\n",
              "    </tr>\n",
              "    <tr>\n",
              "      <th>...</th>\n",
              "      <td>...</td>\n",
              "    </tr>\n",
              "    <tr>\n",
              "      <th>995</th>\n",
              "      <td>141.392401</td>\n",
              "    </tr>\n",
              "    <tr>\n",
              "      <th>996</th>\n",
              "      <td>108.014915</td>\n",
              "    </tr>\n",
              "    <tr>\n",
              "      <th>997</th>\n",
              "      <td>93.377055</td>\n",
              "    </tr>\n",
              "    <tr>\n",
              "      <th>998</th>\n",
              "      <td>106.898100</td>\n",
              "    </tr>\n",
              "    <tr>\n",
              "      <th>999</th>\n",
              "      <td>106.633791</td>\n",
              "    </tr>\n",
              "  </tbody>\n",
              "</table>\n",
              "<p>1000 rows × 1 columns</p>\n",
              "</div>"
            ],
            "text/plain": [
              "        column2\n",
              "0    107.931822\n",
              "1     69.449831\n",
              "2    124.283718\n",
              "3    100.110009\n",
              "4    148.816515\n",
              "..          ...\n",
              "995  141.392401\n",
              "996  108.014915\n",
              "997   93.377055\n",
              "998  106.898100\n",
              "999  106.633791\n",
              "\n",
              "[1000 rows x 1 columns]"
            ]
          },
          "metadata": {},
          "execution_count": 21
        }
      ]
    },
    {
      "cell_type": "code",
      "metadata": {
        "colab": {
          "base_uri": "https://localhost:8080/",
          "height": 296
        },
        "id": "j4XJBpFdWy_a",
        "outputId": "7f3b71ae-d6a7-45d3-eb5f-370eabd500c8"
      },
      "source": [
        "#plotting\n",
        "qqplot(dataset2['column2'],line='s')\n",
        "pyplot.show\n",
        "\n",
        "# YEs its a normal distribution"
      ],
      "execution_count": null,
      "outputs": [
        {
          "output_type": "execute_result",
          "data": {
            "text/plain": [
              "<function matplotlib.pyplot.show>"
            ]
          },
          "metadata": {},
          "execution_count": 25
        },
        {
          "output_type": "display_data",
          "data": {
            "image/png": "[encoded data removed]",
            "text/plain": [
              "<Figure size 432x288 with 1 Axes>"
            ]
          },
          "metadata": {
            "needs_background": "light"
          }
        }
      ]
    },
    {
      "cell_type": "code",
      "metadata": {
        "id": "zVD9y_LB5z90",
        "colab": {
          "base_uri": "https://localhost:8080/",
          "height": 847
        },
        "outputId": "978da156-5a82-4a2f-ca50-e034bc4b1a4b"
      },
      "source": [
        "# Challenge 2\n",
        "# ---\n",
        "# Question: Plot the win by wickets data in the given dataset and watch the curve.\n",
        "# Does the data follow a normal distribution\n",
        "# ---\n",
        "# Dataset url = http://bit.ly/IndianPremierLeagueDataset\n",
        "dataset3=pd.read_csv('http://bit.ly/IndianPremierLeagueDataset')\n",
        "dataset3\n",
        "\n"
      ],
      "execution_count": null,
      "outputs": [
        {
          "output_type": "execute_result",
          "data": {
            "text/html": [
              "<div>\n",
              "<style scoped>\n",
              "    .dataframe tbody tr th:only-of-type {\n",
              "        vertical-align: middle;\n",
              "    }\n",
              "\n",
              "    .dataframe tbody tr th {\n",
              "        vertical-align: top;\n",
              "    }\n",
              "\n",
              "    .dataframe thead th {\n",
              "        text-align: right;\n",
              "    }\n",
              "</style>\n",
              "<table border=\"1\" class=\"dataframe\">\n",
              "  <thead>\n",
              "    <tr style=\"text-align: right;\">\n",
              "      <th></th>\n",
              "      <th>id</th>\n",
              "      <th>season</th>\n",
              "      <th>city</th>\n",
              "      <th>date</th>\n",
              "      <th>team1</th>\n",
              "      <th>team2</th>\n",
              "      <th>toss_winner</th>\n",
              "      <th>toss_decision</th>\n",
              "      <th>result</th>\n",
              "      <th>dl_applied</th>\n",
              "      <th>winner</th>\n",
              "      <th>win_by_runs</th>\n",
              "      <th>win_by_wickets</th>\n",
              "      <th>player_of_match</th>\n",
              "      <th>venue</th>\n",
              "      <th>umpire1</th>\n",
              "      <th>umpire2</th>\n",
              "      <th>umpire3</th>\n",
              "    </tr>\n",
              "  </thead>\n",
              "  <tbody>\n",
              "    <tr>\n",
              "      <th>0</th>\n",
              "      <td>1</td>\n",
              "      <td>2017</td>\n",
              "      <td>Hyderabad</td>\n",
              "      <td>2017-04-05</td>\n",
              "      <td>Sunrisers Hyderabad</td>\n",
              "      <td>Royal Challengers Bangalore</td>\n",
              "      <td>Royal Challengers Bangalore</td>\n",
              "      <td>field</td>\n",
              "      <td>normal</td>\n",
              "      <td>0</td>\n",
              "      <td>Sunrisers Hyderabad</td>\n",
              "      <td>35</td>\n",
              "      <td>0</td>\n",
              "      <td>Yuvraj Singh</td>\n",
              "      <td>Rajiv Gandhi International Stadium, Uppal</td>\n",
              "      <td>AY Dandekar</td>\n",
              "      <td>NJ Llong</td>\n",
              "      <td>NaN</td>\n",
              "    </tr>\n",
              "    <tr>\n",
              "      <th>1</th>\n",
              "      <td>2</td>\n",
              "      <td>2017</td>\n",
              "      <td>Pune</td>\n",
              "      <td>2017-04-06</td>\n",
              "      <td>Mumbai Indians</td>\n",
              "      <td>Rising Pune Supergiant</td>\n",
              "      <td>Rising Pune Supergiant</td>\n",
              "      <td>field</td>\n",
              "      <td>normal</td>\n",
              "      <td>0</td>\n",
              "      <td>Rising Pune Supergiant</td>\n",
              "      <td>0</td>\n",
              "      <td>7</td>\n",
              "      <td>SPD Smith</td>\n",
              "      <td>Maharashtra Cricket Association Stadium</td>\n",
              "      <td>A Nand Kishore</td>\n",
              "      <td>S Ravi</td>\n",
              "      <td>NaN</td>\n",
              "    </tr>\n",
              "    <tr>\n",
              "      <th>2</th>\n",
              "      <td>3</td>\n",
              "      <td>2017</td>\n",
              "      <td>Rajkot</td>\n",
              "      <td>2017-04-07</td>\n",
              "      <td>Gujarat Lions</td>\n",
              "      <td>Kolkata Knight Riders</td>\n",
              "      <td>Kolkata Knight Riders</td>\n",
              "      <td>field</td>\n",
              "      <td>normal</td>\n",
              "      <td>0</td>\n",
              "      <td>Kolkata Knight Riders</td>\n",
              "      <td>0</td>\n",
              "      <td>10</td>\n",
              "      <td>CA Lynn</td>\n",
              "      <td>Saurashtra Cricket Association Stadium</td>\n",
              "      <td>Nitin Menon</td>\n",
              "      <td>CK Nandan</td>\n",
              "      <td>NaN</td>\n",
              "    </tr>\n",
              "    <tr>\n",
              "      <th>3</th>\n",
              "      <td>4</td>\n",
              "      <td>2017</td>\n",
              "      <td>Indore</td>\n",
              "      <td>2017-04-08</td>\n",
              "      <td>Rising Pune Supergiant</td>\n",
              "      <td>Kings XI Punjab</td>\n",
              "      <td>Kings XI Punjab</td>\n",
              "      <td>field</td>\n",
              "      <td>normal</td>\n",
              "      <td>0</td>\n",
              "      <td>Kings XI Punjab</td>\n",
              "      <td>0</td>\n",
              "      <td>6</td>\n",
              "      <td>GJ Maxwell</td>\n",
              "      <td>Holkar Cricket Stadium</td>\n",
              "      <td>AK Chaudhary</td>\n",
              "      <td>C Shamshuddin</td>\n",
              "      <td>NaN</td>\n",
              "    </tr>\n",
              "    <tr>\n",
              "      <th>4</th>\n",
              "      <td>5</td>\n",
              "      <td>2017</td>\n",
              "      <td>Bangalore</td>\n",
              "      <td>2017-04-08</td>\n",
              "      <td>Royal Challengers Bangalore</td>\n",
              "      <td>Delhi Daredevils</td>\n",
              "      <td>Royal Challengers Bangalore</td>\n",
              "      <td>bat</td>\n",
              "      <td>normal</td>\n",
              "      <td>0</td>\n",
              "      <td>Royal Challengers Bangalore</td>\n",
              "      <td>15</td>\n",
              "      <td>0</td>\n",
              "      <td>KM Jadhav</td>\n",
              "      <td>M Chinnaswamy Stadium</td>\n",
              "      <td>NaN</td>\n",
              "      <td>NaN</td>\n",
              "      <td>NaN</td>\n",
              "    </tr>\n",
              "    <tr>\n",
              "      <th>...</th>\n",
              "      <td>...</td>\n",
              "      <td>...</td>\n",
              "      <td>...</td>\n",
              "      <td>...</td>\n",
              "      <td>...</td>\n",
              "      <td>...</td>\n",
              "      <td>...</td>\n",
              "      <td>...</td>\n",
              "      <td>...</td>\n",
              "      <td>...</td>\n",
              "      <td>...</td>\n",
              "      <td>...</td>\n",
              "      <td>...</td>\n",
              "      <td>...</td>\n",
              "      <td>...</td>\n",
              "      <td>...</td>\n",
              "      <td>...</td>\n",
              "      <td>...</td>\n",
              "    </tr>\n",
              "    <tr>\n",
              "      <th>691</th>\n",
              "      <td>7949</td>\n",
              "      <td>2018</td>\n",
              "      <td>Pune</td>\n",
              "      <td>20/05/18</td>\n",
              "      <td>Kings XI Punjab</td>\n",
              "      <td>Chennai Super Kings</td>\n",
              "      <td>Chennai Super Kings</td>\n",
              "      <td>field</td>\n",
              "      <td>normal</td>\n",
              "      <td>0</td>\n",
              "      <td>Chennai Super Kings</td>\n",
              "      <td>0</td>\n",
              "      <td>5</td>\n",
              "      <td>L Ngidi</td>\n",
              "      <td>Maharashtra Cricket Association Stadium</td>\n",
              "      <td>Nitin Menon</td>\n",
              "      <td>Yeshwant Barde</td>\n",
              "      <td>Marais Erasmus</td>\n",
              "    </tr>\n",
              "    <tr>\n",
              "      <th>692</th>\n",
              "      <td>7950</td>\n",
              "      <td>2018</td>\n",
              "      <td>Mumbai</td>\n",
              "      <td>22/05/18</td>\n",
              "      <td>Sunrisers Hyderabad</td>\n",
              "      <td>Chennai Super Kings</td>\n",
              "      <td>Chennai Super Kings</td>\n",
              "      <td>field</td>\n",
              "      <td>normal</td>\n",
              "      <td>0</td>\n",
              "      <td>Chennai Super Kings</td>\n",
              "      <td>0</td>\n",
              "      <td>2</td>\n",
              "      <td>F du Plessis</td>\n",
              "      <td>Wankhede Stadium</td>\n",
              "      <td>Marais Erasmus</td>\n",
              "      <td>C Shamshuddin</td>\n",
              "      <td>S Ravi</td>\n",
              "    </tr>\n",
              "    <tr>\n",
              "      <th>693</th>\n",
              "      <td>7951</td>\n",
              "      <td>2018</td>\n",
              "      <td>Kolkata</td>\n",
              "      <td>23/05/18</td>\n",
              "      <td>Kolkata Knight Riders</td>\n",
              "      <td>Rajasthan Royals</td>\n",
              "      <td>Rajasthan Royals</td>\n",
              "      <td>field</td>\n",
              "      <td>normal</td>\n",
              "      <td>0</td>\n",
              "      <td>Kolkata Knight Riders</td>\n",
              "      <td>25</td>\n",
              "      <td>0</td>\n",
              "      <td>AD Russell</td>\n",
              "      <td>Eden Gardens</td>\n",
              "      <td>Nitin Menon</td>\n",
              "      <td>Anil Chaudhary</td>\n",
              "      <td>Kumar Dharmasena</td>\n",
              "    </tr>\n",
              "    <tr>\n",
              "      <th>694</th>\n",
              "      <td>7952</td>\n",
              "      <td>2018</td>\n",
              "      <td>Kolkata</td>\n",
              "      <td>25/05/18</td>\n",
              "      <td>Sunrisers Hyderabad</td>\n",
              "      <td>Kolkata Knight Riders</td>\n",
              "      <td>Kolkata Knight Riders</td>\n",
              "      <td>field</td>\n",
              "      <td>normal</td>\n",
              "      <td>0</td>\n",
              "      <td>Sunrisers Hyderabad</td>\n",
              "      <td>14</td>\n",
              "      <td>0</td>\n",
              "      <td>Rashid Khan</td>\n",
              "      <td>Eden Gardens</td>\n",
              "      <td>Nitin Menon</td>\n",
              "      <td>Kumar Dharmasena</td>\n",
              "      <td>Anil Chaudhary</td>\n",
              "    </tr>\n",
              "    <tr>\n",
              "      <th>695</th>\n",
              "      <td>7953</td>\n",
              "      <td>2018</td>\n",
              "      <td>Mumbai</td>\n",
              "      <td>27/05/18</td>\n",
              "      <td>Sunrisers Hyderabad</td>\n",
              "      <td>Chennai Super Kings</td>\n",
              "      <td>Chennai Super Kings</td>\n",
              "      <td>field</td>\n",
              "      <td>normal</td>\n",
              "      <td>0</td>\n",
              "      <td>Chennai Super Kings</td>\n",
              "      <td>0</td>\n",
              "      <td>8</td>\n",
              "      <td>SR Watson</td>\n",
              "      <td>Wankhede Stadium</td>\n",
              "      <td>Marais Erasmus</td>\n",
              "      <td>S Ravi</td>\n",
              "      <td>Nitin Menon</td>\n",
              "    </tr>\n",
              "  </tbody>\n",
              "</table>\n",
              "<p>696 rows × 18 columns</p>\n",
              "</div>"
            ],
            "text/plain": [
              "       id  season  ...           umpire2           umpire3\n",
              "0       1    2017  ...          NJ Llong               NaN\n",
              "1       2    2017  ...            S Ravi               NaN\n",
              "2       3    2017  ...         CK Nandan               NaN\n",
              "3       4    2017  ...     C Shamshuddin               NaN\n",
              "4       5    2017  ...               NaN               NaN\n",
              "..    ...     ...  ...               ...               ...\n",
              "691  7949    2018  ...    Yeshwant Barde    Marais Erasmus\n",
              "692  7950    2018  ...     C Shamshuddin            S Ravi\n",
              "693  7951    2018  ...    Anil Chaudhary  Kumar Dharmasena\n",
              "694  7952    2018  ...  Kumar Dharmasena    Anil Chaudhary\n",
              "695  7953    2018  ...            S Ravi       Nitin Menon\n",
              "\n",
              "[696 rows x 18 columns]"
            ]
          },
          "metadata": {},
          "execution_count": 27
        }
      ]
    },
    {
      "cell_type": "code",
      "metadata": {
        "colab": {
          "base_uri": "https://localhost:8080/",
          "height": 296
        },
        "id": "iMyRPSRhYfdP",
        "outputId": "d863629c-dc43-41d8-aae7-935250e86e5b"
      },
      "source": [
        "#plotting\n",
        "qqplot(dataset3['win_by_wickets'],line='s')\n",
        "pyplot.show\n",
        "# Not from a normal distribution"
      ],
      "execution_count": null,
      "outputs": [
        {
          "output_type": "execute_result",
          "data": {
            "text/plain": [
              "<function matplotlib.pyplot.show>"
            ]
          },
          "metadata": {},
          "execution_count": 28
        },
        {
          "output_type": "display_data",
          "data": {
            "image/png": "[encoded data removed]",
            "text/plain": [
              "<Figure size 432x288 with 1 Axes>"
            ]
          },
          "metadata": {
            "needs_background": "light"
          }
        }
      ]
    },
    {
      "cell_type": "markdown",
      "metadata": {
        "id": "qWVD5HgDHYlL"
      },
      "source": [
        "## 3.0 The Shapiro-Wilk Test"
      ]
    },
    {
      "cell_type": "code",
      "metadata": {
        "id": "mHA3iL6kHj_Y",
        "colab": {
          "base_uri": "https://localhost:8080/"
        },
        "outputId": "466d2505-5f7f-4ac2-bc92-1d4ca04b8428"
      },
      "source": [
        "# Example 1\n",
        "# ---\n",
        "# The Shapiro-Wilk test evaluates a data sample and quantifies how likely it is that \n",
        "# the data was drawn from a Gaussian distribution, named for Samuel Shapiro and Martin Wilk.\n",
        "# In practice, the Shapiro-Wilk test is believed to be a reliable test of normality, \n",
        "# although there is some suggestion that the test may be suitable for smaller samples of data, e.g. thousands of observations or fewer.\n",
        "# The shapiro() SciPy function will calculate the Shapiro-Wilk on a given dataset. \n",
        "# The function returns both the W-statistic calculated by the test and the p-value. \n",
        "# ---\n",
        "#\n",
        "\n",
        "# imporing the shapiro function\n",
        "from scipy.stats import shapiro \n",
        "\n",
        "# generating univariate observations\n",
        "data = 5 * randn(100) + 50\n",
        "\n",
        "# testing for normality\n",
        "stat, p = shapiro(data)\n",
        "print('Statistics=%.3f, p=%.3f' % (stat, p))\n",
        "\n",
        "# interpreting\n",
        "alpha = 0.05\n",
        "if p > alpha:\n",
        "\tprint('Sample looks Gaussian')\n",
        "else:\n",
        "\tprint('Sample does not look Gaussian')\n",
        "  \n",
        "# Running the example first calculates the test on the data sample, \n",
        "# then prints the statistic and calculated p-value. \n",
        "# The p-value is interested and finds that the data is likely drawn from a Gaussian distribution."
      ],
      "execution_count": null,
      "outputs": [
        {
          "output_type": "stream",
          "name": "stdout",
          "text": [
            "Statistics=0.981, p=0.146\n",
            "Sample looks Gaussian\n"
          ]
        }
      ]
    },
    {
      "cell_type": "markdown",
      "metadata": {
        "id": "XbBi43lTItC2"
      },
      "source": [
        "### <font color=\"green\">3.0 Challenges</font>"
      ]
    },
    {
      "cell_type": "code",
      "metadata": {
        "id": "6gFhqrE5IyLi"
      },
      "source": [
        "# Challenge 1\n",
        "# ---\n",
        "# Question: Using The Shapiro-Wilk Test, determine whether the given data follows a normal distribution.\n",
        "# ---\n",
        "# Dataset url = https://bit.ly/GaussianDistributionDataset3\n",
        "# \n",
        "dataset5 = pd.read_csv('https://bit.ly/GaussianDistributionDataset3')\n",
        "dataset5"
      ],
      "execution_count": null,
      "outputs": []
    },
    {
      "cell_type": "code",
      "metadata": {
        "id": "BT_lqHlAcAVz"
      },
      "source": [
        ""
      ],
      "execution_count": null,
      "outputs": []
    },
    {
      "cell_type": "code",
      "metadata": {
        "id": "a61cTrtF92QC",
        "colab": {
          "base_uri": "https://localhost:8080/",
          "height": 847
        },
        "outputId": "54924caa-f9a6-4684-d0d9-f078b5d104df"
      },
      "source": [
        "# Challenge 2\n",
        "# ---\n",
        "# Question: Plot the win by runs data in the given dataset and watch the curve.\n",
        "# Does the data follow a normal distribution\n",
        "# ---\n",
        "# Dataset url = http://bit.ly/IndianPremierLeagueDataset\n",
        "# \n",
        "dataset6 = pd.read_csv('http://bit.ly/IndianPremierLeagueDataset')\n",
        "dataset6"
      ],
      "execution_count": null,
      "outputs": [
        {
          "output_type": "execute_result",
          "data": {
            "text/html": [
              "<div>\n",
              "<style scoped>\n",
              "    .dataframe tbody tr th:only-of-type {\n",
              "        vertical-align: middle;\n",
              "    }\n",
              "\n",
              "    .dataframe tbody tr th {\n",
              "        vertical-align: top;\n",
              "    }\n",
              "\n",
              "    .dataframe thead th {\n",
              "        text-align: right;\n",
              "    }\n",
              "</style>\n",
              "<table border=\"1\" class=\"dataframe\">\n",
              "  <thead>\n",
              "    <tr style=\"text-align: right;\">\n",
              "      <th></th>\n",
              "      <th>id</th>\n",
              "      <th>season</th>\n",
              "      <th>city</th>\n",
              "      <th>date</th>\n",
              "      <th>team1</th>\n",
              "      <th>team2</th>\n",
              "      <th>toss_winner</th>\n",
              "      <th>toss_decision</th>\n",
              "      <th>result</th>\n",
              "      <th>dl_applied</th>\n",
              "      <th>winner</th>\n",
              "      <th>win_by_runs</th>\n",
              "      <th>win_by_wickets</th>\n",
              "      <th>player_of_match</th>\n",
              "      <th>venue</th>\n",
              "      <th>umpire1</th>\n",
              "      <th>umpire2</th>\n",
              "      <th>umpire3</th>\n",
              "    </tr>\n",
              "  </thead>\n",
              "  <tbody>\n",
              "    <tr>\n",
              "      <th>0</th>\n",
              "      <td>1</td>\n",
              "      <td>2017</td>\n",
              "      <td>Hyderabad</td>\n",
              "      <td>2017-04-05</td>\n",
              "      <td>Sunrisers Hyderabad</td>\n",
              "      <td>Royal Challengers Bangalore</td>\n",
              "      <td>Royal Challengers Bangalore</td>\n",
              "      <td>field</td>\n",
              "      <td>normal</td>\n",
              "      <td>0</td>\n",
              "      <td>Sunrisers Hyderabad</td>\n",
              "      <td>35</td>\n",
              "      <td>0</td>\n",
              "      <td>Yuvraj Singh</td>\n",
              "      <td>Rajiv Gandhi International Stadium, Uppal</td>\n",
              "      <td>AY Dandekar</td>\n",
              "      <td>NJ Llong</td>\n",
              "      <td>NaN</td>\n",
              "    </tr>\n",
              "    <tr>\n",
              "      <th>1</th>\n",
              "      <td>2</td>\n",
              "      <td>2017</td>\n",
              "      <td>Pune</td>\n",
              "      <td>2017-04-06</td>\n",
              "      <td>Mumbai Indians</td>\n",
              "      <td>Rising Pune Supergiant</td>\n",
              "      <td>Rising Pune Supergiant</td>\n",
              "      <td>field</td>\n",
              "      <td>normal</td>\n",
              "      <td>0</td>\n",
              "      <td>Rising Pune Supergiant</td>\n",
              "      <td>0</td>\n",
              "      <td>7</td>\n",
              "      <td>SPD Smith</td>\n",
              "      <td>Maharashtra Cricket Association Stadium</td>\n",
              "      <td>A Nand Kishore</td>\n",
              "      <td>S Ravi</td>\n",
              "      <td>NaN</td>\n",
              "    </tr>\n",
              "    <tr>\n",
              "      <th>2</th>\n",
              "      <td>3</td>\n",
              "      <td>2017</td>\n",
              "      <td>Rajkot</td>\n",
              "      <td>2017-04-07</td>\n",
              "      <td>Gujarat Lions</td>\n",
              "      <td>Kolkata Knight Riders</td>\n",
              "      <td>Kolkata Knight Riders</td>\n",
              "      <td>field</td>\n",
              "      <td>normal</td>\n",
              "      <td>0</td>\n",
              "      <td>Kolkata Knight Riders</td>\n",
              "      <td>0</td>\n",
              "      <td>10</td>\n",
              "      <td>CA Lynn</td>\n",
              "      <td>Saurashtra Cricket Association Stadium</td>\n",
              "      <td>Nitin Menon</td>\n",
              "      <td>CK Nandan</td>\n",
              "      <td>NaN</td>\n",
              "    </tr>\n",
              "    <tr>\n",
              "      <th>3</th>\n",
              "      <td>4</td>\n",
              "      <td>2017</td>\n",
              "      <td>Indore</td>\n",
              "      <td>2017-04-08</td>\n",
              "      <td>Rising Pune Supergiant</td>\n",
              "      <td>Kings XI Punjab</td>\n",
              "      <td>Kings XI Punjab</td>\n",
              "      <td>field</td>\n",
              "      <td>normal</td>\n",
              "      <td>0</td>\n",
              "      <td>Kings XI Punjab</td>\n",
              "      <td>0</td>\n",
              "      <td>6</td>\n",
              "      <td>GJ Maxwell</td>\n",
              "      <td>Holkar Cricket Stadium</td>\n",
              "      <td>AK Chaudhary</td>\n",
              "      <td>C Shamshuddin</td>\n",
              "      <td>NaN</td>\n",
              "    </tr>\n",
              "    <tr>\n",
              "      <th>4</th>\n",
              "      <td>5</td>\n",
              "      <td>2017</td>\n",
              "      <td>Bangalore</td>\n",
              "      <td>2017-04-08</td>\n",
              "      <td>Royal Challengers Bangalore</td>\n",
              "      <td>Delhi Daredevils</td>\n",
              "      <td>Royal Challengers Bangalore</td>\n",
              "      <td>bat</td>\n",
              "      <td>normal</td>\n",
              "      <td>0</td>\n",
              "      <td>Royal Challengers Bangalore</td>\n",
              "      <td>15</td>\n",
              "      <td>0</td>\n",
              "      <td>KM Jadhav</td>\n",
              "      <td>M Chinnaswamy Stadium</td>\n",
              "      <td>NaN</td>\n",
              "      <td>NaN</td>\n",
              "      <td>NaN</td>\n",
              "    </tr>\n",
              "    <tr>\n",
              "      <th>...</th>\n",
              "      <td>...</td>\n",
              "      <td>...</td>\n",
              "      <td>...</td>\n",
              "      <td>...</td>\n",
              "      <td>...</td>\n",
              "      <td>...</td>\n",
              "      <td>...</td>\n",
              "      <td>...</td>\n",
              "      <td>...</td>\n",
              "      <td>...</td>\n",
              "      <td>...</td>\n",
              "      <td>...</td>\n",
              "      <td>...</td>\n",
              "      <td>...</td>\n",
              "      <td>...</td>\n",
              "      <td>...</td>\n",
              "      <td>...</td>\n",
              "      <td>...</td>\n",
              "    </tr>\n",
              "    <tr>\n",
              "      <th>691</th>\n",
              "      <td>7949</td>\n",
              "      <td>2018</td>\n",
              "      <td>Pune</td>\n",
              "      <td>20/05/18</td>\n",
              "      <td>Kings XI Punjab</td>\n",
              "      <td>Chennai Super Kings</td>\n",
              "      <td>Chennai Super Kings</td>\n",
              "      <td>field</td>\n",
              "      <td>normal</td>\n",
              "      <td>0</td>\n",
              "      <td>Chennai Super Kings</td>\n",
              "      <td>0</td>\n",
              "      <td>5</td>\n",
              "      <td>L Ngidi</td>\n",
              "      <td>Maharashtra Cricket Association Stadium</td>\n",
              "      <td>Nitin Menon</td>\n",
              "      <td>Yeshwant Barde</td>\n",
              "      <td>Marais Erasmus</td>\n",
              "    </tr>\n",
              "    <tr>\n",
              "      <th>692</th>\n",
              "      <td>7950</td>\n",
              "      <td>2018</td>\n",
              "      <td>Mumbai</td>\n",
              "      <td>22/05/18</td>\n",
              "      <td>Sunrisers Hyderabad</td>\n",
              "      <td>Chennai Super Kings</td>\n",
              "      <td>Chennai Super Kings</td>\n",
              "      <td>field</td>\n",
              "      <td>normal</td>\n",
              "      <td>0</td>\n",
              "      <td>Chennai Super Kings</td>\n",
              "      <td>0</td>\n",
              "      <td>2</td>\n",
              "      <td>F du Plessis</td>\n",
              "      <td>Wankhede Stadium</td>\n",
              "      <td>Marais Erasmus</td>\n",
              "      <td>C Shamshuddin</td>\n",
              "      <td>S Ravi</td>\n",
              "    </tr>\n",
              "    <tr>\n",
              "      <th>693</th>\n",
              "      <td>7951</td>\n",
              "      <td>2018</td>\n",
              "      <td>Kolkata</td>\n",
              "      <td>23/05/18</td>\n",
              "      <td>Kolkata Knight Riders</td>\n",
              "      <td>Rajasthan Royals</td>\n",
              "      <td>Rajasthan Royals</td>\n",
              "      <td>field</td>\n",
              "      <td>normal</td>\n",
              "      <td>0</td>\n",
              "      <td>Kolkata Knight Riders</td>\n",
              "      <td>25</td>\n",
              "      <td>0</td>\n",
              "      <td>AD Russell</td>\n",
              "      <td>Eden Gardens</td>\n",
              "      <td>Nitin Menon</td>\n",
              "      <td>Anil Chaudhary</td>\n",
              "      <td>Kumar Dharmasena</td>\n",
              "    </tr>\n",
              "    <tr>\n",
              "      <th>694</th>\n",
              "      <td>7952</td>\n",
              "      <td>2018</td>\n",
              "      <td>Kolkata</td>\n",
              "      <td>25/05/18</td>\n",
              "      <td>Sunrisers Hyderabad</td>\n",
              "      <td>Kolkata Knight Riders</td>\n",
              "      <td>Kolkata Knight Riders</td>\n",
              "      <td>field</td>\n",
              "      <td>normal</td>\n",
              "      <td>0</td>\n",
              "      <td>Sunrisers Hyderabad</td>\n",
              "      <td>14</td>\n",
              "      <td>0</td>\n",
              "      <td>Rashid Khan</td>\n",
              "      <td>Eden Gardens</td>\n",
              "      <td>Nitin Menon</td>\n",
              "      <td>Kumar Dharmasena</td>\n",
              "      <td>Anil Chaudhary</td>\n",
              "    </tr>\n",
              "    <tr>\n",
              "      <th>695</th>\n",
              "      <td>7953</td>\n",
              "      <td>2018</td>\n",
              "      <td>Mumbai</td>\n",
              "      <td>27/05/18</td>\n",
              "      <td>Sunrisers Hyderabad</td>\n",
              "      <td>Chennai Super Kings</td>\n",
              "      <td>Chennai Super Kings</td>\n",
              "      <td>field</td>\n",
              "      <td>normal</td>\n",
              "      <td>0</td>\n",
              "      <td>Chennai Super Kings</td>\n",
              "      <td>0</td>\n",
              "      <td>8</td>\n",
              "      <td>SR Watson</td>\n",
              "      <td>Wankhede Stadium</td>\n",
              "      <td>Marais Erasmus</td>\n",
              "      <td>S Ravi</td>\n",
              "      <td>Nitin Menon</td>\n",
              "    </tr>\n",
              "  </tbody>\n",
              "</table>\n",
              "<p>696 rows × 18 columns</p>\n",
              "</div>"
            ],
            "text/plain": [
              "       id  season  ...           umpire2           umpire3\n",
              "0       1    2017  ...          NJ Llong               NaN\n",
              "1       2    2017  ...            S Ravi               NaN\n",
              "2       3    2017  ...         CK Nandan               NaN\n",
              "3       4    2017  ...     C Shamshuddin               NaN\n",
              "4       5    2017  ...               NaN               NaN\n",
              "..    ...     ...  ...               ...               ...\n",
              "691  7949    2018  ...    Yeshwant Barde    Marais Erasmus\n",
              "692  7950    2018  ...     C Shamshuddin            S Ravi\n",
              "693  7951    2018  ...    Anil Chaudhary  Kumar Dharmasena\n",
              "694  7952    2018  ...  Kumar Dharmasena    Anil Chaudhary\n",
              "695  7953    2018  ...            S Ravi       Nitin Menon\n",
              "\n",
              "[696 rows x 18 columns]"
            ]
          },
          "metadata": {},
          "execution_count": 33
        }
      ]
    },
    {
      "cell_type": "code",
      "metadata": {
        "colab": {
          "base_uri": "https://localhost:8080/"
        },
        "id": "rwqcHlsYcEOF",
        "outputId": "c24bad8c-c219-4c83-c4ff-2202674ae35e"
      },
      "source": [
        "# imporing the shapiro function\n",
        "from scipy.stats import shapiro \n",
        "\n",
        "# testing for normality\n",
        "stat, p = shapiro(dataset6['win_by_runs'])\n",
        "print('Statistics=%.3f, p=%.3f' % (stat, p))\n",
        "\n",
        "# this is not a normal distribution "
      ],
      "execution_count": null,
      "outputs": [
        {
          "output_type": "stream",
          "name": "stdout",
          "text": [
            "Statistics=0.638, p=0.000\n"
          ]
        }
      ]
    },
    {
      "cell_type": "code",
      "metadata": {
        "colab": {
          "base_uri": "https://localhost:8080/",
          "height": 333
        },
        "id": "6Ye84PPPdarT",
        "outputId": "d72eecff-f426-436a-e0e3-aaa49c983ed2"
      },
      "source": [
        "pyplot.hist(dataset6['win_by_runs'])\n"
      ],
      "execution_count": null,
      "outputs": [
        {
          "output_type": "execute_result",
          "data": {
            "text/plain": [
              "(array([490.,  92.,  48.,  23.,  14.,  15.,   7.,   2.,   1.,   4.]),\n",
              " array([  0. ,  14.6,  29.2,  43.8,  58.4,  73. ,  87.6, 102.2, 116.8,\n",
              "        131.4, 146. ]),\n",
              " <a list of 10 Patch objects>)"
            ]
          },
          "metadata": {},
          "execution_count": 37
        },
        {
          "output_type": "display_data",
          "data": {
            "image/png": "[encoded data removed]",
            "text/plain": [
              "<Figure size 432x288 with 1 Axes>"
            ]
          },
          "metadata": {
            "needs_background": "light"
          }
        }
      ]
    },
    {
      "cell_type": "markdown",
      "metadata": {
        "id": "tw66CC27HlKj"
      },
      "source": [
        "## 4.0 Anderson-Darling Test\n"
      ]
    },
    {
      "cell_type": "code",
      "metadata": {
        "id": "0AxqNBpEHktu"
      },
      "source": [
        "# Example 1\n",
        "# ---\n",
        "# Anderson-Darling Test is a statistical test that can be used to evaluate \n",
        "# whether a data sample comes from one of among many known data samples, named for Theodore Anderson and Donald Darling.\n",
        "# It can be used to check whether a data sample is normal. \n",
        "# The test is a modified version of a more sophisticated nonparametric goodness-of-fit statistical test called the Kolmogorov-Smirnov test.\n",
        "# A feature of the Anderson-Darling test is that it returns a list of critical values rather than a single p-value. \n",
        "# This can provide the basis for a more thorough interpretation of the result.\n",
        "# The anderson() SciPy function implements the Anderson-Darling test. \n",
        "# It takes as parameters the data sample and the name of the distribution to test it against. \n",
        "# By default, the test will check against the Gaussian distribution (dist=’norm’).\n",
        "# ---\n",
        "# \n",
        "\n",
        "# Importing anderson function form scipy \n",
        "from scipy.stats import anderson\n",
        "\n",
        "# seed the random number generator\n",
        "seed(1)\n",
        "\n",
        "# generate univariate observations\n",
        "data = 5 * randn(100) + 50\n",
        "\n",
        "# normality test\n",
        "result = anderson(data)\n",
        "print('Statistic: %.3f' % result.statistic)\n",
        "p = 0\n",
        "for i in range(len(result.critical_values)):\n",
        "\tsl, cv = result.significance_level[i], result.critical_values[i]\n",
        "\tif result.statistic < result.critical_values[i]:\n",
        "\t\tprint('%.3f: %.3f, data looks normal' % (sl, cv))\n",
        "\telse:\n",
        "\t\tprint('%.3f: %.3f, data does not look normal' % (sl, cv))\n",
        "    \n",
        "# Running this example calculates the statistic on the test data set and prints the critical values.\n",
        "# Critical values in a statistical test are a range of pre-defined significance boundaries at which \n",
        "# the H0 can be failed to be rejected if the calculated statistic is less than the critical value. \n",
        "# More on Critical values: http://bit.ly/CriticalValues.\n",
        "# Rather than just a single p-value, the test returns a critical value for a range of different commonly used significance levels.\n",
        "# We can interpret the results by failing to reject the null hypothesis that the data is normal \n",
        "# if the calculated test statistic is less than the critical value at a chosen significance level.\n",
        "# We can see that at each significance level, the test has found that the data follows a normal distribution."
      ],
      "execution_count": null,
      "outputs": []
    },
    {
      "cell_type": "markdown",
      "metadata": {
        "id": "5gSMhKaEI05P"
      },
      "source": [
        "### <font color=\"green\">4.0 Challenges</font>"
      ]
    },
    {
      "cell_type": "code",
      "metadata": {
        "id": "0_Sh6wYpI42o",
        "colab": {
          "base_uri": "https://localhost:8080/",
          "height": 419
        },
        "outputId": "29db36c4-1ed5-42e9-bb8e-dbbe0f0bdf15"
      },
      "source": [
        "# Challenge 1 \n",
        "# ---\n",
        "# Question: Determine whether the given dataset follows a Gaussian Distribution\n",
        "# ---\n",
        "# Dataset url = http://bit.ly/GaussianDistributionDataset4\n",
        "#\n",
        "dataset7 = pd.read_csv('http://bit.ly/GaussianDistributionDataset4',names=['Column New'])\n",
        "dataset7"
      ],
      "execution_count": null,
      "outputs": [
        {
          "output_type": "execute_result",
          "data": {
            "text/html": [
              "<div>\n",
              "<style scoped>\n",
              "    .dataframe tbody tr th:only-of-type {\n",
              "        vertical-align: middle;\n",
              "    }\n",
              "\n",
              "    .dataframe tbody tr th {\n",
              "        vertical-align: top;\n",
              "    }\n",
              "\n",
              "    .dataframe thead th {\n",
              "        text-align: right;\n",
              "    }\n",
              "</style>\n",
              "<table border=\"1\" class=\"dataframe\">\n",
              "  <thead>\n",
              "    <tr style=\"text-align: right;\">\n",
              "      <th></th>\n",
              "      <th>Column New</th>\n",
              "    </tr>\n",
              "  </thead>\n",
              "  <tbody>\n",
              "    <tr>\n",
              "      <th>0</th>\n",
              "      <td>34.550539</td>\n",
              "    </tr>\n",
              "    <tr>\n",
              "      <th>1</th>\n",
              "      <td>51.752586</td>\n",
              "    </tr>\n",
              "    <tr>\n",
              "      <th>2</th>\n",
              "      <td>75.883026</td>\n",
              "    </tr>\n",
              "    <tr>\n",
              "      <th>3</th>\n",
              "      <td>26.288428</td>\n",
              "    </tr>\n",
              "    <tr>\n",
              "      <th>4</th>\n",
              "      <td>24.966157</td>\n",
              "    </tr>\n",
              "    <tr>\n",
              "      <th>...</th>\n",
              "      <td>...</td>\n",
              "    </tr>\n",
              "    <tr>\n",
              "      <th>995</th>\n",
              "      <td>90.159260</td>\n",
              "    </tr>\n",
              "    <tr>\n",
              "      <th>996</th>\n",
              "      <td>16.877114</td>\n",
              "    </tr>\n",
              "    <tr>\n",
              "      <th>997</th>\n",
              "      <td>40.340972</td>\n",
              "    </tr>\n",
              "    <tr>\n",
              "      <th>998</th>\n",
              "      <td>8.764337</td>\n",
              "    </tr>\n",
              "    <tr>\n",
              "      <th>999</th>\n",
              "      <td>52.824710</td>\n",
              "    </tr>\n",
              "  </tbody>\n",
              "</table>\n",
              "<p>1000 rows × 1 columns</p>\n",
              "</div>"
            ],
            "text/plain": [
              "     Column New\n",
              "0     34.550539\n",
              "1     51.752586\n",
              "2     75.883026\n",
              "3     26.288428\n",
              "4     24.966157\n",
              "..          ...\n",
              "995   90.159260\n",
              "996   16.877114\n",
              "997   40.340972\n",
              "998    8.764337\n",
              "999   52.824710\n",
              "\n",
              "[1000 rows x 1 columns]"
            ]
          },
          "metadata": {},
          "execution_count": 40
        }
      ]
    },
    {
      "cell_type": "code",
      "metadata": {
        "id": "PiHy9jnLe12b"
      },
      "source": [
        "# seed the random number generator\n",
        "seed(1)\n",
        "\n",
        "\n",
        "\n",
        "# normality test\n",
        "result = anderson(data)\n",
        "print('Statistic: %.3f' % result.statistic)\n",
        "p = 0"
      ],
      "execution_count": null,
      "outputs": []
    },
    {
      "cell_type": "code",
      "metadata": {
        "id": "3_LtL00f7og6"
      },
      "source": [
        "# Challenge 2\n",
        "# ---\n",
        "# Question: Plot the win by runs data in the given dataset and watch the curve.\n",
        "# Does the data follow a normal distribution\n",
        "# ---\n",
        "# Dataset url = http://bit.ly/IndianPremierLeagueDataset\n",
        "# \n",
        "OUR CODE GOES HERE"
      ],
      "execution_count": null,
      "outputs": []
    },
    {
      "cell_type": "markdown",
      "metadata": {
        "id": "pWrZOT_QHu_5"
      },
      "source": [
        "## 5.0 D’Agostino’s K^2 Test"
      ]
    },
    {
      "cell_type": "code",
      "metadata": {
        "id": "kx8Q3c6xIMJ9"
      },
      "source": [
        "# Example 1\n",
        "# ---\n",
        "# The D’Agostino’s K^2 test calculates summary statistics from the data, namely kurtosis and skewness, \n",
        "# to determine if the data distribution departs from the normal distribution, named for Ralph D’Agostino.\n",
        "# -> Skew is a quantification of how much a distribution is pushed left or right, a measure of asymmetry in the distribution.\n",
        "# -> Kurtosis quantifies how much of the distribution is in the tail. It is a simple and commonly used statistical test for normality.\n",
        "# The D’Agostino’s K^2 test is available via the normaltest() SciPy function and returns the test statistic and the p-value.\n",
        "# ---\n",
        "\n",
        "from numpy.random import seed\n",
        "from numpy.random import randn\n",
        "from scipy.stats import normaltest\n",
        "# seed the random number generator\n",
        "seed(1)\n",
        "# generate univariate observations\n",
        "data = 5 * randn(100) + 50\n",
        "# normality test\n",
        "stat, p = normaltest(data)\n",
        "print('Statistics=%.3f, p=%.3f' % (stat, p))\n",
        "# interpret\n",
        "alpha = 0.05\n",
        "if p > alpha:\n",
        "\tprint('Sample looks Gaussian')\n",
        "else:\n",
        "\tprint('Sample does not look Gaussian')"
      ],
      "execution_count": null,
      "outputs": []
    },
    {
      "cell_type": "markdown",
      "metadata": {
        "id": "eE37tkQCI8lN"
      },
      "source": [
        "### <font color=\"green\">5.0 Challenges</font>"
      ]
    },
    {
      "cell_type": "code",
      "metadata": {
        "id": "ga0fWL-6JAbn"
      },
      "source": [
        "# Challenge 1\n",
        "# ---\n",
        "# Question: Using D’Agostino’s K^2 Test, determine whether the given data follows a normal distribution.\n",
        "# ---\n",
        "# Dataset url = http://bit.ly/GaussianDistributionDataset3\n",
        "# \n",
        "OUR CODE GOES HERE"
      ],
      "execution_count": null,
      "outputs": []
    },
    {
      "cell_type": "code",
      "metadata": {
        "id": "ICPWiAoEJBvc"
      },
      "source": [
        "# Challenge 2\n",
        "# ---\n",
        "# Question: From the fifa dataset given below, does the overall rating data follow a normal distribution? \n",
        "# If your sample follows a normal distribution, does this makes sense to you? Explain why.\n",
        "# If your sample does not follow a normal distribution (e.g., it could be skewed left or right, \n",
        "# have a uniform distribution, or have some other shape), then why might this be the reason?\n",
        "# ---\n",
        "# Dataset url = http://bit.ly/FifaDataset\n",
        "# \n",
        "OUR CODE GOES HERE"
      ],
      "execution_count": null,
      "outputs": []
    },
    {
      "cell_type": "markdown",
      "metadata": {
        "id": "PWPpyTdDIZZ-"
      },
      "source": [
        "## 6.0 Further Readings"
      ]
    },
    {
      "cell_type": "markdown",
      "metadata": {
        "id": "UhPRWBIiH1jp"
      },
      "source": [
        "Other plots that we have not covered in this session but are also worth exploring include:\n",
        "\n",
        "\n",
        "*   Box Plots.\n",
        "*   The Kolmogorov-Smirnov test.\n",
        "\n",
        "\n"
      ]
    }
  ]
}