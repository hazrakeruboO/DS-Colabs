{
  "nbformat": 4,
  "nbformat_minor": 0,
  "metadata": {
    "kernelspec": {
      "display_name": "Python 3",
      "language": "python",
      "name": "python3"
    },
    "language_info": {
      "codemirror_mode": {
        "name": "ipython",
        "version": 3
      },
      "file_extension": ".py",
      "mimetype": "text/x-python",
      "name": "python",
      "nbconvert_exporter": "python",
      "pygments_lexer": "ipython3",
      "version": "3.8.5"
    },
    "colab": {
      "name": "SLCopy of 3 Statistical Experiments and Significance Testing.ipynb",
      "provenance": [],
      "collapsed_sections": [
        "mCOMx55j8SFL",
        "qxhNGYBC8SFO",
        "WKmniUWq8SFQ",
        "wHXSU-_f8SFQ",
        "ZxGONEJS8SFR",
        "pkKY9qCL8SFT",
        "TjORu1td8SFW",
        "Dq9hp4lc8SFX",
        "gXgkNAcl8SFZ",
        "LSRl_PWJ8SFZ",
        "gPZbUhxI8SFZ",
        "2AtMvtz-8SFa",
        "6zDIz17s8SFa"
      ],
      "include_colab_link": true
    }
  },
  "cells": [
    {
      "cell_type": "markdown",
      "metadata": {
        "id": "view-in-github",
        "colab_type": "text"
      },
      "source": [
        "<a href=\"https://colab.research.google.com/github/hazrakeruboO/DS-Colabs/blob/main/SLCopy_of_3_Statistical_Experiments_and_Significance_Testing.ipynb\" target=\"_parent\"><img src=\"https://colab.research.google.com/assets/colab-badge.svg\" alt=\"Open In Colab\"/></a>"
      ]
    },
    {
      "cell_type": "markdown",
      "metadata": {
        "id": "_ekkJAWs8SE7"
      },
      "source": [
        "# Statistics in Data Science Webinar Series\n",
        "\n",
        "## Week 3: Statistical Experiments and Significance Testing\n",
        "\n",
        "February 20, 2021\n",
        "<br>\n",
        "\n",
        "Angela Gaetano, M.S. Data Science, Manager of Data Science, Medtronic\n",
        "<br>\n",
        "Sneha Thanasekaran, M.S. Information Systems, Data Scientist, Medtronic\n",
        "<br>\n",
        "Sowmya Uk\n",
        "<br>\n",
        "Shaivya Kodan\n",
        "\n",
        "<br>\n",
        "\n",
        "Data files: https://drive.google.com/drive/u/1/folders/1kvVDL6ps5q8vQr58j9WjMCrYWostiZKy\n"
      ]
    },
    {
      "cell_type": "markdown",
      "metadata": {
        "id": "OfmoocOQ8SE_"
      },
      "source": [
        "### Topics\n",
        "1. Introduction: Why Run Statistical Experiments?\n",
        "2. Variability in Estimates\n",
        "3. Hypothesis Testing\n",
        " 1. Hypothesis Testing Framework: Step-by-Step Guide\n",
        " 2. Choosing the Appropriate Statistical Test, Testing Assumptions,and Interpretting the Results (i.e., \"Significance\")\n",
        " 3. Parametric tests including t-tests, ANOVA, chi-squared tests\n",
        " 4. Non-Parametric tests including Mann Whitney, Kruskal-Wallis, Wilcoxon Signed Rank Tests \n",
        "4. Supporting your Statistical Experiments with additional evidence\n",
        " 1. Resampling - Permutation Testing\n",
        " 2. Power and Sample Size\n",
        "5. A/B Testing: A Common Application of Statistical Experimentation"
      ]
    },
    {
      "cell_type": "markdown",
      "metadata": {
        "id": "TTIFfsu78SFC"
      },
      "source": [
        "### Introduction: Why Run Statistical Experiments?\n",
        "\n",
        "Statistics is an attainable and yet powerful tool for the Data Scientist. By leveraging principles of mathematical probability and inference, we can provide answers to meaningful questions that would otherwise be impossible to answer in our world of large numbers and possibilities. By finding ways to harness samples to represent broader populations and themes, we can advance the learnings of the scientific community. Some say, \"Data is Power.\" I say, \"Statistics with Power is Significant!\"\n",
        "<br>\n",
        "<br>\n",
        "\n",
        "Not only will this lesson enable you to run your own statistical experiments, but it will also empower you to look at the world with a scientific eye, being able to research and read clinical studies and understand what they truly mean. For example, with nothing more than a basic level of expertise in statistical experiments and hypothesis testing, anyone can learn more about the Covid-19 Vaccine Clinical Trials, and how to interpret the results. Understanding these principles of experimentation can be useful to anyone in our day to day lives!"
      ]
    },
    {
      "cell_type": "markdown",
      "metadata": {
        "id": "eizEFTFw8SFD"
      },
      "source": [
        "#### Principles of Experiments\n",
        "\n",
        "* **Controlling** – control for differences between groups other than what is being tested for\n",
        "* **Randomization** – helps account for uncontrollable confounding variables\n",
        "* **Replication** – be able to perform tests on multiple subjects, or even replicate an entire study\n",
        "* **Blocking** – intentional grouping of individuals with common uncontrollable confounding variable, and then randomly assign equal numbered subsets into the treatment groups"
      ]
    },
    {
      "cell_type": "markdown",
      "metadata": {
        "id": "Wu_pYhx58SFD"
      },
      "source": [
        "### Variability in Estimates\n",
        "\n",
        "* **Point Estimate**: the sample estimate measure of the population parameter (e.g., $\\bar x$  is the point estimate for $\\mu$   , $\\hat p$ is the estimate for $p$)\n",
        "* The Point Estimate will slightly vary each time you take a new sample of the population (e.g., sampling variation)\n",
        "* If you take samples and measure the point estimate many times, you can build up the sampling distribution of the point estimate. “Understanding the sampling distribution is central to understanding statistical inference.”\n",
        "* The standard error of the estimate is the standard deviation of the sampling distribution\n",
        "* From a single sample, we can use the following equation to calculate standard error for the sample mean: $𝑆𝐸=  \\frac{σ}{\\sqrt[]{n}}$ (use $s$ when $σ$ is unknown)\n",
        "\n",
        "![test pic](https://drive.google.com/uc?id=1_J9ef_vy-EI81yRYLZIh3kOWVh-qKsLV)"
      ]
    },
    {
      "cell_type": "markdown",
      "metadata": {
        "id": "xWoSmER08SFF"
      },
      "source": [
        "### Hypothesis Testing: Introduction\n",
        "\n",
        "* Takes the position of the skeptic:\n",
        " + I will not be convinced that there is any difference unless strong evidence is presented in favor of that alternative\n",
        " + Innocent until proven guilty\n",
        "* Formal testing using p-values\n",
        " + The p-value is the probability of observing data at least as favorable to the alternative hypothesis as our current data set, if the null hypothesis is true\n",
        " + The lower the p-value, the stronger the data favor the alternative hypothesis\n",
        " + Why 0.05 significance level (α = 0.05)? It turns out to be the most common “natural threshold” for human skepticism. For more info, visit www.openintro.org/why05\n",
        "\n",
        "\n",
        "![image](https://drive.google.com/uc?export=view&id=1XCgrFhPAinvsmYJC_pSomd5mWHwh3oCA)\n",
        "\n",
        "\n"
      ]
    },
    {
      "cell_type": "markdown",
      "metadata": {
        "id": "ko6cMLAQ8SFF"
      },
      "source": [
        "### Hypothesis Testing: Step-by-Step\n",
        "\n",
        "1. Define the null and alternative hypothesis\n",
        "* Null hypothesis is always the one that contains equality\n",
        "* Alternative implies inequality (or “difference”)\n",
        "\n",
        "2. Set the significance Level, α\n",
        "* 0.05 is most commonly used. Use 0.01 if you want to make the test more strict\n",
        "\n",
        "3. Select an appropriate statistical test\n",
        "* Consider the type of data in the study\n",
        " + How Many groups of data? Are the data _paired_? Is the output you are trying to measure Continuous, Binary, or Categorical?\n",
        "* Understand whether you need to test for assumptions. Typical assumptions of parametric tests are\n",
        " + Samples are independent and unbiased\n",
        " + Data is approximately normal (within all groups). Can use Anderson-Darling test or Shapiro-Wilks test (two most commonly used). If sample size is large enough and appears approximately normal with no significant skewness, no need to test assumption further\n",
        " + If there is more than one group of data, need to know whether the variances are equal. Can use an F test or Levene's test\n",
        "\n",
        "4. Decide one or two tailed\n",
        "* A one-tailed test implies that the alternative hypothesis is a directional inequality (i.e., \"greater than\" or \"less than\"). Only use a one-tailed test if the intention of the experiment is based on a pre-stated suspicion of direction. Otherwise, always assume two-tailed (i.e., alternative hypothesis is \"not equal\"). Most statistical functions assume two-tailed default parameter\n",
        "\n",
        "5. Run the Statistical Test\n",
        "* Usually can be done with one line of code that takes the data as input as well as other specific testing parameters\n",
        "\n",
        "6. Interpret the output: Decide whether to Reject or Fail to Reject the Null hypothesis\n",
        "* Use the p-value to determine the outcome of the test. If the p-value < α, Reject the Null Hypothesis, proving the alternative. Otherwise, Fail to Reject the Null, conveying there was not enough evidence to reject the null\n"
      ]
    },
    {
      "cell_type": "markdown",
      "metadata": {
        "id": "NIFNr1ID8SFF"
      },
      "source": [
        "### Choosing the Appropriate Statistical Test, Testing Assumptions,and Interpretting the Results (i.e., \"Significance\")\n",
        "\n",
        "To choose the appropriate statistical test, you must ask certain key questions:\n",
        "1. What is the data type of the response? i.e., what data type is the value you are measuring? Continous, Binary, or Categorical?\n",
        "2. What is the data type of the input? Binary input implies you are dealing with two groups, \"A\" and \"B\". Categorical input implies you have multiple groups. Continuous input implies you are interested in correlation\n",
        " * If the input in Binary, and your response is continuous, ask if the data are \"_paired_\"\n",
        " * If the input is Binary or Categorical, and your response is continuous, test whether the variances between the groups are equal\n",
        " * If the input is Continous, run a correlation test using either Pearson's, Spearman's, or Kendall's depending on results of (3) below\n",
        "3. Do your data satisfy assumptions for a Parametric test, or do you need to choose a Non-Parametric test?\n",
        " * Recall assumptions for parametric tests from above\n",
        "\n",
        "\n",
        "Below are some flowcharts created by one of my colleagues to assist you in your decision-making when your inputs are either Binary or Categorical (Credit: Alice Townsend: [LinkedIn](https://www.linkedin.com/in/alice-townsend-04474a77/)).\n",
        "\n",
        "![](https://drive.google.com/uc?id=1grEMp76x_RNng2faf-wp-IVsbkvtVXjY)"
      ]
    },
    {
      "cell_type": "markdown",
      "metadata": {
        "id": "4BmzAe8R8SFG"
      },
      "source": [
        "![](https://drive.google.com/uc?id=1TMn7Qih_8zvvJ2DqUpJZvxSYZOD8dRVP)"
      ]
    },
    {
      "cell_type": "markdown",
      "metadata": {
        "id": "wW3CFUjH8SFG"
      },
      "source": [
        "### Let's work through some examples"
      ]
    },
    {
      "cell_type": "code",
      "metadata": {
        "id": "_wbTeHBU8SFG"
      },
      "source": [
        "import scipy.stats as stats\n",
        "import numpy as np \n",
        "import pandas as pd"
      ],
      "execution_count": null,
      "outputs": []
    },
    {
      "cell_type": "markdown",
      "metadata": {
        "id": "vcQZYMC58SFH"
      },
      "source": [
        "## Exercise 1: Are Mean Crime Rates different between the North and the South?\n"
      ]
    },
    {
      "cell_type": "code",
      "metadata": {
        "colab": {
          "base_uri": "https://localhost:8080/",
          "height": 218
        },
        "id": "04XmGnUC8SFH",
        "outputId": "4972d4ae-e25a-49d1-d60f-e3417959c23b"
      },
      "source": [
        "url = 'https://drive.google.com/file/d/1RxU0OyMgyH4O843AT7OrczjHilhYrnCG/view?usp=sharing'\n",
        "path = 'https://drive.google.com/uc?export=download&id='+url.split('/')[-2]\n",
        "crime = pd.read_csv(path)\n",
        "crime.head()"
      ],
      "execution_count": null,
      "outputs": [
        {
          "output_type": "execute_result",
          "data": {
            "text/html": [
              "<div>\n",
              "<style scoped>\n",
              "    .dataframe tbody tr th:only-of-type {\n",
              "        vertical-align: middle;\n",
              "    }\n",
              "\n",
              "    .dataframe tbody tr th {\n",
              "        vertical-align: top;\n",
              "    }\n",
              "\n",
              "    .dataframe thead th {\n",
              "        text-align: right;\n",
              "    }\n",
              "</style>\n",
              "<table border=\"1\" class=\"dataframe\">\n",
              "  <thead>\n",
              "    <tr style=\"text-align: right;\">\n",
              "      <th></th>\n",
              "      <th>CrimeRate</th>\n",
              "      <th>Youth</th>\n",
              "      <th>Southern</th>\n",
              "      <th>Education</th>\n",
              "      <th>ExpenditureYear0</th>\n",
              "      <th>LabourForce</th>\n",
              "      <th>Males</th>\n",
              "      <th>MoreMales</th>\n",
              "      <th>StateSize</th>\n",
              "      <th>YouthUnemployment</th>\n",
              "      <th>MatureUnemployment</th>\n",
              "      <th>HighYouthUnemploy</th>\n",
              "      <th>Wage</th>\n",
              "      <th>BelowWage</th>\n",
              "      <th>CrimeRate10</th>\n",
              "      <th>Youth10</th>\n",
              "      <th>Education10</th>\n",
              "      <th>ExpenditureYear10</th>\n",
              "      <th>LabourForce10</th>\n",
              "      <th>Males10</th>\n",
              "      <th>MoreMales10</th>\n",
              "      <th>StateSize10</th>\n",
              "      <th>YouthUnemploy10</th>\n",
              "      <th>MatureUnemploy10</th>\n",
              "      <th>HighYouthUnemploy10</th>\n",
              "      <th>Wage10</th>\n",
              "      <th>BelowWage10</th>\n",
              "    </tr>\n",
              "  </thead>\n",
              "  <tbody>\n",
              "    <tr>\n",
              "      <th>0</th>\n",
              "      <td>45.5</td>\n",
              "      <td>135</td>\n",
              "      <td>0</td>\n",
              "      <td>12.4</td>\n",
              "      <td>69</td>\n",
              "      <td>540</td>\n",
              "      <td>965</td>\n",
              "      <td>0</td>\n",
              "      <td>6</td>\n",
              "      <td>80</td>\n",
              "      <td>22</td>\n",
              "      <td>1</td>\n",
              "      <td>564</td>\n",
              "      <td>139</td>\n",
              "      <td>26.5</td>\n",
              "      <td>135</td>\n",
              "      <td>12.5</td>\n",
              "      <td>71</td>\n",
              "      <td>564</td>\n",
              "      <td>974</td>\n",
              "      <td>0</td>\n",
              "      <td>6</td>\n",
              "      <td>82</td>\n",
              "      <td>20</td>\n",
              "      <td>1</td>\n",
              "      <td>632</td>\n",
              "      <td>142</td>\n",
              "    </tr>\n",
              "    <tr>\n",
              "      <th>1</th>\n",
              "      <td>52.3</td>\n",
              "      <td>140</td>\n",
              "      <td>0</td>\n",
              "      <td>10.9</td>\n",
              "      <td>55</td>\n",
              "      <td>535</td>\n",
              "      <td>1045</td>\n",
              "      <td>1</td>\n",
              "      <td>6</td>\n",
              "      <td>135</td>\n",
              "      <td>40</td>\n",
              "      <td>1</td>\n",
              "      <td>453</td>\n",
              "      <td>200</td>\n",
              "      <td>35.9</td>\n",
              "      <td>135</td>\n",
              "      <td>10.9</td>\n",
              "      <td>54</td>\n",
              "      <td>540</td>\n",
              "      <td>1039</td>\n",
              "      <td>1</td>\n",
              "      <td>7</td>\n",
              "      <td>138</td>\n",
              "      <td>39</td>\n",
              "      <td>1</td>\n",
              "      <td>521</td>\n",
              "      <td>210</td>\n",
              "    </tr>\n",
              "    <tr>\n",
              "      <th>2</th>\n",
              "      <td>56.6</td>\n",
              "      <td>157</td>\n",
              "      <td>1</td>\n",
              "      <td>11.2</td>\n",
              "      <td>47</td>\n",
              "      <td>512</td>\n",
              "      <td>962</td>\n",
              "      <td>0</td>\n",
              "      <td>22</td>\n",
              "      <td>97</td>\n",
              "      <td>34</td>\n",
              "      <td>0</td>\n",
              "      <td>288</td>\n",
              "      <td>276</td>\n",
              "      <td>37.1</td>\n",
              "      <td>153</td>\n",
              "      <td>11.0</td>\n",
              "      <td>44</td>\n",
              "      <td>529</td>\n",
              "      <td>959</td>\n",
              "      <td>0</td>\n",
              "      <td>24</td>\n",
              "      <td>98</td>\n",
              "      <td>33</td>\n",
              "      <td>0</td>\n",
              "      <td>359</td>\n",
              "      <td>256</td>\n",
              "    </tr>\n",
              "    <tr>\n",
              "      <th>3</th>\n",
              "      <td>60.3</td>\n",
              "      <td>139</td>\n",
              "      <td>1</td>\n",
              "      <td>11.9</td>\n",
              "      <td>46</td>\n",
              "      <td>480</td>\n",
              "      <td>968</td>\n",
              "      <td>0</td>\n",
              "      <td>19</td>\n",
              "      <td>135</td>\n",
              "      <td>53</td>\n",
              "      <td>0</td>\n",
              "      <td>457</td>\n",
              "      <td>249</td>\n",
              "      <td>42.7</td>\n",
              "      <td>139</td>\n",
              "      <td>11.8</td>\n",
              "      <td>41</td>\n",
              "      <td>497</td>\n",
              "      <td>983</td>\n",
              "      <td>0</td>\n",
              "      <td>20</td>\n",
              "      <td>131</td>\n",
              "      <td>50</td>\n",
              "      <td>0</td>\n",
              "      <td>510</td>\n",
              "      <td>235</td>\n",
              "    </tr>\n",
              "    <tr>\n",
              "      <th>4</th>\n",
              "      <td>64.2</td>\n",
              "      <td>126</td>\n",
              "      <td>0</td>\n",
              "      <td>12.2</td>\n",
              "      <td>106</td>\n",
              "      <td>599</td>\n",
              "      <td>989</td>\n",
              "      <td>0</td>\n",
              "      <td>40</td>\n",
              "      <td>78</td>\n",
              "      <td>25</td>\n",
              "      <td>1</td>\n",
              "      <td>593</td>\n",
              "      <td>171</td>\n",
              "      <td>46.7</td>\n",
              "      <td>125</td>\n",
              "      <td>12.2</td>\n",
              "      <td>97</td>\n",
              "      <td>602</td>\n",
              "      <td>989</td>\n",
              "      <td>0</td>\n",
              "      <td>42</td>\n",
              "      <td>79</td>\n",
              "      <td>24</td>\n",
              "      <td>1</td>\n",
              "      <td>660</td>\n",
              "      <td>162</td>\n",
              "    </tr>\n",
              "  </tbody>\n",
              "</table>\n",
              "</div>"
            ],
            "text/plain": [
              "   CrimeRate  Youth  Southern  ...  HighYouthUnemploy10  Wage10  BelowWage10\n",
              "0       45.5    135         0  ...                    1     632          142\n",
              "1       52.3    140         0  ...                    1     521          210\n",
              "2       56.6    157         1  ...                    0     359          256\n",
              "3       60.3    139         1  ...                    0     510          235\n",
              "4       64.2    126         0  ...                    1     660          162\n",
              "\n",
              "[5 rows x 27 columns]"
            ]
          },
          "metadata": {
            "tags": []
          },
          "execution_count": 28
        }
      ]
    },
    {
      "cell_type": "markdown",
      "metadata": {
        "id": "l154kCmL8SFI"
      },
      "source": [
        "### Step 1: Define the null and alternative hypothesis\n",
        "\n",
        "$H_{0}: \\mu_{N} - \\mu_{S} = 0$\n",
        "\n",
        "$H_{A}: \\mu_{N} - \\mu_{S} \\neq 0$\n"
      ]
    },
    {
      "cell_type": "markdown",
      "metadata": {
        "id": "0A09ABNM8SFJ"
      },
      "source": [
        "### Step 2: Set Significance Level\n",
        "\n",
        "$\\alpha = 0.05$\n",
        "\n",
        "### Step 3: Select the appropriate statistical test\n",
        "\n",
        "#### What type of variable is the \"input\"?\n",
        "\n",
        "The input is a binary classification, \"North\" vs \"South\". So, the answer is **Binary**\n",
        "\n",
        "#### What type of variable is the \"response\"?\n",
        "\n",
        "The response is \"Crime Rate,\" which is a **continuous** value\n",
        "\n",
        "#### Is the response paired?\n",
        "\n",
        "**No**, the responses are not paired by the groups; they are independent groups.\n",
        "\n",
        "#### Does the response follow a normal distribution in both groups?\n",
        "\n",
        "Need to either test for Normality with an Anderson-Darling hypothesis test, or assume normality based on other descriptive details of the data (sample size, skewness, etc.)\n",
        "\n",
        "\n"
      ]
    },
    {
      "cell_type": "code",
      "metadata": {
        "id": "-vWu1zdp8SFJ",
        "colab": {
          "base_uri": "https://localhost:8080/",
          "height": 308
        },
        "outputId": "114214ef-b783-41c9-d440-f55f7bb95eda"
      },
      "source": [
        "SouthCrime = crime.loc[(crime.Southern == 1)] #South\n",
        "SouthCrime.describe()"
      ],
      "execution_count": null,
      "outputs": [
        {
          "output_type": "execute_result",
          "data": {
            "text/html": [
              "<div>\n",
              "<style scoped>\n",
              "    .dataframe tbody tr th:only-of-type {\n",
              "        vertical-align: middle;\n",
              "    }\n",
              "\n",
              "    .dataframe tbody tr th {\n",
              "        vertical-align: top;\n",
              "    }\n",
              "\n",
              "    .dataframe thead th {\n",
              "        text-align: right;\n",
              "    }\n",
              "</style>\n",
              "<table border=\"1\" class=\"dataframe\">\n",
              "  <thead>\n",
              "    <tr style=\"text-align: right;\">\n",
              "      <th></th>\n",
              "      <th>CrimeRate</th>\n",
              "      <th>Youth</th>\n",
              "      <th>Southern</th>\n",
              "      <th>Education</th>\n",
              "      <th>ExpenditureYear0</th>\n",
              "      <th>LabourForce</th>\n",
              "      <th>Males</th>\n",
              "      <th>MoreMales</th>\n",
              "      <th>StateSize</th>\n",
              "      <th>YouthUnemployment</th>\n",
              "      <th>MatureUnemployment</th>\n",
              "      <th>HighYouthUnemploy</th>\n",
              "      <th>Wage</th>\n",
              "      <th>BelowWage</th>\n",
              "      <th>CrimeRate10</th>\n",
              "      <th>Youth10</th>\n",
              "      <th>Education10</th>\n",
              "      <th>ExpenditureYear10</th>\n",
              "      <th>LabourForce10</th>\n",
              "      <th>Males10</th>\n",
              "      <th>MoreMales10</th>\n",
              "      <th>StateSize10</th>\n",
              "      <th>YouthUnemploy10</th>\n",
              "      <th>MatureUnemploy10</th>\n",
              "      <th>HighYouthUnemploy10</th>\n",
              "      <th>Wage10</th>\n",
              "      <th>BelowWage10</th>\n",
              "    </tr>\n",
              "  </thead>\n",
              "  <tbody>\n",
              "    <tr>\n",
              "      <th>count</th>\n",
              "      <td>16.000000</td>\n",
              "      <td>16.000000</td>\n",
              "      <td>16.0</td>\n",
              "      <td>16.000000</td>\n",
              "      <td>16.000000</td>\n",
              "      <td>16.000000</td>\n",
              "      <td>16.000000</td>\n",
              "      <td>16.0</td>\n",
              "      <td>16.000000</td>\n",
              "      <td>16.000000</td>\n",
              "      <td>16.00000</td>\n",
              "      <td>16.0000</td>\n",
              "      <td>16.000000</td>\n",
              "      <td>16.000000</td>\n",
              "      <td>16.000000</td>\n",
              "      <td>16.000000</td>\n",
              "      <td>16.000000</td>\n",
              "      <td>16.000000</td>\n",
              "      <td>16.000000</td>\n",
              "      <td>16.000000</td>\n",
              "      <td>16.0000</td>\n",
              "      <td>16.000000</td>\n",
              "      <td>16.00000</td>\n",
              "      <td>16.000000</td>\n",
              "      <td>16.000000</td>\n",
              "      <td>16.000000</td>\n",
              "      <td>16.000000</td>\n",
              "    </tr>\n",
              "    <tr>\n",
              "      <th>mean</th>\n",
              "      <td>100.681250</td>\n",
              "      <td>148.687500</td>\n",
              "      <td>1.0</td>\n",
              "      <td>11.625000</td>\n",
              "      <td>69.750000</td>\n",
              "      <td>533.062500</td>\n",
              "      <td>970.250000</td>\n",
              "      <td>0.0</td>\n",
              "      <td>34.000000</td>\n",
              "      <td>91.187500</td>\n",
              "      <td>34.81250</td>\n",
              "      <td>0.0625</td>\n",
              "      <td>440.750000</td>\n",
              "      <td>234.500000</td>\n",
              "      <td>100.525000</td>\n",
              "      <td>147.625000</td>\n",
              "      <td>11.612500</td>\n",
              "      <td>65.750000</td>\n",
              "      <td>540.750000</td>\n",
              "      <td>973.312500</td>\n",
              "      <td>0.0625</td>\n",
              "      <td>34.750000</td>\n",
              "      <td>92.87500</td>\n",
              "      <td>34.187500</td>\n",
              "      <td>0.187500</td>\n",
              "      <td>515.125000</td>\n",
              "      <td>233.062500</td>\n",
              "    </tr>\n",
              "    <tr>\n",
              "      <th>std</th>\n",
              "      <td>22.588233</td>\n",
              "      <td>13.174312</td>\n",
              "      <td>0.0</td>\n",
              "      <td>0.982174</td>\n",
              "      <td>22.734702</td>\n",
              "      <td>35.448496</td>\n",
              "      <td>12.829653</td>\n",
              "      <td>0.0</td>\n",
              "      <td>20.136203</td>\n",
              "      <td>17.026328</td>\n",
              "      <td>8.01015</td>\n",
              "      <td>0.2500</td>\n",
              "      <td>91.394019</td>\n",
              "      <td>31.411251</td>\n",
              "      <td>31.243143</td>\n",
              "      <td>11.552056</td>\n",
              "      <td>1.022334</td>\n",
              "      <td>21.430508</td>\n",
              "      <td>34.032338</td>\n",
              "      <td>15.413063</td>\n",
              "      <td>0.2500</td>\n",
              "      <td>20.673655</td>\n",
              "      <td>15.34438</td>\n",
              "      <td>7.203876</td>\n",
              "      <td>0.403113</td>\n",
              "      <td>92.404094</td>\n",
              "      <td>26.611949</td>\n",
              "    </tr>\n",
              "    <tr>\n",
              "      <th>min</th>\n",
              "      <td>56.600000</td>\n",
              "      <td>127.000000</td>\n",
              "      <td>1.0</td>\n",
              "      <td>10.000000</td>\n",
              "      <td>45.000000</td>\n",
              "      <td>480.000000</td>\n",
              "      <td>950.000000</td>\n",
              "      <td>0.0</td>\n",
              "      <td>4.000000</td>\n",
              "      <td>72.000000</td>\n",
              "      <td>24.00000</td>\n",
              "      <td>0.0000</td>\n",
              "      <td>288.000000</td>\n",
              "      <td>165.000000</td>\n",
              "      <td>37.100000</td>\n",
              "      <td>125.000000</td>\n",
              "      <td>10.100000</td>\n",
              "      <td>41.000000</td>\n",
              "      <td>497.000000</td>\n",
              "      <td>945.000000</td>\n",
              "      <td>0.0000</td>\n",
              "      <td>4.000000</td>\n",
              "      <td>76.00000</td>\n",
              "      <td>24.000000</td>\n",
              "      <td>0.000000</td>\n",
              "      <td>359.000000</td>\n",
              "      <td>170.000000</td>\n",
              "    </tr>\n",
              "    <tr>\n",
              "      <th>25%</th>\n",
              "      <td>94.000000</td>\n",
              "      <td>141.250000</td>\n",
              "      <td>1.0</td>\n",
              "      <td>10.975000</td>\n",
              "      <td>57.750000</td>\n",
              "      <td>514.250000</td>\n",
              "      <td>960.500000</td>\n",
              "      <td>0.0</td>\n",
              "      <td>22.750000</td>\n",
              "      <td>78.250000</td>\n",
              "      <td>28.00000</td>\n",
              "      <td>0.0000</td>\n",
              "      <td>394.750000</td>\n",
              "      <td>227.000000</td>\n",
              "      <td>92.300000</td>\n",
              "      <td>139.000000</td>\n",
              "      <td>10.975000</td>\n",
              "      <td>53.750000</td>\n",
              "      <td>518.750000</td>\n",
              "      <td>961.250000</td>\n",
              "      <td>0.0000</td>\n",
              "      <td>24.000000</td>\n",
              "      <td>81.50000</td>\n",
              "      <td>28.750000</td>\n",
              "      <td>0.000000</td>\n",
              "      <td>468.750000</td>\n",
              "      <td>226.750000</td>\n",
              "    </tr>\n",
              "    <tr>\n",
              "      <th>50%</th>\n",
              "      <td>101.450000</td>\n",
              "      <td>148.000000</td>\n",
              "      <td>1.0</td>\n",
              "      <td>11.400000</td>\n",
              "      <td>62.000000</td>\n",
              "      <td>526.000000</td>\n",
              "      <td>970.500000</td>\n",
              "      <td>0.0</td>\n",
              "      <td>32.000000</td>\n",
              "      <td>88.500000</td>\n",
              "      <td>34.00000</td>\n",
              "      <td>0.0000</td>\n",
              "      <td>424.000000</td>\n",
              "      <td>243.000000</td>\n",
              "      <td>102.450000</td>\n",
              "      <td>151.000000</td>\n",
              "      <td>11.250000</td>\n",
              "      <td>59.000000</td>\n",
              "      <td>537.000000</td>\n",
              "      <td>977.000000</td>\n",
              "      <td>0.0000</td>\n",
              "      <td>32.000000</td>\n",
              "      <td>90.50000</td>\n",
              "      <td>33.500000</td>\n",
              "      <td>0.000000</td>\n",
              "      <td>505.000000</td>\n",
              "      <td>243.000000</td>\n",
              "    </tr>\n",
              "    <tr>\n",
              "      <th>75%</th>\n",
              "      <td>112.650000</td>\n",
              "      <td>157.000000</td>\n",
              "      <td>1.0</td>\n",
              "      <td>12.125000</td>\n",
              "      <td>81.250000</td>\n",
              "      <td>544.750000</td>\n",
              "      <td>978.750000</td>\n",
              "      <td>0.0</td>\n",
              "      <td>39.250000</td>\n",
              "      <td>97.000000</td>\n",
              "      <td>38.75000</td>\n",
              "      <td>0.0000</td>\n",
              "      <td>476.000000</td>\n",
              "      <td>251.750000</td>\n",
              "      <td>117.150000</td>\n",
              "      <td>154.500000</td>\n",
              "      <td>12.025000</td>\n",
              "      <td>74.750000</td>\n",
              "      <td>554.500000</td>\n",
              "      <td>983.000000</td>\n",
              "      <td>0.0000</td>\n",
              "      <td>39.500000</td>\n",
              "      <td>98.25000</td>\n",
              "      <td>39.250000</td>\n",
              "      <td>0.000000</td>\n",
              "      <td>553.000000</td>\n",
              "      <td>250.250000</td>\n",
              "    </tr>\n",
              "    <tr>\n",
              "      <th>max</th>\n",
              "      <td>145.400000</td>\n",
              "      <td>177.000000</td>\n",
              "      <td>1.0</td>\n",
              "      <td>13.900000</td>\n",
              "      <td>123.000000</td>\n",
              "      <td>638.000000</td>\n",
              "      <td>996.000000</td>\n",
              "      <td>0.0</td>\n",
              "      <td>96.000000</td>\n",
              "      <td>135.000000</td>\n",
              "      <td>53.00000</td>\n",
              "      <td>1.0000</td>\n",
              "      <td>631.000000</td>\n",
              "      <td>276.000000</td>\n",
              "      <td>157.300000</td>\n",
              "      <td>164.000000</td>\n",
              "      <td>14.000000</td>\n",
              "      <td>115.000000</td>\n",
              "      <td>638.000000</td>\n",
              "      <td>1001.000000</td>\n",
              "      <td>1.0000</td>\n",
              "      <td>99.000000</td>\n",
              "      <td>131.00000</td>\n",
              "      <td>50.000000</td>\n",
              "      <td>1.000000</td>\n",
              "      <td>703.000000</td>\n",
              "      <td>257.000000</td>\n",
              "    </tr>\n",
              "  </tbody>\n",
              "</table>\n",
              "</div>"
            ],
            "text/plain": [
              "        CrimeRate       Youth  ...      Wage10  BelowWage10\n",
              "count   16.000000   16.000000  ...   16.000000    16.000000\n",
              "mean   100.681250  148.687500  ...  515.125000   233.062500\n",
              "std     22.588233   13.174312  ...   92.404094    26.611949\n",
              "min     56.600000  127.000000  ...  359.000000   170.000000\n",
              "25%     94.000000  141.250000  ...  468.750000   226.750000\n",
              "50%    101.450000  148.000000  ...  505.000000   243.000000\n",
              "75%    112.650000  157.000000  ...  553.000000   250.250000\n",
              "max    145.400000  177.000000  ...  703.000000   257.000000\n",
              "\n",
              "[8 rows x 27 columns]"
            ]
          },
          "metadata": {
            "tags": []
          },
          "execution_count": 29
        }
      ]
    },
    {
      "cell_type": "code",
      "metadata": {
        "id": "O6fJmKmA8SFJ",
        "colab": {
          "base_uri": "https://localhost:8080/",
          "height": 308
        },
        "outputId": "f58cdb76-a6c2-4ff8-8401-32327e546167"
      },
      "source": [
        "NorthCrime = crime.loc[(crime.Southern == 0)] #North\n",
        "NorthCrime.describe()"
      ],
      "execution_count": null,
      "outputs": [
        {
          "output_type": "execute_result",
          "data": {
            "text/html": [
              "<div>\n",
              "<style scoped>\n",
              "    .dataframe tbody tr th:only-of-type {\n",
              "        vertical-align: middle;\n",
              "    }\n",
              "\n",
              "    .dataframe tbody tr th {\n",
              "        vertical-align: top;\n",
              "    }\n",
              "\n",
              "    .dataframe thead th {\n",
              "        text-align: right;\n",
              "    }\n",
              "</style>\n",
              "<table border=\"1\" class=\"dataframe\">\n",
              "  <thead>\n",
              "    <tr style=\"text-align: right;\">\n",
              "      <th></th>\n",
              "      <th>CrimeRate</th>\n",
              "      <th>Youth</th>\n",
              "      <th>Southern</th>\n",
              "      <th>Education</th>\n",
              "      <th>ExpenditureYear0</th>\n",
              "      <th>LabourForce</th>\n",
              "      <th>Males</th>\n",
              "      <th>MoreMales</th>\n",
              "      <th>StateSize</th>\n",
              "      <th>YouthUnemployment</th>\n",
              "      <th>MatureUnemployment</th>\n",
              "      <th>HighYouthUnemploy</th>\n",
              "      <th>Wage</th>\n",
              "      <th>BelowWage</th>\n",
              "      <th>CrimeRate10</th>\n",
              "      <th>Youth10</th>\n",
              "      <th>Education10</th>\n",
              "      <th>ExpenditureYear10</th>\n",
              "      <th>LabourForce10</th>\n",
              "      <th>Males10</th>\n",
              "      <th>MoreMales10</th>\n",
              "      <th>StateSize10</th>\n",
              "      <th>YouthUnemploy10</th>\n",
              "      <th>MatureUnemploy10</th>\n",
              "      <th>HighYouthUnemploy10</th>\n",
              "      <th>Wage10</th>\n",
              "      <th>BelowWage10</th>\n",
              "    </tr>\n",
              "  </thead>\n",
              "  <tbody>\n",
              "    <tr>\n",
              "      <th>count</th>\n",
              "      <td>31.000000</td>\n",
              "      <td>31.000000</td>\n",
              "      <td>31.0</td>\n",
              "      <td>31.000000</td>\n",
              "      <td>31.000000</td>\n",
              "      <td>31.000000</td>\n",
              "      <td>31.000000</td>\n",
              "      <td>31.000000</td>\n",
              "      <td>31.000000</td>\n",
              "      <td>31.000000</td>\n",
              "      <td>31.000000</td>\n",
              "      <td>31.000000</td>\n",
              "      <td>31.000000</td>\n",
              "      <td>31.000000</td>\n",
              "      <td>31.000000</td>\n",
              "      <td>31.000000</td>\n",
              "      <td>31.000000</td>\n",
              "      <td>31.000000</td>\n",
              "      <td>31.000000</td>\n",
              "      <td>31.000000</td>\n",
              "      <td>31.000000</td>\n",
              "      <td>31.000000</td>\n",
              "      <td>31.000000</td>\n",
              "      <td>31.000000</td>\n",
              "      <td>31.000000</td>\n",
              "      <td>31.000000</td>\n",
              "      <td>31.000000</td>\n",
              "    </tr>\n",
              "    <tr>\n",
              "      <th>mean</th>\n",
              "      <td>103.906452</td>\n",
              "      <td>133.354839</td>\n",
              "      <td>0.0</td>\n",
              "      <td>12.787097</td>\n",
              "      <td>92.870968</td>\n",
              "      <td>575.709677</td>\n",
              "      <td>989.612903</td>\n",
              "      <td>0.290323</td>\n",
              "      <td>37.967742</td>\n",
              "      <td>97.677419</td>\n",
              "      <td>33.548387</td>\n",
              "      <td>0.451613</td>\n",
              "      <td>569.064516</td>\n",
              "      <td>173.096774</td>\n",
              "      <td>102.867742</td>\n",
              "      <td>136.870968</td>\n",
              "      <td>12.809677</td>\n",
              "      <td>87.709677</td>\n",
              "      <td>578.322581</td>\n",
              "      <td>993.870968</td>\n",
              "      <td>0.290323</td>\n",
              "      <td>39.225806</td>\n",
              "      <td>99.806452</td>\n",
              "      <td>32.935484</td>\n",
              "      <td>0.516129</td>\n",
              "      <td>635.677419</td>\n",
              "      <td>172.258065</td>\n",
              "    </tr>\n",
              "    <tr>\n",
              "      <th>std</th>\n",
              "      <td>31.957555</td>\n",
              "      <td>8.526619</td>\n",
              "      <td>0.0</td>\n",
              "      <td>0.983444</td>\n",
              "      <td>30.129434</td>\n",
              "      <td>35.156975</td>\n",
              "      <td>33.425217</td>\n",
              "      <td>0.461414</td>\n",
              "      <td>44.879456</td>\n",
              "      <td>18.401788</td>\n",
              "      <td>8.759143</td>\n",
              "      <td>0.505879</td>\n",
              "      <td>65.634308</td>\n",
              "      <td>24.919009</td>\n",
              "      <td>43.307947</td>\n",
              "      <td>8.674645</td>\n",
              "      <td>1.037739</td>\n",
              "      <td>28.276249</td>\n",
              "      <td>33.125405</td>\n",
              "      <td>33.141859</td>\n",
              "      <td>0.461414</td>\n",
              "      <td>46.588775</td>\n",
              "      <td>18.803226</td>\n",
              "      <td>9.058828</td>\n",
              "      <td>0.508001</td>\n",
              "      <td>63.991868</td>\n",
              "      <td>25.464966</td>\n",
              "    </tr>\n",
              "    <tr>\n",
              "      <th>min</th>\n",
              "      <td>45.500000</td>\n",
              "      <td>119.000000</td>\n",
              "      <td>0.0</td>\n",
              "      <td>10.400000</td>\n",
              "      <td>51.000000</td>\n",
              "      <td>521.000000</td>\n",
              "      <td>934.000000</td>\n",
              "      <td>0.000000</td>\n",
              "      <td>3.000000</td>\n",
              "      <td>70.000000</td>\n",
              "      <td>20.000000</td>\n",
              "      <td>0.000000</td>\n",
              "      <td>425.000000</td>\n",
              "      <td>126.000000</td>\n",
              "      <td>26.500000</td>\n",
              "      <td>120.000000</td>\n",
              "      <td>10.200000</td>\n",
              "      <td>47.000000</td>\n",
              "      <td>524.000000</td>\n",
              "      <td>935.000000</td>\n",
              "      <td>0.000000</td>\n",
              "      <td>3.000000</td>\n",
              "      <td>71.000000</td>\n",
              "      <td>15.000000</td>\n",
              "      <td>0.000000</td>\n",
              "      <td>499.000000</td>\n",
              "      <td>126.000000</td>\n",
              "    </tr>\n",
              "    <tr>\n",
              "      <th>25%</th>\n",
              "      <td>80.200000</td>\n",
              "      <td>126.000000</td>\n",
              "      <td>0.0</td>\n",
              "      <td>12.250000</td>\n",
              "      <td>70.000000</td>\n",
              "      <td>541.000000</td>\n",
              "      <td>965.500000</td>\n",
              "      <td>0.000000</td>\n",
              "      <td>8.000000</td>\n",
              "      <td>83.000000</td>\n",
              "      <td>27.000000</td>\n",
              "      <td>0.000000</td>\n",
              "      <td>527.500000</td>\n",
              "      <td>159.000000</td>\n",
              "      <td>70.400000</td>\n",
              "      <td>132.500000</td>\n",
              "      <td>12.200000</td>\n",
              "      <td>66.500000</td>\n",
              "      <td>549.000000</td>\n",
              "      <td>973.500000</td>\n",
              "      <td>0.000000</td>\n",
              "      <td>8.500000</td>\n",
              "      <td>82.500000</td>\n",
              "      <td>27.000000</td>\n",
              "      <td>0.000000</td>\n",
              "      <td>590.000000</td>\n",
              "      <td>155.000000</td>\n",
              "    </tr>\n",
              "    <tr>\n",
              "      <th>50%</th>\n",
              "      <td>104.300000</td>\n",
              "      <td>132.000000</td>\n",
              "      <td>0.0</td>\n",
              "      <td>12.900000</td>\n",
              "      <td>90.000000</td>\n",
              "      <td>577.000000</td>\n",
              "      <td>985.000000</td>\n",
              "      <td>0.000000</td>\n",
              "      <td>18.000000</td>\n",
              "      <td>99.000000</td>\n",
              "      <td>35.000000</td>\n",
              "      <td>0.000000</td>\n",
              "      <td>572.000000</td>\n",
              "      <td>170.000000</td>\n",
              "      <td>104.500000</td>\n",
              "      <td>134.000000</td>\n",
              "      <td>12.900000</td>\n",
              "      <td>83.000000</td>\n",
              "      <td>580.000000</td>\n",
              "      <td>989.000000</td>\n",
              "      <td>0.000000</td>\n",
              "      <td>19.000000</td>\n",
              "      <td>97.000000</td>\n",
              "      <td>34.000000</td>\n",
              "      <td>1.000000</td>\n",
              "      <td>639.000000</td>\n",
              "      <td>169.000000</td>\n",
              "    </tr>\n",
              "    <tr>\n",
              "      <th>75%</th>\n",
              "      <td>129.800000</td>\n",
              "      <td>140.000000</td>\n",
              "      <td>0.0</td>\n",
              "      <td>13.450000</td>\n",
              "      <td>109.000000</td>\n",
              "      <td>599.000000</td>\n",
              "      <td>1012.000000</td>\n",
              "      <td>1.000000</td>\n",
              "      <td>45.000000</td>\n",
              "      <td>106.000000</td>\n",
              "      <td>38.500000</td>\n",
              "      <td>1.000000</td>\n",
              "      <td>619.500000</td>\n",
              "      <td>192.000000</td>\n",
              "      <td>136.050000</td>\n",
              "      <td>141.000000</td>\n",
              "      <td>13.500000</td>\n",
              "      <td>99.500000</td>\n",
              "      <td>601.000000</td>\n",
              "      <td>1007.000000</td>\n",
              "      <td>1.000000</td>\n",
              "      <td>47.000000</td>\n",
              "      <td>110.000000</td>\n",
              "      <td>37.500000</td>\n",
              "      <td>1.000000</td>\n",
              "      <td>681.500000</td>\n",
              "      <td>185.500000</td>\n",
              "    </tr>\n",
              "    <tr>\n",
              "      <th>max</th>\n",
              "      <td>161.800000</td>\n",
              "      <td>152.000000</td>\n",
              "      <td>0.0</td>\n",
              "      <td>15.100000</td>\n",
              "      <td>166.000000</td>\n",
              "      <td>641.000000</td>\n",
              "      <td>1071.000000</td>\n",
              "      <td>1.000000</td>\n",
              "      <td>168.000000</td>\n",
              "      <td>142.000000</td>\n",
              "      <td>58.000000</td>\n",
              "      <td>1.000000</td>\n",
              "      <td>689.000000</td>\n",
              "      <td>227.000000</td>\n",
              "      <td>178.200000</td>\n",
              "      <td>153.000000</td>\n",
              "      <td>15.200000</td>\n",
              "      <td>157.000000</td>\n",
              "      <td>641.000000</td>\n",
              "      <td>1079.000000</td>\n",
              "      <td>1.000000</td>\n",
              "      <td>180.000000</td>\n",
              "      <td>143.000000</td>\n",
              "      <td>59.000000</td>\n",
              "      <td>1.000000</td>\n",
              "      <td>748.000000</td>\n",
              "      <td>234.000000</td>\n",
              "    </tr>\n",
              "  </tbody>\n",
              "</table>\n",
              "</div>"
            ],
            "text/plain": [
              "        CrimeRate       Youth  ...      Wage10  BelowWage10\n",
              "count   31.000000   31.000000  ...   31.000000    31.000000\n",
              "mean   103.906452  133.354839  ...  635.677419   172.258065\n",
              "std     31.957555    8.526619  ...   63.991868    25.464966\n",
              "min     45.500000  119.000000  ...  499.000000   126.000000\n",
              "25%     80.200000  126.000000  ...  590.000000   155.000000\n",
              "50%    104.300000  132.000000  ...  639.000000   169.000000\n",
              "75%    129.800000  140.000000  ...  681.500000   185.500000\n",
              "max    161.800000  152.000000  ...  748.000000   234.000000\n",
              "\n",
              "[8 rows x 27 columns]"
            ]
          },
          "metadata": {
            "tags": []
          },
          "execution_count": 30
        }
      ]
    },
    {
      "cell_type": "markdown",
      "metadata": {
        "id": "8i3zLuVZ8SFK"
      },
      "source": [
        "We can tell from the CrimeRate descriptions that the data are very centered (not skewed), and the sample size for the South is questionable at n = 16, and the sample size for the North is decent at n = 31. With all of this information, we can assume normality.\n",
        "\n",
        "#### Are variances between groups equal?\n",
        "\n",
        "Need to run an F-test to test for equal variances."
      ]
    },
    {
      "cell_type": "code",
      "metadata": {
        "id": "Gtai9tRR8SFK",
        "colab": {
          "base_uri": "https://localhost:8080/"
        },
        "outputId": "71bdfd94-d74d-46b5-8845-87229b70b5b8"
      },
      "source": [
        "#perform F-test\n",
        "stats.f_oneway(NorthCrime['CrimeRate'],SouthCrime['CrimeRate'])"
      ],
      "execution_count": null,
      "outputs": [
        {
          "output_type": "execute_result",
          "data": {
            "text/plain": [
              "F_onewayResult(statistic=0.12900371305145147, pvalue=0.7211471608862728)"
            ]
          },
          "metadata": {
            "tags": []
          },
          "execution_count": 31
        }
      ]
    },
    {
      "cell_type": "markdown",
      "metadata": {
        "id": "uInJlrFd8SFL"
      },
      "source": [
        "p-value > 0.05, so we Fail To Reject the Null Hypothesis. The variances are equal.\n",
        "<br>\n",
        "So, the appropriate statistical test to test our original hypothesis is a **Student's t-test.** Yay for normal, easy data!\n"
      ]
    },
    {
      "cell_type": "markdown",
      "metadata": {
        "id": "mCOMx55j8SFL"
      },
      "source": [
        "### Step 4: Decide One or Two Tailed\n",
        "\n",
        "Two-tailed"
      ]
    },
    {
      "cell_type": "markdown",
      "metadata": {
        "id": "DNpOfF4f8SFL"
      },
      "source": [
        "### Step 5: Run the Statistical Test"
      ]
    },
    {
      "cell_type": "code",
      "metadata": {
        "id": "7ualM6zY8SFN",
        "colab": {
          "base_uri": "https://localhost:8080/"
        },
        "outputId": "77de634e-2a9a-4221-d941-cf87d5ba0f89"
      },
      "source": [
        "stats.ttest_ind(NorthCrime['CrimeRate'],SouthCrime['CrimeRate']) ## from scipy.stats"
      ],
      "execution_count": null,
      "outputs": [
        {
          "output_type": "execute_result",
          "data": {
            "text/plain": [
              "Ttest_indResult(statistic=0.35917086887921945, pvalue=0.7211471608862718)"
            ]
          },
          "metadata": {
            "tags": []
          },
          "execution_count": 32
        }
      ]
    },
    {
      "cell_type": "markdown",
      "metadata": {
        "id": "d-QeDY_X8SFN"
      },
      "source": [
        "p-value > 0.05, so we Fail To Reject the Null Hypothesis. **There is no difference in crime rate between the Northern and Southern regions.**"
      ]
    },
    {
      "cell_type": "markdown",
      "metadata": {
        "id": "1CBSWB3A8SFN"
      },
      "source": [
        "## Exercise 2: Is there a difference in ticket fare between Titantic survivors and non-survivors?"
      ]
    },
    {
      "cell_type": "code",
      "metadata": {
        "scrolled": false,
        "id": "EVihpdjP8SFN"
      },
      "source": [
        "url = 'https://drive.google.com/file/d/1Yyyd9rnsaIpbeAFcnrgtnCs1lm9fxKbP/view?usp=sharing'\n",
        "path = 'https://drive.google.com/uc?export=download&id='+url.split('/')[-2]\n",
        "titanic = pd.read_csv(path)\n",
        "titanic"
      ],
      "execution_count": null,
      "outputs": []
    },
    {
      "cell_type": "code",
      "metadata": {
        "id": "D9JNjY8y8SFO",
        "colab": {
          "base_uri": "https://localhost:8080/"
        },
        "outputId": "9051df6f-fcf6-4686-9915-e260065dd177"
      },
      "source": [
        "titanic.dtypes"
      ],
      "execution_count": null,
      "outputs": [
        {
          "output_type": "execute_result",
          "data": {
            "text/plain": [
              "pclass        int64\n",
              "survived      int64\n",
              "Residence     int64\n",
              "name         object\n",
              "age          object\n",
              "sibsp         int64\n",
              "parch         int64\n",
              "ticket       object\n",
              "fare         object\n",
              "cabin        object\n",
              "embarked     object\n",
              "boat         object\n",
              "body         object\n",
              "home.dest    object\n",
              "Gender        int64\n",
              "dtype: object"
            ]
          },
          "metadata": {
            "tags": []
          },
          "execution_count": 34
        }
      ]
    },
    {
      "cell_type": "markdown",
      "metadata": {
        "id": "V8p9PkD88SFO"
      },
      "source": [
        "#### Need to clean data to measure Fare - convert to numeric"
      ]
    },
    {
      "cell_type": "code",
      "metadata": {
        "id": "epWUQxZl8SFO",
        "colab": {
          "base_uri": "https://localhost:8080/"
        },
        "outputId": "1de19062-e5c0-4583-d813-7e44c000be02"
      },
      "source": [
        "titanic = titanic[titanic.fare != ' '] # found a blank fare value by sorting the dataframe by fare\n",
        "titanic['fare'] = titanic['fare'].astype('float')\n",
        "titanic.dtypes"
      ],
      "execution_count": null,
      "outputs": [
        {
          "output_type": "stream",
          "text": [
            "/usr/local/lib/python3.6/dist-packages/ipykernel_launcher.py:2: SettingWithCopyWarning: \n",
            "A value is trying to be set on a copy of a slice from a DataFrame.\n",
            "Try using .loc[row_indexer,col_indexer] = value instead\n",
            "\n",
            "See the caveats in the documentation: https://pandas.pydata.org/pandas-docs/stable/user_guide/indexing.html#returning-a-view-versus-a-copy\n",
            "  \n"
          ],
          "name": "stderr"
        },
        {
          "output_type": "execute_result",
          "data": {
            "text/plain": [
              "pclass         int64\n",
              "survived       int64\n",
              "Residence      int64\n",
              "name          object\n",
              "age           object\n",
              "sibsp          int64\n",
              "parch          int64\n",
              "ticket        object\n",
              "fare         float64\n",
              "cabin         object\n",
              "embarked      object\n",
              "boat          object\n",
              "body          object\n",
              "home.dest     object\n",
              "Gender         int64\n",
              "dtype: object"
            ]
          },
          "metadata": {
            "tags": []
          },
          "execution_count": 35
        }
      ]
    },
    {
      "cell_type": "markdown",
      "metadata": {
        "id": "qxhNGYBC8SFO"
      },
      "source": [
        "### Step 1: Define the null and alternative hypothesis\n",
        "\n",
        "$H_{0}: \\mu_{S} - \\mu_{N} = 0$\n",
        "\n",
        "$H_{A}: \\mu_{S} - \\mu_{N} \\neq 0$\n"
      ]
    },
    {
      "cell_type": "markdown",
      "metadata": {
        "id": "4tKbF6FO8SFP"
      },
      "source": [
        "### Step 2: Set Significance Level\n",
        "\n",
        "$\\alpha = 0.05$\n",
        "\n",
        "### Step 3: Select the appropriate statistical test\n",
        "\n",
        "#### What type of variable is the \"input\"?\n",
        "\n",
        "The input is a binary classification, \"Survivor\" vs \"Non-Survivor\". So, the answer is **Binary**\n",
        "\n",
        "#### What type of variable is the \"response\"?\n",
        "\n",
        "The response is \"Fare,\" which is a **continuous** value\n",
        "\n",
        "#### Is the response paired?\n",
        "\n",
        "**No**, the responses are not paired by the groups; they are independent groups.\n",
        "\n",
        "#### Does the response follow a normal distribution in both groups?\n",
        "\n",
        "Need to either test for Normality with a Shapiro-Wilk hypothesis test, or assume normality based on other descriptive details of the data (sample size, skewness, etc.)\n"
      ]
    },
    {
      "cell_type": "code",
      "metadata": {
        "id": "CSswo0Dk8SFP",
        "colab": {
          "base_uri": "https://localhost:8080/",
          "height": 288
        },
        "outputId": "fe434392-55c2-40f2-cde7-c8b6edb3381a"
      },
      "source": [
        "SurvivorFares = titanic.loc[(titanic.survived == 1)] #Survivors\n",
        "SurvivorFares.describe()"
      ],
      "execution_count": null,
      "outputs": [
        {
          "output_type": "execute_result",
          "data": {
            "text/html": [
              "<div>\n",
              "<style scoped>\n",
              "    .dataframe tbody tr th:only-of-type {\n",
              "        vertical-align: middle;\n",
              "    }\n",
              "\n",
              "    .dataframe tbody tr th {\n",
              "        vertical-align: top;\n",
              "    }\n",
              "\n",
              "    .dataframe thead th {\n",
              "        text-align: right;\n",
              "    }\n",
              "</style>\n",
              "<table border=\"1\" class=\"dataframe\">\n",
              "  <thead>\n",
              "    <tr style=\"text-align: right;\">\n",
              "      <th></th>\n",
              "      <th>pclass</th>\n",
              "      <th>survived</th>\n",
              "      <th>Residence</th>\n",
              "      <th>sibsp</th>\n",
              "      <th>parch</th>\n",
              "      <th>fare</th>\n",
              "      <th>Gender</th>\n",
              "    </tr>\n",
              "  </thead>\n",
              "  <tbody>\n",
              "    <tr>\n",
              "      <th>count</th>\n",
              "      <td>500.000000</td>\n",
              "      <td>500.0</td>\n",
              "      <td>500.000000</td>\n",
              "      <td>500.000000</td>\n",
              "      <td>500.000000</td>\n",
              "      <td>500.000000</td>\n",
              "      <td>500.000000</td>\n",
              "    </tr>\n",
              "    <tr>\n",
              "      <th>mean</th>\n",
              "      <td>1.962000</td>\n",
              "      <td>1.0</td>\n",
              "      <td>1.228000</td>\n",
              "      <td>0.462000</td>\n",
              "      <td>0.476000</td>\n",
              "      <td>49.361184</td>\n",
              "      <td>0.678000</td>\n",
              "    </tr>\n",
              "    <tr>\n",
              "      <th>std</th>\n",
              "      <td>0.872972</td>\n",
              "      <td>0.0</td>\n",
              "      <td>0.870363</td>\n",
              "      <td>0.685197</td>\n",
              "      <td>0.776292</td>\n",
              "      <td>68.648795</td>\n",
              "      <td>0.467711</td>\n",
              "    </tr>\n",
              "    <tr>\n",
              "      <th>min</th>\n",
              "      <td>1.000000</td>\n",
              "      <td>1.0</td>\n",
              "      <td>0.000000</td>\n",
              "      <td>0.000000</td>\n",
              "      <td>0.000000</td>\n",
              "      <td>0.000000</td>\n",
              "      <td>0.000000</td>\n",
              "    </tr>\n",
              "    <tr>\n",
              "      <th>25%</th>\n",
              "      <td>1.000000</td>\n",
              "      <td>1.0</td>\n",
              "      <td>0.000000</td>\n",
              "      <td>0.000000</td>\n",
              "      <td>0.000000</td>\n",
              "      <td>11.214600</td>\n",
              "      <td>0.000000</td>\n",
              "    </tr>\n",
              "    <tr>\n",
              "      <th>50%</th>\n",
              "      <td>2.000000</td>\n",
              "      <td>1.0</td>\n",
              "      <td>2.000000</td>\n",
              "      <td>0.000000</td>\n",
              "      <td>0.000000</td>\n",
              "      <td>26.000000</td>\n",
              "      <td>1.000000</td>\n",
              "    </tr>\n",
              "    <tr>\n",
              "      <th>75%</th>\n",
              "      <td>3.000000</td>\n",
              "      <td>1.0</td>\n",
              "      <td>2.000000</td>\n",
              "      <td>1.000000</td>\n",
              "      <td>1.000000</td>\n",
              "      <td>57.750000</td>\n",
              "      <td>1.000000</td>\n",
              "    </tr>\n",
              "    <tr>\n",
              "      <th>max</th>\n",
              "      <td>3.000000</td>\n",
              "      <td>1.0</td>\n",
              "      <td>2.000000</td>\n",
              "      <td>4.000000</td>\n",
              "      <td>5.000000</td>\n",
              "      <td>512.329200</td>\n",
              "      <td>1.000000</td>\n",
              "    </tr>\n",
              "  </tbody>\n",
              "</table>\n",
              "</div>"
            ],
            "text/plain": [
              "           pclass  survived   Residence  ...       parch        fare      Gender\n",
              "count  500.000000     500.0  500.000000  ...  500.000000  500.000000  500.000000\n",
              "mean     1.962000       1.0    1.228000  ...    0.476000   49.361184    0.678000\n",
              "std      0.872972       0.0    0.870363  ...    0.776292   68.648795    0.467711\n",
              "min      1.000000       1.0    0.000000  ...    0.000000    0.000000    0.000000\n",
              "25%      1.000000       1.0    0.000000  ...    0.000000   11.214600    0.000000\n",
              "50%      2.000000       1.0    2.000000  ...    0.000000   26.000000    1.000000\n",
              "75%      3.000000       1.0    2.000000  ...    1.000000   57.750000    1.000000\n",
              "max      3.000000       1.0    2.000000  ...    5.000000  512.329200    1.000000\n",
              "\n",
              "[8 rows x 7 columns]"
            ]
          },
          "metadata": {
            "tags": []
          },
          "execution_count": 36
        }
      ]
    },
    {
      "cell_type": "markdown",
      "metadata": {
        "id": "Ape2aXYR8SFP"
      },
      "source": [
        "#### We can tell there is significant skewness in fare, so we need to run a test for normality"
      ]
    },
    {
      "cell_type": "code",
      "metadata": {
        "id": "e4yCHKga8SFP",
        "colab": {
          "base_uri": "https://localhost:8080/"
        },
        "outputId": "37e71c08-09bd-474d-8ec1-57176c42e83f"
      },
      "source": [
        "stats.shapiro(SurvivorFares['fare'])"
      ],
      "execution_count": null,
      "outputs": [
        {
          "output_type": "execute_result",
          "data": {
            "text/plain": [
              "(0.607525110244751, 4.0718098693662947e-32)"
            ]
          },
          "metadata": {
            "tags": []
          },
          "execution_count": 37
        }
      ]
    },
    {
      "cell_type": "markdown",
      "metadata": {
        "id": "XFBCLHHu8SFP"
      },
      "source": [
        "#### Since the p-value is small, we reject the null hypothesis that the fare data is normally distributed. Therefore, we need to use a non-parametric test. There is no need now to test the other data group's normality, since it already failed for the first group, but it is described below for visibility"
      ]
    },
    {
      "cell_type": "code",
      "metadata": {
        "scrolled": true,
        "id": "tic1cMqD8SFP",
        "colab": {
          "base_uri": "https://localhost:8080/",
          "height": 288
        },
        "outputId": "e4146388-22bf-4ee6-9187-4c571e3acb87"
      },
      "source": [
        "NonSurvivorFares = titanic.loc[(titanic.survived == 0)] #Non-Survivors\n",
        "NonSurvivorFares.describe()"
      ],
      "execution_count": null,
      "outputs": [
        {
          "output_type": "execute_result",
          "data": {
            "text/html": [
              "<div>\n",
              "<style scoped>\n",
              "    .dataframe tbody tr th:only-of-type {\n",
              "        vertical-align: middle;\n",
              "    }\n",
              "\n",
              "    .dataframe tbody tr th {\n",
              "        vertical-align: top;\n",
              "    }\n",
              "\n",
              "    .dataframe thead th {\n",
              "        text-align: right;\n",
              "    }\n",
              "</style>\n",
              "<table border=\"1\" class=\"dataframe\">\n",
              "  <thead>\n",
              "    <tr style=\"text-align: right;\">\n",
              "      <th></th>\n",
              "      <th>pclass</th>\n",
              "      <th>survived</th>\n",
              "      <th>Residence</th>\n",
              "      <th>sibsp</th>\n",
              "      <th>parch</th>\n",
              "      <th>fare</th>\n",
              "      <th>Gender</th>\n",
              "    </tr>\n",
              "  </thead>\n",
              "  <tbody>\n",
              "    <tr>\n",
              "      <th>count</th>\n",
              "      <td>808.000000</td>\n",
              "      <td>808.0</td>\n",
              "      <td>808.000000</td>\n",
              "      <td>808.000000</td>\n",
              "      <td>808.000000</td>\n",
              "      <td>808.000000</td>\n",
              "      <td>808.000000</td>\n",
              "    </tr>\n",
              "    <tr>\n",
              "      <th>mean</th>\n",
              "      <td>2.500000</td>\n",
              "      <td>0.0</td>\n",
              "      <td>1.466584</td>\n",
              "      <td>0.522277</td>\n",
              "      <td>0.329208</td>\n",
              "      <td>23.353831</td>\n",
              "      <td>0.157178</td>\n",
              "    </tr>\n",
              "    <tr>\n",
              "      <th>std</th>\n",
              "      <td>0.745079</td>\n",
              "      <td>0.0</td>\n",
              "      <td>0.727490</td>\n",
              "      <td>1.211060</td>\n",
              "      <td>0.912824</td>\n",
              "      <td>34.145096</td>\n",
              "      <td>0.364194</td>\n",
              "    </tr>\n",
              "    <tr>\n",
              "      <th>min</th>\n",
              "      <td>1.000000</td>\n",
              "      <td>0.0</td>\n",
              "      <td>0.000000</td>\n",
              "      <td>0.000000</td>\n",
              "      <td>0.000000</td>\n",
              "      <td>0.000000</td>\n",
              "      <td>0.000000</td>\n",
              "    </tr>\n",
              "    <tr>\n",
              "      <th>25%</th>\n",
              "      <td>2.000000</td>\n",
              "      <td>0.0</td>\n",
              "      <td>1.000000</td>\n",
              "      <td>0.000000</td>\n",
              "      <td>0.000000</td>\n",
              "      <td>7.854200</td>\n",
              "      <td>0.000000</td>\n",
              "    </tr>\n",
              "    <tr>\n",
              "      <th>50%</th>\n",
              "      <td>3.000000</td>\n",
              "      <td>0.0</td>\n",
              "      <td>2.000000</td>\n",
              "      <td>0.000000</td>\n",
              "      <td>0.000000</td>\n",
              "      <td>10.500000</td>\n",
              "      <td>0.000000</td>\n",
              "    </tr>\n",
              "    <tr>\n",
              "      <th>75%</th>\n",
              "      <td>3.000000</td>\n",
              "      <td>0.0</td>\n",
              "      <td>2.000000</td>\n",
              "      <td>1.000000</td>\n",
              "      <td>0.000000</td>\n",
              "      <td>26.000000</td>\n",
              "      <td>0.000000</td>\n",
              "    </tr>\n",
              "    <tr>\n",
              "      <th>max</th>\n",
              "      <td>3.000000</td>\n",
              "      <td>0.0</td>\n",
              "      <td>2.000000</td>\n",
              "      <td>8.000000</td>\n",
              "      <td>9.000000</td>\n",
              "      <td>263.000000</td>\n",
              "      <td>1.000000</td>\n",
              "    </tr>\n",
              "  </tbody>\n",
              "</table>\n",
              "</div>"
            ],
            "text/plain": [
              "           pclass  survived   Residence  ...       parch        fare      Gender\n",
              "count  808.000000     808.0  808.000000  ...  808.000000  808.000000  808.000000\n",
              "mean     2.500000       0.0    1.466584  ...    0.329208   23.353831    0.157178\n",
              "std      0.745079       0.0    0.727490  ...    0.912824   34.145096    0.364194\n",
              "min      1.000000       0.0    0.000000  ...    0.000000    0.000000    0.000000\n",
              "25%      2.000000       0.0    1.000000  ...    0.000000    7.854200    0.000000\n",
              "50%      3.000000       0.0    2.000000  ...    0.000000   10.500000    0.000000\n",
              "75%      3.000000       0.0    2.000000  ...    0.000000   26.000000    0.000000\n",
              "max      3.000000       0.0    2.000000  ...    9.000000  263.000000    1.000000\n",
              "\n",
              "[8 rows x 7 columns]"
            ]
          },
          "metadata": {
            "tags": []
          },
          "execution_count": 38
        }
      ]
    },
    {
      "cell_type": "markdown",
      "metadata": {
        "id": "WKmniUWq8SFQ"
      },
      "source": [
        "#### Based on these steps, the appropriate statistical test is the Mann-Whitney rank test to compare medians"
      ]
    },
    {
      "cell_type": "markdown",
      "metadata": {
        "id": "wHXSU-_f8SFQ"
      },
      "source": [
        "### Step 4: Decide One or Two Tailed\n",
        "\n",
        "Two-tailed"
      ]
    },
    {
      "cell_type": "markdown",
      "metadata": {
        "id": "TvyD5bR08SFQ"
      },
      "source": [
        "### Step 5: Run the Statistical Test"
      ]
    },
    {
      "cell_type": "code",
      "metadata": {
        "id": "eNg6aQWr8SFQ",
        "colab": {
          "base_uri": "https://localhost:8080/"
        },
        "outputId": "8996362a-3561-4db0-b375-2d872ac2c646"
      },
      "source": [
        "stats.mannwhitneyu(SurvivorFares['fare'],NonSurvivorFares['fare']) ## from scipy.stats"
      ],
      "execution_count": null,
      "outputs": [
        {
          "output_type": "execute_result",
          "data": {
            "text/plain": [
              "MannwhitneyuResult(statistic=131452.5, pvalue=1.0885770643327487e-26)"
            ]
          },
          "metadata": {
            "tags": []
          },
          "execution_count": 39
        }
      ]
    },
    {
      "cell_type": "markdown",
      "metadata": {
        "id": "Z_GcQkrP8SFQ"
      },
      "source": [
        "p-value < 0.05, so we **Reject the Null Hypothesis. There is a difference in fares between the survivors and non survivors of the Titanic.**"
      ]
    },
    {
      "cell_type": "markdown",
      "metadata": {
        "id": "J_8j3q3r8SFR"
      },
      "source": [
        "## Exercise 3: Is there a difference in proportion of favorite ice cream flavors between females and males? Or said another way, is there a difference in proportion of gender between different favorite ice cream flavors? Are these two factors of gender and ice cream flavors dependent of each other?"
      ]
    },
    {
      "cell_type": "code",
      "metadata": {
        "id": "nO4GLXDL8SFR",
        "colab": {
          "base_uri": "https://localhost:8080/",
          "height": 206
        },
        "outputId": "5dbb9a02-0e1d-4aae-f4e7-3973eb0e4e00"
      },
      "source": [
        "import scipy.stats as stats\n",
        "import numpy as np \n",
        "import pandas as pd\n",
        "\n",
        "url = 'https://drive.google.com/file/d/1rbJNoqy9y27BKfIfNeCoxnYNska9DQBV/view?usp=sharing'\n",
        "path = 'https://drive.google.com/uc?export=download&id='+url.split('/')[-2]\n",
        "ice_cream = pd.read_csv(path)\n",
        "ice_cream.head()"
      ],
      "execution_count": null,
      "outputs": [
        {
          "output_type": "execute_result",
          "data": {
            "text/html": [
              "<div>\n",
              "<style scoped>\n",
              "    .dataframe tbody tr th:only-of-type {\n",
              "        vertical-align: middle;\n",
              "    }\n",
              "\n",
              "    .dataframe tbody tr th {\n",
              "        vertical-align: top;\n",
              "    }\n",
              "\n",
              "    .dataframe thead th {\n",
              "        text-align: right;\n",
              "    }\n",
              "</style>\n",
              "<table border=\"1\" class=\"dataframe\">\n",
              "  <thead>\n",
              "    <tr style=\"text-align: right;\">\n",
              "      <th></th>\n",
              "      <th>id</th>\n",
              "      <th>female</th>\n",
              "      <th>ice_cream</th>\n",
              "      <th>video</th>\n",
              "      <th>puzzle</th>\n",
              "    </tr>\n",
              "  </thead>\n",
              "  <tbody>\n",
              "    <tr>\n",
              "      <th>0</th>\n",
              "      <td>70</td>\n",
              "      <td>0</td>\n",
              "      <td>2</td>\n",
              "      <td>47</td>\n",
              "      <td>57</td>\n",
              "    </tr>\n",
              "    <tr>\n",
              "      <th>1</th>\n",
              "      <td>121</td>\n",
              "      <td>1</td>\n",
              "      <td>1</td>\n",
              "      <td>63</td>\n",
              "      <td>61</td>\n",
              "    </tr>\n",
              "    <tr>\n",
              "      <th>2</th>\n",
              "      <td>86</td>\n",
              "      <td>0</td>\n",
              "      <td>3</td>\n",
              "      <td>58</td>\n",
              "      <td>31</td>\n",
              "    </tr>\n",
              "    <tr>\n",
              "      <th>3</th>\n",
              "      <td>141</td>\n",
              "      <td>0</td>\n",
              "      <td>3</td>\n",
              "      <td>53</td>\n",
              "      <td>56</td>\n",
              "    </tr>\n",
              "    <tr>\n",
              "      <th>4</th>\n",
              "      <td>172</td>\n",
              "      <td>0</td>\n",
              "      <td>1</td>\n",
              "      <td>53</td>\n",
              "      <td>61</td>\n",
              "    </tr>\n",
              "  </tbody>\n",
              "</table>\n",
              "</div>"
            ],
            "text/plain": [
              "    id  female  ice_cream  video  puzzle\n",
              "0   70       0          2     47      57\n",
              "1  121       1          1     63      61\n",
              "2   86       0          3     58      31\n",
              "3  141       0          3     53      56\n",
              "4  172       0          1     53      61"
            ]
          },
          "metadata": {},
          "execution_count": 2
        }
      ]
    },
    {
      "cell_type": "code",
      "metadata": {
        "id": "snv1blfqfeXJ"
      },
      "source": [
        "# H0 = There is no difference in proportin of favorite ice cream\n",
        "# H1 = There is a difference \n",
        "α=0.05\n"
      ],
      "execution_count": null,
      "outputs": []
    },
    {
      "cell_type": "code",
      "metadata": {
        "id": "bitZMIKkgrdG"
      },
      "source": [
        "from matplotlib import pyplot\n",
        "import pandas as pd\n",
        "import numpy as np\n",
        "# Importing functions from numpy\n",
        "from numpy.random import seed\n",
        "from numpy.random import randn\n",
        "\n"
      ],
      "execution_count": null,
      "outputs": []
    },
    {
      "cell_type": "code",
      "metadata": {
        "colab": {
          "base_uri": "https://localhost:8080/"
        },
        "id": "tyw1O9gBhJQf",
        "outputId": "988f0892-b336-4548-99fe-19f28cf9010b"
      },
      "source": [
        "stats.shapiro(ice_cream['ice_cream'])"
      ],
      "execution_count": null,
      "outputs": [
        {
          "output_type": "execute_result",
          "data": {
            "text/plain": [
              "(0.7500160932540894, 4.1669008290399505e-17)"
            ]
          },
          "metadata": {},
          "execution_count": 5
        }
      ]
    },
    {
      "cell_type": "code",
      "metadata": {
        "id": "tqnYev5mhob2"
      },
      "source": [
        "the p-value is small, we reject the null hypothesis that the fare data is normally distributed. Therefore, we need to use a non-parametric test"
      ],
      "execution_count": null,
      "outputs": []
    },
    {
      "cell_type": "code",
      "metadata": {
        "colab": {
          "base_uri": "https://localhost:8080/",
          "height": 183
        },
        "id": "yyK_r804iFZ1",
        "outputId": "480e47fa-7721-424b-81bb-8656f3107e34"
      },
      "source": [
        "# Two Tailed test \n",
        "female = 1\n",
        "\n",
        "stats.mannwhitneyu(ice_cream['ice_cream'],ice_cream['ice_cream']) ## from scipy.stats"
      ],
      "execution_count": null,
      "outputs": [
        {
          "output_type": "error",
          "ename": "NameError",
          "evalue": "ignored",
          "traceback": [
            "\u001b[0;31m---------------------------------------------------------------------------\u001b[0m",
            "\u001b[0;31mNameError\u001b[0m                                 Traceback (most recent call last)",
            "\u001b[0;32m<ipython-input-6-f4ad02943b9a>\u001b[0m in \u001b[0;36m<module>\u001b[0;34m()\u001b[0m\n\u001b[1;32m      1\u001b[0m \u001b[0;31m# Two Tailed test\u001b[0m\u001b[0;34m\u001b[0m\u001b[0;34m\u001b[0m\u001b[0;34m\u001b[0m\u001b[0m\n\u001b[0;32m----> 2\u001b[0;31m \u001b[0mstats\u001b[0m\u001b[0;34m.\u001b[0m\u001b[0mmannwhitneyu\u001b[0m\u001b[0;34m(\u001b[0m\u001b[0mice_creams\u001b[0m\u001b[0;34m[\u001b[0m\u001b[0;34m'ice_cream'\u001b[0m\u001b[0;34m]\u001b[0m\u001b[0;34m,\u001b[0m\u001b[0mice_cream\u001b[0m\u001b[0;34m[\u001b[0m\u001b[0;34m'ice_cream'\u001b[0m\u001b[0;34m]\u001b[0m\u001b[0;34m)\u001b[0m \u001b[0;31m## from scipy.stats\u001b[0m\u001b[0;34m\u001b[0m\u001b[0;34m\u001b[0m\u001b[0m\n\u001b[0m",
            "\u001b[0;31mNameError\u001b[0m: name 'ice_creams' is not defined"
          ]
        }
      ]
    },
    {
      "cell_type": "markdown",
      "metadata": {
        "id": "jHfe8TVJ8SFS"
      },
      "source": [
        "## Exercise 4: Is there a relationship between video game scores and puzzle scores?\n",
        "\n"
      ]
    },
    {
      "cell_type": "code",
      "metadata": {
        "id": "BCX63x8fiEdH"
      },
      "source": [
        ""
      ],
      "execution_count": null,
      "outputs": []
    },
    {
      "cell_type": "markdown",
      "metadata": {
        "id": "iS8_avEP8SFU"
      },
      "source": [
        "## Exercise 5: Is there a difference in puzzle scores between groups of favorite ice cream flavors?"
      ]
    },
    {
      "cell_type": "markdown",
      "metadata": {
        "id": "t1u4ggEc8SFX"
      },
      "source": [
        "## Exercise 6: Was cholesterol reduced after introducing a particular brand of margarine (margarine A)?"
      ]
    },
    {
      "cell_type": "code",
      "metadata": {
        "id": "5cpSsXek8SFX"
      },
      "source": [
        "url = 'https://drive.google.com/file/d/16PaXKkf2dd18l9ci-FP6M6XMmcppyM9F/view?usp=sharing'\n",
        "path = 'https://drive.google.com/uc?export=download&id='+url.split('/')[-2]\n",
        "cholesterol = pd.read_csv(path)\n",
        "cholesterol.head()"
      ],
      "execution_count": null,
      "outputs": []
    },
    {
      "cell_type": "markdown",
      "metadata": {
        "id": "ciJwIjqV8SFa"
      },
      "source": [
        "### A/B Testing: A Common Application of Statistical Experimentation"
      ]
    },
    {
      "cell_type": "markdown",
      "metadata": {
        "id": "mDvclK8b8SFa"
      },
      "source": [
        "A/B Testing is a common application of a statistical experiment, used often in the field of web development. You might have heard A/B Testing in the context of testing different UI Designs of a website, assigning a control group \"A\" to some website viewers, and a \"treatment\" group \"B\" to another set of website viewers. You can directly measure and compare metrics of interest between these groups, for example, how many converted to a \"sale\", or \"conversion rate.\" \n",
        "\n",
        "A/B test includes the application of Statistical Hypothesis Testing \n",
        "\n",
        "![](https://drive.google.com/uc?id=1I5uoJm3UMJrH0iKxx1K3u9tzKjPX293l)"
      ]
    },
    {
      "cell_type": "markdown",
      "metadata": {
        "id": "nhlYAax2Ydql"
      },
      "source": [
        "Let’s see an example...\n",
        "\n",
        "Imagine that you are running a UI experiment where you want to understand the difference between the time spent on your initial layout vs a new layout. (let’s imagine you want to understand the impact of having a vertical layout Vs a Horizontal layout )\n",
        "\n",
        "Imagine we are using the average session time (time spent on the page) as our metric to analyze the result of the A/B test. We aim to understand if the new design of the page gets more attention from the users and increase the time they spend on the page.\n"
      ]
    },
    {
      "cell_type": "code",
      "metadata": {
        "id": "V0cuLtY5ZTXs",
        "colab": {
          "base_uri": "https://localhost:8080/",
          "height": 198
        },
        "outputId": "a5280b38-2e71-4651-ea2a-2ae27371fea2"
      },
      "source": [
        "import pandas as pd\n",
        "import statsmodels.api as sm\n",
        "import numpy as np\n",
        "from scipy import stats\n",
        "import seaborn as sns\n",
        "url = 'https://drive.google.com/file/d/1Z43HPoX916GEJ5sMZs-6fLnvsTW8P3BV/view?usp=sharing'\n",
        "path = 'https://drive.google.com/uc?export=download&id='+url.split('/')[-2]\n",
        "design = pd.read_csv(path, sep=';')\n",
        "design.head()\n",
        "#Time is in minutes"
      ],
      "execution_count": null,
      "outputs": [
        {
          "output_type": "execute_result",
          "data": {
            "text/html": [
              "<div>\n",
              "<style scoped>\n",
              "    .dataframe tbody tr th:only-of-type {\n",
              "        vertical-align: middle;\n",
              "    }\n",
              "\n",
              "    .dataframe tbody tr th {\n",
              "        vertical-align: top;\n",
              "    }\n",
              "\n",
              "    .dataframe thead th {\n",
              "        text-align: right;\n",
              "    }\n",
              "</style>\n",
              "<table border=\"1\" class=\"dataframe\">\n",
              "  <thead>\n",
              "    <tr style=\"text-align: right;\">\n",
              "      <th></th>\n",
              "      <th>Page</th>\n",
              "      <th>Time</th>\n",
              "    </tr>\n",
              "  </thead>\n",
              "  <tbody>\n",
              "    <tr>\n",
              "      <th>0</th>\n",
              "      <td>Old design</td>\n",
              "      <td>0.35</td>\n",
              "    </tr>\n",
              "    <tr>\n",
              "      <th>1</th>\n",
              "      <td>New design</td>\n",
              "      <td>1.20</td>\n",
              "    </tr>\n",
              "    <tr>\n",
              "      <th>2</th>\n",
              "      <td>Old design</td>\n",
              "      <td>0.80</td>\n",
              "    </tr>\n",
              "    <tr>\n",
              "      <th>3</th>\n",
              "      <td>New design</td>\n",
              "      <td>1.20</td>\n",
              "    </tr>\n",
              "    <tr>\n",
              "      <th>4</th>\n",
              "      <td>Old design</td>\n",
              "      <td>1.50</td>\n",
              "    </tr>\n",
              "  </tbody>\n",
              "</table>\n",
              "</div>"
            ],
            "text/plain": [
              "         Page  Time\n",
              "0  Old design  0.35\n",
              "1  New design  1.20\n",
              "2  Old design  0.80\n",
              "3  New design  1.20\n",
              "4  Old design  1.50"
            ]
          },
          "metadata": {
            "tags": []
          },
          "execution_count": 58
        }
      ]
    },
    {
      "cell_type": "markdown",
      "metadata": {
        "id": "brDW5AGsb9Gh"
      },
      "source": [
        "\n",
        "### Step 1: Define the null the alternative hypothesis\n",
        "\n",
        "$H_{0}: \\mu_{OldDesign} = \\mu_{NewDesign}$\n",
        "\n",
        "$H_{A}: \\mu_{OldDesign} \\neq \\mu_{NewDesign}$\n",
        "\n",
        "\n",
        "In this experiment, the null hypothesis assumes the average session time spent on the pages are equal and if there is a difference this is only due to the chance factor. In contrast, the alternative hypothesis assumes there is a statistically significant difference between the average session time.\n",
        "### Step 2: Set Significance Level\n",
        "\n",
        "$\\alpha = 0.05$\n",
        "\n",
        "### Step 3: Select the appropriate statistical test\n",
        "\n",
        "#### What type of variable is the \"input\"?\n",
        "\n",
        "The input is a binary classification, \"old design\" vs \"new design\". So, the answer is **Binary**\n",
        "\n",
        "#### What type of variable is the \"response\"?\n",
        "\n",
        "The response is \"average session time,\" which is a **continuous** value\n",
        "\n",
        "#### Is the response paired?\n",
        "\n",
        "**No**, the responses are not paired by the groups; they are independent groups.\n",
        "\n",
        "#### Does the response follow a normal distribution in both groups?\n",
        "\n",
        "Need to either test for Normality with a Shapiro-Wilk hypothesis test, or assume normality based on other descriptive details of the data (sample size, skewness, etc.)"
      ]
    },
    {
      "cell_type": "code",
      "metadata": {
        "id": "Vp8qQq_ucOXk",
        "colab": {
          "base_uri": "https://localhost:8080/",
          "height": 288
        },
        "outputId": "755cac6d-88f6-4501-9486-7a29597d6d95"
      },
      "source": [
        "old_design = design.loc[(design.Page == 'Old design')] #Survivors\n",
        "old_design.describe()"
      ],
      "execution_count": null,
      "outputs": [
        {
          "output_type": "execute_result",
          "data": {
            "text/html": [
              "<div>\n",
              "<style scoped>\n",
              "    .dataframe tbody tr th:only-of-type {\n",
              "        vertical-align: middle;\n",
              "    }\n",
              "\n",
              "    .dataframe tbody tr th {\n",
              "        vertical-align: top;\n",
              "    }\n",
              "\n",
              "    .dataframe thead th {\n",
              "        text-align: right;\n",
              "    }\n",
              "</style>\n",
              "<table border=\"1\" class=\"dataframe\">\n",
              "  <thead>\n",
              "    <tr style=\"text-align: right;\">\n",
              "      <th></th>\n",
              "      <th>Time</th>\n",
              "    </tr>\n",
              "  </thead>\n",
              "  <tbody>\n",
              "    <tr>\n",
              "      <th>count</th>\n",
              "      <td>21.000000</td>\n",
              "    </tr>\n",
              "    <tr>\n",
              "      <th>mean</th>\n",
              "      <td>1.435714</td>\n",
              "    </tr>\n",
              "    <tr>\n",
              "      <th>std</th>\n",
              "      <td>0.589734</td>\n",
              "    </tr>\n",
              "    <tr>\n",
              "      <th>min</th>\n",
              "      <td>0.350000</td>\n",
              "    </tr>\n",
              "    <tr>\n",
              "      <th>25%</th>\n",
              "      <td>0.900000</td>\n",
              "    </tr>\n",
              "    <tr>\n",
              "      <th>50%</th>\n",
              "      <td>1.500000</td>\n",
              "    </tr>\n",
              "    <tr>\n",
              "      <th>75%</th>\n",
              "      <td>1.900000</td>\n",
              "    </tr>\n",
              "    <tr>\n",
              "      <th>max</th>\n",
              "      <td>2.500000</td>\n",
              "    </tr>\n",
              "  </tbody>\n",
              "</table>\n",
              "</div>"
            ],
            "text/plain": [
              "            Time\n",
              "count  21.000000\n",
              "mean    1.435714\n",
              "std     0.589734\n",
              "min     0.350000\n",
              "25%     0.900000\n",
              "50%     1.500000\n",
              "75%     1.900000\n",
              "max     2.500000"
            ]
          },
          "metadata": {
            "tags": []
          },
          "execution_count": 59
        }
      ]
    },
    {
      "cell_type": "code",
      "metadata": {
        "id": "AFXY5vdTZ_jz",
        "colab": {
          "base_uri": "https://localhost:8080/"
        },
        "outputId": "7dc80108-21d6-4a44-e591-bc18d83fcec0"
      },
      "source": [
        "stats.shapiro(old_design['Time'])"
      ],
      "execution_count": null,
      "outputs": [
        {
          "output_type": "execute_result",
          "data": {
            "text/plain": [
              "(0.9582112431526184, 0.48085227608680725)"
            ]
          },
          "metadata": {
            "tags": []
          },
          "execution_count": 60
        }
      ]
    },
    {
      "cell_type": "markdown",
      "metadata": {
        "id": "_LppPDnZapha"
      },
      "source": [
        "#### Since the p-value is large, we do not reject the null hypothesis. The   **time** is normally distributed. Therefore, we need to use a Student's t-test. Let's do the same for the next set "
      ]
    },
    {
      "cell_type": "code",
      "metadata": {
        "id": "MOeX4w5FdPd7",
        "colab": {
          "base_uri": "https://localhost:8080/",
          "height": 288
        },
        "outputId": "2c9beeb6-1041-4731-999f-b06a25e3e25d"
      },
      "source": [
        "new_design = design.loc[(design.Page == 'New design')] #Survivors\n",
        "new_design.describe()"
      ],
      "execution_count": null,
      "outputs": [
        {
          "output_type": "execute_result",
          "data": {
            "text/html": [
              "<div>\n",
              "<style scoped>\n",
              "    .dataframe tbody tr th:only-of-type {\n",
              "        vertical-align: middle;\n",
              "    }\n",
              "\n",
              "    .dataframe tbody tr th {\n",
              "        vertical-align: top;\n",
              "    }\n",
              "\n",
              "    .dataframe thead th {\n",
              "        text-align: right;\n",
              "    }\n",
              "</style>\n",
              "<table border=\"1\" class=\"dataframe\">\n",
              "  <thead>\n",
              "    <tr style=\"text-align: right;\">\n",
              "      <th></th>\n",
              "      <th>Time</th>\n",
              "    </tr>\n",
              "  </thead>\n",
              "  <tbody>\n",
              "    <tr>\n",
              "      <th>count</th>\n",
              "      <td>28.000000</td>\n",
              "    </tr>\n",
              "    <tr>\n",
              "      <th>mean</th>\n",
              "      <td>1.664286</td>\n",
              "    </tr>\n",
              "    <tr>\n",
              "      <th>std</th>\n",
              "      <td>0.645907</td>\n",
              "    </tr>\n",
              "    <tr>\n",
              "      <th>min</th>\n",
              "      <td>0.400000</td>\n",
              "    </tr>\n",
              "    <tr>\n",
              "      <th>25%</th>\n",
              "      <td>1.275000</td>\n",
              "    </tr>\n",
              "    <tr>\n",
              "      <th>50%</th>\n",
              "      <td>1.500000</td>\n",
              "    </tr>\n",
              "    <tr>\n",
              "      <th>75%</th>\n",
              "      <td>2.050000</td>\n",
              "    </tr>\n",
              "    <tr>\n",
              "      <th>max</th>\n",
              "      <td>2.900000</td>\n",
              "    </tr>\n",
              "  </tbody>\n",
              "</table>\n",
              "</div>"
            ],
            "text/plain": [
              "            Time\n",
              "count  28.000000\n",
              "mean    1.664286\n",
              "std     0.645907\n",
              "min     0.400000\n",
              "25%     1.275000\n",
              "50%     1.500000\n",
              "75%     2.050000\n",
              "max     2.900000"
            ]
          },
          "metadata": {
            "tags": []
          },
          "execution_count": 61
        }
      ]
    },
    {
      "cell_type": "code",
      "metadata": {
        "id": "iuUh67MGdWvd",
        "colab": {
          "base_uri": "https://localhost:8080/"
        },
        "outputId": "1b3f7b32-3d33-4c8d-93c1-8ff8a242b74a"
      },
      "source": [
        "stats.shapiro(new_design['Time'])"
      ],
      "execution_count": null,
      "outputs": [
        {
          "output_type": "execute_result",
          "data": {
            "text/plain": [
              "(0.9624826312065125, 0.398596853017807)"
            ]
          },
          "metadata": {
            "tags": []
          },
          "execution_count": 62
        }
      ]
    },
    {
      "cell_type": "markdown",
      "metadata": {
        "id": "jsaykT7SasA8"
      },
      "source": [
        "#### Are variances between groups equal?\n",
        "\n",
        "Need to run an F-test to test for equal variances."
      ]
    },
    {
      "cell_type": "code",
      "metadata": {
        "id": "1ZWLrF2XdjTI",
        "colab": {
          "base_uri": "https://localhost:8080/"
        },
        "outputId": "2cc9382d-eaf1-45d2-8899-cd25984e235a"
      },
      "source": [
        "#perform F-test\n",
        "stats.f_oneway(old_design['Time'],new_design['Time'])"
      ],
      "execution_count": null,
      "outputs": [
        {
          "output_type": "execute_result",
          "data": {
            "text/plain": [
              "F_onewayResult(statistic=1.6172405295817571, pvalue=0.20973393181735653)"
            ]
          },
          "metadata": {
            "tags": []
          },
          "execution_count": 63
        }
      ]
    },
    {
      "cell_type": "markdown",
      "metadata": {
        "id": "j_zamUiGdvd0"
      },
      "source": [
        "p-value > 0.05, so we **Fail To Reject the Null Hypothesis**. The variances are equal.\n",
        "So, the appropriate statistical test to test our original hypothesis is a **Student's two-sample t-test**!\n",
        "\n",
        "### Step 4: Decide One or Two Tailed\n",
        "\n",
        "Two-tailed\n",
        "\n",
        "### Step 5: Run the Statistical Test\n",
        "\n"
      ]
    },
    {
      "cell_type": "code",
      "metadata": {
        "id": "fi-4MeG1duza",
        "colab": {
          "base_uri": "https://localhost:8080/"
        },
        "outputId": "55d00a87-3c41-4fae-f070-6220c83b8534"
      },
      "source": [
        "stats.ttest_ind(old_design['Time'],new_design['Time']) ## from scipy.stats"
      ],
      "execution_count": null,
      "outputs": [
        {
          "output_type": "execute_result",
          "data": {
            "text/plain": [
              "Ttest_indResult(statistic=-1.271707721759113, pvalue=0.20973393181735656)"
            ]
          },
          "metadata": {
            "tags": []
          },
          "execution_count": 64
        }
      ]
    },
    {
      "cell_type": "markdown",
      "metadata": {
        "id": "xQGAWYsaeIxn"
      },
      "source": [
        "p-value > 0.05, so we Fail To Reject the Null Hypothesis. **There is no difference in the session time of the new design and the old design**"
      ]
    }
  ]
}