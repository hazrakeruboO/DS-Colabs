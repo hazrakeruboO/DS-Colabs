{
  "nbformat": 4,
  "nbformat_minor": 0,
  "metadata": {
    "colab": {
      "name": "Copy of SQL Mini Project.ipynb",
      "provenance": [],
      "collapsed_sections": [],
      "include_colab_link": true
    },
    "kernelspec": {
      "name": "python3",
      "display_name": "Python 3"
    },
    "language_info": {
      "name": "python"
    }
  },
  "cells": [
    {
      "cell_type": "markdown",
      "metadata": {
        "id": "view-in-github",
        "colab_type": "text"
      },
      "source": [
        "<a href=\"https://colab.research.google.com/github/hazrakeruboO/DS-Colabs/blob/main/Copy_of_SQL_Mini_Project.ipynb\" target=\"_parent\"><img src=\"https://colab.research.google.com/assets/colab-badge.svg\" alt=\"Open In Colab\"/></a>"
      ]
    },
    {
      "cell_type": "markdown",
      "metadata": {
        "id": "c3MZEwKEb0cm"
      },
      "source": [
        "**SQL Mini-Project**\n",
        "\n",
        "To aid a US presidential candidate, we would like to understand the states where he/she should focus campaign efforts in order to secure a win the upcoming presidential elections.\n",
        "\n",
        "In each of the 51 states, there is a given number of grand electors to win and the presidential candidate receiving the most local votes wins ALL the Grand Electors in that state.\n",
        "\n",
        "However,it is impotant to note that the number of grand electors is not exactly proportional to the population.\n",
        "\n",
        "Therefore, the objective of this study is identify which states we need to prioritize in our campaigns to ensure the we win the most votes and/or which states have the highest grand electors per capita.\n",
        "\n",
        "---\n",
        "\n"
      ]
    },
    {
      "cell_type": "markdown",
      "metadata": {
        "id": "Cu6gHEGKaty4"
      },
      "source": [
        "**Connecting the Database**"
      ]
    },
    {
      "cell_type": "code",
      "metadata": {
        "colab": {
          "base_uri": "https://localhost:8080/",
          "height": 69
        },
        "id": "Bm9mrgvq511z",
        "outputId": "5b0dbf3d-401c-4d94-b62f-7268dd77cf62"
      },
      "source": [
        "# Loading sql extension\n",
        "%load_ext sql\n",
        "\n",
        "# Connecting to sqlite in our memory\n",
        "\n",
        "%sql sqlite://"
      ],
      "execution_count": null,
      "outputs": [
        {
          "output_type": "stream",
          "text": [
            "The sql extension is already loaded. To reload it, use:\n",
            "  %reload_ext sql\n"
          ],
          "name": "stdout"
        },
        {
          "output_type": "execute_result",
          "data": {
            "application/vnd.google.colaboratory.intrinsic+json": {
              "type": "string"
            },
            "text/plain": [
              "'Connected: @None'"
            ]
          },
          "metadata": {
            "tags": []
          },
          "execution_count": 5
        }
      ]
    },
    {
      "cell_type": "markdown",
      "metadata": {
        "id": "u9SHwN5jeubz"
      },
      "source": [
        "**Loading required Python Library**"
      ]
    },
    {
      "cell_type": "code",
      "metadata": {
        "id": "4Y5yzVcbeuiq"
      },
      "source": [
        "import pandas as pd\n",
        "import numpy as np"
      ],
      "execution_count": null,
      "outputs": []
    },
    {
      "cell_type": "markdown",
      "metadata": {
        "id": "H1ZC6nfNelBc"
      },
      "source": [
        "**Loading Dataset**"
      ]
    },
    {
      "cell_type": "code",
      "metadata": {
        "colab": {
          "base_uri": "https://localhost:8080/",
          "height": 230
        },
        "id": "2-GqWdMja-DU",
        "outputId": "f8d2bf7e-d50d-4d92-c2fb-6a19e80d8275"
      },
      "source": [
        "# Loading and Previewing Grand Electors dataset\n",
        "\n",
        "with open('GrandElectors_by_state.csv', 'r') as elec:\n",
        "   GrandElectors = pd.read_csv(elec, index_col=0, encoding='utf-8')\n",
        "\n",
        "%sql DROP TABLE if EXISTS GrandElectors;\n",
        "%sql PERSIST GrandElectors;\n",
        "%sql SELECT * FROM GrandElectors LIMIT 5;"
      ],
      "execution_count": null,
      "outputs": [
        {
          "output_type": "stream",
          "text": [
            " * sqlite://\n",
            "Done.\n",
            " * sqlite://\n",
            " * sqlite://\n",
            "Done.\n"
          ],
          "name": "stdout"
        },
        {
          "output_type": "execute_result",
          "data": {
            "text/html": [
              "<table>\n",
              "    <thead>\n",
              "        <tr>\n",
              "            <th>State</th>\n",
              "            <th>GrandElectors</th>\n",
              "        </tr>\n",
              "    </thead>\n",
              "    <tbody>\n",
              "        <tr>\n",
              "            <td>Alabama</td>\n",
              "            <td>9</td>\n",
              "        </tr>\n",
              "        <tr>\n",
              "            <td>Alaska</td>\n",
              "            <td>3</td>\n",
              "        </tr>\n",
              "        <tr>\n",
              "            <td>Arizona</td>\n",
              "            <td>11</td>\n",
              "        </tr>\n",
              "        <tr>\n",
              "            <td>Arkansas</td>\n",
              "            <td>6</td>\n",
              "        </tr>\n",
              "        <tr>\n",
              "            <td>California</td>\n",
              "            <td>55</td>\n",
              "        </tr>\n",
              "    </tbody>\n",
              "</table>"
            ],
            "text/plain": [
              "[('Alabama', 9),\n",
              " ('Alaska', 3),\n",
              " ('Arizona', 11),\n",
              " ('Arkansas', 6),\n",
              " ('California', 55)]"
            ]
          },
          "metadata": {
            "tags": []
          },
          "execution_count": 7
        }
      ]
    },
    {
      "cell_type": "code",
      "metadata": {
        "colab": {
          "base_uri": "https://localhost:8080/",
          "height": 230
        },
        "id": "9AUvCKH7fXXI",
        "outputId": "f3d8c1eb-96ec-4f9f-bb64-9655746231e8"
      },
      "source": [
        "# Loading Population Dataset\n",
        "with open('Population_by_state.csv', 'r') as pop:\n",
        "  Population = pd.read_csv(pop, index_col=0, encoding='utf-8')\n",
        "\n",
        "\n",
        "%sql DROP TABLE IF EXISTS Population\n",
        "%sql PERSIST Population\n",
        "%sql SELECT * FROM Population LIMIT 5;\n",
        "\n"
      ],
      "execution_count": null,
      "outputs": [
        {
          "output_type": "stream",
          "text": [
            " * sqlite://\n",
            "Done.\n",
            " * sqlite://\n",
            " * sqlite://\n",
            "Done.\n"
          ],
          "name": "stdout"
        },
        {
          "output_type": "execute_result",
          "data": {
            "text/html": [
              "<table>\n",
              "    <thead>\n",
              "        <tr>\n",
              "            <th>State</th>\n",
              "            <th>Population</th>\n",
              "        </tr>\n",
              "    </thead>\n",
              "    <tbody>\n",
              "        <tr>\n",
              "            <td>CALIFORNIA</td>\n",
              "            <td>39144818</td>\n",
              "        </tr>\n",
              "        <tr>\n",
              "            <td>TEXAS</td>\n",
              "            <td>27469114</td>\n",
              "        </tr>\n",
              "        <tr>\n",
              "            <td>FLORIDA</td>\n",
              "            <td>20271272</td>\n",
              "        </tr>\n",
              "        <tr>\n",
              "            <td>NEW YORK</td>\n",
              "            <td>19795791</td>\n",
              "        </tr>\n",
              "        <tr>\n",
              "            <td>ILLINOIS</td>\n",
              "            <td>12859995</td>\n",
              "        </tr>\n",
              "    </tbody>\n",
              "</table>"
            ],
            "text/plain": [
              "[('CALIFORNIA', 39144818),\n",
              " ('TEXAS', 27469114),\n",
              " ('FLORIDA', 20271272),\n",
              " ('NEW YORK', 19795791),\n",
              " ('ILLINOIS', 12859995)]"
            ]
          },
          "metadata": {
            "tags": []
          },
          "execution_count": 8
        }
      ]
    },
    {
      "cell_type": "markdown",
      "metadata": {
        "id": "kRlqAejNgCZS"
      },
      "source": [
        "The first thing we shall do is to join the two datasets using SQL on the common columns state. \n",
        "\n",
        "However, note that the name of the state in the population dataset is in all caps. This might cause an issue in the JOIN clause. We need to make sure that both columns are the same before the JOIN clause.\n",
        "\n",
        "Additionally, we need to the joined table an independent table in order to conduct analysis on it later."
      ]
    },
    {
      "cell_type": "code",
      "metadata": {
        "colab": {
          "base_uri": "https://localhost:8080/"
        },
        "id": "TAEYA1DKgBgc",
        "outputId": "f200b86b-eee3-4a78-c2bd-2a8dbea6aaf9"
      },
      "source": [
        "# Making States values in GrandElectors dataset uppercase to match the population dataset\n",
        "\n",
        "%%sql\n",
        "UPDATE GrandElectors SET State=UPPER(State)"
      ],
      "execution_count": null,
      "outputs": [
        {
          "output_type": "stream",
          "text": [
            " * sqlite://\n",
            "51 rows affected.\n"
          ],
          "name": "stdout"
        },
        {
          "output_type": "execute_result",
          "data": {
            "text/plain": [
              "[]"
            ]
          },
          "metadata": {
            "tags": []
          },
          "execution_count": 9
        }
      ]
    },
    {
      "cell_type": "code",
      "metadata": {
        "colab": {
          "base_uri": "https://localhost:8080/"
        },
        "id": "5Yv88eA-l6gL",
        "outputId": "2c5415a8-02c4-4b1c-fc84-b05abffd0a6e"
      },
      "source": [
        "# Creating new table and joining Datasets \n",
        "\n",
        "%%sql\n",
        "CREATE TABLE US_Elections AS SELECT Population.State, GrandElectors.GrandElectors, Population\n",
        "FROM Population INNER JOIN GrandElectors\n",
        "ON Population.State=GrandElectors.State;"
      ],
      "execution_count": null,
      "outputs": [
        {
          "output_type": "stream",
          "text": [
            " * sqlite://\n",
            "Done.\n"
          ],
          "name": "stdout"
        },
        {
          "output_type": "execute_result",
          "data": {
            "text/plain": [
              "[]"
            ]
          },
          "metadata": {
            "tags": []
          },
          "execution_count": 11
        }
      ]
    },
    {
      "cell_type": "code",
      "metadata": {
        "colab": {
          "base_uri": "https://localhost:8080/",
          "height": 179
        },
        "id": "UDfPqo0QnOLZ",
        "outputId": "0594b467-a9e7-4d63-8f98-e914d1e787ff"
      },
      "source": [
        "# Preview new table\n",
        "\n",
        "%%sql\n",
        "SELECT * FROM US_Elections LIMIT 5;"
      ],
      "execution_count": null,
      "outputs": [
        {
          "output_type": "stream",
          "text": [
            " * sqlite://\n",
            "Done.\n"
          ],
          "name": "stdout"
        },
        {
          "output_type": "execute_result",
          "data": {
            "text/html": [
              "<table>\n",
              "    <thead>\n",
              "        <tr>\n",
              "            <th>State</th>\n",
              "            <th>GrandElectors</th>\n",
              "            <th>Population</th>\n",
              "        </tr>\n",
              "    </thead>\n",
              "    <tbody>\n",
              "        <tr>\n",
              "            <td>CALIFORNIA</td>\n",
              "            <td>55</td>\n",
              "            <td>39144818</td>\n",
              "        </tr>\n",
              "        <tr>\n",
              "            <td>TEXAS</td>\n",
              "            <td>38</td>\n",
              "            <td>27469114</td>\n",
              "        </tr>\n",
              "        <tr>\n",
              "            <td>FLORIDA</td>\n",
              "            <td>29</td>\n",
              "            <td>20271272</td>\n",
              "        </tr>\n",
              "        <tr>\n",
              "            <td>NEW YORK</td>\n",
              "            <td>29</td>\n",
              "            <td>19795791</td>\n",
              "        </tr>\n",
              "        <tr>\n",
              "            <td>ILLINOIS</td>\n",
              "            <td>20</td>\n",
              "            <td>12859995</td>\n",
              "        </tr>\n",
              "    </tbody>\n",
              "</table>"
            ],
            "text/plain": [
              "[('CALIFORNIA', 55, 39144818),\n",
              " ('TEXAS', 38, 27469114),\n",
              " ('FLORIDA', 29, 20271272),\n",
              " ('NEW YORK', 29, 19795791),\n",
              " ('ILLINOIS', 20, 12859995)]"
            ]
          },
          "metadata": {
            "tags": []
          },
          "execution_count": 12
        }
      ]
    },
    {
      "cell_type": "markdown",
      "metadata": {
        "id": "fe8qUOu3mT1M"
      },
      "source": [
        "We been asked to change the District of Colombia in our new table to 'DC'"
      ]
    },
    {
      "cell_type": "code",
      "metadata": {
        "colab": {
          "base_uri": "https://localhost:8080/"
        },
        "id": "o0xJe-2unKMK",
        "outputId": "844b1739-f77e-4c2f-ee00-9cc7e6cc84ee"
      },
      "source": [
        "# Updating 'District of Columbia' as 'DC'\n",
        "\n",
        "%%sql\n",
        "UPDATE US_Elections\n",
        "SET State = 'DC'\n",
        "WHERE State = 'DISTRICT OF COLUMBIA';"
      ],
      "execution_count": null,
      "outputs": [
        {
          "output_type": "stream",
          "text": [
            " * sqlite://\n",
            "1 rows affected.\n"
          ],
          "name": "stdout"
        },
        {
          "output_type": "execute_result",
          "data": {
            "text/plain": [
              "[]"
            ]
          },
          "metadata": {
            "tags": []
          },
          "execution_count": 8
        }
      ]
    },
    {
      "cell_type": "markdown",
      "metadata": {
        "id": "X8eNhkI_poBm"
      },
      "source": [
        "Next, we need to create a new column and update its values to reflect the ratio. The resulting values will define our priority states with the state with the highest ration being the most important state."
      ]
    },
    {
      "cell_type": "code",
      "metadata": {
        "colab": {
          "base_uri": "https://localhost:8080/"
        },
        "id": "oKrE-1H0p0EG",
        "outputId": "938b3b7b-beb6-4437-ddcd-d43b5db49838"
      },
      "source": [
        "# Creating new column\n",
        "\n",
        "%%sql\n",
        "ALTER TABLE US_Elections\n",
        "ADD Ratio;"
      ],
      "execution_count": null,
      "outputs": [
        {
          "output_type": "stream",
          "text": [
            " * sqlite://\n",
            "Done.\n"
          ],
          "name": "stdout"
        },
        {
          "output_type": "execute_result",
          "data": {
            "text/plain": [
              "[]"
            ]
          },
          "metadata": {
            "tags": []
          },
          "execution_count": 9
        }
      ]
    },
    {
      "cell_type": "code",
      "metadata": {
        "colab": {
          "base_uri": "https://localhost:8080/"
        },
        "id": "iHJKJpIctOmF",
        "outputId": "cc68b44c-07f9-4a9d-e7f4-7a21cdfb2fa8"
      },
      "source": [
        "# Updating the values in the new column\n",
        "\n",
        "%%sql\n",
        "UPDATE US_Elections\n",
        "SET \"Ratio\" = (US_Elections.GrandElectors * 1.0 / US_Elections.Population * 1.0);"
      ],
      "execution_count": null,
      "outputs": [
        {
          "output_type": "stream",
          "text": [
            " * sqlite://\n",
            "51 rows affected.\n"
          ],
          "name": "stdout"
        },
        {
          "output_type": "execute_result",
          "data": {
            "text/plain": [
              "[]"
            ]
          },
          "metadata": {
            "tags": []
          },
          "execution_count": 10
        }
      ]
    },
    {
      "cell_type": "markdown",
      "metadata": {
        "id": "JRUeJjvAzP_E"
      },
      "source": [
        "From the table above we have seen that Wyoming, Vermont, DC and Alaska are top of our priority states. We now need to compute the running total from the state with the highest ratio."
      ]
    },
    {
      "cell_type": "code",
      "metadata": {
        "colab": {
          "base_uri": "https://localhost:8080/",
          "height": 1000
        },
        "id": "OKiVmzbl0Tah",
        "outputId": "db470a85-bbca-419e-eb5a-bf97db25570c"
      },
      "source": [
        "# Calculating the running total and creating a new table with the new columns.\n",
        "\n",
        "%%sql\n",
        "\n",
        "CREATE TABLE US_Elections_Updated AS \n",
        "  SELECT t.State,\n",
        "       t.GrandElectors,\n",
        "       t.Ratio,\n",
        "       (SELECT SUM(x.GrandElectors)\n",
        "       FROM US_Elections x\n",
        "       WHERE t.Ratio <= x.Ratio) AS Running_Total\n",
        "FROM US_Elections t\n",
        "ORDER BY t.Ratio DESC;\n",
        "\n",
        "SELECT * FROM US_Elections_Updated;"
      ],
      "execution_count": null,
      "outputs": [
        {
          "output_type": "stream",
          "text": [
            " * sqlite://\n",
            "Done.\n",
            "Done.\n"
          ],
          "name": "stdout"
        },
        {
          "output_type": "execute_result",
          "data": {
            "text/html": [
              "<table>\n",
              "    <thead>\n",
              "        <tr>\n",
              "            <th>State</th>\n",
              "            <th>GrandElectors</th>\n",
              "            <th>Ratio</th>\n",
              "            <th>Running_Total</th>\n",
              "        </tr>\n",
              "    </thead>\n",
              "    <tbody>\n",
              "        <tr>\n",
              "            <td>WYOMING</td>\n",
              "            <td>3</td>\n",
              "            <td>5.118519314732634e-06</td>\n",
              "            <td>3</td>\n",
              "        </tr>\n",
              "        <tr>\n",
              "            <td>VERMONT</td>\n",
              "            <td>3</td>\n",
              "            <td>4.792010759661493e-06</td>\n",
              "            <td>6</td>\n",
              "        </tr>\n",
              "        <tr>\n",
              "            <td>DC</td>\n",
              "            <td>3</td>\n",
              "            <td>4.462771559649405e-06</td>\n",
              "            <td>9</td>\n",
              "        </tr>\n",
              "        <tr>\n",
              "            <td>ALASKA</td>\n",
              "            <td>3</td>\n",
              "            <td>4.0626625065002604e-06</td>\n",
              "            <td>12</td>\n",
              "        </tr>\n",
              "        <tr>\n",
              "            <td>NORTH DAKOTA</td>\n",
              "            <td>3</td>\n",
              "            <td>3.963394092164766e-06</td>\n",
              "            <td>15</td>\n",
              "        </tr>\n",
              "        <tr>\n",
              "            <td>RHODE ISLAND</td>\n",
              "            <td>4</td>\n",
              "            <td>3.7868101615263876e-06</td>\n",
              "            <td>19</td>\n",
              "        </tr>\n",
              "        <tr>\n",
              "            <td>SOUTH DAKOTA</td>\n",
              "            <td>3</td>\n",
              "            <td>3.4945932817609025e-06</td>\n",
              "            <td>22</td>\n",
              "        </tr>\n",
              "        <tr>\n",
              "            <td>DELAWARE</td>\n",
              "            <td>3</td>\n",
              "            <td>3.1714686225466047e-06</td>\n",
              "            <td>25</td>\n",
              "        </tr>\n",
              "        <tr>\n",
              "            <td>MAINE</td>\n",
              "            <td>4</td>\n",
              "            <td>3.009039153617467e-06</td>\n",
              "            <td>29</td>\n",
              "        </tr>\n",
              "        <tr>\n",
              "            <td>NEW HAMPSHIRE</td>\n",
              "            <td>4</td>\n",
              "            <td>3.0061445594795764e-06</td>\n",
              "            <td>33</td>\n",
              "        </tr>\n",
              "        <tr>\n",
              "            <td>MONTANA</td>\n",
              "            <td>3</td>\n",
              "            <td>2.904306020916812e-06</td>\n",
              "            <td>36</td>\n",
              "        </tr>\n",
              "        <tr>\n",
              "            <td>HAWAII</td>\n",
              "            <td>4</td>\n",
              "            <td>2.794070702562093e-06</td>\n",
              "            <td>40</td>\n",
              "        </tr>\n",
              "        <tr>\n",
              "            <td>WEST VIRGINIA</td>\n",
              "            <td>5</td>\n",
              "            <td>2.7113085425740512e-06</td>\n",
              "            <td>45</td>\n",
              "        </tr>\n",
              "        <tr>\n",
              "            <td>NEBRASKA</td>\n",
              "            <td>5</td>\n",
              "            <td>2.636866558730929e-06</td>\n",
              "            <td>50</td>\n",
              "        </tr>\n",
              "        <tr>\n",
              "            <td>IDAHO</td>\n",
              "            <td>4</td>\n",
              "            <td>2.417020659484087e-06</td>\n",
              "            <td>54</td>\n",
              "        </tr>\n",
              "        <tr>\n",
              "            <td>NEW MEXICO</td>\n",
              "            <td>5</td>\n",
              "            <td>2.3979561739937817e-06</td>\n",
              "            <td>59</td>\n",
              "        </tr>\n",
              "        <tr>\n",
              "            <td>NEVADA</td>\n",
              "            <td>6</td>\n",
              "            <td>2.0755177119492743e-06</td>\n",
              "            <td>65</td>\n",
              "        </tr>\n",
              "        <tr>\n",
              "            <td>KANSAS</td>\n",
              "            <td>6</td>\n",
              "            <td>2.0606936088618066e-06</td>\n",
              "            <td>71</td>\n",
              "        </tr>\n",
              "        <tr>\n",
              "            <td>ARKANSAS</td>\n",
              "            <td>6</td>\n",
              "            <td>2.0146370094190997e-06</td>\n",
              "            <td>77</td>\n",
              "        </tr>\n",
              "        <tr>\n",
              "            <td>MISSISSIPPI</td>\n",
              "            <td>6</td>\n",
              "            <td>2.00512442966742e-06</td>\n",
              "            <td>83</td>\n",
              "        </tr>\n",
              "        <tr>\n",
              "            <td>UTAH</td>\n",
              "            <td>6</td>\n",
              "            <td>2.0027243727216926e-06</td>\n",
              "            <td>89</td>\n",
              "        </tr>\n",
              "        <tr>\n",
              "            <td>CONNECTICUT</td>\n",
              "            <td>7</td>\n",
              "            <td>1.949379623858847e-06</td>\n",
              "            <td>96</td>\n",
              "        </tr>\n",
              "        <tr>\n",
              "            <td>IOWA</td>\n",
              "            <td>6</td>\n",
              "            <td>1.9206766928124116e-06</td>\n",
              "            <td>102</td>\n",
              "        </tr>\n",
              "        <tr>\n",
              "            <td>ALABAMA</td>\n",
              "            <td>9</td>\n",
              "            <td>1.8522409749043987e-06</td>\n",
              "            <td>111</td>\n",
              "        </tr>\n",
              "        <tr>\n",
              "            <td>SOUTH CAROLINA</td>\n",
              "            <td>9</td>\n",
              "            <td>1.8381804790951905e-06</td>\n",
              "            <td>120</td>\n",
              "        </tr>\n",
              "        <tr>\n",
              "            <td>MINNESOTA</td>\n",
              "            <td>10</td>\n",
              "            <td>1.8216283389992047e-06</td>\n",
              "            <td>130</td>\n",
              "        </tr>\n",
              "        <tr>\n",
              "            <td>KENTUCKY</td>\n",
              "            <td>8</td>\n",
              "            <td>1.8078720171241637e-06</td>\n",
              "            <td>138</td>\n",
              "        </tr>\n",
              "        <tr>\n",
              "            <td>OKLAHOMA</td>\n",
              "            <td>7</td>\n",
              "            <td>1.7896689061390246e-06</td>\n",
              "            <td>145</td>\n",
              "        </tr>\n",
              "        <tr>\n",
              "            <td>OREGON</td>\n",
              "            <td>7</td>\n",
              "            <td>1.7374137405103083e-06</td>\n",
              "            <td>152</td>\n",
              "        </tr>\n",
              "        <tr>\n",
              "            <td>WISCONSIN</td>\n",
              "            <td>10</td>\n",
              "            <td>1.7327007589402595e-06</td>\n",
              "            <td>162</td>\n",
              "        </tr>\n",
              "        <tr>\n",
              "            <td>LOUISIANA</td>\n",
              "            <td>8</td>\n",
              "            <td>1.712796560019389e-06</td>\n",
              "            <td>170</td>\n",
              "        </tr>\n",
              "        <tr>\n",
              "            <td>WASHINGTON</td>\n",
              "            <td>12</td>\n",
              "            <td>1.673558240035948e-06</td>\n",
              "            <td>182</td>\n",
              "        </tr>\n",
              "        <tr>\n",
              "            <td>TENNESSEE</td>\n",
              "            <td>11</td>\n",
              "            <td>1.6665911650366142e-06</td>\n",
              "            <td>193</td>\n",
              "        </tr>\n",
              "        <tr>\n",
              "            <td>MARYLAND</td>\n",
              "            <td>10</td>\n",
              "            <td>1.6648905059785385e-06</td>\n",
              "            <td>203</td>\n",
              "        </tr>\n",
              "        <tr>\n",
              "            <td>INDIANA</td>\n",
              "            <td>11</td>\n",
              "            <td>1.6617117443743504e-06</td>\n",
              "            <td>214</td>\n",
              "        </tr>\n",
              "        <tr>\n",
              "            <td>COLORADO</td>\n",
              "            <td>9</td>\n",
              "            <td>1.6493865931260165e-06</td>\n",
              "            <td>223</td>\n",
              "        </tr>\n",
              "        <tr>\n",
              "            <td>MISSOURI</td>\n",
              "            <td>10</td>\n",
              "            <td>1.6437441071773757e-06</td>\n",
              "            <td>233</td>\n",
              "        </tr>\n",
              "        <tr>\n",
              "            <td>MASSACHUSETTS</td>\n",
              "            <td>11</td>\n",
              "            <td>1.6189750945702225e-06</td>\n",
              "            <td>244</td>\n",
              "        </tr>\n",
              "        <tr>\n",
              "            <td>MICHIGAN</td>\n",
              "            <td>16</td>\n",
              "            <td>1.6124844999927438e-06</td>\n",
              "            <td>260</td>\n",
              "        </tr>\n",
              "        <tr>\n",
              "            <td>ARIZONA</td>\n",
              "            <td>11</td>\n",
              "            <td>1.610998137832607e-06</td>\n",
              "            <td>271</td>\n",
              "        </tr>\n",
              "        <tr>\n",
              "            <td>GEORGIA</td>\n",
              "            <td>16</td>\n",
              "            <td>1.566345500574653e-06</td>\n",
              "            <td>287</td>\n",
              "        </tr>\n",
              "        <tr>\n",
              "            <td>NEW JERSEY</td>\n",
              "            <td>14</td>\n",
              "            <td>1.562846582160575e-06</td>\n",
              "            <td>301</td>\n",
              "        </tr>\n",
              "        <tr>\n",
              "            <td>PENNSYLVANIA</td>\n",
              "            <td>20</td>\n",
              "            <td>1.562194517743913e-06</td>\n",
              "            <td>321</td>\n",
              "        </tr>\n",
              "        <tr>\n",
              "            <td>ILLINOIS</td>\n",
              "            <td>20</td>\n",
              "            <td>1.5552105580134362e-06</td>\n",
              "            <td>341</td>\n",
              "        </tr>\n",
              "        <tr>\n",
              "            <td>VIRGINIA</td>\n",
              "            <td>13</td>\n",
              "            <td>1.5507587803067473e-06</td>\n",
              "            <td>354</td>\n",
              "        </tr>\n",
              "        <tr>\n",
              "            <td>OHIO</td>\n",
              "            <td>18</td>\n",
              "            <td>1.5499306276883225e-06</td>\n",
              "            <td>372</td>\n",
              "        </tr>\n",
              "        <tr>\n",
              "            <td>NORTH CAROLINA</td>\n",
              "            <td>15</td>\n",
              "            <td>1.4936070630487388e-06</td>\n",
              "            <td>387</td>\n",
              "        </tr>\n",
              "        <tr>\n",
              "            <td>NEW YORK</td>\n",
              "            <td>29</td>\n",
              "            <td>1.4649578791774474e-06</td>\n",
              "            <td>416</td>\n",
              "        </tr>\n",
              "        <tr>\n",
              "            <td>FLORIDA</td>\n",
              "            <td>29</td>\n",
              "            <td>1.4305959685213637e-06</td>\n",
              "            <td>445</td>\n",
              "        </tr>\n",
              "        <tr>\n",
              "            <td>CALIFORNIA</td>\n",
              "            <td>55</td>\n",
              "            <td>1.4050391037710278e-06</td>\n",
              "            <td>500</td>\n",
              "        </tr>\n",
              "        <tr>\n",
              "            <td>TEXAS</td>\n",
              "            <td>38</td>\n",
              "            <td>1.3833718845099992e-06</td>\n",
              "            <td>538</td>\n",
              "        </tr>\n",
              "    </tbody>\n",
              "</table>"
            ],
            "text/plain": [
              "[('WYOMING', 3, 5.118519314732634e-06, 3),\n",
              " ('VERMONT', 3, 4.792010759661493e-06, 6),\n",
              " ('DC', 3, 4.462771559649405e-06, 9),\n",
              " ('ALASKA', 3, 4.0626625065002604e-06, 12),\n",
              " ('NORTH DAKOTA', 3, 3.963394092164766e-06, 15),\n",
              " ('RHODE ISLAND', 4, 3.7868101615263876e-06, 19),\n",
              " ('SOUTH DAKOTA', 3, 3.4945932817609025e-06, 22),\n",
              " ('DELAWARE', 3, 3.1714686225466047e-06, 25),\n",
              " ('MAINE', 4, 3.009039153617467e-06, 29),\n",
              " ('NEW HAMPSHIRE', 4, 3.0061445594795764e-06, 33),\n",
              " ('MONTANA', 3, 2.904306020916812e-06, 36),\n",
              " ('HAWAII', 4, 2.794070702562093e-06, 40),\n",
              " ('WEST VIRGINIA', 5, 2.7113085425740512e-06, 45),\n",
              " ('NEBRASKA', 5, 2.636866558730929e-06, 50),\n",
              " ('IDAHO', 4, 2.417020659484087e-06, 54),\n",
              " ('NEW MEXICO', 5, 2.3979561739937817e-06, 59),\n",
              " ('NEVADA', 6, 2.0755177119492743e-06, 65),\n",
              " ('KANSAS', 6, 2.0606936088618066e-06, 71),\n",
              " ('ARKANSAS', 6, 2.0146370094190997e-06, 77),\n",
              " ('MISSISSIPPI', 6, 2.00512442966742e-06, 83),\n",
              " ('UTAH', 6, 2.0027243727216926e-06, 89),\n",
              " ('CONNECTICUT', 7, 1.949379623858847e-06, 96),\n",
              " ('IOWA', 6, 1.9206766928124116e-06, 102),\n",
              " ('ALABAMA', 9, 1.8522409749043987e-06, 111),\n",
              " ('SOUTH CAROLINA', 9, 1.8381804790951905e-06, 120),\n",
              " ('MINNESOTA', 10, 1.8216283389992047e-06, 130),\n",
              " ('KENTUCKY', 8, 1.8078720171241637e-06, 138),\n",
              " ('OKLAHOMA', 7, 1.7896689061390246e-06, 145),\n",
              " ('OREGON', 7, 1.7374137405103083e-06, 152),\n",
              " ('WISCONSIN', 10, 1.7327007589402595e-06, 162),\n",
              " ('LOUISIANA', 8, 1.712796560019389e-06, 170),\n",
              " ('WASHINGTON', 12, 1.673558240035948e-06, 182),\n",
              " ('TENNESSEE', 11, 1.6665911650366142e-06, 193),\n",
              " ('MARYLAND', 10, 1.6648905059785385e-06, 203),\n",
              " ('INDIANA', 11, 1.6617117443743504e-06, 214),\n",
              " ('COLORADO', 9, 1.6493865931260165e-06, 223),\n",
              " ('MISSOURI', 10, 1.6437441071773757e-06, 233),\n",
              " ('MASSACHUSETTS', 11, 1.6189750945702225e-06, 244),\n",
              " ('MICHIGAN', 16, 1.6124844999927438e-06, 260),\n",
              " ('ARIZONA', 11, 1.610998137832607e-06, 271),\n",
              " ('GEORGIA', 16, 1.566345500574653e-06, 287),\n",
              " ('NEW JERSEY', 14, 1.562846582160575e-06, 301),\n",
              " ('PENNSYLVANIA', 20, 1.562194517743913e-06, 321),\n",
              " ('ILLINOIS', 20, 1.5552105580134362e-06, 341),\n",
              " ('VIRGINIA', 13, 1.5507587803067473e-06, 354),\n",
              " ('OHIO', 18, 1.5499306276883225e-06, 372),\n",
              " ('NORTH CAROLINA', 15, 1.4936070630487388e-06, 387),\n",
              " ('NEW YORK', 29, 1.4649578791774474e-06, 416),\n",
              " ('FLORIDA', 29, 1.4305959685213637e-06, 445),\n",
              " ('CALIFORNIA', 55, 1.4050391037710278e-06, 500),\n",
              " ('TEXAS', 38, 1.3833718845099992e-06, 538)]"
            ]
          },
          "metadata": {
            "tags": []
          },
          "execution_count": 11
        }
      ]
    },
    {
      "cell_type": "markdown",
      "metadata": {
        "id": "aD2SRwUpGbKQ"
      },
      "source": [
        "Next, we need to calculate our threshold which is equal to half the total GrandElectors.\n"
      ]
    },
    {
      "cell_type": "code",
      "metadata": {
        "colab": {
          "base_uri": "https://localhost:8080/",
          "height": 95
        },
        "id": "EHki-Ge0GSCT",
        "outputId": "d3fc71a4-400f-4b2d-f024-d55d7d5ca7ba"
      },
      "source": [
        "# Calculating the Threshold\n",
        "%%sql\n",
        "SELECT SUM(\"GrandElectors\") * 0.5 AS Threshold FROM US_Elections_Updated;"
      ],
      "execution_count": null,
      "outputs": [
        {
          "output_type": "stream",
          "text": [
            " * sqlite://\n",
            "Done.\n"
          ],
          "name": "stdout"
        },
        {
          "output_type": "execute_result",
          "data": {
            "text/html": [
              "<table>\n",
              "    <thead>\n",
              "        <tr>\n",
              "            <th>Threshold</th>\n",
              "        </tr>\n",
              "    </thead>\n",
              "    <tbody>\n",
              "        <tr>\n",
              "            <td>269.0</td>\n",
              "        </tr>\n",
              "    </tbody>\n",
              "</table>"
            ],
            "text/plain": [
              "[(269.0,)]"
            ]
          },
          "metadata": {
            "tags": []
          },
          "execution_count": 12
        }
      ]
    },
    {
      "cell_type": "markdown",
      "metadata": {
        "id": "8Ug9onBEI6gy"
      },
      "source": [
        "Finally, we need to fiter the data to show use states where the running total is under the threshold and add one state above the threshold."
      ]
    },
    {
      "cell_type": "code",
      "metadata": {
        "colab": {
          "base_uri": "https://localhost:8080/"
        },
        "id": "A6loe30kIG9h",
        "outputId": "4651481e-ca33-4588-9cb4-53aacdd3a288"
      },
      "source": [
        "%%sql\n",
        "CREATE TABLE Priority_States AS\n",
        "SELECT State, GrandElectors, Ratio, Running_Total FROM US_Elections_Updated\n",
        "  WHERE Running_Total <= 269.0 OR Running_Total = 271;\n",
        "\n",
        "SELECT * FROM Priority_States;"
      ],
      "execution_count": null,
      "outputs": [
        {
          "output_type": "stream",
          "text": [
            " * sqlite://\n",
            "(sqlite3.OperationalError) no such table: US_Elections_Updated\n",
            "[SQL: CREATE TABLE Priority_States AS\n",
            "SELECT State, GrandElectors, Ratio, Running_Total FROM US_Elections_Updated\n",
            "  WHERE Running_Total <= 269.0 OR Running_Total = 271;]\n",
            "(Background on this error at: http://sqlalche.me/e/14/e3q8)\n"
          ],
          "name": "stdout"
        }
      ]
    },
    {
      "cell_type": "code",
      "metadata": {
        "colab": {
          "base_uri": "https://localhost:8080/",
          "height": 1000
        },
        "id": "jZY2RYG9uu9E",
        "outputId": "d9070f94-4493-4280-ee74-31adc1b6462b"
      },
      "source": [
        "# Ordering the top 10 priority states\n",
        "\n",
        "%%sql\n",
        "SELECT * FROM US_Elections \n",
        "ORDER BY Ratio DESC;"
      ],
      "execution_count": null,
      "outputs": [
        {
          "output_type": "stream",
          "text": [
            " * sqlite://\n",
            "Done.\n"
          ],
          "name": "stdout"
        },
        {
          "output_type": "execute_result",
          "data": {
            "text/html": [
              "<table>\n",
              "    <thead>\n",
              "        <tr>\n",
              "            <th>State</th>\n",
              "            <th>GrandElectors</th>\n",
              "            <th>Population</th>\n",
              "            <th>Ratio</th>\n",
              "        </tr>\n",
              "    </thead>\n",
              "    <tbody>\n",
              "        <tr>\n",
              "            <td>WYOMING</td>\n",
              "            <td>3</td>\n",
              "            <td>586107</td>\n",
              "            <td>5.118519314732634e-06</td>\n",
              "        </tr>\n",
              "        <tr>\n",
              "            <td>VERMONT</td>\n",
              "            <td>3</td>\n",
              "            <td>626042</td>\n",
              "            <td>4.792010759661493e-06</td>\n",
              "        </tr>\n",
              "        <tr>\n",
              "            <td>DC</td>\n",
              "            <td>3</td>\n",
              "            <td>672228</td>\n",
              "            <td>4.462771559649405e-06</td>\n",
              "        </tr>\n",
              "        <tr>\n",
              "            <td>ALASKA</td>\n",
              "            <td>3</td>\n",
              "            <td>738432</td>\n",
              "            <td>4.0626625065002604e-06</td>\n",
              "        </tr>\n",
              "        <tr>\n",
              "            <td>NORTH DAKOTA</td>\n",
              "            <td>3</td>\n",
              "            <td>756927</td>\n",
              "            <td>3.963394092164766e-06</td>\n",
              "        </tr>\n",
              "        <tr>\n",
              "            <td>RHODE ISLAND</td>\n",
              "            <td>4</td>\n",
              "            <td>1056298</td>\n",
              "            <td>3.7868101615263876e-06</td>\n",
              "        </tr>\n",
              "        <tr>\n",
              "            <td>SOUTH DAKOTA</td>\n",
              "            <td>3</td>\n",
              "            <td>858469</td>\n",
              "            <td>3.4945932817609025e-06</td>\n",
              "        </tr>\n",
              "        <tr>\n",
              "            <td>DELAWARE</td>\n",
              "            <td>3</td>\n",
              "            <td>945934</td>\n",
              "            <td>3.1714686225466047e-06</td>\n",
              "        </tr>\n",
              "        <tr>\n",
              "            <td>MAINE</td>\n",
              "            <td>4</td>\n",
              "            <td>1329328</td>\n",
              "            <td>3.009039153617467e-06</td>\n",
              "        </tr>\n",
              "        <tr>\n",
              "            <td>NEW HAMPSHIRE</td>\n",
              "            <td>4</td>\n",
              "            <td>1330608</td>\n",
              "            <td>3.0061445594795764e-06</td>\n",
              "        </tr>\n",
              "        <tr>\n",
              "            <td>MONTANA</td>\n",
              "            <td>3</td>\n",
              "            <td>1032949</td>\n",
              "            <td>2.904306020916812e-06</td>\n",
              "        </tr>\n",
              "        <tr>\n",
              "            <td>HAWAII</td>\n",
              "            <td>4</td>\n",
              "            <td>1431603</td>\n",
              "            <td>2.794070702562093e-06</td>\n",
              "        </tr>\n",
              "        <tr>\n",
              "            <td>WEST VIRGINIA</td>\n",
              "            <td>5</td>\n",
              "            <td>1844128</td>\n",
              "            <td>2.7113085425740512e-06</td>\n",
              "        </tr>\n",
              "        <tr>\n",
              "            <td>NEBRASKA</td>\n",
              "            <td>5</td>\n",
              "            <td>1896190</td>\n",
              "            <td>2.636866558730929e-06</td>\n",
              "        </tr>\n",
              "        <tr>\n",
              "            <td>IDAHO</td>\n",
              "            <td>4</td>\n",
              "            <td>1654930</td>\n",
              "            <td>2.417020659484087e-06</td>\n",
              "        </tr>\n",
              "        <tr>\n",
              "            <td>NEW MEXICO</td>\n",
              "            <td>5</td>\n",
              "            <td>2085109</td>\n",
              "            <td>2.3979561739937817e-06</td>\n",
              "        </tr>\n",
              "        <tr>\n",
              "            <td>NEVADA</td>\n",
              "            <td>6</td>\n",
              "            <td>2890845</td>\n",
              "            <td>2.0755177119492743e-06</td>\n",
              "        </tr>\n",
              "        <tr>\n",
              "            <td>KANSAS</td>\n",
              "            <td>6</td>\n",
              "            <td>2911641</td>\n",
              "            <td>2.0606936088618066e-06</td>\n",
              "        </tr>\n",
              "        <tr>\n",
              "            <td>ARKANSAS</td>\n",
              "            <td>6</td>\n",
              "            <td>2978204</td>\n",
              "            <td>2.0146370094190997e-06</td>\n",
              "        </tr>\n",
              "        <tr>\n",
              "            <td>MISSISSIPPI</td>\n",
              "            <td>6</td>\n",
              "            <td>2992333</td>\n",
              "            <td>2.00512442966742e-06</td>\n",
              "        </tr>\n",
              "        <tr>\n",
              "            <td>UTAH</td>\n",
              "            <td>6</td>\n",
              "            <td>2995919</td>\n",
              "            <td>2.0027243727216926e-06</td>\n",
              "        </tr>\n",
              "        <tr>\n",
              "            <td>CONNECTICUT</td>\n",
              "            <td>7</td>\n",
              "            <td>3590886</td>\n",
              "            <td>1.949379623858847e-06</td>\n",
              "        </tr>\n",
              "        <tr>\n",
              "            <td>IOWA</td>\n",
              "            <td>6</td>\n",
              "            <td>3123899</td>\n",
              "            <td>1.9206766928124116e-06</td>\n",
              "        </tr>\n",
              "        <tr>\n",
              "            <td>ALABAMA</td>\n",
              "            <td>9</td>\n",
              "            <td>4858979</td>\n",
              "            <td>1.8522409749043987e-06</td>\n",
              "        </tr>\n",
              "        <tr>\n",
              "            <td>SOUTH CAROLINA</td>\n",
              "            <td>9</td>\n",
              "            <td>4896146</td>\n",
              "            <td>1.8381804790951905e-06</td>\n",
              "        </tr>\n",
              "        <tr>\n",
              "            <td>MINNESOTA</td>\n",
              "            <td>10</td>\n",
              "            <td>5489594</td>\n",
              "            <td>1.8216283389992047e-06</td>\n",
              "        </tr>\n",
              "        <tr>\n",
              "            <td>KENTUCKY</td>\n",
              "            <td>8</td>\n",
              "            <td>4425092</td>\n",
              "            <td>1.8078720171241637e-06</td>\n",
              "        </tr>\n",
              "        <tr>\n",
              "            <td>OKLAHOMA</td>\n",
              "            <td>7</td>\n",
              "            <td>3911338</td>\n",
              "            <td>1.7896689061390246e-06</td>\n",
              "        </tr>\n",
              "        <tr>\n",
              "            <td>OREGON</td>\n",
              "            <td>7</td>\n",
              "            <td>4028977</td>\n",
              "            <td>1.7374137405103083e-06</td>\n",
              "        </tr>\n",
              "        <tr>\n",
              "            <td>WISCONSIN</td>\n",
              "            <td>10</td>\n",
              "            <td>5771337</td>\n",
              "            <td>1.7327007589402595e-06</td>\n",
              "        </tr>\n",
              "        <tr>\n",
              "            <td>LOUISIANA</td>\n",
              "            <td>8</td>\n",
              "            <td>4670724</td>\n",
              "            <td>1.712796560019389e-06</td>\n",
              "        </tr>\n",
              "        <tr>\n",
              "            <td>WASHINGTON</td>\n",
              "            <td>12</td>\n",
              "            <td>7170351</td>\n",
              "            <td>1.673558240035948e-06</td>\n",
              "        </tr>\n",
              "        <tr>\n",
              "            <td>TENNESSEE</td>\n",
              "            <td>11</td>\n",
              "            <td>6600299</td>\n",
              "            <td>1.6665911650366142e-06</td>\n",
              "        </tr>\n",
              "        <tr>\n",
              "            <td>MARYLAND</td>\n",
              "            <td>10</td>\n",
              "            <td>6006401</td>\n",
              "            <td>1.6648905059785385e-06</td>\n",
              "        </tr>\n",
              "        <tr>\n",
              "            <td>INDIANA</td>\n",
              "            <td>11</td>\n",
              "            <td>6619680</td>\n",
              "            <td>1.6617117443743504e-06</td>\n",
              "        </tr>\n",
              "        <tr>\n",
              "            <td>COLORADO</td>\n",
              "            <td>9</td>\n",
              "            <td>5456574</td>\n",
              "            <td>1.6493865931260165e-06</td>\n",
              "        </tr>\n",
              "        <tr>\n",
              "            <td>MISSOURI</td>\n",
              "            <td>10</td>\n",
              "            <td>6083672</td>\n",
              "            <td>1.6437441071773757e-06</td>\n",
              "        </tr>\n",
              "        <tr>\n",
              "            <td>MASSACHUSETTS</td>\n",
              "            <td>11</td>\n",
              "            <td>6794422</td>\n",
              "            <td>1.6189750945702225e-06</td>\n",
              "        </tr>\n",
              "        <tr>\n",
              "            <td>MICHIGAN</td>\n",
              "            <td>16</td>\n",
              "            <td>9922576</td>\n",
              "            <td>1.6124844999927438e-06</td>\n",
              "        </tr>\n",
              "        <tr>\n",
              "            <td>ARIZONA</td>\n",
              "            <td>11</td>\n",
              "            <td>6828065</td>\n",
              "            <td>1.610998137832607e-06</td>\n",
              "        </tr>\n",
              "        <tr>\n",
              "            <td>GEORGIA</td>\n",
              "            <td>16</td>\n",
              "            <td>10214860</td>\n",
              "            <td>1.566345500574653e-06</td>\n",
              "        </tr>\n",
              "        <tr>\n",
              "            <td>NEW JERSEY</td>\n",
              "            <td>14</td>\n",
              "            <td>8958013</td>\n",
              "            <td>1.562846582160575e-06</td>\n",
              "        </tr>\n",
              "        <tr>\n",
              "            <td>PENNSYLVANIA</td>\n",
              "            <td>20</td>\n",
              "            <td>12802503</td>\n",
              "            <td>1.562194517743913e-06</td>\n",
              "        </tr>\n",
              "        <tr>\n",
              "            <td>ILLINOIS</td>\n",
              "            <td>20</td>\n",
              "            <td>12859995</td>\n",
              "            <td>1.5552105580134362e-06</td>\n",
              "        </tr>\n",
              "        <tr>\n",
              "            <td>VIRGINIA</td>\n",
              "            <td>13</td>\n",
              "            <td>8382993</td>\n",
              "            <td>1.5507587803067473e-06</td>\n",
              "        </tr>\n",
              "        <tr>\n",
              "            <td>OHIO</td>\n",
              "            <td>18</td>\n",
              "            <td>11613423</td>\n",
              "            <td>1.5499306276883225e-06</td>\n",
              "        </tr>\n",
              "        <tr>\n",
              "            <td>NORTH CAROLINA</td>\n",
              "            <td>15</td>\n",
              "            <td>10042802</td>\n",
              "            <td>1.4936070630487388e-06</td>\n",
              "        </tr>\n",
              "        <tr>\n",
              "            <td>NEW YORK</td>\n",
              "            <td>29</td>\n",
              "            <td>19795791</td>\n",
              "            <td>1.4649578791774474e-06</td>\n",
              "        </tr>\n",
              "        <tr>\n",
              "            <td>FLORIDA</td>\n",
              "            <td>29</td>\n",
              "            <td>20271272</td>\n",
              "            <td>1.4305959685213637e-06</td>\n",
              "        </tr>\n",
              "        <tr>\n",
              "            <td>CALIFORNIA</td>\n",
              "            <td>55</td>\n",
              "            <td>39144818</td>\n",
              "            <td>1.4050391037710278e-06</td>\n",
              "        </tr>\n",
              "        <tr>\n",
              "            <td>TEXAS</td>\n",
              "            <td>38</td>\n",
              "            <td>27469114</td>\n",
              "            <td>1.3833718845099992e-06</td>\n",
              "        </tr>\n",
              "    </tbody>\n",
              "</table>"
            ],
            "text/plain": [
              "[('WYOMING', 3, 586107, 5.118519314732634e-06),\n",
              " ('VERMONT', 3, 626042, 4.792010759661493e-06),\n",
              " ('DC', 3, 672228, 4.462771559649405e-06),\n",
              " ('ALASKA', 3, 738432, 4.0626625065002604e-06),\n",
              " ('NORTH DAKOTA', 3, 756927, 3.963394092164766e-06),\n",
              " ('RHODE ISLAND', 4, 1056298, 3.7868101615263876e-06),\n",
              " ('SOUTH DAKOTA', 3, 858469, 3.4945932817609025e-06),\n",
              " ('DELAWARE', 3, 945934, 3.1714686225466047e-06),\n",
              " ('MAINE', 4, 1329328, 3.009039153617467e-06),\n",
              " ('NEW HAMPSHIRE', 4, 1330608, 3.0061445594795764e-06),\n",
              " ('MONTANA', 3, 1032949, 2.904306020916812e-06),\n",
              " ('HAWAII', 4, 1431603, 2.794070702562093e-06),\n",
              " ('WEST VIRGINIA', 5, 1844128, 2.7113085425740512e-06),\n",
              " ('NEBRASKA', 5, 1896190, 2.636866558730929e-06),\n",
              " ('IDAHO', 4, 1654930, 2.417020659484087e-06),\n",
              " ('NEW MEXICO', 5, 2085109, 2.3979561739937817e-06),\n",
              " ('NEVADA', 6, 2890845, 2.0755177119492743e-06),\n",
              " ('KANSAS', 6, 2911641, 2.0606936088618066e-06),\n",
              " ('ARKANSAS', 6, 2978204, 2.0146370094190997e-06),\n",
              " ('MISSISSIPPI', 6, 2992333, 2.00512442966742e-06),\n",
              " ('UTAH', 6, 2995919, 2.0027243727216926e-06),\n",
              " ('CONNECTICUT', 7, 3590886, 1.949379623858847e-06),\n",
              " ('IOWA', 6, 3123899, 1.9206766928124116e-06),\n",
              " ('ALABAMA', 9, 4858979, 1.8522409749043987e-06),\n",
              " ('SOUTH CAROLINA', 9, 4896146, 1.8381804790951905e-06),\n",
              " ('MINNESOTA', 10, 5489594, 1.8216283389992047e-06),\n",
              " ('KENTUCKY', 8, 4425092, 1.8078720171241637e-06),\n",
              " ('OKLAHOMA', 7, 3911338, 1.7896689061390246e-06),\n",
              " ('OREGON', 7, 4028977, 1.7374137405103083e-06),\n",
              " ('WISCONSIN', 10, 5771337, 1.7327007589402595e-06),\n",
              " ('LOUISIANA', 8, 4670724, 1.712796560019389e-06),\n",
              " ('WASHINGTON', 12, 7170351, 1.673558240035948e-06),\n",
              " ('TENNESSEE', 11, 6600299, 1.6665911650366142e-06),\n",
              " ('MARYLAND', 10, 6006401, 1.6648905059785385e-06),\n",
              " ('INDIANA', 11, 6619680, 1.6617117443743504e-06),\n",
              " ('COLORADO', 9, 5456574, 1.6493865931260165e-06),\n",
              " ('MISSOURI', 10, 6083672, 1.6437441071773757e-06),\n",
              " ('MASSACHUSETTS', 11, 6794422, 1.6189750945702225e-06),\n",
              " ('MICHIGAN', 16, 9922576, 1.6124844999927438e-06),\n",
              " ('ARIZONA', 11, 6828065, 1.610998137832607e-06),\n",
              " ('GEORGIA', 16, 10214860, 1.566345500574653e-06),\n",
              " ('NEW JERSEY', 14, 8958013, 1.562846582160575e-06),\n",
              " ('PENNSYLVANIA', 20, 12802503, 1.562194517743913e-06),\n",
              " ('ILLINOIS', 20, 12859995, 1.5552105580134362e-06),\n",
              " ('VIRGINIA', 13, 8382993, 1.5507587803067473e-06),\n",
              " ('OHIO', 18, 11613423, 1.5499306276883225e-06),\n",
              " ('NORTH CAROLINA', 15, 10042802, 1.4936070630487388e-06),\n",
              " ('NEW YORK', 29, 19795791, 1.4649578791774474e-06),\n",
              " ('FLORIDA', 29, 20271272, 1.4305959685213637e-06),\n",
              " ('CALIFORNIA', 55, 39144818, 1.4050391037710278e-06),\n",
              " ('TEXAS', 38, 27469114, 1.3833718845099992e-06)]"
            ]
          },
          "metadata": {
            "tags": []
          },
          "execution_count": 11
        }
      ]
    },
    {
      "cell_type": "code",
      "metadata": {
        "colab": {
          "base_uri": "https://localhost:8080/",
          "height": 95
        },
        "id": "cPWP_M_kKpwV",
        "outputId": "15094f64-17df-4a53-9138-00a8c0875d30"
      },
      "source": [
        "%%sql\n",
        "SELECT COUNT(*) FROM Priority_States"
      ],
      "execution_count": null,
      "outputs": [
        {
          "output_type": "stream",
          "text": [
            " * sqlite://\n",
            "Done.\n"
          ],
          "name": "stdout"
        },
        {
          "output_type": "execute_result",
          "data": {
            "text/html": [
              "<table>\n",
              "    <thead>\n",
              "        <tr>\n",
              "            <th>COUNT(*)</th>\n",
              "        </tr>\n",
              "    </thead>\n",
              "    <tbody>\n",
              "        <tr>\n",
              "            <td>40</td>\n",
              "        </tr>\n",
              "    </tbody>\n",
              "</table>"
            ],
            "text/plain": [
              "[(40,)]"
            ]
          },
          "metadata": {
            "tags": []
          },
          "execution_count": 15
        }
      ]
    },
    {
      "cell_type": "code",
      "metadata": {
        "id": "mbmzteF8Pf7j"
      },
      "source": [
        ""
      ],
      "execution_count": null,
      "outputs": []
    },
    {
      "cell_type": "code",
      "metadata": {
        "id": "K13682zLPhhl"
      },
      "source": [
        ""
      ],
      "execution_count": null,
      "outputs": []
    },
    {
      "cell_type": "markdown",
      "metadata": {
        "id": "6hfYtw6WKYzR"
      },
      "source": [
        "**Conclusions**\n",
        "\n",
        "\n",
        "\n",
        "1.   The campaign team should focus their efforts on the 40 most influential states in terms of grand electors per capita. \n",
        "2.   Winning majority local votes in these states will sway the elections in the candidates favour, giving him/her a good chance at winning the elections\n",
        "\n",
        "\n"
      ]
    }
  ]
}