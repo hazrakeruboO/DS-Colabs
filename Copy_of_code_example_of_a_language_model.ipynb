{
  "nbformat": 4,
  "nbformat_minor": 0,
  "metadata": {
    "colab": {
      "name": "Copy of code_example_of_a_language_model.ipynb",
      "provenance": [],
      "collapsed_sections": [],
      "include_colab_link": true
    },
    "kernelspec": {
      "name": "python3",
      "display_name": "Python 3"
    }
  },
  "cells": [
    {
      "cell_type": "markdown",
      "metadata": {
        "id": "view-in-github",
        "colab_type": "text"
      },
      "source": [
        "<a href=\"https://colab.research.google.com/github/hazrakeruboO/DS-Colabs/blob/main/Copy_of_code_example_of_a_language_model.ipynb\" target=\"_parent\"><img src=\"https://colab.research.google.com/assets/colab-badge.svg\" alt=\"Open In Colab\"/></a>"
      ]
    },
    {
      "cell_type": "markdown",
      "metadata": {
        "id": "aBqqNQdnJeJG"
      },
      "source": [
        "# Code example of text generator\n",
        "Adapted from: https://machinelearningmastery.com/how-to-develop-a-word-level-neural-language-model-in-keras/"
      ]
    },
    {
      "cell_type": "code",
      "metadata": {
        "id": "Zzn2TDE-g3KN"
      },
      "source": [
        "# Importing libraries needed for processing data\n",
        "import numpy as np\n",
        "import string as st\n",
        "import re\n",
        "from keras.preprocessing.text import Tokenizer\n",
        "from keras.utils import np_utils\n",
        "\n",
        "# Libraries needed for model building\n",
        "from keras.models import Sequential\n",
        "from keras.layers import Embedding\n",
        "from keras.layers import LSTM\n",
        "from keras.layers import RNN\n",
        "from keras.layers import Dense\n",
        "from keras.callbacks import ModelCheckpoint"
      ],
      "execution_count": null,
      "outputs": []
    },
    {
      "cell_type": "code",
      "metadata": {
        "colab": {
          "base_uri": "https://localhost:8080/",
          "height": 54
        },
        "id": "sWkWTjfUiV-I",
        "outputId": "797cb917-4c82-4747-9cad-24c2c676d9a0"
      },
      "source": [
        "# Initializing text, \"Corpus\"\n",
        "text = \"Students at AIMS have the best time in the world. For ten month, the get to sit and engage with the best minds and challenge their Mathematical thinking. They learn, work and best of all play.\"\n",
        "text"
      ],
      "execution_count": null,
      "outputs": [
        {
          "output_type": "execute_result",
          "data": {
            "application/vnd.google.colaboratory.intrinsic+json": {
              "type": "string"
            },
            "text/plain": [
              "'Students at AIMS have the best time in the world. For ten month, the get to sit and engage with the best minds and challenge their Mathematical thinking. They learn, work and best of all play.'"
            ]
          },
          "metadata": {
            "tags": []
          },
          "execution_count": 2
        }
      ]
    },
    {
      "cell_type": "code",
      "metadata": {
        "colab": {
          "base_uri": "https://localhost:8080/"
        },
        "id": "AgoWptlZj7GO",
        "outputId": "72a08fca-a93c-4169-fe0a-8b974b2910a6"
      },
      "source": [
        "# Removing punctuations\n",
        "text = re.sub(r'[^\\w\\s]', '', text) \n",
        "\n",
        "# Splitting the text\n",
        "tokens = text.lower().split()\n",
        "print(tokens)\n",
        "print(len(tokens))"
      ],
      "execution_count": null,
      "outputs": [
        {
          "output_type": "stream",
          "text": [
            "['students', 'at', 'aims', 'have', 'the', 'best', 'time', 'in', 'the', 'world', 'for', 'ten', 'month', 'the', 'get', 'to', 'sit', 'and', 'engage', 'with', 'the', 'best', 'minds', 'and', 'challenge', 'their', 'mathematical', 'thinking', 'they', 'learn', 'work', 'and', 'best', 'of', 'all', 'play']\n",
            "36\n"
          ],
          "name": "stdout"
        }
      ]
    },
    {
      "cell_type": "code",
      "metadata": {
        "colab": {
          "base_uri": "https://localhost:8080/"
        },
        "id": "9Ql-rf5EkMMP",
        "outputId": "12ef8e1f-35aa-4c16-a1ca-f919d3886b12"
      },
      "source": [
        "# Splitting into equal sequences\n",
        "length = 5\n",
        "lines = list()\n",
        "for i in range(length, len(tokens)):\n",
        "\t# select sequence of tokens\n",
        "\tseq = tokens[i-length:i]\n",
        "\t# convert into a line\n",
        "\tline = ' '.join(seq)\n",
        "\t# store\n",
        "\tlines.append(line)\n",
        "print('Total Sequences: %d' % len(lines))"
      ],
      "execution_count": null,
      "outputs": [
        {
          "output_type": "stream",
          "text": [
            "Total Sequences: 31\n"
          ],
          "name": "stdout"
        }
      ]
    },
    {
      "cell_type": "code",
      "metadata": {
        "id": "AdVgOmAQkNWf",
        "colab": {
          "base_uri": "https://localhost:8080/"
        },
        "outputId": "89a47478-8e27-4b73-c6c3-e068d4e1c0a1"
      },
      "source": [
        "# integer encode sequences of words\n",
        "tokenizer = Tokenizer()\n",
        "tokenizer.fit_on_texts(lines)\n",
        "sequences = tokenizer.texts_to_sequences(lines)\n",
        "sequences[0]"
      ],
      "execution_count": null,
      "outputs": [
        {
          "output_type": "execute_result",
          "data": {
            "text/plain": [
              "[27, 25, 24, 23, 1]"
            ]
          },
          "metadata": {
            "tags": []
          },
          "execution_count": 5
        }
      ]
    },
    {
      "cell_type": "code",
      "metadata": {
        "id": "s2kKWJzzy8VV"
      },
      "source": [
        "# vocabulary size\n",
        "vocab_size = len(tokenizer.word_index) + 1"
      ],
      "execution_count": null,
      "outputs": []
    },
    {
      "cell_type": "code",
      "metadata": {
        "id": "RhAgRwBjzK9_"
      },
      "source": [
        "# separate into input and output\n",
        "sequences = np.array(sequences)\n",
        "#X, y = sequences[:,:-1], sequences[:,-1]\n",
        "X, y = sequences,sequences[:,-1]\n",
        "y = np_utils.to_categorical(y, num_classes=vocab_size)\n",
        "seq_length = X.shape[1]"
      ],
      "execution_count": null,
      "outputs": []
    },
    {
      "cell_type": "code",
      "metadata": {
        "id": "Q3UvU-ZXzRf5"
      },
      "source": [
        "# define the LSTM model\n",
        "model = Sequential()\n",
        "model.add(Embedding(vocab_size, 5, input_length=seq_length))\n",
        "model.add(LSTM(10, return_sequences=True))\n",
        "model.add(LSTM(10))\n",
        "model.add(Dense(10, activation='relu'))\n",
        "model.add(Dense(vocab_size, activation='softmax'))\n",
        "# compile model\n",
        "model.compile(loss='categorical_crossentropy', optimizer='adam', metrics=['accuracy'])"
      ],
      "execution_count": null,
      "outputs": []
    },
    {
      "cell_type": "code",
      "metadata": {
        "colab": {
          "base_uri": "https://localhost:8080/"
        },
        "id": "gg5hLBaWzYx0",
        "outputId": "4193976a-7ee7-4e17-c110-47ac96827987"
      },
      "source": [
        "model.summary()"
      ],
      "execution_count": null,
      "outputs": [
        {
          "output_type": "stream",
          "text": [
            "Model: \"sequential\"\n",
            "_________________________________________________________________\n",
            "Layer (type)                 Output Shape              Param #   \n",
            "=================================================================\n",
            "embedding (Embedding)        (None, 5, 5)              145       \n",
            "_________________________________________________________________\n",
            "lstm (LSTM)                  (None, 5, 10)             640       \n",
            "_________________________________________________________________\n",
            "lstm_1 (LSTM)                (None, 10)                840       \n",
            "_________________________________________________________________\n",
            "dense (Dense)                (None, 10)                110       \n",
            "_________________________________________________________________\n",
            "dense_1 (Dense)              (None, 29)                319       \n",
            "=================================================================\n",
            "Total params: 2,054\n",
            "Trainable params: 2,054\n",
            "Non-trainable params: 0\n",
            "_________________________________________________________________\n"
          ],
          "name": "stdout"
        }
      ]
    },
    {
      "cell_type": "code",
      "metadata": {
        "id": "MAjTxQphEh_Q"
      },
      "source": [
        "# model = Sequential()\n",
        "# model.add(Embedding(vocab_size, 1, input_length=seq_length))\n",
        "# model.add(LSTM(3, return_sequences=True))\n",
        "# model.add(LSTM(3))\n",
        "# #model.add(Dense(3, activation='relu'))\n",
        "# model.add(Dense(vocab_size, activation='softmax'))\n",
        "# # compile model\n",
        "# model.compile(loss='categorical_crossentropy', optimizer='adam', metrics=['accuracy'])"
      ],
      "execution_count": null,
      "outputs": []
    },
    {
      "cell_type": "code",
      "metadata": {
        "colab": {
          "base_uri": "https://localhost:8080/"
        },
        "id": "qLSloO6fz-jS",
        "outputId": "362f5f15-4886-416a-cc1d-4dce35101f77"
      },
      "source": [
        "# fit model\n",
        "model.fit(X, y, batch_size=1, epochs=200, verbose=1)"
      ],
      "execution_count": null,
      "outputs": [
        {
          "output_type": "stream",
          "text": [
            "Epoch 1/200\n",
            "31/31 [==============================] - 21s 5ms/step - loss: 3.3686 - accuracy: 0.0233\n",
            "Epoch 2/200\n",
            "31/31 [==============================] - 0s 5ms/step - loss: 3.3619 - accuracy: 0.0404\n",
            "Epoch 3/200\n",
            "31/31 [==============================] - 0s 5ms/step - loss: 3.3541 - accuracy: 0.0583\n",
            "Epoch 4/200\n",
            "31/31 [==============================] - 0s 5ms/step - loss: 3.3448 - accuracy: 0.1882\n",
            "Epoch 5/200\n",
            "31/31 [==============================] - 0s 5ms/step - loss: 3.3354 - accuracy: 0.0802\n",
            "Epoch 6/200\n",
            "31/31 [==============================] - 0s 5ms/step - loss: 3.3388 - accuracy: 0.0555\n",
            "Epoch 7/200\n",
            "31/31 [==============================] - 0s 4ms/step - loss: 3.3295 - accuracy: 0.0945\n",
            "Epoch 8/200\n",
            "31/31 [==============================] - 0s 5ms/step - loss: 3.3229 - accuracy: 0.1370\n",
            "Epoch 9/200\n",
            "31/31 [==============================] - 0s 5ms/step - loss: 3.2914 - accuracy: 0.1783\n",
            "Epoch 10/200\n",
            "31/31 [==============================] - 0s 5ms/step - loss: 3.3194 - accuracy: 0.0394\n",
            "Epoch 11/200\n",
            "31/31 [==============================] - 0s 5ms/step - loss: 3.2725 - accuracy: 0.0669\n",
            "Epoch 12/200\n",
            "31/31 [==============================] - 0s 4ms/step - loss: 3.1760 - accuracy: 0.0965\n",
            "Epoch 13/200\n",
            "31/31 [==============================] - 0s 5ms/step - loss: 3.1149 - accuracy: 0.1193\n",
            "Epoch 14/200\n",
            "31/31 [==============================] - 0s 5ms/step - loss: 3.1097 - accuracy: 0.1344\n",
            "Epoch 15/200\n",
            "31/31 [==============================] - 0s 5ms/step - loss: 2.9074 - accuracy: 0.2263\n",
            "Epoch 16/200\n",
            "31/31 [==============================] - 0s 6ms/step - loss: 2.9987 - accuracy: 0.1176\n",
            "Epoch 17/200\n",
            "31/31 [==============================] - 0s 6ms/step - loss: 2.9770 - accuracy: 0.2421\n",
            "Epoch 18/200\n",
            "31/31 [==============================] - 0s 5ms/step - loss: 3.0813 - accuracy: 0.0839\n",
            "Epoch 19/200\n",
            "31/31 [==============================] - 0s 5ms/step - loss: 2.9176 - accuracy: 0.2806\n",
            "Epoch 20/200\n",
            "31/31 [==============================] - 0s 5ms/step - loss: 3.0885 - accuracy: 0.0591\n",
            "Epoch 21/200\n",
            "31/31 [==============================] - 0s 5ms/step - loss: 3.0043 - accuracy: 0.0673\n",
            "Epoch 22/200\n",
            "31/31 [==============================] - 0s 4ms/step - loss: 2.8712 - accuracy: 0.1716\n",
            "Epoch 23/200\n",
            "31/31 [==============================] - 0s 4ms/step - loss: 2.5829 - accuracy: 0.1911\n",
            "Epoch 24/200\n",
            "31/31 [==============================] - 0s 5ms/step - loss: 2.5793 - accuracy: 0.2662\n",
            "Epoch 25/200\n",
            "31/31 [==============================] - 0s 4ms/step - loss: 2.7926 - accuracy: 0.0913\n",
            "Epoch 26/200\n",
            "31/31 [==============================] - 0s 4ms/step - loss: 2.6434 - accuracy: 0.2316\n",
            "Epoch 27/200\n",
            "31/31 [==============================] - 0s 4ms/step - loss: 2.4217 - accuracy: 0.2662\n",
            "Epoch 28/200\n",
            "31/31 [==============================] - 0s 5ms/step - loss: 2.5618 - accuracy: 0.1366\n",
            "Epoch 29/200\n",
            "31/31 [==============================] - 0s 5ms/step - loss: 2.4718 - accuracy: 0.2412\n",
            "Epoch 30/200\n",
            "31/31 [==============================] - 0s 5ms/step - loss: 2.5900 - accuracy: 0.1729\n",
            "Epoch 31/200\n",
            "31/31 [==============================] - 0s 5ms/step - loss: 2.4634 - accuracy: 0.2137\n",
            "Epoch 32/200\n",
            "31/31 [==============================] - 0s 4ms/step - loss: 2.3967 - accuracy: 0.1742\n",
            "Epoch 33/200\n",
            "31/31 [==============================] - 0s 4ms/step - loss: 2.4685 - accuracy: 0.0857\n",
            "Epoch 34/200\n",
            "31/31 [==============================] - 0s 4ms/step - loss: 2.5365 - accuracy: 0.1190\n",
            "Epoch 35/200\n",
            "31/31 [==============================] - 0s 5ms/step - loss: 2.4787 - accuracy: 0.2449\n",
            "Epoch 36/200\n",
            "31/31 [==============================] - 0s 5ms/step - loss: 2.5124 - accuracy: 0.1649\n",
            "Epoch 37/200\n",
            "31/31 [==============================] - 0s 6ms/step - loss: 2.5082 - accuracy: 0.2218\n",
            "Epoch 38/200\n",
            "31/31 [==============================] - 0s 5ms/step - loss: 2.4575 - accuracy: 0.1665\n",
            "Epoch 39/200\n",
            "31/31 [==============================] - 0s 5ms/step - loss: 2.5048 - accuracy: 0.1911\n",
            "Epoch 40/200\n",
            "31/31 [==============================] - 0s 5ms/step - loss: 2.5244 - accuracy: 0.1345\n",
            "Epoch 41/200\n",
            "31/31 [==============================] - 0s 5ms/step - loss: 2.4385 - accuracy: 0.0927\n",
            "Epoch 42/200\n",
            "31/31 [==============================] - 0s 6ms/step - loss: 2.3120 - accuracy: 0.1163\n",
            "Epoch 43/200\n",
            "31/31 [==============================] - 0s 6ms/step - loss: 2.2082 - accuracy: 0.2605\n",
            "Epoch 44/200\n",
            "31/31 [==============================] - 0s 6ms/step - loss: 2.3543 - accuracy: 0.1771\n",
            "Epoch 45/200\n",
            "31/31 [==============================] - 0s 6ms/step - loss: 2.3045 - accuracy: 0.2054\n",
            "Epoch 46/200\n",
            "31/31 [==============================] - 0s 6ms/step - loss: 2.2791 - accuracy: 0.2660\n",
            "Epoch 47/200\n",
            "31/31 [==============================] - 0s 6ms/step - loss: 2.2872 - accuracy: 0.1265\n",
            "Epoch 48/200\n",
            "31/31 [==============================] - 0s 5ms/step - loss: 1.9089 - accuracy: 0.4690\n",
            "Epoch 49/200\n",
            "31/31 [==============================] - 0s 6ms/step - loss: 2.1113 - accuracy: 0.1826\n",
            "Epoch 50/200\n",
            "31/31 [==============================] - 0s 5ms/step - loss: 2.0010 - accuracy: 0.3394\n",
            "Epoch 51/200\n",
            "31/31 [==============================] - 0s 5ms/step - loss: 1.9854 - accuracy: 0.3699\n",
            "Epoch 52/200\n",
            "31/31 [==============================] - 0s 6ms/step - loss: 1.9503 - accuracy: 0.2425\n",
            "Epoch 53/200\n",
            "31/31 [==============================] - 0s 5ms/step - loss: 2.1063 - accuracy: 0.1499\n",
            "Epoch 54/200\n",
            "31/31 [==============================] - 0s 6ms/step - loss: 2.0664 - accuracy: 0.2791\n",
            "Epoch 55/200\n",
            "31/31 [==============================] - 0s 5ms/step - loss: 1.8729 - accuracy: 0.2171\n",
            "Epoch 56/200\n",
            "31/31 [==============================] - 0s 5ms/step - loss: 1.8220 - accuracy: 0.4136\n",
            "Epoch 57/200\n",
            "31/31 [==============================] - 0s 5ms/step - loss: 1.9889 - accuracy: 0.3273\n",
            "Epoch 58/200\n",
            "31/31 [==============================] - 0s 5ms/step - loss: 2.0543 - accuracy: 0.1924\n",
            "Epoch 59/200\n",
            "31/31 [==============================] - 0s 5ms/step - loss: 1.8204 - accuracy: 0.3502\n",
            "Epoch 60/200\n",
            "31/31 [==============================] - 0s 6ms/step - loss: 1.7263 - accuracy: 0.2536\n",
            "Epoch 61/200\n",
            "31/31 [==============================] - 0s 6ms/step - loss: 1.7334 - accuracy: 0.3011\n",
            "Epoch 62/200\n",
            "31/31 [==============================] - 0s 5ms/step - loss: 1.8595 - accuracy: 0.3156\n",
            "Epoch 63/200\n",
            "31/31 [==============================] - 0s 6ms/step - loss: 1.5898 - accuracy: 0.4444\n",
            "Epoch 64/200\n",
            "31/31 [==============================] - 0s 6ms/step - loss: 1.9822 - accuracy: 0.4297\n",
            "Epoch 65/200\n",
            "31/31 [==============================] - 0s 6ms/step - loss: 1.8569 - accuracy: 0.2696\n",
            "Epoch 66/200\n",
            "31/31 [==============================] - 0s 6ms/step - loss: 1.5724 - accuracy: 0.4454\n",
            "Epoch 67/200\n",
            "31/31 [==============================] - 0s 6ms/step - loss: 1.6660 - accuracy: 0.5086\n",
            "Epoch 68/200\n",
            "31/31 [==============================] - 0s 6ms/step - loss: 1.5758 - accuracy: 0.4742\n",
            "Epoch 69/200\n",
            "31/31 [==============================] - 0s 5ms/step - loss: 1.6046 - accuracy: 0.4468\n",
            "Epoch 70/200\n",
            "31/31 [==============================] - 0s 5ms/step - loss: 1.6882 - accuracy: 0.4337\n",
            "Epoch 71/200\n",
            "31/31 [==============================] - 0s 5ms/step - loss: 1.6230 - accuracy: 0.3796\n",
            "Epoch 72/200\n",
            "31/31 [==============================] - 0s 5ms/step - loss: 1.6433 - accuracy: 0.3087\n",
            "Epoch 73/200\n",
            "31/31 [==============================] - 0s 5ms/step - loss: 1.4122 - accuracy: 0.4777\n",
            "Epoch 74/200\n",
            "31/31 [==============================] - 0s 5ms/step - loss: 1.5296 - accuracy: 0.4865\n",
            "Epoch 75/200\n",
            "31/31 [==============================] - 0s 5ms/step - loss: 1.4693 - accuracy: 0.3776\n",
            "Epoch 76/200\n",
            "31/31 [==============================] - 0s 5ms/step - loss: 1.5040 - accuracy: 0.3375\n",
            "Epoch 77/200\n",
            "31/31 [==============================] - 0s 5ms/step - loss: 1.4539 - accuracy: 0.4837\n",
            "Epoch 78/200\n",
            "31/31 [==============================] - 0s 5ms/step - loss: 1.4712 - accuracy: 0.4357\n",
            "Epoch 79/200\n",
            "31/31 [==============================] - 0s 5ms/step - loss: 1.5930 - accuracy: 0.4090\n",
            "Epoch 80/200\n",
            "31/31 [==============================] - 0s 5ms/step - loss: 1.6275 - accuracy: 0.3720\n",
            "Epoch 81/200\n",
            "31/31 [==============================] - 0s 6ms/step - loss: 1.5764 - accuracy: 0.4675\n",
            "Epoch 82/200\n",
            "31/31 [==============================] - 0s 5ms/step - loss: 1.4073 - accuracy: 0.4567\n",
            "Epoch 83/200\n",
            "31/31 [==============================] - 0s 6ms/step - loss: 1.5292 - accuracy: 0.3997\n",
            "Epoch 84/200\n",
            "31/31 [==============================] - 0s 5ms/step - loss: 1.4023 - accuracy: 0.6872\n",
            "Epoch 85/200\n",
            "31/31 [==============================] - 0s 5ms/step - loss: 1.4457 - accuracy: 0.5777\n",
            "Epoch 86/200\n",
            "31/31 [==============================] - 0s 5ms/step - loss: 1.3605 - accuracy: 0.5850\n",
            "Epoch 87/200\n",
            "31/31 [==============================] - 0s 6ms/step - loss: 1.5283 - accuracy: 0.4381\n",
            "Epoch 88/200\n",
            "31/31 [==============================] - 0s 6ms/step - loss: 1.3901 - accuracy: 0.3504\n",
            "Epoch 89/200\n",
            "31/31 [==============================] - 0s 5ms/step - loss: 1.3469 - accuracy: 0.6331\n",
            "Epoch 90/200\n",
            "31/31 [==============================] - 0s 6ms/step - loss: 1.3602 - accuracy: 0.3904\n",
            "Epoch 91/200\n",
            "31/31 [==============================] - 0s 6ms/step - loss: 1.4853 - accuracy: 0.4520\n",
            "Epoch 92/200\n",
            "31/31 [==============================] - 0s 5ms/step - loss: 1.4431 - accuracy: 0.5552\n",
            "Epoch 93/200\n",
            "31/31 [==============================] - 0s 5ms/step - loss: 1.3430 - accuracy: 0.5326\n",
            "Epoch 94/200\n",
            "31/31 [==============================] - 0s 5ms/step - loss: 1.2387 - accuracy: 0.5161\n",
            "Epoch 95/200\n",
            "31/31 [==============================] - 0s 5ms/step - loss: 1.3687 - accuracy: 0.5979\n",
            "Epoch 96/200\n",
            "31/31 [==============================] - 0s 5ms/step - loss: 1.3293 - accuracy: 0.5382\n",
            "Epoch 97/200\n",
            "31/31 [==============================] - 0s 5ms/step - loss: 1.1292 - accuracy: 0.7001\n",
            "Epoch 98/200\n",
            "31/31 [==============================] - 0s 6ms/step - loss: 1.0710 - accuracy: 0.7061\n",
            "Epoch 99/200\n",
            "31/31 [==============================] - 0s 5ms/step - loss: 1.2237 - accuracy: 0.6095\n",
            "Epoch 100/200\n",
            "31/31 [==============================] - 0s 5ms/step - loss: 1.3438 - accuracy: 0.4582\n",
            "Epoch 101/200\n",
            "31/31 [==============================] - 0s 5ms/step - loss: 1.2866 - accuracy: 0.5055\n",
            "Epoch 102/200\n",
            "31/31 [==============================] - 0s 6ms/step - loss: 1.3121 - accuracy: 0.5273\n",
            "Epoch 103/200\n",
            "31/31 [==============================] - 0s 5ms/step - loss: 1.2201 - accuracy: 0.7415\n",
            "Epoch 104/200\n",
            "31/31 [==============================] - 0s 5ms/step - loss: 1.1278 - accuracy: 0.6029\n",
            "Epoch 105/200\n",
            "31/31 [==============================] - 0s 5ms/step - loss: 1.2232 - accuracy: 0.6146\n",
            "Epoch 106/200\n",
            "31/31 [==============================] - 0s 4ms/step - loss: 1.1554 - accuracy: 0.6683\n",
            "Epoch 107/200\n",
            "31/31 [==============================] - 0s 5ms/step - loss: 1.1917 - accuracy: 0.5298\n",
            "Epoch 108/200\n",
            "31/31 [==============================] - 0s 6ms/step - loss: 1.1695 - accuracy: 0.7409\n",
            "Epoch 109/200\n",
            "31/31 [==============================] - 0s 6ms/step - loss: 1.2994 - accuracy: 0.5499\n",
            "Epoch 110/200\n",
            "31/31 [==============================] - 0s 5ms/step - loss: 1.1183 - accuracy: 0.6562\n",
            "Epoch 111/200\n",
            "31/31 [==============================] - 0s 5ms/step - loss: 1.3183 - accuracy: 0.5212\n",
            "Epoch 112/200\n",
            "31/31 [==============================] - 0s 5ms/step - loss: 1.1928 - accuracy: 0.7038\n",
            "Epoch 113/200\n",
            "31/31 [==============================] - 0s 6ms/step - loss: 1.1434 - accuracy: 0.7935\n",
            "Epoch 114/200\n",
            "31/31 [==============================] - 0s 5ms/step - loss: 1.1629 - accuracy: 0.7184\n",
            "Epoch 115/200\n",
            "31/31 [==============================] - 0s 5ms/step - loss: 1.2051 - accuracy: 0.4785\n",
            "Epoch 116/200\n",
            "31/31 [==============================] - 0s 5ms/step - loss: 1.2386 - accuracy: 0.5533\n",
            "Epoch 117/200\n",
            "31/31 [==============================] - 0s 6ms/step - loss: 1.2853 - accuracy: 0.6129\n",
            "Epoch 118/200\n",
            "31/31 [==============================] - 0s 6ms/step - loss: 1.0950 - accuracy: 0.5044\n",
            "Epoch 119/200\n",
            "31/31 [==============================] - 0s 5ms/step - loss: 1.1692 - accuracy: 0.4757\n",
            "Epoch 120/200\n",
            "31/31 [==============================] - 0s 5ms/step - loss: 1.1420 - accuracy: 0.4543\n",
            "Epoch 121/200\n",
            "31/31 [==============================] - 0s 5ms/step - loss: 1.2150 - accuracy: 0.5612\n",
            "Epoch 122/200\n",
            "31/31 [==============================] - 0s 5ms/step - loss: 1.1390 - accuracy: 0.4904\n",
            "Epoch 123/200\n",
            "31/31 [==============================] - 0s 5ms/step - loss: 1.1731 - accuracy: 0.5458\n",
            "Epoch 124/200\n",
            "31/31 [==============================] - 0s 5ms/step - loss: 1.0921 - accuracy: 0.6732\n",
            "Epoch 125/200\n",
            "31/31 [==============================] - 0s 5ms/step - loss: 1.0467 - accuracy: 0.7647\n",
            "Epoch 126/200\n",
            "31/31 [==============================] - 0s 5ms/step - loss: 1.1844 - accuracy: 0.5949\n",
            "Epoch 127/200\n",
            "31/31 [==============================] - 0s 6ms/step - loss: 0.9735 - accuracy: 0.6015\n",
            "Epoch 128/200\n",
            "31/31 [==============================] - 0s 5ms/step - loss: 1.0060 - accuracy: 0.6938\n",
            "Epoch 129/200\n",
            "31/31 [==============================] - 0s 5ms/step - loss: 0.9789 - accuracy: 0.8307\n",
            "Epoch 130/200\n",
            "31/31 [==============================] - 0s 5ms/step - loss: 1.0073 - accuracy: 0.6411\n",
            "Epoch 131/200\n",
            "31/31 [==============================] - 0s 6ms/step - loss: 0.9925 - accuracy: 0.7771\n",
            "Epoch 132/200\n",
            "31/31 [==============================] - 0s 5ms/step - loss: 1.0583 - accuracy: 0.8139\n",
            "Epoch 133/200\n",
            "31/31 [==============================] - 0s 5ms/step - loss: 0.9854 - accuracy: 0.6013\n",
            "Epoch 134/200\n",
            "31/31 [==============================] - 0s 6ms/step - loss: 1.1671 - accuracy: 0.6011\n",
            "Epoch 135/200\n",
            "31/31 [==============================] - 0s 5ms/step - loss: 1.1636 - accuracy: 0.6133\n",
            "Epoch 136/200\n",
            "31/31 [==============================] - 0s 5ms/step - loss: 1.1161 - accuracy: 0.6854\n",
            "Epoch 137/200\n",
            "31/31 [==============================] - 0s 5ms/step - loss: 0.9018 - accuracy: 0.6091\n",
            "Epoch 138/200\n",
            "31/31 [==============================] - 0s 5ms/step - loss: 1.0172 - accuracy: 0.6401\n",
            "Epoch 139/200\n",
            "31/31 [==============================] - 0s 5ms/step - loss: 0.9832 - accuracy: 0.7766\n",
            "Epoch 140/200\n",
            "31/31 [==============================] - 0s 5ms/step - loss: 1.1468 - accuracy: 0.6120\n",
            "Epoch 141/200\n",
            "31/31 [==============================] - 0s 5ms/step - loss: 0.9452 - accuracy: 0.7182\n",
            "Epoch 142/200\n",
            "31/31 [==============================] - 0s 5ms/step - loss: 1.0388 - accuracy: 0.6093\n",
            "Epoch 143/200\n",
            "31/31 [==============================] - 0s 6ms/step - loss: 0.9741 - accuracy: 0.7275\n",
            "Epoch 144/200\n",
            "31/31 [==============================] - 0s 5ms/step - loss: 1.0090 - accuracy: 0.5830\n",
            "Epoch 145/200\n",
            "31/31 [==============================] - 0s 5ms/step - loss: 0.9868 - accuracy: 0.6726\n",
            "Epoch 146/200\n",
            "31/31 [==============================] - 0s 5ms/step - loss: 1.1220 - accuracy: 0.7170\n",
            "Epoch 147/200\n",
            "31/31 [==============================] - 0s 6ms/step - loss: 1.1036 - accuracy: 0.5846\n",
            "Epoch 148/200\n",
            "31/31 [==============================] - 0s 6ms/step - loss: 0.9948 - accuracy: 0.8350\n",
            "Epoch 149/200\n",
            "31/31 [==============================] - 0s 5ms/step - loss: 0.9599 - accuracy: 0.6735\n",
            "Epoch 150/200\n",
            "31/31 [==============================] - 0s 5ms/step - loss: 0.9624 - accuracy: 0.7787\n",
            "Epoch 151/200\n",
            "31/31 [==============================] - 0s 6ms/step - loss: 0.9129 - accuracy: 0.8002\n",
            "Epoch 152/200\n",
            "31/31 [==============================] - 0s 6ms/step - loss: 1.0381 - accuracy: 0.5089\n",
            "Epoch 153/200\n",
            "31/31 [==============================] - 0s 5ms/step - loss: 0.8505 - accuracy: 0.7466\n",
            "Epoch 154/200\n",
            "31/31 [==============================] - 0s 5ms/step - loss: 0.8412 - accuracy: 0.8206\n",
            "Epoch 155/200\n",
            "31/31 [==============================] - 0s 4ms/step - loss: 0.8605 - accuracy: 0.7916\n",
            "Epoch 156/200\n",
            "31/31 [==============================] - 0s 5ms/step - loss: 0.9596 - accuracy: 0.6599\n",
            "Epoch 157/200\n",
            "31/31 [==============================] - 0s 4ms/step - loss: 1.1056 - accuracy: 0.5951\n",
            "Epoch 158/200\n",
            "31/31 [==============================] - 0s 5ms/step - loss: 1.0704 - accuracy: 0.5890\n",
            "Epoch 159/200\n",
            "31/31 [==============================] - 0s 5ms/step - loss: 0.9682 - accuracy: 0.6173\n",
            "Epoch 160/200\n",
            "31/31 [==============================] - 0s 6ms/step - loss: 0.6427 - accuracy: 0.8760\n",
            "Epoch 161/200\n",
            "31/31 [==============================] - 0s 5ms/step - loss: 0.7876 - accuracy: 0.7609\n",
            "Epoch 162/200\n",
            "31/31 [==============================] - 0s 4ms/step - loss: 0.9884 - accuracy: 0.5932\n",
            "Epoch 163/200\n",
            "31/31 [==============================] - 0s 5ms/step - loss: 0.9020 - accuracy: 0.8006\n",
            "Epoch 164/200\n",
            "31/31 [==============================] - 0s 5ms/step - loss: 0.9742 - accuracy: 0.7124\n",
            "Epoch 165/200\n",
            "31/31 [==============================] - 0s 4ms/step - loss: 0.8955 - accuracy: 0.6837\n",
            "Epoch 166/200\n",
            "31/31 [==============================] - 0s 4ms/step - loss: 0.6746 - accuracy: 0.8913\n",
            "Epoch 167/200\n",
            "31/31 [==============================] - 0s 6ms/step - loss: 0.7927 - accuracy: 0.7344\n",
            "Epoch 168/200\n",
            "31/31 [==============================] - 0s 6ms/step - loss: 0.8973 - accuracy: 0.7940\n",
            "Epoch 169/200\n",
            "31/31 [==============================] - 0s 6ms/step - loss: 0.9335 - accuracy: 0.6451\n",
            "Epoch 170/200\n",
            "31/31 [==============================] - 0s 6ms/step - loss: 0.7108 - accuracy: 0.8450\n",
            "Epoch 171/200\n",
            "31/31 [==============================] - 0s 6ms/step - loss: 0.8891 - accuracy: 0.7160\n",
            "Epoch 172/200\n",
            "31/31 [==============================] - 0s 6ms/step - loss: 1.0821 - accuracy: 0.6090\n",
            "Epoch 173/200\n",
            "31/31 [==============================] - 0s 5ms/step - loss: 0.7303 - accuracy: 0.7817\n",
            "Epoch 174/200\n",
            "31/31 [==============================] - 0s 5ms/step - loss: 0.8255 - accuracy: 0.7761\n",
            "Epoch 175/200\n",
            "31/31 [==============================] - 0s 5ms/step - loss: 0.9075 - accuracy: 0.7015\n",
            "Epoch 176/200\n",
            "31/31 [==============================] - 0s 5ms/step - loss: 0.7115 - accuracy: 0.8066\n",
            "Epoch 177/200\n",
            "31/31 [==============================] - 0s 5ms/step - loss: 0.6931 - accuracy: 0.8561\n",
            "Epoch 178/200\n",
            "31/31 [==============================] - 0s 6ms/step - loss: 1.0245 - accuracy: 0.6543\n",
            "Epoch 179/200\n",
            "31/31 [==============================] - 0s 6ms/step - loss: 0.6763 - accuracy: 0.8383\n",
            "Epoch 180/200\n",
            "31/31 [==============================] - 0s 5ms/step - loss: 0.7627 - accuracy: 0.7536\n",
            "Epoch 181/200\n",
            "31/31 [==============================] - 0s 6ms/step - loss: 0.8633 - accuracy: 0.7787\n",
            "Epoch 182/200\n",
            "31/31 [==============================] - 0s 5ms/step - loss: 1.0139 - accuracy: 0.6883\n",
            "Epoch 183/200\n",
            "31/31 [==============================] - 0s 5ms/step - loss: 0.9079 - accuracy: 0.7061\n",
            "Epoch 184/200\n",
            "31/31 [==============================] - 0s 6ms/step - loss: 1.0200 - accuracy: 0.6233\n",
            "Epoch 185/200\n",
            "31/31 [==============================] - 0s 5ms/step - loss: 0.6536 - accuracy: 0.9064\n",
            "Epoch 186/200\n",
            "31/31 [==============================] - 0s 6ms/step - loss: 0.8500 - accuracy: 0.7338\n",
            "Epoch 187/200\n",
            "31/31 [==============================] - 0s 5ms/step - loss: 0.8371 - accuracy: 0.7506\n",
            "Epoch 188/200\n",
            "31/31 [==============================] - 0s 6ms/step - loss: 0.6379 - accuracy: 0.8521\n",
            "Epoch 189/200\n",
            "31/31 [==============================] - 0s 6ms/step - loss: 0.7514 - accuracy: 0.7975\n",
            "Epoch 190/200\n",
            "31/31 [==============================] - 0s 6ms/step - loss: 0.8146 - accuracy: 0.7377\n",
            "Epoch 191/200\n",
            "31/31 [==============================] - 0s 5ms/step - loss: 0.8073 - accuracy: 0.7491\n",
            "Epoch 192/200\n",
            "31/31 [==============================] - 0s 5ms/step - loss: 0.5618 - accuracy: 0.8685\n",
            "Epoch 193/200\n",
            "31/31 [==============================] - 0s 5ms/step - loss: 0.8334 - accuracy: 0.8087\n",
            "Epoch 194/200\n",
            "31/31 [==============================] - 0s 5ms/step - loss: 0.6064 - accuracy: 0.8696\n",
            "Epoch 195/200\n",
            "31/31 [==============================] - 0s 5ms/step - loss: 0.6657 - accuracy: 0.8827\n",
            "Epoch 196/200\n",
            "31/31 [==============================] - 0s 5ms/step - loss: 0.8215 - accuracy: 0.7165\n",
            "Epoch 197/200\n",
            "31/31 [==============================] - 0s 5ms/step - loss: 0.5569 - accuracy: 0.8837\n",
            "Epoch 198/200\n",
            "31/31 [==============================] - 0s 6ms/step - loss: 0.6934 - accuracy: 0.8736\n",
            "Epoch 199/200\n",
            "31/31 [==============================] - 0s 6ms/step - loss: 0.7535 - accuracy: 0.8232\n",
            "Epoch 200/200\n",
            "31/31 [==============================] - 0s 6ms/step - loss: 0.7141 - accuracy: 0.7986\n"
          ],
          "name": "stdout"
        },
        {
          "output_type": "execute_result",
          "data": {
            "text/plain": [
              "<keras.callbacks.History at 0x7f8c53753e90>"
            ]
          },
          "metadata": {
            "tags": []
          },
          "execution_count": 10
        }
      ]
    },
    {
      "cell_type": "code",
      "metadata": {
        "id": "JL5gymybC6B0"
      },
      "source": [
        "# save the model to file\n",
        "model.save('model.h5')\n",
        "# save the tokenizer\n",
        "import pickle\n",
        "\n",
        "# saving\n",
        "with open('tokenizer.pickle', 'wb') as handle:\n",
        "    pickle.dump(tokenizer, handle, protocol=pickle.HIGHEST_PROTOCOL)"
      ],
      "execution_count": null,
      "outputs": []
    },
    {
      "cell_type": "code",
      "metadata": {
        "id": "vXlN3JU9GLRv"
      },
      "source": [
        "# load the model\n",
        "from keras.models import load_model\n",
        "model = load_model('model.h5')\n",
        "\n",
        "# loading\n",
        "with open('tokenizer.pickle', 'rb') as handle:\n",
        "    tokenizer = pickle.load(handle)"
      ],
      "execution_count": null,
      "outputs": []
    },
    {
      "cell_type": "code",
      "metadata": {
        "colab": {
          "base_uri": "https://localhost:8080/"
        },
        "id": "N8PLMFmSGfNg",
        "outputId": "a99a56aa-ade7-474a-fafd-a8debbb97a48"
      },
      "source": [
        "# select a seed text\n",
        "seed_text = lines[np.random.randint(0,len(lines))]\n",
        "print(seed_text + '\\n')"
      ],
      "execution_count": null,
      "outputs": [
        {
          "output_type": "stream",
          "text": [
            "with the best minds and\n",
            "\n"
          ],
          "name": "stdout"
        }
      ]
    },
    {
      "cell_type": "code",
      "metadata": {
        "id": "vb9OQoiFGqHm",
        "colab": {
          "base_uri": "https://localhost:8080/"
        },
        "outputId": "eae4aba4-0f5f-4a31-c526-f70279a587b8"
      },
      "source": [
        "seq_length = len(lines[0].split()) - 1\n",
        "seq_length"
      ],
      "execution_count": null,
      "outputs": [
        {
          "output_type": "execute_result",
          "data": {
            "text/plain": [
              "4"
            ]
          },
          "metadata": {
            "tags": []
          },
          "execution_count": 14
        }
      ]
    },
    {
      "cell_type": "code",
      "metadata": {
        "id": "Um5AfkTyG2C3",
        "colab": {
          "base_uri": "https://localhost:8080/"
        },
        "outputId": "7083e3c6-bcd3-4ab1-9e65-e2eb5c76fcda"
      },
      "source": [
        "# encode the text as integer\n",
        "encoded = tokenizer.texts_to_sequences([seed_text])[0]\n",
        "\n",
        "from keras.preprocessing.sequence import pad_sequences\n",
        "encoded = pad_sequences([encoded], maxlen=seq_length, truncating='pre')\n",
        "encoded"
      ],
      "execution_count": null,
      "outputs": [
        {
          "output_type": "execute_result",
          "data": {
            "text/plain": [
              "array([[ 1,  3, 15,  2]], dtype=int32)"
            ]
          },
          "metadata": {
            "tags": []
          },
          "execution_count": 15
        }
      ]
    },
    {
      "cell_type": "code",
      "metadata": {
        "id": "lMengFy_HJp2",
        "colab": {
          "base_uri": "https://localhost:8080/"
        },
        "outputId": "d88e5cba-552f-46fe-8005-22a419d84af0"
      },
      "source": [
        "# predict probabilities for each word\n",
        "yhat = np.argmax(model.predict(encoded))\n",
        "yhat"
      ],
      "execution_count": null,
      "outputs": [
        {
          "output_type": "stream",
          "text": [
            "WARNING:tensorflow:Model was constructed with shape (None, 5) for input KerasTensor(type_spec=TensorSpec(shape=(None, 5), dtype=tf.float32, name='embedding_input'), name='embedding_input', description=\"created by layer 'embedding_input'\"), but it was called on an input with incompatible shape (None, 4).\n"
          ],
          "name": "stdout"
        },
        {
          "output_type": "execute_result",
          "data": {
            "text/plain": [
              "18"
            ]
          },
          "metadata": {
            "tags": []
          },
          "execution_count": 16
        }
      ]
    },
    {
      "cell_type": "code",
      "metadata": {
        "colab": {
          "base_uri": "https://localhost:8080/"
        },
        "id": "SjwYFKFw7JIm",
        "outputId": "bc174533-6117-4671-bd33-e4816d4bbf8f"
      },
      "source": [
        "# map predicted word index to word\n",
        "out_word = ''\n",
        "for word, index in tokenizer.word_index.items():\n",
        "  if index == yhat:\n",
        "    out_word = word\n",
        "    break\n",
        "\n",
        "print(out_word)"
      ],
      "execution_count": null,
      "outputs": [
        {
          "output_type": "stream",
          "text": [
            "mathematical\n"
          ],
          "name": "stdout"
        }
      ]
    },
    {
      "cell_type": "code",
      "metadata": {
        "id": "zk8OOZQJO9XL"
      },
      "source": [
        ""
      ],
      "execution_count": null,
      "outputs": []
    }
  ]
}