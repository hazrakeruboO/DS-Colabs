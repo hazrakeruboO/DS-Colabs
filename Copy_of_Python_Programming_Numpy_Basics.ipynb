{
  "nbformat": 4,
  "nbformat_minor": 0,
  "metadata": {
    "colab": {
      "name": "Copy of Python Programming - Numpy Basics",
      "provenance": [],
      "collapsed_sections": [],
      "toc_visible": true,
      "include_colab_link": true
    },
    "kernelspec": {
      "display_name": "Python 3",
      "name": "python3"
    }
  },
  "cells": [
    {
      "cell_type": "markdown",
      "metadata": {
        "id": "view-in-github",
        "colab_type": "text"
      },
      "source": [
        "<a href=\"https://colab.research.google.com/github/hazrakeruboO/DS-Colabs/blob/main/Copy_of_Python_Programming_Numpy_Basics.ipynb\" target=\"_parent\"><img src=\"https://colab.research.google.com/assets/colab-badge.svg\" alt=\"Open In Colab\"/></a>"
      ]
    },
    {
      "cell_type": "markdown",
      "metadata": {
        "id": "c_BBfbCEZfDT"
      },
      "source": [
        "<font color=\"green\">*To start working on this notebook, or any other notebook that we will use in the Moringa Data Science Course, we will need to save our own copy of it. We can do this by clicking File > Save a Copy in Drive. We will then be able to make edits to our own copy of this notebook.*</font>"
      ]
    },
    {
      "cell_type": "markdown",
      "metadata": {
        "id": "dZSJZP9809aH"
      },
      "source": [
        "# Python Programming - Numpy Basics"
      ]
    },
    {
      "cell_type": "markdown",
      "metadata": {
        "id": "jZatZRIbkDz7"
      },
      "source": [
        "## 1.0 Importing our Library"
      ]
    },
    {
      "cell_type": "code",
      "metadata": {
        "id": "HZ5j-AjX6ae-"
      },
      "source": [
        "# We will first import the numpy library, so that we can leverage external functionalities \n",
        "# that do not come with python\n",
        "# \n",
        "import numpy as np"
      ],
      "execution_count": null,
      "outputs": []
    },
    {
      "cell_type": "markdown",
      "metadata": {
        "id": "c2bpaw2E1Afv"
      },
      "source": [
        "## 1.1 Creating Arrays"
      ]
    },
    {
      "cell_type": "code",
      "metadata": {
        "colab": {
          "base_uri": "https://localhost:8080/"
        },
        "id": "ToZ19MKQ06NI",
        "outputId": "643807ce-17be-47f9-f3cd-ca39fc4489e3"
      },
      "source": [
        "# Example 1\n",
        "# Numpy arrays are a type of data structures that hold some benefits over \n",
        "# Python lists such as being more compact, faster access in reading \n",
        "# and writing items. To get started, we can create a 1 dimension (1D) Array \n",
        "# using a Python List as shown below.\n",
        "#\n",
        "my_list = [0, 1, 2, 3, 4]\n",
        "npy_my_list = np.array(my_list)\n",
        "\n",
        "print(npy_my_list)"
      ],
      "execution_count": null,
      "outputs": [
        {
          "output_type": "stream",
          "text": [
            "[0 1 2 3 4]\n"
          ],
          "name": "stdout"
        }
      ]
    },
    {
      "cell_type": "code",
      "metadata": {
        "colab": {
          "base_uri": "https://localhost:8080/"
        },
        "id": "QfwikEjh3-Az",
        "outputId": "45c8af91-2a75-4aec-aa2d-093f42a7cd7c"
      },
      "source": [
        "# Example 2\n",
        "# We can also create 1D arrays of zeros and 2D arrays of ones \n",
        "# from Numpy builtin functions by;\n",
        "#\n",
        "import numpy as np\n",
        "zeros_arr = np.zeros(5)\n",
        "ones_arr = np.ones([3, 4])\n",
        "\n",
        "print(zeros_arr)\n",
        "print(ones_arr)"
      ],
      "execution_count": null,
      "outputs": [
        {
          "output_type": "stream",
          "text": [
            "[0. 0. 0. 0. 0.]\n",
            "[[1. 1. 1. 1.]\n",
            " [1. 1. 1. 1.]\n",
            " [1. 1. 1. 1.]]\n"
          ],
          "name": "stdout"
        }
      ]
    },
    {
      "cell_type": "code",
      "metadata": {
        "colab": {
          "base_uri": "https://localhost:8080/"
        },
        "id": "HNCFd0Tr3_Gy",
        "outputId": "13391db1-b1ba-4662-efd5-ac32fec9829e"
      },
      "source": [
        "# Example 3\n",
        "# Creating an Array with 3 random values  \n",
        "# \n",
        "import numpy as np\n",
        "rand_arr = np.random.rand(3)\n",
        "\n",
        "print(rand_arr)"
      ],
      "execution_count": null,
      "outputs": [
        {
          "output_type": "stream",
          "text": [
            "[0.69002275 0.4227258  0.45393101]\n"
          ],
          "name": "stdout"
        }
      ]
    },
    {
      "cell_type": "code",
      "metadata": {
        "colab": {
          "base_uri": "https://localhost:8080/"
        },
        "id": "JmPLdMUBBuMD",
        "outputId": "7af36835-5957-4e5c-8b52-6c1b911a88b9"
      },
      "source": [
        "# Example 4\n",
        "# Creating an array with evenly spaced values within a given interval \n",
        "# as shown using the Numpy arrange function\n",
        "import numpy as np\n",
        "\n",
        "even_arr = np.arange(0,6,2)\n",
        "\n",
        "print(even_arr)"
      ],
      "execution_count": null,
      "outputs": [
        {
          "output_type": "stream",
          "text": [
            "[0 2 4]\n"
          ],
          "name": "stdout"
        }
      ]
    },
    {
      "cell_type": "code",
      "metadata": {
        "colab": {
          "base_uri": "https://localhost:8080/"
        },
        "id": "ayLolFnVebvC",
        "outputId": "154f713d-8e26-4300-901b-0edde1797eb7"
      },
      "source": [
        "# Example 5\n",
        "# Create a 5 x 5 matix with elements from 1 to 25\n",
        "#\n",
        "five_matrix = np.arange(1,26).reshape(5,5)\n",
        "\n",
        "print(five_matrix)"
      ],
      "execution_count": null,
      "outputs": [
        {
          "output_type": "stream",
          "text": [
            "[[ 1  2  3  4  5]\n",
            " [ 6  7  8  9 10]\n",
            " [11 12 13 14 15]\n",
            " [16 17 18 19 20]\n",
            " [21 22 23 24 25]]\n"
          ],
          "name": "stdout"
        }
      ]
    },
    {
      "cell_type": "markdown",
      "metadata": {
        "id": "qcP0FkJq6q-r"
      },
      "source": [
        "### <font color=\"green\">1.1 Challenges"
      ]
    },
    {
      "cell_type": "code",
      "metadata": {
        "colab": {
          "base_uri": "https://localhost:8080/"
        },
        "id": "MBV-dKC_6tZx",
        "outputId": "9f54879e-02ad-418d-8bd3-283b42208829"
      },
      "source": [
        "# Challenge 1\n",
        "# Create a 2D array matix using the list matr = my_mat = [[0,1,2],[3,4,5]]\n",
        "# Hint: Learn from Example 2\n",
        "# \n",
        "import numpy as np\n",
        "arr = np.array ([[0,1,2],[3,4,5]])\n",
        "print (arr)"
      ],
      "execution_count": null,
      "outputs": [
        {
          "output_type": "stream",
          "text": [
            "[[0 1 2]\n",
            " [3 4 5]]\n"
          ],
          "name": "stdout"
        }
      ]
    },
    {
      "cell_type": "code",
      "metadata": {
        "colab": {
          "base_uri": "https://localhost:8080/"
        },
        "id": "aquNQ1XH6vGL",
        "outputId": "c33a1082-af37-496b-b78c-53b6bb4795bc"
      },
      "source": [
        "# Challenge 2\n",
        "# Create a 2D array of zeros \n",
        "# Hint: Learn from Example 2\n",
        "#\n",
        "arr = np.zeros([2,2])\n",
        "\n",
        "print(arr)\n"
      ],
      "execution_count": null,
      "outputs": [
        {
          "output_type": "stream",
          "text": [
            "[[0. 0.]\n",
            " [0. 0.]]\n"
          ],
          "name": "stdout"
        }
      ]
    },
    {
      "cell_type": "code",
      "metadata": {
        "colab": {
          "base_uri": "https://localhost:8080/",
          "height": 132
        },
        "id": "tslhBNMQ6wU-",
        "outputId": "6fadaa65-e932-407e-e29c-280186afc9f5"
      },
      "source": [
        "(# Challenge 3\n",
        "# Create a 2D array of random values\n",
        "# Hint: Learn from Example 2\n",
        "#\n",
        "rand_arr = np.random.rand([2])\n",
        "print (rand_arr)"
      ],
      "execution_count": null,
      "outputs": [
        {
          "output_type": "error",
          "ename": "SyntaxError",
          "evalue": "ignored",
          "traceback": [
            "\u001b[0;36m  File \u001b[0;32m\"<ipython-input-37-652c44f8e282>\"\u001b[0;36m, line \u001b[0;32m5\u001b[0m\n\u001b[0;31m    rand_arr = np.random.rand([2])\u001b[0m\n\u001b[0m             ^\u001b[0m\n\u001b[0;31mSyntaxError\u001b[0m\u001b[0;31m:\u001b[0m invalid syntax\n"
          ]
        }
      ]
    },
    {
      "cell_type": "markdown",
      "metadata": {
        "id": "RCUonvzElIBI"
      },
      "source": [
        ""
      ]
    },
    {
      "cell_type": "code",
      "metadata": {
        "colab": {
          "base_uri": "https://localhost:8080/",
          "height": 221
        },
        "id": "ukWLHCL0CJx1",
        "outputId": "30745c62-0dcc-4964-be47-b9fe90d6bf26"
      },
      "source": [
        "# Challenge 4\n",
        "# Create a 3D array with values starting 6, stops at 40 with interval of 2\n",
        "#\n",
        "my_list = [6,40,2]\n",
        "npy_my_list = np.arange(my_list)\n",
        "print(npy_my_list)"
      ],
      "execution_count": null,
      "outputs": [
        {
          "output_type": "error",
          "ename": "TypeError",
          "evalue": "ignored",
          "traceback": [
            "\u001b[0;31m---------------------------------------------------------------------------\u001b[0m",
            "\u001b[0;31mTypeError\u001b[0m                                 Traceback (most recent call last)",
            "\u001b[0;32m<ipython-input-40-587e75a2c6c0>\u001b[0m in \u001b[0;36m<module>\u001b[0;34m()\u001b[0m\n\u001b[1;32m      3\u001b[0m \u001b[0;31m#\u001b[0m\u001b[0;34m\u001b[0m\u001b[0;34m\u001b[0m\u001b[0;34m\u001b[0m\u001b[0m\n\u001b[1;32m      4\u001b[0m \u001b[0mmy_list\u001b[0m \u001b[0;34m=\u001b[0m \u001b[0;34m[\u001b[0m\u001b[0;36m6\u001b[0m\u001b[0;34m,\u001b[0m\u001b[0;36m40\u001b[0m\u001b[0;34m,\u001b[0m\u001b[0;36m2\u001b[0m\u001b[0;34m]\u001b[0m\u001b[0;34m\u001b[0m\u001b[0;34m\u001b[0m\u001b[0m\n\u001b[0;32m----> 5\u001b[0;31m \u001b[0mnpy_my_list\u001b[0m \u001b[0;34m=\u001b[0m \u001b[0mnp\u001b[0m\u001b[0;34m.\u001b[0m\u001b[0marange\u001b[0m\u001b[0;34m(\u001b[0m\u001b[0mmy_list\u001b[0m\u001b[0;34m)\u001b[0m\u001b[0;34m\u001b[0m\u001b[0;34m\u001b[0m\u001b[0m\n\u001b[0m\u001b[1;32m      6\u001b[0m \u001b[0mprint\u001b[0m\u001b[0;34m(\u001b[0m\u001b[0mnpy_my_list\u001b[0m\u001b[0;34m)\u001b[0m\u001b[0;34m\u001b[0m\u001b[0;34m\u001b[0m\u001b[0m\n",
            "\u001b[0;31mTypeError\u001b[0m: unsupported operand type(s) for -: 'list' and 'int'"
          ]
        }
      ]
    },
    {
      "cell_type": "markdown",
      "metadata": {
        "id": "BqyScgzc410j"
      },
      "source": [
        "## 1.2 Attributes and Functions"
      ]
    },
    {
      "cell_type": "code",
      "metadata": {
        "colab": {
          "base_uri": "https://localhost:8080/"
        },
        "id": "eLjMuBef93ZF",
        "outputId": "869b37d8-9ad8-4257-a332-d39cad6a0d7c"
      },
      "source": [
        "# We use attributes to access information about a particular array,\n",
        "# while functions to perform a certain operations to the array. \n",
        "# We will learn about attributes and functions in this section of the session.\n",
        "# First let's generate a 1D array to work with; we will name \n",
        "# this attribute attribute_arr as shown below;\n",
        "# \n",
        "attribute_arr = np.random.rand(5)\n",
        "\n",
        "print(attribute_arr)"
      ],
      "execution_count": null,
      "outputs": [
        {
          "output_type": "stream",
          "text": [
            "[0.52236159 0.26966822 0.86811872 0.59715478 0.42547138]\n"
          ],
          "name": "stdout"
        }
      ]
    },
    {
      "cell_type": "code",
      "metadata": {
        "colab": {
          "base_uri": "https://localhost:8080/"
        },
        "id": "LQ8aYHM-45r6",
        "outputId": "6c3fcf31-6e9d-4332-964e-9a46b662edc8"
      },
      "source": [
        "# Example 1\n",
        "# Using the max() function\n",
        "# \n",
        "attribute_arr.max()"
      ],
      "execution_count": null,
      "outputs": [
        {
          "output_type": "execute_result",
          "data": {
            "text/plain": [
              "0.8681187218651166"
            ]
          },
          "metadata": {
            "tags": []
          },
          "execution_count": 42
        }
      ]
    },
    {
      "cell_type": "code",
      "metadata": {
        "colab": {
          "base_uri": "https://localhost:8080/"
        },
        "id": "WMYeiSXA46iR",
        "outputId": "51c774a2-54c3-4702-e676-ab8c7b1a0619"
      },
      "source": [
        "# Example 2\n",
        "# Using the min() function \n",
        "# \n",
        "attribute_arr.min()"
      ],
      "execution_count": null,
      "outputs": [
        {
          "output_type": "execute_result",
          "data": {
            "text/plain": [
              "0.26966821941749486"
            ]
          },
          "metadata": {
            "tags": []
          },
          "execution_count": 43
        }
      ]
    },
    {
      "cell_type": "code",
      "metadata": {
        "colab": {
          "base_uri": "https://localhost:8080/"
        },
        "id": "EopHxyUU46Y6",
        "outputId": "dd52c2bc-7060-4bff-a5bf-ad0a9d65cbea"
      },
      "source": [
        "# Example 3\n",
        "# Using the argmax() function to return the indice of the max element of the array \n",
        "#\n",
        "attribute_arr.argmax()"
      ],
      "execution_count": null,
      "outputs": [
        {
          "output_type": "execute_result",
          "data": {
            "text/plain": [
              "2"
            ]
          },
          "metadata": {
            "tags": []
          },
          "execution_count": 44
        }
      ]
    },
    {
      "cell_type": "code",
      "metadata": {
        "colab": {
          "base_uri": "https://localhost:8080/"
        },
        "id": "n5K9YACf5L_z",
        "outputId": "9ee5c1aa-dcca-4a33-a4b3-d3a28f383ee2"
      },
      "source": [
        "# Example 4\n",
        "# Using the argmin() function to return the indice of the min element of the array\n",
        "#\n",
        "attribute_arr.argmin()"
      ],
      "execution_count": null,
      "outputs": [
        {
          "output_type": "execute_result",
          "data": {
            "text/plain": [
              "1"
            ]
          },
          "metadata": {
            "tags": []
          },
          "execution_count": 45
        }
      ]
    },
    {
      "cell_type": "code",
      "metadata": {
        "colab": {
          "base_uri": "https://localhost:8080/"
        },
        "id": "Sfb8LcQR5R7x",
        "outputId": "70fb9d32-01cc-4394-9c2b-db3f443f6464"
      },
      "source": [
        "# Example 5\n",
        "# Using the shape attribute to find the size of the array\n",
        "#\n",
        "attribute_arr.shape"
      ],
      "execution_count": null,
      "outputs": [
        {
          "output_type": "execute_result",
          "data": {
            "text/plain": [
              "(5,)"
            ]
          },
          "metadata": {
            "tags": []
          },
          "execution_count": 46
        }
      ]
    },
    {
      "cell_type": "markdown",
      "metadata": {
        "id": "3w2o-QzS60AR"
      },
      "source": [
        "### <font color=\"green\">1.2. Challenges</font>"
      ]
    },
    {
      "cell_type": "code",
      "metadata": {
        "colab": {
          "base_uri": "https://localhost:8080/"
        },
        "id": "VKNneHD4-4BY",
        "outputId": "12d35902-caee-43f8-be3f-0c7ace4cc26d"
      },
      "source": [
        "# First generate a 2D array to work with\n",
        "arr=np.array([[1,2,3],[4,5,6]])\n",
        "print (arr)"
      ],
      "execution_count": null,
      "outputs": [
        {
          "output_type": "stream",
          "text": [
            "[[1 2 3]\n",
            " [4 5 6]]\n"
          ],
          "name": "stdout"
        }
      ]
    },
    {
      "cell_type": "code",
      "metadata": {
        "colab": {
          "base_uri": "https://localhost:8080/"
        },
        "id": "ygUyasmp62jO",
        "outputId": "3693a73d-b364-4ad3-a6b6-8789f7117584"
      },
      "source": [
        "# Challenge 1\n",
        "# Then we will find the minimum value of the 2D array\n",
        "#\n",
        "attribute_arr.argmin()"
      ],
      "execution_count": null,
      "outputs": [
        {
          "output_type": "execute_result",
          "data": {
            "text/plain": [
              "1"
            ]
          },
          "metadata": {
            "tags": []
          },
          "execution_count": 75
        }
      ]
    },
    {
      "cell_type": "code",
      "metadata": {
        "id": "Vi6G0azm637R",
        "colab": {
          "base_uri": "https://localhost:8080/"
        },
        "outputId": "99d7d980-84ee-43bd-cc35-a984c1fca66a"
      },
      "source": [
        "# Challenge 2\n",
        "# We will find the maximum value of the 2D array\n",
        "#\n",
        "attribute_arr.argmax()\n",
        "\n"
      ],
      "execution_count": null,
      "outputs": [
        {
          "output_type": "execute_result",
          "data": {
            "text/plain": [
              "2"
            ]
          },
          "metadata": {
            "tags": []
          },
          "execution_count": 76
        }
      ]
    },
    {
      "cell_type": "code",
      "metadata": {
        "id": "84WVD6TA65Bm",
        "colab": {
          "base_uri": "https://localhost:8080/"
        },
        "outputId": "d512b87d-ef80-4d0c-c26d-0db300e8316b"
      },
      "source": [
        "# Challenge 3\n",
        "# Then return the indice of the maximun element of the 2D array \n",
        "# \n",
        "print(arr[1,2])"
      ],
      "execution_count": null,
      "outputs": [
        {
          "output_type": "stream",
          "text": [
            "6\n"
          ],
          "name": "stdout"
        }
      ]
    },
    {
      "cell_type": "code",
      "metadata": {
        "id": "kpaSbWQt66Fz",
        "colab": {
          "base_uri": "https://localhost:8080/"
        },
        "outputId": "68b7b130-b1a6-4c83-bf14-bcfcc4b5a320"
      },
      "source": [
        "# Challenge 4\n",
        "# Again return the indice of the minimum element of the 2D array\n",
        "# \n",
        "print(arr[0,0])"
      ],
      "execution_count": null,
      "outputs": [
        {
          "output_type": "stream",
          "text": [
            "1\n"
          ],
          "name": "stdout"
        }
      ]
    },
    {
      "cell_type": "code",
      "metadata": {
        "id": "0Snj7gJo67OU",
        "colab": {
          "base_uri": "https://localhost:8080/"
        },
        "outputId": "41613002-1937-44c4-c889-4b2543426e46"
      },
      "source": [
        "# Challenge 5\n",
        "# Lastly, return the data type of the generated 2D array using dtype\n",
        "# \n",
        "print(arr.dtype)"
      ],
      "execution_count": null,
      "outputs": [
        {
          "output_type": "stream",
          "text": [
            "int64\n"
          ],
          "name": "stdout"
        }
      ]
    },
    {
      "cell_type": "markdown",
      "metadata": {
        "id": "lpP7qc835YZX"
      },
      "source": [
        "## 1.3  Indexing  and Broadcasting"
      ]
    },
    {
      "cell_type": "code",
      "metadata": {
        "id": "bd0imU6GKHfs",
        "colab": {
          "base_uri": "https://localhost:8080/"
        },
        "outputId": "22341a5b-ab90-4eb3-a050-2d4976881cd4"
      },
      "source": [
        "# Creating an array to work with. The array will be comprised of even numbers from 0 t0 15\n",
        "in_array = np.arange(0,15,2)\n",
        "\n",
        "print(in_array)"
      ],
      "execution_count": null,
      "outputs": [
        {
          "output_type": "stream",
          "text": [
            "[ 0  2  4  6  8 10 12 14]\n"
          ],
          "name": "stdout"
        }
      ]
    },
    {
      "cell_type": "code",
      "metadata": {
        "id": "e_yW1XvJ5dxC",
        "colab": {
          "base_uri": "https://localhost:8080/"
        },
        "outputId": "5c966c89-408e-49d5-dd2c-41ac30a60cda"
      },
      "source": [
        "# Example 1\n",
        "# Bracketing indexing allows us to access\n",
        "# elements from a Numpy array as shown\n",
        "# \n",
        "print(in_array[2]) # Displays the third element in the list\n",
        "print(in_array[1:5]) # Displays values from the second element to the fifth element\n",
        "print(in_array[3:]) # Displays the 4th element to the last element in the list"
      ],
      "execution_count": null,
      "outputs": [
        {
          "output_type": "stream",
          "text": [
            "4\n",
            "[2 4 6 8]\n",
            "[ 6  8 10 12 14]\n"
          ],
          "name": "stdout"
        }
      ]
    },
    {
      "cell_type": "code",
      "metadata": {
        "id": "NzNROPLy5vg3"
      },
      "source": [
        "# Example 2\n",
        "# Arrays with different sizes cannot be added, subtracted or used in any arithmetic.\n",
        "# one way of solving this is to duplicate the smaller array so that its size is the same as the larger array.\n",
        "# This process is called broadasting and is available in numpy. \n",
        "\n",
        "# Broadcasting is Numpy's terminology for performing mathematical operations \n",
        "# between arrays with different shapes. This example provides insights on \n",
        "# broadcasting. First, lets run this cell then later uncomment each block trying\n",
        "# to understand what happens. \n",
        "# Once you're done with the final block, you can get a detailed explanation \n",
        "# on broadcasting here: http://bit.ly/NumpyBroadcasting\n",
        "# \n",
        "\n",
        "in_array[0:2] = 100\n",
        "print(in_array)\n",
        "\n",
        "# First reseting our array i.e. recreating it\n",
        "# in_array = np.arange(0,11)\n",
        "# print(in_array)\n",
        "\n",
        "# Then making a copy \n",
        "# in_array_copy = in_array.copy()\n",
        "# print(in_array_copy)\n",
        "\n",
        "# Afterwards creating a new array upon slicing\n",
        "# slice_of_arr = in_array[0:5]\n",
        "# print(slice_of_arr)\n",
        "\n",
        "# Changing the Slice\n",
        "# slice_of_arr[:]=22\n",
        "# print(slice_of_arr)\n",
        "\n",
        "# NB: Changes also occur in our original array\n",
        "# print(in_array)\n",
        "\n",
        "# check your copy\n",
        "# print(in_array_copy)"
      ],
      "execution_count": null,
      "outputs": []
    },
    {
      "cell_type": "code",
      "metadata": {
        "id": "juXc8Yem584S"
      },
      "source": [
        "# Example 3\n",
        "# Indexing a 2D array (matrices)\n",
        "# \n",
        "\n",
        "ind_arr_2d = np.array(([21, 22, 23], [11, 22, 33], [43, 77, 89]))\n",
        "print(ind_arr_2d)\n",
        "\n",
        "# Selecting element at row index 1 & column index 2\n",
        "#\n",
        "# print(ind_arr_2d[1][2])\n",
        "\n",
        "# Selecting a Row at index 1\n",
        "#\n",
        "# row = ind_arr_2d[1]\n",
        "# print(row)\n",
        "\n",
        "# Selecting a column at index 1 \n",
        "# \n",
        "# column = ind_arr_2d[:, 1]\n",
        "# print(column)"
      ],
      "execution_count": null,
      "outputs": []
    },
    {
      "cell_type": "code",
      "metadata": {
        "id": "l-PTQXUi6Cxp",
        "colab": {
          "base_uri": "https://localhost:8080/"
        },
        "outputId": "a4d2c5b7-ce53-41c1-afee-6077fc4614ee"
      },
      "source": [
        "# Example 4 \n",
        "# Fancy Indexing allows us to select entire rows or columns out of order\n",
        "# as shown\n",
        "# \n",
        "\n",
        "# First creating an array or zeros\n",
        "arr2d = np.zeros((10,10))\n",
        "print(arr2d)\n",
        "\n",
        "# Length of array\n",
        "arr_length = arr2d.shape[1]\n",
        "print(arr_length)\n",
        "\n",
        "# creating the array \n",
        "for i in range(arr_length):\n",
        "    arr2d[i] = i\n",
        "    \n",
        "print(arr2d)\n",
        "\n",
        "# Now selecting the first, third and the fourth rows via fancy indexing\n",
        "arr2d[[0,2,3]]"
      ],
      "execution_count": null,
      "outputs": [
        {
          "output_type": "stream",
          "text": [
            "[[0. 0. 0. 0. 0. 0. 0. 0. 0. 0.]\n",
            " [0. 0. 0. 0. 0. 0. 0. 0. 0. 0.]\n",
            " [0. 0. 0. 0. 0. 0. 0. 0. 0. 0.]\n",
            " [0. 0. 0. 0. 0. 0. 0. 0. 0. 0.]\n",
            " [0. 0. 0. 0. 0. 0. 0. 0. 0. 0.]\n",
            " [0. 0. 0. 0. 0. 0. 0. 0. 0. 0.]\n",
            " [0. 0. 0. 0. 0. 0. 0. 0. 0. 0.]\n",
            " [0. 0. 0. 0. 0. 0. 0. 0. 0. 0.]\n",
            " [0. 0. 0. 0. 0. 0. 0. 0. 0. 0.]\n",
            " [0. 0. 0. 0. 0. 0. 0. 0. 0. 0.]]\n",
            "10\n",
            "[[0. 0. 0. 0. 0. 0. 0. 0. 0. 0.]\n",
            " [1. 1. 1. 1. 1. 1. 1. 1. 1. 1.]\n",
            " [2. 2. 2. 2. 2. 2. 2. 2. 2. 2.]\n",
            " [3. 3. 3. 3. 3. 3. 3. 3. 3. 3.]\n",
            " [4. 4. 4. 4. 4. 4. 4. 4. 4. 4.]\n",
            " [5. 5. 5. 5. 5. 5. 5. 5. 5. 5.]\n",
            " [6. 6. 6. 6. 6. 6. 6. 6. 6. 6.]\n",
            " [7. 7. 7. 7. 7. 7. 7. 7. 7. 7.]\n",
            " [8. 8. 8. 8. 8. 8. 8. 8. 8. 8.]\n",
            " [9. 9. 9. 9. 9. 9. 9. 9. 9. 9.]]\n"
          ],
          "name": "stdout"
        },
        {
          "output_type": "execute_result",
          "data": {
            "text/plain": [
              "array([[0., 0., 0., 0., 0., 0., 0., 0., 0., 0.],\n",
              "       [2., 2., 2., 2., 2., 2., 2., 2., 2., 2.],\n",
              "       [3., 3., 3., 3., 3., 3., 3., 3., 3., 3.]])"
            ]
          },
          "metadata": {
            "tags": []
          },
          "execution_count": 92
        }
      ]
    },
    {
      "cell_type": "markdown",
      "metadata": {
        "id": "vtbzfkVu7A_i"
      },
      "source": [
        "### <font color=\"green\">1.3. Challenges</font>"
      ]
    },
    {
      "cell_type": "code",
      "metadata": {
        "id": "AoybsIQPODZD"
      },
      "source": [
        "# First, we create a 2D array to work with\n",
        "#array_2d = np.array(([15,20,25],[15,20,25],[30,35,40],))\n",
        "array_2d=np.array([15,20,25],ndmin=2)\n",
        "print(array_2d)\n"
      ],
      "execution_count": null,
      "outputs": []
    },
    {
      "cell_type": "code",
      "metadata": {
        "id": "t2DLZeOs7Fej"
      },
      "source": [
        "# Challenge 1\n",
        "# Let's get the 3rd row of the array\n",
        "# \n",
        "OUR CODE GOES HERE"
      ],
      "execution_count": null,
      "outputs": []
    },
    {
      "cell_type": "code",
      "metadata": {
        "id": "mrcHn88Q7GuP"
      },
      "source": [
        "# Challenge 2\n",
        "# Let's get the individual element 35\n",
        "# using the format arr_2d[row][col] or arr_2d[row,col]\n",
        "#\n",
        "OUR CODE GOES HERE"
      ],
      "execution_count": null,
      "outputs": []
    },
    {
      "cell_type": "code",
      "metadata": {
        "id": "2Q_POLIs7IKI"
      },
      "source": [
        "# Challenge 3\n",
        "# Let's slice the array (2,2) from top right corner\n",
        "# \n",
        "OUR CODE GOES HERE"
      ],
      "execution_count": null,
      "outputs": []
    },
    {
      "cell_type": "code",
      "metadata": {
        "id": "dumxoNxX7JKO"
      },
      "source": [
        "# Challenge 4\n",
        "# Let's create a random 6 x 4 matrix then select the 3rd and 4th rows\n",
        "#\n",
        "OUR CODE GOES HERE"
      ],
      "execution_count": null,
      "outputs": []
    },
    {
      "cell_type": "markdown",
      "metadata": {
        "id": "7HM2oS-c6Fyz"
      },
      "source": [
        "## 1.4 Conditional Selection"
      ]
    },
    {
      "cell_type": "code",
      "metadata": {
        "id": "X02c9mGxaRdu",
        "colab": {
          "base_uri": "https://localhost:8080/"
        },
        "outputId": "ff64d7cb-dea0-45f4-db02-464bb458edf7"
      },
      "source": [
        "# We can use conditions to check for whether elements in a certain range satisfy a condition.\n",
        "# Let's first creating an array. Do you remember what the arrange function does?\n",
        "#\n",
        "conditional_arr = np.arange(1,11)\n",
        "print(conditional_arr)"
      ],
      "execution_count": null,
      "outputs": [
        {
          "output_type": "stream",
          "text": [
            "[ 1  2  3  4  5  6  7  8  9 10]\n"
          ],
          "name": "stdout"
        }
      ]
    },
    {
      "cell_type": "code",
      "metadata": {
        "id": "ekQ-AjCS6Lf1",
        "colab": {
          "base_uri": "https://localhost:8080/"
        },
        "outputId": "4eca86f1-27e1-4a14-eeef-c606fd687575"
      },
      "source": [
        "# Example 1  \n",
        "# What do we do here?\n",
        "#\n",
        "conditional_arr > 3"
      ],
      "execution_count": null,
      "outputs": [
        {
          "output_type": "execute_result",
          "data": {
            "text/plain": [
              "array([False, False, False,  True,  True,  True,  True,  True,  True,\n",
              "        True])"
            ]
          },
          "metadata": {
            "tags": []
          },
          "execution_count": 101
        }
      ]
    },
    {
      "cell_type": "code",
      "metadata": {
        "id": "_CMv_cG36P8s",
        "colab": {
          "base_uri": "https://localhost:8080/"
        },
        "outputId": "e3fd2f59-c596-4c6f-8319-fe3fce23741e"
      },
      "source": [
        "# Example 2\n",
        "# What happens here?\n",
        "#\n",
        "bool_arr = conditional_arr > 3\n",
        "print(bool_arr)\n",
        "\n",
        "print(conditional_arr[bool_arr])"
      ],
      "execution_count": null,
      "outputs": [
        {
          "output_type": "stream",
          "text": [
            "[False False False  True  True  True  True  True  True  True]\n",
            "[ 4  5  6  7  8  9 10]\n"
          ],
          "name": "stdout"
        }
      ]
    },
    {
      "cell_type": "code",
      "metadata": {
        "id": "ZmMJyzcM6X8d",
        "colab": {
          "base_uri": "https://localhost:8080/"
        },
        "outputId": "a53e500f-c4f9-4bcc-a8a4-872683a33ebb"
      },
      "source": [
        "# Example 3\n",
        "# Finally, let's select those values in our array that satisfy our condition\n",
        "# \n",
        "print(conditional_arr[conditional_arr > 4])"
      ],
      "execution_count": null,
      "outputs": [
        {
          "output_type": "stream",
          "text": [
            "[ 5  6  7  8  9 10]\n"
          ],
          "name": "stdout"
        }
      ]
    },
    {
      "cell_type": "markdown",
      "metadata": {
        "id": "FXNTaawR7Lly"
      },
      "source": [
        "### <font color=\"green\">1.4 Challenges</font>"
      ]
    },
    {
      "cell_type": "code",
      "metadata": {
        "id": "JvOfEoCQdPW3",
        "colab": {
          "base_uri": "https://localhost:8080/"
        },
        "outputId": "39f7199b-f707-43d8-91dd-a18410f8a179"
      },
      "source": [
        "# Creating the array to be used below\n",
        "#\n",
        "x = np.array([[0, 1, 2], [3, 4, 5], [6, 7, 8]])\n",
        "print(x)"
      ],
      "execution_count": null,
      "outputs": [
        {
          "output_type": "stream",
          "text": [
            "[[0 1 2]\n",
            " [3 4 5]\n",
            " [6 7 8]]\n"
          ],
          "name": "stdout"
        }
      ]
    },
    {
      "cell_type": "code",
      "metadata": {
        "id": "X8wmyySf7TRt"
      },
      "source": [
        "# Challenge 1\n",
        "# Get the 2nd row using conditional selection\n",
        "#\n",
        "OUR CODE GOES HERE"
      ],
      "execution_count": null,
      "outputs": []
    },
    {
      "cell_type": "code",
      "metadata": {
        "id": "h3uZ6qls7UMq",
        "colab": {
          "base_uri": "https://localhost:8080/"
        },
        "outputId": "683f889e-5502-419c-b1e9-fa3ab6cebfee"
      },
      "source": [
        "# Challenge 2\n",
        "# Which elements are greater than two?\n",
        "#\n",
        "print(conditional_arr[conditional_arr>2])"
      ],
      "execution_count": null,
      "outputs": [
        {
          "output_type": "stream",
          "text": [
            "[ 3  4  5  6  7  8  9 10]\n"
          ],
          "name": "stdout"
        }
      ]
    },
    {
      "cell_type": "code",
      "metadata": {
        "id": "yKfmU0xF7U-V",
        "colab": {
          "base_uri": "https://localhost:8080/",
          "height": 203
        },
        "outputId": "e804f49c-48bd-438b-ab4f-2642d00888f9"
      },
      "source": [
        "# Challenge 3\n",
        "# Get the array [7, 8] from the x array\n",
        "# \n",
        "print(arr[0,3])"
      ],
      "execution_count": null,
      "outputs": [
        {
          "output_type": "error",
          "ename": "IndexError",
          "evalue": "ignored",
          "traceback": [
            "\u001b[0;31m---------------------------------------------------------------------------\u001b[0m",
            "\u001b[0;31mIndexError\u001b[0m                                Traceback (most recent call last)",
            "\u001b[0;32m<ipython-input-116-ec881508af7f>\u001b[0m in \u001b[0;36m<module>\u001b[0;34m()\u001b[0m\n\u001b[1;32m      2\u001b[0m \u001b[0;31m# Get the array [7, 8] from the x array\u001b[0m\u001b[0;34m\u001b[0m\u001b[0;34m\u001b[0m\u001b[0;34m\u001b[0m\u001b[0m\n\u001b[1;32m      3\u001b[0m \u001b[0;31m#\u001b[0m\u001b[0;34m\u001b[0m\u001b[0;34m\u001b[0m\u001b[0;34m\u001b[0m\u001b[0m\n\u001b[0;32m----> 4\u001b[0;31m \u001b[0mprint\u001b[0m\u001b[0;34m(\u001b[0m\u001b[0marr\u001b[0m\u001b[0;34m[\u001b[0m\u001b[0;36m0\u001b[0m\u001b[0;34m,\u001b[0m\u001b[0;36m3\u001b[0m\u001b[0;34m]\u001b[0m\u001b[0;34m)\u001b[0m\u001b[0;34m\u001b[0m\u001b[0;34m\u001b[0m\u001b[0m\n\u001b[0m",
            "\u001b[0;31mIndexError\u001b[0m: index 3 is out of bounds for axis 1 with size 3"
          ]
        }
      ]
    },
    {
      "cell_type": "markdown",
      "metadata": {
        "id": "5mWusWpH6eff"
      },
      "source": [
        "## 1.5 Operations"
      ]
    },
    {
      "cell_type": "code",
      "metadata": {
        "id": "JIDxVUI0nVEY",
        "colab": {
          "base_uri": "https://localhost:8080/"
        },
        "outputId": "b5ca6bf8-ede1-461d-b98b-22fa1f62a9cd"
      },
      "source": [
        "# Creating the array that we will use below:\n",
        "# \n",
        "a = np.arange(0,5)\n",
        "print(a)"
      ],
      "execution_count": null,
      "outputs": [
        {
          "output_type": "stream",
          "text": [
            "[0 1 2 3 4]\n"
          ],
          "name": "stdout"
        }
      ]
    },
    {
      "cell_type": "code",
      "metadata": {
        "id": "YRtb1N4i6hbE",
        "colab": {
          "base_uri": "https://localhost:8080/"
        },
        "outputId": "6c34a390-cc25-49b6-ce0e-639ff8d0ea4e"
      },
      "source": [
        "# Example 1\n",
        "# Arithmetic Operations\n",
        "# \n",
        "addition_arr = a + a\n",
        "print(addition_arr)\n",
        "\n",
        "subtration_arr = a - a\n",
        "print(addition_arr)"
      ],
      "execution_count": null,
      "outputs": [
        {
          "output_type": "stream",
          "text": [
            "[0 2 4 6 8]\n",
            "[0 2 4 6 8]\n"
          ],
          "name": "stdout"
        }
      ]
    },
    {
      "cell_type": "code",
      "metadata": {
        "id": "33NeFWBs6l13",
        "colab": {
          "base_uri": "https://localhost:8080/"
        },
        "outputId": "1f66faa3-2ed6-4f98-9ba4-597a81921dec"
      },
      "source": [
        "# Example 2\n",
        "# Universal Array Functions\n",
        "# \n",
        "\n",
        "# square root\n",
        "import numpy as np\n",
        "a=np.arange(0,5)\n",
        "\n",
        "sqr_arr = np.sqrt(a)\n",
        "print(sqr_arr)\n",
        "\n",
        "# exponential\n",
        "exp_arr = np.exp(a)\n",
        "print(exp_arr)"
      ],
      "execution_count": null,
      "outputs": [
        {
          "output_type": "stream",
          "text": [
            "[0.         1.         1.41421356 1.73205081 2.        ]\n",
            "[ 1.          2.71828183  7.3890561  20.08553692 54.59815003]\n"
          ],
          "name": "stdout"
        }
      ]
    },
    {
      "cell_type": "markdown",
      "metadata": {
        "id": "RMVtc9Bs7bb6"
      },
      "source": [
        "### <font color=\"green\">1.5 Challenges</font>"
      ]
    },
    {
      "cell_type": "code",
      "metadata": {
        "id": "m8pWm82gkHqk"
      },
      "source": [
        "# Challenge 1\n",
        "# Raise the a array created above to the power of 2\n",
        "#\n",
        "arr= [0,1,2,3,4]\n",
        "arr=np.arange=(0,5)\n",
        "exponent=2\n",
        "print (arr)\n"
      ],
      "execution_count": null,
      "outputs": []
    },
    {
      "cell_type": "code",
      "metadata": {
        "id": "y1CxcuFj7ehe"
      },
      "source": [
        "# Challenge 2\n",
        "# Find the log of a using log(), \n",
        "# the Universal Array Functions\n",
        "#\n",
        "OUR CODE GOES HERE"
      ],
      "execution_count": null,
      "outputs": []
    },
    {
      "cell_type": "code",
      "metadata": {
        "id": "QB-54zeYjWOa"
      },
      "source": [
        "# Challenge 3\n",
        "# This of a dataset then determine where you can use the \n",
        "# numpy concepts that you learnt in this session?\n",
        "# Then explain them to your peer."
      ],
      "execution_count": null,
      "outputs": []
    }
  ]
}