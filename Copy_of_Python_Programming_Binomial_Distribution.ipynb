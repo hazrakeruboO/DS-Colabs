{
  "nbformat": 4,
  "nbformat_minor": 0,
  "metadata": {
    "colab": {
      "name": "Copy of Python Programming: Binomial Distribution",
      "provenance": [],
      "collapsed_sections": [
        "fR9dRAGlL9Pb",
        "bcx-wRqML__e"
      ],
      "toc_visible": true,
      "include_colab_link": true
    },
    "kernelspec": {
      "display_name": "Python 3",
      "name": "python3"
    }
  },
  "cells": [
    {
      "cell_type": "markdown",
      "metadata": {
        "id": "view-in-github",
        "colab_type": "text"
      },
      "source": [
        "<a href=\"https://colab.research.google.com/github/hazrakeruboO/DS-Colabs/blob/main/Copy_of_Python_Programming_Binomial_Distribution.ipynb\" target=\"_parent\"><img src=\"https://colab.research.google.com/assets/colab-badge.svg\" alt=\"Open In Colab\"/></a>"
      ]
    },
    {
      "cell_type": "markdown",
      "metadata": {
        "id": "Fbw1Ws2MeAE_"
      },
      "source": [
        "<font color=\"green\">*To start working on this notebook, or any other notebook that we will use in the Moringa Data Science Course, we will need to save our own copy of it. We can do this by clicking File > Save a Copy in Drive. We will then be able to make edits to our own copy of this notebook.*</font>"
      ]
    },
    {
      "cell_type": "markdown",
      "metadata": {
        "id": "RdMxQoxpL5HH"
      },
      "source": [
        "# Python Programming: Binomial Distribution"
      ]
    },
    {
      "cell_type": "markdown",
      "metadata": {
        "id": "fR9dRAGlL9Pb"
      },
      "source": [
        "## Examples"
      ]
    },
    {
      "cell_type": "code",
      "metadata": {
        "colab": {
          "base_uri": "https://localhost:8080/"
        },
        "id": "NXmQ7Ys_L816",
        "outputId": "faa8acd1-a35a-4bfb-8d91-c365789f5948"
      },
      "source": [
        "# Example 1\n",
        "# ---\n",
        "# Question: We want to know, out of a random sample of 10 people, \n",
        "# what is the probability of 3 of these 10 people being left handed?\n",
        "# ---\n",
        "# \n",
        "\n",
        "# Method 1:\n",
        "# Using the probability mass function\n",
        "# ----\n",
        "# \n",
        "\n",
        "#from math import factorial\n",
        "#(factorial(10) / (factorial(3) * factorial(7))) * 0.1 ** 3 * 0.9 ** 7\n",
        "\n",
        "# Method 2:\n",
        "# Uncomment the above two lines that you've just ran\n",
        "# The parameters are k, n and p \n",
        "# ---\n",
        "# \n",
        "\n",
        "from scipy.stats import binom\n",
        "binom.pmf(3, 10, 0.1)"
      ],
      "execution_count": null,
      "outputs": [
        {
          "data": {
            "text/plain": [
              "0.05739562800000007"
            ]
          },
          "execution_count": 2,
          "metadata": {},
          "output_type": "execute_result"
        }
      ]
    },
    {
      "cell_type": "code",
      "metadata": {
        "colab": {
          "base_uri": "https://localhost:8080/"
        },
        "id": "H2ZY2fXFOtBm",
        "outputId": "61374134-268d-4314-eccc-690c3fb7d43b"
      },
      "source": [
        "# Example 2\n",
        "# ---\n",
        "# Question: Calculate what the probability of 3 or fewer people being left-handed from a selection of 10 people.\n",
        "# ---\n",
        "# \n",
        "\n",
        "sum([binom.pmf(x, 10, 0.1) for x in range(4)])\n",
        "\n",
        "# We can see there is almost negligible chance of getting more than 6 left-handed people in a random group of 10 people.\n"
      ],
      "execution_count": null,
      "outputs": [
        {
          "data": {
            "text/plain": [
              "0.9872048016000006"
            ]
          },
          "execution_count": 3,
          "metadata": {},
          "output_type": "execute_result"
        }
      ]
    },
    {
      "cell_type": "code",
      "metadata": {
        "colab": {
          "base_uri": "https://localhost:8080/",
          "height": 295
        },
        "id": "XrjgL1rFPEIz",
        "outputId": "4288a6ca-a7fc-4719-df64-e4da68a85533"
      },
      "source": [
        "# Example 3\n",
        "# ---\n",
        "# Question: Plot the probability results for each value up to all 10 people being left-handed from a random sample of 10 people.\n",
        "# ---\n",
        "# \n",
        "\n",
        "import matplotlib.pyplot as plt\n",
        "\n",
        "plt.bar(range(11), [binom.pmf(x, 10, 0.1) for x in range(11)])\n",
        "plt.xlabel('k')\n",
        "plt.ylabel('P(X=k)')\n",
        "plt.title('Binomial PMF')\n",
        "plt.show()"
      ],
      "execution_count": null,
      "outputs": [
        {
          "data": {
            "image/png": "[encoded data removed]",
            "text/plain": [
              "<Figure size 432x288 with 1 Axes>"
            ]
          },
          "metadata": {},
          "output_type": "display_data"
        }
      ]
    },
    {
      "cell_type": "code",
      "metadata": {
        "colab": {
          "base_uri": "https://localhost:8080/"
        },
        "id": "KuXE60QQdaPB",
        "outputId": "af561624-25c4-4394-fde7-b48ed9dc2042"
      },
      "source": [
        "# Example 4\n",
        "# ---\n",
        "# We can also specify an array or list of values of  k , and stats.binom.pmf \n",
        "# will return an array consisting of all their probabilities.\n",
        "# ---\n",
        "#\n",
        "binom.pmf([2, 3, 4], 10, 0.1)"
      ],
      "execution_count": null,
      "outputs": [
        {
          "data": {
            "text/plain": [
              "array([0.19371024, 0.05739563, 0.01116026])"
            ]
          },
          "execution_count": 5,
          "metadata": {},
          "output_type": "execute_result"
        }
      ]
    },
    {
      "cell_type": "markdown",
      "metadata": {
        "id": "bcx-wRqML__e"
      },
      "source": [
        "## <font color=\"green\">Challenges</font>"
      ]
    },
    {
      "cell_type": "code",
      "metadata": {
        "colab": {
          "base_uri": "https://localhost:8080/"
        },
        "id": "RvIQM6TfLyxI",
        "outputId": "b3949af9-af74-44d2-92ec-78098a18430e"
      },
      "source": [
        "# Challenge 1\n",
        "# ---\n",
        "# Question: Find the probability of 4 successes in 6 trials for the given probability of success 0.3 on each trial. \n",
        "# Round to the nearest hundredth of a percent. 𝑥 = 4, 𝑛 = 6, 𝑝 = 0.3\n",
        "# ---\n",
        "# \n",
        "from scipy.stats import binom\n",
        "binom.pmf(4, 6, 0.3)"
      ],
      "execution_count": null,
      "outputs": [
        {
          "data": {
            "text/plain": [
              "0.05953499999999999"
            ]
          },
          "execution_count": 6,
          "metadata": {},
          "output_type": "execute_result"
        }
      ]
    },
    {
      "cell_type": "code",
      "metadata": {
        "colab": {
          "base_uri": "https://localhost:8080/"
        },
        "id": "5e2ghlS9MMgT",
        "outputId": "9fdcc93b-532f-4e34-dd47-b041d280bac9"
      },
      "source": [
        "# Challenge 2\n",
        "# ---\n",
        "# Question: The likelihood that a patient with a heart attack dies of the attack is 0.04 (i.e., 4 of 100 die of the attack). \n",
        "# Suppose we have 5 patients who suffer a heart attack, what is the probability that all will survive?\n",
        "# ---\n",
        "# \n",
        "binom.pmf(1, 5, 0.04)"
      ],
      "execution_count": null,
      "outputs": [
        {
          "data": {
            "text/plain": [
              "0.16986931199999997"
            ]
          },
          "execution_count": 8,
          "metadata": {},
          "output_type": "execute_result"
        }
      ]
    },
    {
      "cell_type": "code",
      "metadata": {
        "colab": {
          "base_uri": "https://localhost:8080/"
        },
        "id": "fIWuCKnQMSoS",
        "outputId": "3a02e1a2-0c0b-48f1-a2b3-88772bb8f451"
      },
      "source": [
        "# Challenge 3\n",
        "# ---\n",
        "# Question: A baby toy has 6 batteries. Each battery has a 95% chance of lasting 1 year. \n",
        "# 1. What is the probability that all six batteries will last one year? \n",
        "# 2. What is the probability that three or less batteries will last one year? \n",
        "# 3. Round your answer to the nearest hundredth.\n",
        "# ---\n",
        "# What is the probability that all six batteries will last one year?  \n",
        "binom.pmf(1, 6, 0.95)"
      ],
      "execution_count": null,
      "outputs": [
        {
          "data": {
            "text/plain": [
              "1.7812500000000081e-06"
            ]
          },
          "execution_count": 9,
          "metadata": {},
          "output_type": "execute_result"
        }
      ]
    },
    {
      "cell_type": "code",
      "metadata": {
        "colab": {
          "background_save": true
        },
        "id": "vzEvLTBf8yy9",
        "outputId": "d9519c94-81d3-4d2b-ed8b-b8c0d44a96d5"
      },
      "source": [
        "#2. What is the probability that three or less batteries will last one year? \n",
        "binom.pmf(1, 6, 0.95)"
      ],
      "execution_count": null,
      "outputs": [
        {
          "data": {
            "text/plain": [
              "0.99999821875"
            ]
          },
          "execution_count": null,
          "metadata": {},
          "output_type": "execute_result"
        }
      ]
    },
    {
      "cell_type": "code",
      "metadata": {
        "id": "zO4agpv_8zJD"
      },
      "source": [
        ""
      ],
      "execution_count": null,
      "outputs": []
    },
    {
      "cell_type": "code",
      "metadata": {
        "id": "WViIHotuRLZ9",
        "colab": {
          "base_uri": "https://localhost:8080/"
        },
        "outputId": "447b16cf-4e32-4ad1-a45a-bd99d8dbf75c"
      },
      "source": [
        "# Challenge 4\n",
        "# ---\n",
        "# Question: The probability that a contact lens is defective is 5%. \n",
        "# 1. Find the probability that exactly one contact is defective out of a box of 20. \n",
        "# 2. Find the probability that one, two or three contacts are defective out of a box of 20. \n",
        "# Round your answer to the nearest hundredth.\n",
        "# ---\n",
        "# \n",
        "binom.pmf(1, 20, 0.05)"
      ],
      "execution_count": null,
      "outputs": [
        {
          "output_type": "execute_result",
          "data": {
            "text/plain": [
              "0.3773536025353074"
            ]
          },
          "metadata": {},
          "execution_count": 14
        }
      ]
    },
    {
      "cell_type": "code",
      "metadata": {
        "colab": {
          "base_uri": "https://localhost:8080/"
        },
        "id": "NV8g9aqrFvSP",
        "outputId": "23d68c88-8308-4bb7-82a8-fbeb2de68dfa"
      },
      "source": [
        "# 2. Find the probability that one, two or three contacts are defective out of a box of 20.\n",
        "binom.pmf(1, 20, 0.05)"
      ],
      "execution_count": null,
      "outputs": [
        {
          "output_type": "execute_result",
          "data": {
            "text/plain": [
              "0.3773536025353074"
            ]
          },
          "metadata": {},
          "execution_count": 15
        }
      ]
    },
    {
      "cell_type": "markdown",
      "metadata": {
        "id": "jtRl-_BnF5_4"
      },
      "source": [
        "redo challenge 4b"
      ]
    },
    {
      "cell_type": "code",
      "metadata": {
        "colab": {
          "base_uri": "https://localhost:8080/"
        },
        "id": "MwDhIiqXRMz2",
        "outputId": "0500a549-c5da-4b99-a837-0fd5c8d33a44"
      },
      "source": [
        "# Challenge 5\n",
        "# ---\n",
        "# Question: 30% of the Data science students prefer IPs to be on Mondays so they have the weekend to prepare for them. \n",
        "# Find the probability that 4 students chosen at random from the class of 30 want the next IP to be on Monday. \n",
        "# Round your answer to the nearest hundredth.\n",
        "# ---\n",
        "# \n",
        "binom.pmf(4, 30, 0.30)\n"
      ],
      "execution_count": null,
      "outputs": [
        {
          "output_type": "execute_result",
          "data": {
            "text/plain": [
              "0.020838375790912016"
            ]
          },
          "metadata": {},
          "execution_count": 16
        }
      ]
    },
    {
      "cell_type": "code",
      "metadata": {
        "id": "li1c3yBLROFt",
        "colab": {
          "base_uri": "https://localhost:8080/"
        },
        "outputId": "19159fc9-9c80-4d06-c93b-f17e3248b092"
      },
      "source": [
        "# Challenge 6\n",
        "# ---\n",
        "# Question: The probability that a baby is a girl is 50%. \n",
        "# 1. What is the probability of exactly 2 female babies in a family of 3 children? \n",
        "# 2. What is the probability of 3 male babies in a family of 3 children?\n",
        "# Round your answer to the nearest hundredth.\n",
        "# ---\n",
        "#1. What is the probability of exactly 2 female babies in a family of 3 children? \n",
        "binom.pmf(2, 3, 0.50)"
      ],
      "execution_count": null,
      "outputs": [
        {
          "output_type": "execute_result",
          "data": {
            "text/plain": [
              "0.375"
            ]
          },
          "metadata": {},
          "execution_count": 18
        }
      ]
    },
    {
      "cell_type": "code",
      "metadata": {
        "colab": {
          "base_uri": "https://localhost:8080/"
        },
        "id": "ghIrnc7RGq_x",
        "outputId": "fb664619-9720-4046-a076-919f83d134b0"
      },
      "source": [
        "# 2. What is the probability of 3 male babies in a family of 3 children?\n",
        "binom.pmf(3, 3, 0.50)"
      ],
      "execution_count": null,
      "outputs": [
        {
          "output_type": "execute_result",
          "data": {
            "text/plain": [
              "0.12500000000000003"
            ]
          },
          "metadata": {},
          "execution_count": 19
        }
      ]
    },
    {
      "cell_type": "code",
      "metadata": {
        "id": "VOq5b_uBRPM0"
      },
      "source": [
        "# Challenge 7\n",
        "# ---\n",
        "# Question: According to the Kenyan Census of 2009, the median annual family income for families in Kasarani is Ksh 560,400. \n",
        "# Consider a random sample of 24 Kasarani households.\n",
        "# What is the expected number of households with annual incomes less than Ksh. 560,400?\n",
        "# What is the probability of getting at least 18 out of the 24 households with annual incomes under Ksh. 560,400?\n",
        "# ---\n",
        "# b\n",
        "binom.pmf(24, 18, 560400)"
      ],
      "execution_count": null,
      "outputs": []
    },
    {
      "cell_type": "code",
      "metadata": {
        "id": "CyenRT0JG4do"
      },
      "source": [
        ""
      ],
      "execution_count": null,
      "outputs": []
    },
    {
      "cell_type": "code",
      "metadata": {
        "id": "AXVR38r6TXkm",
        "colab": {
          "base_uri": "https://localhost:8080/"
        },
        "outputId": "cd121d24-e744-4ec4-e193-cd209b86101c"
      },
      "source": [
        "# Challenge 8\n",
        "# ---\n",
        "# Question: Suppose there are twelve multiple-choice questions in an English class quiz. \n",
        "# Each question has five possible answers, and only one of them is correct. \n",
        "# Find the probability of having four or less correct answers if a student attempts to answer every question at random.\n",
        "# ---\n",
        "# \n",
        "binom.pmf(1, 12, (5/12))"
      ],
      "execution_count": null,
      "outputs": [
        {
          "output_type": "execute_result",
          "data": {
            "text/plain": [
              "0.013306221174662274"
            ]
          },
          "metadata": {},
          "execution_count": 21
        }
      ]
    },
    {
      "cell_type": "code",
      "metadata": {
        "colab": {
          "base_uri": "https://localhost:8080/"
        },
        "id": "pTWKbMKtIxQQ",
        "outputId": "ed7a7397-08cd-4d2e-b2df-599f1ec8331f"
      },
      "source": [
        "# Find the probability of having four or less correct answers if a student attempts to answer every question at random.\n",
        "1-binom.pmf(4, 12, (5/12))"
      ],
      "execution_count": null,
      "outputs": [
        {
          "output_type": "execute_result",
          "data": {
            "text/plain": [
              "0.799970253842996"
            ]
          },
          "metadata": {},
          "execution_count": 22
        }
      ]
    },
    {
      "cell_type": "code",
      "metadata": {
        "id": "Lnk_OBsdTaEz",
        "colab": {
          "base_uri": "https://localhost:8080/"
        },
        "outputId": "ebeedd10-dd04-48d2-ea83-945a28c0a4e7"
      },
      "source": [
        "# Challenge 9\n",
        "# ---\n",
        "# Question: A car dealer knows from past experience that he can make a sale to 20% of the customers who he interacts with. \n",
        "# What is the probability that, in five randomly selected interactions, he will make a sale to:\n",
        "# 1. Exactly three customers?\n",
        "# 2. At most one customer?\n",
        "# 3. At least one customer?\n",
        "# ---\n",
        "# \n",
        "#1. Exactly three customers?\n",
        "binom.pmf(3, 5, 0.20)"
      ],
      "execution_count": null,
      "outputs": [
        {
          "output_type": "execute_result",
          "data": {
            "text/plain": [
              "0.051200000000000016"
            ]
          },
          "metadata": {},
          "execution_count": 23
        }
      ]
    },
    {
      "cell_type": "code",
      "metadata": {
        "colab": {
          "base_uri": "https://localhost:8080/"
        },
        "id": "by94BCS7Tb_x",
        "outputId": "0cb2aa8d-4b5b-4382-b3a0-1c615317dbcb"
      },
      "source": [
        "# 2. At most one customer?\n",
        "binom.pmf(1, 5, 0.20)"
      ],
      "execution_count": null,
      "outputs": [
        {
          "output_type": "execute_result",
          "data": {
            "text/plain": [
              "0.4095999999999999"
            ]
          },
          "metadata": {},
          "execution_count": 24
        }
      ]
    },
    {
      "cell_type": "code",
      "metadata": {
        "id": "LQrVCTleTnw7"
      },
      "source": [
        "# 3. At least one customer?"
      ],
      "execution_count": null,
      "outputs": []
    },
    {
      "cell_type": "code",
      "metadata": {
        "id": "zYoKSgC1Tai3",
        "colab": {
          "base_uri": "https://localhost:8080/"
        },
        "outputId": "cde3c9e2-f184-479c-abda-3019668d09bb"
      },
      "source": [
        "# Challenge 10\n",
        "# ---\n",
        "# Question: A poll of twenty voters is taken to determine the number in favor of a certain candidate for mayor. \n",
        "# Suppose that 60% of all the city’s voters favor this candidate.\n",
        "# 1. Find the probability of x ≤ 11.\n",
        "# 2. Find the probability of x > 14.\n",
        "# 3. Find the probability of x = 15.\n",
        "# ---\n",
        "# # 1. Find the probability of x ≤ 11.\n",
        "binom.pmf(11, 20, 0.60)"
      ],
      "execution_count": null,
      "outputs": [
        {
          "output_type": "execute_result",
          "data": {
            "text/plain": [
              "0.15973847800416796"
            ]
          },
          "metadata": {},
          "execution_count": 27
        }
      ]
    },
    {
      "cell_type": "code",
      "metadata": {
        "id": "sqinbqlaV0Ha"
      },
      "source": [
        "# 2. Find the probability of x > 14."
      ],
      "execution_count": null,
      "outputs": []
    },
    {
      "cell_type": "code",
      "metadata": {
        "colab": {
          "base_uri": "https://localhost:8080/"
        },
        "id": "GsL4eweuV1zT",
        "outputId": "0b636c78-8ddf-440e-f3a1-bbb5bbfde190"
      },
      "source": [
        "# 3. Find the probability of x = 15.\n",
        "binom.pmf(15, 20, 0.60)"
      ],
      "execution_count": null,
      "outputs": [
        {
          "output_type": "execute_result",
          "data": {
            "text/plain": [
              "0.07464701952887058"
            ]
          },
          "metadata": {},
          "execution_count": 28
        }
      ]
    }
  ]
}