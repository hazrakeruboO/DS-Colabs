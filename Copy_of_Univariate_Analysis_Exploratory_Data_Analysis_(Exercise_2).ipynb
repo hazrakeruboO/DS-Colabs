{
  "nbformat": 4,
  "nbformat_minor": 0,
  "metadata": {
    "colab": {
      "name": "Copy of Univariate Analysis - Exploratory Data Analysis (Exercise 2)",
      "provenance": [],
      "collapsed_sections": [
        "kLG2VTrnTvYL",
        "XecOwPNorl2W",
        "J4wfHZwQrs-t",
        "a9BPYqunry97",
        "7KMRBJ7zr9HD",
        "zSGyg6kWsBUl",
        "iUNbvIvnT7ep",
        "OI3P3YnHUEBk",
        "6XC_g-zKxe-r",
        "FlBMxEDBUc9B",
        "rF2ABPsHUtbZ",
        "vTbdjSrhVIiT",
        "lQ2G4ZPDVOXE",
        "xrmHVMVsVS--",
        "HPQviDmNtta8",
        "qjFHK1CKty7o",
        "HSsicSdvt4Zs"
      ],
      "toc_visible": true,
      "include_colab_link": true
    },
    "kernelspec": {
      "name": "python3",
      "display_name": "Python 3"
    }
  },
  "cells": [
    {
      "cell_type": "markdown",
      "metadata": {
        "id": "view-in-github",
        "colab_type": "text"
      },
      "source": [
        "<a href=\"https://colab.research.google.com/github/hazrakeruboO/DS-Colabs/blob/main/Copy_of_Univariate_Analysis_Exploratory_Data_Analysis_(Exercise_2).ipynb\" target=\"_parent\"><img src=\"https://colab.research.google.com/assets/colab-badge.svg\" alt=\"Open In Colab\"/></a>"
      ]
    },
    {
      "cell_type": "markdown",
      "metadata": {
        "id": "xMxtPsqcTsSH"
      },
      "source": [
        "# Exploratory Data Analysis: Univariate Analysis"
      ]
    },
    {
      "cell_type": "markdown",
      "metadata": {
        "id": "kLG2VTrnTvYL"
      },
      "source": [
        "## 1. Defining the Question"
      ]
    },
    {
      "cell_type": "markdown",
      "metadata": {
        "id": "XecOwPNorl2W"
      },
      "source": [
        "### a) Specifying the Data Analytic Question"
      ]
    },
    {
      "cell_type": "markdown",
      "metadata": {
        "id": "fZOpvz6fWyFa"
      },
      "source": [
        "> Which subject performed best during the 2017 ACT test?"
      ]
    },
    {
      "cell_type": "markdown",
      "metadata": {
        "id": "J4wfHZwQrs-t"
      },
      "source": [
        "### b) Defining the Metric for Success"
      ]
    },
    {
      "cell_type": "markdown",
      "metadata": {
        "id": "a9BPYqunry97"
      },
      "source": [
        "### c) Understanding the context "
      ]
    },
    {
      "cell_type": "markdown",
      "metadata": {
        "id": "7KMRBJ7zr9HD"
      },
      "source": [
        "### d) Recording the Experimental Design"
      ]
    },
    {
      "cell_type": "markdown",
      "metadata": {
        "id": "zSGyg6kWsBUl"
      },
      "source": [
        "### e) Data Relevance"
      ]
    },
    {
      "cell_type": "markdown",
      "metadata": {
        "id": "iUNbvIvnT7ep"
      },
      "source": [
        "## 2. Reading the Data"
      ]
    },
    {
      "cell_type": "code",
      "metadata": {
        "id": "XJn2KjW-WMlG",
        "colab": {
          "base_uri": "https://localhost:8080/",
          "height": 1000
        },
        "outputId": "067440be-9b0d-4917-eb1f-0bc746753890"
      },
      "source": [
        "# Loading the Data from the source \n",
        "# ---\n",
        "# Dataset url = http://bit.ly/2017ACTScoresDataset\n",
        "# ---\n",
        "#\n",
        "dataset1 = \"http://bit.ly/2017ACTScoresDataset\"\n",
        "dataset1= pd.read_csv(dataset1)\n",
        "dataset1\n"
      ],
      "execution_count": null,
      "outputs": [
        {
          "output_type": "execute_result",
          "data": {
            "text/html": [
              "<div>\n",
              "<style scoped>\n",
              "    .dataframe tbody tr th:only-of-type {\n",
              "        vertical-align: middle;\n",
              "    }\n",
              "\n",
              "    .dataframe tbody tr th {\n",
              "        vertical-align: top;\n",
              "    }\n",
              "\n",
              "    .dataframe thead th {\n",
              "        text-align: right;\n",
              "    }\n",
              "</style>\n",
              "<table border=\"1\" class=\"dataframe\">\n",
              "  <thead>\n",
              "    <tr style=\"text-align: right;\">\n",
              "      <th></th>\n",
              "      <th>State</th>\n",
              "      <th>Participation</th>\n",
              "      <th>English</th>\n",
              "      <th>Math</th>\n",
              "      <th>Reading</th>\n",
              "      <th>Science</th>\n",
              "      <th>Composite</th>\n",
              "    </tr>\n",
              "  </thead>\n",
              "  <tbody>\n",
              "    <tr>\n",
              "      <th>0</th>\n",
              "      <td>National</td>\n",
              "      <td>60%</td>\n",
              "      <td>20.3</td>\n",
              "      <td>20.7</td>\n",
              "      <td>21.4</td>\n",
              "      <td>21.0</td>\n",
              "      <td>21.0</td>\n",
              "    </tr>\n",
              "    <tr>\n",
              "      <th>1</th>\n",
              "      <td>Alabama</td>\n",
              "      <td>100%</td>\n",
              "      <td>18.9</td>\n",
              "      <td>18.4</td>\n",
              "      <td>19.7</td>\n",
              "      <td>19.4</td>\n",
              "      <td>19.2</td>\n",
              "    </tr>\n",
              "    <tr>\n",
              "      <th>2</th>\n",
              "      <td>Alaska</td>\n",
              "      <td>65%</td>\n",
              "      <td>18.7</td>\n",
              "      <td>19.8</td>\n",
              "      <td>20.4</td>\n",
              "      <td>19.9</td>\n",
              "      <td>19.8</td>\n",
              "    </tr>\n",
              "    <tr>\n",
              "      <th>3</th>\n",
              "      <td>Arizona</td>\n",
              "      <td>62%</td>\n",
              "      <td>18.6</td>\n",
              "      <td>19.8</td>\n",
              "      <td>20.1</td>\n",
              "      <td>19.8</td>\n",
              "      <td>19.7</td>\n",
              "    </tr>\n",
              "    <tr>\n",
              "      <th>4</th>\n",
              "      <td>Arkansas</td>\n",
              "      <td>100%</td>\n",
              "      <td>18.9</td>\n",
              "      <td>19.0</td>\n",
              "      <td>19.7</td>\n",
              "      <td>19.5</td>\n",
              "      <td>19.4</td>\n",
              "    </tr>\n",
              "    <tr>\n",
              "      <th>5</th>\n",
              "      <td>California</td>\n",
              "      <td>31%</td>\n",
              "      <td>22.5</td>\n",
              "      <td>22.7</td>\n",
              "      <td>23.1</td>\n",
              "      <td>22.2</td>\n",
              "      <td>22.8</td>\n",
              "    </tr>\n",
              "    <tr>\n",
              "      <th>6</th>\n",
              "      <td>Colorado</td>\n",
              "      <td>100%</td>\n",
              "      <td>20.1</td>\n",
              "      <td>20.3</td>\n",
              "      <td>21.2</td>\n",
              "      <td>20.9</td>\n",
              "      <td>20.8</td>\n",
              "    </tr>\n",
              "    <tr>\n",
              "      <th>7</th>\n",
              "      <td>Connecticut</td>\n",
              "      <td>31%</td>\n",
              "      <td>25.5</td>\n",
              "      <td>24.6</td>\n",
              "      <td>25.6</td>\n",
              "      <td>24.6</td>\n",
              "      <td>25.2</td>\n",
              "    </tr>\n",
              "    <tr>\n",
              "      <th>8</th>\n",
              "      <td>Delaware</td>\n",
              "      <td>18%</td>\n",
              "      <td>24.1</td>\n",
              "      <td>23.4</td>\n",
              "      <td>24.8</td>\n",
              "      <td>23.6</td>\n",
              "      <td>24.1</td>\n",
              "    </tr>\n",
              "    <tr>\n",
              "      <th>9</th>\n",
              "      <td>District of Columbia</td>\n",
              "      <td>32%</td>\n",
              "      <td>24.4</td>\n",
              "      <td>23.5</td>\n",
              "      <td>24.9</td>\n",
              "      <td>23.5</td>\n",
              "      <td>24.2</td>\n",
              "    </tr>\n",
              "    <tr>\n",
              "      <th>10</th>\n",
              "      <td>Florida</td>\n",
              "      <td>73%</td>\n",
              "      <td>19.0</td>\n",
              "      <td>19.4</td>\n",
              "      <td>21.0</td>\n",
              "      <td>19.4</td>\n",
              "      <td>19.8</td>\n",
              "    </tr>\n",
              "    <tr>\n",
              "      <th>11</th>\n",
              "      <td>Georgia</td>\n",
              "      <td>55%</td>\n",
              "      <td>21.0</td>\n",
              "      <td>20.9</td>\n",
              "      <td>22.0</td>\n",
              "      <td>21.3</td>\n",
              "      <td>21.4</td>\n",
              "    </tr>\n",
              "    <tr>\n",
              "      <th>12</th>\n",
              "      <td>Hawaii</td>\n",
              "      <td>90%</td>\n",
              "      <td>17.8</td>\n",
              "      <td>19.2</td>\n",
              "      <td>19.2</td>\n",
              "      <td>19.3</td>\n",
              "      <td>19.0</td>\n",
              "    </tr>\n",
              "    <tr>\n",
              "      <th>13</th>\n",
              "      <td>Idaho</td>\n",
              "      <td>38%</td>\n",
              "      <td>21.9</td>\n",
              "      <td>21.8</td>\n",
              "      <td>23.0</td>\n",
              "      <td>22.1</td>\n",
              "      <td>22.3</td>\n",
              "    </tr>\n",
              "    <tr>\n",
              "      <th>14</th>\n",
              "      <td>Illinois</td>\n",
              "      <td>93%</td>\n",
              "      <td>21.0</td>\n",
              "      <td>21.2</td>\n",
              "      <td>21.6</td>\n",
              "      <td>21.3</td>\n",
              "      <td>21.4</td>\n",
              "    </tr>\n",
              "    <tr>\n",
              "      <th>15</th>\n",
              "      <td>Indiana</td>\n",
              "      <td>35%</td>\n",
              "      <td>22.0</td>\n",
              "      <td>22.4</td>\n",
              "      <td>23.2</td>\n",
              "      <td>22.3</td>\n",
              "      <td>22.6</td>\n",
              "    </tr>\n",
              "    <tr>\n",
              "      <th>16</th>\n",
              "      <td>Iowa</td>\n",
              "      <td>67%</td>\n",
              "      <td>21.2</td>\n",
              "      <td>21.3</td>\n",
              "      <td>22.6</td>\n",
              "      <td>22.1</td>\n",
              "      <td>21.9</td>\n",
              "    </tr>\n",
              "    <tr>\n",
              "      <th>17</th>\n",
              "      <td>Kansas</td>\n",
              "      <td>73%</td>\n",
              "      <td>21.1</td>\n",
              "      <td>21.3</td>\n",
              "      <td>22.3</td>\n",
              "      <td>21.7</td>\n",
              "      <td>21.7</td>\n",
              "    </tr>\n",
              "    <tr>\n",
              "      <th>18</th>\n",
              "      <td>Kentucky</td>\n",
              "      <td>100%</td>\n",
              "      <td>19.6</td>\n",
              "      <td>19.4</td>\n",
              "      <td>20.5</td>\n",
              "      <td>20.1</td>\n",
              "      <td>20.0</td>\n",
              "    </tr>\n",
              "    <tr>\n",
              "      <th>19</th>\n",
              "      <td>Louisiana</td>\n",
              "      <td>100%</td>\n",
              "      <td>19.4</td>\n",
              "      <td>18.8</td>\n",
              "      <td>19.8</td>\n",
              "      <td>19.6</td>\n",
              "      <td>19.5</td>\n",
              "    </tr>\n",
              "    <tr>\n",
              "      <th>20</th>\n",
              "      <td>Maine</td>\n",
              "      <td>8%</td>\n",
              "      <td>24.2</td>\n",
              "      <td>24.0</td>\n",
              "      <td>24.8</td>\n",
              "      <td>23.7</td>\n",
              "      <td>24.3</td>\n",
              "    </tr>\n",
              "    <tr>\n",
              "      <th>21</th>\n",
              "      <td>Maryland</td>\n",
              "      <td>28%</td>\n",
              "      <td>23.3</td>\n",
              "      <td>23.1</td>\n",
              "      <td>24.2</td>\n",
              "      <td>2.3</td>\n",
              "      <td>23.6</td>\n",
              "    </tr>\n",
              "    <tr>\n",
              "      <th>22</th>\n",
              "      <td>Massachusetts</td>\n",
              "      <td>29%</td>\n",
              "      <td>25.4</td>\n",
              "      <td>25.3</td>\n",
              "      <td>25.9</td>\n",
              "      <td>24.7</td>\n",
              "      <td>25.4</td>\n",
              "    </tr>\n",
              "    <tr>\n",
              "      <th>23</th>\n",
              "      <td>Michigan</td>\n",
              "      <td>29%</td>\n",
              "      <td>24.1</td>\n",
              "      <td>23.7</td>\n",
              "      <td>24.5</td>\n",
              "      <td>23.8</td>\n",
              "      <td>24.1</td>\n",
              "    </tr>\n",
              "    <tr>\n",
              "      <th>24</th>\n",
              "      <td>Minnesota</td>\n",
              "      <td>100%</td>\n",
              "      <td>20.4</td>\n",
              "      <td>21.5</td>\n",
              "      <td>21.8</td>\n",
              "      <td>21.6</td>\n",
              "      <td>21.5</td>\n",
              "    </tr>\n",
              "    <tr>\n",
              "      <th>25</th>\n",
              "      <td>Mississippi</td>\n",
              "      <td>100%</td>\n",
              "      <td>18.2</td>\n",
              "      <td>18.1</td>\n",
              "      <td>18.8</td>\n",
              "      <td>18.8</td>\n",
              "      <td>18.6</td>\n",
              "    </tr>\n",
              "    <tr>\n",
              "      <th>26</th>\n",
              "      <td>Missouri</td>\n",
              "      <td>100%</td>\n",
              "      <td>19.8</td>\n",
              "      <td>19.9</td>\n",
              "      <td>20.8</td>\n",
              "      <td>20.5</td>\n",
              "      <td>20.4</td>\n",
              "    </tr>\n",
              "    <tr>\n",
              "      <th>27</th>\n",
              "      <td>Montana</td>\n",
              "      <td>100%</td>\n",
              "      <td>19.0</td>\n",
              "      <td>20.2</td>\n",
              "      <td>21.0</td>\n",
              "      <td>20.5</td>\n",
              "      <td>20.3</td>\n",
              "    </tr>\n",
              "    <tr>\n",
              "      <th>28</th>\n",
              "      <td>Nebraska</td>\n",
              "      <td>84%</td>\n",
              "      <td>20.9</td>\n",
              "      <td>20.9</td>\n",
              "      <td>21.9</td>\n",
              "      <td>21.5</td>\n",
              "      <td>21.4</td>\n",
              "    </tr>\n",
              "    <tr>\n",
              "      <th>29</th>\n",
              "      <td>Nevada</td>\n",
              "      <td>100%</td>\n",
              "      <td>16.3</td>\n",
              "      <td>18.0</td>\n",
              "      <td>18.1</td>\n",
              "      <td>18.2</td>\n",
              "      <td>17.8</td>\n",
              "    </tr>\n",
              "    <tr>\n",
              "      <th>30</th>\n",
              "      <td>New Hampshire</td>\n",
              "      <td>18%</td>\n",
              "      <td>25.4</td>\n",
              "      <td>25.1</td>\n",
              "      <td>26.0</td>\n",
              "      <td>24.9</td>\n",
              "      <td>25.5</td>\n",
              "    </tr>\n",
              "    <tr>\n",
              "      <th>31</th>\n",
              "      <td>New Jersey</td>\n",
              "      <td>34%</td>\n",
              "      <td>23.8</td>\n",
              "      <td>23.8</td>\n",
              "      <td>24.1</td>\n",
              "      <td>23.2</td>\n",
              "      <td>23.9</td>\n",
              "    </tr>\n",
              "    <tr>\n",
              "      <th>32</th>\n",
              "      <td>New Mexico</td>\n",
              "      <td>66%</td>\n",
              "      <td>18.6</td>\n",
              "      <td>19.4</td>\n",
              "      <td>20.4</td>\n",
              "      <td>20.0</td>\n",
              "      <td>19.7</td>\n",
              "    </tr>\n",
              "    <tr>\n",
              "      <th>33</th>\n",
              "      <td>New York</td>\n",
              "      <td>31%</td>\n",
              "      <td>23.8</td>\n",
              "      <td>24.0</td>\n",
              "      <td>24.6</td>\n",
              "      <td>23.9</td>\n",
              "      <td>24.2</td>\n",
              "    </tr>\n",
              "    <tr>\n",
              "      <th>34</th>\n",
              "      <td>North Carolina</td>\n",
              "      <td>100%</td>\n",
              "      <td>17.8</td>\n",
              "      <td>19.3</td>\n",
              "      <td>19.6</td>\n",
              "      <td>19.3</td>\n",
              "      <td>19.1</td>\n",
              "    </tr>\n",
              "    <tr>\n",
              "      <th>35</th>\n",
              "      <td>North Dakota</td>\n",
              "      <td>98%</td>\n",
              "      <td>19.0</td>\n",
              "      <td>20.4</td>\n",
              "      <td>20.5</td>\n",
              "      <td>20.6</td>\n",
              "      <td>20.3</td>\n",
              "    </tr>\n",
              "    <tr>\n",
              "      <th>36</th>\n",
              "      <td>Ohio</td>\n",
              "      <td>75%</td>\n",
              "      <td>21.2</td>\n",
              "      <td>21.6</td>\n",
              "      <td>22.5</td>\n",
              "      <td>22.0</td>\n",
              "      <td>22.0</td>\n",
              "    </tr>\n",
              "    <tr>\n",
              "      <th>37</th>\n",
              "      <td>Oklahoma</td>\n",
              "      <td>100%</td>\n",
              "      <td>18.5</td>\n",
              "      <td>18.8</td>\n",
              "      <td>20.1</td>\n",
              "      <td>19.6</td>\n",
              "      <td>19.4</td>\n",
              "    </tr>\n",
              "    <tr>\n",
              "      <th>38</th>\n",
              "      <td>Oregon</td>\n",
              "      <td>40%</td>\n",
              "      <td>21.2</td>\n",
              "      <td>21.5</td>\n",
              "      <td>22.4</td>\n",
              "      <td>21.7</td>\n",
              "      <td>21.8</td>\n",
              "    </tr>\n",
              "    <tr>\n",
              "      <th>39</th>\n",
              "      <td>Pennsylvania</td>\n",
              "      <td>23%</td>\n",
              "      <td>23.4</td>\n",
              "      <td>23.4</td>\n",
              "      <td>24.2</td>\n",
              "      <td>23.3</td>\n",
              "      <td>23.7</td>\n",
              "    </tr>\n",
              "    <tr>\n",
              "      <th>40</th>\n",
              "      <td>Rhode Island</td>\n",
              "      <td>21%</td>\n",
              "      <td>24.0</td>\n",
              "      <td>23.3</td>\n",
              "      <td>24.7</td>\n",
              "      <td>23.4</td>\n",
              "      <td>24.0</td>\n",
              "    </tr>\n",
              "    <tr>\n",
              "      <th>41</th>\n",
              "      <td>South Carolina</td>\n",
              "      <td>100%</td>\n",
              "      <td>17.5</td>\n",
              "      <td>18.6</td>\n",
              "      <td>19.1</td>\n",
              "      <td>18.9</td>\n",
              "      <td>18.7</td>\n",
              "    </tr>\n",
              "    <tr>\n",
              "      <th>42</th>\n",
              "      <td>South Dakota</td>\n",
              "      <td>80%</td>\n",
              "      <td>20.7</td>\n",
              "      <td>21.5</td>\n",
              "      <td>22.3</td>\n",
              "      <td>22.0</td>\n",
              "      <td>21.8</td>\n",
              "    </tr>\n",
              "    <tr>\n",
              "      <th>43</th>\n",
              "      <td>Tennessee</td>\n",
              "      <td>100%</td>\n",
              "      <td>19.5</td>\n",
              "      <td>19.2</td>\n",
              "      <td>20.1</td>\n",
              "      <td>19.9</td>\n",
              "      <td>19.8</td>\n",
              "    </tr>\n",
              "    <tr>\n",
              "      <th>44</th>\n",
              "      <td>Texas</td>\n",
              "      <td>45%</td>\n",
              "      <td>19.5</td>\n",
              "      <td>20.7</td>\n",
              "      <td>21.1</td>\n",
              "      <td>20.9</td>\n",
              "      <td>20.7</td>\n",
              "    </tr>\n",
              "    <tr>\n",
              "      <th>45</th>\n",
              "      <td>Utah</td>\n",
              "      <td>100%</td>\n",
              "      <td>19.5</td>\n",
              "      <td>19.9</td>\n",
              "      <td>20.8</td>\n",
              "      <td>20.6</td>\n",
              "      <td>20.3</td>\n",
              "    </tr>\n",
              "    <tr>\n",
              "      <th>46</th>\n",
              "      <td>Vermont</td>\n",
              "      <td>29%</td>\n",
              "      <td>23.3</td>\n",
              "      <td>23.1</td>\n",
              "      <td>24.4</td>\n",
              "      <td>23.2</td>\n",
              "      <td>23.6</td>\n",
              "    </tr>\n",
              "    <tr>\n",
              "      <th>47</th>\n",
              "      <td>Virginia</td>\n",
              "      <td>29%</td>\n",
              "      <td>23.5</td>\n",
              "      <td>23.3</td>\n",
              "      <td>24.6</td>\n",
              "      <td>23.5</td>\n",
              "      <td>23.8</td>\n",
              "    </tr>\n",
              "    <tr>\n",
              "      <th>48</th>\n",
              "      <td>Washington</td>\n",
              "      <td>29%</td>\n",
              "      <td>20.9</td>\n",
              "      <td>21.9</td>\n",
              "      <td>22.1</td>\n",
              "      <td>22.0</td>\n",
              "      <td>21.9</td>\n",
              "    </tr>\n",
              "    <tr>\n",
              "      <th>49</th>\n",
              "      <td>West Virginia</td>\n",
              "      <td>69%</td>\n",
              "      <td>20.0</td>\n",
              "      <td>19.4</td>\n",
              "      <td>21.2</td>\n",
              "      <td>20.5</td>\n",
              "      <td>20.4</td>\n",
              "    </tr>\n",
              "    <tr>\n",
              "      <th>50</th>\n",
              "      <td>Wisconsin</td>\n",
              "      <td>100%</td>\n",
              "      <td>19.7</td>\n",
              "      <td>20.4</td>\n",
              "      <td>20.6</td>\n",
              "      <td>20.9</td>\n",
              "      <td>20.5</td>\n",
              "    </tr>\n",
              "    <tr>\n",
              "      <th>51</th>\n",
              "      <td>Wyoming</td>\n",
              "      <td>100%</td>\n",
              "      <td>19.4</td>\n",
              "      <td>19.8</td>\n",
              "      <td>20.8</td>\n",
              "      <td>20.6</td>\n",
              "      <td>20.2x</td>\n",
              "    </tr>\n",
              "  </tbody>\n",
              "</table>\n",
              "</div>"
            ],
            "text/plain": [
              "                   State Participation  English  ...  Reading  Science  Composite\n",
              "0               National           60%     20.3  ...     21.4     21.0       21.0\n",
              "1                Alabama          100%     18.9  ...     19.7     19.4       19.2\n",
              "2                 Alaska           65%     18.7  ...     20.4     19.9       19.8\n",
              "3                Arizona           62%     18.6  ...     20.1     19.8       19.7\n",
              "4               Arkansas          100%     18.9  ...     19.7     19.5       19.4\n",
              "5             California           31%     22.5  ...     23.1     22.2       22.8\n",
              "6               Colorado          100%     20.1  ...     21.2     20.9       20.8\n",
              "7            Connecticut           31%     25.5  ...     25.6     24.6       25.2\n",
              "8               Delaware           18%     24.1  ...     24.8     23.6       24.1\n",
              "9   District of Columbia           32%     24.4  ...     24.9     23.5       24.2\n",
              "10               Florida           73%     19.0  ...     21.0     19.4       19.8\n",
              "11               Georgia           55%     21.0  ...     22.0     21.3       21.4\n",
              "12                Hawaii           90%     17.8  ...     19.2     19.3       19.0\n",
              "13                 Idaho           38%     21.9  ...     23.0     22.1       22.3\n",
              "14              Illinois           93%     21.0  ...     21.6     21.3       21.4\n",
              "15               Indiana           35%     22.0  ...     23.2     22.3       22.6\n",
              "16                  Iowa           67%     21.2  ...     22.6     22.1       21.9\n",
              "17                Kansas           73%     21.1  ...     22.3     21.7       21.7\n",
              "18              Kentucky          100%     19.6  ...     20.5     20.1       20.0\n",
              "19             Louisiana          100%     19.4  ...     19.8     19.6       19.5\n",
              "20                 Maine            8%     24.2  ...     24.8     23.7       24.3\n",
              "21              Maryland           28%     23.3  ...     24.2      2.3       23.6\n",
              "22         Massachusetts           29%     25.4  ...     25.9     24.7       25.4\n",
              "23              Michigan           29%     24.1  ...     24.5     23.8       24.1\n",
              "24             Minnesota          100%     20.4  ...     21.8     21.6       21.5\n",
              "25           Mississippi          100%     18.2  ...     18.8     18.8       18.6\n",
              "26              Missouri          100%     19.8  ...     20.8     20.5       20.4\n",
              "27               Montana          100%     19.0  ...     21.0     20.5       20.3\n",
              "28              Nebraska           84%     20.9  ...     21.9     21.5       21.4\n",
              "29                Nevada          100%     16.3  ...     18.1     18.2       17.8\n",
              "30         New Hampshire           18%     25.4  ...     26.0     24.9       25.5\n",
              "31            New Jersey           34%     23.8  ...     24.1     23.2       23.9\n",
              "32            New Mexico           66%     18.6  ...     20.4     20.0       19.7\n",
              "33              New York           31%     23.8  ...     24.6     23.9       24.2\n",
              "34        North Carolina          100%     17.8  ...     19.6     19.3       19.1\n",
              "35          North Dakota           98%     19.0  ...     20.5     20.6       20.3\n",
              "36                  Ohio           75%     21.2  ...     22.5     22.0       22.0\n",
              "37              Oklahoma          100%     18.5  ...     20.1     19.6       19.4\n",
              "38                Oregon           40%     21.2  ...     22.4     21.7       21.8\n",
              "39          Pennsylvania           23%     23.4  ...     24.2     23.3       23.7\n",
              "40          Rhode Island           21%     24.0  ...     24.7     23.4       24.0\n",
              "41        South Carolina          100%     17.5  ...     19.1     18.9       18.7\n",
              "42          South Dakota           80%     20.7  ...     22.3     22.0       21.8\n",
              "43             Tennessee          100%     19.5  ...     20.1     19.9       19.8\n",
              "44                 Texas           45%     19.5  ...     21.1     20.9       20.7\n",
              "45                  Utah          100%     19.5  ...     20.8     20.6       20.3\n",
              "46               Vermont           29%     23.3  ...     24.4     23.2       23.6\n",
              "47              Virginia           29%     23.5  ...     24.6     23.5       23.8\n",
              "48            Washington           29%     20.9  ...     22.1     22.0       21.9\n",
              "49         West Virginia           69%     20.0  ...     21.2     20.5       20.4\n",
              "50             Wisconsin          100%     19.7  ...     20.6     20.9       20.5\n",
              "51               Wyoming          100%     19.4  ...     20.8     20.6      20.2x\n",
              "\n",
              "[52 rows x 7 columns]"
            ]
          },
          "metadata": {},
          "execution_count": 11
        }
      ]
    },
    {
      "cell_type": "code",
      "metadata": {
        "id": "gHcl4MGNlPz8"
      },
      "source": [
        "import numpy as np\n",
        "import pandas as pd\n",
        "import seaborn as sns\n",
        "import matplotlib.pyplot as plt"
      ],
      "execution_count": null,
      "outputs": []
    },
    {
      "cell_type": "markdown",
      "metadata": {
        "id": "OI3P3YnHUEBk"
      },
      "source": [
        "## 3. Checking the Data"
      ]
    },
    {
      "cell_type": "code",
      "metadata": {
        "id": "YjSVNwgptHxY",
        "colab": {
          "base_uri": "https://localhost:8080/"
        },
        "outputId": "cf9e3be0-8b11-488e-c775-716587dc2197"
      },
      "source": [
        "# Determining the no. of records in our dataset\n",
        "#\n",
        "dataset1.count()"
      ],
      "execution_count": null,
      "outputs": [
        {
          "output_type": "execute_result",
          "data": {
            "text/plain": [
              "State            52\n",
              "Participation    52\n",
              "English          52\n",
              "Math             52\n",
              "Reading          52\n",
              "Science          52\n",
              "Composite        52\n",
              "dtype: int64"
            ]
          },
          "metadata": {},
          "execution_count": 6
        }
      ]
    },
    {
      "cell_type": "code",
      "metadata": {
        "id": "xHhTw5eKWr0n",
        "colab": {
          "base_uri": "https://localhost:8080/",
          "height": 266
        },
        "outputId": "995c4af9-ba3e-4a59-e182-0bc128076c54"
      },
      "source": [
        "# Previewing the top of our dataset\n",
        "#\n",
        "dataset1.head(7)"
      ],
      "execution_count": null,
      "outputs": [
        {
          "output_type": "execute_result",
          "data": {
            "text/html": [
              "<div>\n",
              "<style scoped>\n",
              "    .dataframe tbody tr th:only-of-type {\n",
              "        vertical-align: middle;\n",
              "    }\n",
              "\n",
              "    .dataframe tbody tr th {\n",
              "        vertical-align: top;\n",
              "    }\n",
              "\n",
              "    .dataframe thead th {\n",
              "        text-align: right;\n",
              "    }\n",
              "</style>\n",
              "<table border=\"1\" class=\"dataframe\">\n",
              "  <thead>\n",
              "    <tr style=\"text-align: right;\">\n",
              "      <th></th>\n",
              "      <th>State</th>\n",
              "      <th>Participation</th>\n",
              "      <th>English</th>\n",
              "      <th>Math</th>\n",
              "      <th>Reading</th>\n",
              "      <th>Science</th>\n",
              "      <th>Composite</th>\n",
              "    </tr>\n",
              "  </thead>\n",
              "  <tbody>\n",
              "    <tr>\n",
              "      <th>0</th>\n",
              "      <td>National</td>\n",
              "      <td>60%</td>\n",
              "      <td>20.3</td>\n",
              "      <td>20.7</td>\n",
              "      <td>21.4</td>\n",
              "      <td>21.0</td>\n",
              "      <td>21.0</td>\n",
              "    </tr>\n",
              "    <tr>\n",
              "      <th>1</th>\n",
              "      <td>Alabama</td>\n",
              "      <td>100%</td>\n",
              "      <td>18.9</td>\n",
              "      <td>18.4</td>\n",
              "      <td>19.7</td>\n",
              "      <td>19.4</td>\n",
              "      <td>19.2</td>\n",
              "    </tr>\n",
              "    <tr>\n",
              "      <th>2</th>\n",
              "      <td>Alaska</td>\n",
              "      <td>65%</td>\n",
              "      <td>18.7</td>\n",
              "      <td>19.8</td>\n",
              "      <td>20.4</td>\n",
              "      <td>19.9</td>\n",
              "      <td>19.8</td>\n",
              "    </tr>\n",
              "    <tr>\n",
              "      <th>3</th>\n",
              "      <td>Arizona</td>\n",
              "      <td>62%</td>\n",
              "      <td>18.6</td>\n",
              "      <td>19.8</td>\n",
              "      <td>20.1</td>\n",
              "      <td>19.8</td>\n",
              "      <td>19.7</td>\n",
              "    </tr>\n",
              "    <tr>\n",
              "      <th>4</th>\n",
              "      <td>Arkansas</td>\n",
              "      <td>100%</td>\n",
              "      <td>18.9</td>\n",
              "      <td>19.0</td>\n",
              "      <td>19.7</td>\n",
              "      <td>19.5</td>\n",
              "      <td>19.4</td>\n",
              "    </tr>\n",
              "    <tr>\n",
              "      <th>5</th>\n",
              "      <td>California</td>\n",
              "      <td>31%</td>\n",
              "      <td>22.5</td>\n",
              "      <td>22.7</td>\n",
              "      <td>23.1</td>\n",
              "      <td>22.2</td>\n",
              "      <td>22.8</td>\n",
              "    </tr>\n",
              "    <tr>\n",
              "      <th>6</th>\n",
              "      <td>Colorado</td>\n",
              "      <td>100%</td>\n",
              "      <td>20.1</td>\n",
              "      <td>20.3</td>\n",
              "      <td>21.2</td>\n",
              "      <td>20.9</td>\n",
              "      <td>20.8</td>\n",
              "    </tr>\n",
              "  </tbody>\n",
              "</table>\n",
              "</div>"
            ],
            "text/plain": [
              "        State Participation  English  Math  Reading  Science Composite\n",
              "0    National           60%     20.3  20.7     21.4     21.0      21.0\n",
              "1     Alabama          100%     18.9  18.4     19.7     19.4      19.2\n",
              "2      Alaska           65%     18.7  19.8     20.4     19.9      19.8\n",
              "3     Arizona           62%     18.6  19.8     20.1     19.8      19.7\n",
              "4    Arkansas          100%     18.9  19.0     19.7     19.5      19.4\n",
              "5  California           31%     22.5  22.7     23.1     22.2      22.8\n",
              "6    Colorado          100%     20.1  20.3     21.2     20.9      20.8"
            ]
          },
          "metadata": {},
          "execution_count": 4
        }
      ]
    },
    {
      "cell_type": "code",
      "metadata": {
        "id": "e9AzGcZFrIIr",
        "colab": {
          "base_uri": "https://localhost:8080/",
          "height": 266
        },
        "outputId": "3387633f-21bc-44f7-ab9d-1400d65ce61c"
      },
      "source": [
        "# Previewing the bottom of our dataset\n",
        "# \n",
        "dataset1.tail(7)"
      ],
      "execution_count": null,
      "outputs": [
        {
          "output_type": "execute_result",
          "data": {
            "text/html": [
              "<div>\n",
              "<style scoped>\n",
              "    .dataframe tbody tr th:only-of-type {\n",
              "        vertical-align: middle;\n",
              "    }\n",
              "\n",
              "    .dataframe tbody tr th {\n",
              "        vertical-align: top;\n",
              "    }\n",
              "\n",
              "    .dataframe thead th {\n",
              "        text-align: right;\n",
              "    }\n",
              "</style>\n",
              "<table border=\"1\" class=\"dataframe\">\n",
              "  <thead>\n",
              "    <tr style=\"text-align: right;\">\n",
              "      <th></th>\n",
              "      <th>State</th>\n",
              "      <th>Participation</th>\n",
              "      <th>English</th>\n",
              "      <th>Math</th>\n",
              "      <th>Reading</th>\n",
              "      <th>Science</th>\n",
              "      <th>Composite</th>\n",
              "    </tr>\n",
              "  </thead>\n",
              "  <tbody>\n",
              "    <tr>\n",
              "      <th>45</th>\n",
              "      <td>Utah</td>\n",
              "      <td>100%</td>\n",
              "      <td>19.5</td>\n",
              "      <td>19.9</td>\n",
              "      <td>20.8</td>\n",
              "      <td>20.6</td>\n",
              "      <td>20.3</td>\n",
              "    </tr>\n",
              "    <tr>\n",
              "      <th>46</th>\n",
              "      <td>Vermont</td>\n",
              "      <td>29%</td>\n",
              "      <td>23.3</td>\n",
              "      <td>23.1</td>\n",
              "      <td>24.4</td>\n",
              "      <td>23.2</td>\n",
              "      <td>23.6</td>\n",
              "    </tr>\n",
              "    <tr>\n",
              "      <th>47</th>\n",
              "      <td>Virginia</td>\n",
              "      <td>29%</td>\n",
              "      <td>23.5</td>\n",
              "      <td>23.3</td>\n",
              "      <td>24.6</td>\n",
              "      <td>23.5</td>\n",
              "      <td>23.8</td>\n",
              "    </tr>\n",
              "    <tr>\n",
              "      <th>48</th>\n",
              "      <td>Washington</td>\n",
              "      <td>29%</td>\n",
              "      <td>20.9</td>\n",
              "      <td>21.9</td>\n",
              "      <td>22.1</td>\n",
              "      <td>22.0</td>\n",
              "      <td>21.9</td>\n",
              "    </tr>\n",
              "    <tr>\n",
              "      <th>49</th>\n",
              "      <td>West Virginia</td>\n",
              "      <td>69%</td>\n",
              "      <td>20.0</td>\n",
              "      <td>19.4</td>\n",
              "      <td>21.2</td>\n",
              "      <td>20.5</td>\n",
              "      <td>20.4</td>\n",
              "    </tr>\n",
              "    <tr>\n",
              "      <th>50</th>\n",
              "      <td>Wisconsin</td>\n",
              "      <td>100%</td>\n",
              "      <td>19.7</td>\n",
              "      <td>20.4</td>\n",
              "      <td>20.6</td>\n",
              "      <td>20.9</td>\n",
              "      <td>20.5</td>\n",
              "    </tr>\n",
              "    <tr>\n",
              "      <th>51</th>\n",
              "      <td>Wyoming</td>\n",
              "      <td>100%</td>\n",
              "      <td>19.4</td>\n",
              "      <td>19.8</td>\n",
              "      <td>20.8</td>\n",
              "      <td>20.6</td>\n",
              "      <td>20.2x</td>\n",
              "    </tr>\n",
              "  </tbody>\n",
              "</table>\n",
              "</div>"
            ],
            "text/plain": [
              "            State Participation  English  Math  Reading  Science Composite\n",
              "45           Utah          100%     19.5  19.9     20.8     20.6      20.3\n",
              "46        Vermont           29%     23.3  23.1     24.4     23.2      23.6\n",
              "47       Virginia           29%     23.5  23.3     24.6     23.5      23.8\n",
              "48     Washington           29%     20.9  21.9     22.1     22.0      21.9\n",
              "49  West Virginia           69%     20.0  19.4     21.2     20.5      20.4\n",
              "50      Wisconsin          100%     19.7  20.4     20.6     20.9      20.5\n",
              "51        Wyoming          100%     19.4  19.8     20.8     20.6     20.2x"
            ]
          },
          "metadata": {},
          "execution_count": 5
        }
      ]
    },
    {
      "cell_type": "code",
      "metadata": {
        "id": "n8-dW4sQWzbc",
        "colab": {
          "base_uri": "https://localhost:8080/"
        },
        "outputId": "b924076b-1c95-48b0-ff42-24a981ba6142"
      },
      "source": [
        "# Checking whether each column has an appropriate datatype\n",
        "#\n",
        "dataset1.dtypes"
      ],
      "execution_count": null,
      "outputs": [
        {
          "output_type": "execute_result",
          "data": {
            "text/plain": [
              "State             object\n",
              "Participation     object\n",
              "English          float64\n",
              "Math             float64\n",
              "Reading          float64\n",
              "Science          float64\n",
              "Composite         object\n",
              "dtype: object"
            ]
          },
          "metadata": {},
          "execution_count": 4
        }
      ]
    },
    {
      "cell_type": "markdown",
      "metadata": {
        "id": "ckfufNrcUHeH"
      },
      "source": [
        "## 4. External Data Source Validation"
      ]
    },
    {
      "cell_type": "markdown",
      "metadata": {
        "id": "6L4sl_0WXlbg"
      },
      "source": [
        "Making sure your data matches something outside of the dataset is very important. It allows you to ensure that the measurements are roughly in line with what they should be and it serves as a check on what other things might be wrong in your dataset. External validation can often be as simple as checking your data against a single number, as we will do here.\n",
        "\n",
        "An example would be suppose that you're working with a dataset on the population of countries during the year 2016. Validating such information with an external reliable resource such as World Bank Data would be important step to providing credibility to your dataset. Have a look at the following link for an example. [Link](https://rstudio-pubs-static.s3.amazonaws.com/182250_19977d0c5c06403fbad1e653850fc7c6.html)."
      ]
    },
    {
      "cell_type": "markdown",
      "metadata": {
        "id": "6XC_g-zKxe-r"
      },
      "source": [
        "### a.Validation"
      ]
    },
    {
      "cell_type": "markdown",
      "metadata": {
        "id": "FlBMxEDBUc9B"
      },
      "source": [
        "## 5. Tidying the Dataset"
      ]
    },
    {
      "cell_type": "code",
      "metadata": {
        "id": "5o_bQcT5W3Wz",
        "colab": {
          "base_uri": "https://localhost:8080/",
          "height": 282
        },
        "outputId": "9730cad2-50e3-4ce5-e0b1-83bd6181311c"
      },
      "source": [
        "# Checking for Outliers\n",
        "#\n",
        "dataset1.boxplot()"
      ],
      "execution_count": null,
      "outputs": [
        {
          "output_type": "execute_result",
          "data": {
            "text/plain": [
              "<matplotlib.axes._subplots.AxesSubplot at 0x7f2f60ee6110>"
            ]
          },
          "metadata": {},
          "execution_count": 5
        },
        {
          "output_type": "display_data",
          "data": {
            "image/png": "[encoded data removed]",
            "text/plain": [
              "<Figure size 432x288 with 1 Axes>"
            ]
          },
          "metadata": {
            "needs_background": "light"
          }
        }
      ]
    },
    {
      "cell_type": "code",
      "metadata": {
        "colab": {
          "base_uri": "https://localhost:8080/",
          "height": 350
        },
        "id": "aOhMzgU1YnEA",
        "outputId": "fccf909d-7e16-4449-bf8b-8307feabf330"
      },
      "source": [
        "# Checking for Outliers\n",
        "# English\n",
        "sns.boxplot(dataset1.English)"
      ],
      "execution_count": null,
      "outputs": [
        {
          "output_type": "stream",
          "name": "stderr",
          "text": [
            "/usr/local/lib/python3.7/dist-packages/seaborn/_decorators.py:43: FutureWarning: Pass the following variable as a keyword arg: x. From version 0.12, the only valid positional argument will be `data`, and passing other arguments without an explicit keyword will result in an error or misinterpretation.\n",
            "  FutureWarning\n"
          ]
        },
        {
          "output_type": "execute_result",
          "data": {
            "text/plain": [
              "<matplotlib.axes._subplots.AxesSubplot at 0x7f2f6095dd50>"
            ]
          },
          "metadata": {},
          "execution_count": 6
        },
        {
          "output_type": "display_data",
          "data": {
            "image/png": "[encoded data removed]",
            "text/plain": [
              "<Figure size 432x288 with 1 Axes>"
            ]
          },
          "metadata": {
            "needs_background": "light"
          }
        }
      ]
    },
    {
      "cell_type": "code",
      "metadata": {
        "id": "V1WDMcutYm3b",
        "colab": {
          "base_uri": "https://localhost:8080/",
          "height": 297
        },
        "outputId": "9e08e060-64a1-4a1e-ab01-07b9d67729bb"
      },
      "source": [
        "dataset1.describe()"
      ],
      "execution_count": null,
      "outputs": [
        {
          "output_type": "execute_result",
          "data": {
            "text/html": [
              "<div>\n",
              "<style scoped>\n",
              "    .dataframe tbody tr th:only-of-type {\n",
              "        vertical-align: middle;\n",
              "    }\n",
              "\n",
              "    .dataframe tbody tr th {\n",
              "        vertical-align: top;\n",
              "    }\n",
              "\n",
              "    .dataframe thead th {\n",
              "        text-align: right;\n",
              "    }\n",
              "</style>\n",
              "<table border=\"1\" class=\"dataframe\">\n",
              "  <thead>\n",
              "    <tr style=\"text-align: right;\">\n",
              "      <th></th>\n",
              "      <th>English</th>\n",
              "      <th>Math</th>\n",
              "      <th>Reading</th>\n",
              "      <th>Science</th>\n",
              "    </tr>\n",
              "  </thead>\n",
              "  <tbody>\n",
              "    <tr>\n",
              "      <th>count</th>\n",
              "      <td>52.000000</td>\n",
              "      <td>52.000000</td>\n",
              "      <td>52.000000</td>\n",
              "      <td>52.000000</td>\n",
              "    </tr>\n",
              "    <tr>\n",
              "      <th>mean</th>\n",
              "      <td>20.919231</td>\n",
              "      <td>21.173077</td>\n",
              "      <td>22.001923</td>\n",
              "      <td>21.040385</td>\n",
              "    </tr>\n",
              "    <tr>\n",
              "      <th>std</th>\n",
              "      <td>2.332132</td>\n",
              "      <td>1.963602</td>\n",
              "      <td>2.048672</td>\n",
              "      <td>3.151113</td>\n",
              "    </tr>\n",
              "    <tr>\n",
              "      <th>min</th>\n",
              "      <td>16.300000</td>\n",
              "      <td>18.000000</td>\n",
              "      <td>18.100000</td>\n",
              "      <td>2.300000</td>\n",
              "    </tr>\n",
              "    <tr>\n",
              "      <th>25%</th>\n",
              "      <td>19.000000</td>\n",
              "      <td>19.400000</td>\n",
              "      <td>20.475000</td>\n",
              "      <td>19.900000</td>\n",
              "    </tr>\n",
              "    <tr>\n",
              "      <th>50%</th>\n",
              "      <td>20.550000</td>\n",
              "      <td>20.900000</td>\n",
              "      <td>21.700000</td>\n",
              "      <td>21.150000</td>\n",
              "    </tr>\n",
              "    <tr>\n",
              "      <th>75%</th>\n",
              "      <td>23.300000</td>\n",
              "      <td>23.100000</td>\n",
              "      <td>24.125000</td>\n",
              "      <td>22.525000</td>\n",
              "    </tr>\n",
              "    <tr>\n",
              "      <th>max</th>\n",
              "      <td>25.500000</td>\n",
              "      <td>25.300000</td>\n",
              "      <td>26.000000</td>\n",
              "      <td>24.900000</td>\n",
              "    </tr>\n",
              "  </tbody>\n",
              "</table>\n",
              "</div>"
            ],
            "text/plain": [
              "         English       Math    Reading    Science\n",
              "count  52.000000  52.000000  52.000000  52.000000\n",
              "mean   20.919231  21.173077  22.001923  21.040385\n",
              "std     2.332132   1.963602   2.048672   3.151113\n",
              "min    16.300000  18.000000  18.100000   2.300000\n",
              "25%    19.000000  19.400000  20.475000  19.900000\n",
              "50%    20.550000  20.900000  21.700000  21.150000\n",
              "75%    23.300000  23.100000  24.125000  22.525000\n",
              "max    25.500000  25.300000  26.000000  24.900000"
            ]
          },
          "metadata": {},
          "execution_count": 5
        }
      ]
    },
    {
      "cell_type": "code",
      "metadata": {
        "id": "eVNe2RsVYmnL",
        "colab": {
          "base_uri": "https://localhost:8080/"
        },
        "outputId": "461813ee-e0ea-492b-c706-4f1933df75e5"
      },
      "source": [
        "dataset1.nunique()"
      ],
      "execution_count": null,
      "outputs": [
        {
          "output_type": "execute_result",
          "data": {
            "text/plain": [
              "State            52\n",
              "Participation    28\n",
              "English          36\n",
              "Math             34\n",
              "Reading          39\n",
              "Science          35\n",
              "Composite        38\n",
              "dtype: int64"
            ]
          },
          "metadata": {},
          "execution_count": 10
        }
      ]
    },
    {
      "cell_type": "code",
      "metadata": {
        "id": "9ef9foUyYldX",
        "colab": {
          "base_uri": "https://localhost:8080/"
        },
        "outputId": "d3cc5294-afdf-49c9-ba85-913ac50deeb3"
      },
      "source": [
        "dataset1.duplicated().sum"
      ],
      "execution_count": null,
      "outputs": [
        {
          "output_type": "execute_result",
          "data": {
            "text/plain": [
              "<bound method Series.sum of 0     False\n",
              "1     False\n",
              "2     False\n",
              "3     False\n",
              "4     False\n",
              "5     False\n",
              "6     False\n",
              "7     False\n",
              "8     False\n",
              "9     False\n",
              "10    False\n",
              "11    False\n",
              "12    False\n",
              "13    False\n",
              "14    False\n",
              "15    False\n",
              "16    False\n",
              "17    False\n",
              "18    False\n",
              "19    False\n",
              "20    False\n",
              "21    False\n",
              "22    False\n",
              "23    False\n",
              "24    False\n",
              "25    False\n",
              "26    False\n",
              "27    False\n",
              "28    False\n",
              "29    False\n",
              "30    False\n",
              "31    False\n",
              "32    False\n",
              "33    False\n",
              "34    False\n",
              "35    False\n",
              "36    False\n",
              "37    False\n",
              "38    False\n",
              "39    False\n",
              "40    False\n",
              "41    False\n",
              "42    False\n",
              "43    False\n",
              "44    False\n",
              "45    False\n",
              "46    False\n",
              "47    False\n",
              "48    False\n",
              "49    False\n",
              "50    False\n",
              "51    False\n",
              "dtype: bool>"
            ]
          },
          "metadata": {},
          "execution_count": 14
        }
      ]
    },
    {
      "cell_type": "code",
      "metadata": {
        "id": "PWlukLKUvFQN"
      },
      "source": [
        "# Checking for Anomalies\n",
        "#"
      ],
      "execution_count": null,
      "outputs": []
    },
    {
      "cell_type": "code",
      "metadata": {
        "id": "PvCYb6dgW4yh",
        "colab": {
          "base_uri": "https://localhost:8080/"
        },
        "outputId": "c2981e45-8a58-4a98-ecfb-12fba405217a"
      },
      "source": [
        "# Identifying the Missing Data\n",
        "#\n",
        "dataset1.isnull().sum()"
      ],
      "execution_count": null,
      "outputs": [
        {
          "output_type": "execute_result",
          "data": {
            "text/plain": [
              "State            0\n",
              "Participation    0\n",
              "English          0\n",
              "Math             0\n",
              "Reading          0\n",
              "Science          0\n",
              "Composite        0\n",
              "dtype: int64"
            ]
          },
          "metadata": {},
          "execution_count": 6
        }
      ]
    },
    {
      "cell_type": "code",
      "metadata": {
        "id": "MpsDGKZHsf_W"
      },
      "source": [
        "# Dealing with the Missing Data\n",
        "#\n",
        "No duplicated data in our dataset"
      ],
      "execution_count": null,
      "outputs": []
    },
    {
      "cell_type": "markdown",
      "metadata": {
        "id": "pzJTs8VZ3Zw4"
      },
      "source": [
        "No duplicated data in our dataset\n"
      ]
    },
    {
      "cell_type": "code",
      "metadata": {
        "id": "D-4I__6Os4C5"
      },
      "source": [
        "# More data cleaning procedures\n",
        "#"
      ],
      "execution_count": null,
      "outputs": []
    },
    {
      "cell_type": "markdown",
      "metadata": {
        "id": "rF2ABPsHUtbZ"
      },
      "source": [
        "## 6. Exploratory Analysis"
      ]
    },
    {
      "cell_type": "code",
      "metadata": {
        "id": "5nnRToniXGDK",
        "colab": {
          "base_uri": "https://localhost:8080/",
          "height": 282
        },
        "outputId": "f712bdea-4dff-4a16-8a43-b3bb4f9ace82"
      },
      "source": [
        "# Ploting the univariate summaries and recording our observations\n",
        "#v\n",
        "dataset1.boxplot()\n"
      ],
      "execution_count": null,
      "outputs": [
        {
          "output_type": "execute_result",
          "data": {
            "text/plain": [
              "<matplotlib.axes._subplots.AxesSubplot at 0x7ff09c4da290>"
            ]
          },
          "metadata": {},
          "execution_count": 3
        },
        {
          "output_type": "display_data",
          "data": {
            "image/png": "[encoded data removed]",
            "text/plain": [
              "<Figure size 432x288 with 1 Axes>"
            ]
          },
          "metadata": {
            "needs_background": "light"
          }
        }
      ]
    },
    {
      "cell_type": "code",
      "metadata": {
        "colab": {
          "base_uri": "https://localhost:8080/",
          "height": 350
        },
        "id": "APgCsXSj34-l",
        "outputId": "89667512-64cf-40c7-b0e1-5dd0bf4c0755"
      },
      "source": [
        "# checking for outliers\n",
        "dataset1.boxplot()\n",
        "\n",
        "sns.boxplot(dataset1.English)"
      ],
      "execution_count": null,
      "outputs": [
        {
          "output_type": "stream",
          "name": "stderr",
          "text": [
            "/usr/local/lib/python3.7/dist-packages/seaborn/_decorators.py:43: FutureWarning: Pass the following variable as a keyword arg: x. From version 0.12, the only valid positional argument will be `data`, and passing other arguments without an explicit keyword will result in an error or misinterpretation.\n",
            "  FutureWarning\n"
          ]
        },
        {
          "output_type": "execute_result",
          "data": {
            "text/plain": [
              "<matplotlib.axes._subplots.AxesSubplot at 0x7ff09b736510>"
            ]
          },
          "metadata": {},
          "execution_count": 4
        },
        {
          "output_type": "display_data",
          "data": {
            "image/png": "[encoded data removed]",
            "text/plain": [
              "<Figure size 432x288 with 1 Axes>"
            ]
          },
          "metadata": {
            "needs_background": "light"
          }
        }
      ]
    },
    {
      "cell_type": "code",
      "metadata": {
        "colab": {
          "base_uri": "https://localhost:8080/",
          "height": 350
        },
        "id": "5_o9SJBP4m8E",
        "outputId": "708725df-a634-4d6b-f0bc-47736b8630b2"
      },
      "source": [
        "# checking for outliers\n",
        "dataset1.boxplot()\n",
        "\n",
        "sns.boxplot(dataset1.Math)"
      ],
      "execution_count": null,
      "outputs": [
        {
          "output_type": "stream",
          "name": "stderr",
          "text": [
            "/usr/local/lib/python3.7/dist-packages/seaborn/_decorators.py:43: FutureWarning: Pass the following variable as a keyword arg: x. From version 0.12, the only valid positional argument will be `data`, and passing other arguments without an explicit keyword will result in an error or misinterpretation.\n",
            "  FutureWarning\n"
          ]
        },
        {
          "output_type": "execute_result",
          "data": {
            "text/plain": [
              "<matplotlib.axes._subplots.AxesSubplot at 0x7ff09b1e60d0>"
            ]
          },
          "metadata": {},
          "execution_count": 5
        },
        {
          "output_type": "display_data",
          "data": {
            "image/png": "[encoded data removed]",
            "text/plain": [
              "<Figure size 432x288 with 1 Axes>"
            ]
          },
          "metadata": {
            "needs_background": "light"
          }
        }
      ]
    },
    {
      "cell_type": "code",
      "metadata": {
        "colab": {
          "base_uri": "https://localhost:8080/",
          "height": 350
        },
        "id": "yh67FoyB4xbY",
        "outputId": "8488b0cd-e965-4f5f-89d0-ff69f81e9fab"
      },
      "source": [
        "# checking for outliers\n",
        "dataset1.boxplot()\n",
        "\n",
        "sns.boxplot(dataset1.Reading)"
      ],
      "execution_count": null,
      "outputs": [
        {
          "output_type": "stream",
          "name": "stderr",
          "text": [
            "/usr/local/lib/python3.7/dist-packages/seaborn/_decorators.py:43: FutureWarning: Pass the following variable as a keyword arg: x. From version 0.12, the only valid positional argument will be `data`, and passing other arguments without an explicit keyword will result in an error or misinterpretation.\n",
            "  FutureWarning\n"
          ]
        },
        {
          "output_type": "execute_result",
          "data": {
            "text/plain": [
              "<matplotlib.axes._subplots.AxesSubplot at 0x7ff09b126f90>"
            ]
          },
          "metadata": {},
          "execution_count": 6
        },
        {
          "output_type": "display_data",
          "data": {
            "image/png": "[encoded data removed]",
            "text/plain": [
              "<Figure size 432x288 with 1 Axes>"
            ]
          },
          "metadata": {
            "needs_background": "light"
          }
        }
      ]
    },
    {
      "cell_type": "code",
      "metadata": {
        "colab": {
          "base_uri": "https://localhost:8080/",
          "height": 350
        },
        "id": "AWQDpEhO47at",
        "outputId": "ff3bd6a8-6126-47bb-838a-b8f607f7ffaa"
      },
      "source": [
        "# checking for outliers\n",
        "dataset1.boxplot()\n",
        "\n",
        "sns.boxplot(dataset1.Science)"
      ],
      "execution_count": null,
      "outputs": [
        {
          "output_type": "stream",
          "name": "stderr",
          "text": [
            "/usr/local/lib/python3.7/dist-packages/seaborn/_decorators.py:43: FutureWarning: Pass the following variable as a keyword arg: x. From version 0.12, the only valid positional argument will be `data`, and passing other arguments without an explicit keyword will result in an error or misinterpretation.\n",
            "  FutureWarning\n"
          ]
        },
        {
          "output_type": "execute_result",
          "data": {
            "text/plain": [
              "<matplotlib.axes._subplots.AxesSubplot at 0x7ff09b06a690>"
            ]
          },
          "metadata": {},
          "execution_count": 7
        },
        {
          "output_type": "display_data",
          "data": {
            "image/png": "[encoded data removed]",
            "text/plain": [
              "<Figure size 432x288 with 1 Axes>"
            ]
          },
          "metadata": {
            "needs_background": "light"
          }
        }
      ]
    },
    {
      "cell_type": "code",
      "metadata": {
        "colab": {
          "base_uri": "https://localhost:8080/",
          "height": 626
        },
        "id": "sD3lJDn-5kw3",
        "outputId": "a19a8cb4-c1ba-4a1b-bb83-c4645eac5c9e"
      },
      "source": [
        "#hazra Findings\n",
        "\n",
        "plt.hist(dataset1, bins=10, histtype='bar', rwidth=0.9)\n",
        "plt.xlabel('Name of Subject')\n",
        "plt.ylabel('Score')\n",
        "plt.title('Histogram of subjects')\n",
        "plt.show()"
      ],
      "execution_count": null,
      "outputs": [
        {
          "output_type": "error",
          "ename": "TypeError",
          "evalue": "ignored",
          "traceback": [
            "\u001b[0;31m---------------------------------------------------------------------------\u001b[0m",
            "\u001b[0;31mTypeError\u001b[0m                                 Traceback (most recent call last)",
            "\u001b[0;32m<ipython-input-9-5239b207c841>\u001b[0m in \u001b[0;36m<module>\u001b[0;34m()\u001b[0m\n\u001b[1;32m      1\u001b[0m \u001b[0;31m#hazra Findings\u001b[0m\u001b[0;34m\u001b[0m\u001b[0;34m\u001b[0m\u001b[0;34m\u001b[0m\u001b[0m\n\u001b[1;32m      2\u001b[0m \u001b[0;34m\u001b[0m\u001b[0m\n\u001b[0;32m----> 3\u001b[0;31m \u001b[0mplt\u001b[0m\u001b[0;34m.\u001b[0m\u001b[0mhist\u001b[0m\u001b[0;34m(\u001b[0m\u001b[0mdataset1\u001b[0m\u001b[0;34m,\u001b[0m \u001b[0mbins\u001b[0m\u001b[0;34m=\u001b[0m\u001b[0;36m10\u001b[0m\u001b[0;34m,\u001b[0m \u001b[0mhisttype\u001b[0m\u001b[0;34m=\u001b[0m\u001b[0;34m'bar'\u001b[0m\u001b[0;34m,\u001b[0m \u001b[0mrwidth\u001b[0m\u001b[0;34m=\u001b[0m\u001b[0;36m0.9\u001b[0m\u001b[0;34m)\u001b[0m\u001b[0;34m\u001b[0m\u001b[0;34m\u001b[0m\u001b[0m\n\u001b[0m\u001b[1;32m      4\u001b[0m \u001b[0mplt\u001b[0m\u001b[0;34m.\u001b[0m\u001b[0mxlabel\u001b[0m\u001b[0;34m(\u001b[0m\u001b[0;34m'Name of Subject'\u001b[0m\u001b[0;34m)\u001b[0m\u001b[0;34m\u001b[0m\u001b[0;34m\u001b[0m\u001b[0m\n\u001b[1;32m      5\u001b[0m \u001b[0mplt\u001b[0m\u001b[0;34m.\u001b[0m\u001b[0mylabel\u001b[0m\u001b[0;34m(\u001b[0m\u001b[0;34m'Score'\u001b[0m\u001b[0;34m)\u001b[0m\u001b[0;34m\u001b[0m\u001b[0;34m\u001b[0m\u001b[0m\n",
            "\u001b[0;32m/usr/local/lib/python3.7/dist-packages/matplotlib/pyplot.py\u001b[0m in \u001b[0;36mhist\u001b[0;34m(x, bins, range, density, weights, cumulative, bottom, histtype, align, orientation, rwidth, log, color, label, stacked, data, **kwargs)\u001b[0m\n\u001b[1;32m   2608\u001b[0m         \u001b[0malign\u001b[0m\u001b[0;34m=\u001b[0m\u001b[0malign\u001b[0m\u001b[0;34m,\u001b[0m \u001b[0morientation\u001b[0m\u001b[0;34m=\u001b[0m\u001b[0morientation\u001b[0m\u001b[0;34m,\u001b[0m \u001b[0mrwidth\u001b[0m\u001b[0;34m=\u001b[0m\u001b[0mrwidth\u001b[0m\u001b[0;34m,\u001b[0m \u001b[0mlog\u001b[0m\u001b[0;34m=\u001b[0m\u001b[0mlog\u001b[0m\u001b[0;34m,\u001b[0m\u001b[0;34m\u001b[0m\u001b[0;34m\u001b[0m\u001b[0m\n\u001b[1;32m   2609\u001b[0m         color=color, label=label, stacked=stacked, **({\"data\": data}\n\u001b[0;32m-> 2610\u001b[0;31m         if data is not None else {}), **kwargs)\n\u001b[0m\u001b[1;32m   2611\u001b[0m \u001b[0;34m\u001b[0m\u001b[0m\n\u001b[1;32m   2612\u001b[0m \u001b[0;34m\u001b[0m\u001b[0m\n",
            "\u001b[0;32m/usr/local/lib/python3.7/dist-packages/matplotlib/__init__.py\u001b[0m in \u001b[0;36minner\u001b[0;34m(ax, data, *args, **kwargs)\u001b[0m\n\u001b[1;32m   1563\u001b[0m     \u001b[0;32mdef\u001b[0m \u001b[0minner\u001b[0m\u001b[0;34m(\u001b[0m\u001b[0max\u001b[0m\u001b[0;34m,\u001b[0m \u001b[0;34m*\u001b[0m\u001b[0margs\u001b[0m\u001b[0;34m,\u001b[0m \u001b[0mdata\u001b[0m\u001b[0;34m=\u001b[0m\u001b[0;32mNone\u001b[0m\u001b[0;34m,\u001b[0m \u001b[0;34m**\u001b[0m\u001b[0mkwargs\u001b[0m\u001b[0;34m)\u001b[0m\u001b[0;34m:\u001b[0m\u001b[0;34m\u001b[0m\u001b[0;34m\u001b[0m\u001b[0m\n\u001b[1;32m   1564\u001b[0m         \u001b[0;32mif\u001b[0m \u001b[0mdata\u001b[0m \u001b[0;32mis\u001b[0m \u001b[0;32mNone\u001b[0m\u001b[0;34m:\u001b[0m\u001b[0;34m\u001b[0m\u001b[0;34m\u001b[0m\u001b[0m\n\u001b[0;32m-> 1565\u001b[0;31m             \u001b[0;32mreturn\u001b[0m \u001b[0mfunc\u001b[0m\u001b[0;34m(\u001b[0m\u001b[0max\u001b[0m\u001b[0;34m,\u001b[0m \u001b[0;34m*\u001b[0m\u001b[0mmap\u001b[0m\u001b[0;34m(\u001b[0m\u001b[0msanitize_sequence\u001b[0m\u001b[0;34m,\u001b[0m \u001b[0margs\u001b[0m\u001b[0;34m)\u001b[0m\u001b[0;34m,\u001b[0m \u001b[0;34m**\u001b[0m\u001b[0mkwargs\u001b[0m\u001b[0;34m)\u001b[0m\u001b[0;34m\u001b[0m\u001b[0;34m\u001b[0m\u001b[0m\n\u001b[0m\u001b[1;32m   1566\u001b[0m \u001b[0;34m\u001b[0m\u001b[0m\n\u001b[1;32m   1567\u001b[0m         \u001b[0mbound\u001b[0m \u001b[0;34m=\u001b[0m \u001b[0mnew_sig\u001b[0m\u001b[0;34m.\u001b[0m\u001b[0mbind\u001b[0m\u001b[0;34m(\u001b[0m\u001b[0max\u001b[0m\u001b[0;34m,\u001b[0m \u001b[0;34m*\u001b[0m\u001b[0margs\u001b[0m\u001b[0;34m,\u001b[0m \u001b[0;34m**\u001b[0m\u001b[0mkwargs\u001b[0m\u001b[0;34m)\u001b[0m\u001b[0;34m\u001b[0m\u001b[0;34m\u001b[0m\u001b[0m\n",
            "\u001b[0;32m/usr/local/lib/python3.7/dist-packages/matplotlib/axes/_axes.py\u001b[0m in \u001b[0;36mhist\u001b[0;34m(self, x, bins, range, density, weights, cumulative, bottom, histtype, align, orientation, rwidth, log, color, label, stacked, **kwargs)\u001b[0m\n\u001b[1;32m   6583\u001b[0m         \u001b[0;31m# Process unit information\u001b[0m\u001b[0;34m\u001b[0m\u001b[0;34m\u001b[0m\u001b[0;34m\u001b[0m\u001b[0m\n\u001b[1;32m   6584\u001b[0m         \u001b[0;31m# Unit conversion is done individually on each dataset\u001b[0m\u001b[0;34m\u001b[0m\u001b[0;34m\u001b[0m\u001b[0;34m\u001b[0m\u001b[0m\n\u001b[0;32m-> 6585\u001b[0;31m         \u001b[0mself\u001b[0m\u001b[0;34m.\u001b[0m\u001b[0m_process_unit_info\u001b[0m\u001b[0;34m(\u001b[0m\u001b[0mxdata\u001b[0m\u001b[0;34m=\u001b[0m\u001b[0mx\u001b[0m\u001b[0;34m[\u001b[0m\u001b[0;36m0\u001b[0m\u001b[0;34m]\u001b[0m\u001b[0;34m,\u001b[0m \u001b[0mkwargs\u001b[0m\u001b[0;34m=\u001b[0m\u001b[0mkwargs\u001b[0m\u001b[0;34m)\u001b[0m\u001b[0;34m\u001b[0m\u001b[0;34m\u001b[0m\u001b[0m\n\u001b[0m\u001b[1;32m   6586\u001b[0m         \u001b[0mx\u001b[0m \u001b[0;34m=\u001b[0m \u001b[0;34m[\u001b[0m\u001b[0mself\u001b[0m\u001b[0;34m.\u001b[0m\u001b[0mconvert_xunits\u001b[0m\u001b[0;34m(\u001b[0m\u001b[0mxi\u001b[0m\u001b[0;34m)\u001b[0m \u001b[0;32mfor\u001b[0m \u001b[0mxi\u001b[0m \u001b[0;32min\u001b[0m \u001b[0mx\u001b[0m\u001b[0;34m]\u001b[0m\u001b[0;34m\u001b[0m\u001b[0;34m\u001b[0m\u001b[0m\n\u001b[1;32m   6587\u001b[0m \u001b[0;34m\u001b[0m\u001b[0m\n",
            "\u001b[0;32m/usr/local/lib/python3.7/dist-packages/matplotlib/axes/_base.py\u001b[0m in \u001b[0;36m_process_unit_info\u001b[0;34m(self, xdata, ydata, kwargs)\u001b[0m\n\u001b[1;32m   2071\u001b[0m             \u001b[0;32mreturn\u001b[0m \u001b[0mkwargs\u001b[0m\u001b[0;34m\u001b[0m\u001b[0;34m\u001b[0m\u001b[0m\n\u001b[1;32m   2072\u001b[0m \u001b[0;34m\u001b[0m\u001b[0m\n\u001b[0;32m-> 2073\u001b[0;31m         \u001b[0mkwargs\u001b[0m \u001b[0;34m=\u001b[0m \u001b[0m_process_single_axis\u001b[0m\u001b[0;34m(\u001b[0m\u001b[0mxdata\u001b[0m\u001b[0;34m,\u001b[0m \u001b[0mself\u001b[0m\u001b[0;34m.\u001b[0m\u001b[0mxaxis\u001b[0m\u001b[0;34m,\u001b[0m \u001b[0;34m'xunits'\u001b[0m\u001b[0;34m,\u001b[0m \u001b[0mkwargs\u001b[0m\u001b[0;34m)\u001b[0m\u001b[0;34m\u001b[0m\u001b[0;34m\u001b[0m\u001b[0m\n\u001b[0m\u001b[1;32m   2074\u001b[0m         \u001b[0mkwargs\u001b[0m \u001b[0;34m=\u001b[0m \u001b[0m_process_single_axis\u001b[0m\u001b[0;34m(\u001b[0m\u001b[0mydata\u001b[0m\u001b[0;34m,\u001b[0m \u001b[0mself\u001b[0m\u001b[0;34m.\u001b[0m\u001b[0myaxis\u001b[0m\u001b[0;34m,\u001b[0m \u001b[0;34m'yunits'\u001b[0m\u001b[0;34m,\u001b[0m \u001b[0mkwargs\u001b[0m\u001b[0;34m)\u001b[0m\u001b[0;34m\u001b[0m\u001b[0;34m\u001b[0m\u001b[0m\n\u001b[1;32m   2075\u001b[0m         \u001b[0;32mreturn\u001b[0m \u001b[0mkwargs\u001b[0m\u001b[0;34m\u001b[0m\u001b[0;34m\u001b[0m\u001b[0m\n",
            "\u001b[0;32m/usr/local/lib/python3.7/dist-packages/matplotlib/axes/_base.py\u001b[0m in \u001b[0;36m_process_single_axis\u001b[0;34m(data, axis, unit_name, kwargs)\u001b[0m\n\u001b[1;32m   2054\u001b[0m                 \u001b[0;31m# We only need to update if there is nothing set yet.\u001b[0m\u001b[0;34m\u001b[0m\u001b[0;34m\u001b[0m\u001b[0;34m\u001b[0m\u001b[0m\n\u001b[1;32m   2055\u001b[0m                 \u001b[0;32mif\u001b[0m \u001b[0;32mnot\u001b[0m \u001b[0maxis\u001b[0m\u001b[0;34m.\u001b[0m\u001b[0mhave_units\u001b[0m\u001b[0;34m(\u001b[0m\u001b[0;34m)\u001b[0m\u001b[0;34m:\u001b[0m\u001b[0;34m\u001b[0m\u001b[0;34m\u001b[0m\u001b[0m\n\u001b[0;32m-> 2056\u001b[0;31m                     \u001b[0maxis\u001b[0m\u001b[0;34m.\u001b[0m\u001b[0mupdate_units\u001b[0m\u001b[0;34m(\u001b[0m\u001b[0mdata\u001b[0m\u001b[0;34m)\u001b[0m\u001b[0;34m\u001b[0m\u001b[0;34m\u001b[0m\u001b[0m\n\u001b[0m\u001b[1;32m   2057\u001b[0m \u001b[0;34m\u001b[0m\u001b[0m\n\u001b[1;32m   2058\u001b[0m             \u001b[0;31m# Check for units in the kwargs, and if present update axis\u001b[0m\u001b[0;34m\u001b[0m\u001b[0;34m\u001b[0m\u001b[0;34m\u001b[0m\u001b[0m\n",
            "\u001b[0;32m/usr/local/lib/python3.7/dist-packages/matplotlib/axis.py\u001b[0m in \u001b[0;36mupdate_units\u001b[0;34m(self, data)\u001b[0m\n\u001b[1;32m   1514\u001b[0m         \u001b[0mneednew\u001b[0m \u001b[0;34m=\u001b[0m \u001b[0mself\u001b[0m\u001b[0;34m.\u001b[0m\u001b[0mconverter\u001b[0m \u001b[0;34m!=\u001b[0m \u001b[0mconverter\u001b[0m\u001b[0;34m\u001b[0m\u001b[0;34m\u001b[0m\u001b[0m\n\u001b[1;32m   1515\u001b[0m         \u001b[0mself\u001b[0m\u001b[0;34m.\u001b[0m\u001b[0mconverter\u001b[0m \u001b[0;34m=\u001b[0m \u001b[0mconverter\u001b[0m\u001b[0;34m\u001b[0m\u001b[0;34m\u001b[0m\u001b[0m\n\u001b[0;32m-> 1516\u001b[0;31m         \u001b[0mdefault\u001b[0m \u001b[0;34m=\u001b[0m \u001b[0mself\u001b[0m\u001b[0;34m.\u001b[0m\u001b[0mconverter\u001b[0m\u001b[0;34m.\u001b[0m\u001b[0mdefault_units\u001b[0m\u001b[0;34m(\u001b[0m\u001b[0mdata\u001b[0m\u001b[0;34m,\u001b[0m \u001b[0mself\u001b[0m\u001b[0;34m)\u001b[0m\u001b[0;34m\u001b[0m\u001b[0;34m\u001b[0m\u001b[0m\n\u001b[0m\u001b[1;32m   1517\u001b[0m         \u001b[0;32mif\u001b[0m \u001b[0mdefault\u001b[0m \u001b[0;32mis\u001b[0m \u001b[0;32mnot\u001b[0m \u001b[0;32mNone\u001b[0m \u001b[0;32mand\u001b[0m \u001b[0mself\u001b[0m\u001b[0;34m.\u001b[0m\u001b[0munits\u001b[0m \u001b[0;32mis\u001b[0m \u001b[0;32mNone\u001b[0m\u001b[0;34m:\u001b[0m\u001b[0;34m\u001b[0m\u001b[0;34m\u001b[0m\u001b[0m\n\u001b[1;32m   1518\u001b[0m             \u001b[0mself\u001b[0m\u001b[0;34m.\u001b[0m\u001b[0mset_units\u001b[0m\u001b[0;34m(\u001b[0m\u001b[0mdefault\u001b[0m\u001b[0;34m)\u001b[0m\u001b[0;34m\u001b[0m\u001b[0;34m\u001b[0m\u001b[0m\n",
            "\u001b[0;32m/usr/local/lib/python3.7/dist-packages/matplotlib/category.py\u001b[0m in \u001b[0;36mdefault_units\u001b[0;34m(data, axis)\u001b[0m\n\u001b[1;32m    105\u001b[0m         \u001b[0;31m# the conversion call stack is default_units -> axis_info -> convert\u001b[0m\u001b[0;34m\u001b[0m\u001b[0;34m\u001b[0m\u001b[0;34m\u001b[0m\u001b[0m\n\u001b[1;32m    106\u001b[0m         \u001b[0;32mif\u001b[0m \u001b[0maxis\u001b[0m\u001b[0;34m.\u001b[0m\u001b[0munits\u001b[0m \u001b[0;32mis\u001b[0m \u001b[0;32mNone\u001b[0m\u001b[0;34m:\u001b[0m\u001b[0;34m\u001b[0m\u001b[0;34m\u001b[0m\u001b[0m\n\u001b[0;32m--> 107\u001b[0;31m             \u001b[0maxis\u001b[0m\u001b[0;34m.\u001b[0m\u001b[0mset_units\u001b[0m\u001b[0;34m(\u001b[0m\u001b[0mUnitData\u001b[0m\u001b[0;34m(\u001b[0m\u001b[0mdata\u001b[0m\u001b[0;34m)\u001b[0m\u001b[0;34m)\u001b[0m\u001b[0;34m\u001b[0m\u001b[0;34m\u001b[0m\u001b[0m\n\u001b[0m\u001b[1;32m    108\u001b[0m         \u001b[0;32melse\u001b[0m\u001b[0;34m:\u001b[0m\u001b[0;34m\u001b[0m\u001b[0;34m\u001b[0m\u001b[0m\n\u001b[1;32m    109\u001b[0m             \u001b[0maxis\u001b[0m\u001b[0;34m.\u001b[0m\u001b[0munits\u001b[0m\u001b[0;34m.\u001b[0m\u001b[0mupdate\u001b[0m\u001b[0;34m(\u001b[0m\u001b[0mdata\u001b[0m\u001b[0;34m)\u001b[0m\u001b[0;34m\u001b[0m\u001b[0;34m\u001b[0m\u001b[0m\n",
            "\u001b[0;32m/usr/local/lib/python3.7/dist-packages/matplotlib/category.py\u001b[0m in \u001b[0;36m__init__\u001b[0;34m(self, data)\u001b[0m\n\u001b[1;32m    173\u001b[0m         \u001b[0mself\u001b[0m\u001b[0;34m.\u001b[0m\u001b[0m_counter\u001b[0m \u001b[0;34m=\u001b[0m \u001b[0mitertools\u001b[0m\u001b[0;34m.\u001b[0m\u001b[0mcount\u001b[0m\u001b[0;34m(\u001b[0m\u001b[0;34m)\u001b[0m\u001b[0;34m\u001b[0m\u001b[0;34m\u001b[0m\u001b[0m\n\u001b[1;32m    174\u001b[0m         \u001b[0;32mif\u001b[0m \u001b[0mdata\u001b[0m \u001b[0;32mis\u001b[0m \u001b[0;32mnot\u001b[0m \u001b[0;32mNone\u001b[0m\u001b[0;34m:\u001b[0m\u001b[0;34m\u001b[0m\u001b[0;34m\u001b[0m\u001b[0m\n\u001b[0;32m--> 175\u001b[0;31m             \u001b[0mself\u001b[0m\u001b[0;34m.\u001b[0m\u001b[0mupdate\u001b[0m\u001b[0;34m(\u001b[0m\u001b[0mdata\u001b[0m\u001b[0;34m)\u001b[0m\u001b[0;34m\u001b[0m\u001b[0;34m\u001b[0m\u001b[0m\n\u001b[0m\u001b[1;32m    176\u001b[0m \u001b[0;34m\u001b[0m\u001b[0m\n\u001b[1;32m    177\u001b[0m     \u001b[0;34m@\u001b[0m\u001b[0mstaticmethod\u001b[0m\u001b[0;34m\u001b[0m\u001b[0;34m\u001b[0m\u001b[0m\n",
            "\u001b[0;32m/usr/local/lib/python3.7/dist-packages/matplotlib/category.py\u001b[0m in \u001b[0;36mupdate\u001b[0;34m(self, data)\u001b[0m\n\u001b[1;32m    210\u001b[0m         \u001b[0;32mfor\u001b[0m \u001b[0mval\u001b[0m \u001b[0;32min\u001b[0m \u001b[0mOrderedDict\u001b[0m\u001b[0;34m.\u001b[0m\u001b[0mfromkeys\u001b[0m\u001b[0;34m(\u001b[0m\u001b[0mdata\u001b[0m\u001b[0;34m)\u001b[0m\u001b[0;34m:\u001b[0m\u001b[0;34m\u001b[0m\u001b[0;34m\u001b[0m\u001b[0m\n\u001b[1;32m    211\u001b[0m             \u001b[0;31m# OrderedDict just iterates over unique values in data.\u001b[0m\u001b[0;34m\u001b[0m\u001b[0;34m\u001b[0m\u001b[0;34m\u001b[0m\u001b[0m\n\u001b[0;32m--> 212\u001b[0;31m             \u001b[0mcbook\u001b[0m\u001b[0;34m.\u001b[0m\u001b[0m_check_isinstance\u001b[0m\u001b[0;34m(\u001b[0m\u001b[0;34m(\u001b[0m\u001b[0mstr\u001b[0m\u001b[0;34m,\u001b[0m \u001b[0mbytes\u001b[0m\u001b[0;34m)\u001b[0m\u001b[0;34m,\u001b[0m \u001b[0mvalue\u001b[0m\u001b[0;34m=\u001b[0m\u001b[0mval\u001b[0m\u001b[0;34m)\u001b[0m\u001b[0;34m\u001b[0m\u001b[0;34m\u001b[0m\u001b[0m\n\u001b[0m\u001b[1;32m    213\u001b[0m             \u001b[0;32mif\u001b[0m \u001b[0mconvertible\u001b[0m\u001b[0;34m:\u001b[0m\u001b[0;34m\u001b[0m\u001b[0;34m\u001b[0m\u001b[0m\n\u001b[1;32m    214\u001b[0m                 \u001b[0;31m# this will only be called so long as convertible is True.\u001b[0m\u001b[0;34m\u001b[0m\u001b[0;34m\u001b[0m\u001b[0;34m\u001b[0m\u001b[0m\n",
            "\u001b[0;32m/usr/local/lib/python3.7/dist-packages/matplotlib/cbook/__init__.py\u001b[0m in \u001b[0;36m_check_isinstance\u001b[0;34m(_types, **kwargs)\u001b[0m\n\u001b[1;32m   2126\u001b[0m                     \u001b[0;34m\", \"\u001b[0m\u001b[0;34m.\u001b[0m\u001b[0mjoin\u001b[0m\u001b[0;34m(\u001b[0m\u001b[0mnames\u001b[0m\u001b[0;34m[\u001b[0m\u001b[0;34m:\u001b[0m\u001b[0;34m-\u001b[0m\u001b[0;36m1\u001b[0m\u001b[0;34m]\u001b[0m\u001b[0;34m)\u001b[0m \u001b[0;34m+\u001b[0m \u001b[0;34m\" or \"\u001b[0m \u001b[0;34m+\u001b[0m \u001b[0mnames\u001b[0m\u001b[0;34m[\u001b[0m\u001b[0;34m-\u001b[0m\u001b[0;36m1\u001b[0m\u001b[0;34m]\u001b[0m\u001b[0;34m\u001b[0m\u001b[0;34m\u001b[0m\u001b[0m\n\u001b[1;32m   2127\u001b[0m                     \u001b[0;32mif\u001b[0m \u001b[0mlen\u001b[0m\u001b[0;34m(\u001b[0m\u001b[0mnames\u001b[0m\u001b[0;34m)\u001b[0m \u001b[0;34m>\u001b[0m \u001b[0;36m1\u001b[0m \u001b[0;32melse\u001b[0m \u001b[0mnames\u001b[0m\u001b[0;34m[\u001b[0m\u001b[0;36m0\u001b[0m\u001b[0;34m]\u001b[0m\u001b[0;34m,\u001b[0m\u001b[0;34m\u001b[0m\u001b[0;34m\u001b[0m\u001b[0m\n\u001b[0;32m-> 2128\u001b[0;31m                     type_name(type(v))))\n\u001b[0m\u001b[1;32m   2129\u001b[0m \u001b[0;34m\u001b[0m\u001b[0m\n\u001b[1;32m   2130\u001b[0m \u001b[0;34m\u001b[0m\u001b[0m\n",
            "\u001b[0;31mTypeError\u001b[0m: 'value' must be an instance of str or bytes, not a float"
          ]
        },
        {
          "output_type": "display_data",
          "data": {
            "image/png": "[encoded data removed]",
            "text/plain": [
              "<Figure size 432x288 with 1 Axes>"
            ]
          },
          "metadata": {
            "needs_background": "light"
          }
        }
      ]
    },
    {
      "cell_type": "code",
      "metadata": {
        "colab": {
          "base_uri": "https://localhost:8080/",
          "height": 180
        },
        "id": "VBJ6-mN5vN4u",
        "outputId": "2e6d9f20-8706-4fe7-d2ec-aaadb377f683"
      },
      "source": [
        "#HK findings\n",
        "dataset1[dataset1.Science ==datset1.science.max()]"
      ],
      "execution_count": null,
      "outputs": [
        {
          "output_type": "error",
          "ename": "NameError",
          "evalue": "ignored",
          "traceback": [
            "\u001b[0;31m---------------------------------------------------------------------------\u001b[0m",
            "\u001b[0;31mNameError\u001b[0m                                 Traceback (most recent call last)",
            "\u001b[0;32m<ipython-input-10-b64f308131f3>\u001b[0m in \u001b[0;36m<module>\u001b[0;34m()\u001b[0m\n\u001b[1;32m      1\u001b[0m \u001b[0;31m#HK findings\u001b[0m\u001b[0;34m\u001b[0m\u001b[0;34m\u001b[0m\u001b[0;34m\u001b[0m\u001b[0m\n\u001b[0;32m----> 2\u001b[0;31m \u001b[0mdataset1\u001b[0m\u001b[0;34m[\u001b[0m\u001b[0mdataset1\u001b[0m\u001b[0;34m.\u001b[0m\u001b[0mScience\u001b[0m \u001b[0;34m==\u001b[0m\u001b[0mdatset1\u001b[0m\u001b[0;34m.\u001b[0m\u001b[0mscience\u001b[0m\u001b[0;34m.\u001b[0m\u001b[0mmax\u001b[0m\u001b[0;34m(\u001b[0m\u001b[0;34m)\u001b[0m\u001b[0;34m]\u001b[0m\u001b[0;34m\u001b[0m\u001b[0;34m\u001b[0m\u001b[0m\n\u001b[0m",
            "\u001b[0;31mNameError\u001b[0m: name 'datset1' is not defined"
          ]
        }
      ]
    },
    {
      "cell_type": "markdown",
      "metadata": {
        "id": "vTbdjSrhVIiT"
      },
      "source": [
        "## 7. Implementing the Solution"
      ]
    },
    {
      "cell_type": "code",
      "metadata": {
        "id": "PJLZaRzJXJ3w"
      },
      "source": [
        "# Implementing the Solution\n",
        "# "
      ],
      "execution_count": null,
      "outputs": []
    },
    {
      "cell_type": "markdown",
      "metadata": {
        "id": "lQ2G4ZPDVOXE"
      },
      "source": [
        "## 8. Challenging the solution"
      ]
    },
    {
      "cell_type": "markdown",
      "metadata": {
        "id": "jWVGKGuiYMWg"
      },
      "source": [
        "> The easy solution is nice because it is, well, easy, but you should never allow those results to hold the day. You should always be thinking of ways to challenge the results, especially if those results comport with your prior expectation.\n",
        "\n",
        "\n",
        "\n",
        "\n"
      ]
    },
    {
      "cell_type": "code",
      "metadata": {
        "id": "j3x3SXZ4XT_L"
      },
      "source": [
        "# Reviewing the Solution \n",
        "#"
      ],
      "execution_count": null,
      "outputs": []
    },
    {
      "cell_type": "markdown",
      "metadata": {
        "id": "xrmHVMVsVS--"
      },
      "source": [
        "## 9. Follow up questions"
      ]
    },
    {
      "cell_type": "markdown",
      "metadata": {
        "id": "pth2qSWhuBIy"
      },
      "source": [
        "> At this point, we can refine our question or collect new data, all in an iterative process to get at the truth.\n",
        "\n"
      ]
    },
    {
      "cell_type": "markdown",
      "metadata": {
        "id": "HPQviDmNtta8"
      },
      "source": [
        "### a). Did we have the right data?"
      ]
    },
    {
      "cell_type": "markdown",
      "metadata": {
        "id": "qjFHK1CKty7o"
      },
      "source": [
        "### b). Do we need other data to answer our question?"
      ]
    },
    {
      "cell_type": "markdown",
      "metadata": {
        "id": "HSsicSdvt4Zs"
      },
      "source": [
        "### c). Did we have the right question?"
      ]
    }
  ]
}