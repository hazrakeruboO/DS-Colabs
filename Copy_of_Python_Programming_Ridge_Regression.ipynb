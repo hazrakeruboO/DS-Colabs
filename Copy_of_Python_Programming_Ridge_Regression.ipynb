{
  "nbformat": 4,
  "nbformat_minor": 0,
  "metadata": {
    "colab": {
      "name": "Copy of Python Programming: Ridge Regression",
      "provenance": [],
      "collapsed_sections": [
        "qa33QGdE1vQe",
        "hTqFcUIQuO_3",
        "kke3w5L512WF",
        "3-BreaBg2FdS",
        "AMM6ePT52H0Z",
        "CfPAQs0M2Jwi",
        "0-cyo-cG2MOs"
      ],
      "toc_visible": true,
      "include_colab_link": true
    },
    "kernelspec": {
      "name": "python3",
      "display_name": "Python 3"
    }
  },
  "cells": [
    {
      "cell_type": "markdown",
      "metadata": {
        "id": "view-in-github",
        "colab_type": "text"
      },
      "source": [
        "<a href=\"https://colab.research.google.com/github/hazrakeruboO/DS-Colabs/blob/main/Copy_of_Python_Programming_Ridge_Regression.ipynb\" target=\"_parent\"><img src=\"https://colab.research.google.com/assets/colab-badge.svg\" alt=\"Open In Colab\"/></a>"
      ]
    },
    {
      "cell_type": "markdown",
      "metadata": {
        "id": "0J6i3jHftz7H"
      },
      "source": [
        "<font color=\"green\">*To start working on this notebook, or any other notebook that we will use in the Moringa Data Science Course, we will need to save our own copy of it. We can do this by clicking File > Save a Copy in Drive. We will then be able to make edits to our own copy of this notebook.*</font>"
      ]
    },
    {
      "cell_type": "markdown",
      "metadata": {
        "id": "1gdLmzAE1NRn"
      },
      "source": [
        "# Python Programming: Ridge Regression"
      ]
    },
    {
      "cell_type": "markdown",
      "metadata": {
        "id": "qa33QGdE1vQe"
      },
      "source": [
        "## 1.0 Example "
      ]
    },
    {
      "cell_type": "code",
      "metadata": {
        "id": "uqjexWue1I72"
      },
      "source": [
        "# Example \n",
        "# ---\n",
        "# Regularization is the process of penalizing coefficients of variables either by removing them and or reducing their impact. \n",
        "# Ridge regression reduces the effect of problematic variables close to zero but never fully removes them. \n",
        "# ---\n",
        "# Question: Build a regrssion model to predict expenses based on the variables available.\n",
        "# ---\n",
        "# Dataset source: Pydataset Library: VietNamI Dataset\n",
        "# ---\n",
        "#"
      ],
      "execution_count": null,
      "outputs": []
    },
    {
      "cell_type": "code",
      "metadata": {
        "id": "b3Lmc0ijk7qS"
      },
      "source": [
        "# Importing our libraries\n",
        "# \n",
        "import numpy as np\n",
        "import pandas as pd\n",
        "from sklearn.model_selection import GridSearchCV\n",
        "from sklearn.linear_model import Ridge\n",
        "from sklearn.linear_model import LinearRegression\n",
        "from sklearn.metrics import mean_squared_error"
      ],
      "execution_count": null,
      "outputs": []
    },
    {
      "cell_type": "code",
      "metadata": {
        "id": "JNS5ONaGk88J",
        "colab": {
          "base_uri": "https://localhost:8080/"
        },
        "outputId": "ae520ec6-a294-4249-ce11-3c9125e8e7d4"
      },
      "source": [
        "# installing !pip install pydataset and importing pydataset so as to use a dataset from the package\n",
        "# \n",
        "!pip install pydataset\n",
        "from pydataset import data "
      ],
      "execution_count": null,
      "outputs": [
        {
          "output_type": "stream",
          "name": "stdout",
          "text": [
            "Collecting pydataset\n",
            "  Downloading pydataset-0.2.0.tar.gz (15.9 MB)\n",
            "\u001b[K     |████████████████████████████████| 15.9 MB 117 kB/s \n",
            "\u001b[?25hRequirement already satisfied: pandas in /usr/local/lib/python3.7/dist-packages (from pydataset) (1.1.5)\n",
            "Requirement already satisfied: python-dateutil>=2.7.3 in /usr/local/lib/python3.7/dist-packages (from pandas->pydataset) (2.8.2)\n",
            "Requirement already satisfied: numpy>=1.15.4 in /usr/local/lib/python3.7/dist-packages (from pandas->pydataset) (1.19.5)\n",
            "Requirement already satisfied: pytz>=2017.2 in /usr/local/lib/python3.7/dist-packages (from pandas->pydataset) (2018.9)\n",
            "Requirement already satisfied: six>=1.5 in /usr/local/lib/python3.7/dist-packages (from python-dateutil>=2.7.3->pandas->pydataset) (1.15.0)\n",
            "Building wheels for collected packages: pydataset\n",
            "  Building wheel for pydataset (setup.py) ... \u001b[?25l\u001b[?25hdone\n",
            "  Created wheel for pydataset: filename=pydataset-0.2.0-py3-none-any.whl size=15939430 sha256=52d0115c3c8473ea10780a6c06362b1c565ea64982f6ed443a10f5deb0971e2f\n",
            "  Stored in directory: /root/.cache/pip/wheels/32/26/30/d71562a19eed948eaada9a61b4d722fa358657a3bfb5d151e2\n",
            "Successfully built pydataset\n",
            "Installing collected packages: pydataset\n",
            "Successfully installed pydataset-0.2.0\n",
            "initiated datasets repo at: /root/.pydataset/\n"
          ]
        }
      ]
    },
    {
      "cell_type": "code",
      "metadata": {
        "id": "Qiv1NUe2qDaK"
      },
      "source": [
        "# Data Preparation\n",
        "# \n",
        "\n",
        "# Loading the data and convert the sex variable to a dummy variable\n",
        "#\n",
        "df = pd.DataFrame(data('VietNamI'))\n",
        "df.loc[df.sex== 'male', 'sex'] = 0\n",
        "df.loc[df.sex== 'female','sex'] = 1\n",
        "df['sex'] = df['sex'].astype(int)\n",
        "\n",
        "# Setting up our X and y datasets\n",
        "#\n",
        "X = df[['pharvis','age','sex','married','educ','illness','injury','illdays','actdays','insurance']]\n",
        "y = df['lnhhexp']"
      ],
      "execution_count": null,
      "outputs": []
    },
    {
      "cell_type": "code",
      "metadata": {
        "id": "nNhuD8WJqGFb",
        "colab": {
          "base_uri": "https://localhost:8080/"
        },
        "outputId": "67b3605e-6233-437c-e256-063b87fc838f"
      },
      "source": [
        "# Creating our baseline regression model\n",
        "# This is a model that has no regularization to it\n",
        "# \n",
        "regression = LinearRegression()\n",
        "regression.fit(X,y)\n",
        "first_model = (mean_squared_error(y_true=y,y_pred=regression.predict(X)))\n",
        "print(first_model)\n",
        "\n",
        "# The output  value of 0.355289 will be our indicator to determine if the regularized ridge regression model is superior or not."
      ],
      "execution_count": null,
      "outputs": [
        {
          "output_type": "stream",
          "name": "stdout",
          "text": [
            "0.35528915032173053\n"
          ]
        }
      ]
    },
    {
      "cell_type": "code",
      "metadata": {
        "id": "HaImX3JnqN4o"
      },
      "source": [
        "# In order to create our ridge model we need to first determine the most appropriate value for the l2 regularization. \n",
        "# L2 is the name of the hyperparameter that is used in ridge regression. \n",
        "# Determining the value of a hyperparameter requires the use of a grid. \n",
        "# In the code below, we first create our ridge model and indicate normalization in order to get better estimates. \n",
        "# Next we setup the grid that we will use. \n",
        "# The search object has several arguments within it. Alpha is hyperparameter we are trying to set. \n",
        "# The log space is the range of values we want to test. \n",
        "# We want the log of -5 to 2, but we only get 8 values from within that range evenly spread out. \n",
        "# Are metric is the mean squared error. Refit set true means to adjust the parameters while modeling \n",
        "# and cv is the number of folds to develop for the cross-validation. \n",
        "#\n",
        "ridge = Ridge(normalize=True)\n",
        "search = GridSearchCV(estimator=ridge,param_grid={'alpha':np.logspace(-5,2,8)},scoring='neg_mean_squared_error',n_jobs=1,refit=True,cv=10)"
      ],
      "execution_count": null,
      "outputs": []
    },
    {
      "cell_type": "code",
      "metadata": {
        "id": "LrLMVyuEqSnv"
      },
      "source": [
        "# We now use the .fit function to run the model and then use the .best_params_ and\n",
        "#  .best_scores_ function to determine the models strength. \n",
        "# \n",
        "search.fit(X,y)\n",
        "search.best_params_\n",
        "{'alpha': 0.01}\n",
        "abs(search.best_score_) \n",
        "\n",
        "# The best_params_ tells us what to set alpha too which in this case is 0.01. \n",
        "# The best_score_ tells us what the best possible mean squared error is. \n",
        "# In this case, the value of 0.38 is worse than what the baseline model was. "
      ],
      "execution_count": null,
      "outputs": []
    },
    {
      "cell_type": "code",
      "metadata": {
        "id": "VqifjT6IqUx1"
      },
      "source": [
        "# We can confirm this by fitting our model with the ridge information and finding the mean squared error below\n",
        "#\n",
        "ridge = Ridge(normalize=True,alpha=0.01)\n",
        "ridge.fit(X,y)\n",
        "second_model = (mean_squared_error(y_true=y,y_pred=ridge.predict(X)))\n",
        "print(second_model)"
      ],
      "execution_count": null,
      "outputs": []
    },
    {
      "cell_type": "code",
      "metadata": {
        "id": "RJ_jJd7WqchO"
      },
      "source": [
        "# The 0.35 is lower than the 0.38. This is because the last results are not cross-validated. \n",
        "# In addition, these results indicate that there is little difference between the ridge and baseline models. \n",
        "# This is confirmed with the coefficients of each model found below.\n",
        "# \n",
        "coef_dict_baseline = {}\n",
        "for coef, feat in zip(regression.coef_,data(\"VietNamI\").columns):\n",
        "    coef_dict_baseline[feat] = coef\n",
        "coef_dict_baseline\n",
        "\n",
        "# The coefficient values are about the same. This means that the penalization made little difference with this dataset."
      ],
      "execution_count": null,
      "outputs": []
    },
    {
      "cell_type": "markdown",
      "metadata": {
        "id": "hTqFcUIQuO_3"
      },
      "source": [
        "## 2.0 Challenges"
      ]
    },
    {
      "cell_type": "markdown",
      "metadata": {
        "id": "kke3w5L512WF"
      },
      "source": [
        "### <font color=\"green\">Challenge 1</font>"
      ]
    },
    {
      "cell_type": "code",
      "metadata": {
        "id": "Oo4qdt_F10I1",
        "colab": {
          "base_uri": "https://localhost:8080/",
          "height": 204
        },
        "outputId": "fcc955d1-afad-4808-aa5b-d5a9f29ae4da"
      },
      "source": [
        "# Challenge 1 \n",
        "# ---\n",
        "# Question: Build an accurate model that can estimate the weight of fish given the following dataset.\n",
        "# ---\n",
        "# Dataset url = http://bit.ly/FishDataset\n",
        "# ---\n",
        "# \n",
        "data=pd.read_csv('http://bit.ly/FishDataset')\n",
        "data.head()\n"
      ],
      "execution_count": null,
      "outputs": [
        {
          "output_type": "execute_result",
          "data": {
            "text/html": [
              "<div>\n",
              "<style scoped>\n",
              "    .dataframe tbody tr th:only-of-type {\n",
              "        vertical-align: middle;\n",
              "    }\n",
              "\n",
              "    .dataframe tbody tr th {\n",
              "        vertical-align: top;\n",
              "    }\n",
              "\n",
              "    .dataframe thead th {\n",
              "        text-align: right;\n",
              "    }\n",
              "</style>\n",
              "<table border=\"1\" class=\"dataframe\">\n",
              "  <thead>\n",
              "    <tr style=\"text-align: right;\">\n",
              "      <th></th>\n",
              "      <th>Species</th>\n",
              "      <th>Weight</th>\n",
              "      <th>Length1</th>\n",
              "      <th>Length2</th>\n",
              "      <th>Length3</th>\n",
              "      <th>Height</th>\n",
              "      <th>Width</th>\n",
              "    </tr>\n",
              "  </thead>\n",
              "  <tbody>\n",
              "    <tr>\n",
              "      <th>0</th>\n",
              "      <td>Bream</td>\n",
              "      <td>242.0</td>\n",
              "      <td>23.2</td>\n",
              "      <td>25.4</td>\n",
              "      <td>30.0</td>\n",
              "      <td>11.5200</td>\n",
              "      <td>4.0200</td>\n",
              "    </tr>\n",
              "    <tr>\n",
              "      <th>1</th>\n",
              "      <td>Bream</td>\n",
              "      <td>290.0</td>\n",
              "      <td>24.0</td>\n",
              "      <td>26.3</td>\n",
              "      <td>31.2</td>\n",
              "      <td>12.4800</td>\n",
              "      <td>4.3056</td>\n",
              "    </tr>\n",
              "    <tr>\n",
              "      <th>2</th>\n",
              "      <td>Bream</td>\n",
              "      <td>340.0</td>\n",
              "      <td>23.9</td>\n",
              "      <td>26.5</td>\n",
              "      <td>31.1</td>\n",
              "      <td>12.3778</td>\n",
              "      <td>4.6961</td>\n",
              "    </tr>\n",
              "    <tr>\n",
              "      <th>3</th>\n",
              "      <td>Bream</td>\n",
              "      <td>363.0</td>\n",
              "      <td>26.3</td>\n",
              "      <td>29.0</td>\n",
              "      <td>33.5</td>\n",
              "      <td>12.7300</td>\n",
              "      <td>4.4555</td>\n",
              "    </tr>\n",
              "    <tr>\n",
              "      <th>4</th>\n",
              "      <td>Bream</td>\n",
              "      <td>430.0</td>\n",
              "      <td>26.5</td>\n",
              "      <td>29.0</td>\n",
              "      <td>34.0</td>\n",
              "      <td>12.4440</td>\n",
              "      <td>5.1340</td>\n",
              "    </tr>\n",
              "  </tbody>\n",
              "</table>\n",
              "</div>"
            ],
            "text/plain": [
              "  Species  Weight  Length1  Length2  Length3   Height   Width\n",
              "0   Bream   242.0     23.2     25.4     30.0  11.5200  4.0200\n",
              "1   Bream   290.0     24.0     26.3     31.2  12.4800  4.3056\n",
              "2   Bream   340.0     23.9     26.5     31.1  12.3778  4.6961\n",
              "3   Bream   363.0     26.3     29.0     33.5  12.7300  4.4555\n",
              "4   Bream   430.0     26.5     29.0     34.0  12.4440  5.1340"
            ]
          },
          "metadata": {},
          "execution_count": 5
        }
      ]
    },
    {
      "cell_type": "code",
      "metadata": {
        "colab": {
          "base_uri": "https://localhost:8080/",
          "height": 204
        },
        "id": "YRqDFaCqrS8r",
        "outputId": "5ab7783f-2e99-4908-9f94-b80fe7075ef0"
      },
      "source": [
        "data.tail()"
      ],
      "execution_count": null,
      "outputs": [
        {
          "output_type": "execute_result",
          "data": {
            "text/html": [
              "<div>\n",
              "<style scoped>\n",
              "    .dataframe tbody tr th:only-of-type {\n",
              "        vertical-align: middle;\n",
              "    }\n",
              "\n",
              "    .dataframe tbody tr th {\n",
              "        vertical-align: top;\n",
              "    }\n",
              "\n",
              "    .dataframe thead th {\n",
              "        text-align: right;\n",
              "    }\n",
              "</style>\n",
              "<table border=\"1\" class=\"dataframe\">\n",
              "  <thead>\n",
              "    <tr style=\"text-align: right;\">\n",
              "      <th></th>\n",
              "      <th>Species</th>\n",
              "      <th>Weight</th>\n",
              "      <th>Length1</th>\n",
              "      <th>Length2</th>\n",
              "      <th>Length3</th>\n",
              "      <th>Height</th>\n",
              "      <th>Width</th>\n",
              "    </tr>\n",
              "  </thead>\n",
              "  <tbody>\n",
              "    <tr>\n",
              "      <th>154</th>\n",
              "      <td>Smelt</td>\n",
              "      <td>12.2</td>\n",
              "      <td>11.5</td>\n",
              "      <td>12.2</td>\n",
              "      <td>13.4</td>\n",
              "      <td>2.0904</td>\n",
              "      <td>1.3936</td>\n",
              "    </tr>\n",
              "    <tr>\n",
              "      <th>155</th>\n",
              "      <td>Smelt</td>\n",
              "      <td>13.4</td>\n",
              "      <td>11.7</td>\n",
              "      <td>12.4</td>\n",
              "      <td>13.5</td>\n",
              "      <td>2.4300</td>\n",
              "      <td>1.2690</td>\n",
              "    </tr>\n",
              "    <tr>\n",
              "      <th>156</th>\n",
              "      <td>Smelt</td>\n",
              "      <td>12.2</td>\n",
              "      <td>12.1</td>\n",
              "      <td>13.0</td>\n",
              "      <td>13.8</td>\n",
              "      <td>2.2770</td>\n",
              "      <td>1.2558</td>\n",
              "    </tr>\n",
              "    <tr>\n",
              "      <th>157</th>\n",
              "      <td>Smelt</td>\n",
              "      <td>19.7</td>\n",
              "      <td>13.2</td>\n",
              "      <td>14.3</td>\n",
              "      <td>15.2</td>\n",
              "      <td>2.8728</td>\n",
              "      <td>2.0672</td>\n",
              "    </tr>\n",
              "    <tr>\n",
              "      <th>158</th>\n",
              "      <td>Smelt</td>\n",
              "      <td>19.9</td>\n",
              "      <td>13.8</td>\n",
              "      <td>15.0</td>\n",
              "      <td>16.2</td>\n",
              "      <td>2.9322</td>\n",
              "      <td>1.8792</td>\n",
              "    </tr>\n",
              "  </tbody>\n",
              "</table>\n",
              "</div>"
            ],
            "text/plain": [
              "    Species  Weight  Length1  Length2  Length3  Height   Width\n",
              "154   Smelt    12.2     11.5     12.2     13.4  2.0904  1.3936\n",
              "155   Smelt    13.4     11.7     12.4     13.5  2.4300  1.2690\n",
              "156   Smelt    12.2     12.1     13.0     13.8  2.2770  1.2558\n",
              "157   Smelt    19.7     13.2     14.3     15.2  2.8728  2.0672\n",
              "158   Smelt    19.9     13.8     15.0     16.2  2.9322  1.8792"
            ]
          },
          "metadata": {},
          "execution_count": 6
        }
      ]
    },
    {
      "cell_type": "code",
      "metadata": {
        "colab": {
          "base_uri": "https://localhost:8080/"
        },
        "id": "kf6ssAbA1q7K",
        "outputId": "2485ec59-1d7c-4790-f1b0-51863ff6fb66"
      },
      "source": [
        "data['Species'].unique()"
      ],
      "execution_count": null,
      "outputs": [
        {
          "output_type": "execute_result",
          "data": {
            "text/plain": [
              "array(['Bream', 'Roach', 'Whitefish', 'Parkki', 'Perch', 'Pike', 'Smelt'],\n",
              "      dtype=object)"
            ]
          },
          "metadata": {},
          "execution_count": 33
        }
      ]
    },
    {
      "cell_type": "code",
      "metadata": {
        "colab": {
          "base_uri": "https://localhost:8080/"
        },
        "id": "BGVzkizBrTvK",
        "outputId": "c200bcd7-b7f9-4ec4-8696-8ea18e2f0dca"
      },
      "source": [
        "data.shape"
      ],
      "execution_count": null,
      "outputs": [
        {
          "output_type": "execute_result",
          "data": {
            "text/plain": [
              "(159, 7)"
            ]
          },
          "metadata": {},
          "execution_count": 8
        }
      ]
    },
    {
      "cell_type": "code",
      "metadata": {
        "colab": {
          "base_uri": "https://localhost:8080/"
        },
        "id": "w85tTB7zrTzV",
        "outputId": "7f9e6df3-b38d-47e4-c984-77ff5545937c"
      },
      "source": [
        "data.info()"
      ],
      "execution_count": null,
      "outputs": [
        {
          "output_type": "stream",
          "name": "stdout",
          "text": [
            "<class 'pandas.core.frame.DataFrame'>\n",
            "RangeIndex: 159 entries, 0 to 158\n",
            "Data columns (total 7 columns):\n",
            " #   Column   Non-Null Count  Dtype  \n",
            "---  ------   --------------  -----  \n",
            " 0   Species  159 non-null    object \n",
            " 1   Weight   159 non-null    float64\n",
            " 2   Length1  159 non-null    float64\n",
            " 3   Length2  159 non-null    float64\n",
            " 4   Length3  159 non-null    float64\n",
            " 5   Height   159 non-null    float64\n",
            " 6   Width    159 non-null    float64\n",
            "dtypes: float64(6), object(1)\n",
            "memory usage: 8.8+ KB\n"
          ]
        }
      ]
    },
    {
      "cell_type": "code",
      "metadata": {
        "colab": {
          "base_uri": "https://localhost:8080/",
          "height": 297
        },
        "id": "WotSXbVzrT24",
        "outputId": "3be13165-77be-4fe5-bdb6-08da5e71d6b5"
      },
      "source": [
        "data.describe()"
      ],
      "execution_count": null,
      "outputs": [
        {
          "output_type": "execute_result",
          "data": {
            "text/html": [
              "<div>\n",
              "<style scoped>\n",
              "    .dataframe tbody tr th:only-of-type {\n",
              "        vertical-align: middle;\n",
              "    }\n",
              "\n",
              "    .dataframe tbody tr th {\n",
              "        vertical-align: top;\n",
              "    }\n",
              "\n",
              "    .dataframe thead th {\n",
              "        text-align: right;\n",
              "    }\n",
              "</style>\n",
              "<table border=\"1\" class=\"dataframe\">\n",
              "  <thead>\n",
              "    <tr style=\"text-align: right;\">\n",
              "      <th></th>\n",
              "      <th>Weight</th>\n",
              "      <th>Length1</th>\n",
              "      <th>Length2</th>\n",
              "      <th>Length3</th>\n",
              "      <th>Height</th>\n",
              "      <th>Width</th>\n",
              "    </tr>\n",
              "  </thead>\n",
              "  <tbody>\n",
              "    <tr>\n",
              "      <th>count</th>\n",
              "      <td>159.000000</td>\n",
              "      <td>159.000000</td>\n",
              "      <td>159.000000</td>\n",
              "      <td>159.000000</td>\n",
              "      <td>159.000000</td>\n",
              "      <td>159.000000</td>\n",
              "    </tr>\n",
              "    <tr>\n",
              "      <th>mean</th>\n",
              "      <td>398.326415</td>\n",
              "      <td>26.247170</td>\n",
              "      <td>28.415723</td>\n",
              "      <td>31.227044</td>\n",
              "      <td>8.970994</td>\n",
              "      <td>4.417486</td>\n",
              "    </tr>\n",
              "    <tr>\n",
              "      <th>std</th>\n",
              "      <td>357.978317</td>\n",
              "      <td>9.996441</td>\n",
              "      <td>10.716328</td>\n",
              "      <td>11.610246</td>\n",
              "      <td>4.286208</td>\n",
              "      <td>1.685804</td>\n",
              "    </tr>\n",
              "    <tr>\n",
              "      <th>min</th>\n",
              "      <td>0.000000</td>\n",
              "      <td>7.500000</td>\n",
              "      <td>8.400000</td>\n",
              "      <td>8.800000</td>\n",
              "      <td>1.728400</td>\n",
              "      <td>1.047600</td>\n",
              "    </tr>\n",
              "    <tr>\n",
              "      <th>25%</th>\n",
              "      <td>120.000000</td>\n",
              "      <td>19.050000</td>\n",
              "      <td>21.000000</td>\n",
              "      <td>23.150000</td>\n",
              "      <td>5.944800</td>\n",
              "      <td>3.385650</td>\n",
              "    </tr>\n",
              "    <tr>\n",
              "      <th>50%</th>\n",
              "      <td>273.000000</td>\n",
              "      <td>25.200000</td>\n",
              "      <td>27.300000</td>\n",
              "      <td>29.400000</td>\n",
              "      <td>7.786000</td>\n",
              "      <td>4.248500</td>\n",
              "    </tr>\n",
              "    <tr>\n",
              "      <th>75%</th>\n",
              "      <td>650.000000</td>\n",
              "      <td>32.700000</td>\n",
              "      <td>35.500000</td>\n",
              "      <td>39.650000</td>\n",
              "      <td>12.365900</td>\n",
              "      <td>5.584500</td>\n",
              "    </tr>\n",
              "    <tr>\n",
              "      <th>max</th>\n",
              "      <td>1650.000000</td>\n",
              "      <td>59.000000</td>\n",
              "      <td>63.400000</td>\n",
              "      <td>68.000000</td>\n",
              "      <td>18.957000</td>\n",
              "      <td>8.142000</td>\n",
              "    </tr>\n",
              "  </tbody>\n",
              "</table>\n",
              "</div>"
            ],
            "text/plain": [
              "            Weight     Length1     Length2     Length3      Height       Width\n",
              "count   159.000000  159.000000  159.000000  159.000000  159.000000  159.000000\n",
              "mean    398.326415   26.247170   28.415723   31.227044    8.970994    4.417486\n",
              "std     357.978317    9.996441   10.716328   11.610246    4.286208    1.685804\n",
              "min       0.000000    7.500000    8.400000    8.800000    1.728400    1.047600\n",
              "25%     120.000000   19.050000   21.000000   23.150000    5.944800    3.385650\n",
              "50%     273.000000   25.200000   27.300000   29.400000    7.786000    4.248500\n",
              "75%     650.000000   32.700000   35.500000   39.650000   12.365900    5.584500\n",
              "max    1650.000000   59.000000   63.400000   68.000000   18.957000    8.142000"
            ]
          },
          "metadata": {},
          "execution_count": 11
        }
      ]
    },
    {
      "cell_type": "code",
      "metadata": {
        "colab": {
          "base_uri": "https://localhost:8080/"
        },
        "id": "hxKNfE_srT66",
        "outputId": "38681a3f-037f-41b9-95c0-36e64afbc18e"
      },
      "source": [
        "data.duplicated().sum()"
      ],
      "execution_count": null,
      "outputs": [
        {
          "output_type": "execute_result",
          "data": {
            "text/plain": [
              "0"
            ]
          },
          "metadata": {},
          "execution_count": 13
        }
      ]
    },
    {
      "cell_type": "code",
      "metadata": {
        "colab": {
          "base_uri": "https://localhost:8080/"
        },
        "id": "gKXZN3LWrT_Q",
        "outputId": "4f324abe-f311-422e-d0af-7f6a92092c39"
      },
      "source": [
        "data.isnull().sum()"
      ],
      "execution_count": null,
      "outputs": [
        {
          "output_type": "execute_result",
          "data": {
            "text/plain": [
              "Species    0\n",
              "Weight     0\n",
              "Length1    0\n",
              "Length2    0\n",
              "Length3    0\n",
              "Height     0\n",
              "Width      0\n",
              "dtype: int64"
            ]
          },
          "metadata": {},
          "execution_count": 14
        }
      ]
    },
    {
      "cell_type": "code",
      "metadata": {
        "id": "a0I4d9FerUBM"
      },
      "source": [
        "Y=data['Weight'].pop\n",
        "X=data.copy"
      ],
      "execution_count": null,
      "outputs": []
    },
    {
      "cell_type": "code",
      "metadata": {
        "id": "D_kQA8dg7N8w"
      },
      "source": [
        "X.drop['']"
      ],
      "execution_count": null,
      "outputs": []
    },
    {
      "cell_type": "code",
      "metadata": {
        "colab": {
          "base_uri": "https://localhost:8080/"
        },
        "id": "8-1DO1-TrmZX",
        "outputId": "e04c43f6-f984-4b71-e02e-b1e559f9d6a4"
      },
      "source": [
        "Y"
      ],
      "execution_count": null,
      "outputs": [
        {
          "output_type": "execute_result",
          "data": {
            "text/plain": [
              "<bound method Series.pop of 0       242.0\n",
              "1       290.0\n",
              "2       340.0\n",
              "3       363.0\n",
              "4       430.0\n",
              "5       450.0\n",
              "6       500.0\n",
              "7       390.0\n",
              "8       450.0\n",
              "9       500.0\n",
              "10      475.0\n",
              "11      500.0\n",
              "12      500.0\n",
              "13      340.0\n",
              "14      600.0\n",
              "15      600.0\n",
              "16      700.0\n",
              "17      700.0\n",
              "18      610.0\n",
              "19      650.0\n",
              "20      575.0\n",
              "21      685.0\n",
              "22      620.0\n",
              "23      680.0\n",
              "24      700.0\n",
              "25      725.0\n",
              "26      720.0\n",
              "27      714.0\n",
              "28      850.0\n",
              "29     1000.0\n",
              "30      920.0\n",
              "31      955.0\n",
              "32      925.0\n",
              "33      975.0\n",
              "34      950.0\n",
              "35       40.0\n",
              "36       69.0\n",
              "37       78.0\n",
              "38       87.0\n",
              "39      120.0\n",
              "40        0.0\n",
              "41      110.0\n",
              "42      120.0\n",
              "43      150.0\n",
              "44      145.0\n",
              "45      160.0\n",
              "46      140.0\n",
              "47      160.0\n",
              "48      169.0\n",
              "49      161.0\n",
              "50      200.0\n",
              "51      180.0\n",
              "52      290.0\n",
              "53      272.0\n",
              "54      390.0\n",
              "55      270.0\n",
              "56      270.0\n",
              "57      306.0\n",
              "58      540.0\n",
              "59      800.0\n",
              "60     1000.0\n",
              "61       55.0\n",
              "62       60.0\n",
              "63       90.0\n",
              "64      120.0\n",
              "65      150.0\n",
              "66      140.0\n",
              "67      170.0\n",
              "68      145.0\n",
              "69      200.0\n",
              "70      273.0\n",
              "71      300.0\n",
              "72        5.9\n",
              "73       32.0\n",
              "74       40.0\n",
              "75       51.5\n",
              "76       70.0\n",
              "77      100.0\n",
              "78       78.0\n",
              "79       80.0\n",
              "80       85.0\n",
              "81       85.0\n",
              "82      110.0\n",
              "83      115.0\n",
              "84      125.0\n",
              "85      130.0\n",
              "86      120.0\n",
              "87      120.0\n",
              "88      130.0\n",
              "89      135.0\n",
              "90      110.0\n",
              "91      130.0\n",
              "92      150.0\n",
              "93      145.0\n",
              "94      150.0\n",
              "95      170.0\n",
              "96      225.0\n",
              "97      145.0\n",
              "98      188.0\n",
              "99      180.0\n",
              "100     197.0\n",
              "101     218.0\n",
              "102     300.0\n",
              "103     260.0\n",
              "104     265.0\n",
              "105     250.0\n",
              "106     250.0\n",
              "107     300.0\n",
              "108     320.0\n",
              "109     514.0\n",
              "110     556.0\n",
              "111     840.0\n",
              "112     685.0\n",
              "113     700.0\n",
              "114     700.0\n",
              "115     690.0\n",
              "116     900.0\n",
              "117     650.0\n",
              "118     820.0\n",
              "119     850.0\n",
              "120     900.0\n",
              "121    1015.0\n",
              "122     820.0\n",
              "123    1100.0\n",
              "124    1000.0\n",
              "125    1100.0\n",
              "126    1000.0\n",
              "127    1000.0\n",
              "128     200.0\n",
              "129     300.0\n",
              "130     300.0\n",
              "131     300.0\n",
              "132     430.0\n",
              "133     345.0\n",
              "134     456.0\n",
              "135     510.0\n",
              "136     540.0\n",
              "137     500.0\n",
              "138     567.0\n",
              "139     770.0\n",
              "140     950.0\n",
              "141    1250.0\n",
              "142    1600.0\n",
              "143    1550.0\n",
              "144    1650.0\n",
              "145       6.7\n",
              "146       7.5\n",
              "147       7.0\n",
              "148       9.7\n",
              "149       9.8\n",
              "150       8.7\n",
              "151      10.0\n",
              "152       9.9\n",
              "153       9.8\n",
              "154      12.2\n",
              "155      13.4\n",
              "156      12.2\n",
              "157      19.7\n",
              "158      19.9\n",
              "Name: Weight, dtype: float64>"
            ]
          },
          "metadata": {},
          "execution_count": 19
        }
      ]
    },
    {
      "cell_type": "code",
      "metadata": {
        "colab": {
          "base_uri": "https://localhost:8080/"
        },
        "id": "XCHYeI1OrmXH",
        "outputId": "f0fd21c9-f692-492a-e5c8-48a666890e00"
      },
      "source": [
        "X"
      ],
      "execution_count": null,
      "outputs": [
        {
          "output_type": "execute_result",
          "data": {
            "text/plain": [
              "<bound method NDFrame.copy of        Species  Weight  Length1  Length2  Length3   Height   Width\n",
              "0        Bream   242.0     23.2     25.4     30.0  11.5200  4.0200\n",
              "1        Bream   290.0     24.0     26.3     31.2  12.4800  4.3056\n",
              "2        Bream   340.0     23.9     26.5     31.1  12.3778  4.6961\n",
              "3        Bream   363.0     26.3     29.0     33.5  12.7300  4.4555\n",
              "4        Bream   430.0     26.5     29.0     34.0  12.4440  5.1340\n",
              "5        Bream   450.0     26.8     29.7     34.7  13.6024  4.9274\n",
              "6        Bream   500.0     26.8     29.7     34.5  14.1795  5.2785\n",
              "7        Bream   390.0     27.6     30.0     35.0  12.6700  4.6900\n",
              "8        Bream   450.0     27.6     30.0     35.1  14.0049  4.8438\n",
              "9        Bream   500.0     28.5     30.7     36.2  14.2266  4.9594\n",
              "10       Bream   475.0     28.4     31.0     36.2  14.2628  5.1042\n",
              "11       Bream   500.0     28.7     31.0     36.2  14.3714  4.8146\n",
              "12       Bream   500.0     29.1     31.5     36.4  13.7592  4.3680\n",
              "13       Bream   340.0     29.5     32.0     37.3  13.9129  5.0728\n",
              "14       Bream   600.0     29.4     32.0     37.2  14.9544  5.1708\n",
              "15       Bream   600.0     29.4     32.0     37.2  15.4380  5.5800\n",
              "16       Bream   700.0     30.4     33.0     38.3  14.8604  5.2854\n",
              "17       Bream   700.0     30.4     33.0     38.5  14.9380  5.1975\n",
              "18       Bream   610.0     30.9     33.5     38.6  15.6330  5.1338\n",
              "19       Bream   650.0     31.0     33.5     38.7  14.4738  5.7276\n",
              "20       Bream   575.0     31.3     34.0     39.5  15.1285  5.5695\n",
              "21       Bream   685.0     31.4     34.0     39.2  15.9936  5.3704\n",
              "22       Bream   620.0     31.5     34.5     39.7  15.5227  5.2801\n",
              "23       Bream   680.0     31.8     35.0     40.6  15.4686  6.1306\n",
              "24       Bream   700.0     31.9     35.0     40.5  16.2405  5.5890\n",
              "25       Bream   725.0     31.8     35.0     40.9  16.3600  6.0532\n",
              "26       Bream   720.0     32.0     35.0     40.6  16.3618  6.0900\n",
              "27       Bream   714.0     32.7     36.0     41.5  16.5170  5.8515\n",
              "28       Bream   850.0     32.8     36.0     41.6  16.8896  6.1984\n",
              "29       Bream  1000.0     33.5     37.0     42.6  18.9570  6.6030\n",
              "30       Bream   920.0     35.0     38.5     44.1  18.0369  6.3063\n",
              "31       Bream   955.0     35.0     38.5     44.0  18.0840  6.2920\n",
              "32       Bream   925.0     36.2     39.5     45.3  18.7542  6.7497\n",
              "33       Bream   975.0     37.4     41.0     45.9  18.6354  6.7473\n",
              "34       Bream   950.0     38.0     41.0     46.5  17.6235  6.3705\n",
              "35       Roach    40.0     12.9     14.1     16.2   4.1472  2.2680\n",
              "36       Roach    69.0     16.5     18.2     20.3   5.2983  2.8217\n",
              "37       Roach    78.0     17.5     18.8     21.2   5.5756  2.9044\n",
              "38       Roach    87.0     18.2     19.8     22.2   5.6166  3.1746\n",
              "39       Roach   120.0     18.6     20.0     22.2   6.2160  3.5742\n",
              "40       Roach     0.0     19.0     20.5     22.8   6.4752  3.3516\n",
              "41       Roach   110.0     19.1     20.8     23.1   6.1677  3.3957\n",
              "42       Roach   120.0     19.4     21.0     23.7   6.1146  3.2943\n",
              "43       Roach   150.0     20.4     22.0     24.7   5.8045  3.7544\n",
              "44       Roach   145.0     20.5     22.0     24.3   6.6339  3.5478\n",
              "45       Roach   160.0     20.5     22.5     25.3   7.0334  3.8203\n",
              "46       Roach   140.0     21.0     22.5     25.0   6.5500  3.3250\n",
              "47       Roach   160.0     21.1     22.5     25.0   6.4000  3.8000\n",
              "48       Roach   169.0     22.0     24.0     27.2   7.5344  3.8352\n",
              "49       Roach   161.0     22.0     23.4     26.7   6.9153  3.6312\n",
              "50       Roach   200.0     22.1     23.5     26.8   7.3968  4.1272\n",
              "51       Roach   180.0     23.6     25.2     27.9   7.0866  3.9060\n",
              "52       Roach   290.0     24.0     26.0     29.2   8.8768  4.4968\n",
              "53       Roach   272.0     25.0     27.0     30.6   8.5680  4.7736\n",
              "54       Roach   390.0     29.5     31.7     35.0   9.4850  5.3550\n",
              "55   Whitefish   270.0     23.6     26.0     28.7   8.3804  4.2476\n",
              "56   Whitefish   270.0     24.1     26.5     29.3   8.1454  4.2485\n",
              "57   Whitefish   306.0     25.6     28.0     30.8   8.7780  4.6816\n",
              "58   Whitefish   540.0     28.5     31.0     34.0  10.7440  6.5620\n",
              "59   Whitefish   800.0     33.7     36.4     39.6  11.7612  6.5736\n",
              "60   Whitefish  1000.0     37.3     40.0     43.5  12.3540  6.5250\n",
              "61      Parkki    55.0     13.5     14.7     16.5   6.8475  2.3265\n",
              "62      Parkki    60.0     14.3     15.5     17.4   6.5772  2.3142\n",
              "63      Parkki    90.0     16.3     17.7     19.8   7.4052  2.6730\n",
              "64      Parkki   120.0     17.5     19.0     21.3   8.3922  2.9181\n",
              "65      Parkki   150.0     18.4     20.0     22.4   8.8928  3.2928\n",
              "66      Parkki   140.0     19.0     20.7     23.2   8.5376  3.2944\n",
              "67      Parkki   170.0     19.0     20.7     23.2   9.3960  3.4104\n",
              "68      Parkki   145.0     19.8     21.5     24.1   9.7364  3.1571\n",
              "69      Parkki   200.0     21.2     23.0     25.8  10.3458  3.6636\n",
              "70      Parkki   273.0     23.0     25.0     28.0  11.0880  4.1440\n",
              "71      Parkki   300.0     24.0     26.0     29.0  11.3680  4.2340\n",
              "72       Perch     5.9      7.5      8.4      8.8   2.1120  1.4080\n",
              "73       Perch    32.0     12.5     13.7     14.7   3.5280  1.9992\n",
              "74       Perch    40.0     13.8     15.0     16.0   3.8240  2.4320\n",
              "75       Perch    51.5     15.0     16.2     17.2   4.5924  2.6316\n",
              "76       Perch    70.0     15.7     17.4     18.5   4.5880  2.9415\n",
              "77       Perch   100.0     16.2     18.0     19.2   5.2224  3.3216\n",
              "78       Perch    78.0     16.8     18.7     19.4   5.1992  3.1234\n",
              "79       Perch    80.0     17.2     19.0     20.2   5.6358  3.0502\n",
              "80       Perch    85.0     17.8     19.6     20.8   5.1376  3.0368\n",
              "81       Perch    85.0     18.2     20.0     21.0   5.0820  2.7720\n",
              "82       Perch   110.0     19.0     21.0     22.5   5.6925  3.5550\n",
              "83       Perch   115.0     19.0     21.0     22.5   5.9175  3.3075\n",
              "84       Perch   125.0     19.0     21.0     22.5   5.6925  3.6675\n",
              "85       Perch   130.0     19.3     21.3     22.8   6.3840  3.5340\n",
              "86       Perch   120.0     20.0     22.0     23.5   6.1100  3.4075\n",
              "87       Perch   120.0     20.0     22.0     23.5   5.6400  3.5250\n",
              "88       Perch   130.0     20.0     22.0     23.5   6.1100  3.5250\n",
              "89       Perch   135.0     20.0     22.0     23.5   5.8750  3.5250\n",
              "90       Perch   110.0     20.0     22.0     23.5   5.5225  3.9950\n",
              "91       Perch   130.0     20.5     22.5     24.0   5.8560  3.6240\n",
              "92       Perch   150.0     20.5     22.5     24.0   6.7920  3.6240\n",
              "93       Perch   145.0     20.7     22.7     24.2   5.9532  3.6300\n",
              "94       Perch   150.0     21.0     23.0     24.5   5.2185  3.6260\n",
              "95       Perch   170.0     21.5     23.5     25.0   6.2750  3.7250\n",
              "96       Perch   225.0     22.0     24.0     25.5   7.2930  3.7230\n",
              "97       Perch   145.0     22.0     24.0     25.5   6.3750  3.8250\n",
              "98       Perch   188.0     22.6     24.6     26.2   6.7334  4.1658\n",
              "99       Perch   180.0     23.0     25.0     26.5   6.4395  3.6835\n",
              "100      Perch   197.0     23.5     25.6     27.0   6.5610  4.2390\n",
              "101      Perch   218.0     25.0     26.5     28.0   7.1680  4.1440\n",
              "102      Perch   300.0     25.2     27.3     28.7   8.3230  5.1373\n",
              "103      Perch   260.0     25.4     27.5     28.9   7.1672  4.3350\n",
              "104      Perch   265.0     25.4     27.5     28.9   7.0516  4.3350\n",
              "105      Perch   250.0     25.4     27.5     28.9   7.2828  4.5662\n",
              "106      Perch   250.0     25.9     28.0     29.4   7.8204  4.2042\n",
              "107      Perch   300.0     26.9     28.7     30.1   7.5852  4.6354\n",
              "108      Perch   320.0     27.8     30.0     31.6   7.6156  4.7716\n",
              "109      Perch   514.0     30.5     32.8     34.0  10.0300  6.0180\n",
              "110      Perch   556.0     32.0     34.5     36.5  10.2565  6.3875\n",
              "111      Perch   840.0     32.5     35.0     37.3  11.4884  7.7957\n",
              "112      Perch   685.0     34.0     36.5     39.0  10.8810  6.8640\n",
              "113      Perch   700.0     34.0     36.0     38.3  10.6091  6.7408\n",
              "114      Perch   700.0     34.5     37.0     39.4  10.8350  6.2646\n",
              "115      Perch   690.0     34.6     37.0     39.3  10.5717  6.3666\n",
              "116      Perch   900.0     36.5     39.0     41.4  11.1366  7.4934\n",
              "117      Perch   650.0     36.5     39.0     41.4  11.1366  6.0030\n",
              "118      Perch   820.0     36.6     39.0     41.3  12.4313  7.3514\n",
              "119      Perch   850.0     36.9     40.0     42.3  11.9286  7.1064\n",
              "120      Perch   900.0     37.0     40.0     42.5  11.7300  7.2250\n",
              "121      Perch  1015.0     37.0     40.0     42.4  12.3808  7.4624\n",
              "122      Perch   820.0     37.1     40.0     42.5  11.1350  6.6300\n",
              "123      Perch  1100.0     39.0     42.0     44.6  12.8002  6.8684\n",
              "124      Perch  1000.0     39.8     43.0     45.2  11.9328  7.2772\n",
              "125      Perch  1100.0     40.1     43.0     45.5  12.5125  7.4165\n",
              "126      Perch  1000.0     40.2     43.5     46.0  12.6040  8.1420\n",
              "127      Perch  1000.0     41.1     44.0     46.6  12.4888  7.5958\n",
              "128       Pike   200.0     30.0     32.3     34.8   5.5680  3.3756\n",
              "129       Pike   300.0     31.7     34.0     37.8   5.7078  4.1580\n",
              "130       Pike   300.0     32.7     35.0     38.8   5.9364  4.3844\n",
              "131       Pike   300.0     34.8     37.3     39.8   6.2884  4.0198\n",
              "132       Pike   430.0     35.5     38.0     40.5   7.2900  4.5765\n",
              "133       Pike   345.0     36.0     38.5     41.0   6.3960  3.9770\n",
              "134       Pike   456.0     40.0     42.5     45.5   7.2800  4.3225\n",
              "135       Pike   510.0     40.0     42.5     45.5   6.8250  4.4590\n",
              "136       Pike   540.0     40.1     43.0     45.8   7.7860  5.1296\n",
              "137       Pike   500.0     42.0     45.0     48.0   6.9600  4.8960\n",
              "138       Pike   567.0     43.2     46.0     48.7   7.7920  4.8700\n",
              "139       Pike   770.0     44.8     48.0     51.2   7.6800  5.3760\n",
              "140       Pike   950.0     48.3     51.7     55.1   8.9262  6.1712\n",
              "141       Pike  1250.0     52.0     56.0     59.7  10.6863  6.9849\n",
              "142       Pike  1600.0     56.0     60.0     64.0   9.6000  6.1440\n",
              "143       Pike  1550.0     56.0     60.0     64.0   9.6000  6.1440\n",
              "144       Pike  1650.0     59.0     63.4     68.0  10.8120  7.4800\n",
              "145      Smelt     6.7      9.3      9.8     10.8   1.7388  1.0476\n",
              "146      Smelt     7.5     10.0     10.5     11.6   1.9720  1.1600\n",
              "147      Smelt     7.0     10.1     10.6     11.6   1.7284  1.1484\n",
              "148      Smelt     9.7     10.4     11.0     12.0   2.1960  1.3800\n",
              "149      Smelt     9.8     10.7     11.2     12.4   2.0832  1.2772\n",
              "150      Smelt     8.7     10.8     11.3     12.6   1.9782  1.2852\n",
              "151      Smelt    10.0     11.3     11.8     13.1   2.2139  1.2838\n",
              "152      Smelt     9.9     11.3     11.8     13.1   2.2139  1.1659\n",
              "153      Smelt     9.8     11.4     12.0     13.2   2.2044  1.1484\n",
              "154      Smelt    12.2     11.5     12.2     13.4   2.0904  1.3936\n",
              "155      Smelt    13.4     11.7     12.4     13.5   2.4300  1.2690\n",
              "156      Smelt    12.2     12.1     13.0     13.8   2.2770  1.2558\n",
              "157      Smelt    19.7     13.2     14.3     15.2   2.8728  2.0672\n",
              "158      Smelt    19.9     13.8     15.0     16.2   2.9322  1.8792>"
            ]
          },
          "metadata": {},
          "execution_count": 36
        }
      ]
    },
    {
      "cell_type": "code",
      "metadata": {
        "colab": {
          "base_uri": "https://localhost:8080/",
          "height": 1000
        },
        "id": "jDbEfp21y19c",
        "outputId": "1a514841-d922-4ab7-de6a-a752ec3f95b3"
      },
      "source": [
        "\n",
        "from sklearn.model_selection import train_test_split\n",
        "X_train,X_test,Y_train,Y_test=train_test_split(X,Y,test_size=0.2,random_state=0)"
      ],
      "execution_count": null,
      "outputs": [
        {
          "output_type": "error",
          "ename": "TypeError",
          "evalue": "ignored",
          "traceback": [
            "\u001b[0;31m---------------------------------------------------------------------------\u001b[0m",
            "\u001b[0;31mTypeError\u001b[0m                                 Traceback (most recent call last)",
            "\u001b[0;32m<ipython-input-29-c93b2be6c60c>\u001b[0m in \u001b[0;36m<module>\u001b[0;34m()\u001b[0m\n\u001b[1;32m      1\u001b[0m \u001b[0;34m\u001b[0m\u001b[0m\n\u001b[1;32m      2\u001b[0m \u001b[0;32mfrom\u001b[0m \u001b[0msklearn\u001b[0m\u001b[0;34m.\u001b[0m\u001b[0mmodel_selection\u001b[0m \u001b[0;32mimport\u001b[0m \u001b[0mtrain_test_split\u001b[0m\u001b[0;34m\u001b[0m\u001b[0;34m\u001b[0m\u001b[0m\n\u001b[0;32m----> 3\u001b[0;31m \u001b[0mX_train\u001b[0m\u001b[0;34m,\u001b[0m\u001b[0mX_test\u001b[0m\u001b[0;34m,\u001b[0m\u001b[0mY_train\u001b[0m\u001b[0;34m,\u001b[0m\u001b[0mY_test\u001b[0m\u001b[0;34m=\u001b[0m\u001b[0mtrain_test_split\u001b[0m\u001b[0;34m(\u001b[0m\u001b[0mX\u001b[0m\u001b[0;34m,\u001b[0m\u001b[0mY\u001b[0m\u001b[0;34m,\u001b[0m\u001b[0mtest_size\u001b[0m\u001b[0;34m=\u001b[0m\u001b[0;36m0.2\u001b[0m\u001b[0;34m,\u001b[0m\u001b[0mrandom_state\u001b[0m\u001b[0;34m=\u001b[0m\u001b[0;36m0\u001b[0m\u001b[0;34m)\u001b[0m\u001b[0;34m\u001b[0m\u001b[0;34m\u001b[0m\u001b[0m\n\u001b[0m",
            "\u001b[0;32m/usr/local/lib/python3.7/dist-packages/sklearn/model_selection/_split.py\u001b[0m in \u001b[0;36mtrain_test_split\u001b[0;34m(*arrays, **options)\u001b[0m\n\u001b[1;32m   2116\u001b[0m         \u001b[0;32mraise\u001b[0m \u001b[0mTypeError\u001b[0m\u001b[0;34m(\u001b[0m\u001b[0;34m\"Invalid parameters passed: %s\"\u001b[0m \u001b[0;34m%\u001b[0m \u001b[0mstr\u001b[0m\u001b[0;34m(\u001b[0m\u001b[0moptions\u001b[0m\u001b[0;34m)\u001b[0m\u001b[0;34m)\u001b[0m\u001b[0;34m\u001b[0m\u001b[0;34m\u001b[0m\u001b[0m\n\u001b[1;32m   2117\u001b[0m \u001b[0;34m\u001b[0m\u001b[0m\n\u001b[0;32m-> 2118\u001b[0;31m     \u001b[0marrays\u001b[0m \u001b[0;34m=\u001b[0m \u001b[0mindexable\u001b[0m\u001b[0;34m(\u001b[0m\u001b[0;34m*\u001b[0m\u001b[0marrays\u001b[0m\u001b[0;34m)\u001b[0m\u001b[0;34m\u001b[0m\u001b[0;34m\u001b[0m\u001b[0m\n\u001b[0m\u001b[1;32m   2119\u001b[0m \u001b[0;34m\u001b[0m\u001b[0m\n\u001b[1;32m   2120\u001b[0m     \u001b[0mn_samples\u001b[0m \u001b[0;34m=\u001b[0m \u001b[0m_num_samples\u001b[0m\u001b[0;34m(\u001b[0m\u001b[0marrays\u001b[0m\u001b[0;34m[\u001b[0m\u001b[0;36m0\u001b[0m\u001b[0;34m]\u001b[0m\u001b[0;34m)\u001b[0m\u001b[0;34m\u001b[0m\u001b[0;34m\u001b[0m\u001b[0m\n",
            "\u001b[0;32m/usr/local/lib/python3.7/dist-packages/sklearn/utils/validation.py\u001b[0m in \u001b[0;36mindexable\u001b[0;34m(*iterables)\u001b[0m\n\u001b[1;32m    246\u001b[0m     \"\"\"\n\u001b[1;32m    247\u001b[0m     \u001b[0mresult\u001b[0m \u001b[0;34m=\u001b[0m \u001b[0;34m[\u001b[0m\u001b[0m_make_indexable\u001b[0m\u001b[0;34m(\u001b[0m\u001b[0mX\u001b[0m\u001b[0;34m)\u001b[0m \u001b[0;32mfor\u001b[0m \u001b[0mX\u001b[0m \u001b[0;32min\u001b[0m \u001b[0miterables\u001b[0m\u001b[0;34m]\u001b[0m\u001b[0;34m\u001b[0m\u001b[0;34m\u001b[0m\u001b[0m\n\u001b[0;32m--> 248\u001b[0;31m     \u001b[0mcheck_consistent_length\u001b[0m\u001b[0;34m(\u001b[0m\u001b[0;34m*\u001b[0m\u001b[0mresult\u001b[0m\u001b[0;34m)\u001b[0m\u001b[0;34m\u001b[0m\u001b[0;34m\u001b[0m\u001b[0m\n\u001b[0m\u001b[1;32m    249\u001b[0m     \u001b[0;32mreturn\u001b[0m \u001b[0mresult\u001b[0m\u001b[0;34m\u001b[0m\u001b[0;34m\u001b[0m\u001b[0m\n\u001b[1;32m    250\u001b[0m \u001b[0;34m\u001b[0m\u001b[0m\n",
            "\u001b[0;32m/usr/local/lib/python3.7/dist-packages/sklearn/utils/validation.py\u001b[0m in \u001b[0;36mcheck_consistent_length\u001b[0;34m(*arrays)\u001b[0m\n\u001b[1;32m    206\u001b[0m     \"\"\"\n\u001b[1;32m    207\u001b[0m \u001b[0;34m\u001b[0m\u001b[0m\n\u001b[0;32m--> 208\u001b[0;31m     \u001b[0mlengths\u001b[0m \u001b[0;34m=\u001b[0m \u001b[0;34m[\u001b[0m\u001b[0m_num_samples\u001b[0m\u001b[0;34m(\u001b[0m\u001b[0mX\u001b[0m\u001b[0;34m)\u001b[0m \u001b[0;32mfor\u001b[0m \u001b[0mX\u001b[0m \u001b[0;32min\u001b[0m \u001b[0marrays\u001b[0m \u001b[0;32mif\u001b[0m \u001b[0mX\u001b[0m \u001b[0;32mis\u001b[0m \u001b[0;32mnot\u001b[0m \u001b[0;32mNone\u001b[0m\u001b[0;34m]\u001b[0m\u001b[0;34m\u001b[0m\u001b[0;34m\u001b[0m\u001b[0m\n\u001b[0m\u001b[1;32m    209\u001b[0m     \u001b[0muniques\u001b[0m \u001b[0;34m=\u001b[0m \u001b[0mnp\u001b[0m\u001b[0;34m.\u001b[0m\u001b[0munique\u001b[0m\u001b[0;34m(\u001b[0m\u001b[0mlengths\u001b[0m\u001b[0;34m)\u001b[0m\u001b[0;34m\u001b[0m\u001b[0;34m\u001b[0m\u001b[0m\n\u001b[1;32m    210\u001b[0m     \u001b[0;32mif\u001b[0m \u001b[0mlen\u001b[0m\u001b[0;34m(\u001b[0m\u001b[0muniques\u001b[0m\u001b[0;34m)\u001b[0m \u001b[0;34m>\u001b[0m \u001b[0;36m1\u001b[0m\u001b[0;34m:\u001b[0m\u001b[0;34m\u001b[0m\u001b[0;34m\u001b[0m\u001b[0m\n",
            "\u001b[0;32m/usr/local/lib/python3.7/dist-packages/sklearn/utils/validation.py\u001b[0m in \u001b[0;36m<listcomp>\u001b[0;34m(.0)\u001b[0m\n\u001b[1;32m    206\u001b[0m     \"\"\"\n\u001b[1;32m    207\u001b[0m \u001b[0;34m\u001b[0m\u001b[0m\n\u001b[0;32m--> 208\u001b[0;31m     \u001b[0mlengths\u001b[0m \u001b[0;34m=\u001b[0m \u001b[0;34m[\u001b[0m\u001b[0m_num_samples\u001b[0m\u001b[0;34m(\u001b[0m\u001b[0mX\u001b[0m\u001b[0;34m)\u001b[0m \u001b[0;32mfor\u001b[0m \u001b[0mX\u001b[0m \u001b[0;32min\u001b[0m \u001b[0marrays\u001b[0m \u001b[0;32mif\u001b[0m \u001b[0mX\u001b[0m \u001b[0;32mis\u001b[0m \u001b[0;32mnot\u001b[0m \u001b[0;32mNone\u001b[0m\u001b[0;34m]\u001b[0m\u001b[0;34m\u001b[0m\u001b[0;34m\u001b[0m\u001b[0m\n\u001b[0m\u001b[1;32m    209\u001b[0m     \u001b[0muniques\u001b[0m \u001b[0;34m=\u001b[0m \u001b[0mnp\u001b[0m\u001b[0;34m.\u001b[0m\u001b[0munique\u001b[0m\u001b[0;34m(\u001b[0m\u001b[0mlengths\u001b[0m\u001b[0;34m)\u001b[0m\u001b[0;34m\u001b[0m\u001b[0;34m\u001b[0m\u001b[0m\n\u001b[1;32m    210\u001b[0m     \u001b[0;32mif\u001b[0m \u001b[0mlen\u001b[0m\u001b[0;34m(\u001b[0m\u001b[0muniques\u001b[0m\u001b[0;34m)\u001b[0m \u001b[0;34m>\u001b[0m \u001b[0;36m1\u001b[0m\u001b[0;34m:\u001b[0m\u001b[0;34m\u001b[0m\u001b[0;34m\u001b[0m\u001b[0m\n",
            "\u001b[0;32m/usr/local/lib/python3.7/dist-packages/sklearn/utils/validation.py\u001b[0m in \u001b[0;36m_num_samples\u001b[0;34m(x)\u001b[0m\n\u001b[1;32m    150\u001b[0m         \u001b[0;32mif\u001b[0m \u001b[0mlen\u001b[0m\u001b[0;34m(\u001b[0m\u001b[0mx\u001b[0m\u001b[0;34m.\u001b[0m\u001b[0mshape\u001b[0m\u001b[0;34m)\u001b[0m \u001b[0;34m==\u001b[0m \u001b[0;36m0\u001b[0m\u001b[0;34m:\u001b[0m\u001b[0;34m\u001b[0m\u001b[0;34m\u001b[0m\u001b[0m\n\u001b[1;32m    151\u001b[0m             raise TypeError(\"Singleton array %r cannot be considered\"\n\u001b[0;32m--> 152\u001b[0;31m                             \" a valid collection.\" % x)\n\u001b[0m\u001b[1;32m    153\u001b[0m         \u001b[0;31m# Check that shape is returning an integer or default to len\u001b[0m\u001b[0;34m\u001b[0m\u001b[0;34m\u001b[0m\u001b[0;34m\u001b[0m\u001b[0m\n\u001b[1;32m    154\u001b[0m         \u001b[0;31m# Dask dataframes may not return numeric shape[0] value\u001b[0m\u001b[0;34m\u001b[0m\u001b[0;34m\u001b[0m\u001b[0;34m\u001b[0m\u001b[0m\n",
            "\u001b[0;31mTypeError\u001b[0m: Singleton array array(<bound method NDFrame.copy of        Species  Weight  Length1  Length2  Length3   Height   Width\n0        Bream   242.0     23.2     25.4     30.0  11.5200  4.0200\n1        Bream   290.0     24.0     26.3     31.2  12.4800  4.3056\n2        Bream   340.0     23.9     26.5     31.1  12.3778  4.6961\n3        Bream   363.0     26.3     29.0     33.5  12.7300  4.4555\n4        Bream   430.0     26.5     29.0     34.0  12.4440  5.1340\n5        Bream   450.0     26.8     29.7     34.7  13.6024  4.9274\n6        Bream   500.0     26.8     29.7     34.5  14.1795  5.2785\n7        Bream   390.0     27.6     30.0     35.0  12.6700  4.6900\n8        Bream   450.0     27.6     30.0     35.1  14.0049  4.8438\n9        Bream   500.0     28.5     30.7     36.2  14.2266  4.9594\n10       Bream   475.0     28.4     31.0     36.2  14.2628  5.1042\n11       Bream   500.0     28.7     31.0     36.2  14.3714  4.8146\n12       Bream   500.0     29.1     31.5     36.4  13.7592  4.3680\n13       Bream   340.0     29.5     32.0     37.3  13.9129  5.0728\n14       Bream   600.0     29.4     32.0     37.2  14.9544  5.1708\n15       Bream   600.0     29.4     32.0     37.2  15.4380  5.5800\n16       Bream   700.0     30.4     33.0     38.3  14.8604  5.2854\n17       Bream   700.0     30.4     33.0     38.5  14.9380  5.1975\n18       Bream   610.0     30.9     33.5     38.6  15.6330  5.1338\n19       Bream   650.0     31.0     33.5     38.7  14.4738  5.7276\n20       Bream   575.0     31.3     34.0     39.5  15.1285  5.5695\n21       Bream   685.0     31.4     34.0     39.2  15.9936  5.3704\n22       Bream   620.0     31.5     34.5     39.7  15.5227  5.2801\n23       Bream   680.0     31.8     35.0     40.6  15.4686  6.1306\n24       Bream   700.0     31.9     35.0     40.5  16.2405  5.5890\n25       Bream   725.0     31.8     35.0     40.9  16.3600  6.0532\n26       Bream   720.0     32.0     35.0     40.6  16.3618  6.0900\n27       Bream   714.0     32.7     36.0     41.5  16.5170  5.8515\n28       Bream   850.0     32.8     36.0     41.6  16.8896  6.1984\n29       Bream  1000.0     33.5     37.0     42.6  18.9570  6.6030\n30       Bream   920.0     35.0     38.5     44.1  18.0369  6.3063\n31       Bream   955.0     35.0     38.5     44.0  18.0840  6.2920\n32       Bream   925.0     36.2     39.5     45.3  18.7542  6.7497\n33       Bream   975.0     37.4     41.0     45.9  18.6354  6.7473\n34       Bream   950.0     38.0     41.0     46.5  17.6235  6.3705\n35       Roach    40.0     12.9     14.1     16.2   4.1472  2.2680\n36       Roach    69.0     16.5     18.2     20.3   5.2983  2.8217\n37       Roach    78.0     17.5     18.8     21.2   5.5756  2.9044\n38       Roach    87.0     18.2     19.8     22.2   5.6166  3.1746\n39       Roach   120.0     18.6     20.0     22.2   6.2160  3.5742\n40       Roach     0.0     19.0     20.5     22.8   6.4752  3.3516\n41       Roach   110.0     19.1     20.8     23.1   6.1677  3.3957\n42       Roach   120.0     19.4     21.0     23.7   6.1146  3.2943\n43       Roach   150.0     20.4     22.0     24.7   5.8045  3.7544\n44       Roach   145.0     20.5     22.0     24.3   6.6339  3.5478\n45       Roach   160.0     20.5     22.5     25.3   7.0334  3.8203\n46       Roach   140.0     21.0     22.5     25.0   6.5500  3.3250\n47       Roach   160.0     21.1     22.5     25.0   6.4000  3.8000\n48       Roach   169.0     22.0     24.0     27.2   7.5344  3.8352\n49       Roach   161.0     22.0     23.4     26.7   6.9153  3.6312\n50       Roach   200.0     22.1     23.5     26.8   7.3968  4.1272\n51       Roach   180.0     23.6     25.2     27.9   7.0866  3.9060\n52       Roach   290.0     24.0     26.0     29.2   8.8768  4.4968\n53       Roach   272.0     25.0     27.0     30.6   8.5680  4.7736\n54       Roach   390.0     29.5     31.7     35.0   9.4850  5.3550\n55   Whitefish   270.0     23.6     26.0     28.7   8.3804  4.2476\n56   Whitefish   270.0     24.1     26.5     29.3   8.1454  4.2485\n57   Whitefish   306.0     25.6     28.0     30.8   8.7780  4.6816\n58   Whitefish   540.0     28.5     31.0     34.0  10.7440  6.5620\n59   Whitefish   800.0     33.7     36.4     39.6  11.7612  6.5736\n60   Whitefish  1000.0     37.3     40.0     43.5  12.3540  6.5250\n61      Parkki    55.0     13.5     14.7     16.5   6.8475  2.3265\n62      Parkki    60.0     14.3     15.5     17.4   6.5772  2.3142\n63      Parkki    90.0     16.3     17.7     19.8   7.4052  2.6730\n64      Parkki   120.0     17.5     19.0     21.3   8.3922  2.9181\n65      Parkki   150.0     18.4     20.0     22.4   8.8928  3.2928\n66      Parkki   140.0     19.0     20.7     23.2   8.5376  3.2944\n67      Parkki   170.0     19.0     20.7     23.2   9.3960  3.4104\n68      Parkki   145.0     19.8     21.5     24.1   9.7364  3.1571\n69      Parkki   200.0     21.2     23.0     25.8  10.3458  3.6636\n70      Parkki   273.0     23.0     25.0     28.0  11.0880  4.1440\n71      Parkki   300.0     24.0     26.0     29.0  11.3680  4.2340\n72       Perch     5.9      7.5      8.4      8.8   2.1120  1.4080\n73       Perch    32.0     12.5     13.7     14.7   3.5280  1.9992\n74       Perch    40.0     13.8     15.0     16.0   3.8240  2.4320\n75       Perch    51.5     15.0     16.2     17.2   4.5924  2.6316\n76       Perch    70.0     15.7     17.4     18.5   4.5880  2.9415\n77       Perch   100.0     16.2     18.0     19.2   5.2224  3.3216\n78       Perch    78.0     16.8     18.7     19.4   5.1992  3.1234\n79       Perch    80.0     17.2     19.0     20.2   5.6358  3.0502\n80       Perch    85.0     17.8     19.6     20.8   5.1376  3.0368\n81       Perch    85.0     18.2     20.0     21.0   5.0820  2.7720\n82       Perch   110.0     19.0     21.0     22.5   5.6925  3.5550\n83       Perch   115.0     19.0     21.0     22.5   5.9175  3.3075\n84       Perch   125.0     19.0     21.0     22.5   5.6925  3.6675\n85       Perch   130.0     19.3     21.3     22.8   6.3840  3.5340\n86       Perch   120.0     20.0     22.0     23.5   6.1100  3.4075\n87       Perch   120.0     20.0     22.0     23.5   5.6400  3.5250\n88       Perch   130.0     20.0     22.0     23.5   6.1100  3.5250\n89       Perch   135.0     20.0     22.0     23.5   5.8750  3.5250\n90       Perch   110.0     20.0     22.0     23.5   5.5225  3.9950\n91       Perch   130.0     20.5     22.5     24.0   5.8560  3.6240\n92       Perch   150.0     20.5     22.5     24.0   6.7920  3.6240\n93       Perch   145.0     20.7     22.7     24.2   5.9532  3.6300\n94       Perch   150.0     21.0     23.0     24.5   5.2185  3.6260\n95       Perch   170.0     21.5     23.5     25.0   6.2750  3.7250\n96       Perch   225.0     22.0     24.0     25.5   7.2930  3.7230\n97       Perch   145.0     22.0     24.0     25.5   6.3750  3.8250\n98       Perch   188.0     22.6     24.6     26.2   6.7334  4.1658\n99       Perch   180.0     23.0     25.0     26.5   6.4395  3.6835\n100      Perch   197.0     23.5     25.6     27.0   6.5610  4.2390\n101      Perch   218.0     25.0     26.5     28.0   7.1680  4.1440\n102      Perch   300.0     25.2     27.3     28.7   8.3230  5.1373\n103      Perch   260.0     25.4     27.5     28.9   7.1672  4.3350\n104      Perch   265.0     25.4     27.5     28.9   7.0516  4.3350\n105      Perch   250.0     25.4     27.5     28.9   7.2828  4.5662\n106      Perch   250.0     25.9     28.0     29.4   7.8204  4.2042\n107      Perch   300.0     26.9     28.7     30.1   7.5852  4.6354\n108      Perch   320.0     27.8     30.0     31.6   7.6156  4.7716\n109      Perch   514.0     30.5     32.8     34.0  10.0300  6.0180\n110      Perch   556.0     32.0     34.5     36.5  10.2565  6.3875\n111      Perch   840.0     32.5     35.0     37.3  11.4884  7.7957\n112      Perch   685.0     34.0     36.5     39.0  10.8810  6.8640\n113      Perch   700.0     34.0     36.0     38.3  10.6091  6.7408\n114      Perch   700.0     34.5     37.0     39.4  10.8350  6.2646\n115      Perch   690.0     34.6     37.0     39.3  10.5717  6.3666\n116      Perch   900.0     36.5     39.0     41.4  11.1366  7.4934\n117      Perch   650.0     36.5     39.0     41.4  11.1366  6.0030\n118      Perch   820.0     36.6     39.0     41.3  12.4313  7.3514\n119      Perch   850.0     36.9     40.0     42.3  11.9286  7.1064\n120      Perch   900.0     37.0     40.0     42.5  11.7300  7.2250\n121      Perch  1015.0     37.0     40.0     42.4  12.3808  7.4624\n122      Perch   820.0     37.1     40.0     42.5  11.1350  6.6300\n123      Perch  1100.0     39.0     42.0     44.6  12.8002  6.8684\n124      Perch  1000.0     39.8     43.0     45.2  11.9328  7.2772\n125      Perch  1100.0     40.1     43.0     45.5  12.5125  7.4165\n126      Perch  1000.0     40.2     43.5     46.0  12.6040  8.1420\n127      Perch  1000.0     41.1     44.0     46.6  12.4888  7.5958\n128       Pike   200.0     30.0     32.3     34.8   5.5680  3.3756\n129       Pike   300.0     31.7     34.0     37.8   5.7078  4.1580\n130       Pike   300.0     32.7     35.0     38.8   5.9364  4.3844\n131       Pike   300.0     34.8     37.3     39.8   6.2884  4.0198\n132       Pike   430.0     35.5     38.0     40.5   7.2900  4.5765\n133       Pike   345.0     36.0     38.5     41.0   6.3960  3.9770\n134       Pike   456.0     40.0     42.5     45.5   7.2800  4.3225\n135       Pike   510.0     40.0     42.5     45.5   6.8250  4.4590\n136       Pike   540.0     40.1     43.0     45.8   7.7860  5.1296\n137       Pike   500.0     42.0     45.0     48.0   6.9600  4.8960\n138       Pike   567.0     43.2     46.0     48.7   7.7920  4.8700\n139       Pike   770.0     44.8     48.0     51.2   7.6800  5.3760\n140       Pike   950.0     48.3     51.7     55.1   8.9262  6.1712\n141       Pike  1250.0     52.0     56.0     59.7  10.6863  6.9849\n142       Pike  1600.0     56.0     60.0     64.0   9.6000  6.1440\n143       Pike  1550.0     56.0     60.0     64.0   9.6000  6.1440\n144       Pike  1650.0     59.0     63.4     68.0  10.8120  7.4800\n145      Smelt     6.7      9.3      9.8     10.8   1.7388  1.0476\n146      Smelt     7.5     10.0     10.5     11.6   1.9720  1.1600\n147      Smelt     7.0     10.1     10.6     11.6   1.7284  1.1484\n148      Smelt     9.7     10.4     11.0     12.0   2.1960  1.3800\n149      Smelt     9.8     10.7     11.2     12.4   2.0832  1.2772\n150      Smelt     8.7     10.8     11.3     12.6   1.9782  1.2852\n151      Smelt    10.0     11.3     11.8     13.1   2.2139  1.2838\n152      Smelt     9.9     11.3     11.8     13.1   2.2139  1.1659\n153      Smelt     9.8     11.4     12.0     13.2   2.2044  1.1484\n154      Smelt    12.2     11.5     12.2     13.4   2.0904  1.3936\n155      Smelt    13.4     11.7     12.4     13.5   2.4300  1.2690\n156      Smelt    12.2     12.1     13.0     13.8   2.2770  1.2558\n157      Smelt    19.7     13.2     14.3     15.2   2.8728  2.0672\n158      Smelt    19.9     13.8     15.0     16.2   2.9322  1.8792>,\n      dtype=object) cannot be considered a valid collection."
          ]
        }
      ]
    },
    {
      "cell_type": "code",
      "metadata": {
        "id": "08v8KsN2y2NN"
      },
      "source": [
        "# i didnot hot encode species,i will get a wrong answer\n",
        "from sklearn.linear_model import LinearRegression\n",
        "L=LinearRegression()"
      ],
      "execution_count": null,
      "outputs": []
    },
    {
      "cell_type": "code",
      "metadata": {
        "id": "ZwL0EutBy2Sr"
      },
      "source": [
        "L.fit(X_train,Y_train)"
      ],
      "execution_count": null,
      "outputs": []
    },
    {
      "cell_type": "code",
      "metadata": {
        "id": "SGc97vciy2Wr"
      },
      "source": [
        ""
      ],
      "execution_count": null,
      "outputs": []
    },
    {
      "cell_type": "code",
      "metadata": {
        "id": "-1CgO-jRy2pC"
      },
      "source": [
        ""
      ],
      "execution_count": null,
      "outputs": []
    },
    {
      "cell_type": "markdown",
      "metadata": {
        "id": "3-BreaBg2FdS"
      },
      "source": [
        "### <font color=\"green\">Challenge 2</font>"
      ]
    },
    {
      "cell_type": "code",
      "metadata": {
        "id": "LwOJURwR2G0Q",
        "colab": {
          "base_uri": "https://localhost:8080/",
          "height": 204
        },
        "outputId": "db85586c-76a2-4283-dc5a-25ebe4c11f5f"
      },
      "source": [
        "# Challenge 2\n",
        "# ---\n",
        "# Question: Build a regression algorithm for predicting unemployment within an economy.\n",
        "# ---\n",
        "# Dataset url = http://bit.ly/EconomicDataset\n",
        "# ---\n",
        "# Dataset Info\n",
        "# 1. date. Month of data collection\n",
        "# 2. psavert, personal savings rate\n",
        "# 3. pce, personal consumption expenditures, in billions of dollars\n",
        "# 4. unemploy, number of unemployed in thousands \n",
        "# 5. empmed, median duration of unemployment, in week\n",
        "# 6. pop, total population, in thousands\n",
        "# ---\n",
        "# \n",
        "employment=pd.read_csv('http://bit.ly/EconomicDataset')\n",
        "employment.head()"
      ],
      "execution_count": null,
      "outputs": [
        {
          "output_type": "execute_result",
          "data": {
            "text/html": [
              "<div>\n",
              "<style scoped>\n",
              "    .dataframe tbody tr th:only-of-type {\n",
              "        vertical-align: middle;\n",
              "    }\n",
              "\n",
              "    .dataframe tbody tr th {\n",
              "        vertical-align: top;\n",
              "    }\n",
              "\n",
              "    .dataframe thead th {\n",
              "        text-align: right;\n",
              "    }\n",
              "</style>\n",
              "<table border=\"1\" class=\"dataframe\">\n",
              "  <thead>\n",
              "    <tr style=\"text-align: right;\">\n",
              "      <th></th>\n",
              "      <th>Unnamed: 0</th>\n",
              "      <th>date</th>\n",
              "      <th>pce</th>\n",
              "      <th>pop</th>\n",
              "      <th>psavert</th>\n",
              "      <th>uempmed</th>\n",
              "      <th>unemploy</th>\n",
              "    </tr>\n",
              "  </thead>\n",
              "  <tbody>\n",
              "    <tr>\n",
              "      <th>0</th>\n",
              "      <td>1</td>\n",
              "      <td>1967-06-30</td>\n",
              "      <td>507.8</td>\n",
              "      <td>198712</td>\n",
              "      <td>9.8</td>\n",
              "      <td>4.5</td>\n",
              "      <td>2944</td>\n",
              "    </tr>\n",
              "    <tr>\n",
              "      <th>1</th>\n",
              "      <td>2</td>\n",
              "      <td>1967-07-31</td>\n",
              "      <td>510.9</td>\n",
              "      <td>198911</td>\n",
              "      <td>9.8</td>\n",
              "      <td>4.7</td>\n",
              "      <td>2945</td>\n",
              "    </tr>\n",
              "    <tr>\n",
              "      <th>2</th>\n",
              "      <td>3</td>\n",
              "      <td>1967-08-31</td>\n",
              "      <td>516.7</td>\n",
              "      <td>199113</td>\n",
              "      <td>9.0</td>\n",
              "      <td>4.6</td>\n",
              "      <td>2958</td>\n",
              "    </tr>\n",
              "    <tr>\n",
              "      <th>3</th>\n",
              "      <td>4</td>\n",
              "      <td>1967-09-30</td>\n",
              "      <td>513.3</td>\n",
              "      <td>199311</td>\n",
              "      <td>9.8</td>\n",
              "      <td>4.9</td>\n",
              "      <td>3143</td>\n",
              "    </tr>\n",
              "    <tr>\n",
              "      <th>4</th>\n",
              "      <td>5</td>\n",
              "      <td>1967-10-31</td>\n",
              "      <td>518.5</td>\n",
              "      <td>199498</td>\n",
              "      <td>9.7</td>\n",
              "      <td>4.7</td>\n",
              "      <td>3066</td>\n",
              "    </tr>\n",
              "  </tbody>\n",
              "</table>\n",
              "</div>"
            ],
            "text/plain": [
              "   Unnamed: 0        date    pce     pop  psavert  uempmed  unemploy\n",
              "0           1  1967-06-30  507.8  198712      9.8      4.5      2944\n",
              "1           2  1967-07-31  510.9  198911      9.8      4.7      2945\n",
              "2           3  1967-08-31  516.7  199113      9.0      4.6      2958\n",
              "3           4  1967-09-30  513.3  199311      9.8      4.9      3143\n",
              "4           5  1967-10-31  518.5  199498      9.7      4.7      3066"
            ]
          },
          "metadata": {},
          "execution_count": 40
        }
      ]
    },
    {
      "cell_type": "code",
      "metadata": {
        "colab": {
          "base_uri": "https://localhost:8080/",
          "height": 204
        },
        "id": "KPOjYInv_QCz",
        "outputId": "6053eb81-18eb-4aa7-fcd1-af0c91b4b076"
      },
      "source": [
        "employment.tail()"
      ],
      "execution_count": null,
      "outputs": [
        {
          "output_type": "execute_result",
          "data": {
            "text/html": [
              "<div>\n",
              "<style scoped>\n",
              "    .dataframe tbody tr th:only-of-type {\n",
              "        vertical-align: middle;\n",
              "    }\n",
              "\n",
              "    .dataframe tbody tr th {\n",
              "        vertical-align: top;\n",
              "    }\n",
              "\n",
              "    .dataframe thead th {\n",
              "        text-align: right;\n",
              "    }\n",
              "</style>\n",
              "<table border=\"1\" class=\"dataframe\">\n",
              "  <thead>\n",
              "    <tr style=\"text-align: right;\">\n",
              "      <th></th>\n",
              "      <th>Unnamed: 0</th>\n",
              "      <th>date</th>\n",
              "      <th>pce</th>\n",
              "      <th>pop</th>\n",
              "      <th>psavert</th>\n",
              "      <th>uempmed</th>\n",
              "      <th>unemploy</th>\n",
              "    </tr>\n",
              "  </thead>\n",
              "  <tbody>\n",
              "    <tr>\n",
              "      <th>473</th>\n",
              "      <td>474</td>\n",
              "      <td>2006-11-30</td>\n",
              "      <td>9478.5</td>\n",
              "      <td>301070</td>\n",
              "      <td>-1.1</td>\n",
              "      <td>7.3</td>\n",
              "      <td>6849</td>\n",
              "    </tr>\n",
              "    <tr>\n",
              "      <th>474</th>\n",
              "      <td>475</td>\n",
              "      <td>2006-12-31</td>\n",
              "      <td>9540.3</td>\n",
              "      <td>301296</td>\n",
              "      <td>-0.9</td>\n",
              "      <td>8.1</td>\n",
              "      <td>7017</td>\n",
              "    </tr>\n",
              "    <tr>\n",
              "      <th>475</th>\n",
              "      <td>476</td>\n",
              "      <td>2007-01-31</td>\n",
              "      <td>9610.6</td>\n",
              "      <td>301481</td>\n",
              "      <td>-1.0</td>\n",
              "      <td>8.1</td>\n",
              "      <td>6865</td>\n",
              "    </tr>\n",
              "    <tr>\n",
              "      <th>476</th>\n",
              "      <td>477</td>\n",
              "      <td>2007-02-28</td>\n",
              "      <td>9653.0</td>\n",
              "      <td>301684</td>\n",
              "      <td>-0.7</td>\n",
              "      <td>8.5</td>\n",
              "      <td>6724</td>\n",
              "    </tr>\n",
              "    <tr>\n",
              "      <th>477</th>\n",
              "      <td>478</td>\n",
              "      <td>2007-03-31</td>\n",
              "      <td>9705.0</td>\n",
              "      <td>301913</td>\n",
              "      <td>-1.3</td>\n",
              "      <td>8.7</td>\n",
              "      <td>6801</td>\n",
              "    </tr>\n",
              "  </tbody>\n",
              "</table>\n",
              "</div>"
            ],
            "text/plain": [
              "     Unnamed: 0        date     pce     pop  psavert  uempmed  unemploy\n",
              "473         474  2006-11-30  9478.5  301070     -1.1      7.3      6849\n",
              "474         475  2006-12-31  9540.3  301296     -0.9      8.1      7017\n",
              "475         476  2007-01-31  9610.6  301481     -1.0      8.1      6865\n",
              "476         477  2007-02-28  9653.0  301684     -0.7      8.5      6724\n",
              "477         478  2007-03-31  9705.0  301913     -1.3      8.7      6801"
            ]
          },
          "metadata": {},
          "execution_count": 41
        }
      ]
    },
    {
      "cell_type": "code",
      "metadata": {
        "colab": {
          "base_uri": "https://localhost:8080/"
        },
        "id": "2_nnP06z_P-w",
        "outputId": "d640c2fb-26e4-4deb-e690-abf798429440"
      },
      "source": [
        "employment.shape"
      ],
      "execution_count": null,
      "outputs": [
        {
          "output_type": "execute_result",
          "data": {
            "text/plain": [
              "(478, 7)"
            ]
          },
          "metadata": {},
          "execution_count": 42
        }
      ]
    },
    {
      "cell_type": "code",
      "metadata": {
        "colab": {
          "base_uri": "https://localhost:8080/"
        },
        "id": "vV0TQ79C_P6c",
        "outputId": "d57b3139-88d5-458f-84e5-a7669c4d1b56"
      },
      "source": [
        "employment.info()"
      ],
      "execution_count": null,
      "outputs": [
        {
          "output_type": "stream",
          "name": "stdout",
          "text": [
            "<class 'pandas.core.frame.DataFrame'>\n",
            "RangeIndex: 478 entries, 0 to 477\n",
            "Data columns (total 7 columns):\n",
            " #   Column      Non-Null Count  Dtype  \n",
            "---  ------      --------------  -----  \n",
            " 0   Unnamed: 0  478 non-null    int64  \n",
            " 1   date        478 non-null    object \n",
            " 2   pce         478 non-null    float64\n",
            " 3   pop         478 non-null    int64  \n",
            " 4   psavert     478 non-null    float64\n",
            " 5   uempmed     478 non-null    float64\n",
            " 6   unemploy    478 non-null    int64  \n",
            "dtypes: float64(3), int64(3), object(1)\n",
            "memory usage: 26.3+ KB\n"
          ]
        }
      ]
    },
    {
      "cell_type": "code",
      "metadata": {
        "colab": {
          "base_uri": "https://localhost:8080/",
          "height": 297
        },
        "id": "ETyn5Snb_P3V",
        "outputId": "da641be8-3a9f-464d-83db-53abb272076c"
      },
      "source": [
        "employment.describe()"
      ],
      "execution_count": null,
      "outputs": [
        {
          "output_type": "execute_result",
          "data": {
            "text/html": [
              "<div>\n",
              "<style scoped>\n",
              "    .dataframe tbody tr th:only-of-type {\n",
              "        vertical-align: middle;\n",
              "    }\n",
              "\n",
              "    .dataframe tbody tr th {\n",
              "        vertical-align: top;\n",
              "    }\n",
              "\n",
              "    .dataframe thead th {\n",
              "        text-align: right;\n",
              "    }\n",
              "</style>\n",
              "<table border=\"1\" class=\"dataframe\">\n",
              "  <thead>\n",
              "    <tr style=\"text-align: right;\">\n",
              "      <th></th>\n",
              "      <th>Unnamed: 0</th>\n",
              "      <th>pce</th>\n",
              "      <th>pop</th>\n",
              "      <th>psavert</th>\n",
              "      <th>uempmed</th>\n",
              "      <th>unemploy</th>\n",
              "    </tr>\n",
              "  </thead>\n",
              "  <tbody>\n",
              "    <tr>\n",
              "      <th>count</th>\n",
              "      <td>478.000000</td>\n",
              "      <td>478.000000</td>\n",
              "      <td>478.000000</td>\n",
              "      <td>478.000000</td>\n",
              "      <td>478.000000</td>\n",
              "      <td>478.000000</td>\n",
              "    </tr>\n",
              "    <tr>\n",
              "      <th>mean</th>\n",
              "      <td>239.500000</td>\n",
              "      <td>3654.230962</td>\n",
              "      <td>246348.939331</td>\n",
              "      <td>6.721130</td>\n",
              "      <td>7.124059</td>\n",
              "      <td>6997.177824</td>\n",
              "    </tr>\n",
              "    <tr>\n",
              "      <th>std</th>\n",
              "      <td>138.130976</td>\n",
              "      <td>2609.656755</td>\n",
              "      <td>30126.735749</td>\n",
              "      <td>3.476889</td>\n",
              "      <td>1.640329</td>\n",
              "      <td>1859.035642</td>\n",
              "    </tr>\n",
              "    <tr>\n",
              "      <th>min</th>\n",
              "      <td>1.000000</td>\n",
              "      <td>507.800000</td>\n",
              "      <td>198712.000000</td>\n",
              "      <td>-3.000000</td>\n",
              "      <td>4.000000</td>\n",
              "      <td>2685.000000</td>\n",
              "    </tr>\n",
              "    <tr>\n",
              "      <th>25%</th>\n",
              "      <td>120.250000</td>\n",
              "      <td>1272.450000</td>\n",
              "      <td>220094.250000</td>\n",
              "      <td>4.000000</td>\n",
              "      <td>5.800000</td>\n",
              "      <td>6052.500000</td>\n",
              "    </tr>\n",
              "    <tr>\n",
              "      <th>50%</th>\n",
              "      <td>239.500000</td>\n",
              "      <td>3082.450000</td>\n",
              "      <td>242515.500000</td>\n",
              "      <td>7.600000</td>\n",
              "      <td>6.900000</td>\n",
              "      <td>7187.500000</td>\n",
              "    </tr>\n",
              "    <tr>\n",
              "      <th>75%</th>\n",
              "      <td>358.750000</td>\n",
              "      <td>5474.150000</td>\n",
              "      <td>272277.250000</td>\n",
              "      <td>9.500000</td>\n",
              "      <td>8.375000</td>\n",
              "      <td>8250.250000</td>\n",
              "    </tr>\n",
              "    <tr>\n",
              "      <th>max</th>\n",
              "      <td>478.000000</td>\n",
              "      <td>9705.000000</td>\n",
              "      <td>301913.000000</td>\n",
              "      <td>14.600000</td>\n",
              "      <td>12.300000</td>\n",
              "      <td>12051.000000</td>\n",
              "    </tr>\n",
              "  </tbody>\n",
              "</table>\n",
              "</div>"
            ],
            "text/plain": [
              "       Unnamed: 0          pce  ...     uempmed      unemploy\n",
              "count  478.000000   478.000000  ...  478.000000    478.000000\n",
              "mean   239.500000  3654.230962  ...    7.124059   6997.177824\n",
              "std    138.130976  2609.656755  ...    1.640329   1859.035642\n",
              "min      1.000000   507.800000  ...    4.000000   2685.000000\n",
              "25%    120.250000  1272.450000  ...    5.800000   6052.500000\n",
              "50%    239.500000  3082.450000  ...    6.900000   7187.500000\n",
              "75%    358.750000  5474.150000  ...    8.375000   8250.250000\n",
              "max    478.000000  9705.000000  ...   12.300000  12051.000000\n",
              "\n",
              "[8 rows x 6 columns]"
            ]
          },
          "metadata": {},
          "execution_count": 45
        }
      ]
    },
    {
      "cell_type": "code",
      "metadata": {
        "colab": {
          "base_uri": "https://localhost:8080/"
        },
        "id": "0jOw67Xe_Pzb",
        "outputId": "63de1a01-99c2-46b2-e27e-b146d384d8ea"
      },
      "source": [
        "employment.duplicated().sum()"
      ],
      "execution_count": null,
      "outputs": [
        {
          "output_type": "execute_result",
          "data": {
            "text/plain": [
              "0"
            ]
          },
          "metadata": {},
          "execution_count": 47
        }
      ]
    },
    {
      "cell_type": "code",
      "metadata": {
        "colab": {
          "base_uri": "https://localhost:8080/"
        },
        "id": "gXRvLdIA_PvG",
        "outputId": "598b91b7-2277-49c8-8ea8-7c17040bcb57"
      },
      "source": [
        "employment.isnull().sum()"
      ],
      "execution_count": null,
      "outputs": [
        {
          "output_type": "execute_result",
          "data": {
            "text/plain": [
              "Unnamed: 0    0\n",
              "date          0\n",
              "pce           0\n",
              "pop           0\n",
              "psavert       0\n",
              "uempmed       0\n",
              "unemploy      0\n",
              "dtype: int64"
            ]
          },
          "metadata": {},
          "execution_count": 50
        }
      ]
    },
    {
      "cell_type": "code",
      "metadata": {
        "id": "HTEFcSbc_Pr9"
      },
      "source": [
        ""
      ],
      "execution_count": null,
      "outputs": []
    },
    {
      "cell_type": "code",
      "metadata": {
        "id": "hR4HTfez_Pn_"
      },
      "source": [
        ""
      ],
      "execution_count": null,
      "outputs": []
    },
    {
      "cell_type": "code",
      "metadata": {
        "id": "xUEv3oH1_Pj7"
      },
      "source": [
        ""
      ],
      "execution_count": null,
      "outputs": []
    },
    {
      "cell_type": "code",
      "metadata": {
        "id": "l6fMC09F_Paz"
      },
      "source": [
        ""
      ],
      "execution_count": null,
      "outputs": []
    },
    {
      "cell_type": "markdown",
      "metadata": {
        "id": "AMM6ePT52H0Z"
      },
      "source": [
        "### <font color=\"green\">Challenge 3</font>"
      ]
    },
    {
      "cell_type": "code",
      "metadata": {
        "id": "vUGrmjzy2JDy"
      },
      "source": [
        "# Challenge 3\n",
        "# ---\n",
        "# Question: Build a regression model to predict the life expectancy of a country. \n",
        "# Apply ridge regression to your model.\n",
        "# ---\n",
        "# Dataset url = http://bit.ly/LifeExpectancyDataset\n",
        "# ---\n",
        "# Dataset Info:\n",
        "# Country: Country\n",
        "# Year: Year\n",
        "# Status: Developed or Developing status\n",
        "# Life expectancy: Life Expectancy in age\n",
        "# Adult Mortality: Adult Mortality Rates of both sexes (probability of dying between 15 and 60 years per 1000 population)\n",
        "# infant deaths: Number of Infant Deaths per 1000 population\n",
        "# Alcohol: Alcohol, recorded per capita (15+) consumption (in litres of pure alcohol)\n",
        "# percentage expenditure: Expenditure on health as a percentage of Gross Domestic Product per capita(%)\n",
        "# Hepatitis B: Hepatitis B (HepB) immunization coverage among 1-year-olds (%)\n",
        "# Measles: Measles: number of reported cases per 1000 population\n",
        "# BMI: Average Body Mass Index of entire population\n",
        "# under-five: deaths Number of under-five deaths per 1000 population\n",
        "# Polio: Polio (Pol3) immunization coverage among 1-year-olds (%)\n",
        "# Total expenditure: General government expenditure on health as a percentage of total government expenditure (%)\n",
        "# Diphtheria: Diphtheria tetanus toxoid and pertussis (DTP3) immunization coverage among 1-year-olds (%)\n",
        "# HIV/AIDS: Deaths per 1 000 live births HIV/AIDS (0-4 years)\n",
        "# GDP: Gross Domestic Product per capita (in USD)\n",
        "# Population: Population of the country\n",
        "# thinness 1-19 years: Prevalence of thinness among children and adolescents for Age 10 to 19 (% )\n",
        "# thinness 5-9 years: Prevalence of thinness among children for Age 5 to 9(%)\n",
        "# Income composition of resources: Human Development Index in terms of income composition of resources (index ranging from 0 to 1)\n",
        "# Schooling: Number of years of Schooling(years)\n",
        "# ---\n",
        "# \n",
        "OUR CODE GOES HERE"
      ],
      "execution_count": null,
      "outputs": []
    },
    {
      "cell_type": "markdown",
      "metadata": {
        "id": "CfPAQs0M2Jwi"
      },
      "source": [
        "### <font color=\"green\">Challenge 4</font>"
      ]
    },
    {
      "cell_type": "code",
      "metadata": {
        "id": "2E00VHOX2LwW"
      },
      "source": [
        "# Challenge 4\n",
        "# ---\n",
        "# Question: Given the beauty dataset below, create a regression model to predict wages upon applying ridge regression.\n",
        "# ---\n",
        "# Dataset url = http://bit.ly/BeautyDataset\n",
        "# ---\n",
        "# \n",
        "OUR CODE GOES HERE"
      ],
      "execution_count": null,
      "outputs": []
    },
    {
      "cell_type": "markdown",
      "metadata": {
        "id": "0-cyo-cG2MOs"
      },
      "source": [
        "### <font color=\"green\">Challenge 5</font>"
      ]
    },
    {
      "cell_type": "code",
      "metadata": {
        "id": "G8WSyCrz2N_6"
      },
      "source": [
        "# Challenge 5\n",
        "# ---\n",
        "# Create a regression model to predict sales prices. \n",
        "# Apply regularization techniques.\n",
        "# ---\n",
        "# Dataset source = http://bit.ly/HousePricesDataset\n",
        "# ---\n",
        "# \n",
        "OUR CODE GOES HERE"
      ],
      "execution_count": null,
      "outputs": []
    }
  ]
}