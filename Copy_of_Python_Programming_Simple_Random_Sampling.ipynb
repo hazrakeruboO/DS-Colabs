{
  "nbformat": 4,
  "nbformat_minor": 0,
  "metadata": {
    "colab": {
      "name": "Copy of Python Programming: Simple Random Sampling",
      "provenance": [],
      "collapsed_sections": [
        "s0-xi8v6eATI",
        "c2SS_SWaQXE2",
        "cSWmgSy3SV5D",
        "RcV5DlN5R2uh",
        "PA5HaWPvTALQ",
        "BeUYGvGhTsm1",
        "bNWFLKL-gRTO",
        "kV0dRO0nUJzL",
        "0gGIBBpggZT2",
        "DwOtPvA3UnHf",
        "LZgY26bsgfJv",
        "-22NquhoWF7l",
        "8QVs13BcYJpm"
      ],
      "toc_visible": true,
      "include_colab_link": true
    },
    "kernelspec": {
      "name": "python3",
      "display_name": "Python 3"
    }
  },
  "cells": [
    {
      "cell_type": "markdown",
      "metadata": {
        "id": "view-in-github",
        "colab_type": "text"
      },
      "source": [
        "<a href=\"https://colab.research.google.com/github/hazrakeruboO/DS-Colabs/blob/main/Copy_of_Python_Programming_Simple_Random_Sampling.ipynb\" target=\"_parent\"><img src=\"https://colab.research.google.com/assets/colab-badge.svg\" alt=\"Open In Colab\"/></a>"
      ]
    },
    {
      "cell_type": "markdown",
      "metadata": {
        "id": "YutBgvuBdPHi"
      },
      "source": [
        "<font color=\"green\">To start working on this notebook, or any other notebook that we will use in the Moringa Data Science Course, we will need to save our own copy of it. We can do this by clicking File > Save a Copy in Drive. We will then be able to make edits to our own copy of this notebook.</font>"
      ]
    },
    {
      "cell_type": "markdown",
      "metadata": {
        "id": "5zn7dG78QUoE"
      },
      "source": [
        "# Python Programming:  Simple Random Sampling\n"
      ]
    },
    {
      "cell_type": "markdown",
      "metadata": {
        "id": "s0-xi8v6eATI"
      },
      "source": [
        "## Importing our Libraries"
      ]
    },
    {
      "cell_type": "code",
      "metadata": {
        "id": "suQkBJ4BTRWv"
      },
      "source": [
        "# importing numpy\n",
        "import numpy as np\n",
        "\n",
        "# importing pandas\n",
        "import pandas as pd\n",
        "\n",
        "# importing random module\n",
        "# we will use random.sample() function to return a k length \n",
        "# list of unique elements chosen from our population\n",
        "import random"
      ],
      "execution_count": null,
      "outputs": []
    },
    {
      "cell_type": "markdown",
      "metadata": {
        "id": "c2SS_SWaQXE2"
      },
      "source": [
        "## 1.0 Selecting More than One item from a List"
      ]
    },
    {
      "cell_type": "code",
      "metadata": {
        "id": "ttRODtArQMVS",
        "colab": {
          "base_uri": "https://localhost:8080/"
        },
        "outputId": "6cb3b8e4-6328-4a5a-c756-8b316749a0f0"
      },
      "source": [
        "# Example 1\n",
        "# ---\n",
        "# Selecting more than one item from a list \n",
        "# ---\n",
        "#\n",
        "\n",
        "list = [20, 40, 80, 100, 120]\n",
        "print (\"Choosing 3 random items from a list using sample function\", random.sample(list, k=3))\n",
        "\n",
        "list = [20, 40, 20, 20, 20]\n",
        "print (\"Choosing 3 random items from a list using sample function\",random.sample(list, k=3))\n",
        "\n",
        "# As you can see we pass k=3 to choose 3 random elements from a list. \n",
        "# In return, we got a list of 3 random items."
      ],
      "execution_count": null,
      "outputs": [
        {
          "output_type": "stream",
          "name": "stdout",
          "text": [
            "Choosing 3 random items from a list using sample function [40, 100, 20]\n",
            "Choosing 3 random items from a list using sample function [20, 20, 20]\n"
          ]
        }
      ]
    },
    {
      "cell_type": "markdown",
      "metadata": {
        "id": "cSWmgSy3SV5D"
      },
      "source": [
        "### <font color=\"green\"> 1.0 Challenges</font>"
      ]
    },
    {
      "cell_type": "code",
      "metadata": {
        "id": "Ga8D2XvfRFaP",
        "colab": {
          "base_uri": "https://localhost:8080/"
        },
        "outputId": "f2bb0fb6-e4e5-4723-a44b-bf311e3f9258"
      },
      "source": [
        "# Challenge 1\n",
        "# ---\n",
        "# Question: Create a list containing 10 counties in Kenya \n",
        "# then select 2 random counties from the list.\n",
        "# ---\n",
        "# \n",
        "list = ['Tana River', 'Nairobi', 'Kakamega', 'Kisii', 'Turkana','kilifi','Taita taveta','west Pokot']\n",
        "print (\"Choosing 3 random items from a list using sample function\", random.sample(list, k=2))"
      ],
      "execution_count": null,
      "outputs": [
        {
          "output_type": "stream",
          "name": "stdout",
          "text": [
            "Choosing 3 random items from a list using sample function ['west Pokot', 'Kakamega']\n"
          ]
        }
      ]
    },
    {
      "cell_type": "markdown",
      "metadata": {
        "id": "RcV5DlN5R2uh"
      },
      "source": [
        "## 2.0  Selecting the Random Sample from Dictionary"
      ]
    },
    {
      "cell_type": "code",
      "metadata": {
        "id": "yerkTFAPSIlT",
        "colab": {
          "base_uri": "https://localhost:8080/"
        },
        "outputId": "2d0da477-f198-46fb-cc4c-951d803f7f43"
      },
      "source": [
        "# Example 1\n",
        "# ---\n",
        "# We can select a random key-value pair from the dictionary as shown \n",
        "# ---\n",
        "#\n",
        "marks_dict = {\n",
        "  \"Kelly\": 55,\n",
        "  \"jhon\": 70,\n",
        "  \"Donald\": 60,\n",
        "  \"Lennin\" :50\n",
        "}\n",
        "\n",
        "print (\"Choosing 2 random items from a dictionary using sample method \", random.sample(marks_dict.items(), k=2))"
      ],
      "execution_count": null,
      "outputs": [
        {
          "output_type": "stream",
          "name": "stdout",
          "text": [
            "Choosing 2 random items from a dictionary using sample method  [('Donald', 60), ('Lennin', 50)]\n"
          ]
        }
      ]
    },
    {
      "cell_type": "markdown",
      "metadata": {
        "id": "PA5HaWPvTALQ"
      },
      "source": [
        "### <font color=\"green\">2.0 Challenges</font>"
      ]
    },
    {
      "cell_type": "code",
      "metadata": {
        "id": "GZimMc1TSSGU"
      },
      "source": [
        "# Challenge 1\n",
        "# ---\n",
        "# A caterer offers three different food packages; \n",
        "# bronze package: starch:rice stew:chicken curry vegetable:cabbages desert:melon\n",
        "# silver package: starch:rice and chappati  stew:beef curry vegetable:spinach desert:melon and bananas\n",
        "# gold package: starch:rice, chappati and mukimo stew: beef curry vegetable:spinach and managu desert: tart\n",
        "# Create a dictionary that stores the above information and select a sample of size 2 \n",
        "# ---\n",
        "#\n",
        "OUR CODE GOES HERE"
      ],
      "execution_count": null,
      "outputs": []
    },
    {
      "cell_type": "markdown",
      "metadata": {
        "id": "BeUYGvGhTsm1"
      },
      "source": [
        "## 3.0 Selecting a Random Sample with Replacement to including repetition\n"
      ]
    },
    {
      "cell_type": "code",
      "metadata": {
        "id": "9lDLmuqyT0DH",
        "colab": {
          "base_uri": "https://localhost:8080/"
        },
        "outputId": "4704d0ba-54f8-4441-a645-df7ad3039d32"
      },
      "source": [
        "# Example 1\n",
        "# ---\n",
        "# We can select a random sample with replacement to include repetition as shown below\n",
        "# ---\n",
        "# \n",
        "names = [\"Roger\", \"Nadal\", \"Novac\", \"Andre\", \"Sarena\", \"Mariya\", \"Martina\"]\n",
        "\n",
        "print(\"random sample with replacement to including repetition \", random.choices(names, k=3))"
      ],
      "execution_count": null,
      "outputs": [
        {
          "output_type": "stream",
          "name": "stdout",
          "text": [
            "random sample with replacement to including repetition  ['Andre', 'Nadal', 'Sarena']\n"
          ]
        }
      ]
    },
    {
      "cell_type": "markdown",
      "metadata": {
        "id": "bNWFLKL-gRTO"
      },
      "source": [
        "### <font color=\"green\">3.0 Challenges</font>"
      ]
    },
    {
      "cell_type": "code",
      "metadata": {
        "id": "OYjj3osOUCC3",
        "colab": {
          "base_uri": "https://localhost:8080/"
        },
        "outputId": "fa3cf912-8a25-4993-c61c-9843bc027af2"
      },
      "source": [
        "# Challenge 1\n",
        "# ---\n",
        "# Question: Select a random sample of 3 with replacement to include replacement from the \n",
        "# following list of months\n",
        "# ---\n",
        "#\n",
        "\n",
        "months = ['January', 'February', 'March', 'April', 'May', 'June', 'July',\n",
        "          'August', 'September', 'October', 'November', 'December']\n",
        "\n",
        "print(\"random sample with replacement to including repetition \", random.choices(months, k=3))"
      ],
      "execution_count": null,
      "outputs": [
        {
          "output_type": "stream",
          "name": "stdout",
          "text": [
            "random sample with replacement to including repetition  ['April', 'October', 'February']\n"
          ]
        }
      ]
    },
    {
      "cell_type": "markdown",
      "metadata": {
        "id": "kV0dRO0nUJzL"
      },
      "source": [
        "## 4.0 Selecting a Random Sample from a Range of Integers"
      ]
    },
    {
      "cell_type": "code",
      "metadata": {
        "id": "HBqhmibxUIgt",
        "colab": {
          "base_uri": "https://localhost:8080/"
        },
        "outputId": "ffebe825-d2f0-453a-f6db-0da4e0688c71"
      },
      "source": [
        "# Example 1\n",
        "# ---\n",
        "# We can select a random sample from a range of integers as shown below\n",
        "# ---\n",
        "# \n",
        "\n",
        "weight_set = {40, 50, 55, 65, 75, 80}\n",
        "\n",
        "print (\"Choosing 4 random items from a set \", random.sample(weight_set, k=4))"
      ],
      "execution_count": null,
      "outputs": [
        {
          "output_type": "stream",
          "name": "stdout",
          "text": [
            "Choosing 4 random items from a set  [75, 55, 50, 80]\n"
          ]
        }
      ]
    },
    {
      "cell_type": "markdown",
      "metadata": {
        "id": "0gGIBBpggZT2"
      },
      "source": [
        "### <font color=\"green\">4.1 Challenges</font>"
      ]
    },
    {
      "cell_type": "code",
      "metadata": {
        "id": "IIAkil2VUjuI",
        "colab": {
          "base_uri": "https://localhost:8080/"
        },
        "outputId": "c30ea308-8183-4bd8-b855-90a243b673a5"
      },
      "source": [
        "# Challenge 1\n",
        "# ---\n",
        "# Question: Select a random sample from a range of integers as shown below\n",
        "# --- \n",
        "# \n",
        "weight_set = {4, 5, 6, 7, 8, 9, 10}\n",
        "\n",
        "print (\"Choosing 4 random items from a set \", random.sample(weight_set, k=4))"
      ],
      "execution_count": null,
      "outputs": [
        {
          "output_type": "stream",
          "name": "stdout",
          "text": [
            "Choosing 4 random items from a set  [10, 6, 9, 7]\n"
          ]
        }
      ]
    },
    {
      "cell_type": "markdown",
      "metadata": {
        "id": "DwOtPvA3UnHf"
      },
      "source": [
        "## 5.0 Selecting a Sample Array from a Large multidimensional Array\n",
        "\n"
      ]
    },
    {
      "cell_type": "code",
      "metadata": {
        "id": "RxtsWbUtU2cW",
        "colab": {
          "base_uri": "https://localhost:8080/"
        },
        "outputId": "878c807e-2a22-4e03-a8d0-dc5953250b52"
      },
      "source": [
        "# Example 1\n",
        "# ---\n",
        "# We can select a sample array from a large multidimensional array as shown\n",
        "# ---\n",
        "# \n",
        "\n",
        "array = np.array([[2 ,4, 6], [5, 10, 15], [6, 12, 18], [7, 14, 21], [8, 16, 24]]) \n",
        "print(\"Printing 2D Array\")\n",
        "print(array)\n",
        "\n",
        "# selecting multiple random rows from the 2D as shown\n",
        "print(\"Selecting multiple random rows from the 2D array\")\n",
        "randomRows = np.random.randint(5, size=2)\n",
        "for i in randomRows:\n",
        "  print(array[i,:])"
      ],
      "execution_count": null,
      "outputs": [
        {
          "output_type": "stream",
          "name": "stdout",
          "text": [
            "Printing 2D Array\n",
            "[[ 2  4  6]\n",
            " [ 5 10 15]\n",
            " [ 6 12 18]\n",
            " [ 7 14 21]\n",
            " [ 8 16 24]]\n",
            "Selecting multiple random rows from the 2D array\n",
            "[2 4 6]\n",
            "[ 6 12 18]\n"
          ]
        }
      ]
    },
    {
      "cell_type": "markdown",
      "metadata": {
        "id": "LZgY26bsgfJv"
      },
      "source": [
        "### <font color=\"green\">5.0 Challenges</font>"
      ]
    },
    {
      "cell_type": "code",
      "metadata": {
        "id": "mJt1ePbSVR9j",
        "colab": {
          "base_uri": "https://localhost:8080/"
        },
        "outputId": "106515dc-02ec-45ac-9004-35b995f9931a"
      },
      "source": [
        "# Challenge 1\n",
        "# ---\n",
        "# Question: Select two arrays from the given multidimensional array\n",
        "# ---\n",
        "# \n",
        "\n",
        "#a = [[2, 4, 6, 8, 10], [3, 6, 9, 12, 15], [4, 8, 12, 16, 20], [1 ,2 , 4, 5, 6], [5, 10, 15, 20, 25], [6, 12, 18, 24, 30], [7, 14, 21, 28, 35]]  \n",
        "a = np.array([[2, 4, 6, 8, 10], [3, 6, 9, 12, 15], [4, 8, 12, 16, 20], [1 ,2 , 4, 5, 6], [5, 10, 15, 20, 25], [6, 12, 18, 24, 30], [7, 14, 21, 28, 35]])\n",
        "print(\"Printing 2D Array\")\n",
        "print(array)\n",
        "\n",
        "# selecting multiple random rows from the 2D as shown\n",
        "print(\"Selecting multiple random rows from the 2D array\")\n",
        "randomRows = np.random.randint(5, size=2)\n",
        "for i in randomRows:\n",
        "  print(a[i,:])"
      ],
      "execution_count": null,
      "outputs": [
        {
          "output_type": "stream",
          "name": "stdout",
          "text": [
            "Printing 2D Array\n",
            "[[ 2  4  6]\n",
            " [ 5 10 15]\n",
            " [ 6 12 18]\n",
            " [ 7 14 21]\n",
            " [ 8 16 24]]\n",
            "Selecting multiple random rows from the 2D array\n",
            "[1 2 4 5 6]\n",
            "[ 4  8 12 16 20]\n"
          ]
        }
      ]
    },
    {
      "cell_type": "markdown",
      "metadata": {
        "id": "-22NquhoWF7l"
      },
      "source": [
        "## 6.0 Selecting Random Samples from a Dataset"
      ]
    },
    {
      "cell_type": "code",
      "metadata": {
        "id": "gimbl5z3Waat",
        "colab": {
          "base_uri": "https://localhost:8080/"
        },
        "outputId": "89689749-f0bd-4712-ceae-69825f423579"
      },
      "source": [
        "# Example 1\n",
        "# ---\n",
        "# Selecting a random sample from the following medical appointments dataset\n",
        "# ---\n",
        "# Dataset url = http://bit.ly/MedicalAppointmentsDataset\n",
        "# ---\n",
        "# \n",
        "\n",
        "# Loading the dataset\n",
        "medical_df = pd.read_csv(\"http://bit.ly/MedicalAppointmentsDataset\")\n",
        "\n",
        "# Determining the size\n",
        "print(medical_df.shape)\n",
        "\n",
        "\n",
        "# Previewing the dataset\n",
        "print(medical_df.head())\n",
        "\n",
        "# Selecting the sample \n",
        "medical_sample = medical_df.sample(n = 10, replace=\"False\")\n",
        "print(medical_sample)"
      ],
      "execution_count": null,
      "outputs": [
        {
          "output_type": "stream",
          "name": "stdout",
          "text": [
            "(110527, 14)\n",
            "      PatientId  AppointmentID Gender  ... Handcap SMS_received  No-show\n",
            "0  2.987250e+13        5642903      F  ...       0            0       No\n",
            "1  5.589978e+14        5642503      M  ...       0            0       No\n",
            "2  4.262962e+12        5642549      F  ...       0            0       No\n",
            "3  8.679512e+11        5642828      F  ...       0            0       No\n",
            "4  8.841186e+12        5642494      F  ...       0            0       No\n",
            "\n",
            "[5 rows x 14 columns]\n",
            "          PatientId  AppointmentID Gender  ... Handcap SMS_received  No-show\n",
            "86247  8.828875e+11        5771398      M  ...       0            0       No\n",
            "79913  9.213183e+11        5626056      M  ...       0            0       No\n",
            "58478  1.311894e+13        5660988      F  ...       0            0       No\n",
            "52899  6.158177e+10        5650975      F  ...       0            0       No\n",
            "76791  3.253426e+10        5749282      F  ...       0            0       No\n",
            "14301  9.175546e+13        5693492      F  ...       0            0       No\n",
            "32235  8.675945e+12        5675241      M  ...       0            0       No\n",
            "52974  5.135360e+12        5693564      F  ...       0            0      Yes\n",
            "8610   1.447997e+13        5647485      M  ...       0            0       No\n",
            "45110  4.734138e+14        5628936      F  ...       0            0       No\n",
            "\n",
            "[10 rows x 14 columns]\n"
          ]
        }
      ]
    },
    {
      "cell_type": "markdown",
      "metadata": {
        "id": "8QVs13BcYJpm"
      },
      "source": [
        "### <font color=\"green\">6.0 Challenges </font>"
      ]
    },
    {
      "cell_type": "code",
      "metadata": {
        "id": "VZEi6JOnXJNt",
        "colab": {
          "base_uri": "https://localhost:8080/"
        },
        "outputId": "67671857-4908-4def-c0f6-a3718edfb9dd"
      },
      "source": [
        "# Challenge 1\n",
        "# ---\n",
        "# Select a random sample of 10 from the given dataset below \n",
        "# ---\n",
        "# Dataset url = http://bit.ly/DSRussianInvestigation\n",
        "# ---\n",
        "#\n",
        "# Loading the dataset\n",
        "Russian_df = pd.read_csv(\"http://bit.ly/DSRussianInvestigation\")\n",
        "\n",
        "# Determining the size\n",
        "print(Russian_df.shape)\n",
        "\n",
        "\n",
        "# Previewing the dataset\n",
        "print(Russian_df.head())\n",
        "\n",
        "# Selecting the sample \n",
        "Russian_sample = Russian_df.sample(n = 10, replace=\"False\")\n",
        "print(Russian_sample)"
      ],
      "execution_count": null,
      "outputs": [
        {
          "output_type": "stream",
          "name": "stdout",
          "text": [
            "(194, 13)\n",
            "  investigation investigation-start  ... american      president\n",
            "0     watergate          1973-05-19  ...     True  Richard Nixon\n",
            "1     watergate          1973-05-19  ...     True  Richard Nixon\n",
            "2     watergate          1973-05-19  ...     True  Richard Nixon\n",
            "3     watergate          1973-05-19  ...     True  Richard Nixon\n",
            "4     watergate          1973-05-19  ...     True  Richard Nixon\n",
            "\n",
            "[5 rows x 13 columns]\n",
            "    investigation investigation-start  ... american         president\n",
            "68      watergate          1973-05-19  ...     True     Richard Nixon\n",
            "107        pierce          1990-03-01  ...     True  George H.W. Bush\n",
            "174        russia          2017-05-17  ...    False      Donald Trump\n",
            "40      watergate          1973-05-19  ...     True     Richard Nixon\n",
            "3       watergate          1973-05-19  ...     True     Richard Nixon\n",
            "20      watergate          1973-05-19  ...     True     Richard Nixon\n",
            "2       watergate          1973-05-19  ...     True     Richard Nixon\n",
            "37      watergate          1973-05-19  ...     True     Richard Nixon\n",
            "100        pierce          1990-03-01  ...     True  George H.W. Bush\n",
            "189        russia          2017-05-17  ...    False      Donald Trump\n",
            "\n",
            "[10 rows x 13 columns]\n"
          ]
        }
      ]
    },
    {
      "cell_type": "code",
      "metadata": {
        "id": "WZgm88i7YTRf",
        "colab": {
          "base_uri": "https://localhost:8080/"
        },
        "outputId": "91b9c90d-f5f5-445f-b0ce-ba8e3d41b454"
      },
      "source": [
        "# Challenge 2\n",
        "# ---\n",
        "# A medical company would like to follow up with 50 patients who never showed up for appointments \n",
        "# but received an sms. Select a random sample from such patients given the medical dataset below \n",
        "# ---\n",
        "# Dataset url = http://bit.ly/MedicalAppointmentsDataset\n",
        "# ---\n",
        "#\n",
        "Medical_df = pd.read_csv(\"http://bit.ly/MedicalAppointmentsDataset\")\n",
        "\n",
        "# Determining the size\n",
        "print(Medical_df.shape)\n",
        "\n",
        "\n",
        "# Previewing the dataset\n",
        "#print(Medical_df.head())\n",
        "\n",
        "# Selecting the sample \n",
        "Medical_sample = Medical_df.sample(n = 50, replace=\"False\")\n",
        "print(Medical_sample)"
      ],
      "execution_count": null,
      "outputs": [
        {
          "output_type": "stream",
          "name": "stdout",
          "text": [
            "(110527, 14)\n",
            "           PatientId  AppointmentID Gender  ... Handcap SMS_received  No-show\n",
            "23511   9.984929e+13        5715919      F  ...       0            1       No\n",
            "20565   5.847925e+14        5744201      F  ...       0            0       No\n",
            "107214  8.629226e+13        5556550      F  ...       0            1       No\n",
            "22366   2.558214e+14        5680082      M  ...       0            0      Yes\n",
            "96837   9.389457e+11        5761843      F  ...       0            0       No\n",
            "19226   9.374558e+12        5702352      F  ...       0            0       No\n",
            "42396   1.235418e+13        5721118      M  ...       0            1      Yes\n",
            "49883   1.535455e+13        5601091      F  ...       0            1       No\n",
            "96037   9.422475e+14        5684104      M  ...       0            0      Yes\n",
            "85478   5.264513e+14        5751595      M  ...       0            1      Yes\n",
            "1142    1.899875e+12        5551044      F  ...       0            1       No\n",
            "39234   2.573677e+14        5691095      M  ...       0            1      Yes\n",
            "108748  1.776295e+14        5717556      M  ...       0            1       No\n",
            "37970   3.128748e+14        5723241      F  ...       0            0      Yes\n",
            "56439   8.723642e+14        5612830      M  ...       0            1       No\n",
            "80385   3.911367e+14        5681710      M  ...       0            0       No\n",
            "85821   8.674477e+13        5759264      M  ...       0            0       No\n",
            "83483   4.932453e+13        5665155      F  ...       0            0       No\n",
            "102446  9.142819e+13        5768258      F  ...       0            0       No\n",
            "90869   7.571264e+12        5725663      F  ...       0            1       No\n",
            "104737  4.158995e+13        5723425      F  ...       0            1       No\n",
            "104131  4.647279e+11        5649833      F  ...       0            1       No\n",
            "12372   4.758442e+11        5649942      M  ...       0            0       No\n",
            "3245    6.465493e+12        5532305      F  ...       0            1      Yes\n",
            "85504   9.713692e+12        5676243      F  ...       0            1       No\n",
            "64692   3.848689e+14        5692424      F  ...       0            0       No\n",
            "75687   2.273173e+10        5666823      F  ...       0            0       No\n",
            "101499  7.922367e+13        5649763      F  ...       0            1       No\n",
            "107176  6.273989e+12        5759822      F  ...       0            0       No\n",
            "10399   2.758663e+12        5693084      M  ...       0            0       No\n",
            "92793   4.787246e+12        5768101      F  ...       0            0       No\n",
            "52461   3.128532e+13        5705234      M  ...       0            0       No\n",
            "94617   7.873575e+13        5691661      M  ...       0            1       No\n",
            "62893   6.366237e+12        5660663      F  ...       0            0       No\n",
            "104937  9.193618e+11        5745980      F  ...       0            1      Yes\n",
            "60015   9.164262e+13        5616663      M  ...       0            0      Yes\n",
            "1111    5.946269e+12        5638147      M  ...       0            0       No\n",
            "72835   2.259795e+12        5732756      F  ...       0            0       No\n",
            "68051   8.759673e+13        5550571      M  ...       1            1       No\n",
            "38533   3.147372e+13        5654266      M  ...       0            0       No\n",
            "9398    1.314872e+11        5647390      F  ...       0            1      Yes\n",
            "45743   2.568974e+14        5710985      F  ...       0            0       No\n",
            "30461   7.842677e+10        5640699      M  ...       0            1      Yes\n",
            "66531   6.298573e+13        5697304      F  ...       0            0      Yes\n",
            "46124   4.216491e+14        5677232      F  ...       0            0       No\n",
            "54204   1.742833e+12        5745918      M  ...       0            0       No\n",
            "105325  1.345712e+13        5752155      F  ...       0            0       No\n",
            "718     9.811492e+13        5642183      F  ...       0            0       No\n",
            "65728   7.789995e+12        5607654      M  ...       0            1       No\n",
            "83529   3.218113e+12        5726512      F  ...       0            1      Yes\n",
            "\n",
            "[50 rows x 14 columns]\n"
          ]
        }
      ]
    }
  ]
}