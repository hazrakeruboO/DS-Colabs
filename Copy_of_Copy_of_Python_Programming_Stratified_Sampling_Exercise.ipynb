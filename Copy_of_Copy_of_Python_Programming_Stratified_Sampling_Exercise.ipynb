{
  "nbformat": 4,
  "nbformat_minor": 0,
  "metadata": {
    "colab": {
      "name": "Copy of Copy of Python Programming: Stratified Sampling Exercise",
      "provenance": [],
      "collapsed_sections": [
        "c_l7pRnbX4Ws",
        "xIswFcWu4X-M"
      ],
      "include_colab_link": true
    },
    "kernelspec": {
      "name": "python3",
      "display_name": "Python 3"
    }
  },
  "cells": [
    {
      "cell_type": "markdown",
      "metadata": {
        "id": "view-in-github",
        "colab_type": "text"
      },
      "source": [
        "<a href=\"https://colab.research.google.com/github/hazrakeruboO/DS-Colabs/blob/main/Copy_of_Copy_of_Python_Programming_Stratified_Sampling_Exercise.ipynb\" target=\"_parent\"><img src=\"https://colab.research.google.com/assets/colab-badge.svg\" alt=\"Open In Colab\"/></a>"
      ]
    },
    {
      "cell_type": "markdown",
      "metadata": {
        "id": "xyMO0fjEat9e"
      },
      "source": [
        "<font color=\"green\">*To start working on this notebook, or any other notebook that we will use in the Moringa Data Science Course, we will need to save our own copy of it. We can do this by clicking File > Save a Copy in Drive. We will then be able to make edits to our own copy of this notebook.*</font>"
      ]
    },
    {
      "cell_type": "markdown",
      "metadata": {
        "id": "roBP_xMEBpqE"
      },
      "source": [
        "# Python Programming: Stratified Sampling Exercise"
      ]
    },
    {
      "cell_type": "markdown",
      "metadata": {
        "id": "c_l7pRnbX4Ws"
      },
      "source": [
        "## Example"
      ]
    },
    {
      "cell_type": "markdown",
      "metadata": {
        "id": "2g6eBvTuD1-M"
      },
      "source": [
        "We are going to use the example we looked at in the overview. Our dataset is comprised of different heights of Moringa School students. It has 10,000 entries whereby 60% are female and 40% are Male. We are going to perform stratified sampling on this population so that we can get a sample of 1000 students which has the same proportion as the population."
      ]
    },
    {
      "cell_type": "markdown",
      "metadata": {
        "id": "RM4m989jCC9m"
      },
      "source": [
        "**Import relevant Libraries**"
      ]
    },
    {
      "cell_type": "code",
      "metadata": {
        "id": "SqwTmeFQZqp7"
      },
      "source": [
        "import pandas as pd\n"
      ],
      "execution_count": null,
      "outputs": []
    },
    {
      "cell_type": "markdown",
      "metadata": {
        "id": "Z02bhgrMCQdc"
      },
      "source": [
        "**Load the Dataset**\n",
        "\n",
        "Here is the dataset we are going to use in this example.[Dataset Download](https://drive.google.com/file/d/1ODcSRSs_isRKCAShFwnMrXdcphed9kYn/view?usp=sharing)"
      ]
    },
    {
      "cell_type": "code",
      "metadata": {
        "id": "e61iXAYnaNqV",
        "colab": {
          "base_uri": "https://localhost:8080/",
          "height": 419
        },
        "outputId": "24fb777d-23c0-4890-9e13-4fe940d1b859"
      },
      "source": [
        "# Load the data into a panda dataframe\n",
        "data= pd.read_csv('Gender_heights.csv')\n",
        "\n",
        "# Check out the data\n",
        "data\n",
        "\n"
      ],
      "execution_count": null,
      "outputs": [
        {
          "output_type": "execute_result",
          "data": {
            "text/html": [
              "<div>\n",
              "<style scoped>\n",
              "    .dataframe tbody tr th:only-of-type {\n",
              "        vertical-align: middle;\n",
              "    }\n",
              "\n",
              "    .dataframe tbody tr th {\n",
              "        vertical-align: top;\n",
              "    }\n",
              "\n",
              "    .dataframe thead th {\n",
              "        text-align: right;\n",
              "    }\n",
              "</style>\n",
              "<table border=\"1\" class=\"dataframe\">\n",
              "  <thead>\n",
              "    <tr style=\"text-align: right;\">\n",
              "      <th></th>\n",
              "      <th>gender</th>\n",
              "      <th>ht</th>\n",
              "    </tr>\n",
              "  </thead>\n",
              "  <tbody>\n",
              "    <tr>\n",
              "      <th>0</th>\n",
              "      <td>F</td>\n",
              "      <td>55.398043</td>\n",
              "    </tr>\n",
              "    <tr>\n",
              "      <th>1</th>\n",
              "      <td>F</td>\n",
              "      <td>64.975468</td>\n",
              "    </tr>\n",
              "    <tr>\n",
              "      <th>2</th>\n",
              "      <td>F</td>\n",
              "      <td>70.591667</td>\n",
              "    </tr>\n",
              "    <tr>\n",
              "      <th>3</th>\n",
              "      <td>F</td>\n",
              "      <td>63.574479</td>\n",
              "    </tr>\n",
              "    <tr>\n",
              "      <th>4</th>\n",
              "      <td>F</td>\n",
              "      <td>62.535298</td>\n",
              "    </tr>\n",
              "    <tr>\n",
              "      <th>...</th>\n",
              "      <td>...</td>\n",
              "      <td>...</td>\n",
              "    </tr>\n",
              "    <tr>\n",
              "      <th>9995</th>\n",
              "      <td>M</td>\n",
              "      <td>91.485240</td>\n",
              "    </tr>\n",
              "    <tr>\n",
              "      <th>9996</th>\n",
              "      <td>M</td>\n",
              "      <td>94.842755</td>\n",
              "    </tr>\n",
              "    <tr>\n",
              "      <th>9997</th>\n",
              "      <td>M</td>\n",
              "      <td>98.096696</td>\n",
              "    </tr>\n",
              "    <tr>\n",
              "      <th>9998</th>\n",
              "      <td>M</td>\n",
              "      <td>91.478957</td>\n",
              "    </tr>\n",
              "    <tr>\n",
              "      <th>9999</th>\n",
              "      <td>M</td>\n",
              "      <td>88.849197</td>\n",
              "    </tr>\n",
              "  </tbody>\n",
              "</table>\n",
              "<p>10000 rows × 2 columns</p>\n",
              "</div>"
            ],
            "text/plain": [
              "     gender         ht\n",
              "0         F  55.398043\n",
              "1         F  64.975468\n",
              "2         F  70.591667\n",
              "3         F  63.574479\n",
              "4         F  62.535298\n",
              "...     ...        ...\n",
              "9995      M  91.485240\n",
              "9996      M  94.842755\n",
              "9997      M  98.096696\n",
              "9998      M  91.478957\n",
              "9999      M  88.849197\n",
              "\n",
              "[10000 rows x 2 columns]"
            ]
          },
          "metadata": {},
          "execution_count": 2
        }
      ]
    },
    {
      "cell_type": "code",
      "metadata": {
        "id": "9SDKk4eUGrx_",
        "colab": {
          "base_uri": "https://localhost:8080/"
        },
        "outputId": "67a5fde9-16ae-4aab-dbc9-247cd41e2794"
      },
      "source": [
        "# Now we will confirm how many Female students and Male students are there in our dataset.\n",
        "# To achieve this we will use pandas .value_count() method. This method outputs the number of times a value appears in a column.\n",
        "data['gender'].value_counts()"
      ],
      "execution_count": null,
      "outputs": [
        {
          "output_type": "execute_result",
          "data": {
            "text/plain": [
              "F    6000\n",
              "M    4000\n",
              "Name: gender, dtype: int64"
            ]
          },
          "metadata": {},
          "execution_count": 3
        }
      ]
    },
    {
      "cell_type": "markdown",
      "metadata": {
        "id": "_u_K93F9KrS-"
      },
      "source": [
        "Now that we have confirmed that our popluation follows the correct proportion, we are going to first create a random sample of 1000 students without stratification just to see how it behaves."
      ]
    },
    {
      "cell_type": "code",
      "metadata": {
        "id": "-tWJJwM7LJn6",
        "colab": {
          "base_uri": "https://localhost:8080/"
        },
        "outputId": "fb95ef2c-f807-415e-e4dc-f709888e7adb"
      },
      "source": [
        "# To create a random sample from a dataframe we use the pandas sample method. You can read more about it here.https://pandas.pydata.org/pandas-docs/stable/reference/api/pandas.DataFrame.sample.html\n",
        "# We pass in an argument called frac which symbolises the fraction of the population we want to use as our sample\n",
        "\n",
        "# Non stratified sample\n",
        "non_strat_output = data.sample(frac=0.1) \n",
        "\n",
        "# check the proportion of the non_stratified sample\n",
        "print(non_strat_output['gender'].value_counts())"
      ],
      "execution_count": null,
      "outputs": [
        {
          "output_type": "stream",
          "name": "stdout",
          "text": [
            "F    587\n",
            "M    413\n",
            "Name: gender, dtype: int64\n"
          ]
        }
      ]
    },
    {
      "cell_type": "markdown",
      "metadata": {
        "id": "9KY2PgCAUsa5"
      },
      "source": [
        "Run the code several times, taking note of the proportion of Female and Male. What do you notice?\n",
        "\n",
        "When you run it several time, you'll notice that the proportion varies each time. Although it ranges closely to our desired proportion, its not quite the 60-40 proportion we want. To remedy it, this is where stratified sampling comes in handy.\n",
        "\n",
        "Let's us create a stratified random sample and see how it behaves"
      ]
    },
    {
      "cell_type": "code",
      "metadata": {
        "id": "Mgxm7zGZWHj5",
        "cellView": "both",
        "colab": {
          "base_uri": "https://localhost:8080/"
        },
        "outputId": "759d9d99-4047-4f65-8132-408ebafefa5d"
      },
      "source": [
        "\n",
        "# To create a stratified random sample we'll use pandas groupBy method. Basically what the method does is that it splits our dataset into sets and then applies a function on each subset.\n",
        "# In our case, we are going to applies a function that puts each subset into a random sample with a size of 100. The beauty about this method is that it strictly maintains the populations proportion.\n",
        "\n",
        "# Stratified sample\n",
        "strat_output = data.groupby('gender', group_keys=False).apply(lambda grouped_subset : grouped_subset.sample(frac=0.1))\n",
        "\n",
        "# proportion of the non_stratified sample\n",
        "print(strat_output['gender'].value_counts())\n",
        "\n",
        "# Check the stratified output\n",
        "print(strat_output)\n",
        "\n",
        " "
      ],
      "execution_count": null,
      "outputs": [
        {
          "output_type": "stream",
          "name": "stdout",
          "text": [
            "F    600\n",
            "M    400\n",
            "Name: gender, dtype: int64\n",
            "     gender         ht\n",
            "5098      F  58.637239\n",
            "938       F  56.570113\n",
            "275       F  57.717873\n",
            "5476      F  61.726984\n",
            "865       F  57.610392\n",
            "...     ...        ...\n",
            "6754      M  89.242494\n",
            "7861      M  91.090547\n",
            "7882      M  87.282743\n",
            "7337      M  91.503430\n",
            "6330      M  98.671736\n",
            "\n",
            "[1000 rows x 2 columns]\n"
          ]
        }
      ]
    },
    {
      "cell_type": "markdown",
      "metadata": {
        "id": "xIswFcWu4X-M"
      },
      "source": [
        "## <font color=\"green\">Challenges</font>"
      ]
    },
    {
      "cell_type": "code",
      "metadata": {
        "id": "KKKNoN-pYBAa",
        "colab": {
          "base_uri": "https://localhost:8080/",
          "height": 419
        },
        "outputId": "1e83bdac-4eff-4f05-bf1d-2124adf5e207"
      },
      "source": [
        "# Challenge 1\n",
        "# ---\n",
        "# Question: Moringa school is doing an analysis on how the students perform based on the different programmes that they offer.\n",
        "# Given a dataset of 10000 students and you are told that 50% are Core students, 25% are Prep students and 25% are Pre-prep students. \n",
        "# Also in the dataset, 60% of the students are Female and the rest are Male. \n",
        "# You are tasked with creating a stratified random sample that represents that population.\n",
        "# ---\n",
        "# Dataset Source = https://drive.google.com/file/d/10THQj3iqund_D5tgypBdeKoc2FZ9pC0S/view?usp=sharing\n",
        "# ---\n",
        "# \n",
        "# Load the data into a panda dataframe\n",
        "moringa= pd.read_csv('Moringa_Students_heights.csv')\n",
        "\n",
        "# Check out the data\n",
        "moringa"
      ],
      "execution_count": null,
      "outputs": [
        {
          "output_type": "execute_result",
          "data": {
            "text/html": [
              "<div>\n",
              "<style scoped>\n",
              "    .dataframe tbody tr th:only-of-type {\n",
              "        vertical-align: middle;\n",
              "    }\n",
              "\n",
              "    .dataframe tbody tr th {\n",
              "        vertical-align: top;\n",
              "    }\n",
              "\n",
              "    .dataframe thead th {\n",
              "        text-align: right;\n",
              "    }\n",
              "</style>\n",
              "<table border=\"1\" class=\"dataframe\">\n",
              "  <thead>\n",
              "    <tr style=\"text-align: right;\">\n",
              "      <th></th>\n",
              "      <th>programme</th>\n",
              "      <th>gender</th>\n",
              "      <th>ht</th>\n",
              "    </tr>\n",
              "  </thead>\n",
              "  <tbody>\n",
              "    <tr>\n",
              "      <th>0</th>\n",
              "      <td>Prep</td>\n",
              "      <td>F</td>\n",
              "      <td>57.861539</td>\n",
              "    </tr>\n",
              "    <tr>\n",
              "      <th>1</th>\n",
              "      <td>Prep</td>\n",
              "      <td>F</td>\n",
              "      <td>65.550765</td>\n",
              "    </tr>\n",
              "    <tr>\n",
              "      <th>2</th>\n",
              "      <td>Core</td>\n",
              "      <td>F</td>\n",
              "      <td>52.142763</td>\n",
              "    </tr>\n",
              "    <tr>\n",
              "      <th>3</th>\n",
              "      <td>Pre-prep</td>\n",
              "      <td>F</td>\n",
              "      <td>69.453854</td>\n",
              "    </tr>\n",
              "    <tr>\n",
              "      <th>4</th>\n",
              "      <td>Pre-prep</td>\n",
              "      <td>F</td>\n",
              "      <td>54.203258</td>\n",
              "    </tr>\n",
              "    <tr>\n",
              "      <th>...</th>\n",
              "      <td>...</td>\n",
              "      <td>...</td>\n",
              "      <td>...</td>\n",
              "    </tr>\n",
              "    <tr>\n",
              "      <th>9995</th>\n",
              "      <td>Core</td>\n",
              "      <td>M</td>\n",
              "      <td>90.281974</td>\n",
              "    </tr>\n",
              "    <tr>\n",
              "      <th>9996</th>\n",
              "      <td>Core</td>\n",
              "      <td>M</td>\n",
              "      <td>90.728714</td>\n",
              "    </tr>\n",
              "    <tr>\n",
              "      <th>9997</th>\n",
              "      <td>Prep</td>\n",
              "      <td>M</td>\n",
              "      <td>82.649354</td>\n",
              "    </tr>\n",
              "    <tr>\n",
              "      <th>9998</th>\n",
              "      <td>Prep</td>\n",
              "      <td>M</td>\n",
              "      <td>95.900508</td>\n",
              "    </tr>\n",
              "    <tr>\n",
              "      <th>9999</th>\n",
              "      <td>Prep</td>\n",
              "      <td>M</td>\n",
              "      <td>90.160847</td>\n",
              "    </tr>\n",
              "  </tbody>\n",
              "</table>\n",
              "<p>10000 rows × 3 columns</p>\n",
              "</div>"
            ],
            "text/plain": [
              "     programme gender         ht\n",
              "0         Prep      F  57.861539\n",
              "1         Prep      F  65.550765\n",
              "2         Core      F  52.142763\n",
              "3     Pre-prep      F  69.453854\n",
              "4     Pre-prep      F  54.203258\n",
              "...        ...    ...        ...\n",
              "9995      Core      M  90.281974\n",
              "9996      Core      M  90.728714\n",
              "9997      Prep      M  82.649354\n",
              "9998      Prep      M  95.900508\n",
              "9999      Prep      M  90.160847\n",
              "\n",
              "[10000 rows x 3 columns]"
            ]
          },
          "metadata": {},
          "execution_count": 12
        }
      ]
    },
    {
      "cell_type": "code",
      "metadata": {
        "colab": {
          "base_uri": "https://localhost:8080/"
        },
        "id": "KlKCFrsYlySf",
        "outputId": "9e9f50f4-94f0-4491-af6a-a5d3ce4dcd76"
      },
      "source": [
        "data['gender'].value_counts()"
      ],
      "execution_count": null,
      "outputs": [
        {
          "output_type": "execute_result",
          "data": {
            "text/plain": [
              "F    6000\n",
              "M    4000\n",
              "Name: gender, dtype: int64"
            ]
          },
          "metadata": {},
          "execution_count": 13
        }
      ]
    },
    {
      "cell_type": "code",
      "metadata": {
        "colab": {
          "base_uri": "https://localhost:8080/"
        },
        "id": "LBXwsdVflyd6",
        "outputId": "34ee3a0d-7aae-4d64-ce78-a657ed857ce5"
      },
      "source": [
        " #Non stratified sample\n",
        "non_strat_output = moringa.sample(frac=0.1) \n",
        "\n",
        "# check the proportion of the non_stratified sample\n",
        "print(non_strat_output['gender'].value_counts())"
      ],
      "execution_count": null,
      "outputs": [
        {
          "output_type": "stream",
          "name": "stdout",
          "text": [
            "F    593\n",
            "M    407\n",
            "Name: gender, dtype: int64\n"
          ]
        }
      ]
    },
    {
      "cell_type": "code",
      "metadata": {
        "colab": {
          "base_uri": "https://localhost:8080/"
        },
        "id": "oVE1nmTelyoJ",
        "outputId": "92f9b419-0a42-4dda-fde2-13e4c1567ade"
      },
      "source": [
        " #Stratified sample\n",
        "strat_output = moringa.groupby('gender', group_keys=False).apply(lambda grouped_subset : grouped_subset.sample(frac=0.1))\n",
        "\n",
        "# proportion of the non_stratified sample\n",
        "print(strat_output['gender'].value_counts())\n",
        "\n",
        "# Check the stratified output\n",
        "print(strat_output)"
      ],
      "execution_count": null,
      "outputs": [
        {
          "output_type": "stream",
          "name": "stdout",
          "text": [
            "F    600\n",
            "M    400\n",
            "Name: gender, dtype: int64\n",
            "     programme gender         ht\n",
            "3180      Core      F  57.474138\n",
            "32        Core      F  58.129062\n",
            "5144  Pre-prep      F  63.009344\n",
            "5864  Pre-prep      F  68.343032\n",
            "4212      Prep      F  64.351148\n",
            "...        ...    ...        ...\n",
            "6137  Pre-prep      M  91.813046\n",
            "7186      Core      M  92.709957\n",
            "8626      Prep      M  84.408653\n",
            "6692  Pre-prep      M  86.681757\n",
            "8333      Prep      M  89.013772\n",
            "\n",
            "[1000 rows x 3 columns]\n"
          ]
        }
      ]
    },
    {
      "cell_type": "code",
      "metadata": {
        "id": "A3JYY6qkYOXt",
        "colab": {
          "base_uri": "https://localhost:8080/",
          "height": 453
        },
        "outputId": "8a9c9dc5-810f-4dd0-81ea-523fce48c170"
      },
      "source": [
        "# Challenge 2\n",
        "# ---\n",
        "# Question: A wine company would like to perform some analysis on a variety of new red wines. \n",
        "# Select a stratified sample based on wine quality from the given dataset.\n",
        "# ---\n",
        "# Dataset url = http://bit.ly/RedWinesDataset\n",
        "# ---\n",
        "# loading dataset\n",
        "wines = pd.read_csv('http://bit.ly/RedWinesDataset')\n",
        "wines"
      ],
      "execution_count": null,
      "outputs": [
        {
          "output_type": "execute_result",
          "data": {
            "text/html": [
              "<div>\n",
              "<style scoped>\n",
              "    .dataframe tbody tr th:only-of-type {\n",
              "        vertical-align: middle;\n",
              "    }\n",
              "\n",
              "    .dataframe tbody tr th {\n",
              "        vertical-align: top;\n",
              "    }\n",
              "\n",
              "    .dataframe thead th {\n",
              "        text-align: right;\n",
              "    }\n",
              "</style>\n",
              "<table border=\"1\" class=\"dataframe\">\n",
              "  <thead>\n",
              "    <tr style=\"text-align: right;\">\n",
              "      <th></th>\n",
              "      <th>fixed acidity</th>\n",
              "      <th>volatile acidity</th>\n",
              "      <th>citric acid</th>\n",
              "      <th>residual sugar</th>\n",
              "      <th>chlorides</th>\n",
              "      <th>free sulfur dioxide</th>\n",
              "      <th>total sulfur dioxide</th>\n",
              "      <th>density</th>\n",
              "      <th>pH</th>\n",
              "      <th>sulphates</th>\n",
              "      <th>alcohol</th>\n",
              "      <th>quality</th>\n",
              "    </tr>\n",
              "  </thead>\n",
              "  <tbody>\n",
              "    <tr>\n",
              "      <th>0</th>\n",
              "      <td>7.4</td>\n",
              "      <td>0.700</td>\n",
              "      <td>0.00</td>\n",
              "      <td>1.9</td>\n",
              "      <td>0.076</td>\n",
              "      <td>11.0</td>\n",
              "      <td>34.0</td>\n",
              "      <td>0.99780</td>\n",
              "      <td>3.51</td>\n",
              "      <td>0.56</td>\n",
              "      <td>9.4</td>\n",
              "      <td>5</td>\n",
              "    </tr>\n",
              "    <tr>\n",
              "      <th>1</th>\n",
              "      <td>7.8</td>\n",
              "      <td>0.880</td>\n",
              "      <td>0.00</td>\n",
              "      <td>2.6</td>\n",
              "      <td>0.098</td>\n",
              "      <td>25.0</td>\n",
              "      <td>67.0</td>\n",
              "      <td>0.99680</td>\n",
              "      <td>3.20</td>\n",
              "      <td>0.68</td>\n",
              "      <td>9.8</td>\n",
              "      <td>5</td>\n",
              "    </tr>\n",
              "    <tr>\n",
              "      <th>2</th>\n",
              "      <td>7.8</td>\n",
              "      <td>0.760</td>\n",
              "      <td>0.04</td>\n",
              "      <td>2.3</td>\n",
              "      <td>0.092</td>\n",
              "      <td>15.0</td>\n",
              "      <td>54.0</td>\n",
              "      <td>0.99700</td>\n",
              "      <td>3.26</td>\n",
              "      <td>0.65</td>\n",
              "      <td>9.8</td>\n",
              "      <td>5</td>\n",
              "    </tr>\n",
              "    <tr>\n",
              "      <th>3</th>\n",
              "      <td>11.2</td>\n",
              "      <td>0.280</td>\n",
              "      <td>0.56</td>\n",
              "      <td>1.9</td>\n",
              "      <td>0.075</td>\n",
              "      <td>17.0</td>\n",
              "      <td>60.0</td>\n",
              "      <td>0.99800</td>\n",
              "      <td>3.16</td>\n",
              "      <td>0.58</td>\n",
              "      <td>9.8</td>\n",
              "      <td>6</td>\n",
              "    </tr>\n",
              "    <tr>\n",
              "      <th>4</th>\n",
              "      <td>7.4</td>\n",
              "      <td>0.700</td>\n",
              "      <td>0.00</td>\n",
              "      <td>1.9</td>\n",
              "      <td>0.076</td>\n",
              "      <td>11.0</td>\n",
              "      <td>34.0</td>\n",
              "      <td>0.99780</td>\n",
              "      <td>3.51</td>\n",
              "      <td>0.56</td>\n",
              "      <td>9.4</td>\n",
              "      <td>5</td>\n",
              "    </tr>\n",
              "    <tr>\n",
              "      <th>...</th>\n",
              "      <td>...</td>\n",
              "      <td>...</td>\n",
              "      <td>...</td>\n",
              "      <td>...</td>\n",
              "      <td>...</td>\n",
              "      <td>...</td>\n",
              "      <td>...</td>\n",
              "      <td>...</td>\n",
              "      <td>...</td>\n",
              "      <td>...</td>\n",
              "      <td>...</td>\n",
              "      <td>...</td>\n",
              "    </tr>\n",
              "    <tr>\n",
              "      <th>1594</th>\n",
              "      <td>6.2</td>\n",
              "      <td>0.600</td>\n",
              "      <td>0.08</td>\n",
              "      <td>2.0</td>\n",
              "      <td>0.090</td>\n",
              "      <td>32.0</td>\n",
              "      <td>44.0</td>\n",
              "      <td>0.99490</td>\n",
              "      <td>3.45</td>\n",
              "      <td>0.58</td>\n",
              "      <td>10.5</td>\n",
              "      <td>5</td>\n",
              "    </tr>\n",
              "    <tr>\n",
              "      <th>1595</th>\n",
              "      <td>5.9</td>\n",
              "      <td>0.550</td>\n",
              "      <td>0.10</td>\n",
              "      <td>2.2</td>\n",
              "      <td>0.062</td>\n",
              "      <td>39.0</td>\n",
              "      <td>51.0</td>\n",
              "      <td>0.99512</td>\n",
              "      <td>3.52</td>\n",
              "      <td>0.76</td>\n",
              "      <td>11.2</td>\n",
              "      <td>6</td>\n",
              "    </tr>\n",
              "    <tr>\n",
              "      <th>1596</th>\n",
              "      <td>6.3</td>\n",
              "      <td>0.510</td>\n",
              "      <td>0.13</td>\n",
              "      <td>2.3</td>\n",
              "      <td>0.076</td>\n",
              "      <td>29.0</td>\n",
              "      <td>40.0</td>\n",
              "      <td>0.99574</td>\n",
              "      <td>3.42</td>\n",
              "      <td>0.75</td>\n",
              "      <td>11.0</td>\n",
              "      <td>6</td>\n",
              "    </tr>\n",
              "    <tr>\n",
              "      <th>1597</th>\n",
              "      <td>5.9</td>\n",
              "      <td>0.645</td>\n",
              "      <td>0.12</td>\n",
              "      <td>2.0</td>\n",
              "      <td>0.075</td>\n",
              "      <td>32.0</td>\n",
              "      <td>44.0</td>\n",
              "      <td>0.99547</td>\n",
              "      <td>3.57</td>\n",
              "      <td>0.71</td>\n",
              "      <td>10.2</td>\n",
              "      <td>5</td>\n",
              "    </tr>\n",
              "    <tr>\n",
              "      <th>1598</th>\n",
              "      <td>6.0</td>\n",
              "      <td>0.310</td>\n",
              "      <td>0.47</td>\n",
              "      <td>3.6</td>\n",
              "      <td>0.067</td>\n",
              "      <td>18.0</td>\n",
              "      <td>42.0</td>\n",
              "      <td>0.99549</td>\n",
              "      <td>3.39</td>\n",
              "      <td>0.66</td>\n",
              "      <td>11.0</td>\n",
              "      <td>6</td>\n",
              "    </tr>\n",
              "  </tbody>\n",
              "</table>\n",
              "<p>1599 rows × 12 columns</p>\n",
              "</div>"
            ],
            "text/plain": [
              "      fixed acidity  volatile acidity  citric acid  ...  sulphates  alcohol  quality\n",
              "0               7.4             0.700         0.00  ...       0.56      9.4        5\n",
              "1               7.8             0.880         0.00  ...       0.68      9.8        5\n",
              "2               7.8             0.760         0.04  ...       0.65      9.8        5\n",
              "3              11.2             0.280         0.56  ...       0.58      9.8        6\n",
              "4               7.4             0.700         0.00  ...       0.56      9.4        5\n",
              "...             ...               ...          ...  ...        ...      ...      ...\n",
              "1594            6.2             0.600         0.08  ...       0.58     10.5        5\n",
              "1595            5.9             0.550         0.10  ...       0.76     11.2        6\n",
              "1596            6.3             0.510         0.13  ...       0.75     11.0        6\n",
              "1597            5.9             0.645         0.12  ...       0.71     10.2        5\n",
              "1598            6.0             0.310         0.47  ...       0.66     11.0        6\n",
              "\n",
              "[1599 rows x 12 columns]"
            ]
          },
          "metadata": {},
          "execution_count": 26
        }
      ]
    },
    {
      "cell_type": "code",
      "metadata": {
        "colab": {
          "base_uri": "https://localhost:8080/"
        },
        "id": "QDN8JdS5rHu9",
        "outputId": "ba2fd9c4-832a-468e-8f50-ca980c5cfe79"
      },
      "source": [
        "wines['quality'].value_counts()"
      ],
      "execution_count": null,
      "outputs": [
        {
          "output_type": "execute_result",
          "data": {
            "text/plain": [
              "5    681\n",
              "6    638\n",
              "7    199\n",
              "4     53\n",
              "8     18\n",
              "3     10\n",
              "Name: quality, dtype: int64"
            ]
          },
          "metadata": {},
          "execution_count": 28
        }
      ]
    },
    {
      "cell_type": "code",
      "metadata": {
        "colab": {
          "base_uri": "https://localhost:8080/"
        },
        "id": "gDNqVEHlrH7z",
        "outputId": "8496b66d-df0f-4421-8d95-ecf7103e8ca0"
      },
      "source": [
        "# Non stratified sample\n",
        "non_strat_output = wines.sample(frac=0.1) \n",
        "\n",
        "# check the proportion of the non_stratified sample\n",
        "print(non_strat_output['quality'].value_counts())"
      ],
      "execution_count": null,
      "outputs": [
        {
          "output_type": "stream",
          "name": "stdout",
          "text": [
            "5    72\n",
            "6    57\n",
            "7    22\n",
            "4     8\n",
            "8     1\n",
            "Name: quality, dtype: int64\n"
          ]
        }
      ]
    },
    {
      "cell_type": "code",
      "metadata": {
        "colab": {
          "base_uri": "https://localhost:8080/"
        },
        "id": "rjw6fECxrIG2",
        "outputId": "158b6e5a-61b7-43cf-869d-b562327d7542"
      },
      "source": [
        " #Stratified sample\n",
        "strat_output = wines.groupby('quality', group_keys=False).apply(lambda grouped_subset : grouped_subset.sample(frac=0.1))\n",
        "\n",
        "# proportion of the non_stratified sample\n",
        "print(strat_output['quality'].value_counts())\n",
        "\n",
        "# Check the stratified output\n",
        "print(strat_output)"
      ],
      "execution_count": null,
      "outputs": [
        {
          "output_type": "stream",
          "name": "stdout",
          "text": [
            "5    68\n",
            "6    64\n",
            "7    20\n",
            "4     5\n",
            "8     2\n",
            "3     1\n",
            "Name: quality, dtype: int64\n",
            "      fixed acidity  volatile acidity  citric acid  ...  sulphates  alcohol  quality\n",
            "459            11.6             0.580         0.66  ...       0.57      9.0        3\n",
            "1461            6.2             0.785         0.00  ...       0.61     10.0        4\n",
            "830             7.5             0.685         0.07  ...       0.55     10.9        4\n",
            "600             8.2             0.915         0.27  ...       0.47     10.0        4\n",
            "872             7.3             0.350         0.24  ...       0.54     10.0        4\n",
            "...             ...               ...          ...  ...        ...      ...      ...\n",
            "1111            5.4             0.420         0.27  ...       0.64     12.3        7\n",
            "645             7.8             0.640         0.10  ...       0.69     10.1        7\n",
            "638             7.7             0.915         0.12  ...       0.65     10.2        7\n",
            "1449            7.2             0.380         0.31  ...       0.76     11.3        8\n",
            "495            10.7             0.350         0.53  ...       0.65     11.0        8\n",
            "\n",
            "[160 rows x 12 columns]\n"
          ]
        }
      ]
    },
    {
      "cell_type": "code",
      "metadata": {
        "id": "qY0aF-pJZzzs",
        "colab": {
          "base_uri": "https://localhost:8080/",
          "height": 231
        },
        "outputId": "bdcf0d58-7fb3-491a-f965-00d47bf05635"
      },
      "source": [
        "# Challenge 3\n",
        "# ---\n",
        "# Question: You have been provided with a list of employees of a certain company with some details about their gender (male/female) \n",
        "# and their type of employment (full-time/part-time). The HR team wants to conduct a survey on the working condition \n",
        "# that will be representative of the general opinion without interviewing every employee. \n",
        "# They request you conduct stratified sampling before any analysis is done. \n",
        "# ---\n",
        "# Dataset url = http://bit.ly/StratifiedEmployeeDataset\n",
        "# ---\n",
        "# Hint: Perform EDA first\n",
        "# ---\n",
        "#\n",
        "# Load the data into a panda dataframe\n",
        "emlpoyment= pd.read_xls('http://bit.ly/StratifiedEmployeeDataset.xlxs')\n",
        "\n",
        "# Check out the data\n",
        "employment"
      ],
      "execution_count": null,
      "outputs": [
        {
          "output_type": "error",
          "ename": "NameError",
          "evalue": "ignored",
          "traceback": [
            "\u001b[0;31m---------------------------------------------------------------------------\u001b[0m",
            "\u001b[0;31mNameError\u001b[0m                                 Traceback (most recent call last)",
            "\u001b[0;32m<ipython-input-1-670743dacf1d>\u001b[0m in \u001b[0;36m<module>\u001b[0;34m()\u001b[0m\n\u001b[1;32m     12\u001b[0m \u001b[0;31m#\u001b[0m\u001b[0;34m\u001b[0m\u001b[0;34m\u001b[0m\u001b[0;34m\u001b[0m\u001b[0m\n\u001b[1;32m     13\u001b[0m \u001b[0;31m# Load the data into a panda dataframe\u001b[0m\u001b[0;34m\u001b[0m\u001b[0;34m\u001b[0m\u001b[0;34m\u001b[0m\u001b[0m\n\u001b[0;32m---> 14\u001b[0;31m \u001b[0memlpoyment\u001b[0m\u001b[0;34m=\u001b[0m \u001b[0mpd\u001b[0m\u001b[0;34m.\u001b[0m\u001b[0mread_xls\u001b[0m\u001b[0;34m(\u001b[0m\u001b[0;34m'http://bit.ly/StratifiedEmployeeDataset.xlxs'\u001b[0m\u001b[0;34m)\u001b[0m\u001b[0;34m\u001b[0m\u001b[0;34m\u001b[0m\u001b[0m\n\u001b[0m\u001b[1;32m     15\u001b[0m \u001b[0;34m\u001b[0m\u001b[0m\n\u001b[1;32m     16\u001b[0m \u001b[0;31m# Check out the data\u001b[0m\u001b[0;34m\u001b[0m\u001b[0;34m\u001b[0m\u001b[0;34m\u001b[0m\u001b[0m\n",
            "\u001b[0;31mNameError\u001b[0m: name 'pd' is not defined"
          ]
        }
      ]
    }
  ]
}