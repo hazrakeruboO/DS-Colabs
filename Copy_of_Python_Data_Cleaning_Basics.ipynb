{
  "nbformat": 4,
  "nbformat_minor": 0,
  "metadata": {
    "colab": {
      "name": "Copy of Python Data Cleaning: Basics",
      "provenance": [],
      "collapsed_sections": [
        "sMVIZyM7NAWR",
        "-KXUxWLb3wKH",
        "2rizu8-L30Th",
        "cp-NTai_33x6",
        "QdrSkHEP35t5",
        "Zohn05Kl37a3"
      ],
      "toc_visible": true,
      "include_colab_link": true
    },
    "kernelspec": {
      "name": "python3",
      "display_name": "Python 3"
    }
  },
  "cells": [
    {
      "cell_type": "markdown",
      "metadata": {
        "id": "view-in-github",
        "colab_type": "text"
      },
      "source": [
        "<a href=\"https://colab.research.google.com/github/hazrakeruboO/DS-Colabs/blob/main/Copy_of_Python_Data_Cleaning_Basics.ipynb\" target=\"_parent\"><img src=\"https://colab.research.google.com/assets/colab-badge.svg\" alt=\"Open In Colab\"/></a>"
      ]
    },
    {
      "cell_type": "markdown",
      "metadata": {
        "id": "zERjtLoSL1js"
      },
      "source": [
        "<font color=\"green\">*To start working on this notebook, or any other notebook that we will use in the Moringa Data Science Course, we will need to save our own copy of it. We can do this by clicking File > Save a Copy in Drive. We will then be able to make edits to our own copy of this notebook.*</font>"
      ]
    },
    {
      "cell_type": "markdown",
      "metadata": {
        "id": "pZLONleTl2Ky"
      },
      "source": [
        "# Python Data Cleaning: Basics"
      ]
    },
    {
      "cell_type": "markdown",
      "metadata": {
        "id": "tMorzwEdMnhX"
      },
      "source": [
        "## Step 1: Finding and counting missing data\n",
        "\n",
        "\n",
        "\n"
      ]
    },
    {
      "cell_type": "markdown",
      "metadata": {
        "id": "zCgWU_ioNjBT"
      },
      "source": [
        "Having known how missing values in a dataset are created, we will now get introduced to how we can work with such a dataset. The first step that we will perform is to find the missing values and know how many they are. \n",
        "\n"
      ]
    },
    {
      "cell_type": "code",
      "metadata": {
        "id": "gpIzM0fdLA7b",
        "colab": {
          "base_uri": "https://localhost:8080/",
          "height": 497
        },
        "outputId": "95577b86-78eb-4629-b430-8971c40855a6"
      },
      "source": [
        "# We will first import our dataset that we will use for the examples. We will do this by first\n",
        "# Importing our pandas library \n",
        "import pandas as pd\n",
        "import numpy as np\n",
        "\n",
        "\n",
        "\n",
        "# then storing the url location of our dataset to the variable url\n",
        "url = 'http://bit.ly/TitanicDataset1'\n",
        "\n",
        "# We will read the dataset from above url and store the dataframe in the variable df\n",
        "df1= pd.read_csv(url)\n",
        "df1"
      ],
      "execution_count": null,
      "outputs": [
        {
          "output_type": "execute_result",
          "data": {
            "text/html": [
              "<div>\n",
              "<style scoped>\n",
              "    .dataframe tbody tr th:only-of-type {\n",
              "        vertical-align: middle;\n",
              "    }\n",
              "\n",
              "    .dataframe tbody tr th {\n",
              "        vertical-align: top;\n",
              "    }\n",
              "\n",
              "    .dataframe thead th {\n",
              "        text-align: right;\n",
              "    }\n",
              "</style>\n",
              "<table border=\"1\" class=\"dataframe\">\n",
              "  <thead>\n",
              "    <tr style=\"text-align: right;\">\n",
              "      <th></th>\n",
              "      <th>pclass</th>\n",
              "      <th>survived</th>\n",
              "      <th>name</th>\n",
              "      <th>sex</th>\n",
              "      <th>age</th>\n",
              "      <th>sibsp</th>\n",
              "      <th>parch</th>\n",
              "      <th>ticket</th>\n",
              "      <th>fare</th>\n",
              "      <th>cabin</th>\n",
              "      <th>embarked</th>\n",
              "      <th>boat</th>\n",
              "      <th>body</th>\n",
              "      <th>home.dest</th>\n",
              "    </tr>\n",
              "  </thead>\n",
              "  <tbody>\n",
              "    <tr>\n",
              "      <th>0</th>\n",
              "      <td>1.0</td>\n",
              "      <td>1.0</td>\n",
              "      <td>Allen, Miss. Elisabeth Walton</td>\n",
              "      <td>female</td>\n",
              "      <td>29.0000</td>\n",
              "      <td>0.0</td>\n",
              "      <td>0.0</td>\n",
              "      <td>24160</td>\n",
              "      <td>211.3375</td>\n",
              "      <td>B5</td>\n",
              "      <td>S</td>\n",
              "      <td>2</td>\n",
              "      <td>NaN</td>\n",
              "      <td>St Louis, MO</td>\n",
              "    </tr>\n",
              "    <tr>\n",
              "      <th>1</th>\n",
              "      <td>1.0</td>\n",
              "      <td>1.0</td>\n",
              "      <td>Allison, Master. Hudson Trevor</td>\n",
              "      <td>male</td>\n",
              "      <td>0.9167</td>\n",
              "      <td>1.0</td>\n",
              "      <td>2.0</td>\n",
              "      <td>113781</td>\n",
              "      <td>151.5500</td>\n",
              "      <td>C22 C26</td>\n",
              "      <td>S</td>\n",
              "      <td>11</td>\n",
              "      <td>NaN</td>\n",
              "      <td>Montreal, PQ / Chesterville, ON</td>\n",
              "    </tr>\n",
              "    <tr>\n",
              "      <th>2</th>\n",
              "      <td>1.0</td>\n",
              "      <td>0.0</td>\n",
              "      <td>Allison, Miss. Helen Loraine</td>\n",
              "      <td>female</td>\n",
              "      <td>2.0000</td>\n",
              "      <td>1.0</td>\n",
              "      <td>2.0</td>\n",
              "      <td>113781</td>\n",
              "      <td>151.5500</td>\n",
              "      <td>C22 C26</td>\n",
              "      <td>S</td>\n",
              "      <td>NaN</td>\n",
              "      <td>NaN</td>\n",
              "      <td>Montreal, PQ / Chesterville, ON</td>\n",
              "    </tr>\n",
              "    <tr>\n",
              "      <th>3</th>\n",
              "      <td>1.0</td>\n",
              "      <td>0.0</td>\n",
              "      <td>Allison, Mr. Hudson Joshua Creighton</td>\n",
              "      <td>male</td>\n",
              "      <td>30.0000</td>\n",
              "      <td>1.0</td>\n",
              "      <td>2.0</td>\n",
              "      <td>113781</td>\n",
              "      <td>151.5500</td>\n",
              "      <td>C22 C26</td>\n",
              "      <td>S</td>\n",
              "      <td>NaN</td>\n",
              "      <td>135.0</td>\n",
              "      <td>Montreal, PQ / Chesterville, ON</td>\n",
              "    </tr>\n",
              "    <tr>\n",
              "      <th>4</th>\n",
              "      <td>1.0</td>\n",
              "      <td>0.0</td>\n",
              "      <td>Allison, Mrs. Hudson J C (Bessie Waldo Daniels)</td>\n",
              "      <td>female</td>\n",
              "      <td>25.0000</td>\n",
              "      <td>1.0</td>\n",
              "      <td>2.0</td>\n",
              "      <td>113781</td>\n",
              "      <td>151.5500</td>\n",
              "      <td>C22 C26</td>\n",
              "      <td>S</td>\n",
              "      <td>NaN</td>\n",
              "      <td>NaN</td>\n",
              "      <td>Montreal, PQ / Chesterville, ON</td>\n",
              "    </tr>\n",
              "    <tr>\n",
              "      <th>...</th>\n",
              "      <td>...</td>\n",
              "      <td>...</td>\n",
              "      <td>...</td>\n",
              "      <td>...</td>\n",
              "      <td>...</td>\n",
              "      <td>...</td>\n",
              "      <td>...</td>\n",
              "      <td>...</td>\n",
              "      <td>...</td>\n",
              "      <td>...</td>\n",
              "      <td>...</td>\n",
              "      <td>...</td>\n",
              "      <td>...</td>\n",
              "      <td>...</td>\n",
              "    </tr>\n",
              "    <tr>\n",
              "      <th>1305</th>\n",
              "      <td>3.0</td>\n",
              "      <td>0.0</td>\n",
              "      <td>Zabour, Miss. Thamine</td>\n",
              "      <td>female</td>\n",
              "      <td>NaN</td>\n",
              "      <td>1.0</td>\n",
              "      <td>0.0</td>\n",
              "      <td>2665</td>\n",
              "      <td>14.4542</td>\n",
              "      <td>NaN</td>\n",
              "      <td>C</td>\n",
              "      <td>NaN</td>\n",
              "      <td>NaN</td>\n",
              "      <td>NaN</td>\n",
              "    </tr>\n",
              "    <tr>\n",
              "      <th>1306</th>\n",
              "      <td>3.0</td>\n",
              "      <td>0.0</td>\n",
              "      <td>Zakarian, Mr. Mapriededer</td>\n",
              "      <td>male</td>\n",
              "      <td>26.5000</td>\n",
              "      <td>0.0</td>\n",
              "      <td>0.0</td>\n",
              "      <td>2656</td>\n",
              "      <td>7.2250</td>\n",
              "      <td>NaN</td>\n",
              "      <td>C</td>\n",
              "      <td>NaN</td>\n",
              "      <td>304.0</td>\n",
              "      <td>NaN</td>\n",
              "    </tr>\n",
              "    <tr>\n",
              "      <th>1307</th>\n",
              "      <td>3.0</td>\n",
              "      <td>0.0</td>\n",
              "      <td>Zakarian, Mr. Ortin</td>\n",
              "      <td>male</td>\n",
              "      <td>27.0000</td>\n",
              "      <td>0.0</td>\n",
              "      <td>0.0</td>\n",
              "      <td>2670</td>\n",
              "      <td>7.2250</td>\n",
              "      <td>NaN</td>\n",
              "      <td>C</td>\n",
              "      <td>NaN</td>\n",
              "      <td>NaN</td>\n",
              "      <td>NaN</td>\n",
              "    </tr>\n",
              "    <tr>\n",
              "      <th>1308</th>\n",
              "      <td>3.0</td>\n",
              "      <td>0.0</td>\n",
              "      <td>Zimmerman, Mr. Leo</td>\n",
              "      <td>male</td>\n",
              "      <td>29.0000</td>\n",
              "      <td>0.0</td>\n",
              "      <td>0.0</td>\n",
              "      <td>315082</td>\n",
              "      <td>7.8750</td>\n",
              "      <td>NaN</td>\n",
              "      <td>S</td>\n",
              "      <td>NaN</td>\n",
              "      <td>NaN</td>\n",
              "      <td>NaN</td>\n",
              "    </tr>\n",
              "    <tr>\n",
              "      <th>1309</th>\n",
              "      <td>NaN</td>\n",
              "      <td>NaN</td>\n",
              "      <td>NaN</td>\n",
              "      <td>NaN</td>\n",
              "      <td>NaN</td>\n",
              "      <td>NaN</td>\n",
              "      <td>NaN</td>\n",
              "      <td>NaN</td>\n",
              "      <td>NaN</td>\n",
              "      <td>NaN</td>\n",
              "      <td>NaN</td>\n",
              "      <td>NaN</td>\n",
              "      <td>NaN</td>\n",
              "      <td>NaN</td>\n",
              "    </tr>\n",
              "  </tbody>\n",
              "</table>\n",
              "<p>1310 rows × 14 columns</p>\n",
              "</div>"
            ],
            "text/plain": [
              "      pclass  survived  ...   body                        home.dest\n",
              "0        1.0       1.0  ...    NaN                     St Louis, MO\n",
              "1        1.0       1.0  ...    NaN  Montreal, PQ / Chesterville, ON\n",
              "2        1.0       0.0  ...    NaN  Montreal, PQ / Chesterville, ON\n",
              "3        1.0       0.0  ...  135.0  Montreal, PQ / Chesterville, ON\n",
              "4        1.0       0.0  ...    NaN  Montreal, PQ / Chesterville, ON\n",
              "...      ...       ...  ...    ...                              ...\n",
              "1305     3.0       0.0  ...    NaN                              NaN\n",
              "1306     3.0       0.0  ...  304.0                              NaN\n",
              "1307     3.0       0.0  ...    NaN                              NaN\n",
              "1308     3.0       0.0  ...    NaN                              NaN\n",
              "1309     NaN       NaN  ...    NaN                              NaN\n",
              "\n",
              "[1310 rows x 14 columns]"
            ]
          },
          "metadata": {
            "tags": []
          },
          "execution_count": 13
        }
      ]
    },
    {
      "cell_type": "code",
      "metadata": {
        "id": "2z2oonHgg6gd",
        "colab": {
          "base_uri": "https://localhost:8080/",
          "height": 338
        },
        "outputId": "5c45dea3-c4d2-412f-8554-5fb080b3f1a7"
      },
      "source": [
        "# Challenge 1\n",
        "# In parallel to this, we will also be working with another dataset too. We will use it for practice.\n",
        "\n",
        "# Let's first store our url location just like we did above\n",
        "gov_dataset = 'http://bit.ly/GovProjectFinanceDataset1'\n",
        "\n",
        "# Then read the dataset from url and store it in our variable of choice\n",
        "# \n",
        "df = pd.read_csv(gov_dataset)\n",
        "df\n",
        "\n",
        "# And familiarize ourselves with the dataframe by viewing its first 5 rows\n",
        "# \n",
        "df.head(5)\n"
      ],
      "execution_count": null,
      "outputs": [
        {
          "output_type": "execute_result",
          "data": {
            "text/html": [
              "<div>\n",
              "<style scoped>\n",
              "    .dataframe tbody tr th:only-of-type {\n",
              "        vertical-align: middle;\n",
              "    }\n",
              "\n",
              "    .dataframe tbody tr th {\n",
              "        vertical-align: top;\n",
              "    }\n",
              "\n",
              "    .dataframe thead th {\n",
              "        text-align: right;\n",
              "    }\n",
              "</style>\n",
              "<table border=\"1\" class=\"dataframe\">\n",
              "  <thead>\n",
              "    <tr style=\"text-align: right;\">\n",
              "      <th></th>\n",
              "      <th>Implementing_Agency</th>\n",
              "      <th>Total_-_GOK_Budget_Est_KES</th>\n",
              "      <th>Total_-_Loan_Budget_Est_KES</th>\n",
              "      <th>Total_-_Grant_Budget_Est_KES</th>\n",
              "      <th>Total_Budget_Supported__by_Donors_KES</th>\n",
              "      <th>Total_2013/2014_Budget_KES</th>\n",
              "      <th>OBJECTID</th>\n",
              "    </tr>\n",
              "  </thead>\n",
              "  <tbody>\n",
              "    <tr>\n",
              "      <th>0</th>\n",
              "      <td>NaN</td>\n",
              "      <td>0.000000e+00</td>\n",
              "      <td>0</td>\n",
              "      <td>3524395000</td>\n",
              "      <td>3524395000</td>\n",
              "      <td>3524395000</td>\n",
              "      <td>0</td>\n",
              "    </tr>\n",
              "    <tr>\n",
              "      <th>1</th>\n",
              "      <td>MOEW&amp;NR  National Environment Management Auth...</td>\n",
              "      <td>0.000000e+00</td>\n",
              "      <td>0</td>\n",
              "      <td>300000000</td>\n",
              "      <td>300000000</td>\n",
              "      <td>300000000</td>\n",
              "      <td>1</td>\n",
              "    </tr>\n",
              "    <tr>\n",
              "      <th>2</th>\n",
              "      <td>Ministry of Agriculture, Livestock and Fisheries</td>\n",
              "      <td>2.306364e+09</td>\n",
              "      <td>23354779585</td>\n",
              "      <td>8732081258</td>\n",
              "      <td>32086860843</td>\n",
              "      <td>34393225231</td>\n",
              "      <td>2</td>\n",
              "    </tr>\n",
              "    <tr>\n",
              "      <th>3</th>\n",
              "      <td>The Presidency</td>\n",
              "      <td>NaN</td>\n",
              "      <td>0</td>\n",
              "      <td>0</td>\n",
              "      <td>0</td>\n",
              "      <td>0</td>\n",
              "      <td>3</td>\n",
              "    </tr>\n",
              "    <tr>\n",
              "      <th>4</th>\n",
              "      <td>MOAL&amp;F  Kenya  Plant Health Inspectorate Serv...</td>\n",
              "      <td>0.000000e+00</td>\n",
              "      <td>0</td>\n",
              "      <td>66916163</td>\n",
              "      <td>66916163</td>\n",
              "      <td>66916163</td>\n",
              "      <td>4</td>\n",
              "    </tr>\n",
              "  </tbody>\n",
              "</table>\n",
              "</div>"
            ],
            "text/plain": [
              "                                 Implementing_Agency  ...  OBJECTID\n",
              "0                                                NaN  ...         0\n",
              "1   MOEW&NR  National Environment Management Auth...  ...         1\n",
              "2   Ministry of Agriculture, Livestock and Fisheries  ...         2\n",
              "3                                     The Presidency  ...         3\n",
              "4   MOAL&F  Kenya  Plant Health Inspectorate Serv...  ...         4\n",
              "\n",
              "[5 rows x 7 columns]"
            ]
          },
          "metadata": {
            "tags": []
          },
          "execution_count": 12
        }
      ]
    },
    {
      "cell_type": "code",
      "metadata": {
        "id": "nHVATaZXNOO9",
        "colab": {
          "base_uri": "https://localhost:8080/"
        },
        "outputId": "ba5a64c0-6615-48c9-a1d6-9d6c2825ef6b"
      },
      "source": [
        "# We count the number of non - missing values in the df dataframe\n",
        "#\n",
        "df.count()"
      ],
      "execution_count": null,
      "outputs": [
        {
          "output_type": "execute_result",
          "data": {
            "text/plain": [
              "Implementing_Agency                      39\n",
              "Total_-_GOK_Budget_Est_KES               39\n",
              "Total_-_Loan_Budget_Est_KES              40\n",
              "Total_-_Grant_Budget_Est_KES             40\n",
              "Total_Budget_Supported__by_Donors_KES    40\n",
              "Total_2013/2014_Budget_KES               40\n",
              "OBJECTID                                 40\n",
              "dtype: int64"
            ]
          },
          "metadata": {
            "tags": []
          },
          "execution_count": 5
        }
      ]
    },
    {
      "cell_type": "code",
      "metadata": {
        "id": "RMfbpsNXhSkb",
        "colab": {
          "base_uri": "https://localhost:8080/"
        },
        "outputId": "31eea505-0817-4220-bdf4-181bd7a240f2"
      },
      "source": [
        "# Challenge 2: Government Project Dataset\n",
        "# We also count the number of non - missing values in the our government project dataset\n",
        "# \n",
        "df.count()"
      ],
      "execution_count": null,
      "outputs": [
        {
          "output_type": "execute_result",
          "data": {
            "text/plain": [
              "Implementing_Agency                      39\n",
              "Total_-_GOK_Budget_Est_KES               39\n",
              "Total_-_Loan_Budget_Est_KES              40\n",
              "Total_-_Grant_Budget_Est_KES             40\n",
              "Total_Budget_Supported__by_Donors_KES    40\n",
              "Total_2013/2014_Budget_KES               40\n",
              "OBJECTID                                 40\n",
              "dtype: int64"
            ]
          },
          "metadata": {
            "tags": []
          },
          "execution_count": 11
        }
      ]
    },
    {
      "cell_type": "code",
      "metadata": {
        "id": "wsXs2IHFNnNa",
        "colab": {
          "base_uri": "https://localhost:8080/"
        },
        "outputId": "ffe7856f-42d5-48b2-89bf-6bad70faa112"
      },
      "source": [
        "# A longer method can be to subtract the no. of non-missing rows from the total number \n",
        "# of rows in the dataframe in order to determine the no. of missing values as shown\n",
        "# \n",
        "num_rows = df.shape[0]\n",
        "num_missing = num_rows - df.count() \n",
        "num_missing"
      ],
      "execution_count": null,
      "outputs": [
        {
          "output_type": "execute_result",
          "data": {
            "text/plain": [
              "Implementing_Agency                      1\n",
              "Total_-_GOK_Budget_Est_KES               1\n",
              "Total_-_Loan_Budget_Est_KES              0\n",
              "Total_-_Grant_Budget_Est_KES             0\n",
              "Total_Budget_Supported__by_Donors_KES    0\n",
              "Total_2013/2014_Budget_KES               0\n",
              "OBJECTID                                 0\n",
              "dtype: int64"
            ]
          },
          "metadata": {
            "tags": []
          },
          "execution_count": 8
        }
      ]
    },
    {
      "cell_type": "code",
      "metadata": {
        "id": "9TLCUeubhiAF"
      },
      "source": [
        "# Challenge 3: Government Project Dataset\n",
        "# We now also subtract the no. of non-missing rows from the total number of rows \n",
        "# to determine the no. of missing values in our government project dataset\n",
        "#\n",
        "OUR CODE GOES HERE"
      ],
      "execution_count": null,
      "outputs": []
    },
    {
      "cell_type": "code",
      "metadata": {
        "id": "XbjpjZs2ONOU",
        "colab": {
          "base_uri": "https://localhost:8080/"
        },
        "outputId": "819612a4-8f51-496e-b478-41f3ba65cad2"
      },
      "source": [
        "# Another method would also be to count the number of missing values in our dataframe,  \n",
        "# using the count_nonzero function from numpy - and including the isnull() method.\n",
        "\n",
        "# But before we do that, we would need import numpy,\n",
        "# \n",
        "import numpy as np\n",
        "\n",
        "# Then count those missing values in our dataframe\n",
        "#\n",
        "np.count_nonzero(df.isnull())"
      ],
      "execution_count": null,
      "outputs": [
        {
          "output_type": "execute_result",
          "data": {
            "text/plain": [
              "2"
            ]
          },
          "metadata": {
            "tags": []
          },
          "execution_count": 9
        }
      ]
    },
    {
      "cell_type": "code",
      "metadata": {
        "id": "xVsRCHychzr2",
        "colab": {
          "base_uri": "https://localhost:8080/"
        },
        "outputId": "db5b3c6d-4c8a-47b5-f040-e0cafd248ac5"
      },
      "source": [
        "# Challenge 4: Government Project Dataset\n",
        "# Let's just do what we did in our previous cell. We found out the number of missing values \n",
        "# in our dataset using the count_nonzero function from numpy \n",
        "#\n",
        "import numpy as np\n",
        "import pandas as pd\n",
        "\n",
        "gov_dataset= 'http://bit.ly/GovProjectFinanceDataset1'\n",
        "\n",
        "df = pd.read_csv(gov_dataset)\n",
        "\n",
        "np.count_nonzero(df)"
      ],
      "execution_count": null,
      "outputs": [
        {
          "output_type": "execute_result",
          "data": {
            "text/plain": [
              "211"
            ]
          },
          "metadata": {
            "tags": []
          },
          "execution_count": 5
        }
      ]
    },
    {
      "cell_type": "code",
      "metadata": {
        "id": "mN8PrJR0Oqry",
        "colab": {
          "base_uri": "https://localhost:8080/",
          "height": 583
        },
        "outputId": "309f6eb0-4ebc-4437-ebfa-f5b5e3e46ac3"
      },
      "source": [
        "# We could also count the number of missing values for a particular column by specifying \n",
        "# the column by still using the count_nonzero function from numpy \n",
        "#\n",
        "import numpy as np\n",
        "import pandas as pd \n",
        "\n",
        "np.count_nonzero(df['body'].isnull())"
      ],
      "execution_count": null,
      "outputs": [
        {
          "output_type": "error",
          "ename": "KeyError",
          "evalue": "ignored",
          "traceback": [
            "\u001b[0;31m---------------------------------------------------------------------------\u001b[0m",
            "\u001b[0;31mKeyError\u001b[0m                                  Traceback (most recent call last)",
            "\u001b[0;32m/usr/local/lib/python3.7/dist-packages/pandas/core/indexes/base.py\u001b[0m in \u001b[0;36mget_loc\u001b[0;34m(self, key, method, tolerance)\u001b[0m\n\u001b[1;32m   2897\u001b[0m             \u001b[0;32mtry\u001b[0m\u001b[0;34m:\u001b[0m\u001b[0;34m\u001b[0m\u001b[0;34m\u001b[0m\u001b[0m\n\u001b[0;32m-> 2898\u001b[0;31m                 \u001b[0;32mreturn\u001b[0m \u001b[0mself\u001b[0m\u001b[0;34m.\u001b[0m\u001b[0m_engine\u001b[0m\u001b[0;34m.\u001b[0m\u001b[0mget_loc\u001b[0m\u001b[0;34m(\u001b[0m\u001b[0mcasted_key\u001b[0m\u001b[0;34m)\u001b[0m\u001b[0;34m\u001b[0m\u001b[0;34m\u001b[0m\u001b[0m\n\u001b[0m\u001b[1;32m   2899\u001b[0m             \u001b[0;32mexcept\u001b[0m \u001b[0mKeyError\u001b[0m \u001b[0;32mas\u001b[0m \u001b[0merr\u001b[0m\u001b[0;34m:\u001b[0m\u001b[0;34m\u001b[0m\u001b[0;34m\u001b[0m\u001b[0m\n",
            "\u001b[0;32mpandas/_libs/index.pyx\u001b[0m in \u001b[0;36mpandas._libs.index.IndexEngine.get_loc\u001b[0;34m()\u001b[0m\n",
            "\u001b[0;32mpandas/_libs/index.pyx\u001b[0m in \u001b[0;36mpandas._libs.index.IndexEngine.get_loc\u001b[0;34m()\u001b[0m\n",
            "\u001b[0;32mpandas/_libs/hashtable_class_helper.pxi\u001b[0m in \u001b[0;36mpandas._libs.hashtable.PyObjectHashTable.get_item\u001b[0;34m()\u001b[0m\n",
            "\u001b[0;32mpandas/_libs/hashtable_class_helper.pxi\u001b[0m in \u001b[0;36mpandas._libs.hashtable.PyObjectHashTable.get_item\u001b[0;34m()\u001b[0m\n",
            "\u001b[0;31mKeyError\u001b[0m: 'body'",
            "\nThe above exception was the direct cause of the following exception:\n",
            "\u001b[0;31mKeyError\u001b[0m                                  Traceback (most recent call last)",
            "\u001b[0;32m<ipython-input-6-a04abf707b87>\u001b[0m in \u001b[0;36m<module>\u001b[0;34m()\u001b[0m\n\u001b[1;32m      5\u001b[0m \u001b[0;32mimport\u001b[0m \u001b[0mpandas\u001b[0m \u001b[0;32mas\u001b[0m \u001b[0mpd\u001b[0m\u001b[0;34m\u001b[0m\u001b[0;34m\u001b[0m\u001b[0m\n\u001b[1;32m      6\u001b[0m \u001b[0;34m\u001b[0m\u001b[0m\n\u001b[0;32m----> 7\u001b[0;31m \u001b[0mnp\u001b[0m\u001b[0;34m.\u001b[0m\u001b[0mcount_nonzero\u001b[0m\u001b[0;34m(\u001b[0m\u001b[0mdf\u001b[0m\u001b[0;34m[\u001b[0m\u001b[0;34m'body'\u001b[0m\u001b[0;34m]\u001b[0m\u001b[0;34m.\u001b[0m\u001b[0misnull\u001b[0m\u001b[0;34m(\u001b[0m\u001b[0;34m)\u001b[0m\u001b[0;34m)\u001b[0m\u001b[0;34m\u001b[0m\u001b[0;34m\u001b[0m\u001b[0m\n\u001b[0m",
            "\u001b[0;32m/usr/local/lib/python3.7/dist-packages/pandas/core/frame.py\u001b[0m in \u001b[0;36m__getitem__\u001b[0;34m(self, key)\u001b[0m\n\u001b[1;32m   2904\u001b[0m             \u001b[0;32mif\u001b[0m \u001b[0mself\u001b[0m\u001b[0;34m.\u001b[0m\u001b[0mcolumns\u001b[0m\u001b[0;34m.\u001b[0m\u001b[0mnlevels\u001b[0m \u001b[0;34m>\u001b[0m \u001b[0;36m1\u001b[0m\u001b[0;34m:\u001b[0m\u001b[0;34m\u001b[0m\u001b[0;34m\u001b[0m\u001b[0m\n\u001b[1;32m   2905\u001b[0m                 \u001b[0;32mreturn\u001b[0m \u001b[0mself\u001b[0m\u001b[0;34m.\u001b[0m\u001b[0m_getitem_multilevel\u001b[0m\u001b[0;34m(\u001b[0m\u001b[0mkey\u001b[0m\u001b[0;34m)\u001b[0m\u001b[0;34m\u001b[0m\u001b[0;34m\u001b[0m\u001b[0m\n\u001b[0;32m-> 2906\u001b[0;31m             \u001b[0mindexer\u001b[0m \u001b[0;34m=\u001b[0m \u001b[0mself\u001b[0m\u001b[0;34m.\u001b[0m\u001b[0mcolumns\u001b[0m\u001b[0;34m.\u001b[0m\u001b[0mget_loc\u001b[0m\u001b[0;34m(\u001b[0m\u001b[0mkey\u001b[0m\u001b[0;34m)\u001b[0m\u001b[0;34m\u001b[0m\u001b[0;34m\u001b[0m\u001b[0m\n\u001b[0m\u001b[1;32m   2907\u001b[0m             \u001b[0;32mif\u001b[0m \u001b[0mis_integer\u001b[0m\u001b[0;34m(\u001b[0m\u001b[0mindexer\u001b[0m\u001b[0;34m)\u001b[0m\u001b[0;34m:\u001b[0m\u001b[0;34m\u001b[0m\u001b[0;34m\u001b[0m\u001b[0m\n\u001b[1;32m   2908\u001b[0m                 \u001b[0mindexer\u001b[0m \u001b[0;34m=\u001b[0m \u001b[0;34m[\u001b[0m\u001b[0mindexer\u001b[0m\u001b[0;34m]\u001b[0m\u001b[0;34m\u001b[0m\u001b[0;34m\u001b[0m\u001b[0m\n",
            "\u001b[0;32m/usr/local/lib/python3.7/dist-packages/pandas/core/indexes/base.py\u001b[0m in \u001b[0;36mget_loc\u001b[0;34m(self, key, method, tolerance)\u001b[0m\n\u001b[1;32m   2898\u001b[0m                 \u001b[0;32mreturn\u001b[0m \u001b[0mself\u001b[0m\u001b[0;34m.\u001b[0m\u001b[0m_engine\u001b[0m\u001b[0;34m.\u001b[0m\u001b[0mget_loc\u001b[0m\u001b[0;34m(\u001b[0m\u001b[0mcasted_key\u001b[0m\u001b[0;34m)\u001b[0m\u001b[0;34m\u001b[0m\u001b[0;34m\u001b[0m\u001b[0m\n\u001b[1;32m   2899\u001b[0m             \u001b[0;32mexcept\u001b[0m \u001b[0mKeyError\u001b[0m \u001b[0;32mas\u001b[0m \u001b[0merr\u001b[0m\u001b[0;34m:\u001b[0m\u001b[0;34m\u001b[0m\u001b[0;34m\u001b[0m\u001b[0m\n\u001b[0;32m-> 2900\u001b[0;31m                 \u001b[0;32mraise\u001b[0m \u001b[0mKeyError\u001b[0m\u001b[0;34m(\u001b[0m\u001b[0mkey\u001b[0m\u001b[0;34m)\u001b[0m \u001b[0;32mfrom\u001b[0m \u001b[0merr\u001b[0m\u001b[0;34m\u001b[0m\u001b[0;34m\u001b[0m\u001b[0m\n\u001b[0m\u001b[1;32m   2901\u001b[0m \u001b[0;34m\u001b[0m\u001b[0m\n\u001b[1;32m   2902\u001b[0m         \u001b[0;32mif\u001b[0m \u001b[0mtolerance\u001b[0m \u001b[0;32mis\u001b[0m \u001b[0;32mnot\u001b[0m \u001b[0;32mNone\u001b[0m\u001b[0;34m:\u001b[0m\u001b[0;34m\u001b[0m\u001b[0;34m\u001b[0m\u001b[0m\n",
            "\u001b[0;31mKeyError\u001b[0m: 'body'"
          ]
        }
      ]
    },
    {
      "cell_type": "code",
      "metadata": {
        "id": "5gKt_D3KiTfB",
        "colab": {
          "base_uri": "https://localhost:8080/"
        },
        "outputId": "78e4b6f9-f369-48db-af81-7427a78201e2"
      },
      "source": [
        "# Challenge 5: Government Project Dataset\n",
        "# And again specify how many non-missing values we have in the column: Total_-_GOK_Budget_Est_KES\t\n",
        "#\n",
        "import numpy as np\n",
        "import pandas as pd\n",
        "\n",
        "gov_dataset = 'http://bit.ly/GovProjectFinanceDataset1'\n",
        "df=pd.read_csv(gov_dataset)\n",
        "df\n",
        "np.count_nonzero(df['Total_-_GOK_Budget_Est_KES'])"
      ],
      "execution_count": null,
      "outputs": [
        {
          "output_type": "execute_result",
          "data": {
            "text/plain": [
              "30"
            ]
          },
          "metadata": {
            "tags": []
          },
          "execution_count": 11
        }
      ]
    },
    {
      "cell_type": "markdown",
      "metadata": {
        "id": "sMVIZyM7NAWR"
      },
      "source": [
        "## Step 2: Clean Missing Data"
      ]
    },
    {
      "cell_type": "markdown",
      "metadata": {
        "id": "bf4VF5tiPKfK"
      },
      "source": [
        "Now that we have been able to identify our missing values in our datasets, we can deal with them in the following ways."
      ]
    },
    {
      "cell_type": "markdown",
      "metadata": {
        "id": "-KXUxWLb3wKH"
      },
      "source": [
        "### a) We can recode/replace these values\n",
        "Here, we can do this by using the fillna method and recoding/replacing the missing values with another value or other values. In this example, we will recode the missing values to 0."
      ]
    },
    {
      "cell_type": "code",
      "metadata": {
        "id": "aY13KkxRPQdB",
        "colab": {
          "base_uri": "https://localhost:8080/",
          "height": 238
        },
        "outputId": "35eaca32-ae26-4cab-e3b7-de5714909811"
      },
      "source": [
        "# We can recode missing values with 0 by doing the following. \n",
        "# Do note that this will appear as 0.0 in your dataframe.\n",
        "# \n",
        "df_recode = df.fillna(0)\n",
        "\n",
        "# then preview the first 5 rows for the recoded dataframe\n",
        "#\n",
        "#OUR CODE GOES HERE"
      ],
      "execution_count": null,
      "outputs": [
        {
          "output_type": "error",
          "ename": "NameError",
          "evalue": "ignored",
          "traceback": [
            "\u001b[0;31m---------------------------------------------------------------------------\u001b[0m",
            "\u001b[0;31mNameError\u001b[0m                                 Traceback (most recent call last)",
            "\u001b[0;32m<ipython-input-2-d6253728f356>\u001b[0m in \u001b[0;36m<module>\u001b[0;34m()\u001b[0m\n\u001b[1;32m      2\u001b[0m \u001b[0;31m# Do note that this will appear as 0.0 in your dataframe.\u001b[0m\u001b[0;34m\u001b[0m\u001b[0;34m\u001b[0m\u001b[0;34m\u001b[0m\u001b[0m\n\u001b[1;32m      3\u001b[0m \u001b[0;31m#\u001b[0m\u001b[0;34m\u001b[0m\u001b[0;34m\u001b[0m\u001b[0;34m\u001b[0m\u001b[0m\n\u001b[0;32m----> 4\u001b[0;31m \u001b[0mdf_recode\u001b[0m \u001b[0;34m=\u001b[0m \u001b[0mdf\u001b[0m\u001b[0;34m.\u001b[0m\u001b[0mfillna\u001b[0m\u001b[0;34m(\u001b[0m\u001b[0;36m0\u001b[0m\u001b[0;34m)\u001b[0m\u001b[0;34m\u001b[0m\u001b[0;34m\u001b[0m\u001b[0m\n\u001b[0m\u001b[1;32m      5\u001b[0m \u001b[0;34m\u001b[0m\u001b[0m\n\u001b[1;32m      6\u001b[0m \u001b[0;31m# then preview the first 5 rows for the recoded dataframe\u001b[0m\u001b[0;34m\u001b[0m\u001b[0;34m\u001b[0m\u001b[0;34m\u001b[0m\u001b[0m\n",
            "\u001b[0;31mNameError\u001b[0m: name 'df' is not defined"
          ]
        }
      ]
    },
    {
      "cell_type": "code",
      "metadata": {
        "id": "B-N_zB18QrHx"
      },
      "source": [
        "# After recoding, let's check for non-missing values in the recoded dataframe\n",
        "#\n",
        "OUR CODE GOES HERE"
      ],
      "execution_count": null,
      "outputs": []
    },
    {
      "cell_type": "code",
      "metadata": {
        "id": "bGyp0dbhi1b-"
      },
      "source": [
        "# Challenge 6: Government Project Dataset\n",
        "# Nice! Let's now replace the missing values in our dataset with 0 again \n",
        "# just as in our previous example\n",
        "# \n",
        "OUR CODE GOES HERE"
      ],
      "execution_count": null,
      "outputs": []
    },
    {
      "cell_type": "markdown",
      "metadata": {
        "id": "QaPXaERdleI1"
      },
      "source": [
        "**Challenge 7:** Together with your peer now discuss the cases where you might use the above recoding technique."
      ]
    },
    {
      "cell_type": "markdown",
      "metadata": {
        "id": "2rizu8-L30Th"
      },
      "source": [
        "### b) We can fill forward missing values"
      ]
    },
    {
      "cell_type": "markdown",
      "metadata": {
        "id": "tHxr0SwnSXOX"
      },
      "source": [
        "When data is filled data forward, the last known value is used for the next missing value. The missing values are replaced with the last known/recorded value. Let's see how that works."
      ]
    },
    {
      "cell_type": "code",
      "metadata": {
        "id": "rkY5ZdmzTLeV"
      },
      "source": [
        "# First lets preview out df ,and note the missing data in the boat and body columns\n",
        "#\n",
        "OUR CODE GOES HERE"
      ],
      "execution_count": null,
      "outputs": []
    },
    {
      "cell_type": "code",
      "metadata": {
        "id": "MFpvJFFeSLwc"
      },
      "source": [
        "# And now let's fill forward\n",
        "#\n",
        "df_fill_forward = df.fillna(method='ffill')\n",
        "\n",
        "# Then preview our dataframe and try to understand it\n",
        "#\n",
        "OUR CODE GOES HERE \n",
        "\n",
        "# Did you notice what happens when the column begins with a missing value? \n",
        "# Discuss this with your peer"
      ],
      "execution_count": null,
      "outputs": []
    },
    {
      "cell_type": "code",
      "metadata": {
        "id": "KTFGrhLPjHTK"
      },
      "source": [
        "# Challenge 8: Government Project Dataset\n",
        "# Onto our other dataset, let's now fill forward the missing values and see what happens\n",
        "# \n",
        "OUR CODE GOES HER\n"
      ],
      "execution_count": null,
      "outputs": []
    },
    {
      "cell_type": "markdown",
      "metadata": {
        "id": "QhKnRkirk-13"
      },
      "source": [
        "**Challenge 9: **Together with your peer discuss the cases where you might use the above fill forward technique."
      ]
    },
    {
      "cell_type": "markdown",
      "metadata": {
        "id": "cp-NTai_33x6"
      },
      "source": [
        "### c) We can fill backward missing values"
      ]
    },
    {
      "cell_type": "markdown",
      "metadata": {
        "id": "9tCj_qF0UdK2"
      },
      "source": [
        "We can also do the opposite, and fill data backward our missing values. When doing this, the newest value replaces the missing data."
      ]
    },
    {
      "cell_type": "code",
      "metadata": {
        "id": "emdfItSJViLy",
        "colab": {
          "base_uri": "https://localhost:8080/"
        },
        "outputId": "4e50acb4-ce2d-4023-fb64-329ea79e937a"
      },
      "source": [
        "# Again first lets preview df (last 10 items), and note the missing data in the boat and body columns\n",
        "#\n",
        "print(df.tail(10))"
      ],
      "execution_count": null,
      "outputs": [
        {
          "output_type": "stream",
          "text": [
            "                                  Implementing_Agency  ...  OBJECTID\n",
            "30                                      The Judiciary  ...        30\n",
            "31     Ministry of Land Housing and Urban Development  ...        31\n",
            "32    Independent Electoral and Boundaries Commission  ...        32\n",
            "33   Ministry of Interior and Coordination of Nati...  ...        33\n",
            "34                    MOES&T  Egerton University (EU)  ...        34\n",
            "35   MOE&P  Kenya Electricity Generating Company L...  ...        35\n",
            "36                     State Department for Education  ...        36\n",
            "37                     Ministry of Energy & Petroleum  ...        37\n",
            "38                MOES&T  Karatina University College  ...        38\n",
            "39            MOR  Kenya Rural Roads Authority (KERA)  ...        39\n",
            "\n",
            "[10 rows x 7 columns]\n"
          ],
          "name": "stdout"
        }
      ]
    },
    {
      "cell_type": "code",
      "metadata": {
        "id": "t3lUQSTPUtna"
      },
      "source": [
        "# And now fill backward\n",
        "#\n",
        "df_fill_backward = df.fillna(method='bfill')\n",
        "\n",
        "# Then preview our dataframe (last 10 items) and try to understand what took place\n",
        "#\n",
        "print(df_fill_backward.tail(10))\n",
        "\n",
        "# After this, we will discuss what happens when a column ends with a missing value."
      ],
      "execution_count": null,
      "outputs": []
    },
    {
      "cell_type": "code",
      "metadata": {
        "id": "jf_uQkE-jUZB"
      },
      "source": [
        "# Challenge 10: Government Project Dataset\n",
        "# Back to our government dataset. We now fill backward the missing values \n",
        "# and try to understand the changes that took place\n",
        "# \n",
        "OUR CODE GOES HERE"
      ],
      "execution_count": null,
      "outputs": []
    },
    {
      "cell_type": "markdown",
      "metadata": {
        "id": "_PIG0u78lKe-"
      },
      "source": [
        "**Challenge 11: ** Together with your peer discuss the cases where you might use the above fill backward technique."
      ]
    },
    {
      "cell_type": "markdown",
      "metadata": {
        "id": "QdrSkHEP35t5"
      },
      "source": [
        "\n",
        "### d) We can interpolate missing values"
      ]
    },
    {
      "cell_type": "markdown",
      "metadata": {
        "id": "pVDrZtZSXewN"
      },
      "source": [
        "Interpolation uses other values to fill in the missing values. It does this by treating missing values as if they should be equally spaced apart. This function fills in the missing values linearly as shown in the example below."
      ]
    },
    {
      "cell_type": "code",
      "metadata": {
        "id": "J4TIJ5OxYKdj",
        "colab": {
          "base_uri": "https://localhost:8080/",
          "height": 203
        },
        "outputId": "d7aaae59-2b36-45fe-a5cc-0e83fd852d61"
      },
      "source": [
        "# Once again first lets print out df, and note the missing data in the boat and body columns\n",
        "# NB: iloc gets rows (or columns) at particular positions in the index\n",
        "#\n",
        "df.iloc[0:10, 11:13].head(10)"
      ],
      "execution_count": null,
      "outputs": [
        {
          "output_type": "error",
          "ename": "NameError",
          "evalue": "ignored",
          "traceback": [
            "\u001b[0;31m---------------------------------------------------------------------------\u001b[0m",
            "\u001b[0;31mNameError\u001b[0m                                 Traceback (most recent call last)",
            "\u001b[0;32m<ipython-input-1-c584d2088d81>\u001b[0m in \u001b[0;36m<module>\u001b[0;34m()\u001b[0m\n\u001b[1;32m      2\u001b[0m \u001b[0;31m# NB: iloc gets rows (or columns) at particular positions in the index\u001b[0m\u001b[0;34m\u001b[0m\u001b[0;34m\u001b[0m\u001b[0;34m\u001b[0m\u001b[0m\n\u001b[1;32m      3\u001b[0m \u001b[0;31m#\u001b[0m\u001b[0;34m\u001b[0m\u001b[0;34m\u001b[0m\u001b[0;34m\u001b[0m\u001b[0m\n\u001b[0;32m----> 4\u001b[0;31m \u001b[0mdf\u001b[0m\u001b[0;34m.\u001b[0m\u001b[0miloc\u001b[0m\u001b[0;34m[\u001b[0m\u001b[0;36m0\u001b[0m\u001b[0;34m:\u001b[0m\u001b[0;36m10\u001b[0m\u001b[0;34m,\u001b[0m \u001b[0;36m11\u001b[0m\u001b[0;34m:\u001b[0m\u001b[0;36m13\u001b[0m\u001b[0;34m]\u001b[0m\u001b[0;34m.\u001b[0m\u001b[0mhead\u001b[0m\u001b[0;34m(\u001b[0m\u001b[0;36m10\u001b[0m\u001b[0;34m)\u001b[0m\u001b[0;34m\u001b[0m\u001b[0;34m\u001b[0m\u001b[0m\n\u001b[0m",
            "\u001b[0;31mNameError\u001b[0m: name 'df' is not defined"
          ]
        }
      ]
    },
    {
      "cell_type": "code",
      "metadata": {
        "id": "g7Fti2xIXq1a"
      },
      "source": [
        "# Then perform our intepolation\n",
        "#\n",
        "df_interpolate = df.interpolate().iloc[0:10, 11:13];\n",
        "df_interpolate.head(10)"
      ],
      "execution_count": null,
      "outputs": []
    },
    {
      "cell_type": "code",
      "metadata": {
        "id": "8fESIpX-kRfF"
      },
      "source": [
        "# Challenge 12: Government Project Dataset\n",
        "# Intepolate the missing values in our dataset, noting the changes\n",
        "#\n",
        "OUR CODE GOES HERE"
      ],
      "execution_count": null,
      "outputs": []
    },
    {
      "cell_type": "markdown",
      "metadata": {
        "id": "7g7vkwiwlPNE"
      },
      "source": [
        "**Challenge 13: **Together with your peer discuss the cases where you might use the above interpolate technique."
      ]
    },
    {
      "cell_type": "markdown",
      "metadata": {
        "id": "Zohn05Kl37a3"
      },
      "source": [
        "### e) We can drop/delete missing values"
      ]
    },
    {
      "cell_type": "markdown",
      "metadata": {
        "id": "kiRRtN2NZxHm"
      },
      "source": [
        "The other way to work with missing data is to drop/delete the records with the missing data. This is a judgement that you have to make based on your research. Sometimes keeping the entire dataset together with the missing values, can leave you with a useless dataset. On the other hand, the missing data many not be random and dropping those missing values would leave you with a biased dataset or deleting the missing dataset might leave you with insufficient data for analysis. All of this we will learn more indepth during the course of the program. \n",
        "\n",
        "For now lets see how we can drop missing values from a dataset."
      ]
    },
    {
      "cell_type": "code",
      "metadata": {
        "id": "HvKBpbSVZq3X"
      },
      "source": [
        "# Let's find out the size of our dataset\n",
        "# \n",
        "df.shape"
      ],
      "execution_count": null,
      "outputs": []
    },
    {
      "cell_type": "code",
      "metadata": {
        "id": "TzPYCUtddJJn"
      },
      "source": [
        "# If we were to keep our complete rows; meaning we drop any record with a missing value, then\n",
        "#\n",
        "df_dropped = df.dropna()\n",
        "\n",
        "# We are left with no rows of data\n",
        "#\n",
        "df_dropped.shape"
      ],
      "execution_count": null,
      "outputs": []
    },
    {
      "cell_type": "code",
      "metadata": {
        "id": "AOZ80EPSdzGI"
      },
      "source": [
        "# Printing out df_dropped\n",
        "df_dropped"
      ],
      "execution_count": null,
      "outputs": []
    },
    {
      "cell_type": "code",
      "metadata": {
        "id": "zAazAAGHgFkP"
      },
      "source": [
        "# Challenge 14: Financial Allocation Dataset\n",
        "# Let's now drop the records that have missing values\n",
        "# url = http://bit.ly/MSFinancialDataset\n",
        "#\n",
        "OUR CODE GOES HERE"
      ],
      "execution_count": null,
      "outputs": []
    },
    {
      "cell_type": "markdown",
      "metadata": {
        "id": "h5AGA9relVMf"
      },
      "source": [
        "Challenge 15: Together with your peer discuss the cases where you might use the above drop/delete technique."
      ]
    }
  ]
}