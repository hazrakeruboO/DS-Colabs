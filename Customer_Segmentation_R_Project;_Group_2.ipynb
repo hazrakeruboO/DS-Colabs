{
  "cells": [
    {
      "cell_type": "markdown",
      "metadata": {
        "id": "view-in-github",
        "colab_type": "text"
      },
      "source": [
        "<a href=\"https://colab.research.google.com/github/hazrakeruboO/DS-Colabs/blob/main/Customer_Segmentation_R_Project%3B_Group_2.ipynb\" target=\"_parent\"><img src=\"https://colab.research.google.com/assets/colab-badge.svg\" alt=\"Open In Colab\"/></a>"
      ]
    },
    {
      "cell_type": "markdown",
      "metadata": {
        "id": "hm0u-38nmCye"
      },
      "source": [
        "#1. Problem Definition\n"
      ]
    },
    {
      "cell_type": "markdown",
      "metadata": {
        "id": "ayVNyGnzmOug"
      },
      "source": [
        "a) **Defining the Data Analytic Question** "
      ]
    },
    {
      "cell_type": "markdown",
      "metadata": {
        "id": "wjqbsAd9mpmE"
      },
      "source": [
        "* Difficulty in understanding how the various characteristics of the bank’s customers influence their chances of loan defaulting \n",
        "* Gap in understanding how the different characteristics of the customers relate and how the bank can mine information to streamline its marketing strategy to specific customer segments\n",
        "\n",
        "We shall, therefore, perform a K-means and Hierarchical clustering on a bank's customer data to draw insights on the characteristics of different customers"
      ]
    },
    {
      "cell_type": "markdown",
      "metadata": {
        "id": "Cam1PKTun8yj"
      },
      "source": [
        "b) **Metrics for Success**"
      ]
    },
    {
      "cell_type": "markdown",
      "metadata": {
        "id": "sRYZdA6qoDcz"
      },
      "source": [
        "This study shall be deemed successful if:\n",
        "\n",
        "\n",
        "*   EDA is properly performed on the data\n",
        "*   Relevant insights are drawn from data analysis\n",
        "*   Optimal clustering of customers based on their characteristics\n",
        "*   Comparisons of both K-Means and Hierarchical clustering on the dataset are well illustrated  \n",
        "\n",
        "\n",
        "\n",
        "\n"
      ]
    },
    {
      "cell_type": "markdown",
      "metadata": {
        "id": "uvZHCjyao5bZ"
      },
      "source": [
        "c) **Context**"
      ]
    },
    {
      "cell_type": "markdown",
      "metadata": {
        "id": "AkAMcBrypEqS"
      },
      "source": [
        "Customer Segmentation is the process of dividing the customer-base into several groups of individuals that share a similarity in different ways that are relevant to marketing such as gender, age, level of education, credit score, interests, and miscellaneous spending habits etc.Customer segmentation can help us divide a diverse market into a number of smaller, \n",
        "more homogeneous markets based on one or more meaningful characteristics. \n",
        "\n",
        "The importance of customer segmentation include:\n",
        "\n",
        "* Greater company focus - companies are able to understand its customer base/segments and as such be ware of what products or services to serve what segment of their customer base.\n",
        "* Targetted communication - with specified segments, companies can know and choose proper communication platforms and pass information relevant to each segment\n",
        "* satisfaction of customer preferences - given that segments have some differences among them, say income levels and age, companies can offer different product/service bundles and incentives to different segments. \n",
        "\n",
        "The study will be relevant in that, it will:\n",
        "- Help the bank relate the various customer characteristics, say level of income and age vs chances of default, and so understand where higher credit risks lie. \n",
        "- Help the bank to employ targetted communication to customer segments\n"
      ]
    },
    {
      "cell_type": "markdown",
      "metadata": {
        "id": "998UiNh9unzj"
      },
      "source": [
        "d) **Experimental Design**\n"
      ]
    },
    {
      "cell_type": "markdown",
      "metadata": {
        "id": "bnxvSaAau4tO"
      },
      "source": [
        "Steps followed are:\n",
        "- Business Understanding \n",
        "- Reading and previewing data\n",
        "- Data preprocessing \n",
        "- Modelling\n",
        "- Challenging the solution \n",
        "- Conclusion "
      ]
    },
    {
      "cell_type": "markdown",
      "metadata": {
        "id": "d61k797AvQOA"
      },
      "source": [
        "e) **Relevance of the data**"
      ]
    },
    {
      "cell_type": "markdown",
      "metadata": {
        "id": "9aw78IZ5vVDi"
      },
      "source": [
        "Dataset used in this study was sourced for Kaggle and compromise of bank customer information. These information include: customer age, level of education, years of experience, income, debts and income-debt ratios. The data has 850 observations and 10 features. It was deemed relevant in meeting the objectives of this study. "
      ]
    },
    {
      "cell_type": "markdown",
      "metadata": {
        "id": "K3T81zpswROJ"
      },
      "source": [
        "#2. Loading data"
      ]
    },
    {
      "cell_type": "code",
      "execution_count": null,
      "metadata": {
        "colab": {
          "base_uri": "https://localhost:8080/",
          "height": 33
        },
        "id": "TYYJjPNZwc4G",
        "outputId": "2d52fe0a-8d64-4676-e4e9-2c1db98d6dc5"
      },
      "outputs": [
        {
          "output_type": "display_data",
          "data": {
            "text/plain": [
              "[1] \"data.table\""
            ],
            "text/latex": "'data.table'",
            "text/markdown": "'data.table'",
            "text/html": [
              "'data.table'"
            ]
          },
          "metadata": {}
        }
      ],
      "source": [
        "suppressPackageStartupMessages('data.table')"
      ]
    },
    {
      "cell_type": "code",
      "execution_count": null,
      "metadata": {
        "colab": {
          "base_uri": "https://localhost:8080/"
        },
        "id": "A_BiFw0xwkF-",
        "outputId": "1943f109-07ad-4ec9-9ed9-849eb28e6101"
      },
      "outputs": [
        {
          "output_type": "stream",
          "name": "stderr",
          "text": [
            "\n",
            "Attaching package: ‘dplyr’\n",
            "\n",
            "\n",
            "The following objects are masked from ‘package:data.table’:\n",
            "\n",
            "    between, first, last\n",
            "\n",
            "\n",
            "The following objects are masked from ‘package:stats’:\n",
            "\n",
            "    filter, lag\n",
            "\n",
            "\n",
            "The following objects are masked from ‘package:base’:\n",
            "\n",
            "    intersect, setdiff, setequal, union\n",
            "\n",
            "\n",
            "Installing package into ‘/usr/local/lib/R/site-library’\n",
            "(as ‘lib’ is unspecified)\n",
            "\n",
            "also installing the dependencies ‘listenv’, ‘parallelly’, ‘future’, ‘globals’, ‘future.apply’, ‘progressr’, ‘numDeriv’, ‘SQUAREM’, ‘lava’, ‘prodlim’, ‘proxy’, ‘iterators’, ‘gower’, ‘hardhat’, ‘ipred’, ‘timeDate’, ‘e1071’, ‘foreach’, ‘ModelMetrics’, ‘plyr’, ‘pROC’, ‘recipes’, ‘reshape2’\n",
            "\n",
            "\n",
            "Loading required package: ggplot2\n",
            "\n",
            "Loading required package: lattice\n",
            "\n",
            "Warning message in system(\"timedatectl\", intern = TRUE):\n",
            "“running command 'timedatectl' had status 1”\n",
            "Installing package into ‘/usr/local/lib/R/site-library’\n",
            "(as ‘lib’ is unspecified)\n",
            "\n",
            "also installing the dependency ‘RcppArmadillo’\n",
            "\n",
            "\n"
          ]
        }
      ],
      "source": [
        "# Installaton and loading of relevant packages\n",
        "library(data.table)\n",
        "library(dplyr)\n",
        "install.packages('caret')\n",
        "library(caret)\n",
        "install.packages('Amelia')\n",
        "library(Amelia)\n",
        "#package for the multiple imputation of multivariate incomplete data\n",
        "install.packages(\"psych\")\n",
        "library(psych)\n",
        "install.packages(\"ggcorrplot\")\n",
        "library(ggcorrplot)\n",
        "install.packages(\"cluster\")\n",
        "library(cluster)\n"
      ]
    },
    {
      "cell_type": "code",
      "execution_count": null,
      "metadata": {
        "id": "55Ykgtz9yQgg"
      },
      "outputs": [],
      "source": [
        "#install.packages(\"factoextra\")\n",
        "#library(factoextra)"
      ]
    },
    {
      "cell_type": "code",
      "execution_count": null,
      "metadata": {
        "id": "hvHKsbZYR69_"
      },
      "outputs": [],
      "source": [
        "# Reading the data\n",
        "df <- fread('/content/Customer_Segmentation.csv')"
      ]
    },
    {
      "cell_type": "code",
      "execution_count": null,
      "metadata": {
        "id": "aHEnIkeiSRU6"
      },
      "outputs": [],
      "source": [
        "#review 4 rows\n",
        "head(df,4)\n",
        "#View(df)"
      ]
    },
    {
      "cell_type": "markdown",
      "metadata": {
        "id": "tPL2kDPry3Vj"
      },
      "source": [
        "#3) Checking the Data"
      ]
    },
    {
      "cell_type": "code",
      "execution_count": null,
      "metadata": {
        "id": "XKXwrhTky95J"
      },
      "outputs": [],
      "source": [
        "# Review bottom rows\n",
        "tail(df,5)"
      ]
    },
    {
      "cell_type": "code",
      "execution_count": null,
      "metadata": {
        "id": "GZVeY7-1zMk9"
      },
      "outputs": [],
      "source": [
        "# Check size of data\n",
        "\n",
        "dim(df)"
      ]
    },
    {
      "cell_type": "markdown",
      "metadata": {
        "id": "R5kKp66UzbQm"
      },
      "source": [
        "Data consists of 850 entries and 10 variables "
      ]
    },
    {
      "cell_type": "code",
      "execution_count": null,
      "metadata": {
        "id": "uSVBdIWPznG8"
      },
      "outputs": [],
      "source": [
        "# Viewing features in the dataset\n",
        "colnames(df)"
      ]
    },
    {
      "cell_type": "code",
      "execution_count": null,
      "metadata": {
        "id": "6fnc3uhIznDh"
      },
      "outputs": [],
      "source": [
        "# Checking the structure of the dataset\n",
        "#library(dplyr)\n",
        "glimpse(df)\n"
      ]
    },
    {
      "cell_type": "markdown",
      "metadata": {
        "id": "VWfBpY_E3omJ"
      },
      "source": [
        "Our data is in numeric (int, dbl) and character (chr) datatypes  "
      ]
    },
    {
      "cell_type": "code",
      "execution_count": null,
      "metadata": {
        "id": "Ax12Qhu53n4_"
      },
      "outputs": [],
      "source": [
        "#Checking for unique values in each column\n",
        "\n",
        "lapply(df, function(x){length(unique(x))})"
      ]
    },
    {
      "cell_type": "markdown",
      "metadata": {
        "id": "nhvwCOAh4mY3"
      },
      "source": [
        "# 4) Data Preparation"
      ]
    },
    {
      "cell_type": "markdown",
      "metadata": {
        "id": "FZJUuwl66ejn"
      },
      "source": [
        "**Uniformity**"
      ]
    },
    {
      "cell_type": "code",
      "execution_count": null,
      "metadata": {
        "id": "4PuC0-kXznAB"
      },
      "outputs": [],
      "source": [
        "# We convert categorical variables (education and defaulted) to factors\n",
        "df$Edu = factor(df$Edu)\n",
        "df$Defaulted = factor(df$Defaulted)"
      ]
    },
    {
      "cell_type": "code",
      "execution_count": null,
      "metadata": {
        "id": "jnqxLvwwzm8d"
      },
      "outputs": [],
      "source": [
        "#checking the new structure of the dataset\n",
        "print(str(df))"
      ]
    },
    {
      "cell_type": "code",
      "execution_count": null,
      "metadata": {
        "id": "R3IF22VR8Qxr"
      },
      "outputs": [],
      "source": [
        "#Viewing the statistical summary of the data\n",
        "print(summary(df))"
      ]
    },
    {
      "cell_type": "markdown",
      "metadata": {
        "id": "D-tbyWfiBQvW"
      },
      "source": [
        "There are null values (under Defaulted variable) in the dataset and shall be dealt with.\n",
        "\n"
      ]
    },
    {
      "cell_type": "markdown",
      "metadata": {
        "id": "_hF7woT8CQYk"
      },
      "source": [
        "##Completeness"
      ]
    },
    {
      "cell_type": "code",
      "execution_count": null,
      "metadata": {
        "id": "8IzOoeqf8Qtg"
      },
      "outputs": [],
      "source": [
        "#checking if there are missing values in the data\n",
        "anyNA(df)"
      ]
    },
    {
      "cell_type": "code",
      "execution_count": null,
      "metadata": {
        "id": "Z3_xZmtA8Qos"
      },
      "outputs": [],
      "source": [
        "#checking which columns have missing values\n",
        "print(colSums(is.na(df)))"
      ]
    },
    {
      "cell_type": "markdown",
      "metadata": {
        "id": "oOR_H1flCppx"
      },
      "source": [
        "There are 150 missing values under the feature 'Defaulted'."
      ]
    },
    {
      "cell_type": "code",
      "execution_count": null,
      "metadata": {
        "id": "wnibBc7Rz29p"
      },
      "outputs": [],
      "source": [
        "# Calculating the percentage of missing values \n",
        "data.frame(colMeans(is.na(df)))*100"
      ]
    },
    {
      "cell_type": "markdown",
      "metadata": {
        "id": "sFXb7nxfz8iY"
      },
      "source": [
        "The 150 missing values constitute about 17.6% of the dataset. To avoid any information loss from our relatively small dataset, we shall forward fill the missing values"
      ]
    },
    {
      "cell_type": "code",
      "execution_count": null,
      "metadata": {
        "id": "EqNQzEkG1qbg"
      },
      "outputs": [],
      "source": [
        "#visualizing missing data - uses the library(Amelia)\n",
        "\n",
        "missmap(df)"
      ]
    },
    {
      "cell_type": "markdown",
      "metadata": {
        "id": "LUZq6KLt2Ddo"
      },
      "source": [
        "Shows there are some missng values"
      ]
    },
    {
      "cell_type": "code",
      "execution_count": null,
      "metadata": {
        "id": "95WKhMEVx3Um"
      },
      "outputs": [],
      "source": [
        "# To forward fill missing values. The library(tidyr) is needed.\n",
        "library(tidyr)\n",
        "df_1 <- df %>% fill(Defaulted)"
      ]
    },
    {
      "cell_type": "code",
      "execution_count": null,
      "metadata": {
        "id": "DvX035_uzA3h"
      },
      "outputs": [],
      "source": [
        "# Check if missing values are availbale \n",
        "sum(is.na(df_1))"
      ]
    },
    {
      "cell_type": "markdown",
      "metadata": {
        "id": "_4rIFKM11-n4"
      },
      "source": [
        "No missing values"
      ]
    },
    {
      "cell_type": "code",
      "execution_count": null,
      "metadata": {
        "id": "8fCjZpYmEbW-"
      },
      "outputs": [],
      "source": [
        "#Confirm that no missing values with a missmap\n",
        "\n",
        "missmap(df_1)"
      ]
    },
    {
      "cell_type": "markdown",
      "metadata": {
        "id": "ADxkmSvCzduB"
      },
      "source": [
        "From the missmap, it is confirmed that there are no missing values left in the dataset"
      ]
    },
    {
      "cell_type": "code",
      "execution_count": null,
      "metadata": {
        "id": "v-himZiSBGl6"
      },
      "outputs": [],
      "source": [
        "# View our new dataset without NAs\n",
        "head(df_1, 10)"
      ]
    },
    {
      "cell_type": "code",
      "execution_count": null,
      "metadata": {
        "id": "X9ZPei1HBGd4"
      },
      "outputs": [],
      "source": [
        "# New data size\n",
        "dim(df_1)"
      ]
    },
    {
      "cell_type": "markdown",
      "metadata": {
        "id": "22EnOK1FDrEW"
      },
      "source": [
        "We have 850 entries and 10 columns. All information in the dataset is retained"
      ]
    },
    {
      "cell_type": "markdown",
      "metadata": {
        "id": "19kRnipxFISs"
      },
      "source": [
        "Dataset is now free of missing values. "
      ]
    },
    {
      "cell_type": "markdown",
      "metadata": {
        "id": "wiL4xy5RFdYB"
      },
      "source": [
        "## Consistency"
      ]
    },
    {
      "cell_type": "code",
      "execution_count": null,
      "metadata": {
        "id": "EBMVf_B2Du_0"
      },
      "outputs": [],
      "source": [
        "# Checking for duplicate values\n",
        "duplicated <- df_1[duplicated(df_1), ]\n",
        "duplicated"
      ]
    },
    {
      "cell_type": "markdown",
      "metadata": {
        "id": "OQgJe5R9F1Qp"
      },
      "source": [
        "There are no duplicated values in the dataset"
      ]
    },
    {
      "cell_type": "markdown",
      "metadata": {
        "id": "Iolzssc3GD22"
      },
      "source": [
        "# Outliers"
      ]
    },
    {
      "cell_type": "code",
      "execution_count": null,
      "metadata": {
        "id": "HC_lSxyEDu8d"
      },
      "outputs": [],
      "source": [
        "#checking for outliers\n",
        "\n",
        "#plotting boxplots for all the numerical variables\n",
        "\n",
        "#par(mfrow=c(1,1))   \n",
        "#The par() function allows to set parameters to the plot. \n",
        "#The mfrow() parameter allows to split the screen in several panels. Subsequent charts will be drawn in panels.\n",
        "\n",
        "boxplot((df_1$Age), horizontal = TRUE, col = 'red', main = \"Boxplot of Age\")\n",
        "\n",
        "boxplot((df_1$`Years Employed`), horizontal = TRUE, col = 'red', main = \"Boxplot of Years Employed\")\n",
        "\n",
        "boxplot((df_1$Income), horizontal = TRUE, col = 'cyan', main = \"Boxplot of Income\")\n",
        "\n",
        "boxplot((df_1$`Card Debt`), horizontal = TRUE, col = 'purple', main = \"Boxplot of Card Debt\")\n",
        "\n",
        "boxplot((df_1$`Other Debt`), horizontal = TRUE, col = 'violet', main = \"Boxplot of Other Debt\")\n",
        "\n",
        "boxplot((df_1$DebtIncomeRatio), horizontal = TRUE, col = 'red', main = \"Boxplot of Debt-Income Ratio\")\n"
      ]
    },
    {
      "cell_type": "markdown",
      "metadata": {
        "id": "sGlw7mS_IO1o"
      },
      "source": [
        "Observations \n",
        "* For the income, there a single outlier which is above 400\n",
        "* For the card credit card, there is one outlier above 20\n",
        "* Under other debt, there are 3 outliers which are above 20\n",
        "* Debt-Income ratio variable has 1 outlier which is above 40\n",
        "* Age variable has no outliers\n",
        "* There are 2 outliers under years of experience "
      ]
    },
    {
      "cell_type": "markdown",
      "metadata": {
        "id": "aoqD92JNMHre"
      },
      "source": [
        "#5. Univariate Analysis"
      ]
    },
    {
      "cell_type": "code",
      "execution_count": null,
      "metadata": {
        "id": "kAgHq4NTDu4c"
      },
      "outputs": [],
      "source": [
        "#obtaining the statistical properties of the variables - uses the #library(psych)\n",
        "describe(df_1)"
      ]
    },
    {
      "cell_type": "code",
      "execution_count": null,
      "metadata": {
        "id": "uJ_ckD-gDu01"
      },
      "outputs": [],
      "source": [
        "# obtaining the statistical summary of the data\n",
        "summary(df_1)"
      ]
    },
    {
      "cell_type": "markdown",
      "metadata": {
        "id": "Vly2nNEZM8uV"
      },
      "source": [
        "#Histograms"
      ]
    },
    {
      "cell_type": "code",
      "execution_count": null,
      "metadata": {
        "id": "LImH29lVDuuE"
      },
      "outputs": [],
      "source": [
        "#plotting multiple histograms of the numerical variables\n",
        "# par(mfrow=c(2,2))\n",
        "\n",
        "#histogram of Income\n",
        "hist((df_1$Income), col = 'cyan', main = \"Histogram of Income\")\n",
        "\n",
        "#histogram of Age\n",
        "hist((df_1$Age), col = 'purple', main = \"Histogram of Age\")\n",
        "\n",
        "#histogram of Card Debt\n",
        "hist((df_1$`Card Debt`), col = 'violet', main = \"Histogram of Card Debt\")\n",
        "\n",
        "#histogram of Other Debt\n",
        "hist((df_1$`Other Debt`), col = 'lightblue', main = \"Histogram of Other Debt\")\n",
        "\n",
        "#histogram of Defaulted\n",
        "hist((df_1$`Years Employed`), col = 'blue', main = \"Histogram of Years Employed\")\n",
        "\n",
        "#histogram of Defaulted\n",
        "hist((df_1$DebtIncomeRatio), col = 'red', main = \"Histogram of DebtIncomeRatio\")"
      ]
    },
    {
      "cell_type": "markdown",
      "metadata": {
        "id": "D2RUHOA_PMmF"
      },
      "source": [
        "Observations:\n",
        "* All the variables seem to be positively skewed except for Age which seems to have a gaussian distribution. "
      ]
    },
    {
      "cell_type": "markdown",
      "metadata": {
        "id": "mrPunmGMPvG_"
      },
      "source": [
        "# Bar Charts"
      ]
    },
    {
      "cell_type": "code",
      "execution_count": null,
      "metadata": {
        "id": "uJ6sqaTpMCY8"
      },
      "outputs": [],
      "source": [
        "# We will plot bar charts for factor features i.e Edu and Defaulted \n",
        "\n",
        "Education_level <-df_1$Edu                            #fetching education level\n",
        "Education_level_frequency<- table(Education_level)    #creating a frequency table\n",
        "\n",
        "default <-df_1$Defaulted                            #fetching default status\n",
        "default_frequency<- table(default)                   #creating a frequency table\n",
        "\n",
        "# Plotting bar charts using the frequency tables \n",
        "\n",
        "#par(mfrow=c(2,2))\n",
        "barplot((Education_level_frequency), col = \"gold\", main = \"Bar chart of Education Level\")\n",
        "\n",
        "#par(mfrow=c(2,2))\n",
        "barplot((default_frequency), col = \"red\", main = \"Bar chart of Default\")"
      ]
    },
    {
      "cell_type": "markdown",
      "metadata": {
        "id": "I7EL8MkzSgr2"
      },
      "source": [
        "Observations:\n",
        "* Most customers have not attained the highest level of education\n",
        "* Most of the customers pay their debts (0 - not defaulters)"
      ]
    },
    {
      "cell_type": "markdown",
      "metadata": {
        "id": "3A0nBN6HUEbt"
      },
      "source": [
        "#6. Bivariate Analysis"
      ]
    },
    {
      "cell_type": "markdown",
      "metadata": {
        "id": "52V9QibVVIWX"
      },
      "source": [
        "###**Correlation**"
      ]
    },
    {
      "cell_type": "code",
      "execution_count": null,
      "metadata": {
        "id": "8rdj05hDZ4C5"
      },
      "outputs": [],
      "source": [
        "install.packages('corrplot')\n",
        "library(corrplot)"
      ]
    },
    {
      "cell_type": "code",
      "execution_count": null,
      "metadata": {
        "id": "Odt6uREgtwt4"
      },
      "outputs": [],
      "source": [
        "head(df_1)"
      ]
    },
    {
      "cell_type": "code",
      "execution_count": null,
      "metadata": {
        "id": "QA_c2QyG47lC"
      },
      "outputs": [],
      "source": [
        "#creating a dataframe of all the numerical columns\n",
        "age<- df_1$Age\n",
        "experience<- df_1$`Years Employed`\n",
        "income <- df_1$Income\n",
        "carddebt <- df_1$`Card Debt`\n",
        "otherdebt <- df_1$`Other Debt`\n",
        "debtratio <- df_1$DebtIncomeRatio"
      ]
    },
    {
      "cell_type": "code",
      "execution_count": null,
      "metadata": {
        "id": "P-7ucTAM5pL5"
      },
      "outputs": [],
      "source": [
        "numerical <- data.frame(age, experience, income, carddebt, otherdebt, debtratio)\n",
        "head(numerical)"
      ]
    },
    {
      "cell_type": "code",
      "execution_count": null,
      "metadata": {
        "id": "nCRLWiyP5pHW"
      },
      "outputs": [],
      "source": [
        "#calculating a correlation matrix of the dataframe created \n",
        "\n",
        "corr <- round(cor(numerical), 1) #numerical matrix to 1 decimal point\n",
        "head(corr[, 1:6])  #previewing the matrix"
      ]
    },
    {
      "cell_type": "markdown",
      "metadata": {
        "id": "5r-jIyILNGeM"
      },
      "source": [
        "Observation:\n",
        "* Age has a positive correlation with all variables except for debtincome ratio which has zero correlation\n",
        "* There is no correlation between debtincome ratio and income, experience and age\n",
        "* There is a positive correlation between income and age, experience and debt (credit and other debt)"
      ]
    },
    {
      "cell_type": "code",
      "execution_count": null,
      "metadata": {
        "id": "0GqNuc9A6p4t"
      },
      "outputs": [],
      "source": [
        "#correlation matrix\n",
        "install.packages('ggcorrplot')\n",
        "library(ggcorrplot)\n",
        "ggcorrplot(corr, method = \"circle\")"
      ]
    },
    {
      "cell_type": "markdown",
      "metadata": {
        "id": "ZFK0Wn6JO_PU"
      },
      "source": [
        "The brighter the color, the higher the level of correlation between variables"
      ]
    },
    {
      "cell_type": "code",
      "execution_count": null,
      "metadata": {
        "id": "w1uoU-DFMx1G"
      },
      "outputs": [],
      "source": [
        "corrmatrix <- cor(df_1[,4:7])\n",
        "corrplot(corrmatrix, method = 'number')"
      ]
    },
    {
      "cell_type": "markdown",
      "metadata": {
        "id": "86oGY1f-dm41"
      },
      "source": [
        "###**Boxplots**"
      ]
    },
    {
      "cell_type": "code",
      "execution_count": null,
      "metadata": {
        "id": "wTLW4npFMxx1"
      },
      "outputs": [],
      "source": [
        "#Finding out how do all the variables relate with debt defaulting\n",
        "\n",
        "#plotting boxplots to show how the Default relates with the income\n",
        "ggplot(data = df_1, mapping = aes(x = Income, y = Defaulted, fill = Income)) + \n",
        "  geom_boxplot()"
      ]
    },
    {
      "cell_type": "code",
      "execution_count": null,
      "metadata": {
        "id": "a7UDL87-Mxu7"
      },
      "outputs": [],
      "source": [
        "#plotting boxplots to show how the Default relates with the Age\n",
        "ggplot(data = df_1, mapping = aes(x = Age, y = Defaulted, fill = Age)) + \n",
        "  geom_boxplot()"
      ]
    },
    {
      "cell_type": "code",
      "execution_count": null,
      "metadata": {
        "id": "CMEjbo9pMxr_"
      },
      "outputs": [],
      "source": [
        "#plotting boxplots to show how the Default relates with the Credit Debt\n",
        "ggplot(data = df_1, mapping = aes(x = carddebt, y = Defaulted, fill = carddebt)) + \n",
        "  geom_boxplot()"
      ]
    },
    {
      "cell_type": "code",
      "execution_count": null,
      "metadata": {
        "id": "eQttZKbBMxn5"
      },
      "outputs": [],
      "source": [
        "#plotting boxplots to show how the Default relates with the Other debt\n",
        "ggplot(data = df_1, mapping = aes(x = otherdebt, y = Defaulted, fill = otherdebt)) + \n",
        "  geom_boxplot()"
      ]
    },
    {
      "cell_type": "code",
      "execution_count": null,
      "metadata": {
        "id": "efq45kaXMxjm"
      },
      "outputs": [],
      "source": [
        "#plotting boxplots to show how the Default relates with the debt-income ratio\n",
        "ggplot(data = df_1, mapping = aes(x = debtratio, y = Defaulted, fill = debtratio)) + \n",
        "  geom_boxplot()"
      ]
    },
    {
      "cell_type": "code",
      "execution_count": null,
      "metadata": {
        "id": "cztYyf2gMxgj"
      },
      "outputs": [],
      "source": [
        "#plotting boxplots to show how the Default relates with the debt-income ratio\n",
        "ggplot(data = df_1, mapping = aes(x = experience, y = Defaulted, fill = experience)) + \n",
        "  geom_boxplot()"
      ]
    },
    {
      "cell_type": "markdown",
      "metadata": {
        "id": "lMruP7Hr9lVv"
      },
      "source": [
        "###**Barplot**"
      ]
    },
    {
      "cell_type": "code",
      "execution_count": null,
      "metadata": {
        "id": "ybCj9ZmC3OjM"
      },
      "outputs": [],
      "source": [
        "library(ggplot2)\n",
        "install.packages('plotly')\n",
        "library(plotly)"
      ]
    },
    {
      "cell_type": "code",
      "execution_count": null,
      "metadata": {
        "id": "oy0tkLiOMxdr"
      },
      "outputs": [],
      "source": [
        "#barplot showing how different age groups earn\n",
        "ggplot(data = df_1)+\n",
        "  geom_bar(mapping = aes(x = Age, fill = Income, position = \"dodge\"))"
      ]
    },
    {
      "cell_type": "code",
      "execution_count": null,
      "metadata": {
        "id": "2EqJbdauaJHZ"
      },
      "outputs": [],
      "source": [
        "#barplot showing how income relate with debtincome ratio\n",
        "ggplot(data = df_1) + \n",
        "  geom_bar(mapping = aes(x = df_1$Income, fill = df_1$DebtIncomeRatio,position = \"dodge\"))"
      ]
    },
    {
      "cell_type": "code",
      "execution_count": null,
      "metadata": {
        "id": "j4koM8NEaJEG"
      },
      "outputs": [],
      "source": [
        "#barplot showing how age relate with card debt\n",
        "ggplot(data = df_1) + \n",
        "  geom_bar(mapping = aes(x = df_1$Age, fill = df_1$`Card Debt`,position = \"dodge\"))"
      ]
    },
    {
      "cell_type": "markdown",
      "metadata": {
        "id": "RbUV--JrAMBA"
      },
      "source": [
        "###**Scatter Plots**\n",
        "\n"
      ]
    },
    {
      "cell_type": "code",
      "execution_count": null,
      "metadata": {
        "id": "ui40a2hHaJAu"
      },
      "outputs": [],
      "source": [
        "#scatter plots to assess the linear relationships of the numerical variables\n",
        "\n",
        "#scatter plot of Income and the card debt \n",
        "ggplot(data = df_1) + \n",
        "  geom_point(mapping = aes (x = df_1$Income, y = df_1$`Card Debt`, color = Income)) "
      ]
    },
    {
      "cell_type": "markdown",
      "metadata": {
        "id": "vDA5bKw0SgyJ"
      },
      "source": [
        "Observation:\n",
        "Customers with lower income have more card debt as compared to customers with higher income"
      ]
    },
    {
      "cell_type": "code",
      "execution_count": null,
      "metadata": {
        "id": "LrvxPZX5aI84"
      },
      "outputs": [],
      "source": [
        "#scatter plot of Income and the other debt \n",
        "ggplot(data = df_1) + \n",
        "  geom_point(mapping = aes (x = income, y = otherdebt, color = Income)) "
      ]
    },
    {
      "cell_type": "markdown",
      "metadata": {
        "id": "ueS6jXNgTBJ9"
      },
      "source": [
        "Observation:\n",
        "Customers with lower income have more 'other debt' as compared to customers with higher income"
      ]
    },
    {
      "cell_type": "code",
      "execution_count": null,
      "metadata": {
        "id": "ZTBLY9gtARW-"
      },
      "outputs": [],
      "source": [
        "#scatter plot of Income and the age \n",
        "ggplot(data = df_1) + \n",
        "  geom_point(mapping = aes (x = age, y = income , color = age)) "
      ]
    },
    {
      "cell_type": "markdown",
      "metadata": {
        "id": "BYA5aPDbTKtZ"
      },
      "source": [
        "Observation:\n",
        "\n",
        "Age and income have a positive relationship. Customers above 40 years of age earn more than those below 40 years"
      ]
    },
    {
      "cell_type": "code",
      "execution_count": null,
      "metadata": {
        "id": "ohasJ_LCARSQ"
      },
      "outputs": [],
      "source": [
        "#scatter plot of Income and the experience\n",
        "ggplot(data = df_1) + \n",
        "  geom_point(mapping = aes (x = experience, y = income , color = experience)) "
      ]
    },
    {
      "cell_type": "markdown",
      "metadata": {
        "id": "vGflYCV3UOFZ"
      },
      "source": [
        "Experience and income have a positive relationship. Customers with more than 20 years of experience earn more than those below 20 years of experience"
      ]
    },
    {
      "cell_type": "code",
      "execution_count": null,
      "metadata": {
        "id": "PkUHfp_YARNf"
      },
      "outputs": [],
      "source": [
        "#scatter plot of Income and debt income ratio \n",
        "ggplot(data = df_1) + \n",
        "  geom_point(mapping = aes (x = income, y = debtratio , color = income)) "
      ]
    },
    {
      "cell_type": "markdown",
      "metadata": {
        "id": "69hMOuDZUnLr"
      },
      "source": [
        "Low income customers tend to have a higher debt income ration as compared to those with higher income"
      ]
    },
    {
      "cell_type": "code",
      "execution_count": null,
      "metadata": {
        "id": "vN6cNV5UARID"
      },
      "outputs": [],
      "source": [
        "#scatter plot of age and the debt income \n",
        "ggplot(data = df_1) + \n",
        "  geom_point(mapping = aes (x = age, y = debtratio , color = debtratio)) "
      ]
    },
    {
      "cell_type": "markdown",
      "metadata": {
        "id": "R2g8VW5PU5Dl"
      },
      "source": [
        "Customers between 20-39 years of age have a higher debt income ratio compared to those above 40 years of age"
      ]
    },
    {
      "cell_type": "code",
      "execution_count": null,
      "metadata": {
        "id": "YhTsyCUXAREZ"
      },
      "outputs": [],
      "source": [
        "#scatter plot of Income and the experience on these pages\n",
        "ggplot(data = df_1) + \n",
        "  geom_point(mapping = aes (x = age, y = otherdebt , color = age)) "
      ]
    },
    {
      "cell_type": "markdown",
      "metadata": {
        "id": "t6y-tkwHVXRN"
      },
      "source": [
        "Customers between 20-39 years of age have a higher 'other debt' compared to those above 40 years of age"
      ]
    },
    {
      "cell_type": "code",
      "execution_count": null,
      "metadata": {
        "id": "2gxnPwWiARAE"
      },
      "outputs": [],
      "source": [
        "install.packages('GGally')\n",
        "library(GGally)"
      ]
    },
    {
      "cell_type": "code",
      "execution_count": null,
      "metadata": {
        "id": "R7afaZjXCC8j"
      },
      "outputs": [],
      "source": [
        "# scatter plots of all the numerical variables\n",
        "#ggpairs(df_1, columns = c(2,7), ggplot2::aes(colour=Income)) "
      ]
    },
    {
      "cell_type": "markdown",
      "metadata": {
        "id": "ek_MWaMbV7PY"
      },
      "source": [
        "#7.Implementing the Solution"
      ]
    },
    {
      "cell_type": "markdown",
      "metadata": {
        "id": "GkWY-ns2D021"
      },
      "source": [
        "###Data Pre-processing"
      ]
    },
    {
      "cell_type": "code",
      "execution_count": null,
      "metadata": {
        "id": "I98X59OCCC1m"
      },
      "outputs": [],
      "source": [
        "install.packages('plyr')\n",
        "library(plyr)\n",
        "library(dplyr)\n",
        "library(caret)"
      ]
    },
    {
      "cell_type": "code",
      "execution_count": null,
      "metadata": {
        "id": "WUFFL5RAMxYP"
      },
      "outputs": [],
      "source": [
        "#Converting factor variables to ordinal features\n",
        "\n",
        "# View the order of Edu Variable\n",
        "print(table(df_1$Edu))"
      ]
    },
    {
      "cell_type": "code",
      "execution_count": null,
      "metadata": {
        "id": "AfgNRR7kE4rv"
      },
      "outputs": [],
      "source": [
        "#checking the levels in Edu variable\n",
        "df_1$Edu <- factor(df_1$Edu, order= TRUE, levels = c(1,2,3,4,5))\n",
        "df_1$Edu "
      ]
    },
    {
      "cell_type": "code",
      "execution_count": null,
      "metadata": {
        "id": "OYcgksy8EliB"
      },
      "outputs": [],
      "source": [
        "# View the order of Defaulted Variable\n",
        "print(table(df_1$Defaulted))"
      ]
    },
    {
      "cell_type": "code",
      "execution_count": null,
      "metadata": {
        "id": "L-N_VbZqFaMo"
      },
      "outputs": [],
      "source": [
        "#checking the levels in Defaulted variable\n",
        "df_1$Defaulted <- factor(df_1$Defaulted, order= TRUE, levels = c(0,1))\n",
        "df_1$Defaulted "
      ]
    },
    {
      "cell_type": "code",
      "execution_count": null,
      "metadata": {
        "id": "l-FSdfMkFze9"
      },
      "outputs": [],
      "source": [
        "unique(df_1$Address)"
      ]
    },
    {
      "cell_type": "code",
      "execution_count": null,
      "metadata": {
        "id": "Xau2LWrLFzUF"
      },
      "outputs": [],
      "source": [
        "#encoding character variable address\n",
        "df_1$Address <- factor(df_1$Address, order = TRUE, levels =c('NBA001','NBA021','NBA013',\n",
        "'NBA009','NBA008','NBA011','NBA010','NBA000','NBA004','NBA005','NBA022','NBA018',\n",
        "'NBA002','NBA006','NBA007','NBA003','NBA026','NBA016','NBA019','NBA020','NBA012','NBA014','NBA015',\n",
        "'NBA017','NBA023','NBA025','NBA027','NBA031','NBA024','NBA034','NBA029'))\n",
        "\n",
        "df_1$Address_Numeric <-mapvalues(df_1$Address, from = c('NBA001','NBA021','NBA013',\n",
        "'NBA009','NBA008','NBA011','NBA010','NBA000','NBA004','NBA005','NBA022','NBA018',\n",
        "'NBA002','NBA006','NBA007','NBA003','NBA026','NBA016','NBA019','NBA020','NBA012','NBA014','NBA015',\n",
        "'NBA017','NBA023','NBA025','NBA027','NBA031','NBA024','NBA034','NBA029'), to = c(001,021,013,009,008,011,010,000,004,005,022,018,002,006,007,\n",
        "003,026,016,019,020,012,014,015,017,023,025,027,031,024,034,029))"
      ]
    },
    {
      "cell_type": "code",
      "execution_count": null,
      "metadata": {
        "id": "sjPzpvk2FzIV"
      },
      "outputs": [],
      "source": [
        "#normalizing numerical variables\n",
        "#function to normalize\n",
        "normalize <- function(x) {\n",
        "  return ((x - min(x)) / (max(x) - min(x)))\n",
        "}\n",
        "\n",
        "# subjecting the function to the variables\n",
        "df_1$Income <- normalize(df_1$Income)\n",
        "df_1$`Card Debt` <- normalize(df_1$`Card Debt`)\n",
        "df_1$Age <- normalize(df_1$Age)\n",
        "df_1$`Other Debt` <- normalize(df_1$`Other Debt`)\n",
        "df_1$`Years Employed` <- normalize(df_1$`Years Employed`)\n",
        "df_1$DebtIncomeRatio <- normalize(df_1$DebtIncomeRatio)"
      ]
    },
    {
      "cell_type": "code",
      "execution_count": null,
      "metadata": {
        "id": "AN1_tMwHFzEC"
      },
      "outputs": [],
      "source": [
        "#viewing the structure of the encoded variables\n",
        "str(df_1)"
      ]
    },
    {
      "cell_type": "code",
      "execution_count": null,
      "metadata": {
        "id": "Ur7bquZkLr6a"
      },
      "outputs": [],
      "source": [
        "# Remove the address and customer id columns; to retain address numeric instead.\n",
        "\n",
        "df_1$`Customer Id`<- NULL\n",
        "df_1$Address <- NULL"
      ]
    },
    {
      "cell_type": "code",
      "execution_count": null,
      "metadata": {
        "id": "akLC5V9GLrsC"
      },
      "outputs": [],
      "source": [
        "# Rename columns\n",
        "names(df_1)[names(df_1)== 'Edu'] <- \"Education_Level\"\n",
        "names(df_1)[names(df_1)== 'Years Employed'] <- \"Years_Employed\"\n",
        "names(df_1)[names(df_1)== 'Card Debt'] <- \"Card_Debt\"\n",
        "names(df_1)[names(df_1)== 'Other Debt'] <- \"Other_Debt\"\n",
        "names(df_1)[names(df_1)== 'Debt_Income_Ratio'] <- \"Debt_Income_Ratio\""
      ]
    },
    {
      "cell_type": "code",
      "execution_count": null,
      "metadata": {
        "id": "5fHAWMALOh-4"
      },
      "outputs": [],
      "source": [
        "# Print column names after adjustments\n",
        "print(colnames(df_1))"
      ]
    },
    {
      "cell_type": "code",
      "execution_count": null,
      "metadata": {
        "id": "A32HL6peEf-l"
      },
      "outputs": [],
      "source": [
        "df2 <- df_1 %>% relocate(where(is.factor), .after = last_col())"
      ]
    },
    {
      "cell_type": "code",
      "execution_count": null,
      "metadata": {
        "id": "wgeRbztx698b"
      },
      "outputs": [],
      "source": [
        "head(df2,4)"
      ]
    },
    {
      "cell_type": "markdown",
      "metadata": {
        "id": "1N1TdgfrOmqx"
      },
      "source": [
        "#K-Means Clustering"
      ]
    },
    {
      "cell_type": "markdown",
      "metadata": {
        "id": "KzaCsqpLxHVg"
      },
      "source": [
        "K-means clustering is machine learning algorithm used for partitioning observations into a set of k clusters, where k is pre-specified. k-means is a clustering algorithm that tries to classify observations into mutually exclusive groups (or clusters), such that observations within the same cluster are as similar as possible (high intra-class similarity), whereas observations from different clusters are as dissimilar as possible (low inter-class similarity). In k-means clustering, each cluster is represented by its center (i.e, centroid) which corresponds to the mean of the observation values assigned to the cluster"
      ]
    },
    {
      "cell_type": "markdown",
      "metadata": {
        "id": "MPR72RROxM6O"
      },
      "source": [
        "##Base Model"
      ]
    },
    {
      "cell_type": "code",
      "execution_count": null,
      "metadata": {
        "id": "tA-h4GVoYA74"
      },
      "outputs": [],
      "source": [
        "df3<- df2[, c(1:8)]\n",
        "df3.class<- df2[, \"Defaulted\"]\n",
        "\n",
        "#previewing the class attribute\n",
        "head(df3.class)"
      ]
    },
    {
      "cell_type": "code",
      "execution_count": null,
      "metadata": {
        "id": "CDAyyIGdZESQ"
      },
      "outputs": [],
      "source": [
        "#applying k-means clustering algorithm with number of centres (k=2) \n",
        "\n",
        "set.seed(123)  #for reproducibility\n",
        "#stats::kmeans(df3, centers = 2,nstart=10)\n",
        "df_k1 <- kmeans(df3, centers = 2)\n",
        "print(df_k1)\n"
      ]
    },
    {
      "cell_type": "code",
      "execution_count": null,
      "metadata": {
        "id": "Z7h2fw9aZEOv"
      },
      "outputs": [],
      "source": [
        "#to visualize our clusters, we will convert all our variables to numerical variables \n",
        "str(df2)"
      ]
    },
    {
      "cell_type": "code",
      "execution_count": null,
      "metadata": {
        "id": "PozTYWl9Zh_i"
      },
      "outputs": [],
      "source": [
        "#creating columns for a dataframe with all numeric values\n",
        "Age<- df2$Age\n",
        "Years.Employed<- df2$Years_Employed\n",
        "Income <- df2$Income\n",
        "Card.Debt <- df2$Card_Debt\n",
        "Other.Debt <- df2$Other_Debt\n",
        "DebtIncome.Ratio <- df2$DebtIncomeRatio\n",
        "Education.numeric <- as.numeric(df2$Education_Level)\n",
        "Defaulted.numeric<- as.numeric(df2$Defaulted)\n",
        "Address.numeric <- as.numeric(df2$Address_Numeric)"
      ]
    },
    {
      "cell_type": "code",
      "execution_count": null,
      "metadata": {
        "id": "cM_6z0BrcQvb"
      },
      "outputs": [],
      "source": [
        "df2.numeric <- data.frame(Age, Years.Employed, Income, Card.Debt, Other.Debt, DebtIncome.Ratio, Education.numeric, Defaulted.numeric, Address.numeric)\n",
        "\n",
        "head(df2.numeric)"
      ]
    },
    {
      "cell_type": "code",
      "execution_count": null,
      "metadata": {
        "id": "Mn7HZ_ydcYUQ"
      },
      "outputs": [],
      "source": [
        "dim(df2.numeric)"
      ]
    },
    {
      "cell_type": "code",
      "execution_count": null,
      "metadata": {
        "id": "oRgRbGMtaxFq"
      },
      "outputs": [],
      "source": [
        "#library(data.table)\n",
        "#require(reshape2)\n",
        "#df2.numeric <- rownames(df2) \n",
        "#melt(df2)"
      ]
    },
    {
      "cell_type": "code",
      "execution_count": null,
      "metadata": {
        "id": "aDKimRBAaazH"
      },
      "outputs": [],
      "source": [
        "# applying k-means clustering on the new dataset to visualize the  clustering results\n",
        "\n",
        "df_k2 <- kmeans(df3, centers = 2)\n",
        "print(df_k2)"
      ]
    },
    {
      "cell_type": "markdown",
      "source": [
        "###Visualizing and interpreting results of K-means"
      ],
      "metadata": {
        "id": "muFvJaeU-I1z"
      }
    },
    {
      "cell_type": "code",
      "source": [
        ""
      ],
      "metadata": {
        "id": "Rt5BY0io_iHU"
      },
      "execution_count": null,
      "outputs": []
    },
    {
      "cell_type": "code",
      "source": [
        "# Visuaizing results \n",
        "\n",
        "#knitr::opts_chunk$set(fig.width=18, fig.height=12) \n",
        "\n",
        "library(repr)\n",
        "options(repr.plot.width=18, repr.plot.height=12)\n",
        "\n",
        "#set.seed(123)\n",
        "#init <- sample(2, nrow(df3), replace=TRUE)\n",
        "#plot(df3, col=init)\n",
        "\n",
        "plot(df3, col=df_k2$cluster, main='K-Means with 2 clusters')"
      ],
      "metadata": {
        "id": "H0AMBYdr8-eq"
      },
      "execution_count": null,
      "outputs": []
    },
    {
      "cell_type": "code",
      "execution_count": null,
      "metadata": {
        "id": "XTWoEMtJdWiZ"
      },
      "outputs": [],
      "source": [
        "# Interpreting results\n",
        "# Cluster size\n",
        "df_k2$size"
      ]
    },
    {
      "cell_type": "markdown",
      "metadata": {
        "id": "suqOPijEeeor"
      },
      "source": [
        "The data has been clustered into 2 clusters of 695 observations with no default (0) and 155 observations as defaulters (1)\n",
        "\n",
        "\n",
        "\n",
        "\n"
      ]
    },
    {
      "cell_type": "code",
      "execution_count": null,
      "metadata": {
        "id": "3q8FQ23ldWa8"
      },
      "outputs": [],
      "source": [
        "# Between clusters sum of square\n",
        "df_k2$betweenss"
      ]
    },
    {
      "cell_type": "markdown",
      "metadata": {
        "id": "9gtbBkOoflCt"
      },
      "source": [
        "The sum of squares between the two clusters is 530.45"
      ]
    },
    {
      "cell_type": "code",
      "execution_count": null,
      "metadata": {
        "id": "4e7VwqC0dWXS"
      },
      "outputs": [],
      "source": [
        "# Within cluster sum of square\n",
        "df_k2$withinss"
      ]
    },
    {
      "cell_type": "markdown",
      "metadata": {
        "id": "ZqK0238bf5Cj"
      },
      "source": [
        "The sum of squares within each cluster is 381.47, 105.97"
      ]
    },
    {
      "cell_type": "code",
      "execution_count": null,
      "metadata": {
        "id": "hymkt4LMdWTl"
      },
      "outputs": [],
      "source": [
        "# Total with sum of square\n",
        "df_k2$tot.withinss"
      ]
    },
    {
      "cell_type": "markdown",
      "metadata": {
        "id": "_-gOVyPigJW0"
      },
      "source": [
        "The total sum of squares within both clusters is 487.44"
      ]
    },
    {
      "cell_type": "code",
      "execution_count": null,
      "metadata": {
        "id": "qf95XueKfxJV"
      },
      "outputs": [],
      "source": [
        "# Total sum of square\n",
        "df_k2$totss"
      ]
    },
    {
      "cell_type": "markdown",
      "metadata": {
        "id": "dPWHOgXPgU1F"
      },
      "source": [
        "The total sum of squares obtained from clustering the entire dataset is 1017.89\n",
        "\n"
      ]
    },
    {
      "cell_type": "code",
      "execution_count": null,
      "metadata": {
        "id": "LrQaiIK0fxDz"
      },
      "outputs": [],
      "source": [
        "#visualizing the clusters\n",
        "#fviz_cluster(df_k2, data = df2.numeric)"
      ]
    },
    {
      "cell_type": "markdown",
      "metadata": {
        "id": "5uYy77sNiQsQ"
      },
      "source": [
        "#Optimizing K-means Algorithm"
      ]
    },
    {
      "cell_type": "markdown",
      "metadata": {
        "id": "5YMwpVVwiVmb"
      },
      "source": [
        "For k-means algorithm, the number of clusters is pre-specified before analysis. For this study, we have been given the class variable - Defaulted, which has two classes which is a clear indication that we will have two clusters. However, for datasets that do Not have clear classes, it is not possible to know the optimal number of k hence, we can find the optimal number of k by creating a plot of the total sums of squares within-groups against the number of clusters. A bend in the graph can suggest the appropriate number of clusters in that dataset."
      ]
    },
    {
      "cell_type": "code",
      "execution_count": null,
      "metadata": {
        "id": "ilRLY08GiQLQ"
      },
      "outputs": [],
      "source": [
        "# finding the optimal number of clusters\n",
        "\n",
        "#fviz_nbclust(x = df2.numeric,FUNcluster = kmeans, method = 'wss')\n",
        "\n",
        "options(repr.plot.width=12, repr.plot.height=8)\n",
        "\n",
        "wss <- 0\n",
        "\n",
        "# For 1 to 8 cluster centers\n",
        "for (i in 1:8) {\n",
        "  df_k2 <- kmeans(df3, centers = i, nstart = 20)\n",
        "  # Save total within sum of squares to wss variable\n",
        "  wss[i] <- df_k2$tot.withinss\n",
        "}\n",
        "\n",
        "# Plot total within sum of squares vs. number of clusters\n",
        "plot(1:8, wss, type = \"b\", \n",
        "     xlab = \"Number of Clusters\", \n",
        "     ylab = \"Within groups sum of squares\")"
      ]
    },
    {
      "cell_type": "markdown",
      "source": [
        "The Elbow method shows that there are 2 possible clusters in the dataset"
      ],
      "metadata": {
        "id": "YM5F7zp2CeEb"
      }
    },
    {
      "cell_type": "code",
      "execution_count": null,
      "metadata": {
        "id": "4Wz5J3sAfw-4"
      },
      "outputs": [],
      "source": [
        "# Determining Optimal clusters (k) Using Average Silhouette Method\n",
        "\n",
        "#fviz_nbclust(x = df2.numeric,FUNcluster = kmeans, method = 'silhouette' )"
      ]
    },
    {
      "cell_type": "code",
      "execution_count": null,
      "metadata": {
        "id": "LHX0st-dfw5Y"
      },
      "outputs": [],
      "source": [
        "#applying k-means algorithm as with k = 2 and k =5 \n",
        "#df_k2 <- kmeans(df2.numeric, centers = 2)\n",
        "#df_k5 <- kmeans(df2.numeric, centers = 5)\n",
        "\n",
        "#p1 <- fviz_cluster(df_k2, geom = \"point\", data = df2.numeric) + ggtitle(\" K = 2\")\n",
        "#p2 <- fviz_cluster(df_k5, geom = \"point\", data = df2.numeric) + ggtitle(\" K = 5\")\n",
        "\n",
        "#library(gridExtra)"
      ]
    },
    {
      "cell_type": "code",
      "execution_count": null,
      "metadata": {
        "id": "XKqZfmt2fw0J"
      },
      "outputs": [],
      "source": [
        "#grid.arrange(p1, p2, nrow = 2)"
      ]
    },
    {
      "cell_type": "code",
      "execution_count": null,
      "metadata": {
        "id": "_6w6t2glfwuh"
      },
      "outputs": [],
      "source": [
        "#setting number of random starts to 15\n",
        "#df_k3 <- kmeans(df2.numeric, centers = 2, nstart = 15)\n",
        "#print(df_k3)"
      ]
    },
    {
      "cell_type": "code",
      "execution_count": null,
      "metadata": {
        "id": "_LF9QX4Gfwmf"
      },
      "outputs": [],
      "source": [
        "#visualizing the clusters \n",
        "#fviz_cluster(df_k3, data = df2.numeric)"
      ]
    },
    {
      "cell_type": "code",
      "execution_count": null,
      "metadata": {
        "id": "srPyFG3cfwgs"
      },
      "outputs": [],
      "source": [
        "#Descriptive statistics (mean) at the cluster level\n",
        "#df2.numeric %>% \n",
        "#  mutate(Cluster = df_k3$cluster) %>%\n",
        "#  group_by(Cluster) %>%\n",
        "#  summarize_all('mean')"
      ]
    },
    {
      "cell_type": "markdown",
      "metadata": {
        "id": "7ifwVHFwnXHl"
      },
      "source": [
        "**Notes from k-means clustering**\n",
        "\n"
      ]
    },
    {
      "cell_type": "markdown",
      "metadata": {
        "id": "tPOXG6E4neER"
      },
      "source": [
        "Some advantages of k-means clustering we have observed are:\n",
        "\n",
        "* It’s quite easy to implement\n",
        "* The algorithm was computationally faster\n",
        "\n",
        "Some disadvantages are:\n",
        "\n",
        "* The number of clusters has to be defined from the beginning and we would not know how many clusters we should have"
      ]
    },
    {
      "cell_type": "markdown",
      "metadata": {
        "id": "GxPY4x1xni8O"
      },
      "source": [
        "#Hierarchical Clustering"
      ]
    },
    {
      "cell_type": "markdown",
      "metadata": {
        "id": "G4GlljLlnnI9"
      },
      "source": [
        "Hierarchical clustering is also a type of unsupervised machine learning algorithm that builds a hierarchy of clusters i.e tree type strucure based in hierarchy that helps solve the disadvantage mentioned above from k-means clustering."
      ]
    },
    {
      "cell_type": "code",
      "execution_count": null,
      "metadata": {
        "id": "-x7eWczofwbx"
      },
      "outputs": [],
      "source": [
        "# We use the R function hclust() for hierarchical clustering\n",
        "# \n",
        "options(repr.plot.width=12, repr.plot.height=8)\n",
        "\n",
        "set.seed(123)  #for reproducibility\n",
        "\n",
        "# First we use the dist() function to compute the Euclidean distance between observations\n",
        "dst <- dist(df2, method = \"euclidean\")\n",
        "\n",
        "# We apply hierarchical clustering algorithim using the complete method\n",
        "df2_h <- hclust(dst, method = \"ward.D2\" )\n",
        "\n",
        "#plotting a dendrogram\n",
        "plot(df2_h, cex = 0.6, hang = -1)"
      ]
    },
    {
      "cell_type": "markdown",
      "metadata": {
        "id": "4gFaNMJes2tw"
      },
      "source": [
        "Our Dendrogram is messy hence we will try to use different approaches to obtain features from it\n"
      ]
    },
    {
      "cell_type": "code",
      "source": [
        "summary(df2_h)"
      ],
      "metadata": {
        "id": "gbRCkT-zEW6Q"
      },
      "execution_count": null,
      "outputs": []
    },
    {
      "cell_type": "markdown",
      "source": [
        "###Cutting the tree"
      ],
      "metadata": {
        "id": "F1bd_QUuFIPL"
      }
    },
    {
      "cell_type": "code",
      "source": [
        "plot(df2_h)\n",
        "abline(h=20,col='red')"
      ],
      "metadata": {
        "id": "5pwlMlAHEW3b"
      },
      "execution_count": null,
      "outputs": []
    },
    {
      "cell_type": "code",
      "source": [
        "# Cut by height\n",
        "cutree(df2_h, h=20)"
      ],
      "metadata": {
        "id": "yZ962TUpEquj"
      },
      "execution_count": null,
      "outputs": []
    },
    {
      "cell_type": "code",
      "source": [
        "# Cut by number of clusters\n",
        "cutree(df2_h, k=2)"
      ],
      "metadata": {
        "id": "B3pC4xGPFYh9"
      },
      "execution_count": null,
      "outputs": []
    },
    {
      "cell_type": "code",
      "execution_count": null,
      "metadata": {
        "id": "fGjwEFDdJjI0"
      },
      "outputs": [],
      "source": [
        "#Determine the optimal k\n",
        "#fviz_nbclust(df2.numeric, FUN = hcut, method = \"silhouette\", \n",
        "#                   k.max = 10)"
      ]
    },
    {
      "cell_type": "code",
      "execution_count": null,
      "metadata": {
        "id": "bwCaucggJjEq"
      },
      "outputs": [],
      "source": [
        "#obtaining the subgroups from the dendrograms\n",
        "\n",
        "# Ward's method\n",
        "#hc5 <- hclust(d, method = \"ward.D2\" )\n",
        "\n",
        "# Cut tree into 4 groups\n",
        "sub_grp <- cutree(df2_h, k = 2)\n",
        "\n",
        "# Number of members in each cluster\n",
        "table(sub_grp)"
      ]
    },
    {
      "cell_type": "markdown",
      "metadata": {
        "id": "IyvBg5xotLxe"
      },
      "source": [
        "The size obtained from hierarchical clustering is 693 from no default and 157 from defaults\n",
        "\n"
      ]
    },
    {
      "cell_type": "code",
      "execution_count": null,
      "metadata": {
        "id": "GwVQCvDguQR0"
      },
      "outputs": [],
      "source": [
        "install.packages('dendextend')\n",
        "suppressPackageStartupMessages(library(dendextend))"
      ]
    },
    {
      "cell_type": "code",
      "execution_count": null,
      "metadata": {
        "id": "Gaz9R96iDFgG"
      },
      "outputs": [],
      "source": [
        "avg_dend_obj <- as.dendrogram(df2_h)\n",
        "avg_col_dend <- color_branches(avg_dend_obj, h = 2)\n",
        "plot(avg_col_dend)"
      ]
    },
    {
      "cell_type": "code",
      "execution_count": null,
      "metadata": {
        "id": "33e7uu-fDj7l"
      },
      "outputs": [],
      "source": [
        "suppressPackageStartupMessages(library(dplyr))\n",
        "df2_ct <- mutate(df2, cluster = sub_grp)\n",
        "#count(df2_ct,cluster)"
      ]
    },
    {
      "cell_type": "code",
      "execution_count": null,
      "metadata": {
        "id": "qxkD1lo-Oy4F"
      },
      "outputs": [],
      "source": [
        "suppressPackageStartupMessages(library(ggplot2))\n",
        "ggplot(df2_ct, aes(x=Income, y = Defaulted, color = factor(cluster))) + geom_point()"
      ]
    },
    {
      "cell_type": "code",
      "execution_count": null,
      "metadata": {
        "id": "JDedJsXJOy0N"
      },
      "outputs": [],
      "source": [
        "#visualizing the clusters generated using a plot of income and debt default\n",
        "\n",
        "suppressPackageStartupMessages(library(ggplot2))\n",
        "ggplot(df2_ct, aes(x=Income, y = Defaulted, color = factor(cluster))) + geom_point()"
      ]
    },
    {
      "cell_type": "code",
      "execution_count": null,
      "metadata": {
        "id": "BSazco11Oywo"
      },
      "outputs": [],
      "source": [
        "#visualizing the clusters generated using a plot of experience and defaulted\n",
        "ggplot(df2_ct, aes(x=Years.Employed, y = Defaulted, color = factor(cluster))) + geom_point()"
      ]
    },
    {
      "cell_type": "code",
      "execution_count": null,
      "metadata": {
        "id": "rt0_brnDwkOW"
      },
      "outputs": [],
      "source": [
        "#creating a confusion matrix to compare the actual classes and the predicted classes\n",
        "\n",
        "table(df2_ct$cluster,df2$Defaulted)"
      ]
    },
    {
      "cell_type": "markdown",
      "metadata": {
        "id": "oLaZz2_Bw5hQ"
      },
      "source": [
        "The true positives is the highest and the number of true negatives is also high. The number of false positives and false negatives is lower but there is also a significant number of false positives.\n"
      ]
    },
    {
      "cell_type": "markdown",
      "metadata": {
        "id": "X23oliEtyxQY"
      },
      "source": [
        "**Notes from Hieracrchical Clustering**\n",
        "\n"
      ]
    },
    {
      "cell_type": "markdown",
      "metadata": {
        "id": "-vFE1pBdyz-R"
      },
      "source": [
        "Some advantages of hierachical clustering include;\n",
        "\n",
        "* We did Not need to specify the number of clusters\n",
        "* The algorithm is also easy to implement\n",
        "* Output a hierarchy\n",
        "\n",
        "Some of the disadvantages include;\n",
        "\n",
        "* For the dendrogram produced, the datapoints were too many hence there was a lot of overlapping. This means that we could not obtain any information from the structure. Any attempts to rectify this were time consuming (as a result of a huge dataset)which means that that this algorithm cannot be used when you have huge data"
      ]
    },
    {
      "cell_type": "markdown",
      "source": [
        "## Rtsne"
      ],
      "metadata": {
        "id": "CmI2hUEyIFNz"
      }
    },
    {
      "cell_type": "code",
      "source": [
        "install.packages('Rtsne')\n",
        "library('Rtsne')"
      ],
      "metadata": {
        "id": "yU3YgWKcIKLh"
      },
      "execution_count": null,
      "outputs": []
    },
    {
      "cell_type": "code",
      "source": [
        "data <- unique(df3)\n",
        "datatsne<-Rtsne(data[,1:8])\n",
        "plot(datatsne$Y, col=df3$Defaulted)"
      ],
      "metadata": {
        "id": "H2JdH7YiIN4g"
      },
      "execution_count": null,
      "outputs": []
    },
    {
      "cell_type": "code",
      "source": [
        "model = kmeans(df3, 2)\n",
        "clusplot(df3, model$cluster, color=T,shade=T)"
      ],
      "metadata": {
        "id": "xG-ppfgyIbzq"
      },
      "execution_count": null,
      "outputs": []
    },
    {
      "cell_type": "markdown",
      "metadata": {
        "id": "NvHfH6HXzHi7"
      },
      "source": [
        "#8. Challenging the Solution"
      ]
    },
    {
      "cell_type": "markdown",
      "metadata": {
        "id": "xuNnAlF5zK3i"
      },
      "source": [
        "From the metrics of success outlined at the beginning of this study, we can consider this study successfull. However, from the Hierarhical clustering, we were not able to make the best use of the algorithm as we could not interprete the dendrogram. In order to rectify this, it would probably be best to obtain samples of the data and use these sapmles to plot the dendrogram.\n",
        "\n",
        "From both the k-Means clustering and the Hierarchial clustering, we obtained different cluster sizes. It is difficult to tell which of the two clustered the best. However, it is evident that K-means is less computationally expensive than hierarchical clustering and can be run on large datasets within a reasonable time frame.\n",
        "\n"
      ]
    }
  ],
  "metadata": {
    "colab": {
      "collapsed_sections": [],
      "name": "Customer Segmentation - R_Project; Group 2",
      "provenance": [],
      "include_colab_link": true
    },
    "kernelspec": {
      "display_name": "R",
      "name": "ir"
    },
    "language_info": {
      "name": "R"
    },
    "accelerator": "GPU"
  },
  "nbformat": 4,
  "nbformat_minor": 0
}