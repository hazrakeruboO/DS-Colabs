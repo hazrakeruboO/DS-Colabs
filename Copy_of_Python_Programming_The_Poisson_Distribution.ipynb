{
  "nbformat": 4,
  "nbformat_minor": 0,
  "metadata": {
    "colab": {
      "name": "Copy of Python Programming: The Poisson Distribution",
      "provenance": [],
      "collapsed_sections": [
        "qbU9R__X9No0",
        "IrKYwHaHJsQJ"
      ],
      "toc_visible": true,
      "include_colab_link": true
    },
    "kernelspec": {
      "name": "python3",
      "display_name": "Python 3"
    }
  },
  "cells": [
    {
      "cell_type": "markdown",
      "metadata": {
        "id": "view-in-github",
        "colab_type": "text"
      },
      "source": [
        "<a href=\"https://colab.research.google.com/github/hazrakeruboO/DS-Colabs/blob/main/Copy_of_Python_Programming_The_Poisson_Distribution.ipynb\" target=\"_parent\"><img src=\"https://colab.research.google.com/assets/colab-badge.svg\" alt=\"Open In Colab\"/></a>"
      ]
    },
    {
      "cell_type": "markdown",
      "metadata": {
        "id": "B6aB2C4MohHT"
      },
      "source": [
        "<font color=\"green\">*To start working on this notebook, or any other notebook that we will use in the Moringa Data Science Course, we will need to save our own copy of it. We can do this by clicking File > Save a Copy in Drive. We will then be able to make edits to our own copy of this notebook.*</font>"
      ]
    },
    {
      "cell_type": "markdown",
      "metadata": {
        "id": "SDSkLLGrJqLF"
      },
      "source": [
        "# Python Programming: Poisson Distribution"
      ]
    },
    {
      "cell_type": "markdown",
      "metadata": {
        "id": "qbU9R__X9No0"
      },
      "source": [
        "## Importing Our Libraries"
      ]
    },
    {
      "cell_type": "code",
      "metadata": {
        "id": "Uw2dkvyv9Mfo"
      },
      "source": [
        "# \n",
        "# importing poisson from scipy \n",
        "#\n",
        "from scipy.stats import poisson"
      ],
      "execution_count": 17,
      "outputs": []
    },
    {
      "cell_type": "markdown",
      "metadata": {
        "id": "IrKYwHaHJsQJ"
      },
      "source": [
        "## 1.0 Basic Questions "
      ]
    },
    {
      "cell_type": "code",
      "metadata": {
        "id": "mGhBTwuqJn69",
        "colab": {
          "base_uri": "https://localhost:8080/"
        },
        "outputId": "9e7f5ec3-9796-4cca-e196-0365d1637124"
      },
      "source": [
        "# Example 1\n",
        "# ---\n",
        "# Question: An average of 20 customers walks into a store in a given hour. \n",
        "# What is the probability that 25 customers walk into a store in the next hour?\n",
        "# ---\n",
        "\n",
        "# Assigning the value of the mean of the distribution\n",
        "# This is average number of successes over a given time period. \n",
        "# \n",
        "x = 12\n",
        "\n",
        "# Assigning the value of x (integer) at which the value of the density function is required\n",
        "# This is our random variable; The number of successes we want to find the probability mass of given our knowledge of mean.\n",
        "#\n",
        "lambda_ = 5\n",
        "\n",
        "# The value at x of the probability density function f(x) is:\n",
        "#\n",
        "print(\"The value of the probability density function at x =\", x, \"is f(x) =\", poisson.pmf(lambda_, x))"
      ],
      "execution_count": 7,
      "outputs": [
        {
          "output_type": "stream",
          "name": "stdout",
          "text": [
            "The value of the probability density function at x = 12 is f(x) = 0.012740638735861376\n"
          ]
        }
      ]
    },
    {
      "cell_type": "markdown",
      "metadata": {
        "id": "2qQrDLNp3cav"
      },
      "source": [
        "### <font color=\"green\">1.0 Challenges</font>"
      ]
    },
    {
      "cell_type": "code",
      "metadata": {
        "id": "GcWHfnUX9wqU",
        "colab": {
          "base_uri": "https://localhost:8080/"
        },
        "outputId": "d829f9aa-a9c5-4f8f-c03a-97d3e27a4bb0"
      },
      "source": [
        "# Challenge 1\n",
        "# ---\n",
        "# Question: A police officer pulls over an average of 3 people for speeding violations per shift. \n",
        "# What is the probability that the officer will pull over two people for speeding violations during their next shift?\n",
        "# ---\n",
        "# Expected Output: 0.22404180765538775\n",
        "# \n",
        "mean=3\n",
        "lambda_=3\n",
        "poisson.pmf(lambda_,mean)"
      ],
      "execution_count": 8,
      "outputs": [
        {
          "output_type": "execute_result",
          "data": {
            "text/plain": [
              "0.22404180765538775"
            ]
          },
          "metadata": {},
          "execution_count": 8
        }
      ]
    },
    {
      "cell_type": "code",
      "metadata": {
        "id": "IT8UssIhKwcO",
        "colab": {
          "base_uri": "https://localhost:8080/"
        },
        "outputId": "7909b906-830b-484d-acb7-1d4744119304"
      },
      "source": [
        "# Challenge 2\n",
        "# ---\n",
        "# Question: A fireman fights, on average, 4 fires per month. \n",
        "# What is the probability that a fireman is called to two different fires this week?\n",
        "# ---\n",
        "# Expected Output: 0.18393972058572117\n",
        "# \n",
        "mean=1\n",
        "lambda_=2\n",
        "poisson.pmf(lambda_,mean)"
      ],
      "execution_count": 18,
      "outputs": [
        {
          "output_type": "execute_result",
          "data": {
            "text/plain": [
              "0.18393972058572114"
            ]
          },
          "metadata": {},
          "execution_count": 18
        }
      ]
    },
    {
      "cell_type": "code",
      "metadata": {
        "id": "enLvIGpT3kU2",
        "colab": {
          "base_uri": "https://localhost:8080/"
        },
        "outputId": "69672b19-0eb5-4be0-a191-f5c3c0b70780"
      },
      "source": [
        "# Challenge 3\n",
        "# ---\n",
        "# Question: A car salesman sells an average of 4 cars per week. What is the probability they sell a car today?\n",
        "# ---\n",
        "# Expected Output: 0.32269606971871956\n",
        "#\n",
        "mean=4/7\n",
        "lambda_=1\n",
        "poisson.pmf(lambda_,mean)"
      ],
      "execution_count": 19,
      "outputs": [
        {
          "output_type": "execute_result",
          "data": {
            "text/plain": [
              "0.3226960697187195"
            ]
          },
          "metadata": {},
          "execution_count": 19
        }
      ]
    },
    {
      "cell_type": "code",
      "metadata": {
        "id": "wgQNVn-u3lmX"
      },
      "source": [
        "# Challenge 4\n",
        "# ---\n",
        "# Question: A website makes an average of 50 sales per day. What is the probability that they make 3 sales in an hour?\n",
        "# ---\n",
        "# Expected Output: 0.18764840049328912\n",
        "# \n",
        "mean=4\n",
        "lambda_=1\n",
        "poisson.pmf(lambda_,mean)"
      ],
      "execution_count": null,
      "outputs": []
    },
    {
      "cell_type": "code",
      "metadata": {
        "id": "qY7Cmm0t6fN9"
      },
      "source": [
        "# Challenge 5\n",
        "# ---\n",
        "# Question: A factory produces 250 cars per week (assume that the factory runs day and night all week with no down time). \n",
        "# What is the probability that they produce 3 cars in the next hour?\n",
        "# ---\n",
        "# Expected Output: 0.1240136186052091\n",
        "# \n",
        "OUR CODE GOES HERE"
      ],
      "execution_count": null,
      "outputs": []
    },
    {
      "cell_type": "code",
      "metadata": {
        "id": "aQmRucIkiAVg"
      },
      "source": [
        "# Challenge 6\n",
        "# ---\n",
        "# Question: \n",
        "# A Laptop Assembly unit is permorning a Defects Analysis, to understand the number of defects that could happen for a given defective laptop. \n",
        "# It is noted from past quality & audit data that 12 defects are noticed on an average for a defective Laptop, calculate\n",
        "# a) Probability that a defective laptop has exactly 5 defects\n",
        "# b) Probability that a defective laptop has less than 5 defects\n",
        "# ---\n",
        "# \n",
        "# \n",
        "OUR CODE GOES HERE"
      ],
      "execution_count": null,
      "outputs": []
    },
    {
      "cell_type": "code",
      "metadata": {
        "id": "R5cczyGbiHXf",
        "colab": {
          "base_uri": "https://localhost:8080/"
        },
        "outputId": "15b26af8-73e3-4caa-ef7d-25c0dd19845b"
      },
      "source": [
        "# Challenge 7\n",
        "# ---\n",
        "# Question: \n",
        "# If on an average, 6 customers arrive every one minute at a bank during the busy hours of working, \n",
        "# a) what is the probability that exactly four customers arrive in a given minute? \n",
        "# b) What is the probability that more than three customers will arrive in a given minute?\n",
        "# ---\n",
        "# \n",
        "# \n",
        "mean=6\n",
        "lambda_=4\n",
        "poisson.pmf(lambda_,mean)"
      ],
      "execution_count": 20,
      "outputs": [
        {
          "output_type": "execute_result",
          "data": {
            "text/plain": [
              "0.13385261753998332"
            ]
          },
          "metadata": {},
          "execution_count": 20
        }
      ]
    },
    {
      "cell_type": "code",
      "metadata": {
        "colab": {
          "base_uri": "https://localhost:8080/"
        },
        "id": "EXznrW3uMgZR",
        "outputId": "76177089-0271-438a-ebc0-a4f50251f890"
      },
      "source": [
        "#b) What is the probability that more than three customers will arrive in a given minute?\n",
        "mean=6\n",
        "lambda_=0\n",
        "b=(poisson.pmf(0,mean))+(poisson.pmf(1,mean))+(poisson.pmf(2,mean))+((poisson.pmf(3,mean)))\n",
        "1-(b)\n"
      ],
      "execution_count": 26,
      "outputs": [
        {
          "output_type": "execute_result",
          "data": {
            "text/plain": [
              "0.8487961172233521"
            ]
          },
          "metadata": {},
          "execution_count": 26
        }
      ]
    },
    {
      "cell_type": "code",
      "metadata": {
        "colab": {
          "base_uri": "https://localhost:8080/"
        },
        "id": "a2eeNFcBO4OX",
        "outputId": "078ce49f-72eb-429b-8ef4-4c4955afc0d1"
      },
      "source": [
        "#CDF way\n",
        "1-poisson.cdf(3,mean)"
      ],
      "execution_count": 27,
      "outputs": [
        {
          "output_type": "execute_result",
          "data": {
            "text/plain": [
              "0.8487961172233521"
            ]
          },
          "metadata": {},
          "execution_count": 27
        }
      ]
    },
    {
      "cell_type": "code",
      "metadata": {
        "id": "SaBvTXvBiIDn",
        "colab": {
          "base_uri": "https://localhost:8080/"
        },
        "outputId": "7841d849-f001-4537-fb95-a4913b8d1343"
      },
      "source": [
        "# Challenge 8\n",
        "# ---\n",
        "# Question: \n",
        "# Student arrive at the rate of 72 per hour in the college.\n",
        "# a) What is the probability of 5 student arriving in 4 min?\n",
        "# b) What is the probability of not more than 3 students arriving in 4 min? \n",
        "# b) What is the probability of more than 3 students arriving in 4 min?\n",
        "# ---\n",
        "# \n",
        "mean=(72*4)/60\n",
        "lambda_=5\n",
        "poisson.pmf(lambda_,mean)\n"
      ],
      "execution_count": 28,
      "outputs": [
        {
          "output_type": "execute_result",
          "data": {
            "text/plain": [
              "0.17474768364388296"
            ]
          },
          "metadata": {},
          "execution_count": 28
        }
      ]
    },
    {
      "cell_type": "code",
      "metadata": {
        "id": "6ShwnPYhQqcw"
      },
      "source": [
        ""
      ],
      "execution_count": null,
      "outputs": []
    },
    {
      "cell_type": "code",
      "metadata": {
        "colab": {
          "base_uri": "https://localhost:8080/"
        },
        "id": "qiU5ghMxQHrm",
        "outputId": "7516af79-eb9d-4645-eed4-ccd7fac5bc85"
      },
      "source": [
        "#b) What is the probability of not more than 3 students arriving in 4 min? \n",
        "\n",
        "poisson.cdf(3,mean)\n"
      ],
      "execution_count": 29,
      "outputs": [
        {
          "output_type": "execute_result",
          "data": {
            "text/plain": [
              "0.2942299164965642"
            ]
          },
          "metadata": {},
          "execution_count": 29
        }
      ]
    },
    {
      "cell_type": "code",
      "metadata": {
        "colab": {
          "base_uri": "https://localhost:8080/"
        },
        "id": "iOTnKu-1QtRG",
        "outputId": "cc64c89d-2148-4afb-c061-e5227b831cac"
      },
      "source": [
        "1-poisson.cdf(3,mean)"
      ],
      "execution_count": 30,
      "outputs": [
        {
          "output_type": "execute_result",
          "data": {
            "text/plain": [
              "0.7057700835034357"
            ]
          },
          "metadata": {},
          "execution_count": 30
        }
      ]
    }
  ]
}