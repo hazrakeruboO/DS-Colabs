{
  "nbformat": 4,
  "nbformat_minor": 0,
  "metadata": {
    "colab": {
      "name": "Copy of Python Programming: Interval Estimation",
      "provenance": [],
      "collapsed_sections": [
        "Fbf4tbuW6unw",
        "0AdnQjq761ox"
      ],
      "toc_visible": true,
      "include_colab_link": true
    },
    "kernelspec": {
      "name": "python3",
      "display_name": "Python 3"
    }
  },
  "cells": [
    {
      "cell_type": "markdown",
      "metadata": {
        "id": "view-in-github",
        "colab_type": "text"
      },
      "source": [
        "<a href=\"https://colab.research.google.com/github/hazrakeruboO/DS-Colabs/blob/main/Copy_of_Python_Programming_Interval_Estimation.ipynb\" target=\"_parent\"><img src=\"https://colab.research.google.com/assets/colab-badge.svg\" alt=\"Open In Colab\"/></a>"
      ]
    },
    {
      "cell_type": "markdown",
      "metadata": {
        "id": "FMHpE5G4JLoW"
      },
      "source": [
        "<font color=\"green\">To start working on this notebook, or any other notebook that we will use in the Moringa Data Science Course, we will need to save our own copy of it. We can do this by clicking File > Save a Copy in Drive. We will then be able to make edits to our own copy of this notebook.</font>"
      ]
    },
    {
      "cell_type": "markdown",
      "metadata": {
        "id": "9H14iylR6pMH"
      },
      "source": [
        "# Python Programming: Interval Estimation"
      ]
    },
    {
      "cell_type": "markdown",
      "metadata": {
        "id": "5Ol-BkfxIqK2"
      },
      "source": [
        "Confidence intervals are an important part of inferential statistics, upon which most market research is based. In this session, we see how a confidence interval is calculated and later work on challenges."
      ]
    },
    {
      "cell_type": "markdown",
      "metadata": {
        "id": "Fbf4tbuW6unw"
      },
      "source": [
        "## Example "
      ]
    },
    {
      "cell_type": "code",
      "metadata": {
        "id": "3Inq2JoV-pvd",
        "colab": {
          "base_uri": "https://localhost:8080/"
        },
        "outputId": "715180aa-b67b-4c8b-9679-23467a6adade"
      },
      "source": [
        "# Example 1\n",
        "# ---\n",
        "# Calculate a 95% confidence interval for the mean of the given data\n",
        "# ---\n",
        "# data = [1, 2, 3, 4, 5]\n",
        "# ---\n",
        "# \n",
        "\n",
        "# Importing scipy.stats\n",
        "import scipy.stats as stats\n",
        "import numpy as np\n",
        "import pandas as pd\n",
        "\n",
        "# defining our data\n",
        "data = np.array([1, 2, 3, 4, 5])\n",
        "\n",
        "# Calculating the sample mean of final data\n",
        "#\n",
        "sample_mean = data.mean()\n",
        "sample_mean\n",
        "\n",
        "# Finding the sample size\n",
        "#\n",
        "sample_size = data.shape[0]\n",
        "sample_size\n",
        "\n",
        "# Finding the standard error of the mean of data \n",
        "#\n",
        "std_error = data.std() / np.sqrt(sample_size)\n",
        "std_error\n",
        "\n",
        "# Calculating the 95% Confidence Interval for mean data \n",
        "# To calculate the confidence interval, we will use the norm object from the statssubpackage. \n",
        "# The norm object has an interval() method that receives three inputs \n",
        "# – our chosen confidence interval 0.95, and the sample mean and standard error of the mean.  \n",
        "# \n",
        "stats.norm.interval(0.95, loc=sample_mean, scale=std_error)\n",
        "\n",
        "# We can be 95% certain that the population mean data is between 1.7 and 4.23"
      ],
      "execution_count": null,
      "outputs": [
        {
          "output_type": "execute_result",
          "data": {
            "text/plain": [
              "(1.7604099353908769, 4.239590064609123)"
            ]
          },
          "metadata": {},
          "execution_count": 2
        }
      ]
    },
    {
      "cell_type": "markdown",
      "metadata": {
        "id": "0AdnQjq761ox"
      },
      "source": [
        "## <font color=\"green\">Challenges</font>"
      ]
    },
    {
      "cell_type": "code",
      "metadata": {
        "id": "pJ14LB7i62zL"
      },
      "source": [
        "# Challenge 1\n",
        "# ---\n",
        "# Determine with 95% confidence interval the average of height of Kenyan men at a national level.\n",
        "# ---\n",
        "# height = [ 186.0, 180.0, 195.0, 189.0, 191.0, 177.0, 161.0, 177.0, 192.0, 179.0, 185.0, 192.0,\n",
        "#  169.0, 172.0, 191.0, 184.0, 193.0, 182.0, 190.0, 185.0, 179.0, 188.0, 179.0, 188.0,\n",
        "#  170.0, 179.0, 195.0, 179.0, 169.0, 185.0, 170.0, 197.0, 187.0, 177.0, 173.0, 179.0,\n",
        "#  195.0, 179.0, 190.0, 174.0, 195.0, 206.0, 180.0, 169.0, 178.0, 201.0, 180.0, 180.0,\n",
        "#  171.0, 191.0]\n",
        "# ---\n",
        "#\n",
        "# defining our data\n",
        "data1 = np.array([ 186.0, 180.0, 195.0, 189.0, 191.0, 177.0, 161.0, 177.0, 192.0, 179.0, 185.0, 192.0,\n",
        "    169.0, 172.0, 191.0, 184.0, 193.0, 182.0, 190.0, 185.0, 179.0, 188.0, 179.0, 188.0,\n",
        "  170.0, 179.0, 195.0, 179.0, 169.0, 185.0, 170.0, 197.0, 187.0, 177.0, 173.0, 179.0,\n",
        "  195.0, 179.0, 190.0, 174.0, 195.0, 206.0, 180.0, 169.0, 178.0, 201.0, 180.0, 180.0,\n",
        "  171.0, 191.0])\n",
        "\n",
        "\n"
      ],
      "execution_count": null,
      "outputs": []
    },
    {
      "cell_type": "code",
      "metadata": {
        "colab": {
          "base_uri": "https://localhost:8080/"
        },
        "id": "9VaBAlGF3WZO",
        "outputId": "2ba1d03b-d291-4e49-8c0a-77cb5e67d9f8"
      },
      "source": [
        "# Calculating the sample mean of final data\n",
        "#\n",
        "sample_mean = data1.mean()\n",
        "sample_mean"
      ],
      "execution_count": null,
      "outputs": [
        {
          "output_type": "execute_result",
          "data": {
            "text/plain": [
              "183.06"
            ]
          },
          "metadata": {},
          "execution_count": 7
        }
      ]
    },
    {
      "cell_type": "code",
      "metadata": {
        "colab": {
          "base_uri": "https://localhost:8080/"
        },
        "id": "TFERlR3a3XMX",
        "outputId": "ae74e2e6-262a-42dd-8e44-37fe46a30eea"
      },
      "source": [
        "# Finding the sample size\n",
        "#\n",
        "sample_size = data1.shape[0]\n",
        "sample_size\n"
      ],
      "execution_count": null,
      "outputs": [
        {
          "output_type": "execute_result",
          "data": {
            "text/plain": [
              "50"
            ]
          },
          "metadata": {},
          "execution_count": 8
        }
      ]
    },
    {
      "cell_type": "code",
      "metadata": {
        "colab": {
          "base_uri": "https://localhost:8080/"
        },
        "id": "MQjZ7ZDW3Xmn",
        "outputId": "2bbeea06-6c26-4768-94e0-003838d0e2aa"
      },
      "source": [
        "# Finding the standard error of the mean of data \n",
        "#\n",
        "std_error = data1.std() / np.sqrt(sample_size)\n",
        "std_error"
      ],
      "execution_count": null,
      "outputs": [
        {
          "output_type": "execute_result",
          "data": {
            "text/plain": [
              "1.3324893995826008"
            ]
          },
          "metadata": {},
          "execution_count": 9
        }
      ]
    },
    {
      "cell_type": "code",
      "metadata": {
        "colab": {
          "base_uri": "https://localhost:8080/"
        },
        "id": "Rib4iltr3igq",
        "outputId": "e12039ad-f704-427e-d28a-18cea7326612"
      },
      "source": [
        "# Calculating the 95% Confidence Interval for mean data \n",
        "# To calculate the confidence interval, we will use the norm object from the statssubpackage. \n",
        "# The norm object has an interval() method that receives three inputs \n",
        "# – our chosen confidence interval 0.95, and the sample mean and standard error of the mean.  \n",
        "# \n",
        "stats.norm.interval(0.95, loc=sample_mean, scale=std_error)\n"
      ],
      "execution_count": null,
      "outputs": [
        {
          "output_type": "execute_result",
          "data": {
            "text/plain": [
              "(180.4483687670367, 185.6716312329633)"
            ]
          },
          "metadata": {},
          "execution_count": 10
        }
      ]
    },
    {
      "cell_type": "code",
      "metadata": {
        "id": "nYWuRgLW6-Gt",
        "colab": {
          "base_uri": "https://localhost:8080/"
        },
        "outputId": "c1eb770c-0c93-4ae2-d220-4f308c6f5d3e"
      },
      "source": [
        "# Challenge 2\n",
        "# ---\n",
        "# Twelve users attempted to add a channel on their digital decoder TV to a list of favorites.\n",
        "# After the task they rated the difficulty on the 7 point Single Ease Question.  \n",
        "# Compute the 95% confidence interval. The responses are shown below\n",
        "# ---\n",
        "# difficulty = [2, 6, 4, 1, 7, 3, 6, 1, 7, 1, 6, 5, 1, 1]\n",
        "# \n",
        "# defining our data\n",
        "difficulty = np.array([2, 6, 4, 1, 7, 3, 6, 1, 7, 1, 6, 5, 1, 1])\n",
        "\n",
        "# Calculating the sample mean of final data\n",
        "#\n",
        "sample_mean = difficulty.mean()\n",
        "sample_mean\n"
      ],
      "execution_count": null,
      "outputs": [
        {
          "output_type": "execute_result",
          "data": {
            "text/plain": [
              "3.642857142857143"
            ]
          },
          "metadata": {},
          "execution_count": 12
        }
      ]
    },
    {
      "cell_type": "code",
      "metadata": {
        "colab": {
          "base_uri": "https://localhost:8080/"
        },
        "id": "0bu8MbVIA0qn",
        "outputId": "a415356b-1e14-4a2a-ad76-5171aeb69072"
      },
      "source": [
        "# Finding the sample size\n",
        "#\n",
        "sample_size = difficulty.shape[0]\n",
        "sample_size\n"
      ],
      "execution_count": null,
      "outputs": [
        {
          "output_type": "execute_result",
          "data": {
            "text/plain": [
              "14"
            ]
          },
          "metadata": {},
          "execution_count": 13
        }
      ]
    },
    {
      "cell_type": "code",
      "metadata": {
        "colab": {
          "base_uri": "https://localhost:8080/"
        },
        "id": "6QDpjTLkA04t",
        "outputId": "3811726c-1c47-4493-9bb4-2d35af831ebc"
      },
      "source": [
        "# Finding the standard error of the mean of data \n",
        "#\n",
        "std_error = difficulty.std() / np.sqrt(sample_size)\n",
        "std_error"
      ],
      "execution_count": null,
      "outputs": [
        {
          "output_type": "execute_result",
          "data": {
            "text/plain": [
              "0.635731483372058"
            ]
          },
          "metadata": {},
          "execution_count": 14
        }
      ]
    },
    {
      "cell_type": "code",
      "metadata": {
        "colab": {
          "base_uri": "https://localhost:8080/"
        },
        "id": "dYen8pP6A1Cf",
        "outputId": "badc4dee-f717-4090-d66f-18096d93b67c"
      },
      "source": [
        "stats.norm.interval(0.95, loc=sample_mean, scale=std_error)"
      ],
      "execution_count": null,
      "outputs": [
        {
          "output_type": "execute_result",
          "data": {
            "text/plain": [
              "(2.3968463316096846, 4.888867954104601)"
            ]
          },
          "metadata": {},
          "execution_count": 15
        }
      ]
    },
    {
      "cell_type": "code",
      "metadata": {
        "id": "ilKw3ozG6_JB",
        "colab": {
          "base_uri": "https://localhost:8080/",
          "height": 866
        },
        "outputId": "264ce2dd-11f4-4f5b-9b7d-c0b18b1c2578"
      },
      "source": [
        "# Challenge 3\n",
        "# ---\n",
        "# Calculate the 95% confidence interval for the mean of longlife-life insecticide \n",
        "# treated mosquito net (LLIN) distributions by the Against Malaria Foundation.\n",
        "# ---\n",
        "# Dataset url = http://bit.ly/MalariaDataset\n",
        "# \n",
        "dataset=pd.read_csv('http://bit.ly/MalariaDataset')\n",
        "head(10)"
      ],
      "execution_count": null,
      "outputs": [
        {
          "output_type": "error",
          "ename": "UnicodeDecodeError",
          "evalue": "ignored",
          "traceback": [
            "\u001b[0;31m---------------------------------------------------------------------------\u001b[0m",
            "\u001b[0;31mUnicodeDecodeError\u001b[0m                        Traceback (most recent call last)",
            "\u001b[0;32mpandas/_libs/parsers.pyx\u001b[0m in \u001b[0;36mpandas._libs.parsers.TextReader._convert_tokens\u001b[0;34m()\u001b[0m\n",
            "\u001b[0;32mpandas/_libs/parsers.pyx\u001b[0m in \u001b[0;36mpandas._libs.parsers.TextReader._convert_with_dtype\u001b[0;34m()\u001b[0m\n",
            "\u001b[0;32mpandas/_libs/parsers.pyx\u001b[0m in \u001b[0;36mpandas._libs.parsers.TextReader._string_convert\u001b[0;34m()\u001b[0m\n",
            "\u001b[0;32mpandas/_libs/parsers.pyx\u001b[0m in \u001b[0;36mpandas._libs.parsers._string_box_utf8\u001b[0;34m()\u001b[0m\n",
            "\u001b[0;31mUnicodeDecodeError\u001b[0m: 'utf-8' codec can't decode byte 0xef in position 4: invalid continuation byte",
            "\nDuring handling of the above exception, another exception occurred:\n",
            "\u001b[0;31mUnicodeDecodeError\u001b[0m                        Traceback (most recent call last)",
            "\u001b[0;32m<ipython-input-16-c07cba7dcf9a>\u001b[0m in \u001b[0;36m<module>\u001b[0;34m()\u001b[0m\n\u001b[1;32m      6\u001b[0m \u001b[0;31m# Dataset url = http://bit.ly/MalariaDataset\u001b[0m\u001b[0;34m\u001b[0m\u001b[0;34m\u001b[0m\u001b[0;34m\u001b[0m\u001b[0m\n\u001b[1;32m      7\u001b[0m \u001b[0;31m#\u001b[0m\u001b[0;34m\u001b[0m\u001b[0;34m\u001b[0m\u001b[0;34m\u001b[0m\u001b[0m\n\u001b[0;32m----> 8\u001b[0;31m \u001b[0mdataset\u001b[0m\u001b[0;34m=\u001b[0m\u001b[0mpd\u001b[0m\u001b[0;34m.\u001b[0m\u001b[0mread_csv\u001b[0m\u001b[0;34m(\u001b[0m\u001b[0;34m'http://bit.ly/MalariaDataset'\u001b[0m\u001b[0;34m)\u001b[0m\u001b[0;34m\u001b[0m\u001b[0;34m\u001b[0m\u001b[0m\n\u001b[0m\u001b[1;32m      9\u001b[0m \u001b[0mhead\u001b[0m\u001b[0;34m(\u001b[0m\u001b[0;36m10\u001b[0m\u001b[0;34m)\u001b[0m\u001b[0;34m\u001b[0m\u001b[0;34m\u001b[0m\u001b[0m\n",
            "\u001b[0;32m/usr/local/lib/python3.7/dist-packages/pandas/io/parsers.py\u001b[0m in \u001b[0;36mread_csv\u001b[0;34m(filepath_or_buffer, sep, delimiter, header, names, index_col, usecols, squeeze, prefix, mangle_dupe_cols, dtype, engine, converters, true_values, false_values, skipinitialspace, skiprows, skipfooter, nrows, na_values, keep_default_na, na_filter, verbose, skip_blank_lines, parse_dates, infer_datetime_format, keep_date_col, date_parser, dayfirst, cache_dates, iterator, chunksize, compression, thousands, decimal, lineterminator, quotechar, quoting, doublequote, escapechar, comment, encoding, dialect, error_bad_lines, warn_bad_lines, delim_whitespace, low_memory, memory_map, float_precision)\u001b[0m\n\u001b[1;32m    686\u001b[0m     )\n\u001b[1;32m    687\u001b[0m \u001b[0;34m\u001b[0m\u001b[0m\n\u001b[0;32m--> 688\u001b[0;31m     \u001b[0;32mreturn\u001b[0m \u001b[0m_read\u001b[0m\u001b[0;34m(\u001b[0m\u001b[0mfilepath_or_buffer\u001b[0m\u001b[0;34m,\u001b[0m \u001b[0mkwds\u001b[0m\u001b[0;34m)\u001b[0m\u001b[0;34m\u001b[0m\u001b[0;34m\u001b[0m\u001b[0m\n\u001b[0m\u001b[1;32m    689\u001b[0m \u001b[0;34m\u001b[0m\u001b[0m\n\u001b[1;32m    690\u001b[0m \u001b[0;34m\u001b[0m\u001b[0m\n",
            "\u001b[0;32m/usr/local/lib/python3.7/dist-packages/pandas/io/parsers.py\u001b[0m in \u001b[0;36m_read\u001b[0;34m(filepath_or_buffer, kwds)\u001b[0m\n\u001b[1;32m    458\u001b[0m \u001b[0;34m\u001b[0m\u001b[0m\n\u001b[1;32m    459\u001b[0m     \u001b[0;32mtry\u001b[0m\u001b[0;34m:\u001b[0m\u001b[0;34m\u001b[0m\u001b[0;34m\u001b[0m\u001b[0m\n\u001b[0;32m--> 460\u001b[0;31m         \u001b[0mdata\u001b[0m \u001b[0;34m=\u001b[0m \u001b[0mparser\u001b[0m\u001b[0;34m.\u001b[0m\u001b[0mread\u001b[0m\u001b[0;34m(\u001b[0m\u001b[0mnrows\u001b[0m\u001b[0;34m)\u001b[0m\u001b[0;34m\u001b[0m\u001b[0;34m\u001b[0m\u001b[0m\n\u001b[0m\u001b[1;32m    461\u001b[0m     \u001b[0;32mfinally\u001b[0m\u001b[0;34m:\u001b[0m\u001b[0;34m\u001b[0m\u001b[0;34m\u001b[0m\u001b[0m\n\u001b[1;32m    462\u001b[0m         \u001b[0mparser\u001b[0m\u001b[0;34m.\u001b[0m\u001b[0mclose\u001b[0m\u001b[0;34m(\u001b[0m\u001b[0;34m)\u001b[0m\u001b[0;34m\u001b[0m\u001b[0;34m\u001b[0m\u001b[0m\n",
            "\u001b[0;32m/usr/local/lib/python3.7/dist-packages/pandas/io/parsers.py\u001b[0m in \u001b[0;36mread\u001b[0;34m(self, nrows)\u001b[0m\n\u001b[1;32m   1196\u001b[0m     \u001b[0;32mdef\u001b[0m \u001b[0mread\u001b[0m\u001b[0;34m(\u001b[0m\u001b[0mself\u001b[0m\u001b[0;34m,\u001b[0m \u001b[0mnrows\u001b[0m\u001b[0;34m=\u001b[0m\u001b[0;32mNone\u001b[0m\u001b[0;34m)\u001b[0m\u001b[0;34m:\u001b[0m\u001b[0;34m\u001b[0m\u001b[0;34m\u001b[0m\u001b[0m\n\u001b[1;32m   1197\u001b[0m         \u001b[0mnrows\u001b[0m \u001b[0;34m=\u001b[0m \u001b[0m_validate_integer\u001b[0m\u001b[0;34m(\u001b[0m\u001b[0;34m\"nrows\"\u001b[0m\u001b[0;34m,\u001b[0m \u001b[0mnrows\u001b[0m\u001b[0;34m)\u001b[0m\u001b[0;34m\u001b[0m\u001b[0;34m\u001b[0m\u001b[0m\n\u001b[0;32m-> 1198\u001b[0;31m         \u001b[0mret\u001b[0m \u001b[0;34m=\u001b[0m \u001b[0mself\u001b[0m\u001b[0;34m.\u001b[0m\u001b[0m_engine\u001b[0m\u001b[0;34m.\u001b[0m\u001b[0mread\u001b[0m\u001b[0;34m(\u001b[0m\u001b[0mnrows\u001b[0m\u001b[0;34m)\u001b[0m\u001b[0;34m\u001b[0m\u001b[0;34m\u001b[0m\u001b[0m\n\u001b[0m\u001b[1;32m   1199\u001b[0m \u001b[0;34m\u001b[0m\u001b[0m\n\u001b[1;32m   1200\u001b[0m         \u001b[0;31m# May alter columns / col_dict\u001b[0m\u001b[0;34m\u001b[0m\u001b[0;34m\u001b[0m\u001b[0;34m\u001b[0m\u001b[0m\n",
            "\u001b[0;32m/usr/local/lib/python3.7/dist-packages/pandas/io/parsers.py\u001b[0m in \u001b[0;36mread\u001b[0;34m(self, nrows)\u001b[0m\n\u001b[1;32m   2155\u001b[0m     \u001b[0;32mdef\u001b[0m \u001b[0mread\u001b[0m\u001b[0;34m(\u001b[0m\u001b[0mself\u001b[0m\u001b[0;34m,\u001b[0m \u001b[0mnrows\u001b[0m\u001b[0;34m=\u001b[0m\u001b[0;32mNone\u001b[0m\u001b[0;34m)\u001b[0m\u001b[0;34m:\u001b[0m\u001b[0;34m\u001b[0m\u001b[0;34m\u001b[0m\u001b[0m\n\u001b[1;32m   2156\u001b[0m         \u001b[0;32mtry\u001b[0m\u001b[0;34m:\u001b[0m\u001b[0;34m\u001b[0m\u001b[0;34m\u001b[0m\u001b[0m\n\u001b[0;32m-> 2157\u001b[0;31m             \u001b[0mdata\u001b[0m \u001b[0;34m=\u001b[0m \u001b[0mself\u001b[0m\u001b[0;34m.\u001b[0m\u001b[0m_reader\u001b[0m\u001b[0;34m.\u001b[0m\u001b[0mread\u001b[0m\u001b[0;34m(\u001b[0m\u001b[0mnrows\u001b[0m\u001b[0;34m)\u001b[0m\u001b[0;34m\u001b[0m\u001b[0;34m\u001b[0m\u001b[0m\n\u001b[0m\u001b[1;32m   2158\u001b[0m         \u001b[0;32mexcept\u001b[0m \u001b[0mStopIteration\u001b[0m\u001b[0;34m:\u001b[0m\u001b[0;34m\u001b[0m\u001b[0;34m\u001b[0m\u001b[0m\n\u001b[1;32m   2159\u001b[0m             \u001b[0;32mif\u001b[0m \u001b[0mself\u001b[0m\u001b[0;34m.\u001b[0m\u001b[0m_first_chunk\u001b[0m\u001b[0;34m:\u001b[0m\u001b[0;34m\u001b[0m\u001b[0;34m\u001b[0m\u001b[0m\n",
            "\u001b[0;32mpandas/_libs/parsers.pyx\u001b[0m in \u001b[0;36mpandas._libs.parsers.TextReader.read\u001b[0;34m()\u001b[0m\n",
            "\u001b[0;32mpandas/_libs/parsers.pyx\u001b[0m in \u001b[0;36mpandas._libs.parsers.TextReader._read_low_memory\u001b[0;34m()\u001b[0m\n",
            "\u001b[0;32mpandas/_libs/parsers.pyx\u001b[0m in \u001b[0;36mpandas._libs.parsers.TextReader._read_rows\u001b[0;34m()\u001b[0m\n",
            "\u001b[0;32mpandas/_libs/parsers.pyx\u001b[0m in \u001b[0;36mpandas._libs.parsers.TextReader._convert_column_data\u001b[0;34m()\u001b[0m\n",
            "\u001b[0;32mpandas/_libs/parsers.pyx\u001b[0m in \u001b[0;36mpandas._libs.parsers.TextReader._convert_tokens\u001b[0;34m()\u001b[0m\n",
            "\u001b[0;32mpandas/_libs/parsers.pyx\u001b[0m in \u001b[0;36mpandas._libs.parsers.TextReader._convert_with_dtype\u001b[0;34m()\u001b[0m\n",
            "\u001b[0;32mpandas/_libs/parsers.pyx\u001b[0m in \u001b[0;36mpandas._libs.parsers.TextReader._string_convert\u001b[0;34m()\u001b[0m\n",
            "\u001b[0;32mpandas/_libs/parsers.pyx\u001b[0m in \u001b[0;36mpandas._libs.parsers._string_box_utf8\u001b[0;34m()\u001b[0m\n",
            "\u001b[0;31mUnicodeDecodeError\u001b[0m: 'utf-8' codec can't decode byte 0xef in position 4: invalid continuation byte"
          ]
        }
      ]
    }
  ]
}