{
  "nbformat": 4,
  "nbformat_minor": 0,
  "metadata": {
    "colab": {
      "name": "Copy of NN_walkthrough",
      "provenance": [],
      "include_colab_link": true
    },
    "kernelspec": {
      "name": "python3",
      "display_name": "Python 3"
    },
    "language_info": {
      "name": "python"
    }
  },
  "cells": [
    {
      "cell_type": "markdown",
      "metadata": {
        "id": "view-in-github",
        "colab_type": "text"
      },
      "source": [
        "<a href=\"https://colab.research.google.com/github/hazrakeruboO/DS-Colabs/blob/main/Copy_of_NN_walkthrough.ipynb\" target=\"_parent\"><img src=\"https://colab.research.google.com/assets/colab-badge.svg\" alt=\"Open In Colab\"/></a>"
      ]
    },
    {
      "cell_type": "markdown",
      "source": [
        "# Neural network\n",
        "\n",
        "1. How do they work\n",
        "\n",
        "![Neural](https://www.knime.com/sites/default/files/3-intro-deep-neural-networks.png)\n",
        "\n",
        "* Forward pass\n",
        "\n",
        "* Gradient-descent and Back-propagation\n",
        "\n",
        "![back](https://miro.medium.com/max/1400/1*LB10KFg5J7yK1MLxTXcLdQ.jpeg)\n",
        "\n",
        "![grad](https://miro.medium.com/max/600/1*iNPHcCxIvcm7RwkRaMTx1g.jpeg)\n",
        "\n",
        "![form](https://media.geeksforgeeks.org/wp-content/uploads/20200611183120/1406-7.png)\n",
        "\n",
        "\n",
        "2. Different activation functions\n",
        "\n",
        "![act](https://www.researchgate.net/profile/Junxi-Feng/publication/335845675/figure/fig3/AS:804124836765699@1568729709680/Commonly-used-activation-functions-a-Sigmoid-b-Tanh-c-ReLU-and-d-LReLU.ppm)\n",
        "\n",
        "\n",
        "3. Different architectures\n",
        "\n",
        "CNN\n",
        "\n",
        "![cnn](https://www.researchgate.net/profile/Jose-Benitez-Andrades/publication/339447623/figure/fig2/AS:862056077082627@1582541593714/A-vanilla-Convolutional-Neural-Network-CNN-representation.png)\n",
        "\n",
        "RNN and its variations\n",
        "\n",
        "![rnn](https://miro.medium.com/max/1200/1*QFOzE0TEMFERg3G5_5HiPA.png)\n",
        "\n",
        "Transformers\n",
        "\n",
        "![transformers](https://miro.medium.com/max/1838/1*BHzGVskWGS_3jEcYYi6miQ.png)\n",
        "\n",
        "Autoencoders\n",
        "\n",
        "![auto](https://d1m75rqqgidzqn.cloudfront.net/wp-data/2020/04/29202749/Blog_info_29-04-2020-R-02-1024x522.png)\n",
        "\n",
        "GANs\n",
        "\n",
        "![gans](https://miro.medium.com/max/1394/1*fd3QUV45REqZ_f7tjYs31g.png)\n",
        "\n",
        "\n",
        "\n",
        "4. What to note\n",
        "\n",
        "* Wny NN are special\n",
        "\n",
        "* but are they?\n",
        "\n",
        "![joke](https://i.kym-cdn.com/photos/images/original/001/449/433/3cb.jpg)"
      ],
      "metadata": {
        "id": "Mo2Iibt5uLzg"
      }
    },
    {
      "cell_type": "markdown",
      "source": [
        "# Deepdive into the architectures\n",
        "\n",
        "CNN\n",
        "\n",
        "RNN and its variations\n",
        "\n",
        "Transformers"
      ],
      "metadata": {
        "id": "8aK1vJ0TaoWY"
      }
    },
    {
      "cell_type": "markdown",
      "source": [
        "## CNN\n",
        "\n",
        "Project examples:\n",
        "\n",
        "* Pothole prediction\n",
        "\n",
        "* Animal classification\n",
        "\n",
        "* Object classification\n",
        "\n",
        "[Pothole detection](https://colab.research.google.com/drive/1bFFyaqjRj2bk067vE-FyV7_rG_LrWc4s?usp=sharing)"
      ],
      "metadata": {
        "id": "_NGuZ2wJa8E-"
      }
    },
    {
      "cell_type": "markdown",
      "source": [
        "## RNN and its variation\n",
        "\n",
        "* Language models\n",
        "\n",
        "* Predicting prices or payment\n",
        "\n",
        "[Language model](https://colab.research.google.com/drive/10Hr85-0WJuopxHIPOZFjAdtpNh7YDLXX?usp=sharing)\n",
        "\n",
        "[Predicting payment](https://colab.research.google.com/drive/11NPl5Jym63--UBGkOYBx2OZY0wEH09iA?usp=sharing)"
      ],
      "metadata": {
        "id": "qOpeSwQ3ck0n"
      }
    },
    {
      "cell_type": "markdown",
      "source": [
        "## Transformers\n",
        "\n",
        "* Machine translation\n",
        "\n",
        "* Object detection(vision transformers)\n",
        "\n",
        "[Yoruba translation](https://colab.research.google.com/drive/1TdXR6hl5U81jnq1_Z-dxk-owhG4mHsCD?usp=sharing)"
      ],
      "metadata": {
        "id": "MRNAAB3IeHh4"
      }
    }
  ]
}