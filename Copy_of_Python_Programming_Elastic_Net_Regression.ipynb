{
  "nbformat": 4,
  "nbformat_minor": 0,
  "metadata": {
    "colab": {
      "name": "Copy of Python Programming: Elastic Net Regression ",
      "provenance": [],
      "collapsed_sections": [
        "FIDC997cqqjr",
        "UWfQDCKZOrYe",
        "b6lsTHPfPQHR"
      ],
      "toc_visible": true,
      "include_colab_link": true
    },
    "kernelspec": {
      "name": "python3",
      "display_name": "Python 3"
    }
  },
  "cells": [
    {
      "cell_type": "markdown",
      "metadata": {
        "id": "view-in-github",
        "colab_type": "text"
      },
      "source": [
        "<a href=\"https://colab.research.google.com/github/hazrakeruboO/DS-Colabs/blob/main/Copy_of_Python_Programming_Elastic_Net_Regression.ipynb\" target=\"_parent\"><img src=\"https://colab.research.google.com/assets/colab-badge.svg\" alt=\"Open In Colab\"/></a>"
      ]
    },
    {
      "cell_type": "markdown",
      "metadata": {
        "id": "BpmQjuappoy8"
      },
      "source": [
        "<font color=\"green\">*To start working on this notebook, or any other notebook that we will use in the Moringa Data Science Course, we will need to save our own copy of it. We can do this by clicking File > Save a Copy in Drive. We will then be able to make edits to our own copy of this notebook.*</font>"
      ]
    },
    {
      "cell_type": "markdown",
      "metadata": {
        "id": "HNe8t7dVpbpu"
      },
      "source": [
        "# Python Programming: Elastic Net Regression "
      ]
    },
    {
      "cell_type": "markdown",
      "metadata": {
        "id": "scuAwXisqKmw"
      },
      "source": [
        "## Example"
      ]
    },
    {
      "cell_type": "code",
      "metadata": {
        "id": "Ny4eVDS-pRjg",
        "colab": {
          "base_uri": "https://localhost:8080/"
        },
        "outputId": "ce900382-1a62-4b85-be02-5116e496d799"
      },
      "source": [
        "# Example 1\n",
        "# ---\n",
        "# Use the fair dataset from the pydataset library to predict marriage satisfaction based on the given variables.\n",
        "# ---\n",
        "# \n",
        "!pip install pydataset"
      ],
      "execution_count": null,
      "outputs": [
        {
          "output_type": "stream",
          "name": "stdout",
          "text": [
            "Requirement already satisfied: pydataset in /usr/local/lib/python3.7/dist-packages (0.2.0)\n",
            "Requirement already satisfied: pandas in /usr/local/lib/python3.7/dist-packages (from pydataset) (1.1.5)\n",
            "Requirement already satisfied: python-dateutil>=2.7.3 in /usr/local/lib/python3.7/dist-packages (from pandas->pydataset) (2.8.2)\n",
            "Requirement already satisfied: numpy>=1.15.4 in /usr/local/lib/python3.7/dist-packages (from pandas->pydataset) (1.19.5)\n",
            "Requirement already satisfied: pytz>=2017.2 in /usr/local/lib/python3.7/dist-packages (from pandas->pydataset) (2018.9)\n",
            "Requirement already satisfied: six>=1.5 in /usr/local/lib/python3.7/dist-packages (from python-dateutil>=2.7.3->pandas->pydataset) (1.15.0)\n"
          ]
        }
      ]
    },
    {
      "cell_type": "code",
      "metadata": {
        "id": "_5Ce8nt6rLpz",
        "colab": {
          "base_uri": "https://localhost:8080/",
          "height": 363
        },
        "outputId": "635aef3b-7f59-4307-96d8-67bb428f71b9"
      },
      "source": [
        "# Importing our libraries\n",
        "# \n",
        "from pydataset import data\n",
        "import numpy as np\n",
        "import pandas as pd\n",
        "pd.set_option('display.max_rows', 5000)\n",
        "pd.set_option('display.max_columns', 5000)\n",
        "pd.set_option('display.width', 10000)\n",
        "\n",
        "from sklearn.model_selection import GridSearchCV\n",
        "from sklearn.linear_model import ElasticNet\n",
        "from sklearn.linear_model import LinearRegression\n",
        "from sklearn.metrics import mean_squared_error"
      ],
      "execution_count": null,
      "outputs": [
        {
          "output_type": "error",
          "ename": "ModuleNotFoundError",
          "evalue": "ignored",
          "traceback": [
            "\u001b[0;31m---------------------------------------------------------------------------\u001b[0m",
            "\u001b[0;31mModuleNotFoundError\u001b[0m                       Traceback (most recent call last)",
            "\u001b[0;32m<ipython-input-1-1de4e601a810>\u001b[0m in \u001b[0;36m<module>\u001b[0;34m()\u001b[0m\n\u001b[1;32m      1\u001b[0m \u001b[0;31m# Importing our libraries\u001b[0m\u001b[0;34m\u001b[0m\u001b[0;34m\u001b[0m\u001b[0;34m\u001b[0m\u001b[0m\n\u001b[1;32m      2\u001b[0m \u001b[0;31m#\u001b[0m\u001b[0;34m\u001b[0m\u001b[0;34m\u001b[0m\u001b[0;34m\u001b[0m\u001b[0m\n\u001b[0;32m----> 3\u001b[0;31m \u001b[0;32mfrom\u001b[0m \u001b[0mpydataset\u001b[0m \u001b[0;32mimport\u001b[0m \u001b[0mdata\u001b[0m\u001b[0;34m\u001b[0m\u001b[0;34m\u001b[0m\u001b[0m\n\u001b[0m\u001b[1;32m      4\u001b[0m \u001b[0;32mimport\u001b[0m \u001b[0mnumpy\u001b[0m \u001b[0;32mas\u001b[0m \u001b[0mnp\u001b[0m\u001b[0;34m\u001b[0m\u001b[0;34m\u001b[0m\u001b[0m\n\u001b[1;32m      5\u001b[0m \u001b[0;32mimport\u001b[0m \u001b[0mpandas\u001b[0m \u001b[0;32mas\u001b[0m \u001b[0mpd\u001b[0m\u001b[0;34m\u001b[0m\u001b[0;34m\u001b[0m\u001b[0m\n",
            "\u001b[0;31mModuleNotFoundError\u001b[0m: No module named 'pydataset'",
            "",
            "\u001b[0;31m---------------------------------------------------------------------------\u001b[0;32m\nNOTE: If your import is failing due to a missing package, you can\nmanually install dependencies using either !pip or !apt.\n\nTo view examples of installing some common dependencies, click the\n\"Open Examples\" button below.\n\u001b[0;31m---------------------------------------------------------------------------\u001b[0m\n"
          ]
        }
      ]
    },
    {
      "cell_type": "code",
      "metadata": {
        "id": "DSdAir83rPwt"
      },
      "source": [
        "# Data preparation\n",
        "# \n",
        "df=pd.DataFrame(data('Fair'))\n",
        "df.loc[df.sex== 'male', 'sex'] = 0\n",
        "df.loc[df.sex== 'female','sex'] = 1\n",
        "df['sex'] = df['sex'].astype(int)\n",
        "df.loc[df.child== 'no', 'child'] = 0\n",
        "df.loc[df.child== 'yes','child'] = 1\n",
        "df['child'] = df['child'].astype(int)\n",
        "X=df[['religious','age','sex','ym','education','occupation','nbaffairs']]\n",
        "y=df['rate']"
      ],
      "execution_count": null,
      "outputs": []
    },
    {
      "cell_type": "code",
      "metadata": {
        "id": "YRhDWYgprhNy"
      },
      "source": [
        "# Creating our linear regression model for the purpose of comparison\n",
        "# \n",
        "regression=LinearRegression()\n",
        "regression.fit(X,y)\n",
        "first_model=(mean_squared_error(y_true=y,y_pred=regression.predict(X)))\n",
        "print(first_model) \n",
        "\n",
        "# This mean standard error score of 1.05 is our benchmark for determining \n",
        "# if the elastic net model will be better or worst. "
      ],
      "execution_count": null,
      "outputs": []
    },
    {
      "cell_type": "code",
      "metadata": {
        "id": "Itfl2nFNrnXD"
      },
      "source": [
        "# Below are the coefficients of this first model. We use a for loop to go through \n",
        "# the model and the zip function to combine the two columns.\n",
        "# \n",
        "coef_dict_baseline = {}\n",
        "for coef, feat in zip(regression.coef_,X.columns):\n",
        "    coef_dict_baseline[feat] = coef\n",
        "coef_dict_baseline"
      ],
      "execution_count": null,
      "outputs": []
    },
    {
      "cell_type": "code",
      "metadata": {
        "id": "slBa3TuPsQ5A"
      },
      "source": [
        "# Elastic Net Model\n",
        "# Elastic net, just like ridge and lasso regression, requires normalize data. \n",
        "# This argument  is set inside the ElasticNet function. \n",
        "# The second thing we need to do is create our grid.\n",
        "# \n",
        "elastic=ElasticNet(normalize=True)\n",
        "search=GridSearchCV(estimator=elastic,param_grid={'alpha':np.logspace(-5,2,8),'l1_ratio':[.2,.4,.6,.8]},scoring='neg_mean_squared_error',n_jobs=1,refit=True,cv=10)"
      ],
      "execution_count": null,
      "outputs": []
    },
    {
      "cell_type": "code",
      "metadata": {
        "id": "wKMvWkn7sxao"
      },
      "source": [
        "# We will now fit our model and display the best parameters and the best results we can get with that setup.\n",
        "# \n",
        "search.fit(X,y)\n",
        "search.best_params_\n",
        "abs(search.best_score_)"
      ],
      "execution_count": null,
      "outputs": []
    },
    {
      "cell_type": "code",
      "metadata": {
        "id": "fT4WbUDSs9xu"
      },
      "source": [
        "# The best hyperparameters was an alpha set to 0.001 and a l1_ratio of 0.8. \n",
        "# With these settings we got an MSE of 1.08. This is above our baseline model of MSE 1.05  for the baseline model. \n",
        "# Which means that elastic net is doing worse than linear regression. \n",
        "# For clarity, we will set our hyperparameters to the recommended values and run on the data.\n",
        "# \n",
        "elastic=ElasticNet(normalize=True,alpha=0.001,l1_ratio=0.75)\n",
        "elastic.fit(X,y)\n",
        "second_model=(mean_squared_error(y_true=y,y_pred=elastic.predict(X)))\n",
        "print(second_model)"
      ],
      "execution_count": null,
      "outputs": []
    },
    {
      "cell_type": "code",
      "metadata": {
        "id": "gpzR2KETtPDY"
      },
      "source": [
        "# Below are the coefficients\n",
        "# \n",
        "coef_dict_baseline = {}\n",
        "for coef, feat in zip(elastic.coef_,X.columns):\n",
        "    coef_dict_baseline[feat] = coef\n",
        "coef_dict_baseline\n",
        "\n",
        "# The coefficients are mostly the same. \n",
        "# Notice that occupation was completely removed from the model in the elastic net version. \n",
        "# This means that this values was no good to the algorithm. Traditional regression cannot do this."
      ],
      "execution_count": null,
      "outputs": []
    },
    {
      "cell_type": "markdown",
      "metadata": {
        "id": "oSFgsKKXqIiB"
      },
      "source": [
        "## Challenges"
      ]
    },
    {
      "cell_type": "markdown",
      "metadata": {
        "id": "eg6xL93DqlFp"
      },
      "source": [
        "### <font color=\"green\">Challenge 1</font>"
      ]
    },
    {
      "cell_type": "code",
      "metadata": {
        "id": "tggiLGHzqcaJ",
        "colab": {
          "base_uri": "https://localhost:8080/",
          "height": 204
        },
        "outputId": "0894abc0-2f13-4f8f-cfe5-f3f91ee95e9b"
      },
      "source": [
        "# Challenge 1\n",
        "# ---\n",
        "# Question: Using the given housiet, create a regression model to predict \n",
        "# the value of prices of a house using the given features. \n",
        "# ---\n",
        "# Dataset url = http://bit.ly/BostonHousingDataset\n",
        "# ---\n",
        "import numpy as np\n",
        "import pandas as pd\n",
        "import seaborn as sns\n",
        "import matplotlib.pyplot as plt\n",
        "bostona=pd.read_csv('http://bit.ly/BostonHousingDataset')\n",
        "bostona.head()"
      ],
      "execution_count": null,
      "outputs": [
        {
          "output_type": "execute_result",
          "data": {
            "text/html": [
              "<div>\n",
              "<style scoped>\n",
              "    .dataframe tbody tr th:only-of-type {\n",
              "        vertical-align: middle;\n",
              "    }\n",
              "\n",
              "    .dataframe tbody tr th {\n",
              "        vertical-align: top;\n",
              "    }\n",
              "\n",
              "    .dataframe thead th {\n",
              "        text-align: right;\n",
              "    }\n",
              "</style>\n",
              "<table border=\"1\" class=\"dataframe\">\n",
              "  <thead>\n",
              "    <tr style=\"text-align: right;\">\n",
              "      <th></th>\n",
              "      <th>crim</th>\n",
              "      <th>zn</th>\n",
              "      <th>indus</th>\n",
              "      <th>chas</th>\n",
              "      <th>nox</th>\n",
              "      <th>rm</th>\n",
              "      <th>age</th>\n",
              "      <th>dis</th>\n",
              "      <th>rad</th>\n",
              "      <th>tax</th>\n",
              "      <th>ptratio</th>\n",
              "      <th>b</th>\n",
              "      <th>lstat</th>\n",
              "      <th>medv</th>\n",
              "    </tr>\n",
              "  </thead>\n",
              "  <tbody>\n",
              "    <tr>\n",
              "      <th>0</th>\n",
              "      <td>0.00632</td>\n",
              "      <td>18.0</td>\n",
              "      <td>2.31</td>\n",
              "      <td>0</td>\n",
              "      <td>0.538</td>\n",
              "      <td>6.575</td>\n",
              "      <td>65.2</td>\n",
              "      <td>4.0900</td>\n",
              "      <td>1</td>\n",
              "      <td>296</td>\n",
              "      <td>15.3</td>\n",
              "      <td>396.90</td>\n",
              "      <td>4.98</td>\n",
              "      <td>24.0</td>\n",
              "    </tr>\n",
              "    <tr>\n",
              "      <th>1</th>\n",
              "      <td>0.02731</td>\n",
              "      <td>0.0</td>\n",
              "      <td>7.07</td>\n",
              "      <td>0</td>\n",
              "      <td>0.469</td>\n",
              "      <td>6.421</td>\n",
              "      <td>78.9</td>\n",
              "      <td>4.9671</td>\n",
              "      <td>2</td>\n",
              "      <td>242</td>\n",
              "      <td>17.8</td>\n",
              "      <td>396.90</td>\n",
              "      <td>9.14</td>\n",
              "      <td>21.6</td>\n",
              "    </tr>\n",
              "    <tr>\n",
              "      <th>2</th>\n",
              "      <td>0.02729</td>\n",
              "      <td>0.0</td>\n",
              "      <td>7.07</td>\n",
              "      <td>0</td>\n",
              "      <td>0.469</td>\n",
              "      <td>7.185</td>\n",
              "      <td>61.1</td>\n",
              "      <td>4.9671</td>\n",
              "      <td>2</td>\n",
              "      <td>242</td>\n",
              "      <td>17.8</td>\n",
              "      <td>392.83</td>\n",
              "      <td>4.03</td>\n",
              "      <td>34.7</td>\n",
              "    </tr>\n",
              "    <tr>\n",
              "      <th>3</th>\n",
              "      <td>0.03237</td>\n",
              "      <td>0.0</td>\n",
              "      <td>2.18</td>\n",
              "      <td>0</td>\n",
              "      <td>0.458</td>\n",
              "      <td>6.998</td>\n",
              "      <td>45.8</td>\n",
              "      <td>6.0622</td>\n",
              "      <td>3</td>\n",
              "      <td>222</td>\n",
              "      <td>18.7</td>\n",
              "      <td>394.63</td>\n",
              "      <td>2.94</td>\n",
              "      <td>33.4</td>\n",
              "    </tr>\n",
              "    <tr>\n",
              "      <th>4</th>\n",
              "      <td>0.06905</td>\n",
              "      <td>0.0</td>\n",
              "      <td>2.18</td>\n",
              "      <td>0</td>\n",
              "      <td>0.458</td>\n",
              "      <td>7.147</td>\n",
              "      <td>54.2</td>\n",
              "      <td>6.0622</td>\n",
              "      <td>3</td>\n",
              "      <td>222</td>\n",
              "      <td>18.7</td>\n",
              "      <td>396.90</td>\n",
              "      <td>5.33</td>\n",
              "      <td>36.2</td>\n",
              "    </tr>\n",
              "  </tbody>\n",
              "</table>\n",
              "</div>"
            ],
            "text/plain": [
              "      crim    zn  indus  chas    nox  ...  tax  ptratio       b  lstat  medv\n",
              "0  0.00632  18.0   2.31     0  0.538  ...  296     15.3  396.90   4.98  24.0\n",
              "1  0.02731   0.0   7.07     0  0.469  ...  242     17.8  396.90   9.14  21.6\n",
              "2  0.02729   0.0   7.07     0  0.469  ...  242     17.8  392.83   4.03  34.7\n",
              "3  0.03237   0.0   2.18     0  0.458  ...  222     18.7  394.63   2.94  33.4\n",
              "4  0.06905   0.0   2.18     0  0.458  ...  222     18.7  396.90   5.33  36.2\n",
              "\n",
              "[5 rows x 14 columns]"
            ]
          },
          "metadata": {},
          "execution_count": 31
        }
      ]
    },
    {
      "cell_type": "code",
      "metadata": {
        "id": "p24-A3g0DdtA"
      },
      "source": [
        "from sklearn.datasets import load_boston\n",
        "from sklearn.linear_model import LinearRegression\n",
        "from sklearn.metrics import mean_absolute_error,mean_squared_error"
      ],
      "execution_count": null,
      "outputs": []
    },
    {
      "cell_type": "code",
      "metadata": {
        "colab": {
          "base_uri": "https://localhost:8080/"
        },
        "id": "zePnaZs0DdxB",
        "outputId": "7f2484c2-47a9-40ec-f2f1-ba75240e8aec"
      },
      "source": [
        "boston.keys()"
      ],
      "execution_count": null,
      "outputs": [
        {
          "output_type": "execute_result",
          "data": {
            "text/plain": [
              "Index(['crim', 'zn', 'indus', 'chas', 'nox', 'rm', 'age', 'dis', 'rad', 'tax',\n",
              "       'ptratio', 'b', 'lstat', 'medv'],\n",
              "      dtype='object')"
            ]
          },
          "metadata": {},
          "execution_count": 19
        }
      ]
    },
    {
      "cell_type": "code",
      "metadata": {
        "colab": {
          "base_uri": "https://localhost:8080/"
        },
        "id": "ziqELXKhGyaR",
        "outputId": "013b0bd9-f444-4d4b-96ff-174a28fe8d88"
      },
      "source": [
        "boston.dtypes"
      ],
      "execution_count": null,
      "outputs": [
        {
          "output_type": "execute_result",
          "data": {
            "text/plain": [
              "crim       float64\n",
              "zn         float64\n",
              "indus      float64\n",
              "chas         int64\n",
              "nox        float64\n",
              "rm         float64\n",
              "age        float64\n",
              "dis        float64\n",
              "rad          int64\n",
              "tax          int64\n",
              "ptratio    float64\n",
              "b          float64\n",
              "lstat      float64\n",
              "medv       float64\n",
              "dtype: object"
            ]
          },
          "metadata": {},
          "execution_count": 20
        }
      ]
    },
    {
      "cell_type": "code",
      "metadata": {
        "id": "hZ8n9nLiNvqm"
      },
      "source": [
        "boston.feature_names"
      ],
      "execution_count": null,
      "outputs": []
    },
    {
      "cell_type": "code",
      "metadata": {
        "id": "Ci1p-xPDDdzd"
      },
      "source": [
        "boston.target"
      ],
      "execution_count": null,
      "outputs": []
    },
    {
      "cell_type": "code",
      "metadata": {
        "id": "AcmutHkgGQ-Y"
      },
      "source": [
        "data= boston.data\n",
        "type(data)"
      ],
      "execution_count": null,
      "outputs": []
    },
    {
      "cell_type": "code",
      "metadata": {
        "id": "D_cZtyBJDd_n"
      },
      "source": [
        "data.shape"
      ],
      "execution_count": null,
      "outputs": []
    },
    {
      "cell_type": "code",
      "metadata": {
        "id": "Xyeh_VlIDeCt"
      },
      "source": [
        "data=pd.DataFrame(data=data,columns=boston.feature_names)\n",
        "data.head()"
      ],
      "execution_count": null,
      "outputs": []
    },
    {
      "cell_type": "code",
      "metadata": {
        "id": "ioHmZsUjTQ93"
      },
      "source": [
        "# added the price column\n",
        "data['price']=boston.target\n",
        "data.head()"
      ],
      "execution_count": null,
      "outputs": []
    },
    {
      "cell_type": "code",
      "metadata": {
        "id": "IbnPyVQUTQ7C"
      },
      "source": [
        "#understanding the data\n",
        "data.describe"
      ],
      "execution_count": null,
      "outputs": []
    },
    {
      "cell_type": "code",
      "metadata": {
        "id": "ME_jcuZPTQ4P"
      },
      "source": [
        "data.info()"
      ],
      "execution_count": null,
      "outputs": []
    },
    {
      "cell_type": "code",
      "metadata": {
        "id": "KwGRniKyTQ1M"
      },
      "source": [
        "data.isnull().sum()"
      ],
      "execution_count": null,
      "outputs": []
    },
    {
      "cell_type": "code",
      "metadata": {
        "id": "p5g0pZ2oDeFZ",
        "colab": {
          "base_uri": "https://localhost:8080/"
        },
        "outputId": "f97648fb-afae-46d5-e951-f440b60eff74"
      },
      "source": [
        "#next step is data visualization\n",
        "sns.pairplot(data)"
      ],
      "execution_count": null,
      "outputs": [
        {
          "output_type": "execute_result",
          "data": {
            "text/plain": [
              "<seaborn.axisgrid.PairGrid at 0x7f3818308290>"
            ]
          },
          "metadata": {},
          "execution_count": 37
        }
      ]
    },
    {
      "cell_type": "code",
      "metadata": {
        "id": "BRtz3UC5V7Hp"
      },
      "source": [
        "# to find correlation of features with price,we plot a correlation matrix\n",
        "#Hi correlation means there a high chance pf predicability with price\n",
        "# next is plotting a distribution plot\n",
        "# if features are skewed,its not gonna help us with prediction,hence we need a dist plot for this.\n",
        "#skewed features will increase complexity of model and reduce accuracy of the model"
      ],
      "execution_count": null,
      "outputs": []
    },
    {
      "cell_type": "code",
      "metadata": {
        "id": "MDJYrWZJV7Kk"
      },
      "source": [
        "rows=2\n",
        "cols=7\n",
        "fif.ax =plt.subplot(nrows=rows,ncols=cols,figsize=16,4)\n",
        "\n",
        "col=data.columns\n",
        "index=0\n",
        " for i in range(rows):\n",
        "   for i in range (cols):\n",
        "     sns.displot(data=[col[index]],ax=ax[i],[j])\n",
        "     index=index+1\n",
        "\n",
        "\n",
        "\n",
        "plt.tight_layout()"
      ],
      "execution_count": null,
      "outputs": []
    },
    {
      "cell_type": "code",
      "metadata": {
        "id": "YRUAfCCgV7NK"
      },
      "source": [
        "# you can remove features which are highly skewed,keep the ones which are normally distributed'\n",
        "# negative crr shows if x increases y decreases\n",
        "corrmat=data.corr()\n",
        "corrmat\n",
        "\n"
      ],
      "execution_count": null,
      "outputs": []
    },
    {
      "cell_type": "code",
      "metadata": {
        "id": "mKRi1fw_V7PZ"
      },
      "source": [
        "fig, ax = plt.subplot(figsize=(18,10))\n",
        "sns.heatmap(corr,annot=True,annot_kws='size':32)"
      ],
      "execution_count": null,
      "outputs": []
    },
    {
      "cell_type": "code",
      "metadata": {
        "id": "MBqjZ16-psQX"
      },
      "source": [
        "corrmat.index.values"
      ],
      "execution_count": null,
      "outputs": []
    },
    {
      "cell_type": "code",
      "metadata": {
        "id": "S1-u2TahV7SK"
      },
      "source": [
        "#creating a feature that is highl orrelated with our target variable which is the price\n",
        "def getcorrelatedfeature(corrdata,threshold):\n",
        "  if abs(corrdata[index])> threshold:\n",
        "    feature.append(index)\n",
        "    value.append9corrdata[index])\n",
        "  df=df.DataFrame(data=value,index=feature,columns={'corr value'})\n",
        "  return df\n"
      ],
      "execution_count": null,
      "outputs": []
    },
    {
      "cell_type": "code",
      "metadata": {
        "id": "nKiGc9sRV7VG"
      },
      "source": [
        "#selecting features intelligently before fitting into model(if you fit corr values yu will get very low training error but \n",
        "#very high testing data)\n",
        "threshold=0.50\n",
        "corr_value=getcorrfeature(corrmat['price'],threshold))\n",
        "corr value"
      ],
      "execution_count": null,
      "outputs": []
    },
    {
      "cell_type": "code",
      "metadata": {
        "id": "7F1L9TAPoz9a"
      },
      "source": [
        "corr_value.index.value"
      ],
      "execution_count": null,
      "outputs": []
    },
    {
      "cell_type": "code",
      "metadata": {
        "id": "BZCqy1Rhoz6c"
      },
      "source": [
        "correlated_data=data(corr_value.index)\n",
        "correlated_data.head()"
      ],
      "execution_count": null,
      "outputs": []
    },
    {
      "cell_type": "code",
      "metadata": {
        "id": "eehest-6oz2-"
      },
      "source": [
        "#PAIRPLOT AND CORRMAT OF DATA\n",
        "sns.pairbplt(correlated_data)\n",
        "plt.tight_layout()"
      ],
      "execution_count": null,
      "outputs": []
    },
    {
      "cell_type": "code",
      "metadata": {
        "id": "WofTfFOKoz0A"
      },
      "source": [
        "# heatmap of corr data\n",
        "sns.heatmap(correlated_data.corr(),annot=True,annot_kws=('size':12))"
      ],
      "execution_count": null,
      "outputs": []
    },
    {
      "cell_type": "code",
      "metadata": {
        "id": "PbhkKPKvqqMM"
      },
      "source": [
        "X=correlated_data.drop(labels=['price'],axis=1)\n",
        "Y=correlated_data['price']\n",
        "X.head"
      ],
      "execution_count": null,
      "outputs": []
    },
    {
      "cell_type": "code",
      "metadata": {
        "id": "jG2UCTLmqqPW"
      },
      "source": [
        "X_train,Xtest,y_train,y_test=train_test_split(X,y,test_size=0.2,random_state=0)"
      ],
      "execution_count": null,
      "outputs": []
    },
    {
      "cell_type": "code",
      "metadata": {
        "id": "9-AiMMTSqqR1"
      },
      "source": [
        "X_train.shape,X_test.shape"
      ],
      "execution_count": null,
      "outputs": []
    },
    {
      "cell_type": "code",
      "metadata": {
        "id": "ht9NOys0qqTt"
      },
      "source": [
        "# training our modell\n",
        "model=linearRegression()\n",
        "# fitt our model\n",
        "model.fit(Xtrain,Y_train)"
      ],
      "execution_count": null,
      "outputs": []
    },
    {
      "cell_type": "code",
      "metadata": {
        "id": "QqpT6Y11qqV5"
      },
      "source": [
        "y_predict=model.predict(X_test)"
      ],
      "execution_count": null,
      "outputs": []
    },
    {
      "cell_type": "code",
      "metadata": {
        "id": "eHWMyKIQqqYZ"
      },
      "source": [
        "#compare y_predict,y_test\n",
        "y_predict,y_test"
      ],
      "execution_count": null,
      "outputs": []
    },
    {
      "cell_type": "code",
      "metadata": {
        "id": "Yw8a26rDqqau"
      },
      "source": [
        "df=pd.DataFrame(data=[y_predict,y_test])\n",
        "df.T # transpose answer"
      ],
      "execution_count": null,
      "outputs": []
    },
    {
      "cell_type": "code",
      "metadata": {
        "id": "q1sDoZ6vqqdS"
      },
      "source": [
        "#Defining perfomance metrics with the help of r2 r squared\n",
        "# r2 is low or close to zero thats a bad model,r2 =1,thats a very good model"
      ],
      "execution_count": null,
      "outputs": []
    },
    {
      "cell_type": "code",
      "metadata": {
        "id": "f8F-8b3xqqfc"
      },
      "source": [
        "#regression evaluation mtrix\n",
        "#MAE,MSE,RMSE"
      ],
      "execution_count": null,
      "outputs": []
    },
    {
      "cell_type": "code",
      "metadata": {
        "id": "pv73H-z-qqhk"
      },
      "source": [
        "from sklearn.mertric import r2_score\n",
        "score=r2_score(y_test,y_predict)\n",
        "mae=mean_absolute_error(y_test,y_predict)\n",
        "rmse=mean_squared_error(y_test,y_predict)\n",
        "\n",
        "print('r_score',score)\n",
        "print('mae':,mae)"
      ],
      "execution_count": null,
      "outputs": []
    },
    {
      "cell_type": "markdown",
      "metadata": {
        "id": "OfwuxrUVqpTN"
      },
      "source": [
        "### <font color=\"green\">Challenge 2</font>"
      ]
    },
    {
      "cell_type": "code",
      "metadata": {
        "id": "4C_RP2J-qe8P"
      },
      "source": [
        "# Challenge 2\n",
        "# ---\n",
        "# Question: Using the Ames Housing dataset, create a regression model to predict the sales price of home \n",
        "# applying elastic net regression.\n",
        "# ---\n",
        "# Dataset Source = http://bit.ly/HousePricesDataset\n",
        "# \n",
        "OUR CODE GOES HERE"
      ],
      "execution_count": null,
      "outputs": []
    },
    {
      "cell_type": "markdown",
      "metadata": {
        "id": "FIDC997cqqjr"
      },
      "source": [
        "### <font color=\"green\">Challenge 3</font>"
      ]
    },
    {
      "cell_type": "code",
      "metadata": {
        "id": "GAhV5q8sqgPO"
      },
      "source": [
        "# Challenge 3\n",
        "# ---\n",
        "# Question: Given the medical cost personal dataset, accurately predict insurance cost using a regression model.\n",
        "# ---\n",
        "# Dataset Source = http://bit.ly/https://bit.ly/insurance-_dataset\n",
        "# \n",
        "OUR CODE GOES HERE"
      ],
      "execution_count": null,
      "outputs": []
    },
    {
      "cell_type": "markdown",
      "metadata": {
        "id": "UWfQDCKZOrYe"
      },
      "source": [
        "### <font color=\"green\">Challenge 4</font>"
      ]
    },
    {
      "cell_type": "code",
      "metadata": {
        "id": "X-2u85NiOwlX"
      },
      "source": [
        "# Challenge 4\n",
        "# ---\n",
        "# Question: Use ElasticNet regression to build a model that is able to accurately predict the profits of a startup.\n",
        "# ---\n",
        "# Dataset Source = http://bit.ly/StartupsDataset\n",
        "# ---\n",
        "# \n",
        "OUR CODE STARTS HERE"
      ],
      "execution_count": null,
      "outputs": []
    },
    {
      "cell_type": "markdown",
      "metadata": {
        "id": "b6lsTHPfPQHR"
      },
      "source": [
        "### <font color=\"green\">Challenge 5</font>"
      ]
    },
    {
      "cell_type": "code",
      "metadata": {
        "id": "go19Edy7PXx7"
      },
      "source": [
        "# Challenge 5\n",
        "# ---\n",
        "# Question: Build a prediction model to predict duration for any combination of country,operator, \n",
        "# services and category given the genre,language and number of units. \n",
        "# Apply ElasticNet regression while building your model. \n",
        "# ---\n",
        "# Dataset Source = https://bit.ly/Audio_content_consumption\n",
        "# ---\n",
        "# \n",
        "OUR CODE STARTS HERE"
      ],
      "execution_count": null,
      "outputs": []
    }
  ]
}