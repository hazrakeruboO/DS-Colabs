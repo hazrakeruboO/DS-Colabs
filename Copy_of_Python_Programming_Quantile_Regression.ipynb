{
  "nbformat": 4,
  "nbformat_minor": 0,
  "metadata": {
    "colab": {
      "name": "Copy of Python Programming: Quantile Regression",
      "provenance": [],
      "collapsed_sections": [
        "BcDf24f1UrL-",
        "lzkfunpKNXt9",
        "aQHwQ96zNZlL",
        "Q2QHClUXNa-P"
      ],
      "toc_visible": true,
      "include_colab_link": true
    },
    "kernelspec": {
      "name": "python3",
      "display_name": "Python 3"
    }
  },
  "cells": [
    {
      "cell_type": "markdown",
      "metadata": {
        "id": "view-in-github",
        "colab_type": "text"
      },
      "source": [
        "<a href=\"https://colab.research.google.com/github/hazrakeruboO/DS-Colabs/blob/main/Copy_of_Python_Programming_Quantile_Regression.ipynb\" target=\"_parent\"><img src=\"https://colab.research.google.com/assets/colab-badge.svg\" alt=\"Open In Colab\"/></a>"
      ]
    },
    {
      "cell_type": "markdown",
      "metadata": {
        "id": "WHZ_wPykNS8b"
      },
      "source": [
        "# Python Programming: Quantile Regression"
      ]
    },
    {
      "cell_type": "markdown",
      "metadata": {
        "id": "-ErMe12dSTP6"
      },
      "source": [
        "As we have seen, linear regression models make a key assumption about the random error term in the linear model. The assumption is that the error term has a constant variance across the values of independent variable X. However, when the assumption is no longer true, we use quantile regression. The following example will help us understand how we can use quantile regression while working on such a problem."
      ]
    },
    {
      "cell_type": "markdown",
      "metadata": {
        "id": "BcDf24f1UrL-"
      },
      "source": [
        "## Example: Quantile Regression"
      ]
    },
    {
      "cell_type": "code",
      "metadata": {
        "id": "-b0k35AwUsqt"
      },
      "source": [
        "# Importing the required libraries\n",
        "# \n",
        "import numpy as np \n",
        "import matplotlib.pyplot as plt "
      ],
      "execution_count": 1,
      "outputs": []
    },
    {
      "cell_type": "code",
      "metadata": {
        "id": "d2rPspq1VToj",
        "colab": {
          "base_uri": "https://localhost:8080/",
          "height": 312
        },
        "outputId": "b3dda0c7-8269-412f-bfb9-423f72acaac6"
      },
      "source": [
        "## Generating some data with constant variance /noise\n",
        "# This is the assumption of linear regression\n",
        "# \n",
        "x = np.arange(100).reshape(100,1)\n",
        "intercept_ = 6\n",
        "slope_ = 0.1\n",
        "\n",
        "## non constant error\n",
        "error_ = np.random.normal(size = (100,1), loc = 0.0, scale = 1)\n",
        "\n",
        "## Regression equation\n",
        "y = intercept_ + slope_ * x + error_\n",
        "\n",
        "plt.figure(1)\n",
        "plt.scatter(x, y)\n",
        "plt.xlabel(\"x\")\n",
        "plt.ylabel(\"y\")\n",
        "plt.title(\"Data with constant variance\")\n",
        "\n",
        "# When we move from left to right along the x-axis, \n",
        "# we won’t see a lot of variation in the values of y. \n",
        "# An linear regression would be the ideal candidate \n",
        "# here to model the data."
      ],
      "execution_count": null,
      "outputs": [
        {
          "output_type": "execute_result",
          "data": {
            "text/plain": [
              "Text(0.5, 1.0, 'Data with constant variance')"
            ]
          },
          "metadata": {
            "tags": []
          },
          "execution_count": 2
        },
        {
          "output_type": "display_data",
          "data": {
            "image/png": "[encoded data removed]",
            "text/plain": [
              "<Figure size 432x288 with 1 Axes>"
            ]
          },
          "metadata": {
            "tags": []
          }
        }
      ]
    },
    {
      "cell_type": "code",
      "metadata": {
        "id": "-5tnAc82VZm5",
        "colab": {
          "base_uri": "https://localhost:8080/",
          "height": 51
        },
        "outputId": "36d92d91-bd19-4a20-9e4d-41eb4d8711c5"
      },
      "source": [
        "## Creating a linear regression model regression on the above dataset\n",
        "#\n",
        "from sklearn.linear_model import LinearRegression\n",
        "\n",
        "model1 = LinearRegression(fit_intercept = True, normalize = False)\n",
        "model1.fit(x, y)\n",
        "\n",
        "y_pred1 = model1.predict(x)\n",
        "\n",
        "print(\"Mean squared error: {0:.2f}\"\n",
        "      .format(np.mean((y_pred1 - y) ** 2)))\n",
        "print('Variance score: {0:.2f}'.format(model1.score(x, y)))\n"
      ],
      "execution_count": null,
      "outputs": [
        {
          "output_type": "stream",
          "text": [
            "Mean squared error: 1.11\n",
            "Variance score: 0.88\n"
          ],
          "name": "stdout"
        }
      ]
    },
    {
      "cell_type": "code",
      "metadata": {
        "id": "Ijz5Y55TWnTJ",
        "colab": {
          "base_uri": "https://localhost:8080/",
          "height": 295
        },
        "outputId": "0d238247-8ff9-4420-8e0c-a48460615331"
      },
      "source": [
        "## Plotting the regression\n",
        "plt.figure(2)\n",
        "plt.scatter(x, y,  color='black')\n",
        "plt.plot(x, y_pred1, color='blue',\n",
        "         linewidth=3)\n",
        "\n",
        "plt.xticks(())\n",
        "plt.yticks(())\n",
        "plt.xlabel(\"x\")\n",
        "plt.ylabel(\"y and predicted y\")\n",
        "plt.title(\"Linear regression\")\n",
        "\n",
        "# This will lead to us having modeled our data well on our dataset.\n",
        "# Our variance score of 0.88 is close to 1 which usually is when\n",
        "# we model our data perfectly. \n",
        "# NB: our variance score will vary based on the randomly generated values above"
      ],
      "execution_count": null,
      "outputs": [
        {
          "output_type": "execute_result",
          "data": {
            "text/plain": [
              "Text(0.5, 1.0, 'Linear regression')"
            ]
          },
          "metadata": {
            "tags": []
          },
          "execution_count": 8
        },
        {
          "output_type": "display_data",
          "data": {
            "image/png": "[encoded data removed]",
            "text/plain": [
              "<Figure size 432x288 with 1 Axes>"
            ]
          },
          "metadata": {
            "tags": []
          }
        }
      ]
    },
    {
      "cell_type": "code",
      "metadata": {
        "id": "PiPAlrzKVgUz",
        "colab": {
          "base_uri": "https://localhost:8080/",
          "height": 312
        },
        "outputId": "f1d461d1-05f5-4996-9807-a5b1434819c6"
      },
      "source": [
        "## Now let get to work with some data that violates \n",
        "# our linear regression assumption. This means first \n",
        "# adding some noise to our dataset. \n",
        "# We will first generating some data with non-constant variance\n",
        "# \n",
        "x_ = np.arange(100).reshape(100,1)\n",
        "intercept_ = 6\n",
        "slope_ = 0.1\n",
        "\n",
        "## Non constant variance\n",
        "var_ = 0.1 + 0.05 * x_\n",
        "\n",
        "## non constant error\n",
        "error_ = np.random.normal(size = (100,1), loc = 0.0, scale = var_)\n",
        "\n",
        "## Linear egression equation\n",
        "y_ = intercept_ + slope_ * x + error_\n",
        "\n",
        "plt.figure(3)\n",
        "plt.scatter(x_, y_)\n",
        "plt.xlabel(\"x\")\n",
        "plt.ylabel(\"y\")\n",
        "plt.title(\"Data with non-constant variance\")\n",
        "\n",
        "# From our graph, we will get to see that a phenomenon\n",
        "# where the variability of y is unequal across the range \n",
        "# of values of x is called as Heteroscedasticity. \n",
        "# As it will be seen in the plot it takes the shape of a cone. \n",
        "# The y variable widens as the value of x increases."
      ],
      "execution_count": null,
      "outputs": [
        {
          "output_type": "execute_result",
          "data": {
            "text/plain": [
              "Text(0.5, 1.0, 'Data with non-constant variance')"
            ]
          },
          "metadata": {
            "tags": []
          },
          "execution_count": 9
        },
        {
          "output_type": "display_data",
          "data": {
            "image/png": "[encoded data removed]",
            "text/plain": [
              "<Figure size 432x288 with 1 Axes>"
            ]
          },
          "metadata": {
            "tags": []
          }
        }
      ]
    },
    {
      "cell_type": "code",
      "metadata": {
        "id": "AuWvBT5aVsRn",
        "colab": {
          "base_uri": "https://localhost:8080/",
          "height": 51
        },
        "outputId": "9c5bea8a-5def-40a7-dad2-fc7c375c983c"
      },
      "source": [
        "## Let's now trying to fit a linear regression\n",
        "# \n",
        "model2 = LinearRegression(fit_intercept = True, normalize = False)\n",
        "model2.fit(x_, y_)\n",
        "\n",
        "y_pred2 = model2.predict(x_)\n",
        "\n",
        "print\n",
        "print(\"Mean squared error: {0:.2f}\"\n",
        "      .format(np.mean((y_pred2 - y_) ** 2)))\n",
        "print('Variance score: {0:.2f}'.format(model1.score(x_, y_)))\n",
        "\n",
        "# With a low variance score of 0.51, it means that our linear regression \n",
        "# did not do a good job. "
      ],
      "execution_count": null,
      "outputs": [
        {
          "output_type": "stream",
          "text": [
            "Mean squared error: 8.84\n",
            "Variance score: 0.51\n"
          ],
          "name": "stdout"
        }
      ]
    },
    {
      "cell_type": "code",
      "metadata": {
        "id": "qWScml7qV2zN",
        "colab": {
          "base_uri": "https://localhost:8080/",
          "height": 295
        },
        "outputId": "8cae2c63-2a23-4095-bf5e-6ec0f8794198"
      },
      "source": [
        "## We can also see this by plotting the regression below\n",
        "#\n",
        "plt.figure(4)\n",
        "plt.scatter(x_, y_,  color='black')\n",
        "plt.plot(x_, y_pred2, color='blue',\n",
        "         linewidth=3)\n",
        "\n",
        "plt.xticks(())\n",
        "plt.yticks(())\n",
        "plt.xlabel(\"x\")\n",
        "plt.ylabel(\"y and predicted y\")\n",
        "plt.title(\"Linear regression on data with non-constant variance\")\n",
        "\n",
        "# We will get to observe that our line of best fit is far from perfect"
      ],
      "execution_count": null,
      "outputs": [
        {
          "output_type": "execute_result",
          "data": {
            "text/plain": [
              "Text(0.5, 1.0, 'Linear regression on data with non-constant variance')"
            ]
          },
          "metadata": {
            "tags": []
          },
          "execution_count": 11
        },
        {
          "output_type": "display_data",
          "data": {
            "image/png": "[encoded data removed]",
            "text/plain": [
              "<Figure size 432x288 with 1 Axes>"
            ]
          },
          "metadata": {
            "tags": []
          }
        }
      ]
    },
    {
      "cell_type": "code",
      "metadata": {
        "id": "tdT2DaUSV9s7",
        "colab": {
          "base_uri": "https://localhost:8080/",
          "height": 204
        },
        "outputId": "129231f4-92fb-4391-c00c-0d5f5a4afff1"
      },
      "source": [
        "## Now implementing quantile regression for the median, 0.5th quantile\n",
        "#\n",
        "\n",
        "# We import the required libraries\n",
        "#  \n",
        "import pandas as pd \n",
        "\n",
        "# We take the data into a pandas dataframe so that \n",
        "# its easier for us to work with statsmodel interfaces. \n",
        "# Our dataframe data has two columns, ‘x’ and ‘y’\n",
        "#\n",
        "data = pd.DataFrame(data = np.hstack([x_, y_]), columns = [\"x\", \"y\"])\n",
        "data.head()"
      ],
      "execution_count": null,
      "outputs": [
        {
          "output_type": "execute_result",
          "data": {
            "text/html": [
              "<div>\n",
              "<style scoped>\n",
              "    .dataframe tbody tr th:only-of-type {\n",
              "        vertical-align: middle;\n",
              "    }\n",
              "\n",
              "    .dataframe tbody tr th {\n",
              "        vertical-align: top;\n",
              "    }\n",
              "\n",
              "    .dataframe thead th {\n",
              "        text-align: right;\n",
              "    }\n",
              "</style>\n",
              "<table border=\"1\" class=\"dataframe\">\n",
              "  <thead>\n",
              "    <tr style=\"text-align: right;\">\n",
              "      <th></th>\n",
              "      <th>x</th>\n",
              "      <th>y</th>\n",
              "    </tr>\n",
              "  </thead>\n",
              "  <tbody>\n",
              "    <tr>\n",
              "      <th>0</th>\n",
              "      <td>0.0</td>\n",
              "      <td>5.906982</td>\n",
              "    </tr>\n",
              "    <tr>\n",
              "      <th>1</th>\n",
              "      <td>1.0</td>\n",
              "      <td>6.195312</td>\n",
              "    </tr>\n",
              "    <tr>\n",
              "      <th>2</th>\n",
              "      <td>2.0</td>\n",
              "      <td>6.295789</td>\n",
              "    </tr>\n",
              "    <tr>\n",
              "      <th>3</th>\n",
              "      <td>3.0</td>\n",
              "      <td>5.932901</td>\n",
              "    </tr>\n",
              "    <tr>\n",
              "      <th>4</th>\n",
              "      <td>4.0</td>\n",
              "      <td>6.301585</td>\n",
              "    </tr>\n",
              "  </tbody>\n",
              "</table>\n",
              "</div>"
            ],
            "text/plain": [
              "     x         y\n",
              "0  0.0  5.906982\n",
              "1  1.0  6.195312\n",
              "2  2.0  6.295789\n",
              "3  3.0  5.932901\n",
              "4  4.0  6.301585"
            ]
          },
          "metadata": {
            "tags": []
          },
          "execution_count": 19
        }
      ]
    },
    {
      "cell_type": "code",
      "metadata": {
        "id": "xRAZMtNHhv13",
        "colab": {
          "base_uri": "https://localhost:8080/",
          "height": 255
        },
        "outputId": "3d251a7c-194c-4d8f-e669-45adaeb68339"
      },
      "source": [
        "# We will use the python package statsmodels for Quantile Regression\n",
        "#\n",
        "import statsmodels.formula.api as smf\n",
        "\n",
        "# Finding the regression coefficients for the conditioned median, 0.5 quantile\n",
        "#\n",
        "mod = smf.quantreg('y ~ x', data)\n",
        "res = mod.fit(q=.5)\n",
        "\n",
        "# Then print out the summary of our model\n",
        "#\n",
        "print(res.summary())\n",
        "\n",
        "# You see that our intercept is 6.0978 and our slope or the coefficient for our x is 0.0976. \n",
        "# These are the parameters for the 0.5th quantile of our y. "
      ],
      "execution_count": null,
      "outputs": [
        {
          "output_type": "stream",
          "text": [
            "                         QuantReg Regression Results                          \n",
            "==============================================================================\n",
            "Dep. Variable:                      y   Pseudo R-squared:               0.3683\n",
            "Model:                       QuantReg   Bandwidth:                       2.111\n",
            "Method:                 Least Squares   Sparsity:                        5.618\n",
            "Date:                Fri, 13 Dec 2019   No. Observations:                  100\n",
            "Time:                        13:53:50   Df Residuals:                       98\n",
            "                                        Df Model:                            1\n",
            "==============================================================================\n",
            "                 coef    std err          t      P>|t|      [0.025      0.975]\n",
            "------------------------------------------------------------------------------\n",
            "Intercept      6.0978      0.558     10.935      0.000       4.991       7.204\n",
            "x              0.0976      0.010     10.025      0.000       0.078       0.117\n",
            "==============================================================================\n"
          ],
          "name": "stdout"
        }
      ]
    },
    {
      "cell_type": "code",
      "metadata": {
        "id": "S5P4AV3LWCdn",
        "colab": {
          "base_uri": "https://localhost:8080/",
          "height": 187
        },
        "outputId": "0b4d1e27-d75f-44dc-8caf-e47d88610e27"
      },
      "source": [
        "## Similarly we can do the models for other quantiles\n",
        "# \n",
        "quantiles = np.arange(0.1,1,0.1) \n",
        "models = []\n",
        "params = []\n",
        "\n",
        "# We build models for each quantile in our list quantiles inside a for loop\n",
        "# As we build these models we also store the model parameters in a list called params. \n",
        "for qt in quantiles: \n",
        "\tres = mod.fit(q = qt )\n",
        "\tmodels.append(res)\n",
        "\tparams.append([qt, res.params['Intercept'], res.params['x']] + res.conf_int().loc['x'].tolist())\n",
        "\n",
        "# Lastly we make a dataframe of the same name, so we we can view our different models.\n",
        "params = pd.DataFrame(data = params, columns = ['qt', 'intercept', 'x_coef', 'cf_lower_bound', 'cf_upper_bound'])\n",
        "print(params)"
      ],
      "execution_count": null,
      "outputs": [
        {
          "output_type": "stream",
          "text": [
            "    qt  intercept    x_coef  cf_lower_bound  cf_upper_bound\n",
            "0  0.1   5.790068  0.047611        0.028614        0.066609\n",
            "1  0.2   5.801051  0.059795        0.039854        0.079737\n",
            "2  0.3   5.906983  0.073133        0.053214        0.093052\n",
            "3  0.4   5.958386  0.085800        0.065101        0.106498\n",
            "4  0.5   6.097751  0.097558        0.078245        0.116870\n",
            "5  0.6   6.078302  0.117009        0.098603        0.135415\n",
            "6  0.7   6.067416  0.127887        0.108945        0.146829\n",
            "7  0.8   6.058626  0.136685        0.117002        0.156369\n",
            "8  0.9   5.959972  0.167909        0.142319        0.193499\n"
          ],
          "name": "stdout"
        }
      ]
    },
    {
      "cell_type": "code",
      "metadata": {
        "id": "7e-ZymahWFq1",
        "colab": {
          "base_uri": "https://localhost:8080/",
          "height": 295
        },
        "outputId": "1e037cff-e5ec-4840-d936-0f804aeb42c2"
      },
      "source": [
        "## Let us now plot 0.1th, 0.5th and 0.9th quantile models against our original data.\n",
        "# \n",
        "plt.figure(5)\n",
        "plt.scatter(x_, y_,  color='black')\n",
        "plt.plot(x_, y_pred2, color='blue',\n",
        "         linewidth=3, label='Lin Reg')\n",
        "\n",
        "y_pred3 = models[0].params['Intercept'] + models[0].params['x'] * x_\n",
        "plt.plot(x_, y_pred3, color='red',\n",
        "         linewidth=3, label='Q Reg : 0.1')\n",
        "\n",
        "y_pred4 = models[4].params['Intercept'] + models[4].params['x'] * x_\n",
        "plt.plot(x_, y_pred4, color='green',\n",
        "         linewidth=3, label='Q Reg : 0.5')\n",
        "\n",
        "\n",
        "y_pred5 = models[8].params['Intercept'] + models[8].params['x'] * x_\n",
        "plt.plot(x_, y_pred5, color='cyan',\n",
        "         linewidth=3, label='Q Reg : 0.9')\n",
        "\n",
        "plt.xticks(())\n",
        "plt.yticks(())\n",
        "plt.xlabel(\"x\")\n",
        "plt.ylabel(\"y and predicted y\")\n",
        "plt.title(\"Quantile regression on data with non-constant variance\")\n",
        "plt.legend()\n",
        "\n",
        "# Linear regression is plotted with the blue colored line. \n",
        "# We can compare that model with other quantile models."
      ],
      "execution_count": null,
      "outputs": [
        {
          "output_type": "execute_result",
          "data": {
            "text/plain": [
              "<matplotlib.legend.Legend at 0x7fab67e6f400>"
            ]
          },
          "metadata": {
            "tags": []
          },
          "execution_count": 31
        },
        {
          "output_type": "display_data",
          "data": {
            "image/png": "[encoded data removed]",
            "text/plain": [
              "<Figure size 432x288 with 1 Axes>"
            ]
          },
          "metadata": {
            "tags": []
          }
        }
      ]
    },
    {
      "cell_type": "code",
      "metadata": {
        "id": "widCFKRRWKM-",
        "colab": {
          "base_uri": "https://localhost:8080/",
          "height": 312
        },
        "outputId": "07dde981-63de-48a1-9721-d5780869bda4"
      },
      "source": [
        "## Plot the changes in the quantile coeffiecients\n",
        "# \n",
        "plt.figure(6)\n",
        "params.plot(x = 'qt', y = ['x_coef','cf_lower_bound', 'cf_upper_bound'], \n",
        "\ttitle = 'Slope for different quantiles', kind ='line', style = ['b-','r--','g--']\n",
        "plt.show()\n",
        "\n",
        "# We would be able to see how the slope value varies for different quantiles. \n",
        "# Compared with linear regression which is flat across all the quantiles, \n",
        "# Quantile Regression allows us to investigate into the different areas of the data \n",
        "# and model them appropriately."
      ],
      "execution_count": null,
      "outputs": [
        {
          "output_type": "display_data",
          "data": {
            "text/plain": [
              "<Figure size 432x288 with 0 Axes>"
            ]
          },
          "metadata": {
            "tags": []
          }
        },
        {
          "output_type": "display_data",
          "data": {
            "image/png": "[encoded data removed]",
            "text/plain": [
              "<Figure size 432x288 with 1 Axes>"
            ]
          },
          "metadata": {
            "tags": []
          }
        }
      ]
    },
    {
      "cell_type": "markdown",
      "metadata": {
        "id": "lzkfunpKNXt9"
      },
      "source": [
        "## <font color=\"green\">Challenge 1</font>"
      ]
    },
    {
      "cell_type": "code",
      "metadata": {
        "id": "W6EUAQ3SNgYF"
      },
      "source": [
        "# Challenge 1\n",
        "# ---\n",
        "# Question: Study the factors that influence total medical expenditures for people with low-, medium-, and high- expenditures.\n",
        "# ---\n",
        "# Dataset url = http://bit.ly/QuantileHealthDataset\n",
        "# ---\n",
        "# Info:\n",
        "# Data are from the Medical Expenditure Panel Survey (MEPS)\n",
        "# Dependent variable: total medical expenditures\n",
        "# Independent variables: has supplemental insurance, total number of chronic conditions, age, female, and white\n",
        "# \n",
        "OUR CODE GOES HERE"
      ],
      "execution_count": null,
      "outputs": []
    },
    {
      "cell_type": "markdown",
      "metadata": {
        "id": "aQHwQ96zNZlL"
      },
      "source": [
        "## <font color=\"green\">Challenge 2"
      ]
    },
    {
      "cell_type": "code",
      "metadata": {
        "id": "pIRcWXfCNhyp"
      },
      "source": [
        "# Challenge 2\n",
        "# ---\n",
        "# Question: Given the household income data, determine the effect of predictor variables on the independent variable.\n",
        "# ---\n",
        "# Dataset source = http://bit.ly/USHouseholdDataset\n",
        "# ---\n",
        "# \n",
        "OUR CODE GOES HERE"
      ],
      "execution_count": null,
      "outputs": []
    },
    {
      "cell_type": "markdown",
      "metadata": {
        "id": "Q2QHClUXNa-P"
      },
      "source": [
        "## <font color=\"green\">Challenge 3</font>"
      ]
    },
    {
      "cell_type": "code",
      "metadata": {
        "id": "de_EsL_WNjJS"
      },
      "source": [
        "# Challenge 3\n",
        "# ---\n",
        "# Question: Create a regression model on the following dataset.\n",
        "# ---\n",
        "# Dataset url = http://bit.ly/MtCarsDataset\n",
        "# ---\n",
        "# "
      ],
      "execution_count": null,
      "outputs": []
    }
  ]
}